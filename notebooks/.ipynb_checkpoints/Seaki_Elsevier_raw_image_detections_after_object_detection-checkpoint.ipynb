{
 "cells": [
  {
   "cell_type": "code",
   "execution_count": 1,
   "metadata": {},
   "outputs": [
    {
     "name": "stderr",
     "output_type": "stream",
     "text": [
      "RDKit WARNING: [03:50:38] Enabling RDKit 2019.09.3 jupyter extensions\n"
     ]
    }
   ],
   "source": [
    "import os\n",
    "import cv2\n",
    "import json\n",
    "import chemschematicresolver as csr\n",
    "from matplotlib import pyplot as plt\n",
    "from skimage import io\n",
    "from rdkit import Chem\n",
    "from rdkit.Chem.Draw import IPythonConsole\n",
    "from rdkit.Chem import Draw\n",
    "IPythonConsole.molSize = 500,500\n",
    "plt.rcParams[\"figure.figsize\"] = (8,8)"
   ]
  },
  {
   "cell_type": "code",
   "execution_count": 2,
   "metadata": {},
   "outputs": [],
   "source": [
    "from cv2 import dnn_superres\n",
    "model_folder = '../../FSRCNN_Tensorflow/models/'\n",
    "model_path = model_folder + 'FSRCNN_x4.pb'\n",
    "# Set the desired model and scale to get correct pre- and post-processing\n",
    "sr = dnn_superres.DnnSuperResImpl_create()\n",
    "sr.readModel(model_path)\n",
    "sr.setModel(\"fsrcnn\", 4)"
   ]
  },
  {
   "cell_type": "code",
   "execution_count": 3,
   "metadata": {},
   "outputs": [],
   "source": [
    "molecules_dir = './elsevier_images/cropped_molecules/train/'\n",
    "\n",
    "croped_image_from_train = []\n",
    "\n",
    "for file in os.listdir(molecules_dir):\n",
    "    if file.endswith(\".png\"):\n",
    "        croped_image_from_train.append(os.path.join(molecules_dir, file))"
   ]
  },
  {
   "cell_type": "code",
   "execution_count": 4,
   "metadata": {},
   "outputs": [
    {
     "data": {
      "text/plain": [
       "137"
      ]
     },
     "execution_count": 4,
     "metadata": {},
     "output_type": "execute_result"
    }
   ],
   "source": [
    "len(croped_image_from_train)"
   ]
  },
  {
   "cell_type": "code",
   "execution_count": 5,
   "metadata": {},
   "outputs": [
    {
     "name": "stdout",
     "output_type": "stream",
     "text": [
      "extract image:  ./elsevier_images/cropped_molecules/train/114_fx1_molecule_0.png\n"
     ]
    },
    {
     "name": "stderr",
     "output_type": "stream",
     "text": [
      "WARNING:chemschematicresolver.extract:Confidence of label 0 deemed too low for extraction\n"
     ]
    },
    {
     "name": "stdout",
     "output_type": "stream",
     "text": [
      "extract image:  ./elsevier_images/cropped_molecules/train/114_fx1_molecule_1.png\n"
     ]
    },
    {
     "name": "stderr",
     "output_type": "stream",
     "text": [
      "WARNING:chemschematicresolver.extract:Confidence of label 0 deemed too low for extraction\n"
     ]
    },
    {
     "name": "stdout",
     "output_type": "stream",
     "text": [
      "extract image:  ./elsevier_images/cropped_molecules/train/114_gr1_molecule_0.png\n"
     ]
    },
    {
     "name": "stderr",
     "output_type": "stream",
     "text": [
      "WARNING:chemschematicresolver.extract:Confidence of label 0 deemed too low for extraction\n"
     ]
    },
    {
     "name": "stdout",
     "output_type": "stream",
     "text": [
      "extract image:  ./elsevier_images/cropped_molecules/train/114_gr1_molecule_1.png\n"
     ]
    },
    {
     "name": "stderr",
     "output_type": "stream",
     "text": [
      "WARNING:chemschematicresolver.extract:Confidence of label 0 deemed too low for extraction\n",
      "WARNING:chemschematicresolver.extract:Confidence of label 0 deemed too low for extraction\n"
     ]
    },
    {
     "name": "stdout",
     "output_type": "stream",
     "text": [
      "extract image:  ./elsevier_images/cropped_molecules/train/114_sc1_molecule_0.png\n",
      "extract image:  ./elsevier_images/cropped_molecules/train/114_sc1_molecule_1.png\n"
     ]
    },
    {
     "name": "stderr",
     "output_type": "stream",
     "text": [
      "WARNING:chemschematicresolver.extract:Text could not be resolved from label 0\n",
      "WARNING:chemschematicresolver.extract:Confidence of label 0 deemed too low for extraction\n"
     ]
    },
    {
     "name": "stdout",
     "output_type": "stream",
     "text": [
      "Runtime error, no smiles\n",
      "extract image:  ./elsevier_images/cropped_molecules/train/114_sc1_molecule_2.png\n",
      "Runtime error, no smiles\n",
      "extract image:  ./elsevier_images/cropped_molecules/train/114_sc1_molecule_3.png\n",
      "Runtime error, no smiles\n",
      "extract image:  ./elsevier_images/cropped_molecules/train/114_sc1_molecule_4.png\n",
      "extract image:  ./elsevier_images/cropped_molecules/train/127_fx1_molecule_0.png\n"
     ]
    },
    {
     "name": "stderr",
     "output_type": "stream",
     "text": [
      "WARNING:chemschematicresolver.extract:Confidence of label 0 deemed too low for extraction\n",
      "WARNING:chemschematicresolver.extract:Confidence of label 1 deemed too low for extraction\n"
     ]
    },
    {
     "name": "stdout",
     "output_type": "stream",
     "text": [
      "extract image:  ./elsevier_images/cropped_molecules/train/127_fx1_molecule_1.png\n",
      "extract image:  ./elsevier_images/cropped_molecules/train/127_fx1_molecule_2.png\n"
     ]
    },
    {
     "name": "stderr",
     "output_type": "stream",
     "text": [
      "WARNING:chemschematicresolver.extract:Confidence of label 1 deemed too low for extraction\n",
      "WARNING:chemschematicresolver.extract:Confidence of label 1 deemed too low for extraction\n"
     ]
    },
    {
     "name": "stdout",
     "output_type": "stream",
     "text": [
      "extract image:  ./elsevier_images/cropped_molecules/train/127_fx1_molecule_3.png\n",
      "extract image:  ./elsevier_images/cropped_molecules/train/135_gr10_molecule_0.png\n",
      "extract image:  ./elsevier_images/cropped_molecules/train/135_gr10_molecule_1.png\n",
      "Runtime error, no smiles\n",
      "extract image:  ./elsevier_images/cropped_molecules/train/135_gr10_molecule_2.png\n",
      "Runtime error, no smiles\n",
      "extract image:  ./elsevier_images/cropped_molecules/train/135_gr10_molecule_3.png\n",
      "extract image:  ./elsevier_images/cropped_molecules/train/135_gr10_molecule_4.png\n",
      "extract image:  ./elsevier_images/cropped_molecules/train/135_gr9_molecule_0.png\n",
      "extract image:  ./elsevier_images/cropped_molecules/train/135_gr9_molecule_1.png\n"
     ]
    },
    {
     "name": "stderr",
     "output_type": "stream",
     "text": [
      "WARNING:chemschematicresolver.actions:No SMILES string was extracted for diagram 1\n",
      "WARNING:chemschematicresolver.extract:Some SMILES strings were determined to be false positives and were removed from the output.\n"
     ]
    },
    {
     "name": "stdout",
     "output_type": "stream",
     "text": [
      "extract image:  ./elsevier_images/cropped_molecules/train/135_gr9_molecule_2.png\n"
     ]
    },
    {
     "name": "stderr",
     "output_type": "stream",
     "text": [
      "WARNING:chemschematicresolver.extract:Confidence of label 1 deemed too low for extraction\n",
      "WARNING:chemschematicresolver.extract:Text could not be resolved from label 0\n",
      "WARNING:chemschematicresolver.extract:Confidence of label 0 deemed too low for extraction\n"
     ]
    },
    {
     "name": "stdout",
     "output_type": "stream",
     "text": [
      "extract image:  ./elsevier_images/cropped_molecules/train/135_gr9_molecule_3.png\n",
      "Runtime error, no smiles\n",
      "extract image:  ./elsevier_images/cropped_molecules/train/135_gr9_molecule_4.png\n"
     ]
    },
    {
     "name": "stderr",
     "output_type": "stream",
     "text": [
      "WARNING:chemschematicresolver.extract:Text could not be resolved from label 1\n",
      "WARNING:chemschematicresolver.extract:Confidence of label 1 deemed too low for extraction\n"
     ]
    },
    {
     "name": "stdout",
     "output_type": "stream",
     "text": [
      "extract image:  ./elsevier_images/cropped_molecules/train/135_gr9_molecule_5.png\n"
     ]
    },
    {
     "name": "stderr",
     "output_type": "stream",
     "text": [
      "WARNING:chemschematicresolver.extract:Text could not be resolved from label 0\n",
      "WARNING:chemschematicresolver.extract:Confidence of label 0 deemed too low for extraction\n"
     ]
    },
    {
     "name": "stdout",
     "output_type": "stream",
     "text": [
      "extract image:  ./elsevier_images/cropped_molecules/train/135_gr9_molecule_6.png\n"
     ]
    },
    {
     "name": "stderr",
     "output_type": "stream",
     "text": [
      "WARNING:chemschematicresolver.extract:Confidence of label 0 deemed too low for extraction\n",
      "WARNING:chemschematicresolver.extract:Text could not be resolved from label 0\n",
      "WARNING:chemschematicresolver.extract:Confidence of label 0 deemed too low for extraction\n",
      "WARNING:chemschematicresolver.extract:Text could not be resolved from label 0\n",
      "WARNING:chemschematicresolver.extract:Confidence of label 0 deemed too low for extraction\n"
     ]
    },
    {
     "name": "stdout",
     "output_type": "stream",
     "text": [
      "extract image:  ./elsevier_images/cropped_molecules/train/141_fx1_molecule_0.png\n",
      "Runtime error, no smiles\n",
      "extract image:  ./elsevier_images/cropped_molecules/train/141_fx1_molecule_1.png\n",
      "extract image:  ./elsevier_images/cropped_molecules/train/141_fx1_molecule_2.png\n",
      "extract image:  ./elsevier_images/cropped_molecules/train/141_fx1_molecule_3.png\n"
     ]
    },
    {
     "name": "stderr",
     "output_type": "stream",
     "text": [
      "WARNING:chemschematicresolver.extract:Text could not be resolved from label 0\n",
      "WARNING:chemschematicresolver.extract:Confidence of label 0 deemed too low for extraction\n"
     ]
    },
    {
     "name": "stdout",
     "output_type": "stream",
     "text": [
      "Runtime error, no smiles\n",
      "extract image:  ./elsevier_images/cropped_molecules/train/141_fx1_molecule_4.png\n",
      "extract image:  ./elsevier_images/cropped_molecules/train/141_gr6_molecule_0.png\n",
      "extract image:  ./elsevier_images/cropped_molecules/train/141_gr6_molecule_1.png\n"
     ]
    },
    {
     "name": "stderr",
     "output_type": "stream",
     "text": [
      "WARNING:chemschematicresolver.extract:Confidence of label 1 deemed too low for extraction\n"
     ]
    },
    {
     "name": "stdout",
     "output_type": "stream",
     "text": [
      "extract image:  ./elsevier_images/cropped_molecules/train/141_gr6_molecule_2.png\n"
     ]
    },
    {
     "name": "stderr",
     "output_type": "stream",
     "text": [
      "WARNING:chemschematicresolver.extract:Text could not be resolved from label 0\n",
      "WARNING:chemschematicresolver.extract:Confidence of label 0 deemed too low for extraction\n",
      "WARNING:chemschematicresolver.extract:Text could not be resolved from label 0\n",
      "WARNING:chemschematicresolver.extract:Confidence of label 0 deemed too low for extraction\n",
      "WARNING:chemschematicresolver.extract:Text could not be resolved from label 0\n",
      "WARNING:chemschematicresolver.extract:Confidence of label 0 deemed too low for extraction\n"
     ]
    },
    {
     "name": "stdout",
     "output_type": "stream",
     "text": [
      "extract image:  ./elsevier_images/cropped_molecules/train/141_gr6_molecule_3.png\n",
      "extract image:  ./elsevier_images/cropped_molecules/train/141_gr6_molecule_4.png\n",
      "extract image:  ./elsevier_images/cropped_molecules/train/141_gr6_molecule_5.png\n"
     ]
    },
    {
     "name": "stderr",
     "output_type": "stream",
     "text": [
      "WARNING:chemschematicresolver.extract:Confidence of label 0 deemed too low for extraction\n",
      "WARNING:chemschematicresolver.extract:Confidence of label 0 deemed too low for extraction\n",
      "WARNING:chemschematicresolver.extract:Confidence of label 0 deemed too low for extraction\n"
     ]
    },
    {
     "name": "stdout",
     "output_type": "stream",
     "text": [
      "extract image:  ./elsevier_images/cropped_molecules/train/141_gr7_molecule_0.png\n",
      "extract image:  ./elsevier_images/cropped_molecules/train/141_gr7_molecule_1.png\n",
      "extract image:  ./elsevier_images/cropped_molecules/train/141_gr7_molecule_2.png\n"
     ]
    },
    {
     "name": "stderr",
     "output_type": "stream",
     "text": [
      "WARNING:chemschematicresolver.extract:Text could not be resolved from label 0\n",
      "WARNING:chemschematicresolver.extract:Confidence of label 0 deemed too low for extraction\n",
      "WARNING:chemschematicresolver.extract:Text could not be resolved from label 3\n",
      "WARNING:chemschematicresolver.extract:Confidence of label 3 deemed too low for extraction\n",
      "WARNING:chemschematicresolver.extract:Text could not be resolved from label 1\n",
      "WARNING:chemschematicresolver.extract:Confidence of label 1 deemed too low for extraction\n",
      "WARNING:chemschematicresolver.extract:Text could not be resolved from label 2\n",
      "WARNING:chemschematicresolver.extract:Confidence of label 2 deemed too low for extraction\n"
     ]
    },
    {
     "name": "stdout",
     "output_type": "stream",
     "text": [
      "extract image:  ./elsevier_images/cropped_molecules/train/141_gr7_molecule_3.png\n"
     ]
    },
    {
     "name": "stderr",
     "output_type": "stream",
     "text": [
      "WARNING:chemschematicresolver.extract:Text could not be resolved from label 0\n",
      "WARNING:chemschematicresolver.extract:Confidence of label 0 deemed too low for extraction\n",
      "WARNING:chemschematicresolver.extract:Text could not be resolved from label 1\n",
      "WARNING:chemschematicresolver.extract:Confidence of label 1 deemed too low for extraction\n",
      "WARNING:chemschematicresolver.extract:Confidence of label 0 deemed too low for extraction\n"
     ]
    },
    {
     "name": "stdout",
     "output_type": "stream",
     "text": [
      "extract image:  ./elsevier_images/cropped_molecules/train/141_gr7_molecule_4.png\n",
      "extract image:  ./elsevier_images/cropped_molecules/train/141_gr7_molecule_5.png\n"
     ]
    },
    {
     "name": "stderr",
     "output_type": "stream",
     "text": [
      "WARNING:chemschematicresolver.extract:Confidence of label 1 deemed too low for extraction\n",
      "WARNING:chemschematicresolver.extract:Confidence of label 0 deemed too low for extraction\n",
      "WARNING:chemschematicresolver.extract:Text could not be resolved from label 0\n",
      "WARNING:chemschematicresolver.extract:Confidence of label 0 deemed too low for extraction\n"
     ]
    },
    {
     "name": "stdout",
     "output_type": "stream",
     "text": [
      "extract image:  ./elsevier_images/cropped_molecules/train/141_gr7_molecule_6.png\n",
      "extract image:  ./elsevier_images/cropped_molecules/train/146_sc1_molecule_0.png\n",
      "extract image:  ./elsevier_images/cropped_molecules/train/146_sc1_molecule_1.png\n",
      "Runtime error, no smiles\n",
      "extract image:  ./elsevier_images/cropped_molecules/train/146_sc1_molecule_10.png\n"
     ]
    },
    {
     "name": "stderr",
     "output_type": "stream",
     "text": [
      "WARNING:chemschematicresolver.extract:Confidence of label 2 deemed too low for extraction\n",
      "WARNING:chemschematicresolver.extract:Confidence of label 0 deemed too low for extraction\n"
     ]
    },
    {
     "name": "stdout",
     "output_type": "stream",
     "text": [
      "extract image:  ./elsevier_images/cropped_molecules/train/146_sc1_molecule_11.png\n",
      "extract image:  ./elsevier_images/cropped_molecules/train/146_sc1_molecule_12.png\n"
     ]
    },
    {
     "name": "stderr",
     "output_type": "stream",
     "text": [
      "WARNING:chemschematicresolver.extract:Text could not be resolved from label 0\n",
      "WARNING:chemschematicresolver.extract:Confidence of label 0 deemed too low for extraction\n",
      "WARNING:chemschematicresolver.extract:Text could not be resolved from label 1\n",
      "WARNING:chemschematicresolver.extract:Confidence of label 1 deemed too low for extraction\n",
      "WARNING:chemschematicresolver.extract:Text could not be resolved from label 0\n",
      "WARNING:chemschematicresolver.extract:Confidence of label 0 deemed too low for extraction\n"
     ]
    },
    {
     "name": "stdout",
     "output_type": "stream",
     "text": [
      "extract image:  ./elsevier_images/cropped_molecules/train/146_sc1_molecule_13.png\n",
      "extract image:  ./elsevier_images/cropped_molecules/train/146_sc1_molecule_14.png\n"
     ]
    },
    {
     "name": "stderr",
     "output_type": "stream",
     "text": [
      "WARNING:chemschematicresolver.extract:Confidence of label 3 deemed too low for extraction\n"
     ]
    },
    {
     "name": "stdout",
     "output_type": "stream",
     "text": [
      "extract image:  ./elsevier_images/cropped_molecules/train/146_sc1_molecule_15.png\n"
     ]
    },
    {
     "name": "stderr",
     "output_type": "stream",
     "text": [
      "WARNING:chemschematicresolver.extract:Text could not be resolved from label 0\n",
      "WARNING:chemschematicresolver.extract:Confidence of label 0 deemed too low for extraction\n",
      "WARNING:chemschematicresolver.extract:Text could not be resolved from label 0\n",
      "WARNING:chemschematicresolver.extract:Confidence of label 0 deemed too low for extraction\n"
     ]
    },
    {
     "name": "stdout",
     "output_type": "stream",
     "text": [
      "extract image:  ./elsevier_images/cropped_molecules/train/146_sc1_molecule_16.png\n",
      "extract image:  ./elsevier_images/cropped_molecules/train/146_sc1_molecule_17.png\n"
     ]
    },
    {
     "name": "stderr",
     "output_type": "stream",
     "text": [
      "WARNING:chemschematicresolver.extract:Text could not be resolved from label 1\n",
      "WARNING:chemschematicresolver.extract:Confidence of label 1 deemed too low for extraction\n",
      "WARNING:chemschematicresolver.extract:Text could not be resolved from label 0\n",
      "WARNING:chemschematicresolver.extract:Confidence of label 0 deemed too low for extraction\n"
     ]
    },
    {
     "name": "stdout",
     "output_type": "stream",
     "text": [
      "extract image:  ./elsevier_images/cropped_molecules/train/146_sc1_molecule_18.png\n"
     ]
    },
    {
     "name": "stderr",
     "output_type": "stream",
     "text": [
      "WARNING:chemschematicresolver.extract:Text could not be resolved from label 1\n",
      "WARNING:chemschematicresolver.extract:Confidence of label 1 deemed too low for extraction\n",
      "WARNING:chemschematicresolver.extract:Confidence of label 2 deemed too low for extraction\n",
      "WARNING:chemschematicresolver.extract:Confidence of label 1 deemed too low for extraction\n"
     ]
    },
    {
     "name": "stdout",
     "output_type": "stream",
     "text": [
      "extract image:  ./elsevier_images/cropped_molecules/train/146_sc1_molecule_2.png\n",
      "Runtime error, no smiles\n",
      "extract image:  ./elsevier_images/cropped_molecules/train/146_sc1_molecule_3.png\n",
      "extract image:  ./elsevier_images/cropped_molecules/train/146_sc1_molecule_4.png\n"
     ]
    },
    {
     "name": "stderr",
     "output_type": "stream",
     "text": [
      "WARNING:chemschematicresolver.actions:No SMILES string was extracted for diagram 1\n",
      "WARNING:chemschematicresolver.extract:Some SMILES strings were determined to be false positives and were removed from the output.\n",
      "WARNING:chemschematicresolver.extract:Confidence of label 0 deemed too low for extraction\n"
     ]
    },
    {
     "name": "stdout",
     "output_type": "stream",
     "text": [
      "extract image:  ./elsevier_images/cropped_molecules/train/146_sc1_molecule_5.png\n",
      "extract image:  ./elsevier_images/cropped_molecules/train/146_sc1_molecule_6.png\n"
     ]
    },
    {
     "name": "stderr",
     "output_type": "stream",
     "text": [
      "WARNING:chemschematicresolver.extract:Text could not be resolved from label 0\n",
      "WARNING:chemschematicresolver.extract:Confidence of label 0 deemed too low for extraction\n"
     ]
    },
    {
     "name": "stdout",
     "output_type": "stream",
     "text": [
      "extract image:  ./elsevier_images/cropped_molecules/train/146_sc1_molecule_7.png\n"
     ]
    },
    {
     "name": "stderr",
     "output_type": "stream",
     "text": [
      "WARNING:chemschematicresolver.extract:Text could not be resolved from label 0\n",
      "WARNING:chemschematicresolver.extract:Confidence of label 0 deemed too low for extraction\n"
     ]
    },
    {
     "name": "stdout",
     "output_type": "stream",
     "text": [
      "extract image:  ./elsevier_images/cropped_molecules/train/146_sc1_molecule_8.png\n",
      "extract image:  ./elsevier_images/cropped_molecules/train/146_sc1_molecule_9.png\n",
      "Runtime error, no smiles\n",
      "extract image:  ./elsevier_images/cropped_molecules/train/151_fx1_molecule_0.png\n"
     ]
    },
    {
     "name": "stderr",
     "output_type": "stream",
     "text": [
      "WARNING:chemschematicresolver.extract:Text could not be resolved from label 1\n",
      "WARNING:chemschematicresolver.extract:Confidence of label 1 deemed too low for extraction\n"
     ]
    },
    {
     "name": "stdout",
     "output_type": "stream",
     "text": [
      "extract image:  ./elsevier_images/cropped_molecules/train/151_fx1_molecule_1.png\n",
      "extract image:  ./elsevier_images/cropped_molecules/train/151_gr10_molecule_0.png\n"
     ]
    },
    {
     "name": "stderr",
     "output_type": "stream",
     "text": [
      "WARNING:chemschematicresolver.extract:Text could not be resolved from label 0\n",
      "WARNING:chemschematicresolver.extract:Confidence of label 0 deemed too low for extraction\n",
      "WARNING:chemschematicresolver.extract:Text could not be resolved from label 0\n",
      "WARNING:chemschematicresolver.extract:Confidence of label 0 deemed too low for extraction\n",
      "WARNING:chemschematicresolver.extract:Text could not be resolved from label 0\n",
      "WARNING:chemschematicresolver.extract:Confidence of label 0 deemed too low for extraction\n"
     ]
    },
    {
     "name": "stdout",
     "output_type": "stream",
     "text": [
      "extract image:  ./elsevier_images/cropped_molecules/train/151_gr10_molecule_1.png\n",
      "Runtime error, no smiles\n",
      "extract image:  ./elsevier_images/cropped_molecules/train/151_gr10_molecule_10.png\n",
      "extract image:  ./elsevier_images/cropped_molecules/train/151_gr10_molecule_11.png\n",
      "extract image:  ./elsevier_images/cropped_molecules/train/151_gr10_molecule_12.png\n"
     ]
    },
    {
     "name": "stderr",
     "output_type": "stream",
     "text": [
      "WARNING:chemschematicresolver.extract:Confidence of label 0 deemed too low for extraction\n"
     ]
    },
    {
     "name": "stdout",
     "output_type": "stream",
     "text": [
      "extract image:  ./elsevier_images/cropped_molecules/train/151_gr10_molecule_13.png\n"
     ]
    },
    {
     "name": "stderr",
     "output_type": "stream",
     "text": [
      "WARNING:chemschematicresolver.extract:Confidence of label 0 deemed too low for extraction\n"
     ]
    },
    {
     "name": "stdout",
     "output_type": "stream",
     "text": [
      "extract image:  ./elsevier_images/cropped_molecules/train/151_gr10_molecule_14.png\n",
      "extract image:  ./elsevier_images/cropped_molecules/train/151_gr10_molecule_15.png\n"
     ]
    },
    {
     "name": "stderr",
     "output_type": "stream",
     "text": [
      "WARNING:chemschematicresolver.extract:Text could not be resolved from label 1\n",
      "WARNING:chemschematicresolver.extract:Confidence of label 1 deemed too low for extraction\n",
      "WARNING:chemschematicresolver.extract:Confidence of label 1 deemed too low for extraction\n"
     ]
    },
    {
     "name": "stdout",
     "output_type": "stream",
     "text": [
      "extract image:  ./elsevier_images/cropped_molecules/train/151_gr10_molecule_16.png\n",
      "extract image:  ./elsevier_images/cropped_molecules/train/151_gr10_molecule_17.png\n",
      "extract image:  ./elsevier_images/cropped_molecules/train/151_gr10_molecule_2.png\n"
     ]
    },
    {
     "name": "stderr",
     "output_type": "stream",
     "text": [
      "WARNING:chemschematicresolver.extract:Confidence of label 0 deemed too low for extraction\n"
     ]
    },
    {
     "name": "stdout",
     "output_type": "stream",
     "text": [
      "extract image:  ./elsevier_images/cropped_molecules/train/151_gr10_molecule_3.png\n",
      "extract image:  ./elsevier_images/cropped_molecules/train/151_gr10_molecule_4.png\n",
      "Runtime error, no smiles\n",
      "extract image:  ./elsevier_images/cropped_molecules/train/151_gr10_molecule_5.png\n"
     ]
    },
    {
     "name": "stderr",
     "output_type": "stream",
     "text": [
      "WARNING:chemschematicresolver.extract:Confidence of label 1 deemed too low for extraction\n"
     ]
    },
    {
     "name": "stdout",
     "output_type": "stream",
     "text": [
      "extract image:  ./elsevier_images/cropped_molecules/train/151_gr10_molecule_6.png\n"
     ]
    },
    {
     "name": "stderr",
     "output_type": "stream",
     "text": [
      "WARNING:chemschematicresolver.actions:No SMILES string was extracted for diagram 1\n",
      "WARNING:chemschematicresolver.extract:Some SMILES strings were determined to be false positives and were removed from the output.\n"
     ]
    },
    {
     "name": "stdout",
     "output_type": "stream",
     "text": [
      "extract image:  ./elsevier_images/cropped_molecules/train/151_gr10_molecule_7.png\n"
     ]
    },
    {
     "name": "stderr",
     "output_type": "stream",
     "text": [
      "WARNING:chemschematicresolver.actions:No SMILES string was extracted for diagram 1\n",
      "WARNING:chemschematicresolver.extract:Some SMILES strings were determined to be false positives and were removed from the output.\n",
      "WARNING:chemschematicresolver.extract:Text could not be resolved from label 0\n",
      "WARNING:chemschematicresolver.extract:Confidence of label 0 deemed too low for extraction\n"
     ]
    },
    {
     "name": "stdout",
     "output_type": "stream",
     "text": [
      "extract image:  ./elsevier_images/cropped_molecules/train/151_gr10_molecule_8.png\n",
      "extract image:  ./elsevier_images/cropped_molecules/train/151_gr10_molecule_9.png\n"
     ]
    },
    {
     "name": "stderr",
     "output_type": "stream",
     "text": [
      "WARNING:chemschematicresolver.extract:Confidence of label 0 deemed too low for extraction\n",
      "WARNING:chemschematicresolver.extract:Confidence of label 0 deemed too low for extraction\n"
     ]
    },
    {
     "name": "stdout",
     "output_type": "stream",
     "text": [
      "extract image:  ./elsevier_images/cropped_molecules/train/151_gr1_molecule_0.png\n",
      "extract image:  ./elsevier_images/cropped_molecules/train/151_gr1_molecule_1.png\n"
     ]
    },
    {
     "name": "stderr",
     "output_type": "stream",
     "text": [
      "WARNING:chemschematicresolver.extract:Confidence of label 0 deemed too low for extraction\n",
      "WARNING:chemschematicresolver.extract:Text could not be resolved from label 0\n",
      "WARNING:chemschematicresolver.extract:Confidence of label 0 deemed too low for extraction\n"
     ]
    },
    {
     "name": "stdout",
     "output_type": "stream",
     "text": [
      "extract image:  ./elsevier_images/cropped_molecules/train/151_gr9_molecule_0.png\n",
      "extract image:  ./elsevier_images/cropped_molecules/train/151_gr9_molecule_1.png\n"
     ]
    },
    {
     "name": "stderr",
     "output_type": "stream",
     "text": [
      "WARNING:chemschematicresolver.extract:Confidence of label 0 deemed too low for extraction\n",
      "WARNING:chemschematicresolver.extract:Text could not be resolved from label 0\n",
      "WARNING:chemschematicresolver.extract:Confidence of label 0 deemed too low for extraction\n"
     ]
    },
    {
     "name": "stdout",
     "output_type": "stream",
     "text": [
      "extract image:  ./elsevier_images/cropped_molecules/train/151_gr9_molecule_2.png\n",
      "extract image:  ./elsevier_images/cropped_molecules/train/151_gr9_molecule_3.png\n"
     ]
    },
    {
     "name": "stderr",
     "output_type": "stream",
     "text": [
      "WARNING:chemschematicresolver.extract:Confidence of label 0 deemed too low for extraction\n"
     ]
    },
    {
     "name": "stdout",
     "output_type": "stream",
     "text": [
      "extract image:  ./elsevier_images/cropped_molecules/train/151_gr9_molecule_4.png\n",
      "extract image:  ./elsevier_images/cropped_molecules/train/155_fx1_molecule_0.png\n",
      "Runtime error, no smiles\n",
      "extract image:  ./elsevier_images/cropped_molecules/train/155_gr1_molecule_0.png\n",
      "extract image:  ./elsevier_images/cropped_molecules/train/174_fx1_molecule_0.png\n",
      "Runtime error, no smiles\n",
      "extract image:  ./elsevier_images/cropped_molecules/train/174_fx1_molecule_1.png\n",
      "extract image:  ./elsevier_images/cropped_molecules/train/174_gr10_molecule_0.png\n",
      "extract image:  ./elsevier_images/cropped_molecules/train/174_gr10_molecule_1.png\n",
      "extract image:  ./elsevier_images/cropped_molecules/train/174_gr10_molecule_2.png\n",
      "extract image:  ./elsevier_images/cropped_molecules/train/174_gr10_molecule_3.png\n",
      "extract image:  ./elsevier_images/cropped_molecules/train/174_gr10_molecule_4.png\n",
      "Runtime error, no smiles\n",
      "extract image:  ./elsevier_images/cropped_molecules/train/174_gr10_molecule_5.png\n",
      "extract image:  ./elsevier_images/cropped_molecules/train/174_gr10_molecule_6.png\n",
      "extract image:  ./elsevier_images/cropped_molecules/train/174_gr4_molecule_0.png\n"
     ]
    },
    {
     "name": "stderr",
     "output_type": "stream",
     "text": [
      "WARNING:chemschematicresolver.extract:Text could not be resolved from label 0\n",
      "WARNING:chemschematicresolver.extract:Confidence of label 0 deemed too low for extraction\n"
     ]
    },
    {
     "name": "stdout",
     "output_type": "stream",
     "text": [
      "extract image:  ./elsevier_images/cropped_molecules/train/174_gr4_molecule_1.png\n",
      "extract image:  ./elsevier_images/cropped_molecules/train/190_fx1_molecule_0.png\n",
      "extract image:  ./elsevier_images/cropped_molecules/train/190_fx1_molecule_1.png\n",
      "extract image:  ./elsevier_images/cropped_molecules/train/190_gr1_molecule_0.png\n"
     ]
    },
    {
     "name": "stderr",
     "output_type": "stream",
     "text": [
      "WARNING:chemschematicresolver.extract:Confidence of label 1 deemed too low for extraction\n"
     ]
    },
    {
     "name": "stdout",
     "output_type": "stream",
     "text": [
      "extract image:  ./elsevier_images/cropped_molecules/train/190_gr1_molecule_1.png\n"
     ]
    },
    {
     "name": "stderr",
     "output_type": "stream",
     "text": [
      "WARNING:chemschematicresolver.extract:Confidence of label 0 deemed too low for extraction\n"
     ]
    },
    {
     "name": "stdout",
     "output_type": "stream",
     "text": [
      "extract image:  ./elsevier_images/cropped_molecules/train/190_sc1_molecule_0.png\n",
      "extract image:  ./elsevier_images/cropped_molecules/train/190_sc1_molecule_1.png\n",
      "extract image:  ./elsevier_images/cropped_molecules/train/190_sc1_molecule_2.png\n",
      "extract image:  ./elsevier_images/cropped_molecules/train/190_sc1_molecule_3.png\n",
      "extract image:  ./elsevier_images/cropped_molecules/train/254_gr8_molecule_0.png\n",
      "extract image:  ./elsevier_images/cropped_molecules/train/254_gr8_molecule_1.png\n",
      "extract image:  ./elsevier_images/cropped_molecules/train/254_gr8_molecule_2.png\n",
      "extract image:  ./elsevier_images/cropped_molecules/train/254_gr8_molecule_3.png\n",
      "extract image:  ./elsevier_images/cropped_molecules/train/254_gr8_molecule_4.png\n",
      "extract image:  ./elsevier_images/cropped_molecules/train/254_gr8_molecule_5.png\n",
      "extract image:  ./elsevier_images/cropped_molecules/train/254_gr8_molecule_6.png\n",
      "extract image:  ./elsevier_images/cropped_molecules/train/254_gr8_molecule_7.png\n",
      "Runtime error, no smiles\n",
      "extract image:  ./elsevier_images/cropped_molecules/train/254_gr8_molecule_8.png\n",
      "extract image:  ./elsevier_images/cropped_molecules/train/254_gr8_molecule_9.png\n"
     ]
    },
    {
     "name": "stderr",
     "output_type": "stream",
     "text": [
      "WARNING:chemschematicresolver.actions:No SMILES string was extracted for diagram 2\n",
      "WARNING:chemschematicresolver.extract:Some SMILES strings were determined to be false positives and were removed from the output.\n"
     ]
    },
    {
     "name": "stdout",
     "output_type": "stream",
     "text": [
      "extract image:  ./elsevier_images/cropped_molecules/train/385_sc1_molecule_0.png\n",
      "extract image:  ./elsevier_images/cropped_molecules/train/385_sc1_molecule_1.png\n",
      "extract image:  ./elsevier_images/cropped_molecules/train/385_sc1_molecule_2.png\n"
     ]
    },
    {
     "name": "stderr",
     "output_type": "stream",
     "text": [
      "WARNING:chemschematicresolver.extract:Confidence of label 0 deemed too low for extraction\n",
      "WARNING:chemschematicresolver.extract:Confidence of label 0 deemed too low for extraction\n"
     ]
    },
    {
     "name": "stdout",
     "output_type": "stream",
     "text": [
      "extract image:  ./elsevier_images/cropped_molecules/train/385_sc1_molecule_3.png\n",
      "extract image:  ./elsevier_images/cropped_molecules/train/385_sc1_molecule_4.png\n"
     ]
    },
    {
     "name": "stderr",
     "output_type": "stream",
     "text": [
      "WARNING:chemschematicresolver.extract:Text could not be resolved from label 0\n",
      "WARNING:chemschematicresolver.extract:Confidence of label 0 deemed too low for extraction\n"
     ]
    },
    {
     "name": "stdout",
     "output_type": "stream",
     "text": [
      "extract image:  ./elsevier_images/cropped_molecules/train/385_sc1_molecule_5.png\n"
     ]
    },
    {
     "name": "stderr",
     "output_type": "stream",
     "text": [
      "WARNING:chemschematicresolver.extract:Confidence of label 0 deemed too low for extraction\n"
     ]
    },
    {
     "name": "stdout",
     "output_type": "stream",
     "text": [
      "extract image:  ./elsevier_images/cropped_molecules/train/68_fx1_molecule_0.png\n"
     ]
    },
    {
     "name": "stderr",
     "output_type": "stream",
     "text": [
      "WARNING:chemschematicresolver.extract:Confidence of label 0 deemed too low for extraction\n",
      "WARNING:chemschematicresolver.extract:Confidence of label 2 deemed too low for extraction\n"
     ]
    },
    {
     "name": "stdout",
     "output_type": "stream",
     "text": [
      "extract image:  ./elsevier_images/cropped_molecules/train/68_gr1_molecule_0.png\n"
     ]
    },
    {
     "name": "stderr",
     "output_type": "stream",
     "text": [
      "WARNING:chemschematicresolver.actions:No SMILES string was extracted for diagram 1\n",
      "WARNING:chemschematicresolver.extract:Some SMILES strings were determined to be false positives and were removed from the output.\n"
     ]
    },
    {
     "name": "stdout",
     "output_type": "stream",
     "text": [
      "extract image:  ./elsevier_images/cropped_molecules/train/68_sc1_molecule_0.png\n",
      "extract image:  ./elsevier_images/cropped_molecules/train/68_sc1_molecule_1.png\n",
      "Runtime error, no smiles\n",
      "extract image:  ./elsevier_images/cropped_molecules/train/68_sc1_molecule_2.png\n"
     ]
    },
    {
     "name": "stderr",
     "output_type": "stream",
     "text": [
      "WARNING:chemschematicresolver.extract:Text could not be resolved from label 0\n",
      "WARNING:chemschematicresolver.extract:Confidence of label 0 deemed too low for extraction\n"
     ]
    },
    {
     "name": "stdout",
     "output_type": "stream",
     "text": [
      "extract image:  ./elsevier_images/cropped_molecules/train/68_sc1_molecule_3.png\n",
      "extract image:  ./elsevier_images/cropped_molecules/train/68_sc1_molecule_4.png\n"
     ]
    },
    {
     "name": "stderr",
     "output_type": "stream",
     "text": [
      "WARNING:chemschematicresolver.extract:Text could not be resolved from label 0\n",
      "WARNING:chemschematicresolver.extract:Confidence of label 0 deemed too low for extraction\n"
     ]
    },
    {
     "name": "stdout",
     "output_type": "stream",
     "text": [
      "extract image:  ./elsevier_images/cropped_molecules/train/68_sc1_molecule_5.png\n"
     ]
    },
    {
     "name": "stderr",
     "output_type": "stream",
     "text": [
      "WARNING:chemschematicresolver.actions:No SMILES string was extracted for diagram 1\n",
      "WARNING:chemschematicresolver.extract:Some SMILES strings were determined to be false positives and were removed from the output.\n"
     ]
    },
    {
     "name": "stdout",
     "output_type": "stream",
     "text": [
      "extract image:  ./elsevier_images/cropped_molecules/train/68_sc1_molecule_6.png\n",
      "extract image:  ./elsevier_images/cropped_molecules/train/68_sc1_molecule_7.png\n"
     ]
    },
    {
     "name": "stderr",
     "output_type": "stream",
     "text": [
      "WARNING:chemschematicresolver.extract:Text could not be resolved from label 0\n",
      "WARNING:chemschematicresolver.extract:Confidence of label 0 deemed too low for extraction\n"
     ]
    },
    {
     "name": "stdout",
     "output_type": "stream",
     "text": [
      "extract image:  ./elsevier_images/cropped_molecules/train/68_sc1_molecule_8.png\n"
     ]
    },
    {
     "name": "stderr",
     "output_type": "stream",
     "text": [
      "WARNING:chemschematicresolver.extract:Confidence of label 0 deemed too low for extraction\n"
     ]
    }
   ],
   "source": [
    "# put it into CSR \n",
    "smile_results = {}\n",
    "\n",
    "for img in croped_image_from_train:\n",
    "    \n",
    "    print('extract image: ', img)\n",
    "    result = None\n",
    "    image = cv2.imread(img)\n",
    "    if image.shape[0] * image.shape[1] > 2000 * 2000: continue\n",
    "    \n",
    "    try:\n",
    "        result = csr.extract_image(img, allow_wildcards=True)\n",
    "    except:\n",
    "        print('Runtime error, no smiles')\n",
    "    \n",
    "    if result is not None and len(result):\n",
    "        smile_results[img] = result.copy()"
   ]
  },
  {
   "cell_type": "code",
   "execution_count": 6,
   "metadata": {},
   "outputs": [
    {
     "data": {
      "text/plain": [
       "35"
      ]
     },
     "execution_count": 6,
     "metadata": {},
     "output_type": "execute_result"
    }
   ],
   "source": [
    "len(smile_results)"
   ]
  },
  {
   "cell_type": "code",
   "execution_count": 7,
   "metadata": {},
   "outputs": [],
   "source": [
    "with open(\"Seaki_Elsevier_OD_image_train.json\", \"w\") as outfile:\n",
    "    json.dump(smile_results, outfile)"
   ]
  },
  {
   "cell_type": "code",
   "execution_count": null,
   "metadata": {},
   "outputs": [],
   "source": []
  },
  {
   "cell_type": "code",
   "execution_count": 8,
   "metadata": {},
   "outputs": [
    {
     "name": "stdout",
     "output_type": "stream",
     "text": [
      "count  1 , scale  ./elsevier_images/cropped_molecules/train/114_fx1_molecule_0.png\n",
      "count  2 , scale  ./elsevier_images/cropped_molecules/train/114_fx1_molecule_1.png\n",
      "count  3 , scale  ./elsevier_images/cropped_molecules/train/114_gr1_molecule_0.png\n",
      "count  4 , scale  ./elsevier_images/cropped_molecules/train/114_gr1_molecule_1.png\n",
      "count  5 , scale  ./elsevier_images/cropped_molecules/train/114_sc1_molecule_0.png\n",
      "count  6 , scale  ./elsevier_images/cropped_molecules/train/114_sc1_molecule_1.png\n",
      "count  7 , scale  ./elsevier_images/cropped_molecules/train/114_sc1_molecule_2.png\n",
      "count  8 , scale  ./elsevier_images/cropped_molecules/train/114_sc1_molecule_3.png\n",
      "count  9 , scale  ./elsevier_images/cropped_molecules/train/114_sc1_molecule_4.png\n",
      "count  10 , scale  ./elsevier_images/cropped_molecules/train/127_fx1_molecule_0.png\n",
      "count  11 , scale  ./elsevier_images/cropped_molecules/train/127_fx1_molecule_1.png\n",
      "count  12 , scale  ./elsevier_images/cropped_molecules/train/127_fx1_molecule_2.png\n",
      "count  13 , scale  ./elsevier_images/cropped_molecules/train/127_fx1_molecule_3.png\n",
      "count  14 , scale  ./elsevier_images/cropped_molecules/train/135_gr10_molecule_0.png\n",
      "count  15 , scale  ./elsevier_images/cropped_molecules/train/135_gr10_molecule_1.png\n",
      "count  16 , scale  ./elsevier_images/cropped_molecules/train/135_gr10_molecule_2.png\n",
      "count  17 , scale  ./elsevier_images/cropped_molecules/train/135_gr10_molecule_3.png\n",
      "count  18 , scale  ./elsevier_images/cropped_molecules/train/135_gr10_molecule_4.png\n",
      "count  18 , scale  ./elsevier_images/cropped_molecules/train/135_gr9_molecule_0.png\n",
      "count  19 , scale  ./elsevier_images/cropped_molecules/train/135_gr9_molecule_1.png\n",
      "count  20 , scale  ./elsevier_images/cropped_molecules/train/135_gr9_molecule_2.png\n",
      "count  21 , scale  ./elsevier_images/cropped_molecules/train/135_gr9_molecule_3.png\n",
      "count  22 , scale  ./elsevier_images/cropped_molecules/train/135_gr9_molecule_4.png\n",
      "count  23 , scale  ./elsevier_images/cropped_molecules/train/135_gr9_molecule_5.png\n",
      "count  24 , scale  ./elsevier_images/cropped_molecules/train/135_gr9_molecule_6.png\n",
      "count  25 , scale  ./elsevier_images/cropped_molecules/train/141_fx1_molecule_0.png\n",
      "count  26 , scale  ./elsevier_images/cropped_molecules/train/141_fx1_molecule_1.png\n",
      "count  27 , scale  ./elsevier_images/cropped_molecules/train/141_fx1_molecule_2.png\n",
      "count  28 , scale  ./elsevier_images/cropped_molecules/train/141_fx1_molecule_3.png\n",
      "count  29 , scale  ./elsevier_images/cropped_molecules/train/141_fx1_molecule_4.png\n",
      "count  30 , scale  ./elsevier_images/cropped_molecules/train/141_gr6_molecule_0.png\n",
      "count  31 , scale  ./elsevier_images/cropped_molecules/train/141_gr6_molecule_1.png\n",
      "count  32 , scale  ./elsevier_images/cropped_molecules/train/141_gr6_molecule_2.png\n",
      "count  33 , scale  ./elsevier_images/cropped_molecules/train/141_gr6_molecule_3.png\n",
      "count  34 , scale  ./elsevier_images/cropped_molecules/train/141_gr6_molecule_4.png\n",
      "count  35 , scale  ./elsevier_images/cropped_molecules/train/141_gr6_molecule_5.png\n",
      "count  36 , scale  ./elsevier_images/cropped_molecules/train/141_gr7_molecule_0.png\n",
      "count  37 , scale  ./elsevier_images/cropped_molecules/train/141_gr7_molecule_1.png\n",
      "count  38 , scale  ./elsevier_images/cropped_molecules/train/141_gr7_molecule_2.png\n",
      "count  39 , scale  ./elsevier_images/cropped_molecules/train/141_gr7_molecule_3.png\n",
      "count  40 , scale  ./elsevier_images/cropped_molecules/train/141_gr7_molecule_4.png\n",
      "count  41 , scale  ./elsevier_images/cropped_molecules/train/141_gr7_molecule_5.png\n",
      "count  42 , scale  ./elsevier_images/cropped_molecules/train/141_gr7_molecule_6.png\n",
      "count  43 , scale  ./elsevier_images/cropped_molecules/train/146_sc1_molecule_0.png\n",
      "count  44 , scale  ./elsevier_images/cropped_molecules/train/146_sc1_molecule_1.png\n",
      "count  45 , scale  ./elsevier_images/cropped_molecules/train/146_sc1_molecule_10.png\n",
      "count  46 , scale  ./elsevier_images/cropped_molecules/train/146_sc1_molecule_11.png\n",
      "count  47 , scale  ./elsevier_images/cropped_molecules/train/146_sc1_molecule_12.png\n",
      "count  48 , scale  ./elsevier_images/cropped_molecules/train/146_sc1_molecule_13.png\n",
      "count  49 , scale  ./elsevier_images/cropped_molecules/train/146_sc1_molecule_14.png\n",
      "count  50 , scale  ./elsevier_images/cropped_molecules/train/146_sc1_molecule_15.png\n",
      "count  51 , scale  ./elsevier_images/cropped_molecules/train/146_sc1_molecule_16.png\n",
      "count  52 , scale  ./elsevier_images/cropped_molecules/train/146_sc1_molecule_17.png\n",
      "count  53 , scale  ./elsevier_images/cropped_molecules/train/146_sc1_molecule_18.png\n",
      "count  54 , scale  ./elsevier_images/cropped_molecules/train/146_sc1_molecule_2.png\n",
      "count  55 , scale  ./elsevier_images/cropped_molecules/train/146_sc1_molecule_3.png\n",
      "count  56 , scale  ./elsevier_images/cropped_molecules/train/146_sc1_molecule_4.png\n",
      "count  57 , scale  ./elsevier_images/cropped_molecules/train/146_sc1_molecule_5.png\n",
      "count  58 , scale  ./elsevier_images/cropped_molecules/train/146_sc1_molecule_6.png\n",
      "count  59 , scale  ./elsevier_images/cropped_molecules/train/146_sc1_molecule_7.png\n",
      "count  60 , scale  ./elsevier_images/cropped_molecules/train/146_sc1_molecule_8.png\n",
      "count  61 , scale  ./elsevier_images/cropped_molecules/train/146_sc1_molecule_9.png\n",
      "count  62 , scale  ./elsevier_images/cropped_molecules/train/151_fx1_molecule_0.png\n",
      "count  63 , scale  ./elsevier_images/cropped_molecules/train/151_fx1_molecule_1.png\n",
      "count  64 , scale  ./elsevier_images/cropped_molecules/train/151_gr10_molecule_0.png\n",
      "count  65 , scale  ./elsevier_images/cropped_molecules/train/151_gr10_molecule_1.png\n",
      "count  66 , scale  ./elsevier_images/cropped_molecules/train/151_gr10_molecule_10.png\n",
      "count  67 , scale  ./elsevier_images/cropped_molecules/train/151_gr10_molecule_11.png\n",
      "count  68 , scale  ./elsevier_images/cropped_molecules/train/151_gr10_molecule_12.png\n",
      "count  69 , scale  ./elsevier_images/cropped_molecules/train/151_gr10_molecule_13.png\n",
      "count  70 , scale  ./elsevier_images/cropped_molecules/train/151_gr10_molecule_14.png\n",
      "count  71 , scale  ./elsevier_images/cropped_molecules/train/151_gr10_molecule_15.png\n",
      "count  72 , scale  ./elsevier_images/cropped_molecules/train/151_gr10_molecule_16.png\n",
      "count  73 , scale  ./elsevier_images/cropped_molecules/train/151_gr10_molecule_17.png\n",
      "count  74 , scale  ./elsevier_images/cropped_molecules/train/151_gr10_molecule_2.png\n",
      "count  75 , scale  ./elsevier_images/cropped_molecules/train/151_gr10_molecule_3.png\n",
      "count  76 , scale  ./elsevier_images/cropped_molecules/train/151_gr10_molecule_4.png\n",
      "count  77 , scale  ./elsevier_images/cropped_molecules/train/151_gr10_molecule_5.png\n",
      "count  78 , scale  ./elsevier_images/cropped_molecules/train/151_gr10_molecule_6.png\n",
      "count  79 , scale  ./elsevier_images/cropped_molecules/train/151_gr10_molecule_7.png\n",
      "count  80 , scale  ./elsevier_images/cropped_molecules/train/151_gr10_molecule_8.png\n",
      "count  81 , scale  ./elsevier_images/cropped_molecules/train/151_gr10_molecule_9.png\n",
      "count  82 , scale  ./elsevier_images/cropped_molecules/train/151_gr1_molecule_0.png\n",
      "count  83 , scale  ./elsevier_images/cropped_molecules/train/151_gr1_molecule_1.png\n",
      "count  84 , scale  ./elsevier_images/cropped_molecules/train/151_gr9_molecule_0.png\n",
      "count  85 , scale  ./elsevier_images/cropped_molecules/train/151_gr9_molecule_1.png\n",
      "count  86 , scale  ./elsevier_images/cropped_molecules/train/151_gr9_molecule_2.png\n",
      "count  87 , scale  ./elsevier_images/cropped_molecules/train/151_gr9_molecule_3.png\n",
      "count  88 , scale  ./elsevier_images/cropped_molecules/train/151_gr9_molecule_4.png\n",
      "count  89 , scale  ./elsevier_images/cropped_molecules/train/155_fx1_molecule_0.png\n",
      "count  90 , scale  ./elsevier_images/cropped_molecules/train/155_gr1_molecule_0.png\n",
      "count  91 , scale  ./elsevier_images/cropped_molecules/train/174_fx1_molecule_0.png\n",
      "count  91 , scale  ./elsevier_images/cropped_molecules/train/174_fx1_molecule_1.png\n",
      "count  91 , scale  ./elsevier_images/cropped_molecules/train/174_gr10_molecule_0.png\n",
      "count  91 , scale  ./elsevier_images/cropped_molecules/train/174_gr10_molecule_1.png\n",
      "count  92 , scale  ./elsevier_images/cropped_molecules/train/174_gr10_molecule_2.png\n",
      "count  92 , scale  ./elsevier_images/cropped_molecules/train/174_gr10_molecule_3.png\n",
      "count  93 , scale  ./elsevier_images/cropped_molecules/train/174_gr10_molecule_4.png\n"
     ]
    },
    {
     "name": "stdout",
     "output_type": "stream",
     "text": [
      "count  94 , scale  ./elsevier_images/cropped_molecules/train/174_gr10_molecule_5.png\n",
      "count  94 , scale  ./elsevier_images/cropped_molecules/train/174_gr10_molecule_6.png\n",
      "count  94 , scale  ./elsevier_images/cropped_molecules/train/174_gr4_molecule_0.png\n",
      "count  94 , scale  ./elsevier_images/cropped_molecules/train/174_gr4_molecule_1.png\n",
      "count  94 , scale  ./elsevier_images/cropped_molecules/train/190_fx1_molecule_0.png\n",
      "count  94 , scale  ./elsevier_images/cropped_molecules/train/190_fx1_molecule_1.png\n",
      "count  94 , scale  ./elsevier_images/cropped_molecules/train/190_gr1_molecule_0.png\n",
      "count  95 , scale  ./elsevier_images/cropped_molecules/train/190_gr1_molecule_1.png\n",
      "count  96 , scale  ./elsevier_images/cropped_molecules/train/190_sc1_molecule_0.png\n",
      "count  97 , scale  ./elsevier_images/cropped_molecules/train/190_sc1_molecule_1.png\n",
      "count  98 , scale  ./elsevier_images/cropped_molecules/train/190_sc1_molecule_2.png\n",
      "count  99 , scale  ./elsevier_images/cropped_molecules/train/190_sc1_molecule_3.png\n",
      "count  100 , scale  ./elsevier_images/cropped_molecules/train/254_gr8_molecule_0.png\n",
      "count  101 , scale  ./elsevier_images/cropped_molecules/train/254_gr8_molecule_1.png\n",
      "count  102 , scale  ./elsevier_images/cropped_molecules/train/254_gr8_molecule_2.png\n",
      "count  103 , scale  ./elsevier_images/cropped_molecules/train/254_gr8_molecule_3.png\n",
      "count  103 , scale  ./elsevier_images/cropped_molecules/train/254_gr8_molecule_4.png\n",
      "count  103 , scale  ./elsevier_images/cropped_molecules/train/254_gr8_molecule_5.png\n",
      "count  104 , scale  ./elsevier_images/cropped_molecules/train/254_gr8_molecule_6.png\n",
      "count  104 , scale  ./elsevier_images/cropped_molecules/train/254_gr8_molecule_7.png\n",
      "count  104 , scale  ./elsevier_images/cropped_molecules/train/254_gr8_molecule_8.png\n",
      "count  104 , scale  ./elsevier_images/cropped_molecules/train/254_gr8_molecule_9.png\n",
      "count  105 , scale  ./elsevier_images/cropped_molecules/train/385_sc1_molecule_0.png\n",
      "count  106 , scale  ./elsevier_images/cropped_molecules/train/385_sc1_molecule_1.png\n",
      "count  107 , scale  ./elsevier_images/cropped_molecules/train/385_sc1_molecule_2.png\n",
      "count  108 , scale  ./elsevier_images/cropped_molecules/train/385_sc1_molecule_3.png\n",
      "count  109 , scale  ./elsevier_images/cropped_molecules/train/385_sc1_molecule_4.png\n",
      "count  110 , scale  ./elsevier_images/cropped_molecules/train/385_sc1_molecule_5.png\n",
      "count  111 , scale  ./elsevier_images/cropped_molecules/train/68_fx1_molecule_0.png\n",
      "count  112 , scale  ./elsevier_images/cropped_molecules/train/68_gr1_molecule_0.png\n",
      "count  113 , scale  ./elsevier_images/cropped_molecules/train/68_sc1_molecule_0.png\n",
      "count  114 , scale  ./elsevier_images/cropped_molecules/train/68_sc1_molecule_1.png\n",
      "count  115 , scale  ./elsevier_images/cropped_molecules/train/68_sc1_molecule_2.png\n",
      "count  116 , scale  ./elsevier_images/cropped_molecules/train/68_sc1_molecule_3.png\n",
      "count  117 , scale  ./elsevier_images/cropped_molecules/train/68_sc1_molecule_4.png\n",
      "count  118 , scale  ./elsevier_images/cropped_molecules/train/68_sc1_molecule_5.png\n",
      "count  119 , scale  ./elsevier_images/cropped_molecules/train/68_sc1_molecule_6.png\n",
      "count  120 , scale  ./elsevier_images/cropped_molecules/train/68_sc1_molecule_7.png\n",
      "count  121 , scale  ./elsevier_images/cropped_molecules/train/68_sc1_molecule_8.png\n"
     ]
    }
   ],
   "source": [
    "molecules_dir_train = './elsevier_images/cropped_molecules/train/'\n",
    "molecules_dir_train_enhanced = './elsevier_images/cropped_molecules/train_enhanced'\n",
    "\n",
    "enhanced_train_images = []\n",
    "\n",
    "if not os.path.exists(molecules_dir_train_enhanced):\n",
    "    os.mkdir(molecules_dir_train_enhanced)\n",
    "\n",
    "count = 1    \n",
    "for file in os.listdir(molecules_dir_train):\n",
    "    if file.endswith(\".png\"):\n",
    "        raw_img = os.path.join(molecules_dir_train, file)\n",
    "        raw_image = cv2.imread(raw_img)\n",
    "        if raw_image.shape[0] * raw_image.shape[1] > 2000 * 2000:\n",
    "            enhanced_train_images.append(raw_img)\n",
    "            continue \n",
    "        print('count ', count, ', scale ', raw_img)\n",
    "        enhanced_img = os.path.join(molecules_dir_train_enhanced, file)\n",
    "        enhanced_image = sr.upsample(raw_image)\n",
    "        if enhanced_image.shape[0] * enhanced_image.shape[1] > 2000 * 2000:\n",
    "            enhanced_train_images.append(raw_img)\n",
    "            continue \n",
    "        cv2.imwrite(enhanced_img, enhanced_image)\n",
    "        enhanced_train_images.append(enhanced_img)\n",
    "        count += 1"
   ]
  },
  {
   "cell_type": "code",
   "execution_count": 9,
   "metadata": {},
   "outputs": [
    {
     "name": "stdout",
     "output_type": "stream",
     "text": [
      "extract image:  ./elsevier_images/cropped_molecules/train_enhanced/114_fx1_molecule_0.png\n"
     ]
    },
    {
     "name": "stderr",
     "output_type": "stream",
     "text": [
      "WARNING:chemschematicresolver.extract:Confidence of label 0 deemed too low for extraction\n"
     ]
    },
    {
     "name": "stdout",
     "output_type": "stream",
     "text": [
      "extract image:  ./elsevier_images/cropped_molecules/train_enhanced/114_fx1_molecule_1.png\n"
     ]
    },
    {
     "name": "stderr",
     "output_type": "stream",
     "text": [
      "WARNING:chemschematicresolver.extract:Confidence of label 0 deemed too low for extraction\n"
     ]
    },
    {
     "name": "stdout",
     "output_type": "stream",
     "text": [
      "extract image:  ./elsevier_images/cropped_molecules/train_enhanced/114_gr1_molecule_0.png\n",
      "extract image:  ./elsevier_images/cropped_molecules/train_enhanced/114_gr1_molecule_1.png\n",
      "extract image:  ./elsevier_images/cropped_molecules/train_enhanced/114_sc1_molecule_0.png\n",
      "extract image:  ./elsevier_images/cropped_molecules/train_enhanced/114_sc1_molecule_1.png\n"
     ]
    },
    {
     "name": "stderr",
     "output_type": "stream",
     "text": [
      "WARNING:chemschematicresolver.extract:Text could not be resolved from label 0\n",
      "WARNING:chemschematicresolver.extract:Confidence of label 0 deemed too low for extraction\n"
     ]
    },
    {
     "name": "stdout",
     "output_type": "stream",
     "text": [
      "extract image:  ./elsevier_images/cropped_molecules/train_enhanced/114_sc1_molecule_2.png\n",
      "Runtime error, no smiles\n",
      "extract image:  ./elsevier_images/cropped_molecules/train_enhanced/114_sc1_molecule_3.png\n",
      "Runtime error, no smiles\n",
      "extract image:  ./elsevier_images/cropped_molecules/train_enhanced/114_sc1_molecule_4.png\n"
     ]
    },
    {
     "name": "stderr",
     "output_type": "stream",
     "text": [
      "WARNING:chemschematicresolver.extract:Text could not be resolved from label 0\n",
      "WARNING:chemschematicresolver.extract:Confidence of label 0 deemed too low for extraction\n"
     ]
    },
    {
     "name": "stdout",
     "output_type": "stream",
     "text": [
      "extract image:  ./elsevier_images/cropped_molecules/train_enhanced/127_fx1_molecule_0.png\n",
      "extract image:  ./elsevier_images/cropped_molecules/train_enhanced/127_fx1_molecule_1.png\n",
      "extract image:  ./elsevier_images/cropped_molecules/train_enhanced/127_fx1_molecule_2.png\n",
      "extract image:  ./elsevier_images/cropped_molecules/train_enhanced/127_fx1_molecule_3.png\n"
     ]
    },
    {
     "name": "stderr",
     "output_type": "stream",
     "text": [
      "WARNING:chemschematicresolver.extract:Text could not be resolved from label 0\n",
      "WARNING:chemschematicresolver.extract:Confidence of label 0 deemed too low for extraction\n"
     ]
    },
    {
     "name": "stdout",
     "output_type": "stream",
     "text": [
      "extract image:  ./elsevier_images/cropped_molecules/train_enhanced/135_gr10_molecule_0.png\n",
      "extract image:  ./elsevier_images/cropped_molecules/train_enhanced/135_gr10_molecule_1.png\n",
      "extract image:  ./elsevier_images/cropped_molecules/train_enhanced/135_gr10_molecule_2.png\n"
     ]
    },
    {
     "name": "stderr",
     "output_type": "stream",
     "text": [
      "WARNING:chemschematicresolver.extract:Confidence of label 1 deemed too low for extraction\n"
     ]
    },
    {
     "name": "stdout",
     "output_type": "stream",
     "text": [
      "extract image:  ./elsevier_images/cropped_molecules/train_enhanced/135_gr10_molecule_3.png\n",
      "extract image:  ./elsevier_images/cropped_molecules/train/135_gr10_molecule_4.png\n",
      "extract image:  ./elsevier_images/cropped_molecules/train_enhanced/135_gr9_molecule_0.png\n",
      "extract image:  ./elsevier_images/cropped_molecules/train_enhanced/135_gr9_molecule_1.png\n"
     ]
    },
    {
     "name": "stderr",
     "output_type": "stream",
     "text": [
      "WARNING:chemschematicresolver.actions:No SMILES string was extracted for diagram 1\n",
      "WARNING:chemschematicresolver.extract:Some SMILES strings were determined to be false positives and were removed from the output.\n"
     ]
    },
    {
     "name": "stdout",
     "output_type": "stream",
     "text": [
      "extract image:  ./elsevier_images/cropped_molecules/train_enhanced/135_gr9_molecule_2.png\n"
     ]
    },
    {
     "name": "stderr",
     "output_type": "stream",
     "text": [
      "WARNING:chemschematicresolver.extract:Confidence of label 1 deemed too low for extraction\n",
      "WARNING:chemschematicresolver.extract:Text could not be resolved from label 0\n",
      "WARNING:chemschematicresolver.extract:Confidence of label 0 deemed too low for extraction\n"
     ]
    },
    {
     "name": "stdout",
     "output_type": "stream",
     "text": [
      "extract image:  ./elsevier_images/cropped_molecules/train_enhanced/135_gr9_molecule_3.png\n",
      "Runtime error, no smiles\n",
      "extract image:  ./elsevier_images/cropped_molecules/train_enhanced/135_gr9_molecule_4.png\n"
     ]
    },
    {
     "name": "stderr",
     "output_type": "stream",
     "text": [
      "WARNING:chemschematicresolver.extract:Text could not be resolved from label 1\n",
      "WARNING:chemschematicresolver.extract:Confidence of label 1 deemed too low for extraction\n"
     ]
    },
    {
     "name": "stdout",
     "output_type": "stream",
     "text": [
      "extract image:  ./elsevier_images/cropped_molecules/train_enhanced/135_gr9_molecule_5.png\n"
     ]
    },
    {
     "name": "stderr",
     "output_type": "stream",
     "text": [
      "WARNING:chemschematicresolver.extract:Text could not be resolved from label 0\n",
      "WARNING:chemschematicresolver.extract:Confidence of label 0 deemed too low for extraction\n",
      "WARNING:chemschematicresolver.actions:No SMILES string was extracted for diagram 4\n",
      "WARNING:chemschematicresolver.extract:Some SMILES strings were determined to be false positives and were removed from the output.\n"
     ]
    },
    {
     "name": "stdout",
     "output_type": "stream",
     "text": [
      "extract image:  ./elsevier_images/cropped_molecules/train_enhanced/135_gr9_molecule_6.png\n"
     ]
    },
    {
     "name": "stderr",
     "output_type": "stream",
     "text": [
      "WARNING:chemschematicresolver.extract:Confidence of label 0 deemed too low for extraction\n"
     ]
    },
    {
     "name": "stdout",
     "output_type": "stream",
     "text": [
      "extract image:  ./elsevier_images/cropped_molecules/train_enhanced/141_fx1_molecule_0.png\n",
      "Runtime error, no smiles\n",
      "extract image:  ./elsevier_images/cropped_molecules/train_enhanced/141_fx1_molecule_1.png\n"
     ]
    },
    {
     "name": "stderr",
     "output_type": "stream",
     "text": [
      "WARNING:chemschematicresolver.extract:Text could not be resolved from label 0\n",
      "WARNING:chemschematicresolver.extract:Confidence of label 0 deemed too low for extraction\n",
      "WARNING:chemschematicresolver.extract:Text could not be resolved from label 0\n",
      "WARNING:chemschematicresolver.extract:Confidence of label 0 deemed too low for extraction\n"
     ]
    },
    {
     "name": "stdout",
     "output_type": "stream",
     "text": [
      "extract image:  ./elsevier_images/cropped_molecules/train_enhanced/141_fx1_molecule_2.png\n",
      "extract image:  ./elsevier_images/cropped_molecules/train_enhanced/141_fx1_molecule_3.png\n"
     ]
    },
    {
     "name": "stderr",
     "output_type": "stream",
     "text": [
      "WARNING:chemschematicresolver.extract:Confidence of label 0 deemed too low for extraction\n"
     ]
    },
    {
     "name": "stdout",
     "output_type": "stream",
     "text": [
      "extract image:  ./elsevier_images/cropped_molecules/train_enhanced/141_fx1_molecule_4.png\n"
     ]
    },
    {
     "name": "stderr",
     "output_type": "stream",
     "text": [
      "WARNING:chemschematicresolver.extract:Text could not be resolved from label 0\n",
      "WARNING:chemschematicresolver.extract:Confidence of label 0 deemed too low for extraction\n"
     ]
    },
    {
     "name": "stdout",
     "output_type": "stream",
     "text": [
      "extract image:  ./elsevier_images/cropped_molecules/train_enhanced/141_gr6_molecule_0.png\n",
      "extract image:  ./elsevier_images/cropped_molecules/train_enhanced/141_gr6_molecule_1.png\n",
      "extract image:  ./elsevier_images/cropped_molecules/train_enhanced/141_gr6_molecule_2.png\n"
     ]
    },
    {
     "name": "stderr",
     "output_type": "stream",
     "text": [
      "WARNING:chemschematicresolver.extract:Text could not be resolved from label 0\n",
      "WARNING:chemschematicresolver.extract:Confidence of label 0 deemed too low for extraction\n"
     ]
    },
    {
     "name": "stdout",
     "output_type": "stream",
     "text": [
      "extract image:  ./elsevier_images/cropped_molecules/train_enhanced/141_gr6_molecule_3.png\n",
      "extract image:  ./elsevier_images/cropped_molecules/train_enhanced/141_gr6_molecule_4.png\n"
     ]
    },
    {
     "name": "stderr",
     "output_type": "stream",
     "text": [
      "WARNING:chemschematicresolver.extract:Text could not be resolved from label 0\n",
      "WARNING:chemschematicresolver.extract:Confidence of label 0 deemed too low for extraction\n"
     ]
    },
    {
     "name": "stdout",
     "output_type": "stream",
     "text": [
      "extract image:  ./elsevier_images/cropped_molecules/train_enhanced/141_gr6_molecule_5.png\n",
      "extract image:  ./elsevier_images/cropped_molecules/train_enhanced/141_gr7_molecule_0.png\n",
      "extract image:  ./elsevier_images/cropped_molecules/train_enhanced/141_gr7_molecule_1.png\n",
      "extract image:  ./elsevier_images/cropped_molecules/train_enhanced/141_gr7_molecule_2.png\n"
     ]
    },
    {
     "name": "stderr",
     "output_type": "stream",
     "text": [
      "WARNING:chemschematicresolver.extract:Text could not be resolved from label 0\n",
      "WARNING:chemschematicresolver.extract:Confidence of label 0 deemed too low for extraction\n"
     ]
    },
    {
     "name": "stdout",
     "output_type": "stream",
     "text": [
      "extract image:  ./elsevier_images/cropped_molecules/train_enhanced/141_gr7_molecule_3.png\n",
      "extract image:  ./elsevier_images/cropped_molecules/train_enhanced/141_gr7_molecule_4.png\n",
      "extract image:  ./elsevier_images/cropped_molecules/train_enhanced/141_gr7_molecule_5.png\n",
      "extract image:  ./elsevier_images/cropped_molecules/train_enhanced/141_gr7_molecule_6.png\n",
      "extract image:  ./elsevier_images/cropped_molecules/train_enhanced/146_sc1_molecule_0.png\n",
      "Runtime error, no smiles\n",
      "extract image:  ./elsevier_images/cropped_molecules/train_enhanced/146_sc1_molecule_1.png\n",
      "Runtime error, no smiles\n",
      "extract image:  ./elsevier_images/cropped_molecules/train_enhanced/146_sc1_molecule_10.png\n",
      "extract image:  ./elsevier_images/cropped_molecules/train_enhanced/146_sc1_molecule_11.png\n",
      "extract image:  ./elsevier_images/cropped_molecules/train_enhanced/146_sc1_molecule_12.png\n",
      "extract image:  ./elsevier_images/cropped_molecules/train_enhanced/146_sc1_molecule_13.png\n",
      "extract image:  ./elsevier_images/cropped_molecules/train_enhanced/146_sc1_molecule_14.png\n",
      "extract image:  ./elsevier_images/cropped_molecules/train_enhanced/146_sc1_molecule_15.png\n",
      "Runtime error, no smiles\n",
      "extract image:  ./elsevier_images/cropped_molecules/train_enhanced/146_sc1_molecule_16.png\n"
     ]
    },
    {
     "name": "stderr",
     "output_type": "stream",
     "text": [
      "WARNING:chemschematicresolver.extract:Confidence of label 0 deemed too low for extraction\n"
     ]
    },
    {
     "name": "stdout",
     "output_type": "stream",
     "text": [
      "extract image:  ./elsevier_images/cropped_molecules/train_enhanced/146_sc1_molecule_17.png\n",
      "extract image:  ./elsevier_images/cropped_molecules/train_enhanced/146_sc1_molecule_18.png\n",
      "extract image:  ./elsevier_images/cropped_molecules/train_enhanced/146_sc1_molecule_2.png\n",
      "Runtime error, no smiles\n",
      "extract image:  ./elsevier_images/cropped_molecules/train_enhanced/146_sc1_molecule_3.png\n",
      "extract image:  ./elsevier_images/cropped_molecules/train_enhanced/146_sc1_molecule_4.png\n",
      "extract image:  ./elsevier_images/cropped_molecules/train_enhanced/146_sc1_molecule_5.png\n"
     ]
    },
    {
     "name": "stderr",
     "output_type": "stream",
     "text": [
      "WARNING:chemschematicresolver.extract:Some SMILES strings were determined to be false positives and were removed from the output.\n",
      "WARNING:chemschematicresolver.extract:Text could not be resolved from label 0\n",
      "WARNING:chemschematicresolver.extract:Confidence of label 0 deemed too low for extraction\n"
     ]
    },
    {
     "name": "stdout",
     "output_type": "stream",
     "text": [
      "extract image:  ./elsevier_images/cropped_molecules/train_enhanced/146_sc1_molecule_6.png\n",
      "extract image:  ./elsevier_images/cropped_molecules/train_enhanced/146_sc1_molecule_7.png\n"
     ]
    },
    {
     "name": "stderr",
     "output_type": "stream",
     "text": [
      "WARNING:chemschematicresolver.extract:Text could not be resolved from label 0\n",
      "WARNING:chemschematicresolver.extract:Confidence of label 0 deemed too low for extraction\n"
     ]
    },
    {
     "name": "stdout",
     "output_type": "stream",
     "text": [
      "extract image:  ./elsevier_images/cropped_molecules/train_enhanced/146_sc1_molecule_8.png\n",
      "extract image:  ./elsevier_images/cropped_molecules/train_enhanced/146_sc1_molecule_9.png\n",
      "Runtime error, no smiles\n",
      "extract image:  ./elsevier_images/cropped_molecules/train_enhanced/151_fx1_molecule_0.png\n"
     ]
    },
    {
     "name": "stderr",
     "output_type": "stream",
     "text": [
      "WARNING:chemschematicresolver.extract:Text could not be resolved from label 0\n",
      "WARNING:chemschematicresolver.extract:Confidence of label 0 deemed too low for extraction\n"
     ]
    },
    {
     "name": "stdout",
     "output_type": "stream",
     "text": [
      "extract image:  ./elsevier_images/cropped_molecules/train_enhanced/151_fx1_molecule_1.png\n"
     ]
    },
    {
     "name": "stderr",
     "output_type": "stream",
     "text": [
      "WARNING:chemschematicresolver.extract:Confidence of label 0 deemed too low for extraction\n",
      "WARNING:chemschematicresolver.extract:Confidence of label 1 deemed too low for extraction\n"
     ]
    },
    {
     "name": "stdout",
     "output_type": "stream",
     "text": [
      "extract image:  ./elsevier_images/cropped_molecules/train_enhanced/151_gr10_molecule_0.png\n",
      "extract image:  ./elsevier_images/cropped_molecules/train_enhanced/151_gr10_molecule_1.png\n",
      "Runtime error, no smiles\n",
      "extract image:  ./elsevier_images/cropped_molecules/train_enhanced/151_gr10_molecule_10.png\n"
     ]
    },
    {
     "name": "stderr",
     "output_type": "stream",
     "text": [
      "WARNING:chemschematicresolver.extract:Text could not be resolved from label 0\n",
      "WARNING:chemschematicresolver.extract:Confidence of label 0 deemed too low for extraction\n"
     ]
    },
    {
     "name": "stdout",
     "output_type": "stream",
     "text": [
      "extract image:  ./elsevier_images/cropped_molecules/train_enhanced/151_gr10_molecule_11.png\n"
     ]
    },
    {
     "name": "stderr",
     "output_type": "stream",
     "text": [
      "WARNING:chemschematicresolver.extract:Text could not be resolved from label 0\n",
      "WARNING:chemschematicresolver.extract:Confidence of label 0 deemed too low for extraction\n"
     ]
    },
    {
     "name": "stdout",
     "output_type": "stream",
     "text": [
      "extract image:  ./elsevier_images/cropped_molecules/train_enhanced/151_gr10_molecule_12.png\n",
      "extract image:  ./elsevier_images/cropped_molecules/train_enhanced/151_gr10_molecule_13.png\n"
     ]
    },
    {
     "name": "stderr",
     "output_type": "stream",
     "text": [
      "WARNING:chemschematicresolver.extract:Confidence of label 0 deemed too low for extraction\n"
     ]
    },
    {
     "name": "stdout",
     "output_type": "stream",
     "text": [
      "extract image:  ./elsevier_images/cropped_molecules/train_enhanced/151_gr10_molecule_14.png\n"
     ]
    },
    {
     "name": "stderr",
     "output_type": "stream",
     "text": [
      "WARNING:chemschematicresolver.extract:Confidence of label 0 deemed too low for extraction\n"
     ]
    },
    {
     "name": "stdout",
     "output_type": "stream",
     "text": [
      "extract image:  ./elsevier_images/cropped_molecules/train_enhanced/151_gr10_molecule_15.png\n"
     ]
    },
    {
     "name": "stderr",
     "output_type": "stream",
     "text": [
      "WARNING:chemschematicresolver.extract:Text could not be resolved from label 0\n",
      "WARNING:chemschematicresolver.extract:Confidence of label 0 deemed too low for extraction\n"
     ]
    },
    {
     "name": "stdout",
     "output_type": "stream",
     "text": [
      "extract image:  ./elsevier_images/cropped_molecules/train_enhanced/151_gr10_molecule_16.png\n",
      "extract image:  ./elsevier_images/cropped_molecules/train_enhanced/151_gr10_molecule_17.png\n",
      "extract image:  ./elsevier_images/cropped_molecules/train_enhanced/151_gr10_molecule_2.png\n",
      "extract image:  ./elsevier_images/cropped_molecules/train_enhanced/151_gr10_molecule_3.png\n",
      "extract image:  ./elsevier_images/cropped_molecules/train_enhanced/151_gr10_molecule_4.png\n",
      "Runtime error, no smiles\n",
      "extract image:  ./elsevier_images/cropped_molecules/train_enhanced/151_gr10_molecule_5.png\n",
      "extract image:  ./elsevier_images/cropped_molecules/train_enhanced/151_gr10_molecule_6.png\n",
      "extract image:  ./elsevier_images/cropped_molecules/train_enhanced/151_gr10_molecule_7.png\n"
     ]
    },
    {
     "name": "stderr",
     "output_type": "stream",
     "text": [
      "WARNING:chemschematicresolver.extract:Text could not be resolved from label 0\n",
      "WARNING:chemschematicresolver.extract:Confidence of label 0 deemed too low for extraction\n"
     ]
    },
    {
     "name": "stdout",
     "output_type": "stream",
     "text": [
      "extract image:  ./elsevier_images/cropped_molecules/train_enhanced/151_gr10_molecule_8.png\n"
     ]
    },
    {
     "name": "stderr",
     "output_type": "stream",
     "text": [
      "WARNING:chemschematicresolver.extract:Text could not be resolved from label 0\n",
      "WARNING:chemschematicresolver.extract:Confidence of label 0 deemed too low for extraction\n"
     ]
    },
    {
     "name": "stdout",
     "output_type": "stream",
     "text": [
      "extract image:  ./elsevier_images/cropped_molecules/train_enhanced/151_gr10_molecule_9.png\n",
      "extract image:  ./elsevier_images/cropped_molecules/train_enhanced/151_gr1_molecule_0.png\n"
     ]
    },
    {
     "name": "stderr",
     "output_type": "stream",
     "text": [
      "WARNING:chemschematicresolver.extract:Confidence of label 0 deemed too low for extraction\n"
     ]
    },
    {
     "name": "stdout",
     "output_type": "stream",
     "text": [
      "extract image:  ./elsevier_images/cropped_molecules/train_enhanced/151_gr1_molecule_1.png\n"
     ]
    },
    {
     "name": "stderr",
     "output_type": "stream",
     "text": [
      "WARNING:chemschematicresolver.extract:Confidence of label 0 deemed too low for extraction\n"
     ]
    },
    {
     "name": "stdout",
     "output_type": "stream",
     "text": [
      "extract image:  ./elsevier_images/cropped_molecules/train_enhanced/151_gr9_molecule_0.png\n",
      "extract image:  ./elsevier_images/cropped_molecules/train_enhanced/151_gr9_molecule_1.png\n",
      "extract image:  ./elsevier_images/cropped_molecules/train_enhanced/151_gr9_molecule_2.png\n"
     ]
    },
    {
     "name": "stderr",
     "output_type": "stream",
     "text": [
      "WARNING:chemschematicresolver.extract:Text could not be resolved from label 0\n",
      "WARNING:chemschematicresolver.extract:Confidence of label 0 deemed too low for extraction\n"
     ]
    },
    {
     "name": "stdout",
     "output_type": "stream",
     "text": [
      "extract image:  ./elsevier_images/cropped_molecules/train_enhanced/151_gr9_molecule_3.png\n",
      "extract image:  ./elsevier_images/cropped_molecules/train_enhanced/151_gr9_molecule_4.png\n",
      "extract image:  ./elsevier_images/cropped_molecules/train_enhanced/155_fx1_molecule_0.png\n",
      "Runtime error, no smiles\n",
      "extract image:  ./elsevier_images/cropped_molecules/train_enhanced/155_gr1_molecule_0.png\n"
     ]
    },
    {
     "name": "stderr",
     "output_type": "stream",
     "text": [
      "WARNING:chemschematicresolver.actions:No SMILES string was extracted for diagram 3\n",
      "WARNING:chemschematicresolver.extract:Some SMILES strings were determined to be false positives and were removed from the output.\n"
     ]
    },
    {
     "name": "stdout",
     "output_type": "stream",
     "text": [
      "extract image:  ./elsevier_images/cropped_molecules/train/174_fx1_molecule_0.png\n",
      "Runtime error, no smiles\n",
      "extract image:  ./elsevier_images/cropped_molecules/train/174_fx1_molecule_1.png\n",
      "extract image:  ./elsevier_images/cropped_molecules/train/174_gr10_molecule_0.png\n",
      "extract image:  ./elsevier_images/cropped_molecules/train_enhanced/174_gr10_molecule_1.png\n"
     ]
    },
    {
     "name": "stderr",
     "output_type": "stream",
     "text": [
      "WARNING:chemschematicresolver.extract:Confidence of label 1 deemed too low for extraction\n"
     ]
    },
    {
     "name": "stdout",
     "output_type": "stream",
     "text": [
      "extract image:  ./elsevier_images/cropped_molecules/train/174_gr10_molecule_2.png\n",
      "extract image:  ./elsevier_images/cropped_molecules/train_enhanced/174_gr10_molecule_3.png\n"
     ]
    },
    {
     "name": "stderr",
     "output_type": "stream",
     "text": [
      "WARNING:chemschematicresolver.extract:Confidence of label 0 deemed too low for extraction\n"
     ]
    },
    {
     "name": "stdout",
     "output_type": "stream",
     "text": [
      "extract image:  ./elsevier_images/cropped_molecules/train_enhanced/174_gr10_molecule_4.png\n",
      "extract image:  ./elsevier_images/cropped_molecules/train/174_gr10_molecule_5.png\n",
      "extract image:  ./elsevier_images/cropped_molecules/train/174_gr10_molecule_6.png\n",
      "extract image:  ./elsevier_images/cropped_molecules/train/174_gr4_molecule_0.png\n"
     ]
    },
    {
     "name": "stderr",
     "output_type": "stream",
     "text": [
      "WARNING:chemschematicresolver.extract:Text could not be resolved from label 0\n",
      "WARNING:chemschematicresolver.extract:Confidence of label 0 deemed too low for extraction\n"
     ]
    },
    {
     "name": "stdout",
     "output_type": "stream",
     "text": [
      "extract image:  ./elsevier_images/cropped_molecules/train/174_gr4_molecule_1.png\n",
      "extract image:  ./elsevier_images/cropped_molecules/train/190_fx1_molecule_0.png\n",
      "extract image:  ./elsevier_images/cropped_molecules/train/190_fx1_molecule_1.png\n",
      "extract image:  ./elsevier_images/cropped_molecules/train_enhanced/190_gr1_molecule_0.png\n"
     ]
    },
    {
     "name": "stderr",
     "output_type": "stream",
     "text": [
      "WARNING:chemschematicresolver.extract:Confidence of label 0 deemed too low for extraction\n"
     ]
    },
    {
     "name": "stdout",
     "output_type": "stream",
     "text": [
      "extract image:  ./elsevier_images/cropped_molecules/train_enhanced/190_gr1_molecule_1.png\n"
     ]
    },
    {
     "name": "stderr",
     "output_type": "stream",
     "text": [
      "WARNING:chemschematicresolver.extract:Confidence of label 0 deemed too low for extraction\n"
     ]
    },
    {
     "name": "stdout",
     "output_type": "stream",
     "text": [
      "extract image:  ./elsevier_images/cropped_molecules/train_enhanced/190_sc1_molecule_0.png\n",
      "extract image:  ./elsevier_images/cropped_molecules/train_enhanced/190_sc1_molecule_1.png\n",
      "extract image:  ./elsevier_images/cropped_molecules/train_enhanced/190_sc1_molecule_2.png\n",
      "extract image:  ./elsevier_images/cropped_molecules/train_enhanced/190_sc1_molecule_3.png\n",
      "extract image:  ./elsevier_images/cropped_molecules/train_enhanced/254_gr8_molecule_0.png\n"
     ]
    },
    {
     "name": "stderr",
     "output_type": "stream",
     "text": [
      "WARNING:chemschematicresolver.extract:Confidence of label 4 deemed too low for extraction\n"
     ]
    },
    {
     "name": "stdout",
     "output_type": "stream",
     "text": [
      "extract image:  ./elsevier_images/cropped_molecules/train_enhanced/254_gr8_molecule_1.png\n"
     ]
    },
    {
     "name": "stderr",
     "output_type": "stream",
     "text": [
      "WARNING:chemschematicresolver.extract:Confidence of label 1 deemed too low for extraction\n"
     ]
    },
    {
     "name": "stdout",
     "output_type": "stream",
     "text": [
      "extract image:  ./elsevier_images/cropped_molecules/train_enhanced/254_gr8_molecule_2.png\n"
     ]
    },
    {
     "name": "stderr",
     "output_type": "stream",
     "text": [
      "WARNING:chemschematicresolver.extract:Confidence of label 4 deemed too low for extraction\n"
     ]
    },
    {
     "name": "stdout",
     "output_type": "stream",
     "text": [
      "extract image:  ./elsevier_images/cropped_molecules/train/254_gr8_molecule_3.png\n",
      "extract image:  ./elsevier_images/cropped_molecules/train/254_gr8_molecule_4.png\n",
      "extract image:  ./elsevier_images/cropped_molecules/train_enhanced/254_gr8_molecule_5.png\n"
     ]
    },
    {
     "name": "stderr",
     "output_type": "stream",
     "text": [
      "WARNING:chemschematicresolver.extract:Confidence of label 2 deemed too low for extraction\n"
     ]
    },
    {
     "name": "stdout",
     "output_type": "stream",
     "text": [
      "extract image:  ./elsevier_images/cropped_molecules/train/254_gr8_molecule_6.png\n",
      "extract image:  ./elsevier_images/cropped_molecules/train/254_gr8_molecule_7.png\n",
      "Runtime error, no smiles\n",
      "extract image:  ./elsevier_images/cropped_molecules/train/254_gr8_molecule_8.png\n",
      "extract image:  ./elsevier_images/cropped_molecules/train_enhanced/254_gr8_molecule_9.png\n"
     ]
    },
    {
     "name": "stderr",
     "output_type": "stream",
     "text": [
      "WARNING:chemschematicresolver.actions:No SMILES string was extracted for diagram 2\n",
      "WARNING:chemschematicresolver.extract:Some SMILES strings were determined to be false positives and were removed from the output.\n"
     ]
    },
    {
     "name": "stdout",
     "output_type": "stream",
     "text": [
      "extract image:  ./elsevier_images/cropped_molecules/train_enhanced/385_sc1_molecule_0.png\n",
      "extract image:  ./elsevier_images/cropped_molecules/train_enhanced/385_sc1_molecule_1.png\n",
      "extract image:  ./elsevier_images/cropped_molecules/train_enhanced/385_sc1_molecule_2.png\n",
      "extract image:  ./elsevier_images/cropped_molecules/train_enhanced/385_sc1_molecule_3.png\n",
      "extract image:  ./elsevier_images/cropped_molecules/train_enhanced/385_sc1_molecule_4.png\n"
     ]
    },
    {
     "name": "stderr",
     "output_type": "stream",
     "text": [
      "WARNING:chemschematicresolver.extract:Text could not be resolved from label 0\n",
      "WARNING:chemschematicresolver.extract:Confidence of label 0 deemed too low for extraction\n"
     ]
    },
    {
     "name": "stdout",
     "output_type": "stream",
     "text": [
      "extract image:  ./elsevier_images/cropped_molecules/train_enhanced/385_sc1_molecule_5.png\n",
      "extract image:  ./elsevier_images/cropped_molecules/train_enhanced/68_fx1_molecule_0.png\n",
      "extract image:  ./elsevier_images/cropped_molecules/train_enhanced/68_gr1_molecule_0.png\n",
      "extract image:  ./elsevier_images/cropped_molecules/train_enhanced/68_sc1_molecule_0.png\n",
      "extract image:  ./elsevier_images/cropped_molecules/train_enhanced/68_sc1_molecule_1.png\n",
      "Runtime error, no smiles\n",
      "extract image:  ./elsevier_images/cropped_molecules/train_enhanced/68_sc1_molecule_2.png\n"
     ]
    },
    {
     "name": "stderr",
     "output_type": "stream",
     "text": [
      "WARNING:chemschematicresolver.extract:Confidence of label 0 deemed too low for extraction\n"
     ]
    },
    {
     "name": "stdout",
     "output_type": "stream",
     "text": [
      "extract image:  ./elsevier_images/cropped_molecules/train_enhanced/68_sc1_molecule_3.png\n",
      "extract image:  ./elsevier_images/cropped_molecules/train_enhanced/68_sc1_molecule_4.png\n",
      "extract image:  ./elsevier_images/cropped_molecules/train_enhanced/68_sc1_molecule_5.png\n",
      "extract image:  ./elsevier_images/cropped_molecules/train_enhanced/68_sc1_molecule_6.png\n",
      "extract image:  ./elsevier_images/cropped_molecules/train_enhanced/68_sc1_molecule_7.png\n"
     ]
    },
    {
     "name": "stderr",
     "output_type": "stream",
     "text": [
      "WARNING:chemschematicresolver.extract:Text could not be resolved from label 0\n",
      "WARNING:chemschematicresolver.extract:Confidence of label 0 deemed too low for extraction\n"
     ]
    },
    {
     "name": "stdout",
     "output_type": "stream",
     "text": [
      "extract image:  ./elsevier_images/cropped_molecules/train_enhanced/68_sc1_molecule_8.png\n"
     ]
    }
   ],
   "source": [
    "# put it into CSR \n",
    "smile_results = {}\n",
    "\n",
    "for img in enhanced_train_images:\n",
    "    \n",
    "    print('extract image: ', img)\n",
    "    result = None\n",
    "    image = cv2.imread(img)\n",
    "    if image.shape[0] * image.shape[1] > 2000 * 2000: continue\n",
    "    \n",
    "    try:\n",
    "        result = csr.extract_image(img, allow_wildcards=True)\n",
    "    except:\n",
    "        print('Runtime error, no smiles')\n",
    "    \n",
    "    if result is not None and len(result):\n",
    "        smile_results[img] = result.copy()"
   ]
  },
  {
   "cell_type": "code",
   "execution_count": 10,
   "metadata": {},
   "outputs": [
    {
     "data": {
      "text/plain": [
       "72"
      ]
     },
     "execution_count": 10,
     "metadata": {},
     "output_type": "execute_result"
    }
   ],
   "source": [
    "len(smile_results)"
   ]
  },
  {
   "cell_type": "code",
   "execution_count": 11,
   "metadata": {},
   "outputs": [],
   "source": [
    "with open(\"Seaki_Elsevier_enhanced_OD_image_train.json\", \"w\") as outfile:\n",
    "    json.dump(smile_results, outfile)"
   ]
  },
  {
   "cell_type": "code",
   "execution_count": null,
   "metadata": {},
   "outputs": [],
   "source": []
  },
  {
   "cell_type": "code",
   "execution_count": 24,
   "metadata": {},
   "outputs": [],
   "source": [
    "molecules_dir = './elsevier_images/cropped_molecules/test/'\n",
    "\n",
    "croped_image_from_test = []\n",
    "\n",
    "for file in os.listdir(molecules_dir):\n",
    "    if file.endswith(\".png\"):\n",
    "        croped_image_from_test.append(os.path.join(molecules_dir, file))"
   ]
  },
  {
   "cell_type": "code",
   "execution_count": 25,
   "metadata": {},
   "outputs": [
    {
     "data": {
      "text/plain": [
       "313"
      ]
     },
     "execution_count": 25,
     "metadata": {},
     "output_type": "execute_result"
    }
   ],
   "source": [
    "len(croped_image_from_test)"
   ]
  },
  {
   "cell_type": "code",
   "execution_count": 26,
   "metadata": {},
   "outputs": [
    {
     "name": "stdout",
     "output_type": "stream",
     "text": [
      "extract image:  ./elsevier_images/cropped_molecules/test/197_fx1_molecule_0.png\n",
      "Runtime error, no smiles\n",
      "extract image:  ./elsevier_images/cropped_molecules/test/197_fx1_molecule_1.png\n"
     ]
    },
    {
     "name": "stderr",
     "output_type": "stream",
     "text": [
      "WARNING:chemschematicresolver.extract:Text could not be resolved from label 0\n",
      "WARNING:chemschematicresolver.extract:Confidence of label 0 deemed too low for extraction\n",
      "WARNING:chemschematicresolver.extract:Text could not be resolved from label 1\n",
      "WARNING:chemschematicresolver.extract:Confidence of label 1 deemed too low for extraction\n"
     ]
    },
    {
     "name": "stdout",
     "output_type": "stream",
     "text": [
      "extract image:  ./elsevier_images/cropped_molecules/test/197_fx1_molecule_2.png\n",
      "Runtime error, no smiles\n",
      "extract image:  ./elsevier_images/cropped_molecules/test/197_fx1_molecule_3.png\n",
      "Runtime error, no smiles\n",
      "extract image:  ./elsevier_images/cropped_molecules/test/197_fx1_molecule_4.png\n"
     ]
    },
    {
     "name": "stderr",
     "output_type": "stream",
     "text": [
      "WARNING:chemschematicresolver.extract:Text could not be resolved from label 0\n",
      "WARNING:chemschematicresolver.extract:Confidence of label 0 deemed too low for extraction\n",
      "WARNING:chemschematicresolver.extract:Text could not be resolved from label 1\n",
      "WARNING:chemschematicresolver.extract:Confidence of label 1 deemed too low for extraction\n",
      "WARNING:chemschematicresolver.extract:Text could not be resolved from label 0\n",
      "WARNING:chemschematicresolver.extract:Confidence of label 0 deemed too low for extraction\n"
     ]
    },
    {
     "name": "stdout",
     "output_type": "stream",
     "text": [
      "extract image:  ./elsevier_images/cropped_molecules/test/197_sc1_molecule_0.png\n",
      "extract image:  ./elsevier_images/cropped_molecules/test/197_sc1_molecule_1.png\n",
      "Runtime error, no smiles\n",
      "extract image:  ./elsevier_images/cropped_molecules/test/197_sc1_molecule_2.png\n"
     ]
    },
    {
     "name": "stderr",
     "output_type": "stream",
     "text": [
      "WARNING:chemschematicresolver.extract:Text could not be resolved from label 0\n",
      "WARNING:chemschematicresolver.extract:Confidence of label 0 deemed too low for extraction\n"
     ]
    },
    {
     "name": "stdout",
     "output_type": "stream",
     "text": [
      "extract image:  ./elsevier_images/cropped_molecules/test/197_sc1_molecule_3.png\n",
      "extract image:  ./elsevier_images/cropped_molecules/test/227_fx1_molecule_0.png\n",
      "Runtime error, no smiles\n",
      "extract image:  ./elsevier_images/cropped_molecules/test/227_gr7_molecule_0.png\n"
     ]
    },
    {
     "name": "stderr",
     "output_type": "stream",
     "text": [
      "WARNING:chemschematicresolver.extract:Text could not be resolved from label 3\n",
      "WARNING:chemschematicresolver.extract:Confidence of label 3 deemed too low for extraction\n",
      "WARNING:chemschematicresolver.extract:Text could not be resolved from label 2\n",
      "WARNING:chemschematicresolver.extract:Confidence of label 2 deemed too low for extraction\n",
      "WARNING:chemschematicresolver.extract:Text could not be resolved from label 1\n",
      "WARNING:chemschematicresolver.extract:Confidence of label 1 deemed too low for extraction\n",
      "WARNING:chemschematicresolver.extract:Text could not be resolved from label 1\n",
      "WARNING:chemschematicresolver.extract:Confidence of label 1 deemed too low for extraction\n"
     ]
    },
    {
     "name": "stdout",
     "output_type": "stream",
     "text": [
      "extract image:  ./elsevier_images/cropped_molecules/test/227_gr7_molecule_1.png\n"
     ]
    },
    {
     "name": "stderr",
     "output_type": "stream",
     "text": [
      "WARNING:chemschematicresolver.extract:Confidence of label 3 deemed too low for extraction\n"
     ]
    },
    {
     "name": "stdout",
     "output_type": "stream",
     "text": [
      "extract image:  ./elsevier_images/cropped_molecules/test/227_gr7_molecule_2.png\n"
     ]
    },
    {
     "name": "stderr",
     "output_type": "stream",
     "text": [
      "WARNING:chemschematicresolver.extract:Text could not be resolved from label 0\n",
      "WARNING:chemschematicresolver.extract:Confidence of label 0 deemed too low for extraction\n",
      "WARNING:chemschematicresolver.extract:Confidence of label 0 deemed too low for extraction\n"
     ]
    },
    {
     "name": "stdout",
     "output_type": "stream",
     "text": [
      "extract image:  ./elsevier_images/cropped_molecules/test/227_gr7_molecule_3.png\n",
      "extract image:  ./elsevier_images/cropped_molecules/test/248_gr8_molecule_0.png\n"
     ]
    },
    {
     "name": "stderr",
     "output_type": "stream",
     "text": [
      "WARNING:chemschematicresolver.extract:Confidence of label 4 deemed too low for extraction\n",
      "WARNING:chemschematicresolver.extract:Text could not be resolved from label 0\n",
      "WARNING:chemschematicresolver.extract:Confidence of label 0 deemed too low for extraction\n"
     ]
    },
    {
     "name": "stdout",
     "output_type": "stream",
     "text": [
      "extract image:  ./elsevier_images/cropped_molecules/test/248_gr8_molecule_1.png\n",
      "extract image:  ./elsevier_images/cropped_molecules/test/248_gr8_molecule_2.png\n"
     ]
    },
    {
     "name": "stderr",
     "output_type": "stream",
     "text": [
      "WARNING:chemschematicresolver.extract:Confidence of label 2 deemed too low for extraction\n"
     ]
    },
    {
     "name": "stdout",
     "output_type": "stream",
     "text": [
      "extract image:  ./elsevier_images/cropped_molecules/test/248_gr8_molecule_3.png\n"
     ]
    },
    {
     "name": "stderr",
     "output_type": "stream",
     "text": [
      "WARNING:chemschematicresolver.extract:Confidence of label 0 deemed too low for extraction\n"
     ]
    },
    {
     "name": "stdout",
     "output_type": "stream",
     "text": [
      "extract image:  ./elsevier_images/cropped_molecules/test/248_gr8_molecule_4.png\n",
      "extract image:  ./elsevier_images/cropped_molecules/test/248_gr8_molecule_5.png\n"
     ]
    },
    {
     "name": "stderr",
     "output_type": "stream",
     "text": [
      "WARNING:chemschematicresolver.extract:Confidence of label 0 deemed too low for extraction\n",
      "WARNING:chemschematicresolver.actions:No SMILES string was extracted for diagram 4\n",
      "WARNING:chemschematicresolver.extract:Some SMILES strings were determined to be false positives and were removed from the output.\n"
     ]
    },
    {
     "name": "stdout",
     "output_type": "stream",
     "text": [
      "extract image:  ./elsevier_images/cropped_molecules/test/248_gr8_molecule_6.png\n",
      "extract image:  ./elsevier_images/cropped_molecules/test/248_gr8_molecule_7.png\n",
      "Runtime error, no smiles\n",
      "extract image:  ./elsevier_images/cropped_molecules/test/248_gr9_molecule_0.png\n",
      "Runtime error, no smiles\n",
      "extract image:  ./elsevier_images/cropped_molecules/test/248_gr9_molecule_1.png\n",
      "Runtime error, no smiles\n",
      "extract image:  ./elsevier_images/cropped_molecules/test/248_gr9_molecule_2.png\n",
      "Runtime error, no smiles\n",
      "extract image:  ./elsevier_images/cropped_molecules/test/248_gr9_molecule_3.png\n",
      "Runtime error, no smiles\n",
      "extract image:  ./elsevier_images/cropped_molecules/test/254_fx1_molecule_0.png\n"
     ]
    },
    {
     "name": "stderr",
     "output_type": "stream",
     "text": [
      "WARNING:chemschematicresolver.extract:Confidence of label 5 deemed too low for extraction\n",
      "WARNING:chemschematicresolver.extract:Text could not be resolved from label 0\n",
      "WARNING:chemschematicresolver.extract:Confidence of label 0 deemed too low for extraction\n"
     ]
    },
    {
     "name": "stdout",
     "output_type": "stream",
     "text": [
      "extract image:  ./elsevier_images/cropped_molecules/test/281_sc1_molecule_0.png\n",
      "extract image:  ./elsevier_images/cropped_molecules/test/281_sc1_molecule_1.png\n",
      "extract image:  ./elsevier_images/cropped_molecules/test/281_sc1_molecule_2.png\n",
      "extract image:  ./elsevier_images/cropped_molecules/test/281_sc1_molecule_3.png\n"
     ]
    },
    {
     "name": "stderr",
     "output_type": "stream",
     "text": [
      "WARNING:chemschematicresolver.extract:Text could not be resolved from label 0\n",
      "WARNING:chemschematicresolver.extract:Confidence of label 0 deemed too low for extraction\n"
     ]
    },
    {
     "name": "stdout",
     "output_type": "stream",
     "text": [
      "extract image:  ./elsevier_images/cropped_molecules/test/281_sc1_molecule_4.png\n"
     ]
    },
    {
     "name": "stderr",
     "output_type": "stream",
     "text": [
      "WARNING:chemschematicresolver.extract:Text could not be resolved from label 0\n",
      "WARNING:chemschematicresolver.extract:Confidence of label 0 deemed too low for extraction\n"
     ]
    },
    {
     "name": "stdout",
     "output_type": "stream",
     "text": [
      "extract image:  ./elsevier_images/cropped_molecules/test/281_sc1_molecule_5.png\n"
     ]
    },
    {
     "name": "stderr",
     "output_type": "stream",
     "text": [
      "WARNING:chemschematicresolver.extract:Text could not be resolved from label 0\n",
      "WARNING:chemschematicresolver.extract:Confidence of label 0 deemed too low for extraction\n"
     ]
    },
    {
     "name": "stdout",
     "output_type": "stream",
     "text": [
      "extract image:  ./elsevier_images/cropped_molecules/test/299_fx1_molecule_0.png\n"
     ]
    },
    {
     "name": "stderr",
     "output_type": "stream",
     "text": [
      "WARNING:chemschematicresolver.extract:Text could not be resolved from label 1\n",
      "WARNING:chemschematicresolver.extract:Confidence of label 1 deemed too low for extraction\n"
     ]
    },
    {
     "name": "stdout",
     "output_type": "stream",
     "text": [
      "extract image:  ./elsevier_images/cropped_molecules/test/299_gr7_molecule_0.png\n"
     ]
    },
    {
     "name": "stderr",
     "output_type": "stream",
     "text": [
      "WARNING:chemschematicresolver.extract:Text could not be resolved from label 2\n",
      "WARNING:chemschematicresolver.extract:Confidence of label 2 deemed too low for extraction\n"
     ]
    },
    {
     "name": "stdout",
     "output_type": "stream",
     "text": [
      "extract image:  ./elsevier_images/cropped_molecules/test/299_gr7_molecule_1.png\n"
     ]
    },
    {
     "name": "stderr",
     "output_type": "stream",
     "text": [
      "WARNING:chemschematicresolver.actions:No SMILES string was extracted for diagram 4\n",
      "WARNING:chemschematicresolver.extract:Confidence of label 0 deemed too low for extraction\n",
      "WARNING:chemschematicresolver.extract:Confidence of label 2 deemed too low for extraction\n",
      "WARNING:chemschematicresolver.extract:Some SMILES strings were determined to be false positives and were removed from the output.\n"
     ]
    },
    {
     "name": "stdout",
     "output_type": "stream",
     "text": [
      "extract image:  ./elsevier_images/cropped_molecules/test/299_gr7_molecule_2.png\n"
     ]
    },
    {
     "name": "stderr",
     "output_type": "stream",
     "text": [
      "WARNING:chemschematicresolver.extract:Confidence of label 0 deemed too low for extraction\n",
      "WARNING:chemschematicresolver.actions:No SMILES string was extracted for diagram 2\n",
      "WARNING:chemschematicresolver.extract:Some SMILES strings were determined to be false positives and were removed from the output.\n",
      "WARNING:chemschematicresolver.extract:Text could not be resolved from label 1\n",
      "WARNING:chemschematicresolver.extract:Confidence of label 1 deemed too low for extraction\n",
      "WARNING:chemschematicresolver.extract:Text could not be resolved from label 0\n",
      "WARNING:chemschematicresolver.extract:Confidence of label 0 deemed too low for extraction\n"
     ]
    },
    {
     "name": "stdout",
     "output_type": "stream",
     "text": [
      "extract image:  ./elsevier_images/cropped_molecules/test/299_gr7_molecule_3.png\n",
      "extract image:  ./elsevier_images/cropped_molecules/test/299_gr7_molecule_4.png\n"
     ]
    },
    {
     "name": "stderr",
     "output_type": "stream",
     "text": [
      "WARNING:chemschematicresolver.extract:Confidence of label 0 deemed too low for extraction\n",
      "WARNING:chemschematicresolver.extract:Confidence of label 4 deemed too low for extraction\n"
     ]
    },
    {
     "name": "stdout",
     "output_type": "stream",
     "text": [
      "extract image:  ./elsevier_images/cropped_molecules/test/299_gr7_molecule_5.png\n",
      "extract image:  ./elsevier_images/cropped_molecules/test/299_gr8_molecule_0.png\n"
     ]
    },
    {
     "name": "stderr",
     "output_type": "stream",
     "text": [
      "WARNING:chemschematicresolver.extract:Text could not be resolved from label 2\n",
      "WARNING:chemschematicresolver.extract:Confidence of label 2 deemed too low for extraction\n"
     ]
    },
    {
     "name": "stdout",
     "output_type": "stream",
     "text": [
      "extract image:  ./elsevier_images/cropped_molecules/test/299_gr8_molecule_1.png\n"
     ]
    },
    {
     "name": "stderr",
     "output_type": "stream",
     "text": [
      "WARNING:chemschematicresolver.extract:Text could not be resolved from label 1\n",
      "WARNING:chemschematicresolver.extract:Confidence of label 1 deemed too low for extraction\n"
     ]
    },
    {
     "name": "stdout",
     "output_type": "stream",
     "text": [
      "extract image:  ./elsevier_images/cropped_molecules/test/299_gr8_molecule_2.png\n"
     ]
    },
    {
     "name": "stderr",
     "output_type": "stream",
     "text": [
      "WARNING:chemschematicresolver.extract:Text could not be resolved from label 0\n",
      "WARNING:chemschematicresolver.extract:Confidence of label 0 deemed too low for extraction\n",
      "WARNING:chemschematicresolver.extract:Text could not be resolved from label 1\n",
      "WARNING:chemschematicresolver.extract:Confidence of label 1 deemed too low for extraction\n"
     ]
    },
    {
     "name": "stdout",
     "output_type": "stream",
     "text": [
      "extract image:  ./elsevier_images/cropped_molecules/test/299_gr8_molecule_3.png\n"
     ]
    },
    {
     "name": "stderr",
     "output_type": "stream",
     "text": [
      "WARNING:chemschematicresolver.extract:Text could not be resolved from label 0\n",
      "WARNING:chemschematicresolver.extract:Confidence of label 0 deemed too low for extraction\n",
      "WARNING:chemschematicresolver.actions:No SMILES string was extracted for diagram 3\n",
      "WARNING:chemschematicresolver.extract:Some SMILES strings were determined to be false positives and were removed from the output.\n",
      "WARNING:chemschematicresolver.extract:Confidence of label 0 deemed too low for extraction\n"
     ]
    },
    {
     "name": "stdout",
     "output_type": "stream",
     "text": [
      "extract image:  ./elsevier_images/cropped_molecules/test/299_gr8_molecule_4.png\n",
      "extract image:  ./elsevier_images/cropped_molecules/test/299_gr8_molecule_5.png\n"
     ]
    },
    {
     "name": "stderr",
     "output_type": "stream",
     "text": [
      "WARNING:chemschematicresolver.extract:Confidence of label 0 deemed too low for extraction\n"
     ]
    },
    {
     "name": "stdout",
     "output_type": "stream",
     "text": [
      "extract image:  ./elsevier_images/cropped_molecules/test/299_gr8_molecule_6.png\n"
     ]
    },
    {
     "name": "stderr",
     "output_type": "stream",
     "text": [
      "WARNING:chemschematicresolver.extract:Confidence of label 2 deemed too low for extraction\n"
     ]
    },
    {
     "name": "stdout",
     "output_type": "stream",
     "text": [
      "extract image:  ./elsevier_images/cropped_molecules/test/299_gr9_molecule_0.png\n"
     ]
    },
    {
     "name": "stderr",
     "output_type": "stream",
     "text": [
      "WARNING:chemschematicresolver.extract:Text could not be resolved from label 1\n",
      "WARNING:chemschematicresolver.extract:Confidence of label 1 deemed too low for extraction\n",
      "WARNING:chemschematicresolver.extract:Text could not be resolved from label 0\n",
      "WARNING:chemschematicresolver.extract:Confidence of label 0 deemed too low for extraction\n"
     ]
    },
    {
     "name": "stdout",
     "output_type": "stream",
     "text": [
      "extract image:  ./elsevier_images/cropped_molecules/test/299_gr9_molecule_1.png\n"
     ]
    },
    {
     "name": "stderr",
     "output_type": "stream",
     "text": [
      "WARNING:chemschematicresolver.extract:Confidence of label 0 deemed too low for extraction\n"
     ]
    },
    {
     "name": "stdout",
     "output_type": "stream",
     "text": [
      "extract image:  ./elsevier_images/cropped_molecules/test/299_gr9_molecule_2.png\n"
     ]
    },
    {
     "name": "stderr",
     "output_type": "stream",
     "text": [
      "WARNING:chemschematicresolver.extract:Text could not be resolved from label 0\n",
      "WARNING:chemschematicresolver.extract:Confidence of label 0 deemed too low for extraction\n",
      "WARNING:chemschematicresolver.extract:Text could not be resolved from label 2\n",
      "WARNING:chemschematicresolver.extract:Confidence of label 2 deemed too low for extraction\n"
     ]
    },
    {
     "name": "stdout",
     "output_type": "stream",
     "text": [
      "extract image:  ./elsevier_images/cropped_molecules/test/299_gr9_molecule_3.png\n"
     ]
    },
    {
     "name": "stderr",
     "output_type": "stream",
     "text": [
      "WARNING:chemschematicresolver.extract:Text could not be resolved from label 1\n",
      "WARNING:chemschematicresolver.extract:Confidence of label 1 deemed too low for extraction\n"
     ]
    },
    {
     "name": "stdout",
     "output_type": "stream",
     "text": [
      "extract image:  ./elsevier_images/cropped_molecules/test/299_gr9_molecule_4.png\n"
     ]
    },
    {
     "name": "stderr",
     "output_type": "stream",
     "text": [
      "WARNING:chemschematicresolver.extract:Text could not be resolved from label 0\n",
      "WARNING:chemschematicresolver.extract:Confidence of label 0 deemed too low for extraction\n",
      "WARNING:chemschematicresolver.extract:Text could not be resolved from label 1\n",
      "WARNING:chemschematicresolver.extract:Confidence of label 1 deemed too low for extraction\n"
     ]
    },
    {
     "name": "stdout",
     "output_type": "stream",
     "text": [
      "extract image:  ./elsevier_images/cropped_molecules/test/300_fx1_molecule_0.png\n"
     ]
    },
    {
     "name": "stderr",
     "output_type": "stream",
     "text": [
      "WARNING:chemschematicresolver.extract:Text could not be resolved from label 0\n",
      "WARNING:chemschematicresolver.extract:Confidence of label 0 deemed too low for extraction\n",
      "WARNING:chemschematicresolver.extract:Text could not be resolved from label 2\n",
      "WARNING:chemschematicresolver.extract:Confidence of label 2 deemed too low for extraction\n",
      "WARNING:chemschematicresolver.extract:Text could not be resolved from label 4\n",
      "WARNING:chemschematicresolver.extract:Confidence of label 4 deemed too low for extraction\n",
      "WARNING:chemschematicresolver.extract:Text could not be resolved from label 3\n",
      "WARNING:chemschematicresolver.extract:Confidence of label 3 deemed too low for extraction\n",
      "WARNING:chemschematicresolver.extract:Text could not be resolved from label 1\n",
      "WARNING:chemschematicresolver.extract:Confidence of label 1 deemed too low for extraction\n"
     ]
    },
    {
     "name": "stdout",
     "output_type": "stream",
     "text": [
      "extract image:  ./elsevier_images/cropped_molecules/test/300_gr7_molecule_0.png\n"
     ]
    },
    {
     "name": "stderr",
     "output_type": "stream",
     "text": [
      "WARNING:chemschematicresolver.actions:No SMILES string was extracted for diagram 4\n",
      "WARNING:chemschematicresolver.extract:Some SMILES strings were determined to be false positives and were removed from the output.\n"
     ]
    },
    {
     "name": "stdout",
     "output_type": "stream",
     "text": [
      "extract image:  ./elsevier_images/cropped_molecules/test/300_gr7_molecule_1.png\n",
      "extract image:  ./elsevier_images/cropped_molecules/test/300_sc1_molecule_0.png\n",
      "extract image:  ./elsevier_images/cropped_molecules/test/300_sc1_molecule_1.png\n"
     ]
    },
    {
     "name": "stderr",
     "output_type": "stream",
     "text": [
      "WARNING:chemschematicresolver.actions:No SMILES string was extracted for diagram 4\n",
      "WARNING:chemschematicresolver.extract:Some SMILES strings were determined to be false positives and were removed from the output.\n"
     ]
    },
    {
     "name": "stdout",
     "output_type": "stream",
     "text": [
      "extract image:  ./elsevier_images/cropped_molecules/test/300_sc1_molecule_2.png\n",
      "extract image:  ./elsevier_images/cropped_molecules/test/300_sc1_molecule_3.png\n"
     ]
    },
    {
     "name": "stderr",
     "output_type": "stream",
     "text": [
      "WARNING:chemschematicresolver.extract:Confidence of label 1 deemed too low for extraction\n"
     ]
    },
    {
     "name": "stdout",
     "output_type": "stream",
     "text": [
      "extract image:  ./elsevier_images/cropped_molecules/test/300_sc1_molecule_4.png\n",
      "extract image:  ./elsevier_images/cropped_molecules/test/300_sc1_molecule_5.png\n",
      "extract image:  ./elsevier_images/cropped_molecules/test/300_sc1_molecule_6.png\n"
     ]
    },
    {
     "name": "stderr",
     "output_type": "stream",
     "text": [
      "WARNING:chemschematicresolver.actions:No SMILES string was extracted for diagram 6\n",
      "WARNING:chemschematicresolver.extract:Some SMILES strings were determined to be false positives and were removed from the output.\n"
     ]
    },
    {
     "name": "stdout",
     "output_type": "stream",
     "text": [
      "extract image:  ./elsevier_images/cropped_molecules/test/347_fx1_molecule_0.png\n"
     ]
    },
    {
     "name": "stderr",
     "output_type": "stream",
     "text": [
      "WARNING:chemschematicresolver.extract:Confidence of label 9 deemed too low for extraction\n",
      "WARNING:chemschematicresolver.extract:Text could not be resolved from label 7\n",
      "WARNING:chemschematicresolver.extract:Confidence of label 7 deemed too low for extraction\n"
     ]
    },
    {
     "name": "stdout",
     "output_type": "stream",
     "text": [
      "extract image:  ./elsevier_images/cropped_molecules/test/347_sc1_molecule_0.png\n"
     ]
    },
    {
     "name": "stderr",
     "output_type": "stream",
     "text": [
      "WARNING:chemschematicresolver.actions:No SMILES string was extracted for diagram 4\n",
      "WARNING:chemschematicresolver.extract:Some SMILES strings were determined to be false positives and were removed from the output.\n"
     ]
    },
    {
     "name": "stdout",
     "output_type": "stream",
     "text": [
      "extract image:  ./elsevier_images/cropped_molecules/test/347_sc1_molecule_1.png\n",
      "extract image:  ./elsevier_images/cropped_molecules/test/347_sc1_molecule_2.png\n",
      "extract image:  ./elsevier_images/cropped_molecules/test/347_sc1_molecule_3.png\n"
     ]
    },
    {
     "name": "stderr",
     "output_type": "stream",
     "text": [
      "WARNING:chemschematicresolver.extract:Text could not be resolved from label 0\n",
      "WARNING:chemschematicresolver.extract:Confidence of label 0 deemed too low for extraction\n",
      "WARNING:chemschematicresolver.extract:Text could not be resolved from label 0\n",
      "WARNING:chemschematicresolver.extract:Confidence of label 0 deemed too low for extraction\n"
     ]
    },
    {
     "name": "stdout",
     "output_type": "stream",
     "text": [
      "extract image:  ./elsevier_images/cropped_molecules/test/347_sc1_molecule_4.png\n",
      "extract image:  ./elsevier_images/cropped_molecules/test/377_sc1_molecule_0.png\n"
     ]
    },
    {
     "name": "stderr",
     "output_type": "stream",
     "text": [
      "WARNING:chemschematicresolver.extract:Text could not be resolved from label 4\n",
      "WARNING:chemschematicresolver.extract:Confidence of label 4 deemed too low for extraction\n",
      "WARNING:chemschematicresolver.extract:Text could not be resolved from label 3\n",
      "WARNING:chemschematicresolver.extract:Confidence of label 3 deemed too low for extraction\n",
      "WARNING:chemschematicresolver.extract:Text could not be resolved from label 1\n",
      "WARNING:chemschematicresolver.extract:Confidence of label 1 deemed too low for extraction\n",
      "WARNING:chemschematicresolver.extract:Text could not be resolved from label 2\n",
      "WARNING:chemschematicresolver.extract:Confidence of label 2 deemed too low for extraction\n",
      "WARNING:chemschematicresolver.extract:Confidence of label 1 deemed too low for extraction\n"
     ]
    },
    {
     "name": "stdout",
     "output_type": "stream",
     "text": [
      "extract image:  ./elsevier_images/cropped_molecules/test/377_sc1_molecule_1.png\n",
      "extract image:  ./elsevier_images/cropped_molecules/test/377_sc1_molecule_2.png\n"
     ]
    },
    {
     "name": "stderr",
     "output_type": "stream",
     "text": [
      "WARNING:chemschematicresolver.extract:Confidence of label 1 deemed too low for extraction\n"
     ]
    },
    {
     "name": "stdout",
     "output_type": "stream",
     "text": [
      "extract image:  ./elsevier_images/cropped_molecules/test/377_sc1_molecule_3.png\n"
     ]
    },
    {
     "name": "stderr",
     "output_type": "stream",
     "text": [
      "WARNING:chemschematicresolver.extract:Confidence of label 3 deemed too low for extraction\n",
      "WARNING:chemschematicresolver.extract:Text could not be resolved from label 0\n",
      "WARNING:chemschematicresolver.extract:Confidence of label 0 deemed too low for extraction\n"
     ]
    },
    {
     "name": "stdout",
     "output_type": "stream",
     "text": [
      "extract image:  ./elsevier_images/cropped_molecules/test/379_fx1_molecule_0.png\n",
      "extract image:  ./elsevier_images/cropped_molecules/test/379_fx1_molecule_1.png\n"
     ]
    },
    {
     "name": "stderr",
     "output_type": "stream",
     "text": [
      "WARNING:chemschematicresolver.extract:Text could not be resolved from label 2\n",
      "WARNING:chemschematicresolver.extract:Confidence of label 2 deemed too low for extraction\n",
      "WARNING:chemschematicresolver.extract:Text could not be resolved from label 1\n",
      "WARNING:chemschematicresolver.extract:Confidence of label 1 deemed too low for extraction\n",
      "WARNING:chemschematicresolver.extract:Text could not be resolved from label 0\n",
      "WARNING:chemschematicresolver.extract:Confidence of label 0 deemed too low for extraction\n",
      "WARNING:chemschematicresolver.extract:Text could not be resolved from label 2\n",
      "WARNING:chemschematicresolver.extract:Confidence of label 2 deemed too low for extraction\n"
     ]
    },
    {
     "name": "stdout",
     "output_type": "stream",
     "text": [
      "extract image:  ./elsevier_images/cropped_molecules/test/379_sc1_molecule_0.png\n",
      "extract image:  ./elsevier_images/cropped_molecules/test/379_sc1_molecule_1.png\n"
     ]
    },
    {
     "name": "stderr",
     "output_type": "stream",
     "text": [
      "WARNING:chemschematicresolver.extract:Text could not be resolved from label 0\n",
      "WARNING:chemschematicresolver.extract:Confidence of label 0 deemed too low for extraction\n"
     ]
    },
    {
     "name": "stdout",
     "output_type": "stream",
     "text": [
      "extract image:  ./elsevier_images/cropped_molecules/test/379_sc1_molecule_10.png\n"
     ]
    },
    {
     "name": "stderr",
     "output_type": "stream",
     "text": [
      "WARNING:chemschematicresolver.extract:Text could not be resolved from label 0\n",
      "WARNING:chemschematicresolver.extract:Confidence of label 0 deemed too low for extraction\n"
     ]
    },
    {
     "name": "stdout",
     "output_type": "stream",
     "text": [
      "Runtime error, no smiles\n",
      "extract image:  ./elsevier_images/cropped_molecules/test/379_sc1_molecule_11.png\n",
      "extract image:  ./elsevier_images/cropped_molecules/test/379_sc1_molecule_2.png\n",
      "extract image:  ./elsevier_images/cropped_molecules/test/379_sc1_molecule_3.png\n"
     ]
    },
    {
     "name": "stderr",
     "output_type": "stream",
     "text": [
      "WARNING:chemschematicresolver.extract:Text could not be resolved from label 0\n",
      "WARNING:chemschematicresolver.extract:Confidence of label 0 deemed too low for extraction\n",
      "WARNING:chemschematicresolver.extract:Text could not be resolved from label 1\n",
      "WARNING:chemschematicresolver.extract:Confidence of label 1 deemed too low for extraction\n",
      "WARNING:chemschematicresolver.extract:Confidence of label 0 deemed too low for extraction\n"
     ]
    },
    {
     "name": "stdout",
     "output_type": "stream",
     "text": [
      "extract image:  ./elsevier_images/cropped_molecules/test/379_sc1_molecule_4.png\n",
      "extract image:  ./elsevier_images/cropped_molecules/test/379_sc1_molecule_5.png\n"
     ]
    },
    {
     "name": "stderr",
     "output_type": "stream",
     "text": [
      "WARNING:chemschematicresolver.extract:Text could not be resolved from label 0\n",
      "WARNING:chemschematicresolver.extract:Confidence of label 0 deemed too low for extraction\n"
     ]
    },
    {
     "name": "stdout",
     "output_type": "stream",
     "text": [
      "extract image:  ./elsevier_images/cropped_molecules/test/379_sc1_molecule_6.png\n",
      "extract image:  ./elsevier_images/cropped_molecules/test/379_sc1_molecule_7.png\n"
     ]
    },
    {
     "name": "stderr",
     "output_type": "stream",
     "text": [
      "WARNING:chemschematicresolver.extract:Confidence of label 0 deemed too low for extraction\n",
      "WARNING:chemschematicresolver.extract:Text could not be resolved from label 0\n",
      "WARNING:chemschematicresolver.extract:Confidence of label 0 deemed too low for extraction\n",
      "WARNING:chemschematicresolver.extract:Text could not be resolved from label 0\n",
      "WARNING:chemschematicresolver.extract:Confidence of label 0 deemed too low for extraction\n"
     ]
    },
    {
     "name": "stdout",
     "output_type": "stream",
     "text": [
      "extract image:  ./elsevier_images/cropped_molecules/test/379_sc1_molecule_8.png\n",
      "extract image:  ./elsevier_images/cropped_molecules/test/379_sc1_molecule_9.png\n",
      "extract image:  ./elsevier_images/cropped_molecules/test/379_sc2_molecule_0.png\n"
     ]
    },
    {
     "name": "stderr",
     "output_type": "stream",
     "text": [
      "WARNING:chemschematicresolver.extract:Text could not be resolved from label 1\n",
      "WARNING:chemschematicresolver.extract:Confidence of label 1 deemed too low for extraction\n",
      "WARNING:chemschematicresolver.extract:Confidence of label 2 deemed too low for extraction\n"
     ]
    },
    {
     "name": "stdout",
     "output_type": "stream",
     "text": [
      "extract image:  ./elsevier_images/cropped_molecules/test/379_sc2_molecule_1.png\n"
     ]
    },
    {
     "name": "stderr",
     "output_type": "stream",
     "text": [
      "WARNING:chemschematicresolver.extract:Text could not be resolved from label 1\n",
      "WARNING:chemschematicresolver.extract:Confidence of label 1 deemed too low for extraction\n"
     ]
    },
    {
     "name": "stdout",
     "output_type": "stream",
     "text": [
      "extract image:  ./elsevier_images/cropped_molecules/test/379_sc2_molecule_2.png\n"
     ]
    },
    {
     "name": "stderr",
     "output_type": "stream",
     "text": [
      "WARNING:chemschematicresolver.r_group:No SMILES strings were extracted for diagram 6\n"
     ]
    },
    {
     "name": "stdout",
     "output_type": "stream",
     "text": [
      "extract image:  ./elsevier_images/cropped_molecules/test/379_sc2_molecule_3.png\n"
     ]
    },
    {
     "name": "stderr",
     "output_type": "stream",
     "text": [
      "WARNING:chemschematicresolver.extract:Text could not be resolved from label 1\n",
      "WARNING:chemschematicresolver.extract:Confidence of label 1 deemed too low for extraction\n",
      "WARNING:chemschematicresolver.extract:Text could not be resolved from label 0\n",
      "WARNING:chemschematicresolver.extract:Confidence of label 0 deemed too low for extraction\n"
     ]
    },
    {
     "name": "stdout",
     "output_type": "stream",
     "text": [
      "extract image:  ./elsevier_images/cropped_molecules/test/379_sc2_molecule_4.png\n"
     ]
    },
    {
     "name": "stderr",
     "output_type": "stream",
     "text": [
      "WARNING:chemschematicresolver.extract:Text could not be resolved from label 0\n",
      "WARNING:chemschematicresolver.extract:Confidence of label 0 deemed too low for extraction\n",
      "WARNING:chemschematicresolver.extract:Text could not be resolved from label 7\n",
      "WARNING:chemschematicresolver.extract:Confidence of label 7 deemed too low for extraction\n",
      "WARNING:chemschematicresolver.extract:Text could not be resolved from label 5\n",
      "WARNING:chemschematicresolver.extract:Confidence of label 5 deemed too low for extraction\n",
      "WARNING:chemschematicresolver.extract:Text could not be resolved from label 1\n",
      "WARNING:chemschematicresolver.extract:Confidence of label 1 deemed too low for extraction\n"
     ]
    },
    {
     "name": "stdout",
     "output_type": "stream",
     "text": [
      "extract image:  ./elsevier_images/cropped_molecules/test/391_fx1_molecule_0.png\n"
     ]
    },
    {
     "name": "stderr",
     "output_type": "stream",
     "text": [
      "WARNING:chemschematicresolver.extract:Confidence of label 2 deemed too low for extraction\n",
      "WARNING:chemschematicresolver.extract:Confidence of label 3 deemed too low for extraction\n"
     ]
    },
    {
     "name": "stdout",
     "output_type": "stream",
     "text": [
      "extract image:  ./elsevier_images/cropped_molecules/test/391_fx1_molecule_1.png\n",
      "extract image:  ./elsevier_images/cropped_molecules/test/391_fx1_molecule_2.png\n"
     ]
    },
    {
     "name": "stderr",
     "output_type": "stream",
     "text": [
      "WARNING:chemschematicresolver.extract:Text could not be resolved from label 0\n",
      "WARNING:chemschematicresolver.extract:Confidence of label 0 deemed too low for extraction\n",
      "WARNING:chemschematicresolver.extract:Text could not be resolved from label 1\n",
      "WARNING:chemschematicresolver.extract:Confidence of label 1 deemed too low for extraction\n",
      "WARNING:chemschematicresolver.extract:Confidence of label 0 deemed too low for extraction\n"
     ]
    },
    {
     "name": "stdout",
     "output_type": "stream",
     "text": [
      "extract image:  ./elsevier_images/cropped_molecules/test/391_sc1_molecule_0.png\n",
      "extract image:  ./elsevier_images/cropped_molecules/test/391_sc1_molecule_1.png\n"
     ]
    },
    {
     "name": "stderr",
     "output_type": "stream",
     "text": [
      "WARNING:chemschematicresolver.extract:Confidence of label 3 deemed too low for extraction\n"
     ]
    },
    {
     "name": "stdout",
     "output_type": "stream",
     "text": [
      "extract image:  ./elsevier_images/cropped_molecules/test/391_sc1_molecule_10.png\n",
      "extract image:  ./elsevier_images/cropped_molecules/test/391_sc1_molecule_2.png\n"
     ]
    },
    {
     "name": "stderr",
     "output_type": "stream",
     "text": [
      "WARNING:chemschematicresolver.extract:Confidence of label 1 deemed too low for extraction\n"
     ]
    },
    {
     "name": "stdout",
     "output_type": "stream",
     "text": [
      "extract image:  ./elsevier_images/cropped_molecules/test/391_sc1_molecule_3.png\n",
      "extract image:  ./elsevier_images/cropped_molecules/test/391_sc1_molecule_4.png\n"
     ]
    },
    {
     "name": "stderr",
     "output_type": "stream",
     "text": [
      "WARNING:chemschematicresolver.extract:Text could not be resolved from label 1\n",
      "WARNING:chemschematicresolver.extract:Confidence of label 1 deemed too low for extraction\n",
      "WARNING:chemschematicresolver.extract:Text could not be resolved from label 0\n",
      "WARNING:chemschematicresolver.extract:Confidence of label 0 deemed too low for extraction\n",
      "WARNING:chemschematicresolver.extract:Confidence of label 0 deemed too low for extraction\n"
     ]
    },
    {
     "name": "stdout",
     "output_type": "stream",
     "text": [
      "extract image:  ./elsevier_images/cropped_molecules/test/391_sc1_molecule_5.png\n",
      "extract image:  ./elsevier_images/cropped_molecules/test/391_sc1_molecule_6.png\n"
     ]
    },
    {
     "name": "stderr",
     "output_type": "stream",
     "text": [
      "WARNING:chemschematicresolver.extract:Confidence of label 4 deemed too low for extraction\n"
     ]
    },
    {
     "name": "stdout",
     "output_type": "stream",
     "text": [
      "extract image:  ./elsevier_images/cropped_molecules/test/391_sc1_molecule_7.png\n"
     ]
    },
    {
     "name": "stderr",
     "output_type": "stream",
     "text": [
      "WARNING:chemschematicresolver.extract:Confidence of label 2 deemed too low for extraction\n"
     ]
    },
    {
     "name": "stdout",
     "output_type": "stream",
     "text": [
      "extract image:  ./elsevier_images/cropped_molecules/test/391_sc1_molecule_8.png\n",
      "extract image:  ./elsevier_images/cropped_molecules/test/391_sc1_molecule_9.png\n"
     ]
    },
    {
     "name": "stderr",
     "output_type": "stream",
     "text": [
      "WARNING:chemschematicresolver.extract:Confidence of label 0 deemed too low for extraction\n",
      "WARNING:chemschematicresolver.actions:No SMILES string was extracted for diagram 1\n",
      "WARNING:chemschematicresolver.extract:Some SMILES strings were determined to be false positives and were removed from the output.\n"
     ]
    },
    {
     "name": "stdout",
     "output_type": "stream",
     "text": [
      "extract image:  ./elsevier_images/cropped_molecules/test/392_sc1_molecule_0.png\n",
      "extract image:  ./elsevier_images/cropped_molecules/test/392_sc1_molecule_1.png\n"
     ]
    },
    {
     "name": "stderr",
     "output_type": "stream",
     "text": [
      "WARNING:chemschematicresolver.extract:Text could not be resolved from label 1\n",
      "WARNING:chemschematicresolver.extract:Confidence of label 1 deemed too low for extraction\n",
      "WARNING:chemschematicresolver.extract:Text could not be resolved from label 0\n",
      "WARNING:chemschematicresolver.extract:Confidence of label 0 deemed too low for extraction\n",
      "WARNING:chemschematicresolver.extract:Text could not be resolved from label 3\n",
      "WARNING:chemschematicresolver.extract:Confidence of label 3 deemed too low for extraction\n"
     ]
    },
    {
     "name": "stdout",
     "output_type": "stream",
     "text": [
      "extract image:  ./elsevier_images/cropped_molecules/test/392_sc1_molecule_2.png\n",
      "extract image:  ./elsevier_images/cropped_molecules/test/392_sc1_molecule_3.png\n"
     ]
    },
    {
     "name": "stderr",
     "output_type": "stream",
     "text": [
      "WARNING:chemschematicresolver.extract:Confidence of label 0 deemed too low for extraction\n",
      "WARNING:chemschematicresolver.extract:Text could not be resolved from label 0\n",
      "WARNING:chemschematicresolver.extract:Confidence of label 0 deemed too low for extraction\n"
     ]
    },
    {
     "name": "stdout",
     "output_type": "stream",
     "text": [
      "extract image:  ./elsevier_images/cropped_molecules/test/392_sc1_molecule_4.png\n",
      "extract image:  ./elsevier_images/cropped_molecules/test/392_sc2_molecule_0.png\n"
     ]
    },
    {
     "name": "stderr",
     "output_type": "stream",
     "text": [
      "WARNING:chemschematicresolver.extract:Text could not be resolved from label 4\n",
      "WARNING:chemschematicresolver.extract:Confidence of label 4 deemed too low for extraction\n",
      "WARNING:chemschematicresolver.extract:Confidence of label 5 deemed too low for extraction\n",
      "WARNING:chemschematicresolver.extract:Confidence of label 6 deemed too low for extraction\n"
     ]
    },
    {
     "name": "stdout",
     "output_type": "stream",
     "text": [
      "extract image:  ./elsevier_images/cropped_molecules/test/392_sc2_molecule_1.png\n",
      "Runtime error, no smiles\n",
      "extract image:  ./elsevier_images/cropped_molecules/test/392_sc2_molecule_2.png\n"
     ]
    },
    {
     "name": "stderr",
     "output_type": "stream",
     "text": [
      "WARNING:chemschematicresolver.extract:Confidence of label 4 deemed too low for extraction\n"
     ]
    },
    {
     "name": "stdout",
     "output_type": "stream",
     "text": [
      "extract image:  ./elsevier_images/cropped_molecules/test/423_fx1_molecule_0.png\n",
      "extract image:  ./elsevier_images/cropped_molecules/test/423_fx1_molecule_1.png\n"
     ]
    },
    {
     "name": "stderr",
     "output_type": "stream",
     "text": [
      "WARNING:chemschematicresolver.extract:Confidence of label 1 deemed too low for extraction\n"
     ]
    },
    {
     "name": "stdout",
     "output_type": "stream",
     "text": [
      "extract image:  ./elsevier_images/cropped_molecules/test/423_gr5_molecule_0.png\n",
      "extract image:  ./elsevier_images/cropped_molecules/test/423_gr5_molecule_1.png\n",
      "extract image:  ./elsevier_images/cropped_molecules/test/423_gr5_molecule_2.png\n",
      "extract image:  ./elsevier_images/cropped_molecules/test/423_gr5_molecule_3.png\n",
      "extract image:  ./elsevier_images/cropped_molecules/test/423_gr5_molecule_4.png\n"
     ]
    },
    {
     "name": "stderr",
     "output_type": "stream",
     "text": [
      "WARNING:chemschematicresolver.extract:Confidence of label 2 deemed too low for extraction\n"
     ]
    },
    {
     "name": "stdout",
     "output_type": "stream",
     "text": [
      "extract image:  ./elsevier_images/cropped_molecules/test/423_gr5_molecule_5.png\n",
      "extract image:  ./elsevier_images/cropped_molecules/test/458_Bing_Guo_wide_bandgap_2017_P05_molecule_0.png\n"
     ]
    },
    {
     "name": "stderr",
     "output_type": "stream",
     "text": [
      "WARNING:chemschematicresolver.extract:Confidence of label 3 deemed too low for extraction\n",
      "WARNING:chemschematicresolver.actions:No SMILES string was extracted for diagram 5\n",
      "WARNING:chemschematicresolver.extract:Confidence of label 1 deemed too low for extraction\n",
      "WARNING:chemschematicresolver.extract:Some SMILES strings were determined to be false positives and were removed from the output.\n"
     ]
    },
    {
     "name": "stdout",
     "output_type": "stream",
     "text": [
      "extract image:  ./elsevier_images/cropped_molecules/test/458_Bing_Guo_wide_bandgap_2017_P07_molecule_0.png\n"
     ]
    },
    {
     "name": "stderr",
     "output_type": "stream",
     "text": [
      "WARNING:chemschematicresolver.actions:No SMILES string was extracted for diagram 11\n",
      "WARNING:chemschematicresolver.actions:No SMILES string was extracted for diagram 9\n",
      "WARNING:chemschematicresolver.actions:No SMILES string was extracted for diagram 8\n",
      "WARNING:chemschematicresolver.actions:No SMILES string was extracted for diagram 10\n",
      "WARNING:chemschematicresolver.extract:Text could not be resolved from label 0\n",
      "WARNING:chemschematicresolver.extract:Confidence of label 0 deemed too low for extraction\n",
      "WARNING:chemschematicresolver.extract:Some SMILES strings were determined to be false positives and were removed from the output.\n"
     ]
    },
    {
     "name": "stdout",
     "output_type": "stream",
     "text": [
      "extract image:  ./elsevier_images/cropped_molecules/test/458_Bing_Guo_wide_bandgap_2017_P09_molecule_0.png\n"
     ]
    },
    {
     "name": "stderr",
     "output_type": "stream",
     "text": [
      "WARNING:chemschematicresolver.extract:Confidence of label 0 deemed too low for extraction\n"
     ]
    },
    {
     "name": "stdout",
     "output_type": "stream",
     "text": [
      "extract image:  ./elsevier_images/cropped_molecules/test/458_Bing_Guo_wide_bandgap_2017_P12_molecule_0.png\n"
     ]
    },
    {
     "name": "stderr",
     "output_type": "stream",
     "text": [
      "WARNING:chemschematicresolver.extract:Confidence of label 3 deemed too low for extraction\n"
     ]
    },
    {
     "name": "stdout",
     "output_type": "stream",
     "text": [
      "extract image:  ./elsevier_images/cropped_molecules/test/458_Bing_Guo_wide_bandgap_2017_P12_molecule_1.png\n"
     ]
    },
    {
     "name": "stderr",
     "output_type": "stream",
     "text": [
      "WARNING:chemschematicresolver.actions:No SMILES string was extracted for diagram 2\n",
      "WARNING:chemschematicresolver.extract:Some SMILES strings were determined to be false positives and were removed from the output.\n"
     ]
    },
    {
     "name": "stdout",
     "output_type": "stream",
     "text": [
      "extract image:  ./elsevier_images/cropped_molecules/test/458_fx1_molecule_0.png\n"
     ]
    },
    {
     "name": "stderr",
     "output_type": "stream",
     "text": [
      "WARNING:chemschematicresolver.extract:Confidence of label 0 deemed too low for extraction\n"
     ]
    },
    {
     "name": "stdout",
     "output_type": "stream",
     "text": [
      "extract image:  ./elsevier_images/cropped_molecules/test/458_gr1_molecule_0.png\n"
     ]
    },
    {
     "name": "stderr",
     "output_type": "stream",
     "text": [
      "WARNING:chemschematicresolver.extract:Text could not be resolved from label 2\n",
      "WARNING:chemschematicresolver.extract:Confidence of label 2 deemed too low for extraction\n",
      "WARNING:chemschematicresolver.extract:Text could not be resolved from label 0\n",
      "WARNING:chemschematicresolver.extract:Confidence of label 0 deemed too low for extraction\n",
      "WARNING:chemschematicresolver.extract:Text could not be resolved from label 1\n",
      "WARNING:chemschematicresolver.extract:Confidence of label 1 deemed too low for extraction\n"
     ]
    },
    {
     "name": "stdout",
     "output_type": "stream",
     "text": [
      "extract image:  ./elsevier_images/cropped_molecules/test/458_gr1_molecule_1.png\n"
     ]
    },
    {
     "name": "stderr",
     "output_type": "stream",
     "text": [
      "WARNING:chemschematicresolver.extract:Confidence of label 3 deemed too low for extraction\n"
     ]
    },
    {
     "name": "stdout",
     "output_type": "stream",
     "text": [
      "extract image:  ./elsevier_images/cropped_molecules/test/458_gr1_molecule_2.png\n",
      "extract image:  ./elsevier_images/cropped_molecules/test/463_fx1_molecule_0.png\n",
      "extract image:  ./elsevier_images/cropped_molecules/test/463_fx1_molecule_1.png\n",
      "extract image:  ./elsevier_images/cropped_molecules/test/463_sc1_molecule_0.png\n"
     ]
    },
    {
     "name": "stderr",
     "output_type": "stream",
     "text": [
      "WARNING:chemschematicresolver.extract:Confidence of label 0 deemed too low for extraction\n"
     ]
    },
    {
     "name": "stdout",
     "output_type": "stream",
     "text": [
      "extract image:  ./elsevier_images/cropped_molecules/test/463_sc1_molecule_1.png\n"
     ]
    },
    {
     "name": "stderr",
     "output_type": "stream",
     "text": [
      "WARNING:chemschematicresolver.extract:Text could not be resolved from label 0\n",
      "WARNING:chemschematicresolver.extract:Confidence of label 0 deemed too low for extraction\n"
     ]
    },
    {
     "name": "stdout",
     "output_type": "stream",
     "text": [
      "extract image:  ./elsevier_images/cropped_molecules/test/463_sc1_molecule_2.png\n"
     ]
    },
    {
     "name": "stderr",
     "output_type": "stream",
     "text": [
      "WARNING:chemschematicresolver.extract:Text could not be resolved from label 0\n",
      "WARNING:chemschematicresolver.extract:Confidence of label 0 deemed too low for extraction\n"
     ]
    },
    {
     "name": "stdout",
     "output_type": "stream",
     "text": [
      "extract image:  ./elsevier_images/cropped_molecules/test/463_sc1_molecule_3.png\n",
      "extract image:  ./elsevier_images/cropped_molecules/test/463_sc1_molecule_4.png\n",
      "extract image:  ./elsevier_images/cropped_molecules/test/463_sc1_molecule_5.png\n"
     ]
    },
    {
     "name": "stderr",
     "output_type": "stream",
     "text": [
      "WARNING:chemschematicresolver.extract:Confidence of label 0 deemed too low for extraction\n"
     ]
    },
    {
     "name": "stdout",
     "output_type": "stream",
     "text": [
      "extract image:  ./elsevier_images/cropped_molecules/test/463_sc1_molecule_6.png\n"
     ]
    },
    {
     "name": "stderr",
     "output_type": "stream",
     "text": [
      "WARNING:chemschematicresolver.extract:Confidence of label 0 deemed too low for extraction\n"
     ]
    },
    {
     "name": "stdout",
     "output_type": "stream",
     "text": [
      "extract image:  ./elsevier_images/cropped_molecules/test/463_sc1_molecule_7.png\n"
     ]
    },
    {
     "name": "stderr",
     "output_type": "stream",
     "text": [
      "WARNING:chemschematicresolver.extract:Text could not be resolved from label 0\n",
      "WARNING:chemschematicresolver.extract:Confidence of label 0 deemed too low for extraction\n"
     ]
    },
    {
     "name": "stdout",
     "output_type": "stream",
     "text": [
      "extract image:  ./elsevier_images/cropped_molecules/test/464_fx1_molecule_0.png\n"
     ]
    },
    {
     "name": "stderr",
     "output_type": "stream",
     "text": [
      "WARNING:chemschematicresolver.extract:Confidence of label 1 deemed too low for extraction\n"
     ]
    },
    {
     "name": "stdout",
     "output_type": "stream",
     "text": [
      "extract image:  ./elsevier_images/cropped_molecules/test/464_fx1_molecule_1.png\n"
     ]
    },
    {
     "name": "stderr",
     "output_type": "stream",
     "text": [
      "WARNING:chemschematicresolver.extract:Confidence of label 1 deemed too low for extraction\n"
     ]
    },
    {
     "name": "stdout",
     "output_type": "stream",
     "text": [
      "extract image:  ./elsevier_images/cropped_molecules/test/464_fx1_molecule_2.png\n"
     ]
    },
    {
     "name": "stderr",
     "output_type": "stream",
     "text": [
      "WARNING:chemschematicresolver.extract:Confidence of label 1 deemed too low for extraction\n"
     ]
    },
    {
     "name": "stdout",
     "output_type": "stream",
     "text": [
      "extract image:  ./elsevier_images/cropped_molecules/test/464_fx1_molecule_3.png\n"
     ]
    },
    {
     "name": "stderr",
     "output_type": "stream",
     "text": [
      "WARNING:chemschematicresolver.extract:Confidence of label 1 deemed too low for extraction\n",
      "WARNING:chemschematicresolver.extract:Text could not be resolved from label 0\n",
      "WARNING:chemschematicresolver.extract:Confidence of label 0 deemed too low for extraction\n"
     ]
    },
    {
     "name": "stdout",
     "output_type": "stream",
     "text": [
      "extract image:  ./elsevier_images/cropped_molecules/test/464_sc1_molecule_0.png\n",
      "extract image:  ./elsevier_images/cropped_molecules/test/464_sc1_molecule_1.png\n",
      "extract image:  ./elsevier_images/cropped_molecules/test/464_sc1_molecule_2.png\n"
     ]
    },
    {
     "name": "stderr",
     "output_type": "stream",
     "text": [
      "WARNING:chemschematicresolver.extract:Text could not be resolved from label 0\n",
      "WARNING:chemschematicresolver.extract:Confidence of label 0 deemed too low for extraction\n"
     ]
    },
    {
     "name": "stdout",
     "output_type": "stream",
     "text": [
      "extract image:  ./elsevier_images/cropped_molecules/test/464_sc1_molecule_3.png\n",
      "extract image:  ./elsevier_images/cropped_molecules/test/464_sc1_molecule_4.png\n",
      "extract image:  ./elsevier_images/cropped_molecules/test/464_sc1_molecule_5.png\n",
      "extract image:  ./elsevier_images/cropped_molecules/test/465_fx1_molecule_0.png\n"
     ]
    },
    {
     "name": "stderr",
     "output_type": "stream",
     "text": [
      "WARNING:chemschematicresolver.extract:Confidence of label 2 deemed too low for extraction\n"
     ]
    },
    {
     "name": "stdout",
     "output_type": "stream",
     "text": [
      "extract image:  ./elsevier_images/cropped_molecules/test/465_fx1_molecule_1.png\n"
     ]
    },
    {
     "name": "stderr",
     "output_type": "stream",
     "text": [
      "WARNING:chemschematicresolver.extract:Confidence of label 1 deemed too low for extraction\n",
      "WARNING:chemschematicresolver.actions:No SMILES string was extracted for diagram 3\n",
      "WARNING:chemschematicresolver.extract:Some SMILES strings were determined to be false positives and were removed from the output.\n"
     ]
    },
    {
     "name": "stdout",
     "output_type": "stream",
     "text": [
      "extract image:  ./elsevier_images/cropped_molecules/test/465_sc1_molecule_0.png\n",
      "extract image:  ./elsevier_images/cropped_molecules/test/465_sc1_molecule_1.png\n"
     ]
    },
    {
     "name": "stderr",
     "output_type": "stream",
     "text": [
      "WARNING:chemschematicresolver.extract:Confidence of label 2 deemed too low for extraction\n"
     ]
    },
    {
     "name": "stdout",
     "output_type": "stream",
     "text": [
      "extract image:  ./elsevier_images/cropped_molecules/test/465_sc1_molecule_2.png\n",
      "extract image:  ./elsevier_images/cropped_molecules/test/465_sc1_molecule_3.png\n"
     ]
    },
    {
     "name": "stderr",
     "output_type": "stream",
     "text": [
      "WARNING:chemschematicresolver.extract:Confidence of label 0 deemed too low for extraction\n"
     ]
    },
    {
     "name": "stdout",
     "output_type": "stream",
     "text": [
      "extract image:  ./elsevier_images/cropped_molecules/test/465_sc1_molecule_4.png\n",
      "Runtime error, no smiles\n",
      "extract image:  ./elsevier_images/cropped_molecules/test/466_fx1_molecule_0.png\n",
      "extract image:  ./elsevier_images/cropped_molecules/test/466_fx1_molecule_1.png\n"
     ]
    },
    {
     "name": "stderr",
     "output_type": "stream",
     "text": [
      "WARNING:chemschematicresolver.extract:Text could not be resolved from label 2\n",
      "WARNING:chemschematicresolver.extract:Confidence of label 2 deemed too low for extraction\n"
     ]
    },
    {
     "name": "stdout",
     "output_type": "stream",
     "text": [
      "extract image:  ./elsevier_images/cropped_molecules/test/466_sc1_molecule_0.png\n",
      "extract image:  ./elsevier_images/cropped_molecules/test/466_sc1_molecule_1.png\n"
     ]
    },
    {
     "name": "stderr",
     "output_type": "stream",
     "text": [
      "WARNING:chemschematicresolver.actions:No SMILES string was extracted for diagram 5\n",
      "WARNING:chemschematicresolver.extract:Some SMILES strings were determined to be false positives and were removed from the output.\n"
     ]
    },
    {
     "name": "stdout",
     "output_type": "stream",
     "text": [
      "extract image:  ./elsevier_images/cropped_molecules/test/466_sc1_molecule_2.png\n",
      "extract image:  ./elsevier_images/cropped_molecules/test/466_sc1_molecule_3.png\n"
     ]
    },
    {
     "name": "stderr",
     "output_type": "stream",
     "text": [
      "WARNING:chemschematicresolver.extract:Confidence of label 0 deemed too low for extraction\n"
     ]
    },
    {
     "name": "stdout",
     "output_type": "stream",
     "text": [
      "extract image:  ./elsevier_images/cropped_molecules/test/466_sc1_molecule_4.png\n"
     ]
    },
    {
     "name": "stderr",
     "output_type": "stream",
     "text": [
      "WARNING:chemschematicresolver.extract:Confidence of label 0 deemed too low for extraction\n"
     ]
    },
    {
     "name": "stdout",
     "output_type": "stream",
     "text": [
      "extract image:  ./elsevier_images/cropped_molecules/test/466_sc1_molecule_5.png\n"
     ]
    },
    {
     "name": "stderr",
     "output_type": "stream",
     "text": [
      "WARNING:chemschematicresolver.extract:Text could not be resolved from label 0\n",
      "WARNING:chemschematicresolver.extract:Confidence of label 0 deemed too low for extraction\n",
      "WARNING:chemschematicresolver.extract:Text could not be resolved from label 1\n",
      "WARNING:chemschematicresolver.extract:Confidence of label 1 deemed too low for extraction\n"
     ]
    },
    {
     "name": "stdout",
     "output_type": "stream",
     "text": [
      "extract image:  ./elsevier_images/cropped_molecules/test/466_sc1_molecule_6.png\n"
     ]
    },
    {
     "name": "stderr",
     "output_type": "stream",
     "text": [
      "WARNING:chemschematicresolver.extract:Text could not be resolved from label 1\n",
      "WARNING:chemschematicresolver.extract:Confidence of label 1 deemed too low for extraction\n"
     ]
    },
    {
     "name": "stdout",
     "output_type": "stream",
     "text": [
      "extract image:  ./elsevier_images/cropped_molecules/test/466_sc1_molecule_7.png\n"
     ]
    },
    {
     "name": "stderr",
     "output_type": "stream",
     "text": [
      "WARNING:chemschematicresolver.extract:Text could not be resolved from label 0\n",
      "WARNING:chemschematicresolver.extract:Confidence of label 0 deemed too low for extraction\n"
     ]
    },
    {
     "name": "stdout",
     "output_type": "stream",
     "text": [
      "extract image:  ./elsevier_images/cropped_molecules/test/466_sc1_molecule_8.png\n"
     ]
    },
    {
     "name": "stderr",
     "output_type": "stream",
     "text": [
      "WARNING:chemschematicresolver.extract:Text could not be resolved from label 0\n",
      "WARNING:chemschematicresolver.extract:Confidence of label 0 deemed too low for extraction\n"
     ]
    },
    {
     "name": "stdout",
     "output_type": "stream",
     "text": [
      "extract image:  ./elsevier_images/cropped_molecules/test/466_sc1_molecule_9.png\n",
      "Runtime error, no smiles\n",
      "extract image:  ./elsevier_images/cropped_molecules/test/467_sc1_molecule_0.png\n"
     ]
    },
    {
     "name": "stderr",
     "output_type": "stream",
     "text": [
      "WARNING:chemschematicresolver.extract:Text could not be resolved from label 1\n",
      "WARNING:chemschematicresolver.extract:Confidence of label 1 deemed too low for extraction\n",
      "WARNING:chemschematicresolver.extract:Text could not be resolved from label 0\n",
      "WARNING:chemschematicresolver.extract:Confidence of label 0 deemed too low for extraction\n"
     ]
    },
    {
     "name": "stdout",
     "output_type": "stream",
     "text": [
      "extract image:  ./elsevier_images/cropped_molecules/test/467_sc1_molecule_1.png\n"
     ]
    },
    {
     "name": "stderr",
     "output_type": "stream",
     "text": [
      "WARNING:chemschematicresolver.extract:Text could not be resolved from label 0\n",
      "WARNING:chemschematicresolver.extract:Confidence of label 0 deemed too low for extraction\n"
     ]
    },
    {
     "name": "stdout",
     "output_type": "stream",
     "text": [
      "extract image:  ./elsevier_images/cropped_molecules/test/469_fx1_molecule_0.png\n"
     ]
    },
    {
     "name": "stderr",
     "output_type": "stream",
     "text": [
      "WARNING:chemschematicresolver.extract:Text could not be resolved from label 0\n",
      "WARNING:chemschematicresolver.extract:Confidence of label 0 deemed too low for extraction\n",
      "WARNING:chemschematicresolver.extract:Text could not be resolved from label 2\n",
      "WARNING:chemschematicresolver.extract:Confidence of label 2 deemed too low for extraction\n"
     ]
    },
    {
     "name": "stdout",
     "output_type": "stream",
     "text": [
      "extract image:  ./elsevier_images/cropped_molecules/test/469_gr1_molecule_0.png\n"
     ]
    },
    {
     "name": "stderr",
     "output_type": "stream",
     "text": [
      "WARNING:chemschematicresolver.extract:Confidence of label 0 deemed too low for extraction\n"
     ]
    },
    {
     "name": "stdout",
     "output_type": "stream",
     "text": [
      "extract image:  ./elsevier_images/cropped_molecules/test/469_gr1_molecule_1.png\n",
      "extract image:  ./elsevier_images/cropped_molecules/test/469_gr1_molecule_2.png\n"
     ]
    },
    {
     "name": "stderr",
     "output_type": "stream",
     "text": [
      "WARNING:chemschematicresolver.extract:Confidence of label 0 deemed too low for extraction\n"
     ]
    },
    {
     "name": "stdout",
     "output_type": "stream",
     "text": [
      "extract image:  ./elsevier_images/cropped_molecules/test/469_gr1_molecule_3.png\n"
     ]
    },
    {
     "name": "stderr",
     "output_type": "stream",
     "text": [
      "WARNING:chemschematicresolver.extract:Confidence of label 0 deemed too low for extraction\n"
     ]
    },
    {
     "name": "stdout",
     "output_type": "stream",
     "text": [
      "extract image:  ./elsevier_images/cropped_molecules/test/469_gr1_molecule_4.png\n"
     ]
    },
    {
     "name": "stderr",
     "output_type": "stream",
     "text": [
      "WARNING:chemschematicresolver.extract:Text could not be resolved from label 0\n",
      "WARNING:chemschematicresolver.extract:Confidence of label 0 deemed too low for extraction\n"
     ]
    },
    {
     "name": "stdout",
     "output_type": "stream",
     "text": [
      "extract image:  ./elsevier_images/cropped_molecules/test/470_fx1_molecule_0.png\n",
      "extract image:  ./elsevier_images/cropped_molecules/test/470_fx1_molecule_1.png\n"
     ]
    },
    {
     "name": "stderr",
     "output_type": "stream",
     "text": [
      "WARNING:chemschematicresolver.extract:Confidence of label 0 deemed too low for extraction\n"
     ]
    },
    {
     "name": "stdout",
     "output_type": "stream",
     "text": [
      "extract image:  ./elsevier_images/cropped_molecules/test/470_sc1_molecule_0.png\n",
      "Runtime error, no smiles\n",
      "extract image:  ./elsevier_images/cropped_molecules/test/470_sc2_molecule_0.png\n",
      "extract image:  ./elsevier_images/cropped_molecules/test/470_sc2_molecule_1.png\n",
      "extract image:  ./elsevier_images/cropped_molecules/test/470_sc2_molecule_2.png\n",
      "extract image:  ./elsevier_images/cropped_molecules/test/470_sc2_molecule_3.png\n",
      "extract image:  ./elsevier_images/cropped_molecules/test/470_sc2_molecule_4.png\n"
     ]
    },
    {
     "name": "stderr",
     "output_type": "stream",
     "text": [
      "WARNING:chemschematicresolver.extract:Confidence of label 1 deemed too low for extraction\n",
      "WARNING:chemschematicresolver.extract:Text could not be resolved from label 0\n",
      "WARNING:chemschematicresolver.extract:Confidence of label 0 deemed too low for extraction\n"
     ]
    },
    {
     "name": "stdout",
     "output_type": "stream",
     "text": [
      "extract image:  ./elsevier_images/cropped_molecules/test/470_sc2_molecule_5.png\n",
      "extract image:  ./elsevier_images/cropped_molecules/test/470_sc3_molecule_0.png\n",
      "extract image:  ./elsevier_images/cropped_molecules/test/470_sc3_molecule_1.png\n"
     ]
    },
    {
     "name": "stderr",
     "output_type": "stream",
     "text": [
      "WARNING:chemschematicresolver.extract:Confidence of label 1 deemed too low for extraction\n"
     ]
    },
    {
     "name": "stdout",
     "output_type": "stream",
     "text": [
      "extract image:  ./elsevier_images/cropped_molecules/test/470_sc3_molecule_2.png\n",
      "extract image:  ./elsevier_images/cropped_molecules/test/470_sc3_molecule_3.png\n",
      "extract image:  ./elsevier_images/cropped_molecules/test/470_sc4_molecule_0.png\n"
     ]
    },
    {
     "name": "stderr",
     "output_type": "stream",
     "text": [
      "WARNING:chemschematicresolver.extract:Confidence of label 2 deemed too low for extraction\n",
      "WARNING:chemschematicresolver.extract:Confidence of label 1 deemed too low for extraction\n"
     ]
    },
    {
     "name": "stdout",
     "output_type": "stream",
     "text": [
      "extract image:  ./elsevier_images/cropped_molecules/test/471_gr1_molecule_0.png\n"
     ]
    },
    {
     "name": "stderr",
     "output_type": "stream",
     "text": [
      "WARNING:chemschematicresolver.extract:Confidence of label 0 deemed too low for extraction\n",
      "WARNING:chemschematicresolver.extract:Confidence of label 1 deemed too low for extraction\n"
     ]
    },
    {
     "name": "stdout",
     "output_type": "stream",
     "text": [
      "extract image:  ./elsevier_images/cropped_molecules/test/471_sc1_molecule_0.png\n",
      "extract image:  ./elsevier_images/cropped_molecules/test/472_gr1_molecule_0.png\n",
      "extract image:  ./elsevier_images/cropped_molecules/test/472_gr1_molecule_1.png\n",
      "extract image:  ./elsevier_images/cropped_molecules/test/472_gr2_molecule_0.png\n",
      "extract image:  ./elsevier_images/cropped_molecules/test/472_gr2_molecule_1.png\n"
     ]
    },
    {
     "name": "stderr",
     "output_type": "stream",
     "text": [
      "WARNING:chemschematicresolver.extract:Confidence of label 0 deemed too low for extraction\n"
     ]
    },
    {
     "name": "stdout",
     "output_type": "stream",
     "text": [
      "extract image:  ./elsevier_images/cropped_molecules/test/472_gr2_molecule_2.png\n",
      "Runtime error, no smiles\n",
      "extract image:  ./elsevier_images/cropped_molecules/test/472_sc1_molecule_0.png\n"
     ]
    },
    {
     "name": "stderr",
     "output_type": "stream",
     "text": [
      "WARNING:chemschematicresolver.extract:Text could not be resolved from label 1\n",
      "WARNING:chemschematicresolver.extract:Confidence of label 1 deemed too low for extraction\n",
      "WARNING:chemschematicresolver.extract:Confidence of label 0 deemed too low for extraction\n"
     ]
    },
    {
     "name": "stdout",
     "output_type": "stream",
     "text": [
      "extract image:  ./elsevier_images/cropped_molecules/test/472_sc1_molecule_1.png\n"
     ]
    },
    {
     "name": "stderr",
     "output_type": "stream",
     "text": [
      "WARNING:chemschematicresolver.extract:Text could not be resolved from label 0\n",
      "WARNING:chemschematicresolver.extract:Confidence of label 0 deemed too low for extraction\n"
     ]
    },
    {
     "name": "stdout",
     "output_type": "stream",
     "text": [
      "extract image:  ./elsevier_images/cropped_molecules/test/472_sc1_molecule_10.png\n"
     ]
    },
    {
     "name": "stderr",
     "output_type": "stream",
     "text": [
      "WARNING:chemschematicresolver.extract:Confidence of label 2 deemed too low for extraction\n"
     ]
    },
    {
     "name": "stdout",
     "output_type": "stream",
     "text": [
      "extract image:  ./elsevier_images/cropped_molecules/test/472_sc1_molecule_2.png\n"
     ]
    },
    {
     "name": "stderr",
     "output_type": "stream",
     "text": [
      "WARNING:chemschematicresolver.extract:Text could not be resolved from label 0\n",
      "WARNING:chemschematicresolver.extract:Confidence of label 0 deemed too low for extraction\n"
     ]
    },
    {
     "name": "stdout",
     "output_type": "stream",
     "text": [
      "extract image:  ./elsevier_images/cropped_molecules/test/472_sc1_molecule_3.png\n"
     ]
    },
    {
     "name": "stderr",
     "output_type": "stream",
     "text": [
      "WARNING:chemschematicresolver.extract:Text could not be resolved from label 0\n",
      "WARNING:chemschematicresolver.extract:Confidence of label 0 deemed too low for extraction\n",
      "WARNING:chemschematicresolver.extract:Text could not be resolved from label 1\n",
      "WARNING:chemschematicresolver.extract:Confidence of label 1 deemed too low for extraction\n"
     ]
    },
    {
     "name": "stdout",
     "output_type": "stream",
     "text": [
      "extract image:  ./elsevier_images/cropped_molecules/test/472_sc1_molecule_4.png\n",
      "extract image:  ./elsevier_images/cropped_molecules/test/472_sc1_molecule_5.png\n"
     ]
    },
    {
     "name": "stderr",
     "output_type": "stream",
     "text": [
      "WARNING:chemschematicresolver.extract:Text could not be resolved from label 0\n",
      "WARNING:chemschematicresolver.extract:Confidence of label 0 deemed too low for extraction\n",
      "WARNING:chemschematicresolver.extract:Text could not be resolved from label 1\n",
      "WARNING:chemschematicresolver.extract:Confidence of label 1 deemed too low for extraction\n"
     ]
    },
    {
     "name": "stdout",
     "output_type": "stream",
     "text": [
      "extract image:  ./elsevier_images/cropped_molecules/test/472_sc1_molecule_6.png\n"
     ]
    },
    {
     "name": "stderr",
     "output_type": "stream",
     "text": [
      "WARNING:chemschematicresolver.extract:Confidence of label 0 deemed too low for extraction\n"
     ]
    },
    {
     "name": "stdout",
     "output_type": "stream",
     "text": [
      "extract image:  ./elsevier_images/cropped_molecules/test/472_sc1_molecule_7.png\n",
      "extract image:  ./elsevier_images/cropped_molecules/test/472_sc1_molecule_8.png\n"
     ]
    },
    {
     "name": "stderr",
     "output_type": "stream",
     "text": [
      "WARNING:chemschematicresolver.extract:Confidence of label 0 deemed too low for extraction\n"
     ]
    },
    {
     "name": "stdout",
     "output_type": "stream",
     "text": [
      "extract image:  ./elsevier_images/cropped_molecules/test/472_sc1_molecule_9.png\n"
     ]
    },
    {
     "name": "stderr",
     "output_type": "stream",
     "text": [
      "WARNING:chemschematicresolver.extract:Text could not be resolved from label 0\n",
      "WARNING:chemschematicresolver.extract:Confidence of label 0 deemed too low for extraction\n"
     ]
    },
    {
     "name": "stdout",
     "output_type": "stream",
     "text": [
      "extract image:  ./elsevier_images/cropped_molecules/test/473_gr1_molecule_0.png\n",
      "extract image:  ./elsevier_images/cropped_molecules/test/473_gr1_molecule_1.png\n",
      "extract image:  ./elsevier_images/cropped_molecules/test/473_gr2_molecule_0.png\n"
     ]
    },
    {
     "name": "stderr",
     "output_type": "stream",
     "text": [
      "WARNING:chemschematicresolver.extract:Text could not be resolved from label 6\n",
      "WARNING:chemschematicresolver.extract:Confidence of label 6 deemed too low for extraction\n",
      "WARNING:chemschematicresolver.extract:Text could not be resolved from label 0\n",
      "WARNING:chemschematicresolver.extract:Confidence of label 0 deemed too low for extraction\n"
     ]
    },
    {
     "name": "stdout",
     "output_type": "stream",
     "text": [
      "extract image:  ./elsevier_images/cropped_molecules/test/473_sc1_molecule_0.png\n",
      "extract image:  ./elsevier_images/cropped_molecules/test/473_sc1_molecule_1.png\n"
     ]
    },
    {
     "name": "stderr",
     "output_type": "stream",
     "text": [
      "WARNING:chemschematicresolver.extract:Confidence of label 2 deemed too low for extraction\n"
     ]
    },
    {
     "name": "stdout",
     "output_type": "stream",
     "text": [
      "extract image:  ./elsevier_images/cropped_molecules/test/473_sc1_molecule_2.png\n",
      "extract image:  ./elsevier_images/cropped_molecules/test/473_sc1_molecule_3.png\n"
     ]
    },
    {
     "name": "stderr",
     "output_type": "stream",
     "text": [
      "WARNING:chemschematicresolver.extract:Confidence of label 0 deemed too low for extraction\n"
     ]
    },
    {
     "name": "stdout",
     "output_type": "stream",
     "text": [
      "extract image:  ./elsevier_images/cropped_molecules/test/473_sc1_molecule_4.png\n",
      "extract image:  ./elsevier_images/cropped_molecules/test/474_fx1_molecule_0.png\n",
      "extract image:  ./elsevier_images/cropped_molecules/test/474_sc1_molecule_0.png\n"
     ]
    },
    {
     "name": "stderr",
     "output_type": "stream",
     "text": [
      "WARNING:chemschematicresolver.extract:Confidence of label 0 deemed too low for extraction\n"
     ]
    },
    {
     "name": "stdout",
     "output_type": "stream",
     "text": [
      "extract image:  ./elsevier_images/cropped_molecules/test/474_sc1_molecule_1.png\n",
      "extract image:  ./elsevier_images/cropped_molecules/test/474_sc1_molecule_2.png\n",
      "extract image:  ./elsevier_images/cropped_molecules/test/474_sc1_molecule_3.png\n",
      "extract image:  ./elsevier_images/cropped_molecules/test/474_sc1_molecule_4.png\n",
      "extract image:  ./elsevier_images/cropped_molecules/test/474_sc1_molecule_5.png\n"
     ]
    },
    {
     "name": "stderr",
     "output_type": "stream",
     "text": [
      "WARNING:chemschematicresolver.extract:Confidence of label 0 deemed too low for extraction\n"
     ]
    },
    {
     "name": "stdout",
     "output_type": "stream",
     "text": [
      "extract image:  ./elsevier_images/cropped_molecules/test/474_sc1_molecule_6.png\n",
      "extract image:  ./elsevier_images/cropped_molecules/test/474_Xue_Gong_Polymer_solar_cells_2017_P04_molecule_0.png\n",
      "extract image:  ./elsevier_images/cropped_molecules/test/474_Xue_Gong_Polymer_solar_cells_2017_P05_molecule_0.png\n"
     ]
    },
    {
     "name": "stderr",
     "output_type": "stream",
     "text": [
      "WARNING:chemschematicresolver.extract:Text could not be resolved from label 0\n",
      "WARNING:chemschematicresolver.extract:Confidence of label 0 deemed too low for extraction\n"
     ]
    },
    {
     "name": "stdout",
     "output_type": "stream",
     "text": [
      "extract image:  ./elsevier_images/cropped_molecules/test/474_Xue_Gong_Polymer_solar_cells_2017_P07_molecule_0.png\n",
      "Runtime error, no smiles\n",
      "extract image:  ./elsevier_images/cropped_molecules/test/474_Xue_Gong_Polymer_solar_cells_2017_P07_molecule_1.png\n"
     ]
    },
    {
     "name": "stderr",
     "output_type": "stream",
     "text": [
      "WARNING:chemschematicresolver.extract:Text could not be resolved from label 0\n",
      "WARNING:chemschematicresolver.extract:Confidence of label 0 deemed too low for extraction\n",
      "WARNING:chemschematicresolver.extract:Text could not be resolved from label 2\n",
      "WARNING:chemschematicresolver.extract:Confidence of label 2 deemed too low for extraction\n"
     ]
    },
    {
     "name": "stdout",
     "output_type": "stream",
     "text": [
      "extract image:  ./elsevier_images/cropped_molecules/test/474_Xue_Gong_Polymer_solar_cells_2017_P07_molecule_2.png\n",
      "Runtime error, no smiles\n",
      "extract image:  ./elsevier_images/cropped_molecules/test/474_Xue_Gong_Polymer_solar_cells_2017_P09_molecule_0.png\n"
     ]
    },
    {
     "name": "stderr",
     "output_type": "stream",
     "text": [
      "WARNING:chemschematicresolver.extract:Confidence of label 0 deemed too low for extraction\n"
     ]
    },
    {
     "name": "stdout",
     "output_type": "stream",
     "text": [
      "extract image:  ./elsevier_images/cropped_molecules/test/474_Xue_Gong_Polymer_solar_cells_2017_P18_molecule_0.png\n"
     ]
    },
    {
     "name": "stderr",
     "output_type": "stream",
     "text": [
      "WARNING:chemschematicresolver.extract:Confidence of label 0 deemed too low for extraction\n"
     ]
    },
    {
     "name": "stdout",
     "output_type": "stream",
     "text": [
      "extract image:  ./elsevier_images/cropped_molecules/test/474_Xue_Gong_Polymer_solar_cells_2017_P18_molecule_1.png\n"
     ]
    },
    {
     "name": "stderr",
     "output_type": "stream",
     "text": [
      "WARNING:chemschematicresolver.extract:Confidence of label 0 deemed too low for extraction\n"
     ]
    },
    {
     "name": "stdout",
     "output_type": "stream",
     "text": [
      "extract image:  ./elsevier_images/cropped_molecules/test/475_sc1_molecule_0.png\n",
      "extract image:  ./elsevier_images/cropped_molecules/test/475_sc1_molecule_1.png\n"
     ]
    },
    {
     "name": "stderr",
     "output_type": "stream",
     "text": [
      "WARNING:chemschematicresolver.extract:Confidence of label 1 deemed too low for extraction\n"
     ]
    },
    {
     "name": "stdout",
     "output_type": "stream",
     "text": [
      "extract image:  ./elsevier_images/cropped_molecules/test/475_sc1_molecule_2.png\n"
     ]
    },
    {
     "name": "stderr",
     "output_type": "stream",
     "text": [
      "WARNING:chemschematicresolver.extract:Confidence of label 0 deemed too low for extraction\n"
     ]
    },
    {
     "name": "stdout",
     "output_type": "stream",
     "text": [
      "extract image:  ./elsevier_images/cropped_molecules/test/484_fx1_molecule_0.png\n"
     ]
    },
    {
     "name": "stderr",
     "output_type": "stream",
     "text": [
      "WARNING:chemschematicresolver.extract:Confidence of label 1 deemed too low for extraction\n"
     ]
    },
    {
     "name": "stdout",
     "output_type": "stream",
     "text": [
      "extract image:  ./elsevier_images/cropped_molecules/test/484_gr1_molecule_0.png\n"
     ]
    },
    {
     "name": "stderr",
     "output_type": "stream",
     "text": [
      "WARNING:chemschematicresolver.extract:Confidence of label 0 deemed too low for extraction\n"
     ]
    },
    {
     "name": "stdout",
     "output_type": "stream",
     "text": [
      "extract image:  ./elsevier_images/cropped_molecules/test/484_gr1_molecule_1.png\n",
      "extract image:  ./elsevier_images/cropped_molecules/test/484_sc1_molecule_0.png\n",
      "extract image:  ./elsevier_images/cropped_molecules/test/484_sc1_molecule_1.png\n",
      "extract image:  ./elsevier_images/cropped_molecules/test/484_sc1_molecule_2.png\n",
      "extract image:  ./elsevier_images/cropped_molecules/test/484_sc1_molecule_3.png\n"
     ]
    },
    {
     "name": "stderr",
     "output_type": "stream",
     "text": [
      "WARNING:chemschematicresolver.actions:No SMILES string was extracted for diagram 5\n",
      "WARNING:chemschematicresolver.extract:Some SMILES strings were determined to be false positives and were removed from the output.\n"
     ]
    },
    {
     "name": "stdout",
     "output_type": "stream",
     "text": [
      "extract image:  ./elsevier_images/cropped_molecules/test/484_sc1_molecule_4.png\n"
     ]
    },
    {
     "name": "stderr",
     "output_type": "stream",
     "text": [
      "WARNING:chemschematicresolver.extract:Text could not be resolved from label 0\n",
      "WARNING:chemschematicresolver.extract:Confidence of label 0 deemed too low for extraction\n"
     ]
    },
    {
     "name": "stdout",
     "output_type": "stream",
     "text": [
      "extract image:  ./elsevier_images/cropped_molecules/test/485_gr1_molecule_0.png\n",
      "extract image:  ./elsevier_images/cropped_molecules/test/485_gr1_molecule_1.png\n",
      "extract image:  ./elsevier_images/cropped_molecules/test/485_sc1_molecule_0.png\n",
      "extract image:  ./elsevier_images/cropped_molecules/test/485_sc1_molecule_1.png\n",
      "extract image:  ./elsevier_images/cropped_molecules/test/485_sc1_molecule_2.png\n"
     ]
    },
    {
     "name": "stderr",
     "output_type": "stream",
     "text": [
      "WARNING:chemschematicresolver.actions:No SMILES string was extracted for diagram 4\n",
      "WARNING:chemschematicresolver.extract:Some SMILES strings were determined to be false positives and were removed from the output.\n"
     ]
    },
    {
     "name": "stdout",
     "output_type": "stream",
     "text": [
      "extract image:  ./elsevier_images/cropped_molecules/test/485_sc1_molecule_3.png\n",
      "Runtime error, no smiles\n",
      "extract image:  ./elsevier_images/cropped_molecules/test/486_fx1_molecule_0.png\n",
      "Runtime error, no smiles\n",
      "extract image:  ./elsevier_images/cropped_molecules/test/486_gr3_molecule_0.png\n"
     ]
    },
    {
     "name": "stderr",
     "output_type": "stream",
     "text": [
      "WARNING:chemschematicresolver.extract:Text could not be resolved from label 0\n",
      "WARNING:chemschematicresolver.extract:Confidence of label 0 deemed too low for extraction\n"
     ]
    },
    {
     "name": "stdout",
     "output_type": "stream",
     "text": [
      "extract image:  ./elsevier_images/cropped_molecules/test/486_gr4_molecule_0.png\n",
      "extract image:  ./elsevier_images/cropped_molecules/test/486_gr4_molecule_1.png\n",
      "extract image:  ./elsevier_images/cropped_molecules/test/486_gr4_molecule_2.png\n"
     ]
    },
    {
     "name": "stderr",
     "output_type": "stream",
     "text": [
      "WARNING:chemschematicresolver.actions:No SMILES string was extracted for diagram 4\n",
      "WARNING:chemschematicresolver.actions:No SMILES string was extracted for diagram 6\n",
      "WARNING:chemschematicresolver.extract:Some SMILES strings were determined to be false positives and were removed from the output.\n"
     ]
    },
    {
     "name": "stdout",
     "output_type": "stream",
     "text": [
      "extract image:  ./elsevier_images/cropped_molecules/test/486_sc1_molecule_0.png\n"
     ]
    },
    {
     "name": "stderr",
     "output_type": "stream",
     "text": [
      "WARNING:chemschematicresolver.extract:Confidence of label 1 deemed too low for extraction\n"
     ]
    },
    {
     "name": "stdout",
     "output_type": "stream",
     "text": [
      "extract image:  ./elsevier_images/cropped_molecules/test/486_sc1_molecule_1.png\n",
      "extract image:  ./elsevier_images/cropped_molecules/test/486_sc1_molecule_10.png\n",
      "extract image:  ./elsevier_images/cropped_molecules/test/486_sc1_molecule_11.png\n",
      "extract image:  ./elsevier_images/cropped_molecules/test/486_sc1_molecule_2.png\n",
      "extract image:  ./elsevier_images/cropped_molecules/test/486_sc1_molecule_3.png\n",
      "extract image:  ./elsevier_images/cropped_molecules/test/486_sc1_molecule_4.png\n"
     ]
    },
    {
     "name": "stderr",
     "output_type": "stream",
     "text": [
      "WARNING:chemschematicresolver.extract:Confidence of label 2 deemed too low for extraction\n",
      "WARNING:chemschematicresolver.extract:Text could not be resolved from label 1\n",
      "WARNING:chemschematicresolver.extract:Confidence of label 1 deemed too low for extraction\n"
     ]
    },
    {
     "name": "stdout",
     "output_type": "stream",
     "text": [
      "extract image:  ./elsevier_images/cropped_molecules/test/486_sc1_molecule_5.png\n"
     ]
    },
    {
     "name": "stderr",
     "output_type": "stream",
     "text": [
      "WARNING:chemschematicresolver.extract:Confidence of label 4 deemed too low for extraction\n"
     ]
    },
    {
     "name": "stdout",
     "output_type": "stream",
     "text": [
      "extract image:  ./elsevier_images/cropped_molecules/test/486_sc1_molecule_6.png\n",
      "extract image:  ./elsevier_images/cropped_molecules/test/486_sc1_molecule_7.png\n",
      "extract image:  ./elsevier_images/cropped_molecules/test/486_sc1_molecule_8.png\n",
      "extract image:  ./elsevier_images/cropped_molecules/test/486_sc1_molecule_9.png\n"
     ]
    },
    {
     "name": "stderr",
     "output_type": "stream",
     "text": [
      "WARNING:chemschematicresolver.extract:Text could not be resolved from label 0\n",
      "WARNING:chemschematicresolver.extract:Confidence of label 0 deemed too low for extraction\n"
     ]
    },
    {
     "name": "stdout",
     "output_type": "stream",
     "text": [
      "Runtime error, no smiles\n",
      "extract image:  ./elsevier_images/cropped_molecules/test/498_fx1_molecule_0.png\n",
      "extract image:  ./elsevier_images/cropped_molecules/test/498_fx1_molecule_1.png\n"
     ]
    },
    {
     "name": "stderr",
     "output_type": "stream",
     "text": [
      "WARNING:chemschematicresolver.extract:Text could not be resolved from label 0\n",
      "WARNING:chemschematicresolver.extract:Confidence of label 0 deemed too low for extraction\n"
     ]
    },
    {
     "name": "stdout",
     "output_type": "stream",
     "text": [
      "extract image:  ./elsevier_images/cropped_molecules/test/498_fx1_molecule_2.png\n"
     ]
    },
    {
     "name": "stderr",
     "output_type": "stream",
     "text": [
      "WARNING:chemschematicresolver.extract:Text could not be resolved from label 1\n",
      "WARNING:chemschematicresolver.extract:Confidence of label 1 deemed too low for extraction\n",
      "WARNING:chemschematicresolver.extract:Text could not be resolved from label 0\n",
      "WARNING:chemschematicresolver.extract:Confidence of label 0 deemed too low for extraction\n"
     ]
    },
    {
     "name": "stdout",
     "output_type": "stream",
     "text": [
      "extract image:  ./elsevier_images/cropped_molecules/test/498_fx1_molecule_3.png\n"
     ]
    },
    {
     "name": "stderr",
     "output_type": "stream",
     "text": [
      "WARNING:chemschematicresolver.extract:Confidence of label 1 deemed too low for extraction\n",
      "WARNING:chemschematicresolver.extract:Text could not be resolved from label 0\n",
      "WARNING:chemschematicresolver.extract:Confidence of label 0 deemed too low for extraction\n"
     ]
    },
    {
     "name": "stdout",
     "output_type": "stream",
     "text": [
      "extract image:  ./elsevier_images/cropped_molecules/test/498_fx1_molecule_4.png\n",
      "extract image:  ./elsevier_images/cropped_molecules/test/498_gr1_molecule_0.png\n"
     ]
    },
    {
     "name": "stderr",
     "output_type": "stream",
     "text": [
      "WARNING:chemschematicresolver.extract:Confidence of label 0 deemed too low for extraction\n"
     ]
    },
    {
     "name": "stdout",
     "output_type": "stream",
     "text": [
      "extract image:  ./elsevier_images/cropped_molecules/test/498_gr1_molecule_1.png\n"
     ]
    },
    {
     "name": "stderr",
     "output_type": "stream",
     "text": [
      "WARNING:chemschematicresolver.extract:Text could not be resolved from label 0\n",
      "WARNING:chemschematicresolver.extract:Confidence of label 0 deemed too low for extraction\n"
     ]
    },
    {
     "name": "stdout",
     "output_type": "stream",
     "text": [
      "extract image:  ./elsevier_images/cropped_molecules/test/498_gr1_molecule_2.png\n"
     ]
    },
    {
     "name": "stderr",
     "output_type": "stream",
     "text": [
      "WARNING:chemschematicresolver.extract:Confidence of label 2 deemed too low for extraction\n",
      "WARNING:chemschematicresolver.extract:Text could not be resolved from label 0\n",
      "WARNING:chemschematicresolver.extract:Confidence of label 0 deemed too low for extraction\n"
     ]
    },
    {
     "name": "stdout",
     "output_type": "stream",
     "text": [
      "extract image:  ./elsevier_images/cropped_molecules/test/498_gr1_molecule_3.png\n"
     ]
    },
    {
     "name": "stderr",
     "output_type": "stream",
     "text": [
      "WARNING:chemschematicresolver.extract:Confidence of label 1 deemed too low for extraction\n"
     ]
    },
    {
     "name": "stdout",
     "output_type": "stream",
     "text": [
      "extract image:  ./elsevier_images/cropped_molecules/test/498_sc1_molecule_0.png\n",
      "extract image:  ./elsevier_images/cropped_molecules/test/498_sc1_molecule_1.png\n",
      "extract image:  ./elsevier_images/cropped_molecules/test/498_sc1_molecule_2.png\n"
     ]
    },
    {
     "name": "stderr",
     "output_type": "stream",
     "text": [
      "WARNING:chemschematicresolver.extract:Confidence of label 0 deemed too low for extraction\n"
     ]
    },
    {
     "name": "stdout",
     "output_type": "stream",
     "text": [
      "extract image:  ./elsevier_images/cropped_molecules/test/498_sc1_molecule_3.png\n"
     ]
    },
    {
     "name": "stderr",
     "output_type": "stream",
     "text": [
      "WARNING:chemschematicresolver.extract:Confidence of label 1 deemed too low for extraction\n",
      "WARNING:chemschematicresolver.extract:Text could not be resolved from label 0\n",
      "WARNING:chemschematicresolver.extract:Confidence of label 0 deemed too low for extraction\n"
     ]
    },
    {
     "name": "stdout",
     "output_type": "stream",
     "text": [
      "extract image:  ./elsevier_images/cropped_molecules/test/498_sc1_molecule_4.png\n",
      "extract image:  ./elsevier_images/cropped_molecules/test/499_sc1_molecule_0.png\n"
     ]
    },
    {
     "name": "stderr",
     "output_type": "stream",
     "text": [
      "WARNING:chemschematicresolver.extract:Text could not be resolved from label 0\n",
      "WARNING:chemschematicresolver.extract:Confidence of label 0 deemed too low for extraction\n",
      "WARNING:chemschematicresolver.extract:Text could not be resolved from label 0\n",
      "WARNING:chemschematicresolver.extract:Confidence of label 0 deemed too low for extraction\n"
     ]
    },
    {
     "name": "stdout",
     "output_type": "stream",
     "text": [
      "extract image:  ./elsevier_images/cropped_molecules/test/499_sc1_molecule_1.png\n",
      "extract image:  ./elsevier_images/cropped_molecules/test/499_sc1_molecule_2.png\n"
     ]
    },
    {
     "name": "stderr",
     "output_type": "stream",
     "text": [
      "WARNING:chemschematicresolver.extract:Text could not be resolved from label 0\n",
      "WARNING:chemschematicresolver.extract:Confidence of label 0 deemed too low for extraction\n",
      "WARNING:chemschematicresolver.extract:Text could not be resolved from label 1\n",
      "WARNING:chemschematicresolver.extract:Confidence of label 1 deemed too low for extraction\n"
     ]
    },
    {
     "name": "stdout",
     "output_type": "stream",
     "text": [
      "extract image:  ./elsevier_images/cropped_molecules/test/500_gr1_molecule_0.png\n"
     ]
    },
    {
     "name": "stderr",
     "output_type": "stream",
     "text": [
      "WARNING:chemschematicresolver.actions:No SMILES string was extracted for diagram 1\n",
      "WARNING:chemschematicresolver.extract:Some SMILES strings were determined to be false positives and were removed from the output.\n"
     ]
    },
    {
     "name": "stdout",
     "output_type": "stream",
     "text": [
      "extract image:  ./elsevier_images/cropped_molecules/test/500_sc1_molecule_0.png\n",
      "extract image:  ./elsevier_images/cropped_molecules/test/500_sc1_molecule_1.png\n"
     ]
    },
    {
     "name": "stderr",
     "output_type": "stream",
     "text": [
      "WARNING:chemschematicresolver.extract:Confidence of label 0 deemed too low for extraction\n"
     ]
    },
    {
     "name": "stdout",
     "output_type": "stream",
     "text": [
      "extract image:  ./elsevier_images/cropped_molecules/test/500_sc1_molecule_2.png\n",
      "extract image:  ./elsevier_images/cropped_molecules/test/500_sc1_molecule_3.png\n",
      "extract image:  ./elsevier_images/cropped_molecules/test/500_sc1_molecule_4.png\n",
      "extract image:  ./elsevier_images/cropped_molecules/test/500_sc1_molecule_5.png\n"
     ]
    },
    {
     "name": "stderr",
     "output_type": "stream",
     "text": [
      "WARNING:chemschematicresolver.extract:Confidence of label 0 deemed too low for extraction\n"
     ]
    },
    {
     "name": "stdout",
     "output_type": "stream",
     "text": [
      "extract image:  ./elsevier_images/cropped_molecules/test/500_sc2_molecule_0.png\n",
      "extract image:  ./elsevier_images/cropped_molecules/test/500_sc2_molecule_1.png\n"
     ]
    },
    {
     "name": "stderr",
     "output_type": "stream",
     "text": [
      "WARNING:chemschematicresolver.extract:Text could not be resolved from label 0\n",
      "WARNING:chemschematicresolver.extract:Confidence of label 0 deemed too low for extraction\n",
      "WARNING:chemschematicresolver.extract:Text could not be resolved from label 0\n",
      "WARNING:chemschematicresolver.extract:Confidence of label 0 deemed too low for extraction\n"
     ]
    },
    {
     "name": "stdout",
     "output_type": "stream",
     "text": [
      "extract image:  ./elsevier_images/cropped_molecules/test/500_sc2_molecule_2.png\n",
      "extract image:  ./elsevier_images/cropped_molecules/test/500_sc2_molecule_3.png\n"
     ]
    },
    {
     "name": "stderr",
     "output_type": "stream",
     "text": [
      "WARNING:chemschematicresolver.extract:Text could not be resolved from label 0\n",
      "WARNING:chemschematicresolver.extract:Confidence of label 0 deemed too low for extraction\n",
      "WARNING:chemschematicresolver.extract:Text could not be resolved from label 0\n",
      "WARNING:chemschematicresolver.extract:Confidence of label 0 deemed too low for extraction\n"
     ]
    },
    {
     "name": "stdout",
     "output_type": "stream",
     "text": [
      "extract image:  ./elsevier_images/cropped_molecules/test/500_sc2_molecule_4.png\n",
      "extract image:  ./elsevier_images/cropped_molecules/test/501_fx1_molecule_0.png\n"
     ]
    },
    {
     "name": "stderr",
     "output_type": "stream",
     "text": [
      "WARNING:chemschematicresolver.extract:Confidence of label 1 deemed too low for extraction\n"
     ]
    },
    {
     "name": "stdout",
     "output_type": "stream",
     "text": [
      "extract image:  ./elsevier_images/cropped_molecules/test/501_sc1_molecule_0.png\n",
      "extract image:  ./elsevier_images/cropped_molecules/test/501_sc1_molecule_1.png\n"
     ]
    },
    {
     "name": "stderr",
     "output_type": "stream",
     "text": [
      "WARNING:chemschematicresolver.extract:Text could not be resolved from label 0\n",
      "WARNING:chemschematicresolver.extract:Confidence of label 0 deemed too low for extraction\n"
     ]
    },
    {
     "name": "stdout",
     "output_type": "stream",
     "text": [
      "extract image:  ./elsevier_images/cropped_molecules/test/502_fx1_molecule_0.png\n",
      "extract image:  ./elsevier_images/cropped_molecules/test/502_fx1_molecule_1.png\n"
     ]
    },
    {
     "name": "stderr",
     "output_type": "stream",
     "text": [
      "WARNING:chemschematicresolver.extract:Text could not be resolved from label 0\n",
      "WARNING:chemschematicresolver.extract:Confidence of label 0 deemed too low for extraction\n"
     ]
    },
    {
     "name": "stdout",
     "output_type": "stream",
     "text": [
      "extract image:  ./elsevier_images/cropped_molecules/test/502_sc1_molecule_0.png\n"
     ]
    },
    {
     "name": "stderr",
     "output_type": "stream",
     "text": [
      "WARNING:chemschematicresolver.extract:Confidence of label 0 deemed too low for extraction\n"
     ]
    },
    {
     "name": "stdout",
     "output_type": "stream",
     "text": [
      "extract image:  ./elsevier_images/cropped_molecules/test/502_sc1_molecule_1.png\n",
      "extract image:  ./elsevier_images/cropped_molecules/test/502_sc1_molecule_2.png\n"
     ]
    },
    {
     "name": "stderr",
     "output_type": "stream",
     "text": [
      "WARNING:chemschematicresolver.actions:No SMILES string was extracted for diagram 4\n",
      "WARNING:chemschematicresolver.extract:Confidence of label 1 deemed too low for extraction\n",
      "WARNING:chemschematicresolver.extract:Some SMILES strings were determined to be false positives and were removed from the output.\n"
     ]
    },
    {
     "name": "stdout",
     "output_type": "stream",
     "text": [
      "extract image:  ./elsevier_images/cropped_molecules/test/502_sc1_molecule_3.png\n"
     ]
    },
    {
     "name": "stderr",
     "output_type": "stream",
     "text": [
      "WARNING:chemschematicresolver.extract:Confidence of label 1 deemed too low for extraction\n"
     ]
    },
    {
     "name": "stdout",
     "output_type": "stream",
     "text": [
      "extract image:  ./elsevier_images/cropped_molecules/test/502_sc1_molecule_4.png\n"
     ]
    },
    {
     "name": "stderr",
     "output_type": "stream",
     "text": [
      "WARNING:chemschematicresolver.actions:No SMILES string was extracted for diagram 8\n",
      "WARNING:chemschematicresolver.actions:No SMILES string was extracted for diagram 7\n",
      "WARNING:chemschematicresolver.extract:Text could not be resolved from label 0\n",
      "WARNING:chemschematicresolver.extract:Confidence of label 0 deemed too low for extraction\n",
      "WARNING:chemschematicresolver.extract:Some SMILES strings were determined to be false positives and were removed from the output.\n"
     ]
    },
    {
     "name": "stdout",
     "output_type": "stream",
     "text": [
      "extract image:  ./elsevier_images/cropped_molecules/test/503_sc1_molecule_0.png\n"
     ]
    },
    {
     "name": "stderr",
     "output_type": "stream",
     "text": [
      "WARNING:chemschematicresolver.extract:Text could not be resolved from label 1\n",
      "WARNING:chemschematicresolver.extract:Confidence of label 1 deemed too low for extraction\n"
     ]
    },
    {
     "name": "stdout",
     "output_type": "stream",
     "text": [
      "extract image:  ./elsevier_images/cropped_molecules/test/503_sc1_molecule_1.png\n"
     ]
    },
    {
     "name": "stderr",
     "output_type": "stream",
     "text": [
      "WARNING:chemschematicresolver.extract:Text could not be resolved from label 1\n",
      "WARNING:chemschematicresolver.extract:Confidence of label 1 deemed too low for extraction\n"
     ]
    },
    {
     "name": "stdout",
     "output_type": "stream",
     "text": [
      "extract image:  ./elsevier_images/cropped_molecules/test/503_sc1_molecule_2.png\n"
     ]
    },
    {
     "name": "stderr",
     "output_type": "stream",
     "text": [
      "WARNING:chemschematicresolver.extract:Confidence of label 0 deemed too low for extraction\n",
      "WARNING:chemschematicresolver.actions:No SMILES string was extracted for diagram 3\n",
      "WARNING:chemschematicresolver.extract:Some SMILES strings were determined to be false positives and were removed from the output.\n"
     ]
    },
    {
     "name": "stdout",
     "output_type": "stream",
     "text": [
      "extract image:  ./elsevier_images/cropped_molecules/test/503_sc1_molecule_3.png\n"
     ]
    },
    {
     "name": "stderr",
     "output_type": "stream",
     "text": [
      "WARNING:chemschematicresolver.extract:Text could not be resolved from label 0\n",
      "WARNING:chemschematicresolver.extract:Confidence of label 0 deemed too low for extraction\n"
     ]
    },
    {
     "name": "stdout",
     "output_type": "stream",
     "text": [
      "extract image:  ./elsevier_images/cropped_molecules/test/503_sc1_molecule_4.png\n"
     ]
    },
    {
     "name": "stderr",
     "output_type": "stream",
     "text": [
      "WARNING:chemschematicresolver.extract:Confidence of label 0 deemed too low for extraction\n"
     ]
    },
    {
     "name": "stdout",
     "output_type": "stream",
     "text": [
      "extract image:  ./elsevier_images/cropped_molecules/test/503_sc1_molecule_5.png\n"
     ]
    },
    {
     "name": "stderr",
     "output_type": "stream",
     "text": [
      "WARNING:chemschematicresolver.extract:Confidence of label 0 deemed too low for extraction\n"
     ]
    },
    {
     "name": "stdout",
     "output_type": "stream",
     "text": [
      "extract image:  ./elsevier_images/cropped_molecules/test/503_sc1_molecule_6.png\n"
     ]
    },
    {
     "name": "stderr",
     "output_type": "stream",
     "text": [
      "WARNING:chemschematicresolver.extract:Text could not be resolved from label 0\n",
      "WARNING:chemschematicresolver.extract:Confidence of label 0 deemed too low for extraction\n"
     ]
    }
   ],
   "source": [
    "# put it into CSR \n",
    "smile_results = {}\n",
    "\n",
    "for img in croped_image_from_test:\n",
    "    \n",
    "    print('extract image: ', img)\n",
    "    result = None\n",
    "    image = cv2.imread(img)\n",
    "    if image.shape[0] * image.shape[1] > 2000 * 2000: continue\n",
    "    \n",
    "    try:\n",
    "        result = csr.extract_image(img, allow_wildcards=True)\n",
    "    except:\n",
    "        print('Runtime error, no smiles')\n",
    "    \n",
    "    if result is not None and len(result):\n",
    "        smile_results[img] = result.copy()"
   ]
  },
  {
   "cell_type": "code",
   "execution_count": 27,
   "metadata": {},
   "outputs": [
    {
     "data": {
      "text/plain": [
       "119"
      ]
     },
     "execution_count": 27,
     "metadata": {},
     "output_type": "execute_result"
    }
   ],
   "source": [
    "len(smile_results)"
   ]
  },
  {
   "cell_type": "code",
   "execution_count": 28,
   "metadata": {},
   "outputs": [],
   "source": [
    "with open(\"Seaki_Elsevier_OD_image_test.json\", \"w\") as outfile:\n",
    "    json.dump(smile_results, outfile)"
   ]
  },
  {
   "cell_type": "code",
   "execution_count": null,
   "metadata": {},
   "outputs": [],
   "source": []
  },
  {
   "cell_type": "code",
   "execution_count": 3,
   "metadata": {},
   "outputs": [
    {
     "name": "stdout",
     "output_type": "stream",
     "text": [
      "count  1 , scale  ./elsevier_images/cropped_molecules/test/197_fx1_molecule_0.png\n",
      "count  2 , scale  ./elsevier_images/cropped_molecules/test/197_fx1_molecule_1.png\n",
      "count  3 , scale  ./elsevier_images/cropped_molecules/test/197_fx1_molecule_2.png\n",
      "count  4 , scale  ./elsevier_images/cropped_molecules/test/197_fx1_molecule_3.png\n",
      "count  5 , scale  ./elsevier_images/cropped_molecules/test/197_fx1_molecule_4.png\n",
      "count  6 , scale  ./elsevier_images/cropped_molecules/test/197_sc1_molecule_0.png\n",
      "count  7 , scale  ./elsevier_images/cropped_molecules/test/197_sc1_molecule_1.png\n",
      "count  8 , scale  ./elsevier_images/cropped_molecules/test/197_sc1_molecule_2.png\n",
      "count  9 , scale  ./elsevier_images/cropped_molecules/test/197_sc1_molecule_3.png\n",
      "count  10 , scale  ./elsevier_images/cropped_molecules/test/227_fx1_molecule_0.png\n",
      "count  11 , scale  ./elsevier_images/cropped_molecules/test/227_gr7_molecule_0.png\n",
      "count  12 , scale  ./elsevier_images/cropped_molecules/test/227_gr7_molecule_1.png\n",
      "count  13 , scale  ./elsevier_images/cropped_molecules/test/227_gr7_molecule_2.png\n",
      "count  14 , scale  ./elsevier_images/cropped_molecules/test/227_gr7_molecule_3.png\n",
      "count  15 , scale  ./elsevier_images/cropped_molecules/test/248_gr8_molecule_0.png\n",
      "count  16 , scale  ./elsevier_images/cropped_molecules/test/248_gr8_molecule_1.png\n",
      "count  17 , scale  ./elsevier_images/cropped_molecules/test/248_gr8_molecule_2.png\n",
      "count  18 , scale  ./elsevier_images/cropped_molecules/test/248_gr8_molecule_3.png\n",
      "count  19 , scale  ./elsevier_images/cropped_molecules/test/248_gr8_molecule_4.png\n",
      "count  20 , scale  ./elsevier_images/cropped_molecules/test/248_gr8_molecule_5.png\n",
      "count  21 , scale  ./elsevier_images/cropped_molecules/test/248_gr8_molecule_6.png\n",
      "count  22 , scale  ./elsevier_images/cropped_molecules/test/248_gr8_molecule_7.png\n",
      "count  23 , scale  ./elsevier_images/cropped_molecules/test/248_gr9_molecule_0.png\n",
      "count  24 , scale  ./elsevier_images/cropped_molecules/test/248_gr9_molecule_1.png\n",
      "count  25 , scale  ./elsevier_images/cropped_molecules/test/248_gr9_molecule_2.png\n",
      "count  26 , scale  ./elsevier_images/cropped_molecules/test/248_gr9_molecule_3.png\n",
      "count  27 , scale  ./elsevier_images/cropped_molecules/test/254_fx1_molecule_0.png\n",
      "count  28 , scale  ./elsevier_images/cropped_molecules/test/281_sc1_molecule_0.png\n",
      "count  28 , scale  ./elsevier_images/cropped_molecules/test/281_sc1_molecule_1.png\n",
      "count  28 , scale  ./elsevier_images/cropped_molecules/test/281_sc1_molecule_2.png\n",
      "count  28 , scale  ./elsevier_images/cropped_molecules/test/281_sc1_molecule_3.png\n",
      "count  28 , scale  ./elsevier_images/cropped_molecules/test/281_sc1_molecule_4.png\n",
      "count  28 , scale  ./elsevier_images/cropped_molecules/test/281_sc1_molecule_5.png\n",
      "count  28 , scale  ./elsevier_images/cropped_molecules/test/299_fx1_molecule_0.png\n",
      "count  29 , scale  ./elsevier_images/cropped_molecules/test/299_gr7_molecule_0.png\n",
      "count  30 , scale  ./elsevier_images/cropped_molecules/test/299_gr7_molecule_1.png\n",
      "count  31 , scale  ./elsevier_images/cropped_molecules/test/299_gr7_molecule_2.png\n",
      "count  32 , scale  ./elsevier_images/cropped_molecules/test/299_gr7_molecule_3.png\n",
      "count  33 , scale  ./elsevier_images/cropped_molecules/test/299_gr7_molecule_4.png\n",
      "count  34 , scale  ./elsevier_images/cropped_molecules/test/299_gr7_molecule_5.png\n",
      "count  35 , scale  ./elsevier_images/cropped_molecules/test/299_gr8_molecule_0.png\n",
      "count  36 , scale  ./elsevier_images/cropped_molecules/test/299_gr8_molecule_1.png\n",
      "count  37 , scale  ./elsevier_images/cropped_molecules/test/299_gr8_molecule_2.png\n",
      "count  38 , scale  ./elsevier_images/cropped_molecules/test/299_gr8_molecule_3.png\n",
      "count  39 , scale  ./elsevier_images/cropped_molecules/test/299_gr8_molecule_4.png\n",
      "count  40 , scale  ./elsevier_images/cropped_molecules/test/299_gr8_molecule_5.png\n",
      "count  41 , scale  ./elsevier_images/cropped_molecules/test/299_gr8_molecule_6.png\n",
      "count  42 , scale  ./elsevier_images/cropped_molecules/test/299_gr9_molecule_0.png\n",
      "count  43 , scale  ./elsevier_images/cropped_molecules/test/299_gr9_molecule_1.png\n",
      "count  44 , scale  ./elsevier_images/cropped_molecules/test/299_gr9_molecule_2.png\n",
      "count  45 , scale  ./elsevier_images/cropped_molecules/test/299_gr9_molecule_3.png\n",
      "count  46 , scale  ./elsevier_images/cropped_molecules/test/299_gr9_molecule_4.png\n",
      "count  47 , scale  ./elsevier_images/cropped_molecules/test/300_fx1_molecule_0.png\n",
      "count  48 , scale  ./elsevier_images/cropped_molecules/test/300_gr7_molecule_0.png\n",
      "count  48 , scale  ./elsevier_images/cropped_molecules/test/300_gr7_molecule_1.png\n",
      "count  48 , scale  ./elsevier_images/cropped_molecules/test/300_sc1_molecule_0.png\n",
      "count  48 , scale  ./elsevier_images/cropped_molecules/test/300_sc1_molecule_1.png\n",
      "count  48 , scale  ./elsevier_images/cropped_molecules/test/300_sc1_molecule_2.png\n",
      "count  48 , scale  ./elsevier_images/cropped_molecules/test/300_sc1_molecule_3.png\n",
      "count  48 , scale  ./elsevier_images/cropped_molecules/test/300_sc1_molecule_4.png\n",
      "count  48 , scale  ./elsevier_images/cropped_molecules/test/300_sc1_molecule_5.png\n",
      "count  48 , scale  ./elsevier_images/cropped_molecules/test/300_sc1_molecule_6.png\n",
      "count  48 , scale  ./elsevier_images/cropped_molecules/test/347_fx1_molecule_0.png\n",
      "count  49 , scale  ./elsevier_images/cropped_molecules/test/347_sc1_molecule_0.png\n",
      "count  50 , scale  ./elsevier_images/cropped_molecules/test/347_sc1_molecule_1.png\n",
      "count  51 , scale  ./elsevier_images/cropped_molecules/test/347_sc1_molecule_2.png\n",
      "count  52 , scale  ./elsevier_images/cropped_molecules/test/347_sc1_molecule_3.png\n",
      "count  53 , scale  ./elsevier_images/cropped_molecules/test/347_sc1_molecule_4.png\n",
      "count  54 , scale  ./elsevier_images/cropped_molecules/test/377_sc1_molecule_0.png\n",
      "count  55 , scale  ./elsevier_images/cropped_molecules/test/377_sc1_molecule_1.png\n",
      "count  56 , scale  ./elsevier_images/cropped_molecules/test/377_sc1_molecule_2.png\n",
      "count  57 , scale  ./elsevier_images/cropped_molecules/test/377_sc1_molecule_3.png\n",
      "count  58 , scale  ./elsevier_images/cropped_molecules/test/379_fx1_molecule_0.png\n",
      "count  59 , scale  ./elsevier_images/cropped_molecules/test/379_fx1_molecule_1.png\n",
      "count  60 , scale  ./elsevier_images/cropped_molecules/test/379_sc1_molecule_0.png\n",
      "count  61 , scale  ./elsevier_images/cropped_molecules/test/379_sc1_molecule_1.png\n",
      "count  62 , scale  ./elsevier_images/cropped_molecules/test/379_sc1_molecule_10.png\n",
      "count  63 , scale  ./elsevier_images/cropped_molecules/test/379_sc1_molecule_11.png\n",
      "count  64 , scale  ./elsevier_images/cropped_molecules/test/379_sc1_molecule_2.png\n",
      "count  65 , scale  ./elsevier_images/cropped_molecules/test/379_sc1_molecule_3.png\n",
      "count  66 , scale  ./elsevier_images/cropped_molecules/test/379_sc1_molecule_4.png\n",
      "count  67 , scale  ./elsevier_images/cropped_molecules/test/379_sc1_molecule_5.png\n",
      "count  68 , scale  ./elsevier_images/cropped_molecules/test/379_sc1_molecule_6.png\n",
      "count  69 , scale  ./elsevier_images/cropped_molecules/test/379_sc1_molecule_7.png\n",
      "count  70 , scale  ./elsevier_images/cropped_molecules/test/379_sc1_molecule_8.png\n",
      "count  71 , scale  ./elsevier_images/cropped_molecules/test/379_sc1_molecule_9.png\n",
      "count  72 , scale  ./elsevier_images/cropped_molecules/test/379_sc2_molecule_0.png\n",
      "count  73 , scale  ./elsevier_images/cropped_molecules/test/379_sc2_molecule_1.png\n",
      "count  74 , scale  ./elsevier_images/cropped_molecules/test/379_sc2_molecule_2.png\n",
      "count  75 , scale  ./elsevier_images/cropped_molecules/test/379_sc2_molecule_3.png\n",
      "count  76 , scale  ./elsevier_images/cropped_molecules/test/379_sc2_molecule_4.png\n",
      "count  77 , scale  ./elsevier_images/cropped_molecules/test/391_fx1_molecule_0.png\n",
      "count  78 , scale  ./elsevier_images/cropped_molecules/test/391_fx1_molecule_1.png\n",
      "count  79 , scale  ./elsevier_images/cropped_molecules/test/391_fx1_molecule_2.png\n",
      "count  80 , scale  ./elsevier_images/cropped_molecules/test/391_sc1_molecule_0.png\n",
      "count  81 , scale  ./elsevier_images/cropped_molecules/test/391_sc1_molecule_1.png\n",
      "count  82 , scale  ./elsevier_images/cropped_molecules/test/391_sc1_molecule_10.png\n",
      "count  83 , scale  ./elsevier_images/cropped_molecules/test/391_sc1_molecule_2.png\n",
      "count  84 , scale  ./elsevier_images/cropped_molecules/test/391_sc1_molecule_3.png\n",
      "count  85 , scale  ./elsevier_images/cropped_molecules/test/391_sc1_molecule_4.png\n",
      "count  86 , scale  ./elsevier_images/cropped_molecules/test/391_sc1_molecule_5.png\n"
     ]
    },
    {
     "name": "stdout",
     "output_type": "stream",
     "text": [
      "count  87 , scale  ./elsevier_images/cropped_molecules/test/391_sc1_molecule_6.png\n",
      "count  88 , scale  ./elsevier_images/cropped_molecules/test/391_sc1_molecule_7.png\n",
      "count  89 , scale  ./elsevier_images/cropped_molecules/test/391_sc1_molecule_8.png\n",
      "count  90 , scale  ./elsevier_images/cropped_molecules/test/391_sc1_molecule_9.png\n",
      "count  91 , scale  ./elsevier_images/cropped_molecules/test/392_sc1_molecule_0.png\n",
      "count  92 , scale  ./elsevier_images/cropped_molecules/test/392_sc1_molecule_1.png\n",
      "count  93 , scale  ./elsevier_images/cropped_molecules/test/392_sc1_molecule_2.png\n",
      "count  94 , scale  ./elsevier_images/cropped_molecules/test/392_sc1_molecule_3.png\n",
      "count  95 , scale  ./elsevier_images/cropped_molecules/test/392_sc1_molecule_4.png\n",
      "count  96 , scale  ./elsevier_images/cropped_molecules/test/392_sc2_molecule_0.png\n",
      "count  97 , scale  ./elsevier_images/cropped_molecules/test/392_sc2_molecule_1.png\n",
      "count  98 , scale  ./elsevier_images/cropped_molecules/test/392_sc2_molecule_2.png\n",
      "count  99 , scale  ./elsevier_images/cropped_molecules/test/423_fx1_molecule_0.png\n",
      "count  99 , scale  ./elsevier_images/cropped_molecules/test/423_fx1_molecule_1.png\n",
      "count  100 , scale  ./elsevier_images/cropped_molecules/test/423_gr5_molecule_0.png\n",
      "count  101 , scale  ./elsevier_images/cropped_molecules/test/423_gr5_molecule_1.png\n",
      "count  102 , scale  ./elsevier_images/cropped_molecules/test/423_gr5_molecule_2.png\n",
      "count  103 , scale  ./elsevier_images/cropped_molecules/test/423_gr5_molecule_3.png\n",
      "count  104 , scale  ./elsevier_images/cropped_molecules/test/423_gr5_molecule_4.png\n",
      "count  105 , scale  ./elsevier_images/cropped_molecules/test/423_gr5_molecule_5.png\n",
      "count  106 , scale  ./elsevier_images/cropped_molecules/test/458_Bing_Guo_wide_bandgap_2017_P05_molecule_0.png\n",
      "count  106 , scale  ./elsevier_images/cropped_molecules/test/458_Bing_Guo_wide_bandgap_2017_P07_molecule_0.png\n",
      "count  106 , scale  ./elsevier_images/cropped_molecules/test/458_Bing_Guo_wide_bandgap_2017_P09_molecule_0.png\n",
      "count  106 , scale  ./elsevier_images/cropped_molecules/test/458_Bing_Guo_wide_bandgap_2017_P12_molecule_0.png\n",
      "count  106 , scale  ./elsevier_images/cropped_molecules/test/458_Bing_Guo_wide_bandgap_2017_P12_molecule_1.png\n",
      "count  106 , scale  ./elsevier_images/cropped_molecules/test/458_fx1_molecule_0.png\n",
      "count  106 , scale  ./elsevier_images/cropped_molecules/test/458_gr1_molecule_0.png\n",
      "count  106 , scale  ./elsevier_images/cropped_molecules/test/458_gr1_molecule_1.png\n",
      "count  106 , scale  ./elsevier_images/cropped_molecules/test/458_gr1_molecule_2.png\n",
      "count  106 , scale  ./elsevier_images/cropped_molecules/test/463_fx1_molecule_0.png\n",
      "count  107 , scale  ./elsevier_images/cropped_molecules/test/463_fx1_molecule_1.png\n",
      "count  108 , scale  ./elsevier_images/cropped_molecules/test/463_sc1_molecule_0.png\n",
      "count  108 , scale  ./elsevier_images/cropped_molecules/test/463_sc1_molecule_1.png\n",
      "count  108 , scale  ./elsevier_images/cropped_molecules/test/463_sc1_molecule_2.png\n",
      "count  108 , scale  ./elsevier_images/cropped_molecules/test/463_sc1_molecule_3.png\n",
      "count  108 , scale  ./elsevier_images/cropped_molecules/test/463_sc1_molecule_4.png\n",
      "count  108 , scale  ./elsevier_images/cropped_molecules/test/463_sc1_molecule_5.png\n",
      "count  108 , scale  ./elsevier_images/cropped_molecules/test/463_sc1_molecule_6.png\n",
      "count  108 , scale  ./elsevier_images/cropped_molecules/test/463_sc1_molecule_7.png\n",
      "count  108 , scale  ./elsevier_images/cropped_molecules/test/464_fx1_molecule_0.png\n",
      "count  108 , scale  ./elsevier_images/cropped_molecules/test/464_fx1_molecule_1.png\n",
      "count  108 , scale  ./elsevier_images/cropped_molecules/test/464_fx1_molecule_2.png\n",
      "count  108 , scale  ./elsevier_images/cropped_molecules/test/464_fx1_molecule_3.png\n",
      "count  108 , scale  ./elsevier_images/cropped_molecules/test/464_sc1_molecule_0.png\n",
      "count  108 , scale  ./elsevier_images/cropped_molecules/test/464_sc1_molecule_1.png\n",
      "count  108 , scale  ./elsevier_images/cropped_molecules/test/464_sc1_molecule_2.png\n",
      "count  108 , scale  ./elsevier_images/cropped_molecules/test/464_sc1_molecule_3.png\n",
      "count  108 , scale  ./elsevier_images/cropped_molecules/test/464_sc1_molecule_4.png\n",
      "count  108 , scale  ./elsevier_images/cropped_molecules/test/464_sc1_molecule_5.png\n",
      "count  108 , scale  ./elsevier_images/cropped_molecules/test/465_fx1_molecule_0.png\n",
      "count  108 , scale  ./elsevier_images/cropped_molecules/test/465_fx1_molecule_1.png\n",
      "count  108 , scale  ./elsevier_images/cropped_molecules/test/465_sc1_molecule_0.png\n",
      "count  108 , scale  ./elsevier_images/cropped_molecules/test/465_sc1_molecule_1.png\n",
      "count  108 , scale  ./elsevier_images/cropped_molecules/test/465_sc1_molecule_2.png\n",
      "count  108 , scale  ./elsevier_images/cropped_molecules/test/465_sc1_molecule_3.png\n",
      "count  108 , scale  ./elsevier_images/cropped_molecules/test/465_sc1_molecule_4.png\n",
      "count  108 , scale  ./elsevier_images/cropped_molecules/test/466_fx1_molecule_0.png\n",
      "count  108 , scale  ./elsevier_images/cropped_molecules/test/466_fx1_molecule_1.png\n",
      "count  108 , scale  ./elsevier_images/cropped_molecules/test/466_sc1_molecule_0.png\n",
      "count  108 , scale  ./elsevier_images/cropped_molecules/test/466_sc1_molecule_1.png\n",
      "count  108 , scale  ./elsevier_images/cropped_molecules/test/466_sc1_molecule_2.png\n",
      "count  108 , scale  ./elsevier_images/cropped_molecules/test/466_sc1_molecule_3.png\n",
      "count  108 , scale  ./elsevier_images/cropped_molecules/test/466_sc1_molecule_4.png\n",
      "count  108 , scale  ./elsevier_images/cropped_molecules/test/466_sc1_molecule_5.png\n",
      "count  108 , scale  ./elsevier_images/cropped_molecules/test/466_sc1_molecule_6.png\n",
      "count  108 , scale  ./elsevier_images/cropped_molecules/test/466_sc1_molecule_7.png\n",
      "count  108 , scale  ./elsevier_images/cropped_molecules/test/466_sc1_molecule_8.png\n",
      "count  108 , scale  ./elsevier_images/cropped_molecules/test/466_sc1_molecule_9.png\n",
      "count  109 , scale  ./elsevier_images/cropped_molecules/test/467_sc1_molecule_0.png\n",
      "count  109 , scale  ./elsevier_images/cropped_molecules/test/467_sc1_molecule_1.png\n",
      "count  109 , scale  ./elsevier_images/cropped_molecules/test/469_fx1_molecule_0.png\n",
      "count  109 , scale  ./elsevier_images/cropped_molecules/test/469_gr1_molecule_0.png\n",
      "count  109 , scale  ./elsevier_images/cropped_molecules/test/469_gr1_molecule_1.png\n",
      "count  109 , scale  ./elsevier_images/cropped_molecules/test/469_gr1_molecule_2.png\n",
      "count  109 , scale  ./elsevier_images/cropped_molecules/test/469_gr1_molecule_3.png\n",
      "count  109 , scale  ./elsevier_images/cropped_molecules/test/469_gr1_molecule_4.png\n",
      "count  109 , scale  ./elsevier_images/cropped_molecules/test/470_fx1_molecule_0.png\n",
      "count  109 , scale  ./elsevier_images/cropped_molecules/test/470_fx1_molecule_1.png\n",
      "count  109 , scale  ./elsevier_images/cropped_molecules/test/470_sc1_molecule_0.png\n",
      "count  109 , scale  ./elsevier_images/cropped_molecules/test/470_sc2_molecule_0.png\n",
      "count  109 , scale  ./elsevier_images/cropped_molecules/test/470_sc2_molecule_1.png\n",
      "count  109 , scale  ./elsevier_images/cropped_molecules/test/470_sc2_molecule_2.png\n",
      "count  109 , scale  ./elsevier_images/cropped_molecules/test/470_sc2_molecule_3.png\n",
      "count  109 , scale  ./elsevier_images/cropped_molecules/test/470_sc2_molecule_4.png\n",
      "count  109 , scale  ./elsevier_images/cropped_molecules/test/470_sc2_molecule_5.png\n",
      "count  109 , scale  ./elsevier_images/cropped_molecules/test/470_sc3_molecule_0.png\n",
      "count  109 , scale  ./elsevier_images/cropped_molecules/test/470_sc3_molecule_1.png\n",
      "count  109 , scale  ./elsevier_images/cropped_molecules/test/470_sc3_molecule_2.png\n",
      "count  109 , scale  ./elsevier_images/cropped_molecules/test/470_sc3_molecule_3.png\n",
      "count  109 , scale  ./elsevier_images/cropped_molecules/test/470_sc4_molecule_0.png\n",
      "count  109 , scale  ./elsevier_images/cropped_molecules/test/471_gr1_molecule_0.png\n",
      "count  109 , scale  ./elsevier_images/cropped_molecules/test/471_sc1_molecule_0.png\n",
      "count  109 , scale  ./elsevier_images/cropped_molecules/test/472_gr1_molecule_0.png\n",
      "count  109 , scale  ./elsevier_images/cropped_molecules/test/472_gr1_molecule_1.png\n",
      "count  109 , scale  ./elsevier_images/cropped_molecules/test/472_gr2_molecule_0.png\n",
      "count  109 , scale  ./elsevier_images/cropped_molecules/test/472_gr2_molecule_1.png\n",
      "count  109 , scale  ./elsevier_images/cropped_molecules/test/472_gr2_molecule_2.png\n"
     ]
    },
    {
     "name": "stdout",
     "output_type": "stream",
     "text": [
      "count  110 , scale  ./elsevier_images/cropped_molecules/test/472_sc1_molecule_0.png\n",
      "count  110 , scale  ./elsevier_images/cropped_molecules/test/472_sc1_molecule_1.png\n",
      "count  110 , scale  ./elsevier_images/cropped_molecules/test/472_sc1_molecule_10.png\n",
      "count  110 , scale  ./elsevier_images/cropped_molecules/test/472_sc1_molecule_2.png\n",
      "count  110 , scale  ./elsevier_images/cropped_molecules/test/472_sc1_molecule_3.png\n",
      "count  110 , scale  ./elsevier_images/cropped_molecules/test/472_sc1_molecule_4.png\n",
      "count  110 , scale  ./elsevier_images/cropped_molecules/test/472_sc1_molecule_5.png\n",
      "count  110 , scale  ./elsevier_images/cropped_molecules/test/472_sc1_molecule_6.png\n",
      "count  110 , scale  ./elsevier_images/cropped_molecules/test/472_sc1_molecule_7.png\n",
      "count  110 , scale  ./elsevier_images/cropped_molecules/test/472_sc1_molecule_8.png\n",
      "count  111 , scale  ./elsevier_images/cropped_molecules/test/472_sc1_molecule_9.png\n",
      "count  111 , scale  ./elsevier_images/cropped_molecules/test/473_gr1_molecule_0.png\n",
      "count  111 , scale  ./elsevier_images/cropped_molecules/test/473_gr1_molecule_1.png\n",
      "count  111 , scale  ./elsevier_images/cropped_molecules/test/473_gr2_molecule_0.png\n",
      "count  111 , scale  ./elsevier_images/cropped_molecules/test/473_sc1_molecule_0.png\n",
      "count  111 , scale  ./elsevier_images/cropped_molecules/test/473_sc1_molecule_1.png\n",
      "count  111 , scale  ./elsevier_images/cropped_molecules/test/473_sc1_molecule_2.png\n",
      "count  111 , scale  ./elsevier_images/cropped_molecules/test/473_sc1_molecule_3.png\n",
      "count  111 , scale  ./elsevier_images/cropped_molecules/test/473_sc1_molecule_4.png\n",
      "count  111 , scale  ./elsevier_images/cropped_molecules/test/474_fx1_molecule_0.png\n",
      "count  111 , scale  ./elsevier_images/cropped_molecules/test/474_sc1_molecule_0.png\n",
      "count  111 , scale  ./elsevier_images/cropped_molecules/test/474_sc1_molecule_1.png\n",
      "count  111 , scale  ./elsevier_images/cropped_molecules/test/474_sc1_molecule_2.png\n",
      "count  111 , scale  ./elsevier_images/cropped_molecules/test/474_sc1_molecule_3.png\n",
      "count  111 , scale  ./elsevier_images/cropped_molecules/test/474_sc1_molecule_4.png\n",
      "count  111 , scale  ./elsevier_images/cropped_molecules/test/474_sc1_molecule_5.png\n",
      "count  111 , scale  ./elsevier_images/cropped_molecules/test/474_sc1_molecule_6.png\n",
      "count  111 , scale  ./elsevier_images/cropped_molecules/test/474_Xue_Gong_Polymer_solar_cells_2017_P04_molecule_0.png\n",
      "count  111 , scale  ./elsevier_images/cropped_molecules/test/474_Xue_Gong_Polymer_solar_cells_2017_P05_molecule_0.png\n",
      "count  111 , scale  ./elsevier_images/cropped_molecules/test/474_Xue_Gong_Polymer_solar_cells_2017_P07_molecule_0.png\n",
      "count  111 , scale  ./elsevier_images/cropped_molecules/test/474_Xue_Gong_Polymer_solar_cells_2017_P07_molecule_1.png\n",
      "count  111 , scale  ./elsevier_images/cropped_molecules/test/474_Xue_Gong_Polymer_solar_cells_2017_P07_molecule_2.png\n",
      "count  111 , scale  ./elsevier_images/cropped_molecules/test/474_Xue_Gong_Polymer_solar_cells_2017_P09_molecule_0.png\n",
      "count  111 , scale  ./elsevier_images/cropped_molecules/test/474_Xue_Gong_Polymer_solar_cells_2017_P18_molecule_0.png\n",
      "count  111 , scale  ./elsevier_images/cropped_molecules/test/474_Xue_Gong_Polymer_solar_cells_2017_P18_molecule_1.png\n",
      "count  111 , scale  ./elsevier_images/cropped_molecules/test/475_sc1_molecule_0.png\n",
      "count  111 , scale  ./elsevier_images/cropped_molecules/test/475_sc1_molecule_1.png\n",
      "count  111 , scale  ./elsevier_images/cropped_molecules/test/475_sc1_molecule_2.png\n",
      "count  111 , scale  ./elsevier_images/cropped_molecules/test/484_fx1_molecule_0.png\n",
      "count  111 , scale  ./elsevier_images/cropped_molecules/test/484_gr1_molecule_0.png\n",
      "count  111 , scale  ./elsevier_images/cropped_molecules/test/484_gr1_molecule_1.png\n",
      "count  111 , scale  ./elsevier_images/cropped_molecules/test/484_sc1_molecule_0.png\n",
      "count  111 , scale  ./elsevier_images/cropped_molecules/test/484_sc1_molecule_1.png\n",
      "count  112 , scale  ./elsevier_images/cropped_molecules/test/484_sc1_molecule_2.png\n",
      "count  113 , scale  ./elsevier_images/cropped_molecules/test/484_sc1_molecule_3.png\n",
      "count  113 , scale  ./elsevier_images/cropped_molecules/test/484_sc1_molecule_4.png\n",
      "count  113 , scale  ./elsevier_images/cropped_molecules/test/485_gr1_molecule_0.png\n",
      "count  113 , scale  ./elsevier_images/cropped_molecules/test/485_gr1_molecule_1.png\n",
      "count  113 , scale  ./elsevier_images/cropped_molecules/test/485_sc1_molecule_0.png\n",
      "count  113 , scale  ./elsevier_images/cropped_molecules/test/485_sc1_molecule_1.png\n",
      "count  113 , scale  ./elsevier_images/cropped_molecules/test/485_sc1_molecule_2.png\n",
      "count  113 , scale  ./elsevier_images/cropped_molecules/test/485_sc1_molecule_3.png\n",
      "count  113 , scale  ./elsevier_images/cropped_molecules/test/486_fx1_molecule_0.png\n",
      "count  114 , scale  ./elsevier_images/cropped_molecules/test/486_gr3_molecule_0.png\n",
      "count  114 , scale  ./elsevier_images/cropped_molecules/test/486_gr4_molecule_0.png\n",
      "count  114 , scale  ./elsevier_images/cropped_molecules/test/486_gr4_molecule_1.png\n",
      "count  114 , scale  ./elsevier_images/cropped_molecules/test/486_gr4_molecule_2.png\n",
      "count  114 , scale  ./elsevier_images/cropped_molecules/test/486_sc1_molecule_0.png\n",
      "count  114 , scale  ./elsevier_images/cropped_molecules/test/486_sc1_molecule_1.png\n",
      "count  114 , scale  ./elsevier_images/cropped_molecules/test/486_sc1_molecule_10.png\n",
      "count  115 , scale  ./elsevier_images/cropped_molecules/test/486_sc1_molecule_11.png\n",
      "count  115 , scale  ./elsevier_images/cropped_molecules/test/486_sc1_molecule_2.png\n",
      "count  115 , scale  ./elsevier_images/cropped_molecules/test/486_sc1_molecule_3.png\n",
      "count  116 , scale  ./elsevier_images/cropped_molecules/test/486_sc1_molecule_4.png\n",
      "count  116 , scale  ./elsevier_images/cropped_molecules/test/486_sc1_molecule_5.png\n",
      "count  116 , scale  ./elsevier_images/cropped_molecules/test/486_sc1_molecule_6.png\n",
      "count  116 , scale  ./elsevier_images/cropped_molecules/test/486_sc1_molecule_7.png\n",
      "count  116 , scale  ./elsevier_images/cropped_molecules/test/486_sc1_molecule_8.png\n",
      "count  117 , scale  ./elsevier_images/cropped_molecules/test/486_sc1_molecule_9.png\n",
      "count  117 , scale  ./elsevier_images/cropped_molecules/test/498_fx1_molecule_0.png\n",
      "count  118 , scale  ./elsevier_images/cropped_molecules/test/498_fx1_molecule_1.png\n",
      "count  119 , scale  ./elsevier_images/cropped_molecules/test/498_fx1_molecule_2.png\n",
      "count  120 , scale  ./elsevier_images/cropped_molecules/test/498_fx1_molecule_3.png\n",
      "count  121 , scale  ./elsevier_images/cropped_molecules/test/498_fx1_molecule_4.png\n",
      "count  122 , scale  ./elsevier_images/cropped_molecules/test/498_gr1_molecule_0.png\n",
      "count  123 , scale  ./elsevier_images/cropped_molecules/test/498_gr1_molecule_1.png\n",
      "count  124 , scale  ./elsevier_images/cropped_molecules/test/498_gr1_molecule_2.png\n",
      "count  125 , scale  ./elsevier_images/cropped_molecules/test/498_gr1_molecule_3.png\n",
      "count  126 , scale  ./elsevier_images/cropped_molecules/test/498_sc1_molecule_0.png\n",
      "count  127 , scale  ./elsevier_images/cropped_molecules/test/498_sc1_molecule_1.png\n",
      "count  128 , scale  ./elsevier_images/cropped_molecules/test/498_sc1_molecule_2.png\n",
      "count  129 , scale  ./elsevier_images/cropped_molecules/test/498_sc1_molecule_3.png\n",
      "count  130 , scale  ./elsevier_images/cropped_molecules/test/498_sc1_molecule_4.png\n",
      "count  131 , scale  ./elsevier_images/cropped_molecules/test/499_sc1_molecule_0.png\n",
      "count  132 , scale  ./elsevier_images/cropped_molecules/test/499_sc1_molecule_1.png\n",
      "count  133 , scale  ./elsevier_images/cropped_molecules/test/499_sc1_molecule_2.png\n",
      "count  134 , scale  ./elsevier_images/cropped_molecules/test/500_gr1_molecule_0.png\n",
      "count  135 , scale  ./elsevier_images/cropped_molecules/test/500_sc1_molecule_0.png\n",
      "count  136 , scale  ./elsevier_images/cropped_molecules/test/500_sc1_molecule_1.png\n",
      "count  137 , scale  ./elsevier_images/cropped_molecules/test/500_sc1_molecule_2.png\n",
      "count  138 , scale  ./elsevier_images/cropped_molecules/test/500_sc1_molecule_3.png\n",
      "count  139 , scale  ./elsevier_images/cropped_molecules/test/500_sc1_molecule_4.png\n",
      "count  140 , scale  ./elsevier_images/cropped_molecules/test/500_sc1_molecule_5.png\n",
      "count  141 , scale  ./elsevier_images/cropped_molecules/test/500_sc2_molecule_0.png\n",
      "count  142 , scale  ./elsevier_images/cropped_molecules/test/500_sc2_molecule_1.png\n",
      "count  143 , scale  ./elsevier_images/cropped_molecules/test/500_sc2_molecule_2.png\n",
      "count  144 , scale  ./elsevier_images/cropped_molecules/test/500_sc2_molecule_3.png\n"
     ]
    },
    {
     "name": "stdout",
     "output_type": "stream",
     "text": [
      "count  145 , scale  ./elsevier_images/cropped_molecules/test/500_sc2_molecule_4.png\n",
      "count  146 , scale  ./elsevier_images/cropped_molecules/test/501_fx1_molecule_0.png\n",
      "count  146 , scale  ./elsevier_images/cropped_molecules/test/501_sc1_molecule_0.png\n",
      "count  146 , scale  ./elsevier_images/cropped_molecules/test/501_sc1_molecule_1.png\n",
      "count  146 , scale  ./elsevier_images/cropped_molecules/test/502_fx1_molecule_0.png\n",
      "count  146 , scale  ./elsevier_images/cropped_molecules/test/502_fx1_molecule_1.png\n",
      "count  146 , scale  ./elsevier_images/cropped_molecules/test/502_sc1_molecule_0.png\n",
      "count  146 , scale  ./elsevier_images/cropped_molecules/test/502_sc1_molecule_1.png\n",
      "count  146 , scale  ./elsevier_images/cropped_molecules/test/502_sc1_molecule_2.png\n",
      "count  146 , scale  ./elsevier_images/cropped_molecules/test/502_sc1_molecule_3.png\n",
      "count  146 , scale  ./elsevier_images/cropped_molecules/test/502_sc1_molecule_4.png\n",
      "count  146 , scale  ./elsevier_images/cropped_molecules/test/503_sc1_molecule_0.png\n",
      "count  146 , scale  ./elsevier_images/cropped_molecules/test/503_sc1_molecule_1.png\n",
      "count  146 , scale  ./elsevier_images/cropped_molecules/test/503_sc1_molecule_2.png\n",
      "count  146 , scale  ./elsevier_images/cropped_molecules/test/503_sc1_molecule_3.png\n",
      "count  147 , scale  ./elsevier_images/cropped_molecules/test/503_sc1_molecule_4.png\n",
      "count  147 , scale  ./elsevier_images/cropped_molecules/test/503_sc1_molecule_5.png\n",
      "count  147 , scale  ./elsevier_images/cropped_molecules/test/503_sc1_molecule_6.png\n"
     ]
    }
   ],
   "source": [
    "molecules_dir_test = './elsevier_images/cropped_molecules/test/'\n",
    "molecules_dir_test_enhanced = './elsevier_images/cropped_molecules/test_enhanced'\n",
    "\n",
    "enhanced_test_images = []\n",
    "\n",
    "if not os.path.exists(molecules_dir_test_enhanced):\n",
    "    os.mkdir(molecules_dir_test_enhanced)\n",
    "\n",
    "count = 1    \n",
    "for file in os.listdir(molecules_dir_test):\n",
    "    if file.endswith(\".png\"):\n",
    "        raw_img = os.path.join(molecules_dir_test, file)\n",
    "        raw_image = cv2.imread(raw_img)\n",
    "        if raw_image.shape[0] * raw_image.shape[1] > 2000 * 2000:\n",
    "            enhanced_test_images.append(raw_img)\n",
    "            continue \n",
    "        print('count ', count, ', scale ', raw_img)\n",
    "        enhanced_img = os.path.join(molecules_dir_test_enhanced, file)\n",
    "        enhanced_image = sr.upsample(raw_image)\n",
    "        if enhanced_image.shape[0] * enhanced_image.shape[1] > 2000 * 2000:\n",
    "            enhanced_test_images.append(raw_img)\n",
    "            continue \n",
    "        cv2.imwrite(enhanced_img, enhanced_image)\n",
    "        enhanced_test_images.append(enhanced_img)\n",
    "        count += 1"
   ]
  },
  {
   "cell_type": "code",
   "execution_count": 4,
   "metadata": {},
   "outputs": [
    {
     "name": "stdout",
     "output_type": "stream",
     "text": [
      "extract image:  ./elsevier_images/cropped_molecules/test_enhanced/197_fx1_molecule_0.png\n"
     ]
    },
    {
     "name": "stderr",
     "output_type": "stream",
     "text": [
      "WARNING:chemschematicresolver.extract:Confidence of label 0 deemed too low for extraction\n"
     ]
    },
    {
     "name": "stdout",
     "output_type": "stream",
     "text": [
      "extract image:  ./elsevier_images/cropped_molecules/test_enhanced/197_fx1_molecule_1.png\n"
     ]
    },
    {
     "name": "stderr",
     "output_type": "stream",
     "text": [
      "WARNING:chemschematicresolver.extract:Text could not be resolved from label 0\n",
      "WARNING:chemschematicresolver.extract:Confidence of label 0 deemed too low for extraction\n"
     ]
    },
    {
     "name": "stdout",
     "output_type": "stream",
     "text": [
      "extract image:  ./elsevier_images/cropped_molecules/test_enhanced/197_fx1_molecule_2.png\n"
     ]
    },
    {
     "name": "stderr",
     "output_type": "stream",
     "text": [
      "WARNING:chemschematicresolver.extract:Confidence of label 0 deemed too low for extraction\n"
     ]
    },
    {
     "name": "stdout",
     "output_type": "stream",
     "text": [
      "extract image:  ./elsevier_images/cropped_molecules/test_enhanced/197_fx1_molecule_3.png\n"
     ]
    },
    {
     "name": "stderr",
     "output_type": "stream",
     "text": [
      "WARNING:chemschematicresolver.extract:Confidence of label 1 deemed too low for extraction\n",
      "WARNING:chemschematicresolver.extract:Confidence of label 0 deemed too low for extraction\n"
     ]
    },
    {
     "name": "stdout",
     "output_type": "stream",
     "text": [
      "extract image:  ./elsevier_images/cropped_molecules/test_enhanced/197_fx1_molecule_4.png\n",
      "extract image:  ./elsevier_images/cropped_molecules/test_enhanced/197_sc1_molecule_0.png\n",
      "extract image:  ./elsevier_images/cropped_molecules/test_enhanced/197_sc1_molecule_1.png\n"
     ]
    },
    {
     "name": "stderr",
     "output_type": "stream",
     "text": [
      "WARNING:chemschematicresolver.extract:Confidence of label 0 deemed too low for extraction\n"
     ]
    },
    {
     "name": "stdout",
     "output_type": "stream",
     "text": [
      "extract image:  ./elsevier_images/cropped_molecules/test_enhanced/197_sc1_molecule_2.png\n",
      "extract image:  ./elsevier_images/cropped_molecules/test_enhanced/197_sc1_molecule_3.png\n",
      "Runtime error, no smiles\n",
      "extract image:  ./elsevier_images/cropped_molecules/test_enhanced/227_fx1_molecule_0.png\n"
     ]
    },
    {
     "name": "stderr",
     "output_type": "stream",
     "text": [
      "WARNING:chemschematicresolver.extract:Confidence of label 1 deemed too low for extraction\n"
     ]
    },
    {
     "name": "stdout",
     "output_type": "stream",
     "text": [
      "extract image:  ./elsevier_images/cropped_molecules/test_enhanced/227_gr7_molecule_0.png\n"
     ]
    },
    {
     "name": "stderr",
     "output_type": "stream",
     "text": [
      "WARNING:chemschematicresolver.extract:Text could not be resolved from label 0\n",
      "WARNING:chemschematicresolver.extract:Confidence of label 0 deemed too low for extraction\n"
     ]
    },
    {
     "name": "stdout",
     "output_type": "stream",
     "text": [
      "extract image:  ./elsevier_images/cropped_molecules/test_enhanced/227_gr7_molecule_1.png\n",
      "extract image:  ./elsevier_images/cropped_molecules/test_enhanced/227_gr7_molecule_2.png\n"
     ]
    },
    {
     "name": "stderr",
     "output_type": "stream",
     "text": [
      "WARNING:chemschematicresolver.extract:Text could not be resolved from label 0\n",
      "WARNING:chemschematicresolver.extract:Confidence of label 0 deemed too low for extraction\n"
     ]
    },
    {
     "name": "stdout",
     "output_type": "stream",
     "text": [
      "extract image:  ./elsevier_images/cropped_molecules/test_enhanced/227_gr7_molecule_3.png\n"
     ]
    },
    {
     "name": "stderr",
     "output_type": "stream",
     "text": [
      "WARNING:chemschematicresolver.extract:Text could not be resolved from label 0\n",
      "WARNING:chemschematicresolver.extract:Confidence of label 0 deemed too low for extraction\n"
     ]
    },
    {
     "name": "stdout",
     "output_type": "stream",
     "text": [
      "extract image:  ./elsevier_images/cropped_molecules/test_enhanced/248_gr8_molecule_0.png\n"
     ]
    },
    {
     "name": "stderr",
     "output_type": "stream",
     "text": [
      "WARNING:chemschematicresolver.extract:Confidence of label 1 deemed too low for extraction\n"
     ]
    },
    {
     "name": "stdout",
     "output_type": "stream",
     "text": [
      "extract image:  ./elsevier_images/cropped_molecules/test_enhanced/248_gr8_molecule_1.png\n"
     ]
    },
    {
     "name": "stderr",
     "output_type": "stream",
     "text": [
      "WARNING:chemschematicresolver.extract:Text could not be resolved from label 0\n",
      "WARNING:chemschematicresolver.extract:Confidence of label 0 deemed too low for extraction\n"
     ]
    },
    {
     "name": "stdout",
     "output_type": "stream",
     "text": [
      "extract image:  ./elsevier_images/cropped_molecules/test_enhanced/248_gr8_molecule_2.png\n",
      "extract image:  ./elsevier_images/cropped_molecules/test_enhanced/248_gr8_molecule_3.png\n",
      "extract image:  ./elsevier_images/cropped_molecules/test_enhanced/248_gr8_molecule_4.png\n",
      "extract image:  ./elsevier_images/cropped_molecules/test_enhanced/248_gr8_molecule_5.png\n"
     ]
    },
    {
     "name": "stderr",
     "output_type": "stream",
     "text": [
      "WARNING:chemschematicresolver.extract:Confidence of label 2 deemed too low for extraction\n"
     ]
    },
    {
     "name": "stdout",
     "output_type": "stream",
     "text": [
      "extract image:  ./elsevier_images/cropped_molecules/test_enhanced/248_gr8_molecule_6.png\n"
     ]
    },
    {
     "name": "stderr",
     "output_type": "stream",
     "text": [
      "WARNING:chemschematicresolver.extract:Confidence of label 0 deemed too low for extraction\n"
     ]
    },
    {
     "name": "stdout",
     "output_type": "stream",
     "text": [
      "extract image:  ./elsevier_images/cropped_molecules/test_enhanced/248_gr8_molecule_7.png\n"
     ]
    },
    {
     "name": "stderr",
     "output_type": "stream",
     "text": [
      "WARNING:chemschematicresolver.extract:Text could not be resolved from label 0\n",
      "WARNING:chemschematicresolver.extract:Confidence of label 0 deemed too low for extraction\n"
     ]
    },
    {
     "name": "stdout",
     "output_type": "stream",
     "text": [
      "extract image:  ./elsevier_images/cropped_molecules/test_enhanced/248_gr9_molecule_0.png\n"
     ]
    },
    {
     "name": "stderr",
     "output_type": "stream",
     "text": [
      "WARNING:chemschematicresolver.extract:Text could not be resolved from label 1\n",
      "WARNING:chemschematicresolver.extract:Confidence of label 1 deemed too low for extraction\n",
      "WARNING:chemschematicresolver.extract:Text could not be resolved from label 0\n",
      "WARNING:chemschematicresolver.extract:Confidence of label 0 deemed too low for extraction\n"
     ]
    },
    {
     "name": "stdout",
     "output_type": "stream",
     "text": [
      "extract image:  ./elsevier_images/cropped_molecules/test_enhanced/248_gr9_molecule_1.png\n",
      "Runtime error, no smiles\n",
      "extract image:  ./elsevier_images/cropped_molecules/test_enhanced/248_gr9_molecule_2.png\n"
     ]
    },
    {
     "name": "stderr",
     "output_type": "stream",
     "text": [
      "WARNING:chemschematicresolver.extract:Text could not be resolved from label 6\n",
      "WARNING:chemschematicresolver.extract:Confidence of label 6 deemed too low for extraction\n",
      "WARNING:chemschematicresolver.extract:Text could not be resolved from label 9\n",
      "WARNING:chemschematicresolver.extract:Confidence of label 9 deemed too low for extraction\n",
      "WARNING:chemschematicresolver.extract:Text could not be resolved from label 10\n",
      "WARNING:chemschematicresolver.extract:Confidence of label 10 deemed too low for extraction\n",
      "WARNING:chemschematicresolver.extract:Text could not be resolved from label 4\n",
      "WARNING:chemschematicresolver.extract:Confidence of label 4 deemed too low for extraction\n",
      "WARNING:chemschematicresolver.extract:Text could not be resolved from label 3\n",
      "WARNING:chemschematicresolver.extract:Confidence of label 3 deemed too low for extraction\n",
      "WARNING:chemschematicresolver.extract:Text could not be resolved from label 7\n",
      "WARNING:chemschematicresolver.extract:Confidence of label 7 deemed too low for extraction\n"
     ]
    },
    {
     "name": "stdout",
     "output_type": "stream",
     "text": [
      "extract image:  ./elsevier_images/cropped_molecules/test_enhanced/248_gr9_molecule_3.png\n"
     ]
    },
    {
     "name": "stderr",
     "output_type": "stream",
     "text": [
      "WARNING:chemschematicresolver.extract:Text could not be resolved from label 7\n",
      "WARNING:chemschematicresolver.extract:Confidence of label 7 deemed too low for extraction\n",
      "WARNING:chemschematicresolver.extract:Text could not be resolved from label 3\n",
      "WARNING:chemschematicresolver.extract:Confidence of label 3 deemed too low for extraction\n",
      "WARNING:chemschematicresolver.extract:Text could not be resolved from label 4\n",
      "WARNING:chemschematicresolver.extract:Confidence of label 4 deemed too low for extraction\n",
      "WARNING:chemschematicresolver.extract:Text could not be resolved from label 2\n",
      "WARNING:chemschematicresolver.extract:Confidence of label 2 deemed too low for extraction\n",
      "WARNING:chemschematicresolver.extract:Text could not be resolved from label 5\n",
      "WARNING:chemschematicresolver.extract:Confidence of label 5 deemed too low for extraction\n"
     ]
    },
    {
     "name": "stdout",
     "output_type": "stream",
     "text": [
      "extract image:  ./elsevier_images/cropped_molecules/test_enhanced/254_fx1_molecule_0.png\n"
     ]
    },
    {
     "name": "stderr",
     "output_type": "stream",
     "text": [
      "WARNING:chemschematicresolver.actions:No SMILES string was extracted for diagram 7\n",
      "WARNING:chemschematicresolver.extract:Some SMILES strings were determined to be false positives and were removed from the output.\n"
     ]
    },
    {
     "name": "stdout",
     "output_type": "stream",
     "text": [
      "extract image:  ./elsevier_images/cropped_molecules/test/281_sc1_molecule_0.png\n",
      "extract image:  ./elsevier_images/cropped_molecules/test/281_sc1_molecule_1.png\n",
      "extract image:  ./elsevier_images/cropped_molecules/test/281_sc1_molecule_2.png\n",
      "extract image:  ./elsevier_images/cropped_molecules/test/281_sc1_molecule_3.png\n"
     ]
    },
    {
     "name": "stderr",
     "output_type": "stream",
     "text": [
      "WARNING:chemschematicresolver.extract:Text could not be resolved from label 0\n",
      "WARNING:chemschematicresolver.extract:Confidence of label 0 deemed too low for extraction\n"
     ]
    },
    {
     "name": "stdout",
     "output_type": "stream",
     "text": [
      "extract image:  ./elsevier_images/cropped_molecules/test/281_sc1_molecule_4.png\n"
     ]
    },
    {
     "name": "stderr",
     "output_type": "stream",
     "text": [
      "WARNING:chemschematicresolver.extract:Text could not be resolved from label 0\n",
      "WARNING:chemschematicresolver.extract:Confidence of label 0 deemed too low for extraction\n"
     ]
    },
    {
     "name": "stdout",
     "output_type": "stream",
     "text": [
      "extract image:  ./elsevier_images/cropped_molecules/test/281_sc1_molecule_5.png\n"
     ]
    },
    {
     "name": "stderr",
     "output_type": "stream",
     "text": [
      "WARNING:chemschematicresolver.extract:Text could not be resolved from label 0\n",
      "WARNING:chemschematicresolver.extract:Confidence of label 0 deemed too low for extraction\n"
     ]
    },
    {
     "name": "stdout",
     "output_type": "stream",
     "text": [
      "extract image:  ./elsevier_images/cropped_molecules/test_enhanced/299_fx1_molecule_0.png\n",
      "extract image:  ./elsevier_images/cropped_molecules/test_enhanced/299_gr7_molecule_0.png\n"
     ]
    },
    {
     "name": "stderr",
     "output_type": "stream",
     "text": [
      "WARNING:chemschematicresolver.extract:Text could not be resolved from label 1\n",
      "WARNING:chemschematicresolver.extract:Confidence of label 1 deemed too low for extraction\n",
      "WARNING:chemschematicresolver.extract:Text could not be resolved from label 2\n",
      "WARNING:chemschematicresolver.extract:Confidence of label 2 deemed too low for extraction\n"
     ]
    },
    {
     "name": "stdout",
     "output_type": "stream",
     "text": [
      "extract image:  ./elsevier_images/cropped_molecules/test_enhanced/299_gr7_molecule_1.png\n",
      "extract image:  ./elsevier_images/cropped_molecules/test_enhanced/299_gr7_molecule_2.png\n",
      "extract image:  ./elsevier_images/cropped_molecules/test_enhanced/299_gr7_molecule_3.png\n",
      "extract image:  ./elsevier_images/cropped_molecules/test_enhanced/299_gr7_molecule_4.png\n"
     ]
    },
    {
     "name": "stderr",
     "output_type": "stream",
     "text": [
      "WARNING:chemschematicresolver.extract:Confidence of label 0 deemed too low for extraction\n"
     ]
    },
    {
     "name": "stdout",
     "output_type": "stream",
     "text": [
      "extract image:  ./elsevier_images/cropped_molecules/test_enhanced/299_gr7_molecule_5.png\n"
     ]
    },
    {
     "name": "stderr",
     "output_type": "stream",
     "text": [
      "WARNING:chemschematicresolver.extract:Text could not be resolved from label 1\n",
      "WARNING:chemschematicresolver.extract:Confidence of label 1 deemed too low for extraction\n",
      "WARNING:chemschematicresolver.extract:Text could not be resolved from label 0\n",
      "WARNING:chemschematicresolver.extract:Confidence of label 0 deemed too low for extraction\n"
     ]
    },
    {
     "name": "stdout",
     "output_type": "stream",
     "text": [
      "extract image:  ./elsevier_images/cropped_molecules/test_enhanced/299_gr8_molecule_0.png\n",
      "extract image:  ./elsevier_images/cropped_molecules/test_enhanced/299_gr8_molecule_1.png\n"
     ]
    },
    {
     "name": "stderr",
     "output_type": "stream",
     "text": [
      "WARNING:chemschematicresolver.extract:Confidence of label 0 deemed too low for extraction\n"
     ]
    },
    {
     "name": "stdout",
     "output_type": "stream",
     "text": [
      "extract image:  ./elsevier_images/cropped_molecules/test_enhanced/299_gr8_molecule_2.png\n"
     ]
    },
    {
     "name": "stderr",
     "output_type": "stream",
     "text": [
      "WARNING:chemschematicresolver.extract:Text could not be resolved from label 1\n",
      "WARNING:chemschematicresolver.extract:Confidence of label 1 deemed too low for extraction\n"
     ]
    },
    {
     "name": "stdout",
     "output_type": "stream",
     "text": [
      "extract image:  ./elsevier_images/cropped_molecules/test_enhanced/299_gr8_molecule_3.png\n"
     ]
    },
    {
     "name": "stderr",
     "output_type": "stream",
     "text": [
      "WARNING:chemschematicresolver.extract:Text could not be resolved from label 0\n",
      "WARNING:chemschematicresolver.extract:Confidence of label 0 deemed too low for extraction\n",
      "WARNING:chemschematicresolver.actions:No SMILES string was extracted for diagram 3\n",
      "WARNING:chemschematicresolver.extract:Some SMILES strings were determined to be false positives and were removed from the output.\n"
     ]
    },
    {
     "name": "stdout",
     "output_type": "stream",
     "text": [
      "extract image:  ./elsevier_images/cropped_molecules/test_enhanced/299_gr8_molecule_4.png\n"
     ]
    },
    {
     "name": "stderr",
     "output_type": "stream",
     "text": [
      "WARNING:chemschematicresolver.extract:Confidence of label 0 deemed too low for extraction\n"
     ]
    },
    {
     "name": "stdout",
     "output_type": "stream",
     "text": [
      "extract image:  ./elsevier_images/cropped_molecules/test_enhanced/299_gr8_molecule_5.png\n",
      "extract image:  ./elsevier_images/cropped_molecules/test_enhanced/299_gr8_molecule_6.png\n",
      "extract image:  ./elsevier_images/cropped_molecules/test_enhanced/299_gr9_molecule_0.png\n"
     ]
    },
    {
     "name": "stderr",
     "output_type": "stream",
     "text": [
      "WARNING:chemschematicresolver.extract:Text could not be resolved from label 1\n",
      "WARNING:chemschematicresolver.extract:Confidence of label 1 deemed too low for extraction\n",
      "WARNING:chemschematicresolver.extract:Text could not be resolved from label 0\n",
      "WARNING:chemschematicresolver.extract:Confidence of label 0 deemed too low for extraction\n"
     ]
    },
    {
     "name": "stdout",
     "output_type": "stream",
     "text": [
      "extract image:  ./elsevier_images/cropped_molecules/test_enhanced/299_gr9_molecule_1.png\n"
     ]
    },
    {
     "name": "stderr",
     "output_type": "stream",
     "text": [
      "WARNING:chemschematicresolver.extract:Confidence of label 0 deemed too low for extraction\n"
     ]
    },
    {
     "name": "stdout",
     "output_type": "stream",
     "text": [
      "extract image:  ./elsevier_images/cropped_molecules/test_enhanced/299_gr9_molecule_2.png\n"
     ]
    },
    {
     "name": "stderr",
     "output_type": "stream",
     "text": [
      "WARNING:chemschematicresolver.extract:Confidence of label 5 deemed too low for extraction\n"
     ]
    },
    {
     "name": "stdout",
     "output_type": "stream",
     "text": [
      "extract image:  ./elsevier_images/cropped_molecules/test_enhanced/299_gr9_molecule_3.png\n"
     ]
    },
    {
     "name": "stderr",
     "output_type": "stream",
     "text": [
      "WARNING:chemschematicresolver.extract:Text could not be resolved from label 2\n",
      "WARNING:chemschematicresolver.extract:Confidence of label 2 deemed too low for extraction\n"
     ]
    },
    {
     "name": "stdout",
     "output_type": "stream",
     "text": [
      "extract image:  ./elsevier_images/cropped_molecules/test_enhanced/299_gr9_molecule_4.png\n"
     ]
    },
    {
     "name": "stderr",
     "output_type": "stream",
     "text": [
      "WARNING:chemschematicresolver.extract:Confidence of label 1 deemed too low for extraction\n",
      "WARNING:chemschematicresolver.actions:No SMILES string was extracted for diagram 5\n",
      "WARNING:chemschematicresolver.extract:Some SMILES strings were determined to be false positives and were removed from the output.\n"
     ]
    },
    {
     "name": "stdout",
     "output_type": "stream",
     "text": [
      "extract image:  ./elsevier_images/cropped_molecules/test_enhanced/300_fx1_molecule_0.png\n"
     ]
    },
    {
     "name": "stderr",
     "output_type": "stream",
     "text": [
      "WARNING:chemschematicresolver.extract:Confidence of label 26 deemed too low for extraction\n",
      "WARNING:chemschematicresolver.actions:No SMILES string was extracted for diagram 28\n",
      "WARNING:chemschematicresolver.extract:Some SMILES strings were determined to be false positives and were removed from the output.\n"
     ]
    },
    {
     "name": "stdout",
     "output_type": "stream",
     "text": [
      "extract image:  ./elsevier_images/cropped_molecules/test/300_gr7_molecule_0.png\n"
     ]
    },
    {
     "name": "stderr",
     "output_type": "stream",
     "text": [
      "WARNING:chemschematicresolver.actions:No SMILES string was extracted for diagram 4\n",
      "WARNING:chemschematicresolver.extract:Some SMILES strings were determined to be false positives and were removed from the output.\n"
     ]
    },
    {
     "name": "stdout",
     "output_type": "stream",
     "text": [
      "extract image:  ./elsevier_images/cropped_molecules/test/300_gr7_molecule_1.png\n",
      "extract image:  ./elsevier_images/cropped_molecules/test/300_sc1_molecule_0.png\n",
      "extract image:  ./elsevier_images/cropped_molecules/test/300_sc1_molecule_1.png\n"
     ]
    },
    {
     "name": "stderr",
     "output_type": "stream",
     "text": [
      "WARNING:chemschematicresolver.actions:No SMILES string was extracted for diagram 4\n",
      "WARNING:chemschematicresolver.extract:Some SMILES strings were determined to be false positives and were removed from the output.\n"
     ]
    },
    {
     "name": "stdout",
     "output_type": "stream",
     "text": [
      "extract image:  ./elsevier_images/cropped_molecules/test/300_sc1_molecule_2.png\n",
      "extract image:  ./elsevier_images/cropped_molecules/test/300_sc1_molecule_3.png\n"
     ]
    },
    {
     "name": "stderr",
     "output_type": "stream",
     "text": [
      "WARNING:chemschematicresolver.extract:Confidence of label 1 deemed too low for extraction\n"
     ]
    },
    {
     "name": "stdout",
     "output_type": "stream",
     "text": [
      "extract image:  ./elsevier_images/cropped_molecules/test/300_sc1_molecule_4.png\n",
      "extract image:  ./elsevier_images/cropped_molecules/test/300_sc1_molecule_5.png\n",
      "extract image:  ./elsevier_images/cropped_molecules/test/300_sc1_molecule_6.png\n"
     ]
    },
    {
     "name": "stderr",
     "output_type": "stream",
     "text": [
      "WARNING:chemschematicresolver.actions:No SMILES string was extracted for diagram 6\n",
      "WARNING:chemschematicresolver.extract:Some SMILES strings were determined to be false positives and were removed from the output.\n"
     ]
    },
    {
     "name": "stdout",
     "output_type": "stream",
     "text": [
      "extract image:  ./elsevier_images/cropped_molecules/test_enhanced/347_fx1_molecule_0.png\n"
     ]
    },
    {
     "name": "stderr",
     "output_type": "stream",
     "text": [
      "WARNING:chemschematicresolver.extract:Confidence of label 1 deemed too low for extraction\n"
     ]
    },
    {
     "name": "stdout",
     "output_type": "stream",
     "text": [
      "extract image:  ./elsevier_images/cropped_molecules/test_enhanced/347_sc1_molecule_0.png\n",
      "extract image:  ./elsevier_images/cropped_molecules/test_enhanced/347_sc1_molecule_1.png\n",
      "extract image:  ./elsevier_images/cropped_molecules/test_enhanced/347_sc1_molecule_2.png\n",
      "extract image:  ./elsevier_images/cropped_molecules/test_enhanced/347_sc1_molecule_3.png\n"
     ]
    },
    {
     "name": "stderr",
     "output_type": "stream",
     "text": [
      "WARNING:chemschematicresolver.extract:Confidence of label 0 deemed too low for extraction\n"
     ]
    },
    {
     "name": "stdout",
     "output_type": "stream",
     "text": [
      "extract image:  ./elsevier_images/cropped_molecules/test_enhanced/347_sc1_molecule_4.png\n"
     ]
    },
    {
     "name": "stderr",
     "output_type": "stream",
     "text": [
      "WARNING:chemschematicresolver.extract:Confidence of label 0 deemed too low for extraction\n"
     ]
    },
    {
     "name": "stdout",
     "output_type": "stream",
     "text": [
      "extract image:  ./elsevier_images/cropped_molecules/test_enhanced/377_sc1_molecule_0.png\n",
      "extract image:  ./elsevier_images/cropped_molecules/test_enhanced/377_sc1_molecule_1.png\n"
     ]
    },
    {
     "name": "stderr",
     "output_type": "stream",
     "text": [
      "WARNING:chemschematicresolver.extract:Text could not be resolved from label 1\n",
      "WARNING:chemschematicresolver.extract:Confidence of label 1 deemed too low for extraction\n"
     ]
    },
    {
     "name": "stdout",
     "output_type": "stream",
     "text": [
      "extract image:  ./elsevier_images/cropped_molecules/test_enhanced/377_sc1_molecule_2.png\n"
     ]
    },
    {
     "name": "stderr",
     "output_type": "stream",
     "text": [
      "WARNING:chemschematicresolver.r_group:No SMILES strings were extracted for diagram 3\n"
     ]
    },
    {
     "name": "stdout",
     "output_type": "stream",
     "text": [
      "extract image:  ./elsevier_images/cropped_molecules/test_enhanced/377_sc1_molecule_3.png\n"
     ]
    },
    {
     "name": "stderr",
     "output_type": "stream",
     "text": [
      "WARNING:chemschematicresolver.extract:Text could not be resolved from label 1\n",
      "WARNING:chemschematicresolver.extract:Confidence of label 1 deemed too low for extraction\n"
     ]
    },
    {
     "name": "stdout",
     "output_type": "stream",
     "text": [
      "extract image:  ./elsevier_images/cropped_molecules/test_enhanced/379_fx1_molecule_0.png\n",
      "extract image:  ./elsevier_images/cropped_molecules/test_enhanced/379_fx1_molecule_1.png\n"
     ]
    },
    {
     "name": "stderr",
     "output_type": "stream",
     "text": [
      "WARNING:chemschematicresolver.extract:Text could not be resolved from label 1\n",
      "WARNING:chemschematicresolver.extract:Confidence of label 1 deemed too low for extraction\n"
     ]
    },
    {
     "name": "stdout",
     "output_type": "stream",
     "text": [
      "extract image:  ./elsevier_images/cropped_molecules/test_enhanced/379_sc1_molecule_0.png\n"
     ]
    },
    {
     "name": "stderr",
     "output_type": "stream",
     "text": [
      "WARNING:chemschematicresolver.extract:Text could not be resolved from label 0\n",
      "WARNING:chemschematicresolver.extract:Confidence of label 0 deemed too low for extraction\n"
     ]
    },
    {
     "name": "stdout",
     "output_type": "stream",
     "text": [
      "extract image:  ./elsevier_images/cropped_molecules/test_enhanced/379_sc1_molecule_1.png\n"
     ]
    },
    {
     "name": "stderr",
     "output_type": "stream",
     "text": [
      "WARNING:chemschematicresolver.extract:Text could not be resolved from label 0\n",
      "WARNING:chemschematicresolver.extract:Confidence of label 0 deemed too low for extraction\n"
     ]
    },
    {
     "name": "stdout",
     "output_type": "stream",
     "text": [
      "extract image:  ./elsevier_images/cropped_molecules/test_enhanced/379_sc1_molecule_10.png\n"
     ]
    },
    {
     "name": "stderr",
     "output_type": "stream",
     "text": [
      "WARNING:chemschematicresolver.extract:Text could not be resolved from label 0\n",
      "WARNING:chemschematicresolver.extract:Confidence of label 0 deemed too low for extraction\n"
     ]
    },
    {
     "name": "stdout",
     "output_type": "stream",
     "text": [
      "extract image:  ./elsevier_images/cropped_molecules/test_enhanced/379_sc1_molecule_11.png\n",
      "extract image:  ./elsevier_images/cropped_molecules/test_enhanced/379_sc1_molecule_2.png\n",
      "extract image:  ./elsevier_images/cropped_molecules/test_enhanced/379_sc1_molecule_3.png\n",
      "extract image:  ./elsevier_images/cropped_molecules/test_enhanced/379_sc1_molecule_4.png\n"
     ]
    },
    {
     "name": "stderr",
     "output_type": "stream",
     "text": [
      "WARNING:chemschematicresolver.extract:Confidence of label 0 deemed too low for extraction\n"
     ]
    },
    {
     "name": "stdout",
     "output_type": "stream",
     "text": [
      "extract image:  ./elsevier_images/cropped_molecules/test_enhanced/379_sc1_molecule_5.png\n",
      "extract image:  ./elsevier_images/cropped_molecules/test_enhanced/379_sc1_molecule_6.png\n",
      "extract image:  ./elsevier_images/cropped_molecules/test_enhanced/379_sc1_molecule_7.png\n",
      "extract image:  ./elsevier_images/cropped_molecules/test_enhanced/379_sc1_molecule_8.png\n"
     ]
    },
    {
     "name": "stderr",
     "output_type": "stream",
     "text": [
      "WARNING:chemschematicresolver.extract:Confidence of label 1 deemed too low for extraction\n"
     ]
    },
    {
     "name": "stdout",
     "output_type": "stream",
     "text": [
      "extract image:  ./elsevier_images/cropped_molecules/test_enhanced/379_sc1_molecule_9.png\n"
     ]
    },
    {
     "name": "stderr",
     "output_type": "stream",
     "text": [
      "WARNING:chemschematicresolver.extract:Text could not be resolved from label 0\n",
      "WARNING:chemschematicresolver.extract:Confidence of label 0 deemed too low for extraction\n"
     ]
    },
    {
     "name": "stdout",
     "output_type": "stream",
     "text": [
      "extract image:  ./elsevier_images/cropped_molecules/test_enhanced/379_sc2_molecule_0.png\n"
     ]
    },
    {
     "name": "stderr",
     "output_type": "stream",
     "text": [
      "WARNING:chemschematicresolver.extract:Text could not be resolved from label 0\n",
      "WARNING:chemschematicresolver.extract:Confidence of label 0 deemed too low for extraction\n"
     ]
    },
    {
     "name": "stdout",
     "output_type": "stream",
     "text": [
      "extract image:  ./elsevier_images/cropped_molecules/test_enhanced/379_sc2_molecule_1.png\n"
     ]
    },
    {
     "name": "stderr",
     "output_type": "stream",
     "text": [
      "WARNING:chemschematicresolver.actions:No SMILES string was extracted for diagram 4\n",
      "WARNING:chemschematicresolver.extract:Confidence of label 0 deemed too low for extraction\n",
      "WARNING:chemschematicresolver.extract:Some SMILES strings were determined to be false positives and were removed from the output.\n"
     ]
    },
    {
     "name": "stdout",
     "output_type": "stream",
     "text": [
      "extract image:  ./elsevier_images/cropped_molecules/test_enhanced/379_sc2_molecule_2.png\n"
     ]
    },
    {
     "name": "stderr",
     "output_type": "stream",
     "text": [
      "WARNING:chemschematicresolver.extract:Confidence of label 1 deemed too low for extraction\n",
      "WARNING:chemschematicresolver.actions:No SMILES string was extracted for diagram 6\n",
      "WARNING:chemschematicresolver.extract:Text could not be resolved from label 0\n",
      "WARNING:chemschematicresolver.extract:Confidence of label 0 deemed too low for extraction\n",
      "WARNING:chemschematicresolver.extract:Some SMILES strings were determined to be false positives and were removed from the output.\n"
     ]
    },
    {
     "name": "stdout",
     "output_type": "stream",
     "text": [
      "extract image:  ./elsevier_images/cropped_molecules/test_enhanced/379_sc2_molecule_3.png\n",
      "extract image:  ./elsevier_images/cropped_molecules/test_enhanced/379_sc2_molecule_4.png\n"
     ]
    },
    {
     "name": "stderr",
     "output_type": "stream",
     "text": [
      "WARNING:chemschematicresolver.actions:No SMILES string was extracted for diagram 8\n",
      "WARNING:chemschematicresolver.extract:Text could not be resolved from label 2\n",
      "WARNING:chemschematicresolver.extract:Confidence of label 2 deemed too low for extraction\n",
      "WARNING:chemschematicresolver.extract:Confidence of label 3 deemed too low for extraction\n",
      "WARNING:chemschematicresolver.extract:Text could not be resolved from label 1\n",
      "WARNING:chemschematicresolver.extract:Confidence of label 1 deemed too low for extraction\n",
      "WARNING:chemschematicresolver.extract:Some SMILES strings were determined to be false positives and were removed from the output.\n"
     ]
    },
    {
     "name": "stdout",
     "output_type": "stream",
     "text": [
      "extract image:  ./elsevier_images/cropped_molecules/test_enhanced/391_fx1_molecule_0.png\n"
     ]
    },
    {
     "name": "stderr",
     "output_type": "stream",
     "text": [
      "WARNING:chemschematicresolver.extract:Confidence of label 0 deemed too low for extraction\n"
     ]
    },
    {
     "name": "stdout",
     "output_type": "stream",
     "text": [
      "extract image:  ./elsevier_images/cropped_molecules/test_enhanced/391_fx1_molecule_1.png\n"
     ]
    },
    {
     "name": "stderr",
     "output_type": "stream",
     "text": [
      "WARNING:chemschematicresolver.extract:Confidence of label 0 deemed too low for extraction\n"
     ]
    },
    {
     "name": "stdout",
     "output_type": "stream",
     "text": [
      "extract image:  ./elsevier_images/cropped_molecules/test_enhanced/391_fx1_molecule_2.png\n"
     ]
    },
    {
     "name": "stderr",
     "output_type": "stream",
     "text": [
      "WARNING:chemschematicresolver.extract:Confidence of label 1 deemed too low for extraction\n"
     ]
    },
    {
     "name": "stdout",
     "output_type": "stream",
     "text": [
      "extract image:  ./elsevier_images/cropped_molecules/test_enhanced/391_sc1_molecule_0.png\n",
      "extract image:  ./elsevier_images/cropped_molecules/test_enhanced/391_sc1_molecule_1.png\n"
     ]
    },
    {
     "name": "stderr",
     "output_type": "stream",
     "text": [
      "WARNING:chemschematicresolver.extract:Text could not be resolved from label 0\n",
      "WARNING:chemschematicresolver.extract:Confidence of label 0 deemed too low for extraction\n",
      "WARNING:chemschematicresolver.extract:Text could not be resolved from label 1\n",
      "WARNING:chemschematicresolver.extract:Confidence of label 1 deemed too low for extraction\n"
     ]
    },
    {
     "name": "stdout",
     "output_type": "stream",
     "text": [
      "extract image:  ./elsevier_images/cropped_molecules/test_enhanced/391_sc1_molecule_10.png\n",
      "extract image:  ./elsevier_images/cropped_molecules/test_enhanced/391_sc1_molecule_2.png\n",
      "extract image:  ./elsevier_images/cropped_molecules/test_enhanced/391_sc1_molecule_3.png\n",
      "extract image:  ./elsevier_images/cropped_molecules/test_enhanced/391_sc1_molecule_4.png\n"
     ]
    },
    {
     "name": "stderr",
     "output_type": "stream",
     "text": [
      "WARNING:chemschematicresolver.extract:Text could not be resolved from label 1\n",
      "WARNING:chemschematicresolver.extract:Confidence of label 1 deemed too low for extraction\n"
     ]
    },
    {
     "name": "stdout",
     "output_type": "stream",
     "text": [
      "extract image:  ./elsevier_images/cropped_molecules/test_enhanced/391_sc1_molecule_5.png\n",
      "extract image:  ./elsevier_images/cropped_molecules/test_enhanced/391_sc1_molecule_6.png\n",
      "extract image:  ./elsevier_images/cropped_molecules/test_enhanced/391_sc1_molecule_7.png\n",
      "extract image:  ./elsevier_images/cropped_molecules/test_enhanced/391_sc1_molecule_8.png\n",
      "extract image:  ./elsevier_images/cropped_molecules/test_enhanced/391_sc1_molecule_9.png\n",
      "extract image:  ./elsevier_images/cropped_molecules/test_enhanced/392_sc1_molecule_0.png\n",
      "extract image:  ./elsevier_images/cropped_molecules/test_enhanced/392_sc1_molecule_1.png\n",
      "extract image:  ./elsevier_images/cropped_molecules/test_enhanced/392_sc1_molecule_2.png\n"
     ]
    },
    {
     "name": "stderr",
     "output_type": "stream",
     "text": [
      "WARNING:chemschematicresolver.extract:Text could not be resolved from label 0\n",
      "WARNING:chemschematicresolver.extract:Confidence of label 0 deemed too low for extraction\n"
     ]
    },
    {
     "name": "stdout",
     "output_type": "stream",
     "text": [
      "extract image:  ./elsevier_images/cropped_molecules/test_enhanced/392_sc1_molecule_3.png\n"
     ]
    },
    {
     "name": "stderr",
     "output_type": "stream",
     "text": [
      "WARNING:chemschematicresolver.extract:Confidence of label 0 deemed too low for extraction\n"
     ]
    },
    {
     "name": "stdout",
     "output_type": "stream",
     "text": [
      "extract image:  ./elsevier_images/cropped_molecules/test_enhanced/392_sc1_molecule_4.png\n"
     ]
    },
    {
     "name": "stderr",
     "output_type": "stream",
     "text": [
      "WARNING:chemschematicresolver.extract:Confidence of label 0 deemed too low for extraction\n"
     ]
    },
    {
     "name": "stdout",
     "output_type": "stream",
     "text": [
      "extract image:  ./elsevier_images/cropped_molecules/test_enhanced/392_sc2_molecule_0.png\n",
      "Runtime error, no smiles\n",
      "extract image:  ./elsevier_images/cropped_molecules/test_enhanced/392_sc2_molecule_1.png\n",
      "Runtime error, no smiles\n",
      "extract image:  ./elsevier_images/cropped_molecules/test_enhanced/392_sc2_molecule_2.png\n"
     ]
    },
    {
     "name": "stderr",
     "output_type": "stream",
     "text": [
      "WARNING:chemschematicresolver.extract:Confidence of label 0 deemed too low for extraction\n"
     ]
    },
    {
     "name": "stdout",
     "output_type": "stream",
     "text": [
      "extract image:  ./elsevier_images/cropped_molecules/test/423_fx1_molecule_0.png\n",
      "extract image:  ./elsevier_images/cropped_molecules/test_enhanced/423_fx1_molecule_1.png\n",
      "extract image:  ./elsevier_images/cropped_molecules/test_enhanced/423_gr5_molecule_0.png\n"
     ]
    },
    {
     "name": "stderr",
     "output_type": "stream",
     "text": [
      "WARNING:chemschematicresolver.extract:Text could not be resolved from label 0\n",
      "WARNING:chemschematicresolver.extract:Confidence of label 0 deemed too low for extraction\n",
      "WARNING:chemschematicresolver.actions:No SMILES string was extracted for diagram 4\n",
      "WARNING:chemschematicresolver.extract:Some SMILES strings were determined to be false positives and were removed from the output.\n"
     ]
    },
    {
     "name": "stdout",
     "output_type": "stream",
     "text": [
      "extract image:  ./elsevier_images/cropped_molecules/test_enhanced/423_gr5_molecule_1.png\n"
     ]
    },
    {
     "name": "stderr",
     "output_type": "stream",
     "text": [
      "WARNING:chemschematicresolver.actions:No SMILES string was extracted for diagram 5\n",
      "WARNING:chemschematicresolver.extract:Some SMILES strings were determined to be false positives and were removed from the output.\n"
     ]
    },
    {
     "name": "stdout",
     "output_type": "stream",
     "text": [
      "extract image:  ./elsevier_images/cropped_molecules/test_enhanced/423_gr5_molecule_2.png\n",
      "extract image:  ./elsevier_images/cropped_molecules/test_enhanced/423_gr5_molecule_3.png\n"
     ]
    },
    {
     "name": "stderr",
     "output_type": "stream",
     "text": [
      "WARNING:chemschematicresolver.extract:Confidence of label 1 deemed too low for extraction\n"
     ]
    },
    {
     "name": "stdout",
     "output_type": "stream",
     "text": [
      "extract image:  ./elsevier_images/cropped_molecules/test_enhanced/423_gr5_molecule_4.png\n",
      "extract image:  ./elsevier_images/cropped_molecules/test_enhanced/423_gr5_molecule_5.png\n"
     ]
    },
    {
     "name": "stderr",
     "output_type": "stream",
     "text": [
      "WARNING:chemschematicresolver.extract:Confidence of label 0 deemed too low for extraction\n",
      "WARNING:chemschematicresolver.actions:No SMILES string was extracted for diagram 3\n",
      "WARNING:chemschematicresolver.extract:Some SMILES strings were determined to be false positives and were removed from the output.\n"
     ]
    },
    {
     "name": "stdout",
     "output_type": "stream",
     "text": [
      "extract image:  ./elsevier_images/cropped_molecules/test/458_Bing_Guo_wide_bandgap_2017_P05_molecule_0.png\n"
     ]
    },
    {
     "name": "stderr",
     "output_type": "stream",
     "text": [
      "WARNING:chemschematicresolver.extract:Confidence of label 3 deemed too low for extraction\n",
      "WARNING:chemschematicresolver.actions:No SMILES string was extracted for diagram 5\n",
      "WARNING:chemschematicresolver.extract:Confidence of label 1 deemed too low for extraction\n",
      "WARNING:chemschematicresolver.extract:Some SMILES strings were determined to be false positives and were removed from the output.\n"
     ]
    },
    {
     "name": "stdout",
     "output_type": "stream",
     "text": [
      "extract image:  ./elsevier_images/cropped_molecules/test/458_Bing_Guo_wide_bandgap_2017_P07_molecule_0.png\n"
     ]
    },
    {
     "name": "stderr",
     "output_type": "stream",
     "text": [
      "WARNING:chemschematicresolver.actions:No SMILES string was extracted for diagram 11\n",
      "WARNING:chemschematicresolver.actions:No SMILES string was extracted for diagram 9\n",
      "WARNING:chemschematicresolver.actions:No SMILES string was extracted for diagram 8\n",
      "WARNING:chemschematicresolver.actions:No SMILES string was extracted for diagram 10\n",
      "WARNING:chemschematicresolver.extract:Text could not be resolved from label 0\n",
      "WARNING:chemschematicresolver.extract:Confidence of label 0 deemed too low for extraction\n",
      "WARNING:chemschematicresolver.extract:Some SMILES strings were determined to be false positives and were removed from the output.\n"
     ]
    },
    {
     "name": "stdout",
     "output_type": "stream",
     "text": [
      "extract image:  ./elsevier_images/cropped_molecules/test/458_Bing_Guo_wide_bandgap_2017_P09_molecule_0.png\n"
     ]
    },
    {
     "name": "stderr",
     "output_type": "stream",
     "text": [
      "WARNING:chemschematicresolver.extract:Confidence of label 0 deemed too low for extraction\n"
     ]
    },
    {
     "name": "stdout",
     "output_type": "stream",
     "text": [
      "extract image:  ./elsevier_images/cropped_molecules/test/458_Bing_Guo_wide_bandgap_2017_P12_molecule_0.png\n"
     ]
    },
    {
     "name": "stderr",
     "output_type": "stream",
     "text": [
      "WARNING:chemschematicresolver.extract:Confidence of label 3 deemed too low for extraction\n"
     ]
    },
    {
     "name": "stdout",
     "output_type": "stream",
     "text": [
      "extract image:  ./elsevier_images/cropped_molecules/test/458_Bing_Guo_wide_bandgap_2017_P12_molecule_1.png\n"
     ]
    },
    {
     "name": "stderr",
     "output_type": "stream",
     "text": [
      "WARNING:chemschematicresolver.actions:No SMILES string was extracted for diagram 2\n",
      "WARNING:chemschematicresolver.extract:Some SMILES strings were determined to be false positives and were removed from the output.\n"
     ]
    },
    {
     "name": "stdout",
     "output_type": "stream",
     "text": [
      "extract image:  ./elsevier_images/cropped_molecules/test/458_fx1_molecule_0.png\n"
     ]
    },
    {
     "name": "stderr",
     "output_type": "stream",
     "text": [
      "WARNING:chemschematicresolver.extract:Confidence of label 0 deemed too low for extraction\n"
     ]
    },
    {
     "name": "stdout",
     "output_type": "stream",
     "text": [
      "extract image:  ./elsevier_images/cropped_molecules/test/458_gr1_molecule_0.png\n"
     ]
    },
    {
     "name": "stderr",
     "output_type": "stream",
     "text": [
      "WARNING:chemschematicresolver.extract:Text could not be resolved from label 2\n",
      "WARNING:chemschematicresolver.extract:Confidence of label 2 deemed too low for extraction\n",
      "WARNING:chemschematicresolver.extract:Text could not be resolved from label 0\n",
      "WARNING:chemschematicresolver.extract:Confidence of label 0 deemed too low for extraction\n",
      "WARNING:chemschematicresolver.extract:Text could not be resolved from label 1\n",
      "WARNING:chemschematicresolver.extract:Confidence of label 1 deemed too low for extraction\n"
     ]
    },
    {
     "name": "stdout",
     "output_type": "stream",
     "text": [
      "extract image:  ./elsevier_images/cropped_molecules/test/458_gr1_molecule_1.png\n"
     ]
    },
    {
     "name": "stderr",
     "output_type": "stream",
     "text": [
      "WARNING:chemschematicresolver.extract:Confidence of label 3 deemed too low for extraction\n"
     ]
    },
    {
     "name": "stdout",
     "output_type": "stream",
     "text": [
      "extract image:  ./elsevier_images/cropped_molecules/test/458_gr1_molecule_2.png\n",
      "extract image:  ./elsevier_images/cropped_molecules/test_enhanced/463_fx1_molecule_0.png\n",
      "extract image:  ./elsevier_images/cropped_molecules/test_enhanced/463_fx1_molecule_1.png\n",
      "extract image:  ./elsevier_images/cropped_molecules/test/463_sc1_molecule_0.png\n"
     ]
    },
    {
     "name": "stderr",
     "output_type": "stream",
     "text": [
      "WARNING:chemschematicresolver.extract:Confidence of label 0 deemed too low for extraction\n"
     ]
    },
    {
     "name": "stdout",
     "output_type": "stream",
     "text": [
      "extract image:  ./elsevier_images/cropped_molecules/test/463_sc1_molecule_1.png\n"
     ]
    },
    {
     "name": "stderr",
     "output_type": "stream",
     "text": [
      "WARNING:chemschematicresolver.extract:Text could not be resolved from label 0\n",
      "WARNING:chemschematicresolver.extract:Confidence of label 0 deemed too low for extraction\n"
     ]
    },
    {
     "name": "stdout",
     "output_type": "stream",
     "text": [
      "extract image:  ./elsevier_images/cropped_molecules/test/463_sc1_molecule_2.png\n"
     ]
    },
    {
     "name": "stderr",
     "output_type": "stream",
     "text": [
      "WARNING:chemschematicresolver.extract:Text could not be resolved from label 0\n",
      "WARNING:chemschematicresolver.extract:Confidence of label 0 deemed too low for extraction\n"
     ]
    },
    {
     "name": "stdout",
     "output_type": "stream",
     "text": [
      "extract image:  ./elsevier_images/cropped_molecules/test/463_sc1_molecule_3.png\n",
      "extract image:  ./elsevier_images/cropped_molecules/test/463_sc1_molecule_4.png\n",
      "extract image:  ./elsevier_images/cropped_molecules/test/463_sc1_molecule_5.png\n"
     ]
    },
    {
     "name": "stderr",
     "output_type": "stream",
     "text": [
      "WARNING:chemschematicresolver.extract:Confidence of label 0 deemed too low for extraction\n"
     ]
    },
    {
     "name": "stdout",
     "output_type": "stream",
     "text": [
      "extract image:  ./elsevier_images/cropped_molecules/test/463_sc1_molecule_6.png\n"
     ]
    },
    {
     "name": "stderr",
     "output_type": "stream",
     "text": [
      "WARNING:chemschematicresolver.extract:Confidence of label 0 deemed too low for extraction\n"
     ]
    },
    {
     "name": "stdout",
     "output_type": "stream",
     "text": [
      "extract image:  ./elsevier_images/cropped_molecules/test/463_sc1_molecule_7.png\n"
     ]
    },
    {
     "name": "stderr",
     "output_type": "stream",
     "text": [
      "WARNING:chemschematicresolver.extract:Text could not be resolved from label 0\n",
      "WARNING:chemschematicresolver.extract:Confidence of label 0 deemed too low for extraction\n"
     ]
    },
    {
     "name": "stdout",
     "output_type": "stream",
     "text": [
      "extract image:  ./elsevier_images/cropped_molecules/test/464_fx1_molecule_0.png\n"
     ]
    },
    {
     "name": "stderr",
     "output_type": "stream",
     "text": [
      "WARNING:chemschematicresolver.extract:Confidence of label 1 deemed too low for extraction\n"
     ]
    },
    {
     "name": "stdout",
     "output_type": "stream",
     "text": [
      "extract image:  ./elsevier_images/cropped_molecules/test/464_fx1_molecule_1.png\n"
     ]
    },
    {
     "name": "stderr",
     "output_type": "stream",
     "text": [
      "WARNING:chemschematicresolver.extract:Confidence of label 1 deemed too low for extraction\n"
     ]
    },
    {
     "name": "stdout",
     "output_type": "stream",
     "text": [
      "extract image:  ./elsevier_images/cropped_molecules/test/464_fx1_molecule_2.png\n"
     ]
    },
    {
     "name": "stderr",
     "output_type": "stream",
     "text": [
      "WARNING:chemschematicresolver.extract:Confidence of label 1 deemed too low for extraction\n"
     ]
    },
    {
     "name": "stdout",
     "output_type": "stream",
     "text": [
      "extract image:  ./elsevier_images/cropped_molecules/test/464_fx1_molecule_3.png\n"
     ]
    },
    {
     "name": "stderr",
     "output_type": "stream",
     "text": [
      "WARNING:chemschematicresolver.extract:Confidence of label 1 deemed too low for extraction\n",
      "WARNING:chemschematicresolver.extract:Text could not be resolved from label 0\n",
      "WARNING:chemschematicresolver.extract:Confidence of label 0 deemed too low for extraction\n"
     ]
    },
    {
     "name": "stdout",
     "output_type": "stream",
     "text": [
      "extract image:  ./elsevier_images/cropped_molecules/test/464_sc1_molecule_0.png\n",
      "extract image:  ./elsevier_images/cropped_molecules/test/464_sc1_molecule_1.png\n",
      "extract image:  ./elsevier_images/cropped_molecules/test/464_sc1_molecule_2.png\n"
     ]
    },
    {
     "name": "stderr",
     "output_type": "stream",
     "text": [
      "WARNING:chemschematicresolver.extract:Text could not be resolved from label 0\n",
      "WARNING:chemschematicresolver.extract:Confidence of label 0 deemed too low for extraction\n"
     ]
    },
    {
     "name": "stdout",
     "output_type": "stream",
     "text": [
      "extract image:  ./elsevier_images/cropped_molecules/test/464_sc1_molecule_3.png\n",
      "extract image:  ./elsevier_images/cropped_molecules/test/464_sc1_molecule_4.png\n",
      "extract image:  ./elsevier_images/cropped_molecules/test/464_sc1_molecule_5.png\n",
      "extract image:  ./elsevier_images/cropped_molecules/test/465_fx1_molecule_0.png\n"
     ]
    },
    {
     "name": "stderr",
     "output_type": "stream",
     "text": [
      "WARNING:chemschematicresolver.extract:Confidence of label 2 deemed too low for extraction\n"
     ]
    },
    {
     "name": "stdout",
     "output_type": "stream",
     "text": [
      "extract image:  ./elsevier_images/cropped_molecules/test/465_fx1_molecule_1.png\n"
     ]
    },
    {
     "name": "stderr",
     "output_type": "stream",
     "text": [
      "WARNING:chemschematicresolver.extract:Confidence of label 1 deemed too low for extraction\n",
      "WARNING:chemschematicresolver.actions:No SMILES string was extracted for diagram 3\n",
      "WARNING:chemschematicresolver.extract:Some SMILES strings were determined to be false positives and were removed from the output.\n"
     ]
    },
    {
     "name": "stdout",
     "output_type": "stream",
     "text": [
      "extract image:  ./elsevier_images/cropped_molecules/test/465_sc1_molecule_0.png\n",
      "extract image:  ./elsevier_images/cropped_molecules/test/465_sc1_molecule_1.png\n"
     ]
    },
    {
     "name": "stderr",
     "output_type": "stream",
     "text": [
      "WARNING:chemschematicresolver.extract:Confidence of label 2 deemed too low for extraction\n"
     ]
    },
    {
     "name": "stdout",
     "output_type": "stream",
     "text": [
      "extract image:  ./elsevier_images/cropped_molecules/test/465_sc1_molecule_2.png\n",
      "extract image:  ./elsevier_images/cropped_molecules/test/465_sc1_molecule_3.png\n"
     ]
    },
    {
     "name": "stderr",
     "output_type": "stream",
     "text": [
      "WARNING:chemschematicresolver.extract:Confidence of label 0 deemed too low for extraction\n"
     ]
    },
    {
     "name": "stdout",
     "output_type": "stream",
     "text": [
      "extract image:  ./elsevier_images/cropped_molecules/test/465_sc1_molecule_4.png\n",
      "Runtime error, no smiles\n",
      "extract image:  ./elsevier_images/cropped_molecules/test/466_fx1_molecule_0.png\n",
      "extract image:  ./elsevier_images/cropped_molecules/test/466_fx1_molecule_1.png\n"
     ]
    },
    {
     "name": "stderr",
     "output_type": "stream",
     "text": [
      "WARNING:chemschematicresolver.extract:Text could not be resolved from label 2\n",
      "WARNING:chemschematicresolver.extract:Confidence of label 2 deemed too low for extraction\n"
     ]
    },
    {
     "name": "stdout",
     "output_type": "stream",
     "text": [
      "extract image:  ./elsevier_images/cropped_molecules/test/466_sc1_molecule_0.png\n",
      "extract image:  ./elsevier_images/cropped_molecules/test/466_sc1_molecule_1.png\n"
     ]
    },
    {
     "name": "stderr",
     "output_type": "stream",
     "text": [
      "WARNING:chemschematicresolver.actions:No SMILES string was extracted for diagram 5\n",
      "WARNING:chemschematicresolver.extract:Some SMILES strings were determined to be false positives and were removed from the output.\n"
     ]
    },
    {
     "name": "stdout",
     "output_type": "stream",
     "text": [
      "extract image:  ./elsevier_images/cropped_molecules/test/466_sc1_molecule_2.png\n",
      "extract image:  ./elsevier_images/cropped_molecules/test/466_sc1_molecule_3.png\n"
     ]
    },
    {
     "name": "stderr",
     "output_type": "stream",
     "text": [
      "WARNING:chemschematicresolver.extract:Confidence of label 0 deemed too low for extraction\n"
     ]
    },
    {
     "name": "stdout",
     "output_type": "stream",
     "text": [
      "extract image:  ./elsevier_images/cropped_molecules/test/466_sc1_molecule_4.png\n"
     ]
    },
    {
     "name": "stderr",
     "output_type": "stream",
     "text": [
      "WARNING:chemschematicresolver.extract:Confidence of label 0 deemed too low for extraction\n"
     ]
    },
    {
     "name": "stdout",
     "output_type": "stream",
     "text": [
      "extract image:  ./elsevier_images/cropped_molecules/test/466_sc1_molecule_5.png\n"
     ]
    },
    {
     "name": "stderr",
     "output_type": "stream",
     "text": [
      "WARNING:chemschematicresolver.extract:Text could not be resolved from label 0\n",
      "WARNING:chemschematicresolver.extract:Confidence of label 0 deemed too low for extraction\n",
      "WARNING:chemschematicresolver.extract:Text could not be resolved from label 1\n",
      "WARNING:chemschematicresolver.extract:Confidence of label 1 deemed too low for extraction\n"
     ]
    },
    {
     "name": "stdout",
     "output_type": "stream",
     "text": [
      "extract image:  ./elsevier_images/cropped_molecules/test/466_sc1_molecule_6.png\n"
     ]
    },
    {
     "name": "stderr",
     "output_type": "stream",
     "text": [
      "WARNING:chemschematicresolver.extract:Text could not be resolved from label 1\n",
      "WARNING:chemschematicresolver.extract:Confidence of label 1 deemed too low for extraction\n"
     ]
    },
    {
     "name": "stdout",
     "output_type": "stream",
     "text": [
      "extract image:  ./elsevier_images/cropped_molecules/test/466_sc1_molecule_7.png\n"
     ]
    },
    {
     "name": "stderr",
     "output_type": "stream",
     "text": [
      "WARNING:chemschematicresolver.extract:Text could not be resolved from label 0\n",
      "WARNING:chemschematicresolver.extract:Confidence of label 0 deemed too low for extraction\n"
     ]
    },
    {
     "name": "stdout",
     "output_type": "stream",
     "text": [
      "extract image:  ./elsevier_images/cropped_molecules/test/466_sc1_molecule_8.png\n"
     ]
    },
    {
     "name": "stderr",
     "output_type": "stream",
     "text": [
      "WARNING:chemschematicresolver.extract:Text could not be resolved from label 0\n",
      "WARNING:chemschematicresolver.extract:Confidence of label 0 deemed too low for extraction\n"
     ]
    },
    {
     "name": "stdout",
     "output_type": "stream",
     "text": [
      "extract image:  ./elsevier_images/cropped_molecules/test_enhanced/466_sc1_molecule_9.png\n"
     ]
    },
    {
     "name": "stderr",
     "output_type": "stream",
     "text": [
      "WARNING:chemschematicresolver.extract:Confidence of label 2 deemed too low for extraction\n",
      "WARNING:chemschematicresolver.actions:No SMILES string was extracted for diagram 4\n",
      "WARNING:chemschematicresolver.extract:Some SMILES strings were determined to be false positives and were removed from the output.\n"
     ]
    },
    {
     "name": "stdout",
     "output_type": "stream",
     "text": [
      "extract image:  ./elsevier_images/cropped_molecules/test/467_sc1_molecule_0.png\n"
     ]
    },
    {
     "name": "stderr",
     "output_type": "stream",
     "text": [
      "WARNING:chemschematicresolver.extract:Text could not be resolved from label 1\n",
      "WARNING:chemschematicresolver.extract:Confidence of label 1 deemed too low for extraction\n",
      "WARNING:chemschematicresolver.extract:Text could not be resolved from label 0\n",
      "WARNING:chemschematicresolver.extract:Confidence of label 0 deemed too low for extraction\n"
     ]
    },
    {
     "name": "stdout",
     "output_type": "stream",
     "text": [
      "extract image:  ./elsevier_images/cropped_molecules/test/467_sc1_molecule_1.png\n"
     ]
    },
    {
     "name": "stderr",
     "output_type": "stream",
     "text": [
      "WARNING:chemschematicresolver.extract:Text could not be resolved from label 0\n",
      "WARNING:chemschematicresolver.extract:Confidence of label 0 deemed too low for extraction\n"
     ]
    },
    {
     "name": "stdout",
     "output_type": "stream",
     "text": [
      "extract image:  ./elsevier_images/cropped_molecules/test/469_fx1_molecule_0.png\n"
     ]
    },
    {
     "name": "stderr",
     "output_type": "stream",
     "text": [
      "WARNING:chemschematicresolver.extract:Text could not be resolved from label 0\n",
      "WARNING:chemschematicresolver.extract:Confidence of label 0 deemed too low for extraction\n",
      "WARNING:chemschematicresolver.extract:Text could not be resolved from label 2\n",
      "WARNING:chemschematicresolver.extract:Confidence of label 2 deemed too low for extraction\n"
     ]
    },
    {
     "name": "stdout",
     "output_type": "stream",
     "text": [
      "extract image:  ./elsevier_images/cropped_molecules/test/469_gr1_molecule_0.png\n"
     ]
    },
    {
     "name": "stderr",
     "output_type": "stream",
     "text": [
      "WARNING:chemschematicresolver.extract:Confidence of label 0 deemed too low for extraction\n"
     ]
    },
    {
     "name": "stdout",
     "output_type": "stream",
     "text": [
      "extract image:  ./elsevier_images/cropped_molecules/test/469_gr1_molecule_1.png\n",
      "extract image:  ./elsevier_images/cropped_molecules/test/469_gr1_molecule_2.png\n"
     ]
    },
    {
     "name": "stderr",
     "output_type": "stream",
     "text": [
      "WARNING:chemschematicresolver.extract:Confidence of label 0 deemed too low for extraction\n"
     ]
    },
    {
     "name": "stdout",
     "output_type": "stream",
     "text": [
      "extract image:  ./elsevier_images/cropped_molecules/test/469_gr1_molecule_3.png\n"
     ]
    },
    {
     "name": "stderr",
     "output_type": "stream",
     "text": [
      "WARNING:chemschematicresolver.extract:Confidence of label 0 deemed too low for extraction\n"
     ]
    },
    {
     "name": "stdout",
     "output_type": "stream",
     "text": [
      "extract image:  ./elsevier_images/cropped_molecules/test/469_gr1_molecule_4.png\n"
     ]
    },
    {
     "name": "stderr",
     "output_type": "stream",
     "text": [
      "WARNING:chemschematicresolver.extract:Text could not be resolved from label 0\n",
      "WARNING:chemschematicresolver.extract:Confidence of label 0 deemed too low for extraction\n"
     ]
    },
    {
     "name": "stdout",
     "output_type": "stream",
     "text": [
      "extract image:  ./elsevier_images/cropped_molecules/test/470_fx1_molecule_0.png\n",
      "extract image:  ./elsevier_images/cropped_molecules/test/470_fx1_molecule_1.png\n"
     ]
    },
    {
     "name": "stderr",
     "output_type": "stream",
     "text": [
      "WARNING:chemschematicresolver.extract:Confidence of label 0 deemed too low for extraction\n"
     ]
    },
    {
     "name": "stdout",
     "output_type": "stream",
     "text": [
      "extract image:  ./elsevier_images/cropped_molecules/test/470_sc1_molecule_0.png\n",
      "Runtime error, no smiles\n",
      "extract image:  ./elsevier_images/cropped_molecules/test/470_sc2_molecule_0.png\n",
      "extract image:  ./elsevier_images/cropped_molecules/test/470_sc2_molecule_1.png\n",
      "extract image:  ./elsevier_images/cropped_molecules/test/470_sc2_molecule_2.png\n",
      "extract image:  ./elsevier_images/cropped_molecules/test/470_sc2_molecule_3.png\n",
      "extract image:  ./elsevier_images/cropped_molecules/test/470_sc2_molecule_4.png\n"
     ]
    },
    {
     "name": "stderr",
     "output_type": "stream",
     "text": [
      "WARNING:chemschematicresolver.extract:Confidence of label 1 deemed too low for extraction\n",
      "WARNING:chemschematicresolver.extract:Text could not be resolved from label 0\n",
      "WARNING:chemschematicresolver.extract:Confidence of label 0 deemed too low for extraction\n"
     ]
    },
    {
     "name": "stdout",
     "output_type": "stream",
     "text": [
      "extract image:  ./elsevier_images/cropped_molecules/test/470_sc2_molecule_5.png\n",
      "extract image:  ./elsevier_images/cropped_molecules/test/470_sc3_molecule_0.png\n",
      "extract image:  ./elsevier_images/cropped_molecules/test/470_sc3_molecule_1.png\n"
     ]
    },
    {
     "name": "stderr",
     "output_type": "stream",
     "text": [
      "WARNING:chemschematicresolver.extract:Confidence of label 1 deemed too low for extraction\n"
     ]
    },
    {
     "name": "stdout",
     "output_type": "stream",
     "text": [
      "extract image:  ./elsevier_images/cropped_molecules/test/470_sc3_molecule_2.png\n",
      "extract image:  ./elsevier_images/cropped_molecules/test/470_sc3_molecule_3.png\n",
      "extract image:  ./elsevier_images/cropped_molecules/test/470_sc4_molecule_0.png\n"
     ]
    },
    {
     "name": "stderr",
     "output_type": "stream",
     "text": [
      "WARNING:chemschematicresolver.extract:Confidence of label 2 deemed too low for extraction\n",
      "WARNING:chemschematicresolver.extract:Confidence of label 1 deemed too low for extraction\n"
     ]
    },
    {
     "name": "stdout",
     "output_type": "stream",
     "text": [
      "extract image:  ./elsevier_images/cropped_molecules/test/471_gr1_molecule_0.png\n"
     ]
    },
    {
     "name": "stderr",
     "output_type": "stream",
     "text": [
      "WARNING:chemschematicresolver.extract:Confidence of label 0 deemed too low for extraction\n",
      "WARNING:chemschematicresolver.extract:Confidence of label 1 deemed too low for extraction\n"
     ]
    },
    {
     "name": "stdout",
     "output_type": "stream",
     "text": [
      "extract image:  ./elsevier_images/cropped_molecules/test/471_sc1_molecule_0.png\n",
      "extract image:  ./elsevier_images/cropped_molecules/test/472_gr1_molecule_0.png\n",
      "extract image:  ./elsevier_images/cropped_molecules/test/472_gr1_molecule_1.png\n",
      "extract image:  ./elsevier_images/cropped_molecules/test/472_gr2_molecule_0.png\n",
      "extract image:  ./elsevier_images/cropped_molecules/test/472_gr2_molecule_1.png\n"
     ]
    },
    {
     "name": "stderr",
     "output_type": "stream",
     "text": [
      "WARNING:chemschematicresolver.extract:Confidence of label 0 deemed too low for extraction\n"
     ]
    },
    {
     "name": "stdout",
     "output_type": "stream",
     "text": [
      "extract image:  ./elsevier_images/cropped_molecules/test_enhanced/472_gr2_molecule_2.png\n"
     ]
    },
    {
     "name": "stderr",
     "output_type": "stream",
     "text": [
      "WARNING:chemschematicresolver.extract:Confidence of label 4 deemed too low for extraction\n"
     ]
    },
    {
     "name": "stdout",
     "output_type": "stream",
     "text": [
      "extract image:  ./elsevier_images/cropped_molecules/test/472_sc1_molecule_0.png\n"
     ]
    },
    {
     "name": "stderr",
     "output_type": "stream",
     "text": [
      "WARNING:chemschematicresolver.extract:Text could not be resolved from label 1\n",
      "WARNING:chemschematicresolver.extract:Confidence of label 1 deemed too low for extraction\n",
      "WARNING:chemschematicresolver.extract:Confidence of label 0 deemed too low for extraction\n"
     ]
    },
    {
     "name": "stdout",
     "output_type": "stream",
     "text": [
      "extract image:  ./elsevier_images/cropped_molecules/test/472_sc1_molecule_1.png\n"
     ]
    },
    {
     "name": "stderr",
     "output_type": "stream",
     "text": [
      "WARNING:chemschematicresolver.extract:Text could not be resolved from label 0\n",
      "WARNING:chemschematicresolver.extract:Confidence of label 0 deemed too low for extraction\n"
     ]
    },
    {
     "name": "stdout",
     "output_type": "stream",
     "text": [
      "extract image:  ./elsevier_images/cropped_molecules/test/472_sc1_molecule_10.png\n"
     ]
    },
    {
     "name": "stderr",
     "output_type": "stream",
     "text": [
      "WARNING:chemschematicresolver.extract:Confidence of label 2 deemed too low for extraction\n"
     ]
    },
    {
     "name": "stdout",
     "output_type": "stream",
     "text": [
      "extract image:  ./elsevier_images/cropped_molecules/test/472_sc1_molecule_2.png\n"
     ]
    },
    {
     "name": "stderr",
     "output_type": "stream",
     "text": [
      "WARNING:chemschematicresolver.extract:Text could not be resolved from label 0\n",
      "WARNING:chemschematicresolver.extract:Confidence of label 0 deemed too low for extraction\n"
     ]
    },
    {
     "name": "stdout",
     "output_type": "stream",
     "text": [
      "extract image:  ./elsevier_images/cropped_molecules/test/472_sc1_molecule_3.png\n"
     ]
    },
    {
     "name": "stderr",
     "output_type": "stream",
     "text": [
      "WARNING:chemschematicresolver.extract:Text could not be resolved from label 0\n",
      "WARNING:chemschematicresolver.extract:Confidence of label 0 deemed too low for extraction\n",
      "WARNING:chemschematicresolver.extract:Text could not be resolved from label 1\n",
      "WARNING:chemschematicresolver.extract:Confidence of label 1 deemed too low for extraction\n"
     ]
    },
    {
     "name": "stdout",
     "output_type": "stream",
     "text": [
      "extract image:  ./elsevier_images/cropped_molecules/test/472_sc1_molecule_4.png\n",
      "extract image:  ./elsevier_images/cropped_molecules/test/472_sc1_molecule_5.png\n"
     ]
    },
    {
     "name": "stderr",
     "output_type": "stream",
     "text": [
      "WARNING:chemschematicresolver.extract:Text could not be resolved from label 0\n",
      "WARNING:chemschematicresolver.extract:Confidence of label 0 deemed too low for extraction\n",
      "WARNING:chemschematicresolver.extract:Text could not be resolved from label 1\n",
      "WARNING:chemschematicresolver.extract:Confidence of label 1 deemed too low for extraction\n"
     ]
    },
    {
     "name": "stdout",
     "output_type": "stream",
     "text": [
      "extract image:  ./elsevier_images/cropped_molecules/test/472_sc1_molecule_6.png\n"
     ]
    },
    {
     "name": "stderr",
     "output_type": "stream",
     "text": [
      "WARNING:chemschematicresolver.extract:Confidence of label 0 deemed too low for extraction\n"
     ]
    },
    {
     "name": "stdout",
     "output_type": "stream",
     "text": [
      "extract image:  ./elsevier_images/cropped_molecules/test/472_sc1_molecule_7.png\n",
      "extract image:  ./elsevier_images/cropped_molecules/test_enhanced/472_sc1_molecule_8.png\n"
     ]
    },
    {
     "name": "stderr",
     "output_type": "stream",
     "text": [
      "WARNING:chemschematicresolver.extract:Confidence of label 0 deemed too low for extraction\n"
     ]
    },
    {
     "name": "stdout",
     "output_type": "stream",
     "text": [
      "extract image:  ./elsevier_images/cropped_molecules/test/472_sc1_molecule_9.png\n"
     ]
    },
    {
     "name": "stderr",
     "output_type": "stream",
     "text": [
      "WARNING:chemschematicresolver.extract:Text could not be resolved from label 0\n",
      "WARNING:chemschematicresolver.extract:Confidence of label 0 deemed too low for extraction\n"
     ]
    },
    {
     "name": "stdout",
     "output_type": "stream",
     "text": [
      "extract image:  ./elsevier_images/cropped_molecules/test/473_gr1_molecule_0.png\n",
      "extract image:  ./elsevier_images/cropped_molecules/test/473_gr1_molecule_1.png\n",
      "extract image:  ./elsevier_images/cropped_molecules/test/473_gr2_molecule_0.png\n"
     ]
    },
    {
     "name": "stderr",
     "output_type": "stream",
     "text": [
      "WARNING:chemschematicresolver.extract:Text could not be resolved from label 6\n",
      "WARNING:chemschematicresolver.extract:Confidence of label 6 deemed too low for extraction\n",
      "WARNING:chemschematicresolver.extract:Text could not be resolved from label 0\n",
      "WARNING:chemschematicresolver.extract:Confidence of label 0 deemed too low for extraction\n"
     ]
    },
    {
     "name": "stdout",
     "output_type": "stream",
     "text": [
      "extract image:  ./elsevier_images/cropped_molecules/test/473_sc1_molecule_0.png\n",
      "extract image:  ./elsevier_images/cropped_molecules/test/473_sc1_molecule_1.png\n"
     ]
    },
    {
     "name": "stderr",
     "output_type": "stream",
     "text": [
      "WARNING:chemschematicresolver.extract:Confidence of label 2 deemed too low for extraction\n"
     ]
    },
    {
     "name": "stdout",
     "output_type": "stream",
     "text": [
      "extract image:  ./elsevier_images/cropped_molecules/test/473_sc1_molecule_2.png\n",
      "extract image:  ./elsevier_images/cropped_molecules/test/473_sc1_molecule_3.png\n"
     ]
    },
    {
     "name": "stderr",
     "output_type": "stream",
     "text": [
      "WARNING:chemschematicresolver.extract:Confidence of label 0 deemed too low for extraction\n"
     ]
    },
    {
     "name": "stdout",
     "output_type": "stream",
     "text": [
      "extract image:  ./elsevier_images/cropped_molecules/test/473_sc1_molecule_4.png\n",
      "extract image:  ./elsevier_images/cropped_molecules/test/474_fx1_molecule_0.png\n",
      "extract image:  ./elsevier_images/cropped_molecules/test/474_sc1_molecule_0.png\n"
     ]
    },
    {
     "name": "stderr",
     "output_type": "stream",
     "text": [
      "WARNING:chemschematicresolver.extract:Confidence of label 0 deemed too low for extraction\n"
     ]
    },
    {
     "name": "stdout",
     "output_type": "stream",
     "text": [
      "extract image:  ./elsevier_images/cropped_molecules/test/474_sc1_molecule_1.png\n",
      "extract image:  ./elsevier_images/cropped_molecules/test/474_sc1_molecule_2.png\n",
      "extract image:  ./elsevier_images/cropped_molecules/test/474_sc1_molecule_3.png\n",
      "extract image:  ./elsevier_images/cropped_molecules/test/474_sc1_molecule_4.png\n",
      "extract image:  ./elsevier_images/cropped_molecules/test/474_sc1_molecule_5.png\n"
     ]
    },
    {
     "name": "stderr",
     "output_type": "stream",
     "text": [
      "WARNING:chemschematicresolver.extract:Confidence of label 0 deemed too low for extraction\n"
     ]
    },
    {
     "name": "stdout",
     "output_type": "stream",
     "text": [
      "extract image:  ./elsevier_images/cropped_molecules/test/474_sc1_molecule_6.png\n",
      "extract image:  ./elsevier_images/cropped_molecules/test/474_Xue_Gong_Polymer_solar_cells_2017_P04_molecule_0.png\n",
      "extract image:  ./elsevier_images/cropped_molecules/test/474_Xue_Gong_Polymer_solar_cells_2017_P05_molecule_0.png\n"
     ]
    },
    {
     "name": "stderr",
     "output_type": "stream",
     "text": [
      "WARNING:chemschematicresolver.extract:Text could not be resolved from label 0\n",
      "WARNING:chemschematicresolver.extract:Confidence of label 0 deemed too low for extraction\n"
     ]
    },
    {
     "name": "stdout",
     "output_type": "stream",
     "text": [
      "extract image:  ./elsevier_images/cropped_molecules/test/474_Xue_Gong_Polymer_solar_cells_2017_P07_molecule_0.png\n",
      "Runtime error, no smiles\n",
      "extract image:  ./elsevier_images/cropped_molecules/test/474_Xue_Gong_Polymer_solar_cells_2017_P07_molecule_1.png\n"
     ]
    },
    {
     "name": "stderr",
     "output_type": "stream",
     "text": [
      "WARNING:chemschematicresolver.extract:Text could not be resolved from label 0\n",
      "WARNING:chemschematicresolver.extract:Confidence of label 0 deemed too low for extraction\n",
      "WARNING:chemschematicresolver.extract:Text could not be resolved from label 2\n",
      "WARNING:chemschematicresolver.extract:Confidence of label 2 deemed too low for extraction\n"
     ]
    },
    {
     "name": "stdout",
     "output_type": "stream",
     "text": [
      "extract image:  ./elsevier_images/cropped_molecules/test/474_Xue_Gong_Polymer_solar_cells_2017_P07_molecule_2.png\n",
      "Runtime error, no smiles\n",
      "extract image:  ./elsevier_images/cropped_molecules/test/474_Xue_Gong_Polymer_solar_cells_2017_P09_molecule_0.png\n"
     ]
    },
    {
     "name": "stderr",
     "output_type": "stream",
     "text": [
      "WARNING:chemschematicresolver.extract:Confidence of label 0 deemed too low for extraction\n"
     ]
    },
    {
     "name": "stdout",
     "output_type": "stream",
     "text": [
      "extract image:  ./elsevier_images/cropped_molecules/test/474_Xue_Gong_Polymer_solar_cells_2017_P18_molecule_0.png\n"
     ]
    },
    {
     "name": "stderr",
     "output_type": "stream",
     "text": [
      "WARNING:chemschematicresolver.extract:Confidence of label 0 deemed too low for extraction\n"
     ]
    },
    {
     "name": "stdout",
     "output_type": "stream",
     "text": [
      "extract image:  ./elsevier_images/cropped_molecules/test/474_Xue_Gong_Polymer_solar_cells_2017_P18_molecule_1.png\n"
     ]
    },
    {
     "name": "stderr",
     "output_type": "stream",
     "text": [
      "WARNING:chemschematicresolver.extract:Confidence of label 0 deemed too low for extraction\n"
     ]
    },
    {
     "name": "stdout",
     "output_type": "stream",
     "text": [
      "extract image:  ./elsevier_images/cropped_molecules/test/475_sc1_molecule_0.png\n",
      "extract image:  ./elsevier_images/cropped_molecules/test/475_sc1_molecule_1.png\n"
     ]
    },
    {
     "name": "stderr",
     "output_type": "stream",
     "text": [
      "WARNING:chemschematicresolver.extract:Confidence of label 1 deemed too low for extraction\n"
     ]
    },
    {
     "name": "stdout",
     "output_type": "stream",
     "text": [
      "extract image:  ./elsevier_images/cropped_molecules/test/475_sc1_molecule_2.png\n"
     ]
    },
    {
     "name": "stderr",
     "output_type": "stream",
     "text": [
      "WARNING:chemschematicresolver.extract:Confidence of label 0 deemed too low for extraction\n"
     ]
    },
    {
     "name": "stdout",
     "output_type": "stream",
     "text": [
      "extract image:  ./elsevier_images/cropped_molecules/test/484_fx1_molecule_0.png\n"
     ]
    },
    {
     "name": "stderr",
     "output_type": "stream",
     "text": [
      "WARNING:chemschematicresolver.extract:Confidence of label 1 deemed too low for extraction\n"
     ]
    },
    {
     "name": "stdout",
     "output_type": "stream",
     "text": [
      "extract image:  ./elsevier_images/cropped_molecules/test/484_gr1_molecule_0.png\n"
     ]
    },
    {
     "name": "stderr",
     "output_type": "stream",
     "text": [
      "WARNING:chemschematicresolver.extract:Confidence of label 0 deemed too low for extraction\n"
     ]
    },
    {
     "name": "stdout",
     "output_type": "stream",
     "text": [
      "extract image:  ./elsevier_images/cropped_molecules/test/484_gr1_molecule_1.png\n",
      "extract image:  ./elsevier_images/cropped_molecules/test/484_sc1_molecule_0.png\n",
      "extract image:  ./elsevier_images/cropped_molecules/test_enhanced/484_sc1_molecule_1.png\n",
      "extract image:  ./elsevier_images/cropped_molecules/test_enhanced/484_sc1_molecule_2.png\n",
      "extract image:  ./elsevier_images/cropped_molecules/test/484_sc1_molecule_3.png\n"
     ]
    },
    {
     "name": "stderr",
     "output_type": "stream",
     "text": [
      "WARNING:chemschematicresolver.actions:No SMILES string was extracted for diagram 5\n",
      "WARNING:chemschematicresolver.extract:Some SMILES strings were determined to be false positives and were removed from the output.\n"
     ]
    },
    {
     "name": "stdout",
     "output_type": "stream",
     "text": [
      "extract image:  ./elsevier_images/cropped_molecules/test/484_sc1_molecule_4.png\n"
     ]
    },
    {
     "name": "stderr",
     "output_type": "stream",
     "text": [
      "WARNING:chemschematicresolver.extract:Text could not be resolved from label 0\n",
      "WARNING:chemschematicresolver.extract:Confidence of label 0 deemed too low for extraction\n"
     ]
    },
    {
     "name": "stdout",
     "output_type": "stream",
     "text": [
      "extract image:  ./elsevier_images/cropped_molecules/test/485_gr1_molecule_0.png\n",
      "extract image:  ./elsevier_images/cropped_molecules/test/485_gr1_molecule_1.png\n",
      "extract image:  ./elsevier_images/cropped_molecules/test/485_sc1_molecule_0.png\n",
      "extract image:  ./elsevier_images/cropped_molecules/test/485_sc1_molecule_1.png\n",
      "extract image:  ./elsevier_images/cropped_molecules/test/485_sc1_molecule_2.png\n"
     ]
    },
    {
     "name": "stderr",
     "output_type": "stream",
     "text": [
      "WARNING:chemschematicresolver.actions:No SMILES string was extracted for diagram 4\n",
      "WARNING:chemschematicresolver.extract:Some SMILES strings were determined to be false positives and were removed from the output.\n"
     ]
    },
    {
     "name": "stdout",
     "output_type": "stream",
     "text": [
      "extract image:  ./elsevier_images/cropped_molecules/test/485_sc1_molecule_3.png\n",
      "Runtime error, no smiles\n",
      "extract image:  ./elsevier_images/cropped_molecules/test_enhanced/486_fx1_molecule_0.png\n",
      "Runtime error, no smiles\n",
      "extract image:  ./elsevier_images/cropped_molecules/test/486_gr3_molecule_0.png\n"
     ]
    },
    {
     "name": "stderr",
     "output_type": "stream",
     "text": [
      "WARNING:chemschematicresolver.extract:Text could not be resolved from label 0\n",
      "WARNING:chemschematicresolver.extract:Confidence of label 0 deemed too low for extraction\n"
     ]
    },
    {
     "name": "stdout",
     "output_type": "stream",
     "text": [
      "extract image:  ./elsevier_images/cropped_molecules/test/486_gr4_molecule_0.png\n",
      "extract image:  ./elsevier_images/cropped_molecules/test/486_gr4_molecule_1.png\n",
      "extract image:  ./elsevier_images/cropped_molecules/test/486_gr4_molecule_2.png\n"
     ]
    },
    {
     "name": "stderr",
     "output_type": "stream",
     "text": [
      "WARNING:chemschematicresolver.actions:No SMILES string was extracted for diagram 4\n",
      "WARNING:chemschematicresolver.actions:No SMILES string was extracted for diagram 6\n",
      "WARNING:chemschematicresolver.extract:Some SMILES strings were determined to be false positives and were removed from the output.\n"
     ]
    },
    {
     "name": "stdout",
     "output_type": "stream",
     "text": [
      "extract image:  ./elsevier_images/cropped_molecules/test/486_sc1_molecule_0.png\n"
     ]
    },
    {
     "name": "stderr",
     "output_type": "stream",
     "text": [
      "WARNING:chemschematicresolver.extract:Confidence of label 1 deemed too low for extraction\n"
     ]
    },
    {
     "name": "stdout",
     "output_type": "stream",
     "text": [
      "extract image:  ./elsevier_images/cropped_molecules/test/486_sc1_molecule_1.png\n",
      "extract image:  ./elsevier_images/cropped_molecules/test_enhanced/486_sc1_molecule_10.png\n",
      "extract image:  ./elsevier_images/cropped_molecules/test/486_sc1_molecule_11.png\n",
      "extract image:  ./elsevier_images/cropped_molecules/test/486_sc1_molecule_2.png\n",
      "extract image:  ./elsevier_images/cropped_molecules/test_enhanced/486_sc1_molecule_3.png\n",
      "extract image:  ./elsevier_images/cropped_molecules/test/486_sc1_molecule_4.png\n"
     ]
    },
    {
     "name": "stderr",
     "output_type": "stream",
     "text": [
      "WARNING:chemschematicresolver.extract:Confidence of label 2 deemed too low for extraction\n",
      "WARNING:chemschematicresolver.extract:Text could not be resolved from label 1\n",
      "WARNING:chemschematicresolver.extract:Confidence of label 1 deemed too low for extraction\n"
     ]
    },
    {
     "name": "stdout",
     "output_type": "stream",
     "text": [
      "extract image:  ./elsevier_images/cropped_molecules/test/486_sc1_molecule_5.png\n"
     ]
    },
    {
     "name": "stderr",
     "output_type": "stream",
     "text": [
      "WARNING:chemschematicresolver.extract:Confidence of label 4 deemed too low for extraction\n"
     ]
    },
    {
     "name": "stdout",
     "output_type": "stream",
     "text": [
      "extract image:  ./elsevier_images/cropped_molecules/test/486_sc1_molecule_6.png\n",
      "extract image:  ./elsevier_images/cropped_molecules/test/486_sc1_molecule_7.png\n",
      "extract image:  ./elsevier_images/cropped_molecules/test_enhanced/486_sc1_molecule_8.png\n"
     ]
    },
    {
     "name": "stderr",
     "output_type": "stream",
     "text": [
      "WARNING:chemschematicresolver.extract:Confidence of label 0 deemed too low for extraction\n"
     ]
    },
    {
     "name": "stdout",
     "output_type": "stream",
     "text": [
      "extract image:  ./elsevier_images/cropped_molecules/test/486_sc1_molecule_9.png\n",
      "Runtime error, no smiles\n",
      "extract image:  ./elsevier_images/cropped_molecules/test_enhanced/498_fx1_molecule_0.png\n"
     ]
    },
    {
     "name": "stderr",
     "output_type": "stream",
     "text": [
      "WARNING:chemschematicresolver.extract:Confidence of label 0 deemed too low for extraction\n"
     ]
    },
    {
     "name": "stdout",
     "output_type": "stream",
     "text": [
      "extract image:  ./elsevier_images/cropped_molecules/test_enhanced/498_fx1_molecule_1.png\n",
      "extract image:  ./elsevier_images/cropped_molecules/test_enhanced/498_fx1_molecule_2.png\n"
     ]
    },
    {
     "name": "stderr",
     "output_type": "stream",
     "text": [
      "WARNING:chemschematicresolver.extract:Text could not be resolved from label 1\n",
      "WARNING:chemschematicresolver.extract:Confidence of label 1 deemed too low for extraction\n",
      "WARNING:chemschematicresolver.extract:Text could not be resolved from label 0\n",
      "WARNING:chemschematicresolver.extract:Confidence of label 0 deemed too low for extraction\n"
     ]
    },
    {
     "name": "stdout",
     "output_type": "stream",
     "text": [
      "extract image:  ./elsevier_images/cropped_molecules/test_enhanced/498_fx1_molecule_3.png\n"
     ]
    },
    {
     "name": "stderr",
     "output_type": "stream",
     "text": [
      "WARNING:chemschematicresolver.extract:Confidence of label 1 deemed too low for extraction\n"
     ]
    },
    {
     "name": "stdout",
     "output_type": "stream",
     "text": [
      "extract image:  ./elsevier_images/cropped_molecules/test_enhanced/498_fx1_molecule_4.png\n"
     ]
    },
    {
     "name": "stderr",
     "output_type": "stream",
     "text": [
      "WARNING:chemschematicresolver.extract:Text could not be resolved from label 0\n",
      "WARNING:chemschematicresolver.extract:Confidence of label 0 deemed too low for extraction\n"
     ]
    },
    {
     "name": "stdout",
     "output_type": "stream",
     "text": [
      "extract image:  ./elsevier_images/cropped_molecules/test_enhanced/498_gr1_molecule_0.png\n",
      "extract image:  ./elsevier_images/cropped_molecules/test_enhanced/498_gr1_molecule_1.png\n",
      "extract image:  ./elsevier_images/cropped_molecules/test_enhanced/498_gr1_molecule_2.png\n",
      "extract image:  ./elsevier_images/cropped_molecules/test_enhanced/498_gr1_molecule_3.png\n",
      "extract image:  ./elsevier_images/cropped_molecules/test_enhanced/498_sc1_molecule_0.png\n"
     ]
    },
    {
     "name": "stderr",
     "output_type": "stream",
     "text": [
      "WARNING:chemschematicresolver.extract:Text could not be resolved from label 0\n",
      "WARNING:chemschematicresolver.extract:Confidence of label 0 deemed too low for extraction\n"
     ]
    },
    {
     "name": "stdout",
     "output_type": "stream",
     "text": [
      "extract image:  ./elsevier_images/cropped_molecules/test_enhanced/498_sc1_molecule_1.png\n",
      "extract image:  ./elsevier_images/cropped_molecules/test_enhanced/498_sc1_molecule_2.png\n",
      "extract image:  ./elsevier_images/cropped_molecules/test_enhanced/498_sc1_molecule_3.png\n"
     ]
    },
    {
     "name": "stderr",
     "output_type": "stream",
     "text": [
      "WARNING:chemschematicresolver.extract:Confidence of label 1 deemed too low for extraction\n"
     ]
    },
    {
     "name": "stdout",
     "output_type": "stream",
     "text": [
      "extract image:  ./elsevier_images/cropped_molecules/test_enhanced/498_sc1_molecule_4.png\n",
      "extract image:  ./elsevier_images/cropped_molecules/test_enhanced/499_sc1_molecule_0.png\n"
     ]
    },
    {
     "name": "stderr",
     "output_type": "stream",
     "text": [
      "WARNING:chemschematicresolver.extract:Confidence of label 0 deemed too low for extraction\n"
     ]
    },
    {
     "name": "stdout",
     "output_type": "stream",
     "text": [
      "extract image:  ./elsevier_images/cropped_molecules/test_enhanced/499_sc1_molecule_1.png\n"
     ]
    },
    {
     "name": "stderr",
     "output_type": "stream",
     "text": [
      "WARNING:chemschematicresolver.extract:Text could not be resolved from label 0\n",
      "WARNING:chemschematicresolver.extract:Confidence of label 0 deemed too low for extraction\n"
     ]
    },
    {
     "name": "stdout",
     "output_type": "stream",
     "text": [
      "extract image:  ./elsevier_images/cropped_molecules/test_enhanced/499_sc1_molecule_2.png\n"
     ]
    },
    {
     "name": "stderr",
     "output_type": "stream",
     "text": [
      "WARNING:chemschematicresolver.extract:Text could not be resolved from label 1\n",
      "WARNING:chemschematicresolver.extract:Confidence of label 1 deemed too low for extraction\n",
      "WARNING:chemschematicresolver.extract:Confidence of label 0 deemed too low for extraction\n"
     ]
    },
    {
     "name": "stdout",
     "output_type": "stream",
     "text": [
      "extract image:  ./elsevier_images/cropped_molecules/test_enhanced/500_gr1_molecule_0.png\n",
      "extract image:  ./elsevier_images/cropped_molecules/test_enhanced/500_sc1_molecule_0.png\n",
      "extract image:  ./elsevier_images/cropped_molecules/test_enhanced/500_sc1_molecule_1.png\n",
      "extract image:  ./elsevier_images/cropped_molecules/test_enhanced/500_sc1_molecule_2.png\n",
      "extract image:  ./elsevier_images/cropped_molecules/test_enhanced/500_sc1_molecule_3.png\n",
      "extract image:  ./elsevier_images/cropped_molecules/test_enhanced/500_sc1_molecule_4.png\n",
      "extract image:  ./elsevier_images/cropped_molecules/test_enhanced/500_sc1_molecule_5.png\n"
     ]
    },
    {
     "name": "stderr",
     "output_type": "stream",
     "text": [
      "WARNING:chemschematicresolver.extract:Confidence of label 0 deemed too low for extraction\n"
     ]
    },
    {
     "name": "stdout",
     "output_type": "stream",
     "text": [
      "extract image:  ./elsevier_images/cropped_molecules/test_enhanced/500_sc2_molecule_0.png\n",
      "extract image:  ./elsevier_images/cropped_molecules/test_enhanced/500_sc2_molecule_1.png\n"
     ]
    },
    {
     "name": "stderr",
     "output_type": "stream",
     "text": [
      "WARNING:chemschematicresolver.extract:Text could not be resolved from label 0\n",
      "WARNING:chemschematicresolver.extract:Confidence of label 0 deemed too low for extraction\n"
     ]
    },
    {
     "name": "stdout",
     "output_type": "stream",
     "text": [
      "extract image:  ./elsevier_images/cropped_molecules/test_enhanced/500_sc2_molecule_2.png\n",
      "Runtime error, no smiles\n",
      "extract image:  ./elsevier_images/cropped_molecules/test_enhanced/500_sc2_molecule_3.png\n"
     ]
    },
    {
     "name": "stderr",
     "output_type": "stream",
     "text": [
      "WARNING:chemschematicresolver.extract:Text could not be resolved from label 0\n",
      "WARNING:chemschematicresolver.extract:Confidence of label 0 deemed too low for extraction\n"
     ]
    },
    {
     "name": "stdout",
     "output_type": "stream",
     "text": [
      "extract image:  ./elsevier_images/cropped_molecules/test_enhanced/500_sc2_molecule_4.png\n",
      "extract image:  ./elsevier_images/cropped_molecules/test/501_fx1_molecule_0.png\n"
     ]
    },
    {
     "name": "stderr",
     "output_type": "stream",
     "text": [
      "WARNING:chemschematicresolver.extract:Confidence of label 1 deemed too low for extraction\n"
     ]
    },
    {
     "name": "stdout",
     "output_type": "stream",
     "text": [
      "extract image:  ./elsevier_images/cropped_molecules/test/501_sc1_molecule_0.png\n",
      "extract image:  ./elsevier_images/cropped_molecules/test/501_sc1_molecule_1.png\n"
     ]
    },
    {
     "name": "stderr",
     "output_type": "stream",
     "text": [
      "WARNING:chemschematicresolver.extract:Text could not be resolved from label 0\n",
      "WARNING:chemschematicresolver.extract:Confidence of label 0 deemed too low for extraction\n"
     ]
    },
    {
     "name": "stdout",
     "output_type": "stream",
     "text": [
      "extract image:  ./elsevier_images/cropped_molecules/test/502_fx1_molecule_0.png\n",
      "extract image:  ./elsevier_images/cropped_molecules/test/502_fx1_molecule_1.png\n"
     ]
    },
    {
     "name": "stderr",
     "output_type": "stream",
     "text": [
      "WARNING:chemschematicresolver.extract:Text could not be resolved from label 0\n",
      "WARNING:chemschematicresolver.extract:Confidence of label 0 deemed too low for extraction\n"
     ]
    },
    {
     "name": "stdout",
     "output_type": "stream",
     "text": [
      "extract image:  ./elsevier_images/cropped_molecules/test/502_sc1_molecule_0.png\n"
     ]
    },
    {
     "name": "stderr",
     "output_type": "stream",
     "text": [
      "WARNING:chemschematicresolver.extract:Confidence of label 0 deemed too low for extraction\n"
     ]
    },
    {
     "name": "stdout",
     "output_type": "stream",
     "text": [
      "extract image:  ./elsevier_images/cropped_molecules/test/502_sc1_molecule_1.png\n",
      "extract image:  ./elsevier_images/cropped_molecules/test/502_sc1_molecule_2.png\n"
     ]
    },
    {
     "name": "stderr",
     "output_type": "stream",
     "text": [
      "WARNING:chemschematicresolver.actions:No SMILES string was extracted for diagram 4\n",
      "WARNING:chemschematicresolver.extract:Confidence of label 1 deemed too low for extraction\n",
      "WARNING:chemschematicresolver.extract:Some SMILES strings were determined to be false positives and were removed from the output.\n"
     ]
    },
    {
     "name": "stdout",
     "output_type": "stream",
     "text": [
      "extract image:  ./elsevier_images/cropped_molecules/test/502_sc1_molecule_3.png\n"
     ]
    },
    {
     "name": "stderr",
     "output_type": "stream",
     "text": [
      "WARNING:chemschematicresolver.extract:Confidence of label 1 deemed too low for extraction\n"
     ]
    },
    {
     "name": "stdout",
     "output_type": "stream",
     "text": [
      "extract image:  ./elsevier_images/cropped_molecules/test/502_sc1_molecule_4.png\n"
     ]
    },
    {
     "name": "stderr",
     "output_type": "stream",
     "text": [
      "WARNING:chemschematicresolver.actions:No SMILES string was extracted for diagram 8\n",
      "WARNING:chemschematicresolver.actions:No SMILES string was extracted for diagram 7\n",
      "WARNING:chemschematicresolver.extract:Text could not be resolved from label 0\n",
      "WARNING:chemschematicresolver.extract:Confidence of label 0 deemed too low for extraction\n",
      "WARNING:chemschematicresolver.extract:Some SMILES strings were determined to be false positives and were removed from the output.\n"
     ]
    },
    {
     "name": "stdout",
     "output_type": "stream",
     "text": [
      "extract image:  ./elsevier_images/cropped_molecules/test/503_sc1_molecule_0.png\n"
     ]
    },
    {
     "name": "stderr",
     "output_type": "stream",
     "text": [
      "WARNING:chemschematicresolver.extract:Text could not be resolved from label 1\n",
      "WARNING:chemschematicresolver.extract:Confidence of label 1 deemed too low for extraction\n"
     ]
    },
    {
     "name": "stdout",
     "output_type": "stream",
     "text": [
      "extract image:  ./elsevier_images/cropped_molecules/test/503_sc1_molecule_1.png\n"
     ]
    },
    {
     "name": "stderr",
     "output_type": "stream",
     "text": [
      "WARNING:chemschematicresolver.extract:Text could not be resolved from label 1\n",
      "WARNING:chemschematicresolver.extract:Confidence of label 1 deemed too low for extraction\n"
     ]
    },
    {
     "name": "stdout",
     "output_type": "stream",
     "text": [
      "extract image:  ./elsevier_images/cropped_molecules/test/503_sc1_molecule_2.png\n"
     ]
    },
    {
     "name": "stderr",
     "output_type": "stream",
     "text": [
      "WARNING:chemschematicresolver.extract:Confidence of label 0 deemed too low for extraction\n",
      "WARNING:chemschematicresolver.actions:No SMILES string was extracted for diagram 3\n",
      "WARNING:chemschematicresolver.extract:Some SMILES strings were determined to be false positives and were removed from the output.\n"
     ]
    },
    {
     "name": "stdout",
     "output_type": "stream",
     "text": [
      "extract image:  ./elsevier_images/cropped_molecules/test_enhanced/503_sc1_molecule_3.png\n",
      "Runtime error, no smiles\n",
      "extract image:  ./elsevier_images/cropped_molecules/test/503_sc1_molecule_4.png\n"
     ]
    },
    {
     "name": "stderr",
     "output_type": "stream",
     "text": [
      "WARNING:chemschematicresolver.extract:Confidence of label 0 deemed too low for extraction\n"
     ]
    },
    {
     "name": "stdout",
     "output_type": "stream",
     "text": [
      "extract image:  ./elsevier_images/cropped_molecules/test/503_sc1_molecule_5.png\n"
     ]
    },
    {
     "name": "stderr",
     "output_type": "stream",
     "text": [
      "WARNING:chemschematicresolver.extract:Confidence of label 0 deemed too low for extraction\n"
     ]
    },
    {
     "name": "stdout",
     "output_type": "stream",
     "text": [
      "extract image:  ./elsevier_images/cropped_molecules/test/503_sc1_molecule_6.png\n"
     ]
    },
    {
     "name": "stderr",
     "output_type": "stream",
     "text": [
      "WARNING:chemschematicresolver.extract:Text could not be resolved from label 0\n",
      "WARNING:chemschematicresolver.extract:Confidence of label 0 deemed too low for extraction\n"
     ]
    }
   ],
   "source": [
    "# put it into CSR \n",
    "smile_results = {}\n",
    "\n",
    "for img in enhanced_test_images:\n",
    "    \n",
    "    print('extract image: ', img)\n",
    "    result = None\n",
    "    image = cv2.imread(img)\n",
    "    if image.shape[0] * image.shape[1] > 2000 * 2000: continue\n",
    "    \n",
    "    try:\n",
    "        result = csr.extract_image(img, allow_wildcards=True)\n",
    "    except:\n",
    "        print('Runtime error, no smiles')\n",
    "    \n",
    "    if result is not None and len(result):\n",
    "        smile_results[img] = result.copy()"
   ]
  },
  {
   "cell_type": "code",
   "execution_count": 5,
   "metadata": {},
   "outputs": [
    {
     "data": {
      "text/plain": [
       "148"
      ]
     },
     "execution_count": 5,
     "metadata": {},
     "output_type": "execute_result"
    }
   ],
   "source": [
    "len(smile_results)"
   ]
  },
  {
   "cell_type": "code",
   "execution_count": 6,
   "metadata": {},
   "outputs": [],
   "source": [
    "with open(\"Seaki_Elsevier_enhanced_OD_image_test.json\", \"w\") as outfile:\n",
    "    json.dump(smile_results, outfile)"
   ]
  },
  {
   "cell_type": "code",
   "execution_count": null,
   "metadata": {},
   "outputs": [],
   "source": []
  }
 ],
 "metadata": {
  "kernelspec": {
   "display_name": "Python 3",
   "language": "python",
   "name": "python3"
  },
  "language_info": {
   "codemirror_mode": {
    "name": "ipython",
    "version": 3
   },
   "file_extension": ".py",
   "mimetype": "text/x-python",
   "name": "python",
   "nbconvert_exporter": "python",
   "pygments_lexer": "ipython3",
   "version": "3.6.7"
  }
 },
 "nbformat": 4,
 "nbformat_minor": 5
}
