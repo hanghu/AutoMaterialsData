{
 "cells": [
  {
   "cell_type": "code",
   "execution_count": 1,
   "id": "11c9e8e3",
   "metadata": {},
   "outputs": [],
   "source": [
    "import sys\n",
    "import re\n",
    "import os\n",
    "import pandas as pd\n",
    "import numpy as np\n",
    "sys.path.append(\"../automaterialsdata/\")"
   ]
  },
  {
   "cell_type": "code",
   "execution_count": 2,
   "id": "81389d57",
   "metadata": {},
   "outputs": [],
   "source": [
    "from property_comparison import OPV_PROPERTIES, EXAM_TYPE, compare_properties"
   ]
  },
  {
   "cell_type": "code",
   "execution_count": 3,
   "id": "1d1ce6c0",
   "metadata": {},
   "outputs": [],
   "source": [
    "def isfloat(s):\n",
    "    try:\n",
    "        return bool(re.match(u'^[−‐]?\\d+(\\.\\d*)?',s))\n",
    "    except:\n",
    "        return False\n",
    "\n",
    "def tofloat(s):\n",
    "    return float(re.match(u'^[−‐]?\\d+(\\.\\d*)?', s).group(0).replace('−', '').replace('‐', ''))\n",
    "    \n",
    "def count_valid_properties(data_list):\n",
    "    return np.array([ int(isfloat(i)) for i in data_list])"
   ]
  },
  {
   "cell_type": "code",
   "execution_count": 4,
   "id": "4578a741",
   "metadata": {},
   "outputs": [
    {
     "data": {
      "text/plain": [
       "array([1306., 1277., 1361., 1252.])"
      ]
     },
     "execution_count": 4,
     "metadata": {},
     "output_type": "execute_result"
    }
   ],
   "source": [
    "# as VOC, JSC, FF, PCE\n",
    "all_properties = pd.read_csv('../data/RSC_HTML_Table_Extractor_Reuslts.csv',encoding='utf-8')\n",
    "all_properties = pd.concat([all_properties, \n",
    "                            pd.read_csv('../data/Wiley_HTML_Table_Extractor_Reuslts.csv',encoding='utf-8')],\n",
    "                           sort=False, ignore_index=True)                            \n",
    "all_properties = pd.concat([all_properties, \n",
    "                            pd.read_csv('../data/Elsevier_XMLs_Table_Extractor_Reuslts.csv',encoding='utf-8')],\n",
    "                           sort=False, ignore_index=True)\n",
    "\n",
    "\n",
    "counts = np.zeros(4)\n",
    "acc_counts = np.zeros(4)\n",
    "all_four_properties_df = pd.DataFrame([], columns = all_properties.columns)\n",
    "all_four_properties_subset = {}\n",
    "paper_ids  = set()\n",
    "\n",
    "for i in range(all_properties.shape[0]):\n",
    "    record = all_properties.iloc[i, :].tolist()\n",
    "    counts += count_valid_properties(record[4:])\n",
    "\n",
    "    paper_ids.add(record[0].split('_')[0])\n",
    "    if (not any([isfloat(x) for x in record[4:]])): continue\n",
    "            \n",
    "    #if (type(record[1]) == str):\n",
    "    #    valuekey = record[0].split('_')[0] + record[1]\n",
    "    #else:\n",
    "    valuekey = record[0]\n",
    "    if valuekey not in all_four_properties_subset.keys():\n",
    "        all_four_properties_subset[valuekey] = record.copy()\n",
    "    elif tofloat(record[4]) > tofloat(all_four_properties_subset[valuekey][4]):\n",
    "        all_four_properties_subset[valuekey] = record.copy()\n",
    "        \n",
    "    #all_four_properties_subset.append(all([isfloat(x) for x in record[4:]]))\n",
    "\n",
    "temp_df = pd.DataFrame(all_four_properties_subset.values(), columns = all_properties.columns)\n",
    "all_four_properties_df = pd.concat([all_four_properties_df,temp_df], sort=False,ignore_index=True)\n",
    "    \n",
    "    \n",
    "counts"
   ]
  },
  {
   "cell_type": "code",
   "execution_count": 5,
   "id": "145ae2d2",
   "metadata": {},
   "outputs": [
    {
     "data": {
      "text/plain": [
       "(1389, 8)"
      ]
     },
     "execution_count": 5,
     "metadata": {},
     "output_type": "execute_result"
    }
   ],
   "source": [
    "all_four_properties_df.shape"
   ]
  },
  {
   "cell_type": "code",
   "execution_count": 6,
   "id": "aee76a98",
   "metadata": {},
   "outputs": [
    {
     "data": {
      "text/plain": [
       "216"
      ]
     },
     "execution_count": 6,
     "metadata": {},
     "output_type": "execute_result"
    }
   ],
   "source": [
    "len(paper_ids)"
   ]
  },
  {
   "cell_type": "code",
   "execution_count": 7,
   "id": "985e31d8",
   "metadata": {},
   "outputs": [],
   "source": [
    "data_path = '../data/CDE_XML_HTML_Results.csv'\n",
    "data = pd.read_csv(data_path, encoding=\"UTF-8\")\n",
    "\n",
    "saeki_path = '../../Saekis_manual_dataset.csv'\n",
    "saeki_cols = ['ID No.','Nickname', 'Ref. No',  'Voc', 'Jsc', 'FF', 'PCE_max']\n",
    "saeki = pd.read_csv(saeki_path, encoding=\"UTF-8\", usecols=saeki_cols)"
   ]
  },
  {
   "cell_type": "code",
   "execution_count": 8,
   "id": "1786b76f",
   "metadata": {},
   "outputs": [],
   "source": [
    "subset_ids = [x[1:] in paper_ids for x in saeki['Ref. No']]\n",
    "saeki_subset = saeki.loc[subset_ids]"
   ]
  },
  {
   "cell_type": "code",
   "execution_count": 9,
   "id": "af9378f4",
   "metadata": {},
   "outputs": [
    {
     "data": {
      "text/plain": [
       "(482, 7)"
      ]
     },
     "execution_count": 9,
     "metadata": {},
     "output_type": "execute_result"
    }
   ],
   "source": [
    "saeki_subset.shape"
   ]
  },
  {
   "cell_type": "code",
   "execution_count": 10,
   "id": "85b93c37",
   "metadata": {},
   "outputs": [
    {
     "data": {
      "text/plain": [
       "(1203, 7)"
      ]
     },
     "execution_count": 10,
     "metadata": {},
     "output_type": "execute_result"
    }
   ],
   "source": [
    "saeki.shape"
   ]
  },
  {
   "cell_type": "code",
   "execution_count": 11,
   "id": "616b2821",
   "metadata": {},
   "outputs": [
    {
     "data": {
      "text/plain": [
       "PCE_max     7.64\n",
       "Voc         0.79\n",
       "Jsc        14.02\n",
       "FF         0.691\n",
       "Name: 16, dtype: object"
      ]
     },
     "execution_count": 11,
     "metadata": {},
     "output_type": "execute_result"
    }
   ],
   "source": [
    "saeki_subset.iloc[0, 3:]"
   ]
  },
  {
   "cell_type": "code",
   "execution_count": 12,
   "id": "ba315ffa",
   "metadata": {},
   "outputs": [
    {
     "data": {
      "text/plain": [
       "PCE (%)           4.27/4.12\n",
       "V OC (V)               0.76\n",
       "J SC (mA/cm-2)         9.77\n",
       "FF (%)                 0.58\n",
       "Name: 0, dtype: object"
      ]
     },
     "execution_count": 12,
     "metadata": {},
     "output_type": "execute_result"
    }
   ],
   "source": [
    "all_four_properties_df.iloc[0, [7, 4, 5, 6]] "
   ]
  },
  {
   "cell_type": "code",
   "execution_count": 14,
   "id": "bfece9e3",
   "metadata": {},
   "outputs": [
    {
     "name": "stdout",
     "output_type": "stream",
     "text": [
      "Compare Results from  254\n",
      "['3.49', '0.73', '7.82', '61.1']\n",
      "['4.25', '0.74', '9.79', '58.2']\n",
      "['3.49', '0.73', '7.82', '61.1']\n",
      "['4.25', '0.74', '9.79', '58.2']\n",
      "['3.71', '0.68', '9.40', '58.3']\n",
      "['4.86', '0.70', '11.10', '62.5']\n",
      "Compare Results from  342\n",
      "[nan, nan, nan, '2 × 103']\n"
     ]
    },
    {
     "ename": "TypeError",
     "evalue": "expected string or bytes-like object",
     "output_type": "error",
     "traceback": [
      "\u001b[0;31m---------------------------------------------------------------------------\u001b[0m",
      "\u001b[0;31mTypeError\u001b[0m                                 Traceback (most recent call last)",
      "\u001b[0;32m/var/folders/47/_h6607_j6717pynz1ls70t2c0000gn/T/ipykernel_98243/2964008782.py\u001b[0m in \u001b[0;36m<module>\u001b[0;34m\u001b[0m\n\u001b[1;32m     28\u001b[0m         \u001b[0;32mfor\u001b[0m \u001b[0mj\u001b[0m \u001b[0;32min\u001b[0m \u001b[0mrange\u001b[0m\u001b[0;34m(\u001b[0m\u001b[0mte_result\u001b[0m\u001b[0;34m.\u001b[0m\u001b[0mshape\u001b[0m\u001b[0;34m[\u001b[0m\u001b[0;36m0\u001b[0m\u001b[0;34m]\u001b[0m\u001b[0;34m)\u001b[0m\u001b[0;34m:\u001b[0m\u001b[0;34m\u001b[0m\u001b[0;34m\u001b[0m\u001b[0m\n\u001b[1;32m     29\u001b[0m             \u001b[0mprint\u001b[0m\u001b[0;34m(\u001b[0m\u001b[0mte_result\u001b[0m\u001b[0;34m.\u001b[0m\u001b[0miloc\u001b[0m\u001b[0;34m[\u001b[0m\u001b[0mj\u001b[0m\u001b[0;34m,\u001b[0m \u001b[0;34m[\u001b[0m\u001b[0;36m7\u001b[0m\u001b[0;34m,\u001b[0m \u001b[0;36m4\u001b[0m\u001b[0;34m,\u001b[0m \u001b[0;36m5\u001b[0m\u001b[0;34m,\u001b[0m \u001b[0;36m6\u001b[0m\u001b[0;34m]\u001b[0m\u001b[0;34m]\u001b[0m\u001b[0;34m.\u001b[0m\u001b[0mto_list\u001b[0m\u001b[0;34m(\u001b[0m\u001b[0;34m)\u001b[0m\u001b[0;34m)\u001b[0m\u001b[0;34m\u001b[0m\u001b[0;34m\u001b[0m\u001b[0m\n\u001b[0;32m---> 30\u001b[0;31m             te_raw = [ re.match(u'^[−‐]?\\d+(\\.\\d*)?', x).group(0).replace('−', '').replace('‐', '')\n\u001b[0m\u001b[1;32m     31\u001b[0m                       for x in te_result.iloc[j, [7, 4, 5, 6]].to_list()]\n\u001b[1;32m     32\u001b[0m \u001b[0;34m\u001b[0m\u001b[0m\n",
      "\u001b[0;32m/var/folders/47/_h6607_j6717pynz1ls70t2c0000gn/T/ipykernel_98243/2964008782.py\u001b[0m in \u001b[0;36m<listcomp>\u001b[0;34m(.0)\u001b[0m\n\u001b[1;32m     28\u001b[0m         \u001b[0;32mfor\u001b[0m \u001b[0mj\u001b[0m \u001b[0;32min\u001b[0m \u001b[0mrange\u001b[0m\u001b[0;34m(\u001b[0m\u001b[0mte_result\u001b[0m\u001b[0;34m.\u001b[0m\u001b[0mshape\u001b[0m\u001b[0;34m[\u001b[0m\u001b[0;36m0\u001b[0m\u001b[0;34m]\u001b[0m\u001b[0;34m)\u001b[0m\u001b[0;34m:\u001b[0m\u001b[0;34m\u001b[0m\u001b[0;34m\u001b[0m\u001b[0m\n\u001b[1;32m     29\u001b[0m             \u001b[0mprint\u001b[0m\u001b[0;34m(\u001b[0m\u001b[0mte_result\u001b[0m\u001b[0;34m.\u001b[0m\u001b[0miloc\u001b[0m\u001b[0;34m[\u001b[0m\u001b[0mj\u001b[0m\u001b[0;34m,\u001b[0m \u001b[0;34m[\u001b[0m\u001b[0;36m7\u001b[0m\u001b[0;34m,\u001b[0m \u001b[0;36m4\u001b[0m\u001b[0;34m,\u001b[0m \u001b[0;36m5\u001b[0m\u001b[0;34m,\u001b[0m \u001b[0;36m6\u001b[0m\u001b[0;34m]\u001b[0m\u001b[0;34m]\u001b[0m\u001b[0;34m.\u001b[0m\u001b[0mto_list\u001b[0m\u001b[0;34m(\u001b[0m\u001b[0;34m)\u001b[0m\u001b[0;34m)\u001b[0m\u001b[0;34m\u001b[0m\u001b[0;34m\u001b[0m\u001b[0m\n\u001b[0;32m---> 30\u001b[0;31m             te_raw = [ re.match(u'^[−‐]?\\d+(\\.\\d*)?', x).group(0).replace('−', '').replace('‐', '')\n\u001b[0m\u001b[1;32m     31\u001b[0m                       for x in te_result.iloc[j, [7, 4, 5, 6]].to_list()]\n\u001b[1;32m     32\u001b[0m \u001b[0;34m\u001b[0m\u001b[0m\n",
      "\u001b[0;32m~/miniconda3/envs/datapipeline/lib/python3.8/re.py\u001b[0m in \u001b[0;36mmatch\u001b[0;34m(pattern, string, flags)\u001b[0m\n\u001b[1;32m    189\u001b[0m     \"\"\"Try to apply the pattern at the start of the string, returning\n\u001b[1;32m    190\u001b[0m     a Match object, or None if no match was found.\"\"\"\n\u001b[0;32m--> 191\u001b[0;31m     \u001b[0;32mreturn\u001b[0m \u001b[0m_compile\u001b[0m\u001b[0;34m(\u001b[0m\u001b[0mpattern\u001b[0m\u001b[0;34m,\u001b[0m \u001b[0mflags\u001b[0m\u001b[0;34m)\u001b[0m\u001b[0;34m.\u001b[0m\u001b[0mmatch\u001b[0m\u001b[0;34m(\u001b[0m\u001b[0mstring\u001b[0m\u001b[0;34m)\u001b[0m\u001b[0;34m\u001b[0m\u001b[0;34m\u001b[0m\u001b[0m\n\u001b[0m\u001b[1;32m    192\u001b[0m \u001b[0;34m\u001b[0m\u001b[0m\n\u001b[1;32m    193\u001b[0m \u001b[0;32mdef\u001b[0m \u001b[0mfullmatch\u001b[0m\u001b[0;34m(\u001b[0m\u001b[0mpattern\u001b[0m\u001b[0;34m,\u001b[0m \u001b[0mstring\u001b[0m\u001b[0;34m,\u001b[0m \u001b[0mflags\u001b[0m\u001b[0;34m=\u001b[0m\u001b[0;36m0\u001b[0m\u001b[0;34m)\u001b[0m\u001b[0;34m:\u001b[0m\u001b[0;34m\u001b[0m\u001b[0;34m\u001b[0m\u001b[0m\n",
      "\u001b[0;31mTypeError\u001b[0m: expected string or bytes-like object"
     ]
    }
   ],
   "source": [
    "saeki_cols = ['PCE_max', 'Voc', 'Jsc', 'FF']\n",
    "errors = [0.2, 0.02, 0.5, 0.01]\n",
    "total_miss = 0\n",
    "total_miss_individual = np.zeros(4)\n",
    "\n",
    "for paper_id in paper_ids:\n",
    "    print(\"Compare Results from \", paper_id)\n",
    "    tmp_result = [paper_id]\n",
    "    \n",
    "    saeki_result = saeki[saeki['Ref. No'] == 'S'+ str(paper_id)]\n",
    "    \n",
    "    te_subset = np.array([ x.split('_')[0] == paper_id for x in all_four_properties_df['Unnamed: 0'] ])\n",
    "    \n",
    "    te_result = all_four_properties_df[te_subset]\n",
    "    \n",
    "    miss_count = saeki_result.shape[0]\n",
    "    miss_count_2 = np.ones(4) * miss_count\n",
    "    count_not_full_but_individual_all_match = 0\n",
    "    \n",
    "    #print(saeki_result)\n",
    "    #print(te_result)\n",
    "    for i in range(saeki_result.shape[0]):\n",
    "        \n",
    "        sr = np.array(saeki_result.iloc[i, 3:].to_list())\n",
    "        full_match = False\n",
    "        \n",
    "        # find full match\n",
    "        for j in range(te_result.shape[0]):\n",
    "            te_raw = te_result.iloc[j, [7, 4, 5, 6]].to_list()\n",
    "            if all([isfloat(x) for x in te_raw_list]):\n",
    "\n",
    "                te = np.array([tofloat(x) for x in te_raw])\n",
    "\n",
    "                if te[1] > 100: te[1] /= 1000 #VOC\n",
    "                if te[3]  > 1: te[3] /= 100    #FF\n",
    "                #if te[0]  > 1: te[0] /= 100  #PCE   \n",
    "                #print(te, sr)\n",
    "                if all([abs(sr[k] - te[k]) <= errors[k] for k in range(4)]):\n",
    "                    miss_count -= 1\n",
    "                    miss_count_2 -=1\n",
    "                    full_match = True\n",
    "                    break\n",
    "                \n",
    "        if (not full_match):\n",
    "            sr_found = np.array([False, False, False, False])\n",
    "            #match individual ones\n",
    "            for j in range(te_result.shape[0]):\n",
    "                \n",
    "                if all(sr_found): \n",
    "                    count_not_full_but_individual_all_match += 1\n",
    "                    break\n",
    "                \n",
    "                te_raw_list  = te_result.iloc[j, [7, 4, 5, 6]].to_list()\n",
    "                \n",
    "                for k in range(4):\n",
    "                    if isfloat(\n",
    "                    \n",
    "                    \n",
    "                    if not sr_found[k] and isfloat(te_raw[k]):\n",
    "                        te = float(te_raw[k])\n",
    "                        \n",
    "                        if k == 1 and te > 100: te /= 1000 #VOC\n",
    "                        if k == 3 and te > 1: te /= 100    #FF\n",
    "                        \n",
    "                        if abs(sr[k] - te[k]) <= errors[k]:\n",
    "                            sr_found[k] = True\n",
    "                            miss_count_2[k] -= 1\n",
    "\n",
    "    total_miss += miss_count\n",
    "    total_miss_individual += miss_count_2\n",
    "    if miss_count > 0 : print(\"- Miss Count:\", miss_count)"
   ]
  },
  {
   "cell_type": "code",
   "execution_count": 40,
   "id": "ef962922",
   "metadata": {},
   "outputs": [
    {
     "data": {
      "text/plain": [
       "66"
      ]
     },
     "execution_count": 40,
     "metadata": {},
     "output_type": "execute_result"
    }
   ],
   "source": [
    "total_miss"
   ]
  },
  {
   "cell_type": "code",
   "execution_count": 41,
   "id": "873e892e",
   "metadata": {},
   "outputs": [
    {
     "data": {
      "text/plain": [
       "array([56., 43., 45., 46.])"
      ]
     },
     "execution_count": 41,
     "metadata": {},
     "output_type": "execute_result"
    }
   ],
   "source": [
    "total_miss_individual"
   ]
  },
  {
   "cell_type": "code",
   "execution_count": 42,
   "id": "8bdc34bd",
   "metadata": {},
   "outputs": [
    {
     "data": {
      "text/plain": [
       "0"
      ]
     },
     "execution_count": 42,
     "metadata": {},
     "output_type": "execute_result"
    }
   ],
   "source": [
    "count_not_full_but_individual_all_match"
   ]
  },
  {
   "cell_type": "code",
   "execution_count": 28,
   "id": "b63d1a88",
   "metadata": {},
   "outputs": [],
   "source": [
    "paper_id = '169'\n",
    "\n",
    "saeki_result = saeki[saeki['Ref. No'] == 'S'+ str(paper_id)]\n",
    "te_subset = np.array([ x.split('_')[0] == paper_id for x in all_four_properties_df['Unnamed: 0'] ])\n",
    "te_result = all_four_properties_df[te_subset]\n",
    "te_subset = np.array([ x.split('_')[0] == paper_id for x in all_properties['Unnamed: 0'] ])\n",
    "te_result2 = all_properties[te_subset]"
   ]
  },
  {
   "cell_type": "code",
   "execution_count": 29,
   "id": "5fae7fa0",
   "metadata": {},
   "outputs": [
    {
     "data": {
      "text/html": [
       "<div>\n",
       "<style scoped>\n",
       "    .dataframe tbody tr th:only-of-type {\n",
       "        vertical-align: middle;\n",
       "    }\n",
       "\n",
       "    .dataframe tbody tr th {\n",
       "        vertical-align: top;\n",
       "    }\n",
       "\n",
       "    .dataframe thead th {\n",
       "        text-align: right;\n",
       "    }\n",
       "</style>\n",
       "<table border=\"1\" class=\"dataframe\">\n",
       "  <thead>\n",
       "    <tr style=\"text-align: right;\">\n",
       "      <th></th>\n",
       "      <th>ID No.</th>\n",
       "      <th>Nickname</th>\n",
       "      <th>Ref. No</th>\n",
       "      <th>PCE_max</th>\n",
       "      <th>Voc</th>\n",
       "      <th>Jsc</th>\n",
       "      <th>FF</th>\n",
       "    </tr>\n",
       "  </thead>\n",
       "  <tbody>\n",
       "    <tr>\n",
       "      <th>410</th>\n",
       "      <td>411</td>\n",
       "      <td>PBDT(O)-T1</td>\n",
       "      <td>S169</td>\n",
       "      <td>4.01</td>\n",
       "      <td>0.83</td>\n",
       "      <td>9.6</td>\n",
       "      <td>0.495</td>\n",
       "    </tr>\n",
       "    <tr>\n",
       "      <th>411</th>\n",
       "      <td>412</td>\n",
       "      <td>PBDT(S)-T1</td>\n",
       "      <td>S169</td>\n",
       "      <td>7.48</td>\n",
       "      <td>0.90</td>\n",
       "      <td>12.3</td>\n",
       "      <td>0.711</td>\n",
       "    </tr>\n",
       "    <tr>\n",
       "      <th>412</th>\n",
       "      <td>413</td>\n",
       "      <td>PBDT(Se)-T1</td>\n",
       "      <td>S169</td>\n",
       "      <td>8.52</td>\n",
       "      <td>0.92</td>\n",
       "      <td>13.1</td>\n",
       "      <td>0.721</td>\n",
       "    </tr>\n",
       "  </tbody>\n",
       "</table>\n",
       "</div>"
      ],
      "text/plain": [
       "     ID No.     Nickname Ref. No  PCE_max   Voc   Jsc     FF\n",
       "410     411   PBDT(O)-T1    S169     4.01  0.83   9.6  0.495\n",
       "411     412   PBDT(S)-T1    S169     7.48  0.90  12.3  0.711\n",
       "412     413  PBDT(Se)-T1    S169     8.52  0.92  13.1  0.721"
      ]
     },
     "execution_count": 29,
     "metadata": {},
     "output_type": "execute_result"
    }
   ],
   "source": [
    "saeki_result"
   ]
  },
  {
   "cell_type": "code",
   "execution_count": 30,
   "id": "5f513290",
   "metadata": {},
   "outputs": [
    {
     "data": {
      "text/html": [
       "<div>\n",
       "<style scoped>\n",
       "    .dataframe tbody tr th:only-of-type {\n",
       "        vertical-align: middle;\n",
       "    }\n",
       "\n",
       "    .dataframe tbody tr th {\n",
       "        vertical-align: top;\n",
       "    }\n",
       "\n",
       "    .dataframe thead th {\n",
       "        text-align: right;\n",
       "    }\n",
       "</style>\n",
       "<table border=\"1\" class=\"dataframe\">\n",
       "  <thead>\n",
       "    <tr style=\"text-align: right;\">\n",
       "      <th></th>\n",
       "      <th>Unnamed: 0</th>\n",
       "      <th>0</th>\n",
       "      <th>1</th>\n",
       "      <th>2</th>\n",
       "      <th>V OC (V)</th>\n",
       "      <th>J SC (mA/cm-2)</th>\n",
       "      <th>FF (%)</th>\n",
       "      <th>PCE (%)</th>\n",
       "    </tr>\n",
       "  </thead>\n",
       "  <tbody>\n",
       "    <tr>\n",
       "      <th>161</th>\n",
       "      <td>169_6_0</td>\n",
       "      <td>PBDT(O)-T1:PC70BM</td>\n",
       "      <td>NaN</td>\n",
       "      <td>NaN</td>\n",
       "      <td>0.83 ± 0.01</td>\n",
       "      <td>9.6 ± 0.2 (9.1)</td>\n",
       "      <td>49.5 ± 0.6</td>\n",
       "      <td>4.0 ± 0.1</td>\n",
       "    </tr>\n",
       "    <tr>\n",
       "      <th>162</th>\n",
       "      <td>169_6_1</td>\n",
       "      <td>PBDT(S)-T1:PC70BM</td>\n",
       "      <td>NaN</td>\n",
       "      <td>NaN</td>\n",
       "      <td>0.89 ± 0.01</td>\n",
       "      <td>12.2 ± 0.1 (12.1)</td>\n",
       "      <td>67.7 ± 0.4</td>\n",
       "      <td>7.3 ± 0.1</td>\n",
       "    </tr>\n",
       "    <tr>\n",
       "      <th>163</th>\n",
       "      <td>169_6_2</td>\n",
       "      <td>PBDT(Se)-T1:PC70BM</td>\n",
       "      <td>NaN</td>\n",
       "      <td>NaN</td>\n",
       "      <td>0.91 ± 0.01</td>\n",
       "      <td>13.0 ± 0.1 (12.6)</td>\n",
       "      <td>71.7 ± 0.4</td>\n",
       "      <td>8.4 ± 0.1</td>\n",
       "    </tr>\n",
       "  </tbody>\n",
       "</table>\n",
       "</div>"
      ],
      "text/plain": [
       "    Unnamed: 0                   0    1    2     V OC (V)     J SC (mA/cm-2)  \\\n",
       "161    169_6_0   PBDT(O)-T1:PC70BM  NaN  NaN  0.83 ± 0.01    9.6 ± 0.2 (9.1)   \n",
       "162    169_6_1   PBDT(S)-T1:PC70BM  NaN  NaN  0.89 ± 0.01  12.2 ± 0.1 (12.1)   \n",
       "163    169_6_2  PBDT(Se)-T1:PC70BM  NaN  NaN  0.91 ± 0.01  13.0 ± 0.1 (12.6)   \n",
       "\n",
       "         FF (%)    PCE (%)  \n",
       "161  49.5 ± 0.6  4.0 ± 0.1  \n",
       "162  67.7 ± 0.4  7.3 ± 0.1  \n",
       "163  71.7 ± 0.4  8.4 ± 0.1  "
      ]
     },
     "execution_count": 30,
     "metadata": {},
     "output_type": "execute_result"
    }
   ],
   "source": [
    "te_result"
   ]
  },
  {
   "cell_type": "code",
   "execution_count": null,
   "id": "cc34281f",
   "metadata": {},
   "outputs": [],
   "source": []
  },
  {
   "cell_type": "code",
   "execution_count": null,
   "id": "8e7509fb",
   "metadata": {},
   "outputs": [],
   "source": []
  }
 ],
 "metadata": {
  "kernelspec": {
   "display_name": "Python 3 (ipykernel)",
   "language": "python",
   "name": "python3"
  },
  "language_info": {
   "codemirror_mode": {
    "name": "ipython",
    "version": 3
   },
   "file_extension": ".py",
   "mimetype": "text/x-python",
   "name": "python",
   "nbconvert_exporter": "python",
   "pygments_lexer": "ipython3",
   "version": "3.8.12"
  }
 },
 "nbformat": 4,
 "nbformat_minor": 5
}
