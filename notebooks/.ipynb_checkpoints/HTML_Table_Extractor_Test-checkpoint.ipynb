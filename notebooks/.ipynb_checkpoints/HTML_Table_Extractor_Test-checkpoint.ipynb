{
 "cells": [
  {
   "cell_type": "code",
   "execution_count": 1,
   "metadata": {},
   "outputs": [],
   "source": [
    "import pandas as pd\n",
    "import numpy as np\n",
    "import sys\n",
    "import re\n",
    "import os\n",
    "import pandas as pd\n",
    "sys.path.append(\"../automaterialsdata/\")\n",
    "\n",
    "from html_table_extractor.extractor import Extractor\n",
    "from bs4 import BeautifulSoup\n",
    "\n",
    "from table_extractor import get_all_files_with_extension\n",
    "from table_extractor import gather_properties_from_full_table\n"
   ]
  },
  {
   "cell_type": "code",
   "execution_count": 2,
   "metadata": {},
   "outputs": [
    {
     "data": {
      "text/plain": [
       "['/Users/hanghu/Desktop/msedatapipeline/JPCL2018-papers_notPDF/html/RSC/14.html',\n",
       " '/Users/hanghu/Desktop/msedatapipeline/JPCL2018-papers_notPDF/html/RSC/15.html',\n",
       " '/Users/hanghu/Desktop/msedatapipeline/JPCL2018-papers_notPDF/html/RSC/33.html',\n",
       " '/Users/hanghu/Desktop/msedatapipeline/JPCL2018-papers_notPDF/html/RSC/34.html',\n",
       " '/Users/hanghu/Desktop/msedatapipeline/JPCL2018-papers_notPDF/html/RSC/46.html',\n",
       " '/Users/hanghu/Desktop/msedatapipeline/JPCL2018-papers_notPDF/html/RSC/49.html',\n",
       " '/Users/hanghu/Desktop/msedatapipeline/JPCL2018-papers_notPDF/html/RSC/56.html',\n",
       " '/Users/hanghu/Desktop/msedatapipeline/JPCL2018-papers_notPDF/html/RSC/58.html',\n",
       " '/Users/hanghu/Desktop/msedatapipeline/JPCL2018-papers_notPDF/html/RSC/59.html',\n",
       " '/Users/hanghu/Desktop/msedatapipeline/JPCL2018-papers_notPDF/html/RSC/60.html']"
      ]
     },
     "execution_count": 2,
     "metadata": {},
     "output_type": "execute_result"
    }
   ],
   "source": [
    "RSC_htmls = get_all_files_with_extension('/Users/hanghu/Desktop/msedatapipeline/JPCL2018-papers_notPDF/html/RSC/', 'html')\n",
    "RSC_htmls = sorted(RSC_htmls, key=lambda x: int(x.split('/')[-1][:-5]))\n",
    "RSC_htmls[:10]"
   ]
  },
  {
   "cell_type": "code",
   "execution_count": 3,
   "metadata": {
    "scrolled": true
   },
   "outputs": [],
   "source": [
    "searching_patterns = [['VOC', 'VOC(V)'], \n",
    "                      ['JSC', 'Jsc(mAcm−2)','Avg.Jsc±std(mAcm−2)'], \n",
    "                      ['FF', 'FF(%)'],\n",
    "                      ['PCE', 'PCE(%)', 'Avg.PCE±std(%)', 'Avg.PCE', 'Max.PCE']]\n",
    "output_headers = ['V OC (V)', 'J SC (mA/cm-2)', 'FF (%)', 'PCE (%)'] \n",
    "\n",
    "all_properties = pd.DataFrame()\n",
    "paper_count = -1\n",
    "\n",
    "for f in RSC_htmls:\n",
    "    \n",
    "    paper_count += 1\n",
    "\n",
    "    df = pd.read_html(f, encoding='utf-8')\n",
    "    headers = [ [table.columns.tolist()] for table in df]\n",
    "    \n",
    "    for i in range(len(df)):\n",
    "        table = df[i]\n",
    "        header = headers[i]\n",
    "        \n",
    "        properties_table = gather_properties_from_full_table(table, header, searching_patterns, output_headers)\n",
    "        if properties_table is None: continue \n",
    "        \n",
    "#         matched_table = pd.DataFrame()\n",
    "#         r_headers = reorder_headers(header)\n",
    "\n",
    "#         for col in range(len(r_headers)):\n",
    "#             for p, h in zip(searching_patterns, output_headers):\n",
    "#                 if match_string(p, r_headers[col]):\n",
    "#                     matched_table[0] = table.iloc[:,0]\n",
    "#                     matched_table[1] = ''\n",
    "#                     matched_table[2] = ''\n",
    "#                     if matched_table[0].isnull().values.any(): \n",
    "#                         matched_table[1] = table.iloc[:,1]\n",
    "#                     if matched_table[1].isnull().values.any(): \n",
    "#                         matched_table[2] = table.iloc[:,2]\n",
    "#                     matched_table[h] = table.iloc[:, col]\n",
    "        global_idx = []\n",
    "        for row in range(len(properties_table.index)):\n",
    "            to_append = str(paper_count ) + '_' + str(i) + '_' + str(row) #Article Index + Table Index + Row Index \n",
    "            global_idx.append(to_append)\n",
    "        properties_table.index = global_idx\n",
    "        all_properties = pd.concat([all_properties, properties_table], sort=False)\n",
    "\n",
    "    #all_properties.to_csv('HTML Table Extractor Reuslts.csv',encoding='utf-8')"
   ]
  },
  {
   "cell_type": "code",
   "execution_count": 4,
   "metadata": {},
   "outputs": [
    {
     "data": {
      "text/html": [
       "<div>\n",
       "<style scoped>\n",
       "    .dataframe tbody tr th:only-of-type {\n",
       "        vertical-align: middle;\n",
       "    }\n",
       "\n",
       "    .dataframe tbody tr th {\n",
       "        vertical-align: top;\n",
       "    }\n",
       "\n",
       "    .dataframe thead th {\n",
       "        text-align: right;\n",
       "    }\n",
       "</style>\n",
       "<table border=\"1\" class=\"dataframe\">\n",
       "  <thead>\n",
       "    <tr style=\"text-align: right;\">\n",
       "      <th></th>\n",
       "      <th>0</th>\n",
       "      <th>1</th>\n",
       "      <th>2</th>\n",
       "      <th>V OC (V)</th>\n",
       "      <th>J SC (mA/cm-2)</th>\n",
       "      <th>FF (%)</th>\n",
       "      <th>PCE (%)</th>\n",
       "    </tr>\n",
       "  </thead>\n",
       "  <tbody>\n",
       "    <tr>\n",
       "      <th>0_5_0</th>\n",
       "      <td>PPDTBT</td>\n",
       "      <td></td>\n",
       "      <td></td>\n",
       "      <td>0.76</td>\n",
       "      <td>9.77</td>\n",
       "      <td>0.58</td>\n",
       "      <td>4.27/4.12</td>\n",
       "    </tr>\n",
       "    <tr>\n",
       "      <th>0_5_1</th>\n",
       "      <td>PPDTBT</td>\n",
       "      <td></td>\n",
       "      <td></td>\n",
       "      <td>0.81</td>\n",
       "      <td>10.40</td>\n",
       "      <td>0.61</td>\n",
       "      <td>5.08/4.89</td>\n",
       "    </tr>\n",
       "    <tr>\n",
       "      <th>0_5_2</th>\n",
       "      <td>PPDTFBT</td>\n",
       "      <td></td>\n",
       "      <td></td>\n",
       "      <td>0.76</td>\n",
       "      <td>10.6</td>\n",
       "      <td>0.59</td>\n",
       "      <td>4.72/4.38</td>\n",
       "    </tr>\n",
       "    <tr>\n",
       "      <th>0_5_3</th>\n",
       "      <td>PPDTFBT</td>\n",
       "      <td></td>\n",
       "      <td></td>\n",
       "      <td>0.81</td>\n",
       "      <td>10.2</td>\n",
       "      <td>0.62</td>\n",
       "      <td>5.11/5.02</td>\n",
       "    </tr>\n",
       "    <tr>\n",
       "      <th>0_5_4</th>\n",
       "      <td>PPDT2FBT</td>\n",
       "      <td></td>\n",
       "      <td></td>\n",
       "      <td>0.78</td>\n",
       "      <td>12.9</td>\n",
       "      <td>0.71</td>\n",
       "      <td>7.18/6.94</td>\n",
       "    </tr>\n",
       "  </tbody>\n",
       "</table>\n",
       "</div>"
      ],
      "text/plain": [
       "              0 1 2 V OC (V) J SC (mA/cm-2) FF (%)    PCE (%)\n",
       "0_5_0    PPDTBT         0.76           9.77   0.58  4.27/4.12\n",
       "0_5_1    PPDTBT         0.81          10.40   0.61  5.08/4.89\n",
       "0_5_2   PPDTFBT         0.76           10.6   0.59  4.72/4.38\n",
       "0_5_3   PPDTFBT         0.81           10.2   0.62  5.11/5.02\n",
       "0_5_4  PPDT2FBT         0.78           12.9   0.71  7.18/6.94"
      ]
     },
     "execution_count": 4,
     "metadata": {},
     "output_type": "execute_result"
    }
   ],
   "source": [
    "all_properties.head(5)"
   ]
  },
  {
   "cell_type": "code",
   "execution_count": null,
   "metadata": {},
   "outputs": [],
   "source": []
  }
 ],
 "metadata": {
  "kernelspec": {
   "display_name": "Python 3 (ipykernel)",
   "language": "python",
   "name": "python3"
  },
  "language_info": {
   "codemirror_mode": {
    "name": "ipython",
    "version": 3
   },
   "file_extension": ".py",
   "mimetype": "text/x-python",
   "name": "python",
   "nbconvert_exporter": "python",
   "pygments_lexer": "ipython3",
   "version": "3.8.12"
  }
 },
 "nbformat": 4,
 "nbformat_minor": 2
}
