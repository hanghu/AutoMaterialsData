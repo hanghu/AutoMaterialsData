{
 "cells": [
  {
   "cell_type": "code",
   "execution_count": 1,
   "id": "11c9e8e3",
   "metadata": {},
   "outputs": [],
   "source": [
    "import sys\n",
    "import re\n",
    "import os\n",
    "import pandas as pd\n",
    "import numpy as np\n",
    "sys.path.append(\"../automaterialsdata/\")"
   ]
  },
  {
   "cell_type": "code",
   "execution_count": 2,
   "id": "81389d57",
   "metadata": {},
   "outputs": [],
   "source": [
    "from property_comparison import OPV_PROPERTIES, EXAM_TYPE, compare_properties"
   ]
  },
  {
   "cell_type": "code",
   "execution_count": 3,
   "id": "1d1ce6c0",
   "metadata": {},
   "outputs": [],
   "source": [
    "def isfloat(s):\n",
    "    try:\n",
    "        return bool(re.match(u'^[−‐]?\\d+(\\.\\d*)?',s))\n",
    "    except:\n",
    "        return False\n",
    "\n",
    "def tofloat(s):\n",
    "    return float(re.match(u'^[−‐]?\\d+(\\.\\d*)?', s).group(0).replace('−', '').replace('‐', ''))\n",
    "    \n",
    "def count_valid_properties(data_list):\n",
    "    return np.array([ int(isfloat(i)) for i in data_list])"
   ]
  },
  {
   "cell_type": "code",
   "execution_count": 6,
   "id": "4578a741",
   "metadata": {},
   "outputs": [
    {
     "data": {
      "text/plain": [
       "array([1306., 1277., 1361., 1252.])"
      ]
     },
     "execution_count": 6,
     "metadata": {},
     "output_type": "execute_result"
    }
   ],
   "source": [
    "# as VOC, JSC, FF, PCE\n",
    "all_properties = pd.read_csv('../data/RSC_HTML_Table_Extractor_Reuslts.csv',encoding='utf-8')\n",
    "all_properties = pd.concat([all_properties, \n",
    "                            pd.read_csv('../data/Wiley_HTML_Table_Extractor_Reuslts.csv',encoding='utf-8')],\n",
    "                           sort=False, ignore_index=True)                            \n",
    "all_properties = pd.concat([all_properties, \n",
    "                            pd.read_csv('../data/Elsevier_XMLs_Table_Extractor_Reuslts.csv',encoding='utf-8')],\n",
    "                           sort=False, ignore_index=True)\n",
    "\n",
    "acc_counts = np.zeros(4)\n",
    "all_four_properties_df = pd.DataFrame([], columns = all_properties.columns)\n",
    "all_four_properties_subset = {}\n",
    "paper_ids  = set()\n",
    "\n",
    "for i in range(all_properties.shape[0]):\n",
    "    record = all_properties.iloc[i, :].tolist()\n",
    "    \n",
    "\n",
    "    paper_ids.add(record[0].split('_')[0])\n",
    "#     if (not any([isfloat(x) for x in record[4:]])): continue\n",
    "            \n",
    "#     if (type(record[1]) == str):\n",
    "#         valuekey = record[0].split('_')[0] + record[1]\n",
    "#     else:\n",
    "#         valuekey = record[0]\n",
    "    \n",
    "    valuekey = record[0]\n",
    "    if valuekey not in all_four_properties_subset.keys():\n",
    "        all_four_properties_subset[valuekey] = record.copy()\n",
    "    elif not isfloat(record[4]): continue\n",
    "    elif not isfloat(all_four_properties_subset[valuekey][4]):\n",
    "        all_four_properties_subset[valuekey] = record.copy()\n",
    "    elif tofloat(record[4]) > tofloat(all_four_properties_subset[valuekey][4]):\n",
    "        all_four_properties_subset[valuekey] = record.copy()\n",
    "\n",
    "counts = np.zeros(4)\n",
    "for r in all_four_properties_subset.values():\n",
    "    counts += count_valid_properties(r[4:])\n",
    "    #all_four_properties_subset.append(all([isfloat(x) for x in record[4:]]))\n",
    "\n",
    "temp_df = pd.DataFrame(all_four_properties_subset.values(), columns = all_properties.columns)\n",
    "all_four_properties_df = pd.concat([all_four_properties_df,temp_df], sort=False,ignore_index=True)\n",
    "    \n",
    "    \n",
    "counts"
   ]
  },
  {
   "cell_type": "code",
   "execution_count": 7,
   "id": "145ae2d2",
   "metadata": {},
   "outputs": [
    {
     "data": {
      "text/plain": [
       "(1518, 8)"
      ]
     },
     "execution_count": 7,
     "metadata": {},
     "output_type": "execute_result"
    }
   ],
   "source": [
    "all_four_properties_df.shape"
   ]
  },
  {
   "cell_type": "code",
   "execution_count": 8,
   "id": "aee76a98",
   "metadata": {},
   "outputs": [
    {
     "data": {
      "text/plain": [
       "216"
      ]
     },
     "execution_count": 8,
     "metadata": {},
     "output_type": "execute_result"
    }
   ],
   "source": [
    "len(paper_ids)"
   ]
  },
  {
   "cell_type": "code",
   "execution_count": 9,
   "id": "985e31d8",
   "metadata": {},
   "outputs": [],
   "source": [
    "data_path = '../data/CDE_XML_HTML_Results.csv'\n",
    "data = pd.read_csv(data_path, encoding=\"UTF-8\")\n",
    "\n",
    "saeki_path = '../../Saekis_manual_dataset.csv'\n",
    "saeki_cols = ['ID No.','Nickname', 'Ref. No',  'Voc', 'Jsc', 'FF', 'PCE_max']\n",
    "saeki = pd.read_csv(saeki_path, encoding=\"UTF-8\", usecols=saeki_cols)"
   ]
  },
  {
   "cell_type": "code",
   "execution_count": 10,
   "id": "1786b76f",
   "metadata": {},
   "outputs": [],
   "source": [
    "subset_ids = [x[1:] in paper_ids for x in saeki['Ref. No']]\n",
    "saeki_subset = saeki.loc[subset_ids]"
   ]
  },
  {
   "cell_type": "code",
   "execution_count": 11,
   "id": "af9378f4",
   "metadata": {},
   "outputs": [
    {
     "data": {
      "text/plain": [
       "(482, 7)"
      ]
     },
     "execution_count": 11,
     "metadata": {},
     "output_type": "execute_result"
    }
   ],
   "source": [
    "saeki_subset.shape"
   ]
  },
  {
   "cell_type": "code",
   "execution_count": 12,
   "id": "616b2821",
   "metadata": {},
   "outputs": [
    {
     "data": {
      "text/plain": [
       "PCE_max     7.64\n",
       "Voc         0.79\n",
       "Jsc        14.02\n",
       "FF         0.691\n",
       "Name: 16, dtype: object"
      ]
     },
     "execution_count": 12,
     "metadata": {},
     "output_type": "execute_result"
    }
   ],
   "source": [
    "saeki_subset.iloc[0, 3:]"
   ]
  },
  {
   "cell_type": "code",
   "execution_count": 13,
   "id": "ba315ffa",
   "metadata": {},
   "outputs": [
    {
     "data": {
      "text/plain": [
       "PCE (%)           4.27/4.12\n",
       "V OC (V)               0.76\n",
       "J SC (mA/cm-2)         9.77\n",
       "FF (%)                 0.58\n",
       "Name: 0, dtype: object"
      ]
     },
     "execution_count": 13,
     "metadata": {},
     "output_type": "execute_result"
    }
   ],
   "source": [
    "all_four_properties_df.iloc[0, [7, 4, 5, 6]] "
   ]
  },
  {
   "cell_type": "code",
   "execution_count": 14,
   "id": "bfece9e3",
   "metadata": {},
   "outputs": [
    {
     "name": "stdout",
     "output_type": "stream",
     "text": [
      "Compare Results from  128\n",
      "Compare Results from  302\n",
      "Compare Results from  221\n",
      "Compare Results from  440\n",
      "- Miss Count: 2\n",
      "Compare Results from  261\n",
      "Compare Results from  281\n",
      "Compare Results from  73\n",
      "Compare Results from  247\n",
      "Compare Results from  197\n",
      "- Miss Count: 3\n",
      "Compare Results from  278\n",
      "Compare Results from  203\n",
      "Compare Results from  209\n",
      "Compare Results from  60\n",
      "Compare Results from  155\n",
      "Compare Results from  384\n",
      "Compare Results from  279\n",
      "- Miss Count: 5\n",
      "Compare Results from  91\n",
      "Compare Results from  244\n",
      "Compare Results from  94\n",
      "Compare Results from  331\n",
      "Compare Results from  323\n",
      "Compare Results from  498\n",
      "Compare Results from  235\n",
      "Compare Results from  427\n",
      "Compare Results from  471\n",
      "Compare Results from  399\n",
      "Compare Results from  486\n",
      "Compare Results from  320\n",
      "Compare Results from  361\n",
      "Compare Results from  214\n",
      "Compare Results from  291\n",
      "Compare Results from  274\n",
      "Compare Results from  462\n",
      "Compare Results from  472\n",
      "Compare Results from  44\n",
      "Compare Results from  391\n",
      "Compare Results from  276\n",
      "Compare Results from  158\n",
      "Compare Results from  43\n",
      "Compare Results from  113\n",
      "Compare Results from  49\n",
      "Compare Results from  476\n",
      "Compare Results from  143\n",
      "Compare Results from  497\n",
      "Compare Results from  352\n",
      "- Miss Count: 1\n",
      "Compare Results from  114\n",
      "Compare Results from  431\n",
      "Compare Results from  38\n",
      "- Miss Count: 1\n",
      "Compare Results from  441\n",
      "Compare Results from  254\n",
      "Compare Results from  364\n",
      "- Miss Count: 2\n",
      "Compare Results from  470\n",
      "Compare Results from  377\n",
      "Compare Results from  61\n",
      "- Miss Count: 1\n",
      "Compare Results from  64\n",
      "Compare Results from  161\n",
      "Compare Results from  12\n",
      "- Miss Count: 3\n",
      "Compare Results from  347\n",
      "Compare Results from  240\n",
      "Compare Results from  423\n",
      "Compare Results from  207\n",
      "Compare Results from  329\n",
      "Compare Results from  174\n",
      "- Miss Count: 2\n",
      "Compare Results from  234\n",
      "Compare Results from  267\n",
      "Compare Results from  357\n",
      "Compare Results from  71\n",
      "Compare Results from  218\n",
      "Compare Results from  473\n",
      "Compare Results from  340\n",
      "Compare Results from  459\n",
      "Compare Results from  191\n",
      "Compare Results from  460\n",
      "Compare Results from  475\n",
      "Compare Results from  501\n",
      "Compare Results from  137\n",
      "Compare Results from  217\n",
      "Compare Results from  434\n",
      "Compare Results from  140\n",
      "Compare Results from  223\n",
      "Compare Results from  169\n",
      "- Miss Count: 1\n",
      "Compare Results from  255\n",
      "Compare Results from  210\n",
      "- Miss Count: 4\n",
      "Compare Results from  192\n",
      "Compare Results from  253\n",
      "Compare Results from  59\n",
      "Compare Results from  171\n",
      "- Miss Count: 1\n",
      "Compare Results from  257\n",
      "- Miss Count: 4\n",
      "Compare Results from  382\n",
      "Compare Results from  307\n",
      "Compare Results from  362\n",
      "- Miss Count: 2\n",
      "Compare Results from  109\n",
      "Compare Results from  13\n",
      "Compare Results from  97\n",
      "Compare Results from  251\n",
      "Compare Results from  126\n",
      "Compare Results from  136\n",
      "Compare Results from  46\n",
      "- Miss Count: 2\n",
      "Compare Results from  285\n",
      "- Miss Count: 3\n",
      "Compare Results from  248\n",
      "Compare Results from  202\n",
      "Compare Results from  438\n",
      "Compare Results from  474\n",
      "Compare Results from  433\n",
      "Compare Results from  429\n",
      "Compare Results from  116\n",
      "Compare Results from  249\n",
      "Compare Results from  187\n",
      "Compare Results from  499\n",
      "Compare Results from  69\n",
      "- Miss Count: 1\n",
      "Compare Results from  468\n",
      "Compare Results from  51\n",
      "Compare Results from  275\n",
      "Compare Results from  477\n",
      "Compare Results from  500\n",
      "Compare Results from  211\n",
      "Compare Results from  351\n",
      "- Miss Count: 1\n",
      "Compare Results from  458\n",
      "Compare Results from  238\n",
      "Compare Results from  21\n",
      "Compare Results from  430\n",
      "Compare Results from  165\n",
      "Compare Results from  176\n",
      "Compare Results from  467\n",
      "Compare Results from  166\n",
      "Compare Results from  101\n",
      "Compare Results from  269\n",
      "Compare Results from  354\n",
      "Compare Results from  336\n",
      "Compare Results from  72\n",
      "- Miss Count: 3\n",
      "Compare Results from  465\n",
      "Compare Results from  485\n",
      "- Miss Count: 2\n",
      "Compare Results from  503\n",
      "Compare Results from  132\n",
      "Compare Results from  178\n",
      "Compare Results from  172\n",
      "Compare Results from  146\n",
      "Compare Results from  150\n",
      "Compare Results from  86\n",
      "Compare Results from  190\n",
      "Compare Results from  80\n",
      "Compare Results from  313\n",
      "Compare Results from  463\n",
      "Compare Results from  19\n",
      "- Miss Count: 3\n",
      "Compare Results from  299\n",
      "Compare Results from  428\n",
      "Compare Results from  385\n",
      "Compare Results from  469\n",
      "- Miss Count: 2\n",
      "Compare Results from  149\n",
      "Compare Results from  62\n",
      "Compare Results from  502\n",
      "Compare Results from  349\n",
      "Compare Results from  376\n",
      "Compare Results from  383\n",
      "- Miss Count: 3\n",
      "Compare Results from  208\n",
      "Compare Results from  379\n",
      "- Miss Count: 1\n",
      "Compare Results from  152\n",
      "Compare Results from  56\n",
      "Compare Results from  148\n",
      "Compare Results from  173\n",
      "- Miss Count: 2\n",
      "Compare Results from  250\n",
      "Compare Results from  494\n",
      "Compare Results from  496\n",
      "Compare Results from  373\n",
      "Compare Results from  135\n",
      "Compare Results from  392\n",
      "Compare Results from  199\n",
      "Compare Results from  337\n",
      "Compare Results from  68\n",
      "- Miss Count: 2\n",
      "Compare Results from  464\n",
      "Compare Results from  432\n",
      "Compare Results from  112\n",
      "Compare Results from  33\n",
      "Compare Results from  359\n",
      "Compare Results from  196\n",
      "Compare Results from  181\n",
      "Compare Results from  175\n",
      "Compare Results from  342\n",
      "Compare Results from  227\n",
      "Compare Results from  258\n",
      "Compare Results from  344\n",
      "Compare Results from  58\n",
      "Compare Results from  42\n",
      "- Miss Count: 2\n",
      "Compare Results from  81\n",
      "Compare Results from  177\n",
      "Compare Results from  437\n",
      "Compare Results from  439\n",
      "Compare Results from  225\n",
      "Compare Results from  426\n",
      "Compare Results from  127\n",
      "Compare Results from  300\n",
      "- Miss Count: 2\n",
      "Compare Results from  466\n",
      "Compare Results from  435\n",
      "Compare Results from  495\n",
      "Compare Results from  151\n",
      "Compare Results from  282\n",
      "Compare Results from  461\n",
      "Compare Results from  123\n",
      "- Miss Count: 2\n",
      "Compare Results from  185\n",
      "Compare Results from  396\n",
      "Compare Results from  418\n",
      "Compare Results from  141\n",
      "Compare Results from  138\n",
      "Compare Results from  139\n",
      "Compare Results from  134\n",
      "Compare Results from  122\n",
      "Compare Results from  82\n",
      "Compare Results from  360\n",
      "Compare Results from  133\n",
      "- Miss Count: 1\n",
      "Compare Results from  179\n",
      "Compare Results from  381\n",
      "- Miss Count: 2\n",
      "Compare Results from  215\n",
      "Compare Results from  252\n",
      "Compare Results from  167\n",
      "Compare Results from  14\n",
      "Compare Results from  280\n"
     ]
    }
   ],
   "source": [
    "saeki_cols = ['PCE_max', 'Voc', 'Jsc', 'FF']\n",
    "errors = [0.2, 0.02, 0.5, 0.01]\n",
    "total_miss = 0\n",
    "total_miss_individual = np.zeros(4)\n",
    "\n",
    "for paper_id in paper_ids:\n",
    "    print(\"Compare Results from \", paper_id)\n",
    "    tmp_result = [paper_id]\n",
    "    \n",
    "    saeki_result = saeki[saeki['Ref. No'] == 'S'+ str(paper_id)]\n",
    "    \n",
    "    te_subset = np.array([ x.split('_')[0] == paper_id for x in all_four_properties_df['Unnamed: 0'] ])\n",
    "    \n",
    "    te_result = all_four_properties_df[te_subset]\n",
    "    \n",
    "    miss_count = saeki_result.shape[0]\n",
    "    miss_count_2 = np.ones(4) * miss_count\n",
    "    count_not_full_but_individual_all_match = 0\n",
    "    \n",
    "    #print(saeki_result)\n",
    "    #print(te_result)\n",
    "    for i in range(saeki_result.shape[0]):\n",
    "        \n",
    "        sr = np.array(saeki_result.iloc[i, 3:].to_list())\n",
    "        full_match = False\n",
    "        partial_matched_sets = [set() for _ in range(4)]\n",
    "        \n",
    "        # find full match\n",
    "        for j in range(te_result.shape[0]):\n",
    "            te_raw = te_result.iloc[j, [7, 4, 5, 6]].to_list()\n",
    "            if all([isfloat(x) for x in te_raw]):\n",
    "\n",
    "                te = np.array([tofloat(x) for x in te_raw])\n",
    "\n",
    "                if te[1] > 100: te[1] /= 1000 #VOC\n",
    "                if te[3]  > 1: te[3] /= 100    #FF\n",
    "                #if te[0]  > 1: te[0] /= 100  #PCE   \n",
    "                #print(te, sr)\n",
    "                if all([abs(sr[k] - te[k]) <= errors[k] for k in range(4)]):\n",
    "                    miss_count -= 1\n",
    "                    miss_count_2 -=1\n",
    "                    full_match = True\n",
    "                    break\n",
    "                \n",
    "        if (not full_match):\n",
    "            sr_found = np.array([False, False, False, False])\n",
    "            #match individual ones\n",
    "            for j in range(te_result.shape[0]):\n",
    "                \n",
    "                if all(sr_found): \n",
    "                    count_not_full_but_individual_all_match += 1\n",
    "                    break\n",
    "                te_raw = te_result.iloc[j, [7, 4, 5, 6]].to_list()\n",
    "                \n",
    "                for k in range(4):\n",
    "                    if (j in partial_matched_sets[k]): continue\n",
    "                    \n",
    "                    if not sr_found[k] and isfloat(te_raw[k]):\n",
    "                        te = tofloat(te_raw[k])\n",
    "                        \n",
    "                        if k == 1 and te > 100: te /= 1000 #VOC\n",
    "                        if k == 3 and te > 1: te /= 100    #FF\n",
    "                        \n",
    "                        if abs(sr[k] - te) <= errors[k]:\n",
    "                            sr_found[k] = True\n",
    "                            miss_count_2[k] -= 1\n",
    "                            partial_matched_sets[k].add(j)\n",
    "\n",
    "    total_miss += miss_count\n",
    "    total_miss_individual += miss_count_2\n",
    "    if miss_count > 0 : print(\"- Miss Count:\", miss_count)"
   ]
  },
  {
   "cell_type": "code",
   "execution_count": 15,
   "id": "ef962922",
   "metadata": {},
   "outputs": [
    {
     "data": {
      "text/plain": [
       "66"
      ]
     },
     "execution_count": 15,
     "metadata": {},
     "output_type": "execute_result"
    }
   ],
   "source": [
    "total_miss"
   ]
  },
  {
   "cell_type": "code",
   "execution_count": 16,
   "id": "c57bae35",
   "metadata": {},
   "outputs": [
    {
     "data": {
      "text/plain": [
       "array([52., 12., 22., 17.])"
      ]
     },
     "execution_count": 16,
     "metadata": {},
     "output_type": "execute_result"
    }
   ],
   "source": [
    "total_miss_individual"
   ]
  },
  {
   "cell_type": "code",
   "execution_count": 17,
   "id": "b11f48f2",
   "metadata": {},
   "outputs": [
    {
     "data": {
      "text/plain": [
       "0"
      ]
     },
     "execution_count": 17,
     "metadata": {},
     "output_type": "execute_result"
    }
   ],
   "source": [
    "count_not_full_but_individual_all_match"
   ]
  },
  {
   "cell_type": "code",
   "execution_count": 72,
   "id": "b63d1a88",
   "metadata": {},
   "outputs": [],
   "source": [
    "paper_id = '169'\n",
    "\n",
    "saeki_result = saeki[saeki['Ref. No'] == 'S'+ str(paper_id)]\n",
    "te_subset = np.array([ x.split('_')[0] == paper_id for x in all_four_properties_df['Unnamed: 0'] ])\n",
    "te_result = all_four_properties_df[te_subset]\n",
    "te_subset = np.array([ x.split('_')[0] == paper_id for x in all_properties['Unnamed: 0'] ])\n",
    "te_result2 = all_properties[te_subset]"
   ]
  },
  {
   "cell_type": "code",
   "execution_count": 73,
   "id": "5fae7fa0",
   "metadata": {},
   "outputs": [
    {
     "data": {
      "text/html": [
       "<div>\n",
       "<style scoped>\n",
       "    .dataframe tbody tr th:only-of-type {\n",
       "        vertical-align: middle;\n",
       "    }\n",
       "\n",
       "    .dataframe tbody tr th {\n",
       "        vertical-align: top;\n",
       "    }\n",
       "\n",
       "    .dataframe thead th {\n",
       "        text-align: right;\n",
       "    }\n",
       "</style>\n",
       "<table border=\"1\" class=\"dataframe\">\n",
       "  <thead>\n",
       "    <tr style=\"text-align: right;\">\n",
       "      <th></th>\n",
       "      <th>ID No.</th>\n",
       "      <th>Nickname</th>\n",
       "      <th>Ref. No</th>\n",
       "      <th>PCE_max</th>\n",
       "      <th>Voc</th>\n",
       "      <th>Jsc</th>\n",
       "      <th>FF</th>\n",
       "    </tr>\n",
       "  </thead>\n",
       "  <tbody>\n",
       "    <tr>\n",
       "      <th>410</th>\n",
       "      <td>411</td>\n",
       "      <td>PBDT(O)-T1</td>\n",
       "      <td>S169</td>\n",
       "      <td>4.01</td>\n",
       "      <td>0.83</td>\n",
       "      <td>9.6</td>\n",
       "      <td>0.495</td>\n",
       "    </tr>\n",
       "    <tr>\n",
       "      <th>411</th>\n",
       "      <td>412</td>\n",
       "      <td>PBDT(S)-T1</td>\n",
       "      <td>S169</td>\n",
       "      <td>7.48</td>\n",
       "      <td>0.90</td>\n",
       "      <td>12.3</td>\n",
       "      <td>0.711</td>\n",
       "    </tr>\n",
       "    <tr>\n",
       "      <th>412</th>\n",
       "      <td>413</td>\n",
       "      <td>PBDT(Se)-T1</td>\n",
       "      <td>S169</td>\n",
       "      <td>8.52</td>\n",
       "      <td>0.92</td>\n",
       "      <td>13.1</td>\n",
       "      <td>0.721</td>\n",
       "    </tr>\n",
       "  </tbody>\n",
       "</table>\n",
       "</div>"
      ],
      "text/plain": [
       "     ID No.     Nickname Ref. No  PCE_max   Voc   Jsc     FF\n",
       "410     411   PBDT(O)-T1    S169     4.01  0.83   9.6  0.495\n",
       "411     412   PBDT(S)-T1    S169     7.48  0.90  12.3  0.711\n",
       "412     413  PBDT(Se)-T1    S169     8.52  0.92  13.1  0.721"
      ]
     },
     "execution_count": 73,
     "metadata": {},
     "output_type": "execute_result"
    }
   ],
   "source": [
    "saeki_result"
   ]
  },
  {
   "cell_type": "code",
   "execution_count": 74,
   "id": "5f513290",
   "metadata": {},
   "outputs": [
    {
     "data": {
      "text/html": [
       "<div>\n",
       "<style scoped>\n",
       "    .dataframe tbody tr th:only-of-type {\n",
       "        vertical-align: middle;\n",
       "    }\n",
       "\n",
       "    .dataframe tbody tr th {\n",
       "        vertical-align: top;\n",
       "    }\n",
       "\n",
       "    .dataframe thead th {\n",
       "        text-align: right;\n",
       "    }\n",
       "</style>\n",
       "<table border=\"1\" class=\"dataframe\">\n",
       "  <thead>\n",
       "    <tr style=\"text-align: right;\">\n",
       "      <th></th>\n",
       "      <th>Unnamed: 0</th>\n",
       "      <th>0</th>\n",
       "      <th>1</th>\n",
       "      <th>2</th>\n",
       "      <th>V OC (V)</th>\n",
       "      <th>J SC (mA/cm-2)</th>\n",
       "      <th>FF (%)</th>\n",
       "      <th>PCE (%)</th>\n",
       "    </tr>\n",
       "  </thead>\n",
       "  <tbody>\n",
       "    <tr>\n",
       "      <th>136</th>\n",
       "      <td>169_6_0</td>\n",
       "      <td>PBDT(O)-T1:PC70BM</td>\n",
       "      <td>NaN</td>\n",
       "      <td>NaN</td>\n",
       "      <td>0.83 ± 0.01</td>\n",
       "      <td>9.6 ± 0.2 (9.1)</td>\n",
       "      <td>49.5 ± 0.6</td>\n",
       "      <td>4.0 ± 0.1</td>\n",
       "    </tr>\n",
       "    <tr>\n",
       "      <th>137</th>\n",
       "      <td>169_6_1</td>\n",
       "      <td>PBDT(S)-T1:PC70BM</td>\n",
       "      <td>NaN</td>\n",
       "      <td>NaN</td>\n",
       "      <td>0.89 ± 0.01</td>\n",
       "      <td>12.2 ± 0.1 (12.1)</td>\n",
       "      <td>67.7 ± 0.4</td>\n",
       "      <td>7.3 ± 0.1</td>\n",
       "    </tr>\n",
       "    <tr>\n",
       "      <th>138</th>\n",
       "      <td>169_6_2</td>\n",
       "      <td>PBDT(Se)-T1:PC70BM</td>\n",
       "      <td>NaN</td>\n",
       "      <td>NaN</td>\n",
       "      <td>0.91 ± 0.01</td>\n",
       "      <td>13.0 ± 0.1 (12.6)</td>\n",
       "      <td>71.7 ± 0.4</td>\n",
       "      <td>8.4 ± 0.1</td>\n",
       "    </tr>\n",
       "  </tbody>\n",
       "</table>\n",
       "</div>"
      ],
      "text/plain": [
       "    Unnamed: 0                   0    1    2     V OC (V)     J SC (mA/cm-2)  \\\n",
       "136    169_6_0   PBDT(O)-T1:PC70BM  NaN  NaN  0.83 ± 0.01    9.6 ± 0.2 (9.1)   \n",
       "137    169_6_1   PBDT(S)-T1:PC70BM  NaN  NaN  0.89 ± 0.01  12.2 ± 0.1 (12.1)   \n",
       "138    169_6_2  PBDT(Se)-T1:PC70BM  NaN  NaN  0.91 ± 0.01  13.0 ± 0.1 (12.6)   \n",
       "\n",
       "         FF (%)    PCE (%)  \n",
       "136  49.5 ± 0.6  4.0 ± 0.1  \n",
       "137  67.7 ± 0.4  7.3 ± 0.1  \n",
       "138  71.7 ± 0.4  8.4 ± 0.1  "
      ]
     },
     "execution_count": 74,
     "metadata": {},
     "output_type": "execute_result"
    }
   ],
   "source": [
    "te_result"
   ]
  },
  {
   "cell_type": "code",
   "execution_count": 75,
   "id": "92fcb65f",
   "metadata": {},
   "outputs": [
    {
     "data": {
      "text/plain": [
       "array([947., 926., 957., 926.])"
      ]
     },
     "execution_count": 75,
     "metadata": {},
     "output_type": "execute_result"
    }
   ],
   "source": [
    "counts"
   ]
  },
  {
   "cell_type": "code",
   "execution_count": 76,
   "id": "8059f932",
   "metadata": {},
   "outputs": [
    {
     "data": {
      "text/plain": [
       "(482, 7)"
      ]
     },
     "execution_count": 76,
     "metadata": {},
     "output_type": "execute_result"
    }
   ],
   "source": [
    "saeki_subset.shape"
   ]
  },
  {
   "cell_type": "code",
   "execution_count": 77,
   "id": "cc67ae3a",
   "metadata": {},
   "outputs": [
    {
     "data": {
      "text/plain": [
       "array([106.,  47.,  81.,  85.])"
      ]
     },
     "execution_count": 77,
     "metadata": {},
     "output_type": "execute_result"
    }
   ],
   "source": [
    "total_miss_individual"
   ]
  },
  {
   "cell_type": "code",
   "execution_count": 78,
   "id": "65b52b9a",
   "metadata": {},
   "outputs": [
    {
     "data": {
      "text/plain": [
       "array([376., 435., 401., 397.])"
      ]
     },
     "execution_count": 78,
     "metadata": {},
     "output_type": "execute_result"
    }
   ],
   "source": [
    "TP = 482 - total_miss_individual\n",
    "TP"
   ]
  },
  {
   "cell_type": "code",
   "execution_count": 79,
   "id": "35944067",
   "metadata": {},
   "outputs": [
    {
     "data": {
      "text/plain": [
       "array([571., 491., 556., 529.])"
      ]
     },
     "execution_count": 79,
     "metadata": {},
     "output_type": "execute_result"
    }
   ],
   "source": [
    "FN = counts - TP\n",
    "FN"
   ]
  },
  {
   "cell_type": "code",
   "execution_count": 18,
   "id": "f658afea",
   "metadata": {},
   "outputs": [
    {
     "data": {
      "text/plain": [
       "(array([1306., 1277., 1361., 1252.]), array([52., 12., 22., 17.]))"
      ]
     },
     "execution_count": 18,
     "metadata": {},
     "output_type": "execute_result"
    }
   ],
   "source": [
    "counts, total_miss_individual"
   ]
  },
  {
   "cell_type": "code",
   "execution_count": 19,
   "id": "0eef16b6",
   "metadata": {},
   "outputs": [
    {
     "data": {
      "text/plain": [
       "array([430., 470., 460., 465.])"
      ]
     },
     "execution_count": 19,
     "metadata": {},
     "output_type": "execute_result"
    }
   ],
   "source": [
    "TP = 482 - total_miss_individual\n",
    "TP"
   ]
  },
  {
   "cell_type": "code",
   "execution_count": 20,
   "id": "0177ab7e",
   "metadata": {},
   "outputs": [
    {
     "data": {
      "text/plain": [
       "array([876., 807., 901., 787.])"
      ]
     },
     "execution_count": 20,
     "metadata": {},
     "output_type": "execute_result"
    }
   ],
   "source": [
    "FN = counts - TP\n",
    "FN"
   ]
  },
  {
   "cell_type": "code",
   "execution_count": 21,
   "id": "ee7a5f5f",
   "metadata": {},
   "outputs": [
    {
     "name": "stdout",
     "output_type": "stream",
     "text": [
      "['PCE', 'VOC', 'JSC', 'FF']\n"
     ]
    }
   ],
   "source": [
    "print(OPV_PROPERTIES)"
   ]
  },
  {
   "cell_type": "code",
   "execution_count": 22,
   "id": "74ed232e",
   "metadata": {},
   "outputs": [
    {
     "name": "stdout",
     "output_type": "stream",
     "text": [
      "['value_only_TP', 'value_only_FN', 'value_only_Miss', 'TP', 'FP', 'FN', 'Miss']\n"
     ]
    }
   ],
   "source": [
    "print(EXAM_TYPE)"
   ]
  },
  {
   "cell_type": "code",
   "execution_count": 25,
   "id": "cc34281f",
   "metadata": {},
   "outputs": [
    {
     "data": {
      "text/html": [
       "<div>\n",
       "<style scoped>\n",
       "    .dataframe tbody tr th:only-of-type {\n",
       "        vertical-align: middle;\n",
       "    }\n",
       "\n",
       "    .dataframe tbody tr th {\n",
       "        vertical-align: top;\n",
       "    }\n",
       "\n",
       "    .dataframe thead th {\n",
       "        text-align: right;\n",
       "    }\n",
       "</style>\n",
       "<table border=\"1\" class=\"dataframe\">\n",
       "  <thead>\n",
       "    <tr style=\"text-align: right;\">\n",
       "      <th></th>\n",
       "      <th>Property</th>\n",
       "      <th>Exam_type</th>\n",
       "      <th>Count</th>\n",
       "    </tr>\n",
       "  </thead>\n",
       "  <tbody>\n",
       "    <tr>\n",
       "      <th>0</th>\n",
       "      <td>PCE</td>\n",
       "      <td>value_only_TP</td>\n",
       "      <td>430.0</td>\n",
       "    </tr>\n",
       "    <tr>\n",
       "      <th>1</th>\n",
       "      <td>PCE</td>\n",
       "      <td>value_only_FN</td>\n",
       "      <td>876.0</td>\n",
       "    </tr>\n",
       "    <tr>\n",
       "      <th>2</th>\n",
       "      <td>PCE</td>\n",
       "      <td>value_only_Miss</td>\n",
       "      <td>52.0</td>\n",
       "    </tr>\n",
       "    <tr>\n",
       "      <th>3</th>\n",
       "      <td>VOC</td>\n",
       "      <td>value_only_TP</td>\n",
       "      <td>470.0</td>\n",
       "    </tr>\n",
       "    <tr>\n",
       "      <th>4</th>\n",
       "      <td>VOC</td>\n",
       "      <td>value_only_FN</td>\n",
       "      <td>807.0</td>\n",
       "    </tr>\n",
       "    <tr>\n",
       "      <th>5</th>\n",
       "      <td>VOC</td>\n",
       "      <td>value_only_Miss</td>\n",
       "      <td>12.0</td>\n",
       "    </tr>\n",
       "    <tr>\n",
       "      <th>6</th>\n",
       "      <td>JSC</td>\n",
       "      <td>value_only_TP</td>\n",
       "      <td>460.0</td>\n",
       "    </tr>\n",
       "    <tr>\n",
       "      <th>7</th>\n",
       "      <td>JSC</td>\n",
       "      <td>value_only_FN</td>\n",
       "      <td>901.0</td>\n",
       "    </tr>\n",
       "    <tr>\n",
       "      <th>8</th>\n",
       "      <td>JSC</td>\n",
       "      <td>value_only_Miss</td>\n",
       "      <td>22.0</td>\n",
       "    </tr>\n",
       "    <tr>\n",
       "      <th>9</th>\n",
       "      <td>FF</td>\n",
       "      <td>value_only_TP</td>\n",
       "      <td>465.0</td>\n",
       "    </tr>\n",
       "    <tr>\n",
       "      <th>10</th>\n",
       "      <td>FF</td>\n",
       "      <td>value_only_FN</td>\n",
       "      <td>787.0</td>\n",
       "    </tr>\n",
       "    <tr>\n",
       "      <th>11</th>\n",
       "      <td>FF</td>\n",
       "      <td>value_only_Miss</td>\n",
       "      <td>17.0</td>\n",
       "    </tr>\n",
       "  </tbody>\n",
       "</table>\n",
       "</div>"
      ],
      "text/plain": [
       "   Property        Exam_type  Count\n",
       "0       PCE    value_only_TP  430.0\n",
       "1       PCE    value_only_FN  876.0\n",
       "2       PCE  value_only_Miss   52.0\n",
       "3       VOC    value_only_TP  470.0\n",
       "4       VOC    value_only_FN  807.0\n",
       "5       VOC  value_only_Miss   12.0\n",
       "6       JSC    value_only_TP  460.0\n",
       "7       JSC    value_only_FN  901.0\n",
       "8       JSC  value_only_Miss   22.0\n",
       "9        FF    value_only_TP  465.0\n",
       "10       FF    value_only_FN  787.0\n",
       "11       FF  value_only_Miss   17.0"
      ]
     },
     "execution_count": 25,
     "metadata": {},
     "output_type": "execute_result"
    }
   ],
   "source": [
    "sum_results = [TP, FN, total_miss_individual]\n",
    "sum_df = pd.DataFrame(data=[], columns=['Property', 'Exam_type', 'Count'])\n",
    "\n",
    "for i in range(4):\n",
    "    p = OPV_PROPERTIES[i]\n",
    "    for j in range(3):\n",
    "        eT = EXAM_TYPE[j]\n",
    "        col = '_'.join([p,eT])\n",
    "        tmp_result = [p, eT, sum_results[j][i]]\n",
    "        temp_df = pd.DataFrame(data=[tmp_result], columns=['Property', 'Exam_type', 'Count'])\n",
    "        sum_df = pd.concat([sum_df, temp_df], ignore_index=True)\n",
    "\n",
    "sum_df"
   ]
  },
  {
   "cell_type": "code",
   "execution_count": 27,
   "id": "89ae8333",
   "metadata": {},
   "outputs": [],
   "source": [
    "import seaborn as sns\n",
    "import matplotlib.pyplot as plt"
   ]
  },
  {
   "cell_type": "code",
   "execution_count": 33,
   "id": "4e12f833",
   "metadata": {},
   "outputs": [
    {
     "data": {
      "image/png": "[encoded data removed]",
      "text/plain": [
       "<Figure size 648x648 with 1 Axes>"
      ]
     },
     "metadata": {
      "needs_background": "light"
     },
     "output_type": "display_data"
    }
   ],
   "source": [
    "fig,ax = plt.subplots(figsize=(9,9))\n",
    "\n",
    "sns.barplot(x=\"Property\", y=\"Count\", hue=\"Exam_type\", data=sum_df, ax=ax)\n",
    "\n",
    "ax.set_xlabel('Property', fontsize=20)\n",
    "ax.set_ylabel('Counts', fontsize=20)\n",
    "ax.tick_params(direction='out', length=6, width=2, labelsize=20)\n",
    "ax.legend(frameon=False, fontsize=20)\n",
    "\n",
    "ax.set_ylim([0, 1200])\n",
    "\n",
    "fig.savefig('./tableextractor_result.png', bbox_inches='tight') "
   ]
  },
  {
   "cell_type": "code",
   "execution_count": null,
   "id": "aaa942e2",
   "metadata": {},
   "outputs": [],
   "source": []
  }
 ],
 "metadata": {
  "kernelspec": {
   "display_name": "Python 3 (ipykernel)",
   "language": "python",
   "name": "python3"
  },
  "language_info": {
   "codemirror_mode": {
    "name": "ipython",
    "version": 3
   },
   "file_extension": ".py",
   "mimetype": "text/x-python",
   "name": "python",
   "nbconvert_exporter": "python",
   "pygments_lexer": "ipython3",
   "version": "3.8.12"
  }
 },
 "nbformat": 4,
 "nbformat_minor": 5
}
