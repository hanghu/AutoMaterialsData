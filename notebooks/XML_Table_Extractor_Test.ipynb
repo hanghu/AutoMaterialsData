{
 "cells": [
  {
   "cell_type": "code",
   "execution_count": 1,
   "metadata": {},
   "outputs": [],
   "source": [
    "import pandas as pd\n",
    "import numpy as np\n",
    "import sys\n",
    "import re\n",
    "import os\n",
    "import pandas as pd\n",
    "sys.path.append(\"../automaterialsdata/\")\n",
    "\n",
    "from table_extractor import get_all_files_with_extension\n",
    "from table_extractor import get_tables_from_xml_file\n",
    "from table_extractor import gather_properties_from_full_table"
   ]
  },
  {
   "cell_type": "code",
   "execution_count": 2,
   "metadata": {},
   "outputs": [
    {
     "data": {
      "text/plain": [
       "['/Users/hanghu/Desktop/msedatapipeline/JPCL2018-papers_notPDF/Elsevier_xml/68.xml',\n",
       " '/Users/hanghu/Desktop/msedatapipeline/JPCL2018-papers_notPDF/Elsevier_xml/114.xml',\n",
       " '/Users/hanghu/Desktop/msedatapipeline/JPCL2018-papers_notPDF/Elsevier_xml/127.xml',\n",
       " '/Users/hanghu/Desktop/msedatapipeline/JPCL2018-papers_notPDF/Elsevier_xml/135.xml',\n",
       " '/Users/hanghu/Desktop/msedatapipeline/JPCL2018-papers_notPDF/Elsevier_xml/141.xml',\n",
       " '/Users/hanghu/Desktop/msedatapipeline/JPCL2018-papers_notPDF/Elsevier_xml/146.xml',\n",
       " '/Users/hanghu/Desktop/msedatapipeline/JPCL2018-papers_notPDF/Elsevier_xml/151.xml',\n",
       " '/Users/hanghu/Desktop/msedatapipeline/JPCL2018-papers_notPDF/Elsevier_xml/155.xml',\n",
       " '/Users/hanghu/Desktop/msedatapipeline/JPCL2018-papers_notPDF/Elsevier_xml/174.xml',\n",
       " '/Users/hanghu/Desktop/msedatapipeline/JPCL2018-papers_notPDF/Elsevier_xml/190.xml']"
      ]
     },
     "execution_count": 2,
     "metadata": {},
     "output_type": "execute_result"
    }
   ],
   "source": [
    "Elsevier_xmls = get_all_files_with_extension('/Users/hanghu/Desktop/msedatapipeline/JPCL2018-papers_notPDF/Elsevier_xml', 'xml')\n",
    "Elsevier_xmls = sorted(Elsevier_xmls, key=lambda x: int(x.split('/')[-1][:-4]))\n",
    "Elsevier_xmls[:10]"
   ]
  },
  {
   "cell_type": "code",
   "execution_count": 3,
   "metadata": {},
   "outputs": [],
   "source": [
    "searching_patterns = [['VOC', 'VOC(V)'], \n",
    "                      ['JSC', 'Jsc(mAcm−2)','Avg.Jsc±std(mAcm−2)'], \n",
    "                      ['FF', 'FF(%)'],\n",
    "                      ['PCE', 'PCE(%)', 'Avg.PCE±std(%)', 'Avg.PCE', 'Max.PCE']]\n",
    "output_headers = ['V OC (V)', 'J SC (mA/cm-2)', 'FF (%)', 'PCE (%)'] \n",
    "\n",
    "all_properties = pd.DataFrame()\n",
    "paper_count = -1\n",
    "\n",
    "for paper in Elsevier_xmls[:10]:\n",
    "    \n",
    "    paper_count += 1\n",
    "    table_count = -1\n",
    "    \n",
    "    for table, table_header in zip(*get_tables_from_xml_file(paper)):\n",
    "        table_count += 1\n",
    "        \n",
    "        properties_table = gather_properties_from_full_table(table, table_header, searching_patterns, output_headers)\n",
    "        \n",
    "        if properties_table is None: continue \n",
    "\n",
    "        global_idx = []\n",
    "        for row in range(len(properties_table.index)):\n",
    "            to_append = str(paper_count) + '_' + str(table_count) + '_' + str(row) #Article Index + Table Index + Row Index \n",
    "            global_idx.append(to_append)\n",
    "            \n",
    "        properties_table.index = global_idx\n",
    "        all_properties = pd.concat([all_properties, properties_table], sort=False)"
   ]
  },
  {
   "cell_type": "code",
   "execution_count": 4,
   "metadata": {},
   "outputs": [
    {
     "data": {
      "text/html": [
       "<div>\n",
       "<style scoped>\n",
       "    .dataframe tbody tr th:only-of-type {\n",
       "        vertical-align: middle;\n",
       "    }\n",
       "\n",
       "    .dataframe tbody tr th {\n",
       "        vertical-align: top;\n",
       "    }\n",
       "\n",
       "    .dataframe thead th {\n",
       "        text-align: right;\n",
       "    }\n",
       "</style>\n",
       "<table border=\"1\" class=\"dataframe\">\n",
       "  <thead>\n",
       "    <tr style=\"text-align: right;\">\n",
       "      <th></th>\n",
       "      <th>0</th>\n",
       "      <th>1</th>\n",
       "      <th>2</th>\n",
       "      <th>V OC (V)</th>\n",
       "      <th>J SC (mA/cm-2)</th>\n",
       "      <th>FF (%)</th>\n",
       "      <th>PCE (%)</th>\n",
       "    </tr>\n",
       "  </thead>\n",
       "  <tbody>\n",
       "    <tr>\n",
       "      <th>0_2_0</th>\n",
       "      <td>In ODCB drop-coating</td>\n",
       "      <td></td>\n",
       "      <td></td>\n",
       "      <td>0.82</td>\n",
       "      <td>5.62</td>\n",
       "      <td>42.48</td>\n",
       "      <td>1.96</td>\n",
       "    </tr>\n",
       "    <tr>\n",
       "      <th>0_2_1</th>\n",
       "      <td></td>\n",
       "      <td>PBDTPO-FBT:PC71BM=1:1.5</td>\n",
       "      <td></td>\n",
       "      <td>0.81</td>\n",
       "      <td>5.80</td>\n",
       "      <td>40.29</td>\n",
       "      <td>1.89</td>\n",
       "    </tr>\n",
       "    <tr>\n",
       "      <th>0_2_2</th>\n",
       "      <td></td>\n",
       "      <td>PBDTPO-FBT:PC71BM=1:2</td>\n",
       "      <td></td>\n",
       "      <td>0.77</td>\n",
       "      <td>5.63</td>\n",
       "      <td>36.64</td>\n",
       "      <td>1.59</td>\n",
       "    </tr>\n",
       "    <tr>\n",
       "      <th>0_2_3</th>\n",
       "      <td>In ODCB with DIO drop-coating</td>\n",
       "      <td></td>\n",
       "      <td></td>\n",
       "      <td>0.81</td>\n",
       "      <td>6.72</td>\n",
       "      <td>45.72</td>\n",
       "      <td>2.49</td>\n",
       "    </tr>\n",
       "    <tr>\n",
       "      <th>0_2_4</th>\n",
       "      <td>3%</td>\n",
       "      <td></td>\n",
       "      <td></td>\n",
       "      <td>0.79</td>\n",
       "      <td>7.23</td>\n",
       "      <td>47.08</td>\n",
       "      <td>2.70</td>\n",
       "    </tr>\n",
       "  </tbody>\n",
       "</table>\n",
       "</div>"
      ],
      "text/plain": [
       "                                   0                        1 2 V OC (V)  \\\n",
       "0_2_0           In ODCB drop-coating                                0.82   \n",
       "0_2_1                                 PBDTPO-FBT:PC71BM=1:1.5       0.81   \n",
       "0_2_2                                   PBDTPO-FBT:PC71BM=1:2       0.77   \n",
       "0_2_3  In ODCB with DIO drop-coating                                0.81   \n",
       "0_2_4                             3%                                0.79   \n",
       "\n",
       "      J SC (mA/cm-2) FF (%) PCE (%)  \n",
       "0_2_0           5.62  42.48    1.96  \n",
       "0_2_1           5.80  40.29    1.89  \n",
       "0_2_2           5.63  36.64    1.59  \n",
       "0_2_3           6.72  45.72    2.49  \n",
       "0_2_4           7.23  47.08    2.70  "
      ]
     },
     "execution_count": 4,
     "metadata": {},
     "output_type": "execute_result"
    }
   ],
   "source": [
    "all_properties.head(5)"
   ]
  },
  {
   "cell_type": "code",
   "execution_count": null,
   "metadata": {},
   "outputs": [],
   "source": []
  }
 ],
 "metadata": {
  "kernelspec": {
   "display_name": "Python 3 (ipykernel)",
   "language": "python",
   "name": "python3"
  },
  "language_info": {
   "codemirror_mode": {
    "name": "ipython",
    "version": 3
   },
   "file_extension": ".py",
   "mimetype": "text/x-python",
   "name": "python",
   "nbconvert_exporter": "python",
   "pygments_lexer": "ipython3",
   "version": "3.8.12"
  }
 },
 "nbformat": 4,
 "nbformat_minor": 4
}
