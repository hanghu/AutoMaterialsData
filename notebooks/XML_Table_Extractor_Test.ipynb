{
 "cells": [
  {
   "cell_type": "code",
   "execution_count": 1,
   "metadata": {},
   "outputs": [],
   "source": [
    "import pandas as pd\n",
    "import numpy as np\n",
    "import sys\n",
    "import re\n",
    "import os\n",
    "import pandas as pd\n",
    "sys.path.append(\"../automaterialsdata/\")\n",
    "\n",
    "from table_extractor import get_all_files_with_extension\n",
    "from table_extractor import get_tables_from_xml_file\n",
    "from table_extractor import gather_properties_from_full_table"
   ]
  },
  {
   "cell_type": "code",
   "execution_count": 2,
   "metadata": {},
   "outputs": [
    {
     "data": {
      "text/plain": [
       "['/Users/hanghu/Desktop/msedatapipeline/JPCL2018-papers_notPDF/Elsevier_xml/68.xml',\n",
       " '/Users/hanghu/Desktop/msedatapipeline/JPCL2018-papers_notPDF/Elsevier_xml/114.xml',\n",
       " '/Users/hanghu/Desktop/msedatapipeline/JPCL2018-papers_notPDF/Elsevier_xml/127.xml',\n",
       " '/Users/hanghu/Desktop/msedatapipeline/JPCL2018-papers_notPDF/Elsevier_xml/135.xml',\n",
       " '/Users/hanghu/Desktop/msedatapipeline/JPCL2018-papers_notPDF/Elsevier_xml/141.xml',\n",
       " '/Users/hanghu/Desktop/msedatapipeline/JPCL2018-papers_notPDF/Elsevier_xml/146.xml',\n",
       " '/Users/hanghu/Desktop/msedatapipeline/JPCL2018-papers_notPDF/Elsevier_xml/151.xml',\n",
       " '/Users/hanghu/Desktop/msedatapipeline/JPCL2018-papers_notPDF/Elsevier_xml/155.xml',\n",
       " '/Users/hanghu/Desktop/msedatapipeline/JPCL2018-papers_notPDF/Elsevier_xml/174.xml',\n",
       " '/Users/hanghu/Desktop/msedatapipeline/JPCL2018-papers_notPDF/Elsevier_xml/190.xml']"
      ]
     },
     "execution_count": 2,
     "metadata": {},
     "output_type": "execute_result"
    }
   ],
   "source": [
    "Elsevier_xmls = get_all_files_with_extension('/Users/hanghu/Desktop/msedatapipeline/JPCL2018-papers_notPDF/Elsevier_xml', 'xml')\n",
    "Elsevier_xmls = sorted(Elsevier_xmls, key=lambda x: int(x.split('/')[-1][:-4]))\n",
    "Elsevier_xmls[:10]"
   ]
  },
  {
   "cell_type": "code",
   "execution_count": 3,
   "metadata": {},
   "outputs": [
    {
     "name": "stdout",
     "output_type": "stream",
     "text": [
      "/Users/hanghu/Desktop/msedatapipeline/JPCL2018-papers_notPDF/Elsevier_xml/484.xml\n",
      "found property tables in  46  papers (out of  47 )\n"
     ]
    }
   ],
   "source": [
    "searching_patterns = [['VOC', 'VOC(V)'], \n",
    "                      ['JSC', 'Jsc(mAcm−2)','Avg.Jsc±std(mAcm−2)'], \n",
    "                      ['FF', 'FF(%)'],\n",
    "                      ['PCE', 'PCE(%)', 'Avg.PCE±std(%)', 'Avg.PCE', 'Max.PCE']]\n",
    "output_headers = ['V OC (V)', 'J SC (mA/cm-2)', 'FF (%)', 'PCE (%)'] \n",
    "\n",
    "all_properties = pd.DataFrame()\n",
    "paper_count = -1\n",
    "found_table_count = 0\n",
    "\n",
    "for paper in Elsevier_xmls:\n",
    "    \n",
    "    paper_count += 1\n",
    "    found_property_table = False\n",
    "    table_count = -1\n",
    "    paper_id = paper.split('/')[-1].split('.')[0]\n",
    "    \n",
    "    for table, table_header in zip(*get_tables_from_xml_file(paper)):\n",
    "        table_count += 1\n",
    "        \n",
    "        properties_table = gather_properties_from_full_table(table, table_header, searching_patterns, output_headers)\n",
    "        \n",
    "        if properties_table is None: continue \n",
    "        found_property_table = True\n",
    "        \n",
    "        global_idx = []\n",
    "        for row in range(len(properties_table.index)):\n",
    "            to_append = str(paper_id) + '_' + str(table_count) + '_' + str(row) #Article Index + Table Index + Row Index \n",
    "            global_idx.append(to_append)\n",
    "            \n",
    "        properties_table.index = global_idx\n",
    "        all_properties = pd.concat([all_properties, properties_table], sort=False)\n",
    "        \n",
    "    if not found_property_table:\n",
    "        print(paper)\n",
    "    else:\n",
    "        found_table_count += 1\n",
    "        \n",
    "all_properties.to_csv('../data/Elsevier_XMLs_Table_Extractor_Reuslts.csv',encoding='utf-8')\n",
    "print(\"found property tables in \", found_table_count, \" papers (out of \", len(Elsevier_xmls), \")\")\n",
    "        "
   ]
  },
  {
   "cell_type": "code",
   "execution_count": null,
   "metadata": {},
   "outputs": [],
   "source": []
  }
 ],
 "metadata": {
  "kernelspec": {
   "display_name": "Python 3 (ipykernel)",
   "language": "python",
   "name": "python3"
  },
  "language_info": {
   "codemirror_mode": {
    "name": "ipython",
    "version": 3
   },
   "file_extension": ".py",
   "mimetype": "text/x-python",
   "name": "python",
   "nbconvert_exporter": "python",
   "pygments_lexer": "ipython3",
   "version": "3.8.12"
  }
 },
 "nbformat": 4,
 "nbformat_minor": 4
}
