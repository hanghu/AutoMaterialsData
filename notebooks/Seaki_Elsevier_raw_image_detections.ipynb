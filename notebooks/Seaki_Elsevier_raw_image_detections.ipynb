{
 "cells": [
  {
   "cell_type": "code",
   "execution_count": 1,
   "metadata": {},
   "outputs": [
    {
     "name": "stderr",
     "output_type": "stream",
     "text": [
      "RDKit WARNING: [17:40:17] Enabling RDKit 2019.09.3 jupyter extensions\n"
     ]
    }
   ],
   "source": [
    "import os\n",
    "import cv2\n",
    "import chemschematicresolver as csr\n",
    "from matplotlib import pyplot as plt\n",
    "from skimage import io\n",
    "from rdkit import Chem\n",
    "from rdkit.Chem.Draw import IPythonConsole\n",
    "from rdkit.Chem import Draw\n",
    "import json\n",
    "IPythonConsole.molSize = 500,500\n",
    "plt.rcParams[\"figure.figsize\"] = (8,8)"
   ]
  },
  {
   "cell_type": "code",
   "execution_count": 20,
   "metadata": {},
   "outputs": [],
   "source": [
    "molecules_dir_train = './elsevier_images/train/image'\n",
    "\n",
    "raw_images = []\n",
    "\n",
    "for file in os.listdir(molecules_dir_train):\n",
    "    if file.endswith(\".jpeg\"):\n",
    "        raw_images.append(os.path.join(molecules_dir_train, file))\n",
    "        \n",
    "        \n",
    "molecules_dir_test = './elsevier_images/test/image'\n",
    "\n",
    "for file in os.listdir(molecules_dir_test):\n",
    "    if file.endswith(\".jpeg\"):\n",
    "        raw_images.append(os.path.join(molecules_dir_test, file))"
   ]
  },
  {
   "cell_type": "code",
   "execution_count": 21,
   "metadata": {},
   "outputs": [
    {
     "data": {
      "text/plain": [
       "454"
      ]
     },
     "execution_count": 21,
     "metadata": {},
     "output_type": "execute_result"
    }
   ],
   "source": [
    "len(raw_images)"
   ]
  },
  {
   "cell_type": "code",
   "execution_count": 23,
   "metadata": {},
   "outputs": [
    {
     "name": "stdout",
     "output_type": "stream",
     "text": [
      "extract image:  ./elsevier_images/train/image/114_fx1.jpeg\n"
     ]
    },
    {
     "name": "stderr",
     "output_type": "stream",
     "text": [
      "WARNING:chemschematicresolver.extract:Confidence of label 1 deemed too low for extraction\n",
      "WARNING:chemschematicresolver.extract:Confidence of label 0 deemed too low for extraction\n",
      "WARNING:chemschematicresolver.extract:Confidence of label 2 deemed too low for extraction\n"
     ]
    },
    {
     "name": "stdout",
     "output_type": "stream",
     "text": [
      "extract image:  ./elsevier_images/train/image/114_gr1.jpeg\n"
     ]
    },
    {
     "name": "stderr",
     "output_type": "stream",
     "text": [
      "WARNING:chemschematicresolver.extract:Confidence of label 1 deemed too low for extraction\n",
      "WARNING:chemschematicresolver.extract:Confidence of label 0 deemed too low for extraction\n",
      "WARNING:chemschematicresolver.extract:Confidence of label 1 deemed too low for extraction\n"
     ]
    },
    {
     "name": "stdout",
     "output_type": "stream",
     "text": [
      "extract image:  ./elsevier_images/train/image/114_gr2.jpeg\n"
     ]
    },
    {
     "name": "stderr",
     "output_type": "stream",
     "text": [
      "WARNING:chemschematicresolver.extract:Confidence of label 4 deemed too low for extraction\n"
     ]
    },
    {
     "name": "stdout",
     "output_type": "stream",
     "text": [
      "extract image:  ./elsevier_images/train/image/114_gr3.jpeg\n",
      "Runtime error, no smiles\n",
      "extract image:  ./elsevier_images/train/image/114_gr4.jpeg\n"
     ]
    },
    {
     "name": "stderr",
     "output_type": "stream",
     "text": [
      "WARNING:chemschematicresolver.extract:Confidence of label 7 deemed too low for extraction\n",
      "WARNING:chemschematicresolver.actions:No SMILES string was extracted for diagram 11\n",
      "WARNING:chemschematicresolver.extract:Some SMILES strings were determined to be false positives and were removed from the output.\n"
     ]
    },
    {
     "name": "stdout",
     "output_type": "stream",
     "text": [
      "extract image:  ./elsevier_images/train/image/114_gr5.jpeg\n"
     ]
    },
    {
     "name": "stderr",
     "output_type": "stream",
     "text": [
      "WARNING:chemschematicresolver.extract:Confidence of label 1 deemed too low for extraction\n",
      "WARNING:chemschematicresolver.extract:Confidence of label 0 deemed too low for extraction\n"
     ]
    },
    {
     "name": "stdout",
     "output_type": "stream",
     "text": [
      "extract image:  ./elsevier_images/train/image/114_gr6.jpeg\n"
     ]
    },
    {
     "name": "stderr",
     "output_type": "stream",
     "text": [
      "WARNING:chemschematicresolver.extract:Confidence of label 0 deemed too low for extraction\n"
     ]
    },
    {
     "name": "stdout",
     "output_type": "stream",
     "text": [
      "extract image:  ./elsevier_images/train/image/114_sc1.jpeg\n"
     ]
    },
    {
     "name": "stderr",
     "output_type": "stream",
     "text": [
      "WARNING:chemschematicresolver.extract:Confidence of label 1 deemed too low for extraction\n",
      "WARNING:chemschematicresolver.extract:Confidence of label 4 deemed too low for extraction\n",
      "WARNING:chemschematicresolver.extract:Text could not be resolved from label 0\n",
      "WARNING:chemschematicresolver.extract:Confidence of label 0 deemed too low for extraction\n"
     ]
    },
    {
     "name": "stdout",
     "output_type": "stream",
     "text": [
      "extract image:  ./elsevier_images/train/image/127_fx1.jpeg\n"
     ]
    },
    {
     "name": "stderr",
     "output_type": "stream",
     "text": [
      "WARNING:chemschematicresolver.extract:Confidence of label 3 deemed too low for extraction\n",
      "WARNING:chemschematicresolver.extract:Confidence of label 5 deemed too low for extraction\n",
      "WARNING:chemschematicresolver.extract:Confidence of label 4 deemed too low for extraction\n",
      "WARNING:chemschematicresolver.extract:Confidence of label 0 deemed too low for extraction\n"
     ]
    },
    {
     "name": "stdout",
     "output_type": "stream",
     "text": [
      "extract image:  ./elsevier_images/train/image/127_gr1.jpeg\n"
     ]
    },
    {
     "name": "stderr",
     "output_type": "stream",
     "text": [
      "WARNING:chemschematicresolver.extract:Confidence of label 1 deemed too low for extraction\n",
      "WARNING:chemschematicresolver.extract:Confidence of label 0 deemed too low for extraction\n"
     ]
    },
    {
     "name": "stdout",
     "output_type": "stream",
     "text": [
      "extract image:  ./elsevier_images/train/image/127_gr2.jpeg\n",
      "extract image:  ./elsevier_images/train/image/127_gr3.jpeg\n",
      "extract image:  ./elsevier_images/train/image/127_gr4.jpeg\n"
     ]
    },
    {
     "name": "stderr",
     "output_type": "stream",
     "text": [
      "WARNING:chemschematicresolver.extract:Confidence of label 1 deemed too low for extraction\n",
      "WARNING:chemschematicresolver.extract:Confidence of label 1 deemed too low for extraction\n"
     ]
    },
    {
     "name": "stdout",
     "output_type": "stream",
     "text": [
      "extract image:  ./elsevier_images/train/image/127_gr6.jpeg\n",
      "extract image:  ./elsevier_images/train/image/127_gr7.jpeg\n"
     ]
    },
    {
     "name": "stderr",
     "output_type": "stream",
     "text": [
      "WARNING:chemschematicresolver.actions:No SMILES string was extracted for diagram 2\n",
      "WARNING:chemschematicresolver.extract:Some SMILES strings were determined to be false positives and were removed from the output.\n"
     ]
    },
    {
     "name": "stdout",
     "output_type": "stream",
     "text": [
      "extract image:  ./elsevier_images/train/image/127_gr8.jpeg\n"
     ]
    },
    {
     "name": "stderr",
     "output_type": "stream",
     "text": [
      "WARNING:chemschematicresolver.extract:Confidence of label 1 deemed too low for extraction\n",
      "WARNING:chemschematicresolver.extract:Confidence of label 0 deemed too low for extraction\n"
     ]
    },
    {
     "name": "stdout",
     "output_type": "stream",
     "text": [
      "extract image:  ./elsevier_images/train/image/135_fx1.jpeg\n"
     ]
    },
    {
     "name": "stderr",
     "output_type": "stream",
     "text": [
      "WARNING:chemschematicresolver.r_group:No SMILES strings were extracted for diagram 2\n"
     ]
    },
    {
     "name": "stdout",
     "output_type": "stream",
     "text": [
      "extract image:  ./elsevier_images/train/image/135_gr1.jpeg\n"
     ]
    },
    {
     "name": "stderr",
     "output_type": "stream",
     "text": [
      "WARNING:chemschematicresolver.actions:No SMILES string was extracted for diagram 3\n",
      "WARNING:chemschematicresolver.extract:Confidence of label 2 deemed too low for extraction\n",
      "WARNING:chemschematicresolver.extract:Some SMILES strings were determined to be false positives and were removed from the output.\n"
     ]
    },
    {
     "name": "stdout",
     "output_type": "stream",
     "text": [
      "extract image:  ./elsevier_images/train/image/135_gr10.jpeg\n"
     ]
    },
    {
     "name": "stderr",
     "output_type": "stream",
     "text": [
      "WARNING:chemschematicresolver.extract:Confidence of label 0 deemed too low for extraction\n",
      "WARNING:chemschematicresolver.extract:Confidence of label 1 deemed too low for extraction\n",
      "WARNING:chemschematicresolver.extract:Confidence of label 2 deemed too low for extraction\n"
     ]
    },
    {
     "name": "stdout",
     "output_type": "stream",
     "text": [
      "extract image:  ./elsevier_images/train/image/135_gr2.jpeg\n"
     ]
    },
    {
     "name": "stderr",
     "output_type": "stream",
     "text": [
      "WARNING:chemschematicresolver.actions:No SMILES string was extracted for diagram 5\n",
      "WARNING:chemschematicresolver.extract:Some SMILES strings were determined to be false positives and were removed from the output.\n"
     ]
    },
    {
     "name": "stdout",
     "output_type": "stream",
     "text": [
      "extract image:  ./elsevier_images/train/image/135_gr3.jpeg\n"
     ]
    },
    {
     "name": "stderr",
     "output_type": "stream",
     "text": [
      "WARNING:chemschematicresolver.extract:Confidence of label 7 deemed too low for extraction\n",
      "WARNING:chemschematicresolver.actions:No SMILES string was extracted for diagram 10\n",
      "WARNING:chemschematicresolver.extract:Some SMILES strings were determined to be false positives and were removed from the output.\n"
     ]
    },
    {
     "name": "stdout",
     "output_type": "stream",
     "text": [
      "extract image:  ./elsevier_images/train/image/135_gr4.jpeg\n"
     ]
    },
    {
     "name": "stderr",
     "output_type": "stream",
     "text": [
      "WARNING:chemschematicresolver.actions:No SMILES string was extracted for diagram 4\n",
      "WARNING:chemschematicresolver.extract:Confidence of label 2 deemed too low for extraction\n",
      "WARNING:chemschematicresolver.extract:Some SMILES strings were determined to be false positives and were removed from the output.\n"
     ]
    },
    {
     "name": "stdout",
     "output_type": "stream",
     "text": [
      "extract image:  ./elsevier_images/train/image/135_gr5.jpeg\n"
     ]
    },
    {
     "name": "stderr",
     "output_type": "stream",
     "text": [
      "WARNING:chemschematicresolver.extract:Confidence of label 0 deemed too low for extraction\n",
      "WARNING:chemschematicresolver.extract:Confidence of label 3 deemed too low for extraction\n"
     ]
    },
    {
     "name": "stdout",
     "output_type": "stream",
     "text": [
      "extract image:  ./elsevier_images/train/image/135_gr6.jpeg\n"
     ]
    },
    {
     "name": "stderr",
     "output_type": "stream",
     "text": [
      "WARNING:chemschematicresolver.extract:Confidence of label 5 deemed too low for extraction\n",
      "WARNING:chemschematicresolver.extract:Confidence of label 4 deemed too low for extraction\n",
      "WARNING:chemschematicresolver.actions:No SMILES string was extracted for diagram 8\n",
      "WARNING:chemschematicresolver.extract:Some SMILES strings were determined to be false positives and were removed from the output.\n"
     ]
    },
    {
     "name": "stdout",
     "output_type": "stream",
     "text": [
      "extract image:  ./elsevier_images/train/image/135_gr7.jpeg\n"
     ]
    },
    {
     "name": "stderr",
     "output_type": "stream",
     "text": [
      "WARNING:chemschematicresolver.extract:Confidence of label 0 deemed too low for extraction\n"
     ]
    },
    {
     "name": "stdout",
     "output_type": "stream",
     "text": [
      "extract image:  ./elsevier_images/train/image/135_gr8.jpeg\n"
     ]
    },
    {
     "name": "stderr",
     "output_type": "stream",
     "text": [
      "WARNING:chemschematicresolver.extract:Confidence of label 1 deemed too low for extraction\n"
     ]
    },
    {
     "name": "stdout",
     "output_type": "stream",
     "text": [
      "extract image:  ./elsevier_images/train/image/135_gr9.jpeg\n"
     ]
    },
    {
     "name": "stderr",
     "output_type": "stream",
     "text": [
      "WARNING:chemschematicresolver.extract:Confidence of label 7 deemed too low for extraction\n",
      "WARNING:chemschematicresolver.extract:Confidence of label 6 deemed too low for extraction\n",
      "WARNING:chemschematicresolver.extract:Confidence of label 5 deemed too low for extraction\n"
     ]
    },
    {
     "name": "stdout",
     "output_type": "stream",
     "text": [
      "extract image:  ./elsevier_images/train/image/141_fx1.jpeg\n"
     ]
    },
    {
     "name": "stderr",
     "output_type": "stream",
     "text": [
      "WARNING:chemschematicresolver.actions:No SMILES string was extracted for diagram 4\n",
      "WARNING:chemschematicresolver.actions:No SMILES string was extracted for diagram 6\n",
      "WARNING:chemschematicresolver.extract:Confidence of label 0 deemed too low for extraction\n",
      "WARNING:chemschematicresolver.extract:Some SMILES strings were determined to be false positives and were removed from the output.\n"
     ]
    },
    {
     "name": "stdout",
     "output_type": "stream",
     "text": [
      "extract image:  ./elsevier_images/train/image/141_gr1.jpeg\n"
     ]
    },
    {
     "name": "stderr",
     "output_type": "stream",
     "text": [
      "WARNING:chemschematicresolver.extract:Confidence of label 2 deemed too low for extraction\n"
     ]
    },
    {
     "name": "stdout",
     "output_type": "stream",
     "text": [
      "extract image:  ./elsevier_images/train/image/141_gr2.jpeg\n"
     ]
    },
    {
     "name": "stderr",
     "output_type": "stream",
     "text": [
      "WARNING:chemschematicresolver.extract:Confidence of label 1 deemed too low for extraction\n"
     ]
    },
    {
     "name": "stdout",
     "output_type": "stream",
     "text": [
      "extract image:  ./elsevier_images/train/image/141_gr3.jpeg\n"
     ]
    },
    {
     "name": "stderr",
     "output_type": "stream",
     "text": [
      "WARNING:chemschematicresolver.actions:No SMILES string was extracted for diagram 6\n",
      "WARNING:chemschematicresolver.actions:No SMILES string was extracted for diagram 7\n",
      "WARNING:chemschematicresolver.extract:Some SMILES strings were determined to be false positives and were removed from the output.\n"
     ]
    },
    {
     "name": "stdout",
     "output_type": "stream",
     "text": [
      "extract image:  ./elsevier_images/train/image/141_gr4.jpeg\n"
     ]
    },
    {
     "name": "stderr",
     "output_type": "stream",
     "text": [
      "WARNING:chemschematicresolver.extract:Confidence of label 0 deemed too low for extraction\n"
     ]
    },
    {
     "name": "stdout",
     "output_type": "stream",
     "text": [
      "extract image:  ./elsevier_images/train/image/141_gr5.jpeg\n",
      "Runtime error, no smiles\n",
      "extract image:  ./elsevier_images/train/image/141_gr6.jpeg\n"
     ]
    },
    {
     "name": "stderr",
     "output_type": "stream",
     "text": [
      "WARNING:chemschematicresolver.extract:Confidence of label 7 deemed too low for extraction\n",
      "WARNING:chemschematicresolver.extract:Confidence of label 0 deemed too low for extraction\n",
      "WARNING:chemschematicresolver.extract:Confidence of label 6 deemed too low for extraction\n",
      "WARNING:chemschematicresolver.extract:Confidence of label 4 deemed too low for extraction\n"
     ]
    },
    {
     "name": "stdout",
     "output_type": "stream",
     "text": [
      "extract image:  ./elsevier_images/train/image/141_gr7.jpeg\n"
     ]
    },
    {
     "name": "stderr",
     "output_type": "stream",
     "text": [
      "WARNING:chemschematicresolver.extract:Confidence of label 5 deemed too low for extraction\n",
      "WARNING:chemschematicresolver.extract:Confidence of label 6 deemed too low for extraction\n",
      "WARNING:chemschematicresolver.extract:Confidence of label 1 deemed too low for extraction\n",
      "WARNING:chemschematicresolver.extract:Confidence of label 3 deemed too low for extraction\n",
      "WARNING:chemschematicresolver.extract:Confidence of label 2 deemed too low for extraction\n"
     ]
    },
    {
     "name": "stdout",
     "output_type": "stream",
     "text": [
      "extract image:  ./elsevier_images/train/image/146_gr1.jpeg\n"
     ]
    },
    {
     "name": "stderr",
     "output_type": "stream",
     "text": [
      "WARNING:chemschematicresolver.actions:No SMILES string was extracted for diagram 5\n",
      "WARNING:chemschematicresolver.extract:Confidence of label 2 deemed too low for extraction\n",
      "WARNING:chemschematicresolver.extract:Some SMILES strings were determined to be false positives and were removed from the output.\n"
     ]
    },
    {
     "name": "stdout",
     "output_type": "stream",
     "text": [
      "extract image:  ./elsevier_images/train/image/146_gr2.jpeg\n",
      "Runtime error, no smiles\n",
      "extract image:  ./elsevier_images/train/image/146_gr3.jpeg\n"
     ]
    },
    {
     "name": "stderr",
     "output_type": "stream",
     "text": [
      "WARNING:chemschematicresolver.extract:Confidence of label 2 deemed too low for extraction\n",
      "WARNING:chemschematicresolver.extract:Confidence of label 4 deemed too low for extraction\n",
      "WARNING:chemschematicresolver.actions:No SMILES string was extracted for diagram 5\n",
      "WARNING:chemschematicresolver.extract:Some SMILES strings were determined to be false positives and were removed from the output.\n"
     ]
    },
    {
     "name": "stdout",
     "output_type": "stream",
     "text": [
      "extract image:  ./elsevier_images/train/image/146_gr4.jpeg\n",
      "Runtime error, no smiles\n",
      "extract image:  ./elsevier_images/train/image/146_gr5.jpeg\n"
     ]
    },
    {
     "name": "stderr",
     "output_type": "stream",
     "text": [
      "WARNING:chemschematicresolver.extract:Confidence of label 0 deemed too low for extraction\n",
      "WARNING:chemschematicresolver.extract:Confidence of label 1 deemed too low for extraction\n",
      "WARNING:chemschematicresolver.extract:Confidence of label 2 deemed too low for extraction\n"
     ]
    },
    {
     "name": "stdout",
     "output_type": "stream",
     "text": [
      "extract image:  ./elsevier_images/train/image/146_sc1.jpeg\n"
     ]
    },
    {
     "name": "stderr",
     "output_type": "stream",
     "text": [
      "WARNING:chemschematicresolver.extract:Confidence of label 25 deemed too low for extraction\n",
      "WARNING:chemschematicresolver.extract:Confidence of label 21 deemed too low for extraction\n",
      "WARNING:chemschematicresolver.extract:Confidence of label 23 deemed too low for extraction\n",
      "WARNING:chemschematicresolver.extract:Text could not be resolved from label 12\n",
      "WARNING:chemschematicresolver.extract:Confidence of label 12 deemed too low for extraction\n",
      "WARNING:chemschematicresolver.extract:Confidence of label 2 deemed too low for extraction\n",
      "WARNING:chemschematicresolver.actions:No SMILES string was extracted for diagram 40\n",
      "WARNING:chemschematicresolver.extract:Confidence of label 1 deemed too low for extraction\n",
      "WARNING:chemschematicresolver.extract:Confidence of label 16 deemed too low for extraction\n",
      "WARNING:chemschematicresolver.extract:Text could not be resolved from label 3\n",
      "WARNING:chemschematicresolver.extract:Confidence of label 3 deemed too low for extraction\n",
      "WARNING:chemschematicresolver.extract:Confidence of label 0 deemed too low for extraction\n",
      "WARNING:chemschematicresolver.extract:Confidence of label 18 deemed too low for extraction\n",
      "WARNING:chemschematicresolver.extract:Confidence of label 20 deemed too low for extraction\n",
      "WARNING:chemschematicresolver.extract:Some SMILES strings were determined to be false positives and were removed from the output.\n"
     ]
    },
    {
     "name": "stdout",
     "output_type": "stream",
     "text": [
      "extract image:  ./elsevier_images/train/image/151_fx1.jpeg\n"
     ]
    },
    {
     "name": "stderr",
     "output_type": "stream",
     "text": [
      "WARNING:chemschematicresolver.extract:Text could not be resolved from label 2\n",
      "WARNING:chemschematicresolver.extract:Confidence of label 2 deemed too low for extraction\n",
      "WARNING:chemschematicresolver.extract:Text could not be resolved from label 1\n",
      "WARNING:chemschematicresolver.extract:Confidence of label 1 deemed too low for extraction\n",
      "WARNING:chemschematicresolver.extract:Text could not be resolved from label 0\n",
      "WARNING:chemschematicresolver.extract:Confidence of label 0 deemed too low for extraction\n"
     ]
    },
    {
     "name": "stdout",
     "output_type": "stream",
     "text": [
      "extract image:  ./elsevier_images/train/image/151_gr1.jpeg\n",
      "extract image:  ./elsevier_images/train/image/151_gr10.jpeg\n"
     ]
    },
    {
     "name": "stderr",
     "output_type": "stream",
     "text": [
      "WARNING:chemschematicresolver.extract:Text could not be resolved from label 4\n",
      "WARNING:chemschematicresolver.extract:Confidence of label 4 deemed too low for extraction\n",
      "WARNING:chemschematicresolver.extract:Text could not be resolved from label 5\n",
      "WARNING:chemschematicresolver.extract:Confidence of label 5 deemed too low for extraction\n",
      "WARNING:chemschematicresolver.extract:Confidence of label 19 deemed too low for extraction\n",
      "WARNING:chemschematicresolver.actions:No SMILES string was extracted for diagram 36\n",
      "WARNING:chemschematicresolver.extract:Text could not be resolved from label 8\n",
      "WARNING:chemschematicresolver.extract:Confidence of label 8 deemed too low for extraction\n",
      "WARNING:chemschematicresolver.extract:Confidence of label 10 deemed too low for extraction\n",
      "WARNING:chemschematicresolver.extract:Confidence of label 26 deemed too low for extraction\n",
      "WARNING:chemschematicresolver.actions:No SMILES string was extracted for diagram 35\n",
      "WARNING:chemschematicresolver.actions:No SMILES string was extracted for diagram 37\n",
      "WARNING:chemschematicresolver.extract:Text could not be resolved from label 16\n",
      "WARNING:chemschematicresolver.extract:Confidence of label 16 deemed too low for extraction\n",
      "WARNING:chemschematicresolver.extract:Confidence of label 18 deemed too low for extraction\n",
      "WARNING:chemschematicresolver.extract:Confidence of label 1 deemed too low for extraction\n",
      "WARNING:chemschematicresolver.extract:Confidence of label 25 deemed too low for extraction\n",
      "WARNING:chemschematicresolver.extract:Confidence of label 3 deemed too low for extraction\n",
      "WARNING:chemschematicresolver.extract:Confidence of label 17 deemed too low for extraction\n",
      "WARNING:chemschematicresolver.extract:Some SMILES strings were determined to be false positives and were removed from the output.\n",
      "WARNING:chemschematicresolver.extract:Confidence of label 2 deemed too low for extraction\n"
     ]
    },
    {
     "name": "stdout",
     "output_type": "stream",
     "text": [
      "extract image:  ./elsevier_images/train/image/151_gr2.jpeg\n",
      "extract image:  ./elsevier_images/train/image/151_gr3.jpeg\n"
     ]
    },
    {
     "name": "stderr",
     "output_type": "stream",
     "text": [
      "WARNING:chemschematicresolver.extract:Confidence of label 0 deemed too low for extraction\n",
      "WARNING:chemschematicresolver.extract:Confidence of label 1 deemed too low for extraction\n"
     ]
    },
    {
     "name": "stdout",
     "output_type": "stream",
     "text": [
      "extract image:  ./elsevier_images/train/image/151_gr4.jpeg\n",
      "extract image:  ./elsevier_images/train/image/151_gr5.jpeg\n"
     ]
    },
    {
     "name": "stderr",
     "output_type": "stream",
     "text": [
      "WARNING:chemschematicresolver.extract:Confidence of label 1 deemed too low for extraction\n",
      "WARNING:chemschematicresolver.extract:Confidence of label 1 deemed too low for extraction\n"
     ]
    },
    {
     "name": "stdout",
     "output_type": "stream",
     "text": [
      "extract image:  ./elsevier_images/train/image/151_gr6.jpeg\n",
      "extract image:  ./elsevier_images/train/image/151_gr7.jpeg\n"
     ]
    },
    {
     "name": "stderr",
     "output_type": "stream",
     "text": [
      "WARNING:chemschematicresolver.extract:Confidence of label 6 deemed too low for extraction\n",
      "WARNING:chemschematicresolver.extract:Confidence of label 7 deemed too low for extraction\n",
      "WARNING:chemschematicresolver.extract:Confidence of label 3 deemed too low for extraction\n"
     ]
    },
    {
     "name": "stdout",
     "output_type": "stream",
     "text": [
      "extract image:  ./elsevier_images/train/image/151_gr8.jpeg\n",
      "Runtime error, no smiles\n",
      "extract image:  ./elsevier_images/train/image/151_gr9.jpeg\n"
     ]
    },
    {
     "name": "stderr",
     "output_type": "stream",
     "text": [
      "WARNING:chemschematicresolver.extract:Confidence of label 3 deemed too low for extraction\n",
      "WARNING:chemschematicresolver.extract:Text could not be resolved from label 0\n",
      "WARNING:chemschematicresolver.extract:Confidence of label 0 deemed too low for extraction\n",
      "WARNING:chemschematicresolver.extract:Text could not be resolved from label 1\n",
      "WARNING:chemschematicresolver.extract:Confidence of label 1 deemed too low for extraction\n",
      "WARNING:chemschematicresolver.extract:Confidence of label 4 deemed too low for extraction\n",
      "WARNING:chemschematicresolver.extract:Confidence of label 0 deemed too low for extraction\n"
     ]
    },
    {
     "name": "stdout",
     "output_type": "stream",
     "text": [
      "extract image:  ./elsevier_images/train/image/155_fx1.jpeg\n",
      "extract image:  ./elsevier_images/train/image/155_gr1.jpeg\n"
     ]
    },
    {
     "name": "stderr",
     "output_type": "stream",
     "text": [
      "WARNING:chemschematicresolver.extract:Confidence of label 0 deemed too low for extraction\n",
      "WARNING:chemschematicresolver.actions:No SMILES string was extracted for diagram 7\n",
      "WARNING:chemschematicresolver.extract:Some SMILES strings were determined to be false positives and were removed from the output.\n"
     ]
    },
    {
     "name": "stdout",
     "output_type": "stream",
     "text": [
      "extract image:  ./elsevier_images/train/image/155_gr2.jpeg\n"
     ]
    },
    {
     "name": "stderr",
     "output_type": "stream",
     "text": [
      "WARNING:chemschematicresolver.actions:No SMILES string was extracted for diagram 13\n",
      "WARNING:chemschematicresolver.actions:No SMILES string was extracted for diagram 17\n",
      "WARNING:chemschematicresolver.extract:Confidence of label 8 deemed too low for extraction\n",
      "WARNING:chemschematicresolver.actions:No SMILES string was extracted for diagram 16\n",
      "WARNING:chemschematicresolver.actions:No SMILES string was extracted for diagram 12\n",
      "WARNING:chemschematicresolver.actions:No SMILES string was extracted for diagram 11\n",
      "WARNING:chemschematicresolver.extract:Some SMILES strings were determined to be false positives and were removed from the output.\n"
     ]
    },
    {
     "name": "stdout",
     "output_type": "stream",
     "text": [
      "extract image:  ./elsevier_images/train/image/155_gr3.jpeg\n"
     ]
    },
    {
     "name": "stderr",
     "output_type": "stream",
     "text": [
      "WARNING:chemschematicresolver.extract:Confidence of label 3 deemed too low for extraction\n",
      "WARNING:chemschematicresolver.extract:Confidence of label 2 deemed too low for extraction\n"
     ]
    },
    {
     "name": "stdout",
     "output_type": "stream",
     "text": [
      "extract image:  ./elsevier_images/train/image/174_fx1.jpeg\n",
      "Runtime error, no smiles\n",
      "extract image:  ./elsevier_images/train/image/174_gr1.jpeg\n"
     ]
    },
    {
     "name": "stderr",
     "output_type": "stream",
     "text": [
      "WARNING:chemschematicresolver.extract:Confidence of label 0 deemed too low for extraction\n"
     ]
    },
    {
     "name": "stdout",
     "output_type": "stream",
     "text": [
      "extract image:  ./elsevier_images/train/image/174_gr10.jpeg\n",
      "extract image:  ./elsevier_images/train/image/174_gr2.jpeg\n"
     ]
    },
    {
     "name": "stderr",
     "output_type": "stream",
     "text": [
      "WARNING:chemschematicresolver.extract:Confidence of label 0 deemed too low for extraction\n",
      "WARNING:chemschematicresolver.actions:No SMILES string was extracted for diagram 4\n",
      "WARNING:chemschematicresolver.extract:Some SMILES strings were determined to be false positives and were removed from the output.\n"
     ]
    },
    {
     "name": "stdout",
     "output_type": "stream",
     "text": [
      "extract image:  ./elsevier_images/train/image/174_gr3.jpeg\n"
     ]
    },
    {
     "name": "stderr",
     "output_type": "stream",
     "text": [
      "WARNING:chemschematicresolver.extract:Confidence of label 0 deemed too low for extraction\n"
     ]
    },
    {
     "name": "stdout",
     "output_type": "stream",
     "text": [
      "extract image:  ./elsevier_images/train/image/174_gr4.jpeg\n",
      "extract image:  ./elsevier_images/train/image/174_gr5.jpeg\n",
      "extract image:  ./elsevier_images/train/image/174_gr6.jpeg\n"
     ]
    },
    {
     "name": "stderr",
     "output_type": "stream",
     "text": [
      "WARNING:chemschematicresolver.extract:Text could not be resolved from label 0\n",
      "WARNING:chemschematicresolver.extract:Confidence of label 0 deemed too low for extraction\n",
      "WARNING:chemschematicresolver.extract:Text could not be resolved from label 2\n",
      "WARNING:chemschematicresolver.extract:Confidence of label 2 deemed too low for extraction\n",
      "WARNING:chemschematicresolver.extract:Text could not be resolved from label 1\n",
      "WARNING:chemschematicresolver.extract:Confidence of label 1 deemed too low for extraction\n",
      "WARNING:chemschematicresolver.extract:Confidence of label 4 deemed too low for extraction\n",
      "WARNING:chemschematicresolver.extract:Confidence of label 5 deemed too low for extraction\n"
     ]
    },
    {
     "name": "stdout",
     "output_type": "stream",
     "text": [
      "extract image:  ./elsevier_images/train/image/174_gr7.jpeg\n"
     ]
    },
    {
     "name": "stderr",
     "output_type": "stream",
     "text": [
      "WARNING:chemschematicresolver.actions:No SMILES string was extracted for diagram 2\n",
      "WARNING:chemschematicresolver.extract:Some SMILES strings were determined to be false positives and were removed from the output.\n"
     ]
    },
    {
     "name": "stdout",
     "output_type": "stream",
     "text": [
      "extract image:  ./elsevier_images/train/image/174_gr8.jpeg\n",
      "extract image:  ./elsevier_images/train/image/174_gr9.jpeg\n"
     ]
    },
    {
     "name": "stderr",
     "output_type": "stream",
     "text": [
      "WARNING:chemschematicresolver.actions:No SMILES string was extracted for diagram 10\n",
      "WARNING:chemschematicresolver.actions:No SMILES string was extracted for diagram 11\n",
      "WARNING:chemschematicresolver.actions:No SMILES string was extracted for diagram 8\n",
      "WARNING:chemschematicresolver.extract:Some SMILES strings were determined to be false positives and were removed from the output.\n"
     ]
    },
    {
     "name": "stdout",
     "output_type": "stream",
     "text": [
      "extract image:  ./elsevier_images/train/image/190_fx1.jpeg\n"
     ]
    },
    {
     "name": "stderr",
     "output_type": "stream",
     "text": [
      "WARNING:chemschematicresolver.actions:No SMILES string was extracted for diagram 7\n",
      "WARNING:chemschematicresolver.extract:Confidence of label 2 deemed too low for extraction\n",
      "WARNING:chemschematicresolver.extract:Confidence of label 0 deemed too low for extraction\n",
      "WARNING:chemschematicresolver.extract:Some SMILES strings were determined to be false positives and were removed from the output.\n"
     ]
    },
    {
     "name": "stdout",
     "output_type": "stream",
     "text": [
      "extract image:  ./elsevier_images/train/image/190_gr1.jpeg\n",
      "Runtime error, no smiles\n",
      "extract image:  ./elsevier_images/train/image/190_gr2.jpeg\n"
     ]
    },
    {
     "name": "stderr",
     "output_type": "stream",
     "text": [
      "WARNING:chemschematicresolver.extract:Confidence of label 0 deemed too low for extraction\n"
     ]
    },
    {
     "name": "stdout",
     "output_type": "stream",
     "text": [
      "extract image:  ./elsevier_images/train/image/190_gr3.jpeg\n"
     ]
    },
    {
     "name": "stderr",
     "output_type": "stream",
     "text": [
      "WARNING:chemschematicresolver.actions:No SMILES string was extracted for diagram 3\n",
      "WARNING:chemschematicresolver.actions:No SMILES string was extracted for diagram 4\n",
      "WARNING:chemschematicresolver.extract:Some SMILES strings were determined to be false positives and were removed from the output.\n"
     ]
    },
    {
     "name": "stdout",
     "output_type": "stream",
     "text": [
      "extract image:  ./elsevier_images/train/image/190_gr4.jpeg\n"
     ]
    },
    {
     "name": "stderr",
     "output_type": "stream",
     "text": [
      "WARNING:chemschematicresolver.extract:Confidence of label 0 deemed too low for extraction\n"
     ]
    },
    {
     "name": "stdout",
     "output_type": "stream",
     "text": [
      "extract image:  ./elsevier_images/train/image/190_gr5.jpeg\n",
      "extract image:  ./elsevier_images/train/image/190_gr6.jpeg\n"
     ]
    },
    {
     "name": "stderr",
     "output_type": "stream",
     "text": [
      "/home/hanghu/miniconda3/envs/csr/lib/python3.6/site-packages/chemschematicresolver/actions.py:119: ConvergenceWarning: Number of distinct clusters (1) found smaller than n_clusters (2). Possibly due to duplicate points in X.\n",
      "  clusters = km.fit(all_params)\n",
      "/home/hanghu/miniconda3/envs/csr/lib/python3.6/site-packages/chemschematicresolver/actions.py:129: RuntimeWarning: Mean of empty slice\n",
      "  if np.nanmean([panel.area for panel in group_1]) > np.nanmean([panel.area for panel in group_2]):\n",
      "WARNING:chemschematicresolver.extract:Confidence of label 0 deemed too low for extraction\n"
     ]
    },
    {
     "name": "stdout",
     "output_type": "stream",
     "text": [
      "extract image:  ./elsevier_images/train/image/190_sc1.jpeg\n"
     ]
    },
    {
     "name": "stderr",
     "output_type": "stream",
     "text": [
      "WARNING:chemschematicresolver.extract:Confidence of label 5 deemed too low for extraction\n",
      "WARNING:chemschematicresolver.extract:Some SMILES strings were determined to be false positives and were removed from the output.\n"
     ]
    },
    {
     "name": "stdout",
     "output_type": "stream",
     "text": [
      "extract image:  ./elsevier_images/train/image/254_gr1.jpeg\n"
     ]
    },
    {
     "name": "stderr",
     "output_type": "stream",
     "text": [
      "WARNING:chemschematicresolver.extract:Confidence of label 1 deemed too low for extraction\n"
     ]
    },
    {
     "name": "stdout",
     "output_type": "stream",
     "text": [
      "extract image:  ./elsevier_images/train/image/254_gr2.jpeg\n"
     ]
    },
    {
     "name": "stderr",
     "output_type": "stream",
     "text": [
      "WARNING:chemschematicresolver.actions:No SMILES string was extracted for diagram 4\n",
      "WARNING:chemschematicresolver.extract:Confidence of label 0 deemed too low for extraction\n",
      "WARNING:chemschematicresolver.extract:Some SMILES strings were determined to be false positives and were removed from the output.\n"
     ]
    },
    {
     "name": "stdout",
     "output_type": "stream",
     "text": [
      "extract image:  ./elsevier_images/train/image/254_gr3.jpeg\n"
     ]
    },
    {
     "name": "stderr",
     "output_type": "stream",
     "text": [
      "WARNING:chemschematicresolver.extract:Confidence of label 2 deemed too low for extraction\n",
      "WARNING:chemschematicresolver.actions:No SMILES string was extracted for diagram 5\n",
      "WARNING:chemschematicresolver.extract:Some SMILES strings were determined to be false positives and were removed from the output.\n"
     ]
    },
    {
     "name": "stdout",
     "output_type": "stream",
     "text": [
      "extract image:  ./elsevier_images/train/image/254_gr4.jpeg\n"
     ]
    },
    {
     "name": "stderr",
     "output_type": "stream",
     "text": [
      "WARNING:chemschematicresolver.actions:No SMILES string was extracted for diagram 4\n",
      "WARNING:chemschematicresolver.extract:Some SMILES strings were determined to be false positives and were removed from the output.\n"
     ]
    },
    {
     "name": "stdout",
     "output_type": "stream",
     "text": [
      "extract image:  ./elsevier_images/train/image/254_gr5.jpeg\n"
     ]
    },
    {
     "name": "stderr",
     "output_type": "stream",
     "text": [
      "WARNING:chemschematicresolver.extract:Confidence of label 5 deemed too low for extraction\n",
      "WARNING:chemschematicresolver.extract:Confidence of label 4 deemed too low for extraction\n",
      "WARNING:chemschematicresolver.actions:No SMILES string was extracted for diagram 10\n",
      "WARNING:chemschematicresolver.extract:Some SMILES strings were determined to be false positives and were removed from the output.\n"
     ]
    },
    {
     "name": "stdout",
     "output_type": "stream",
     "text": [
      "extract image:  ./elsevier_images/train/image/254_gr6.jpeg\n"
     ]
    },
    {
     "name": "stderr",
     "output_type": "stream",
     "text": [
      "WARNING:chemschematicresolver.extract:Confidence of label 0 deemed too low for extraction\n"
     ]
    },
    {
     "name": "stdout",
     "output_type": "stream",
     "text": [
      "extract image:  ./elsevier_images/train/image/254_gr7.jpeg\n"
     ]
    },
    {
     "name": "stderr",
     "output_type": "stream",
     "text": [
      "WARNING:chemschematicresolver.extract:Confidence of label 0 deemed too low for extraction\n"
     ]
    },
    {
     "name": "stdout",
     "output_type": "stream",
     "text": [
      "extract image:  ./elsevier_images/train/image/254_gr8.jpeg\n",
      "extract image:  ./elsevier_images/train/image/385_gr1.jpeg\n"
     ]
    },
    {
     "name": "stderr",
     "output_type": "stream",
     "text": [
      "WARNING:chemschematicresolver.extract:Confidence of label 1 deemed too low for extraction\n",
      "WARNING:chemschematicresolver.actions:No SMILES string was extracted for diagram 15\n",
      "WARNING:chemschematicresolver.extract:Confidence of label 0 deemed too low for extraction\n",
      "WARNING:chemschematicresolver.extract:Some SMILES strings were determined to be false positives and were removed from the output.\n"
     ]
    },
    {
     "name": "stdout",
     "output_type": "stream",
     "text": [
      "extract image:  ./elsevier_images/train/image/385_gr2.jpeg\n"
     ]
    },
    {
     "name": "stderr",
     "output_type": "stream",
     "text": [
      "WARNING:chemschematicresolver.actions:No SMILES string was extracted for diagram 9\n",
      "WARNING:chemschematicresolver.extract:Some SMILES strings were determined to be false positives and were removed from the output.\n"
     ]
    },
    {
     "name": "stdout",
     "output_type": "stream",
     "text": [
      "extract image:  ./elsevier_images/train/image/385_gr3.jpeg\n"
     ]
    },
    {
     "name": "stderr",
     "output_type": "stream",
     "text": [
      "WARNING:chemschematicresolver.extract:Confidence of label 6 deemed too low for extraction\n"
     ]
    },
    {
     "name": "stdout",
     "output_type": "stream",
     "text": [
      "extract image:  ./elsevier_images/train/image/385_gr4.jpeg\n",
      "Runtime error, no smiles\n",
      "extract image:  ./elsevier_images/train/image/385_gr5.jpeg\n"
     ]
    },
    {
     "name": "stderr",
     "output_type": "stream",
     "text": [
      "WARNING:chemschematicresolver.r_group:No SMILES strings were extracted for diagram 1\n"
     ]
    },
    {
     "name": "stdout",
     "output_type": "stream",
     "text": [
      "extract image:  ./elsevier_images/train/image/385_gr6.jpeg\n"
     ]
    },
    {
     "name": "stderr",
     "output_type": "stream",
     "text": [
      "WARNING:chemschematicresolver.extract:Text could not be resolved from label 1\n",
      "WARNING:chemschematicresolver.extract:Confidence of label 1 deemed too low for extraction\n",
      "WARNING:chemschematicresolver.actions:No SMILES string was extracted for diagram 36\n",
      "WARNING:chemschematicresolver.extract:Text could not be resolved from label 3\n",
      "WARNING:chemschematicresolver.extract:Confidence of label 3 deemed too low for extraction\n",
      "WARNING:chemschematicresolver.extract:Text could not be resolved from label 4\n",
      "WARNING:chemschematicresolver.extract:Confidence of label 4 deemed too low for extraction\n",
      "WARNING:chemschematicresolver.extract:Text could not be resolved from label 8\n",
      "WARNING:chemschematicresolver.extract:Confidence of label 8 deemed too low for extraction\n",
      "WARNING:chemschematicresolver.extract:Text could not be resolved from label 18\n",
      "WARNING:chemschematicresolver.extract:Confidence of label 18 deemed too low for extraction\n",
      "WARNING:chemschematicresolver.extract:Confidence of label 11 deemed too low for extraction\n",
      "WARNING:chemschematicresolver.extract:Text could not be resolved from label 14\n",
      "WARNING:chemschematicresolver.extract:Confidence of label 14 deemed too low for extraction\n",
      "WARNING:chemschematicresolver.actions:No SMILES string was extracted for diagram 23\n",
      "WARNING:chemschematicresolver.extract:Text could not be resolved from label 10\n",
      "WARNING:chemschematicresolver.extract:Confidence of label 10 deemed too low for extraction\n",
      "WARNING:chemschematicresolver.extract:Text could not be resolved from label 9\n",
      "WARNING:chemschematicresolver.extract:Confidence of label 9 deemed too low for extraction\n",
      "WARNING:chemschematicresolver.extract:Confidence of label 19 deemed too low for extraction\n",
      "WARNING:chemschematicresolver.extract:Confidence of label 0 deemed too low for extraction\n",
      "WARNING:chemschematicresolver.extract:Text could not be resolved from label 6\n",
      "WARNING:chemschematicresolver.extract:Confidence of label 6 deemed too low for extraction\n",
      "WARNING:chemschematicresolver.extract:Text could not be resolved from label 5\n",
      "WARNING:chemschematicresolver.extract:Confidence of label 5 deemed too low for extraction\n",
      "WARNING:chemschematicresolver.extract:Some SMILES strings were determined to be false positives and were removed from the output.\n"
     ]
    },
    {
     "name": "stdout",
     "output_type": "stream",
     "text": [
      "extract image:  ./elsevier_images/train/image/385_gr7.jpeg\n"
     ]
    },
    {
     "name": "stderr",
     "output_type": "stream",
     "text": [
      "WARNING:chemschematicresolver.extract:Confidence of label 2 deemed too low for extraction\n",
      "WARNING:chemschematicresolver.actions:No SMILES string was extracted for diagram 13\n",
      "WARNING:chemschematicresolver.extract:Confidence of label 9 deemed too low for extraction\n",
      "WARNING:chemschematicresolver.extract:Confidence of label 0 deemed too low for extraction\n",
      "WARNING:chemschematicresolver.extract:Confidence of label 3 deemed too low for extraction\n",
      "WARNING:chemschematicresolver.actions:No SMILES string was extracted for diagram 12\n",
      "WARNING:chemschematicresolver.extract:Text could not be resolved from label 8\n",
      "WARNING:chemschematicresolver.extract:Confidence of label 8 deemed too low for extraction\n",
      "WARNING:chemschematicresolver.extract:Some SMILES strings were determined to be false positives and were removed from the output.\n",
      "WARNING:chemschematicresolver.extract:Confidence of label 2 deemed too low for extraction\n"
     ]
    },
    {
     "name": "stdout",
     "output_type": "stream",
     "text": [
      "extract image:  ./elsevier_images/train/image/385_gr8.jpeg\n",
      "extract image:  ./elsevier_images/train/image/385_sc1.jpeg\n"
     ]
    },
    {
     "name": "stderr",
     "output_type": "stream",
     "text": [
      "WARNING:chemschematicresolver.extract:Confidence of label 7 deemed too low for extraction\n",
      "WARNING:chemschematicresolver.extract:Confidence of label 6 deemed too low for extraction\n",
      "WARNING:chemschematicresolver.extract:Text could not be resolved from label 2\n",
      "WARNING:chemschematicresolver.extract:Confidence of label 2 deemed too low for extraction\n",
      "WARNING:chemschematicresolver.extract:Text could not be resolved from label 1\n",
      "WARNING:chemschematicresolver.extract:Confidence of label 1 deemed too low for extraction\n"
     ]
    },
    {
     "name": "stdout",
     "output_type": "stream",
     "text": [
      "extract image:  ./elsevier_images/train/image/68_fx1.jpeg\n"
     ]
    },
    {
     "name": "stderr",
     "output_type": "stream",
     "text": [
      "WARNING:chemschematicresolver.extract:Confidence of label 2 deemed too low for extraction\n",
      "WARNING:chemschematicresolver.extract:Confidence of label 4 deemed too low for extraction\n",
      "WARNING:chemschematicresolver.extract:Confidence of label 3 deemed too low for extraction\n",
      "WARNING:chemschematicresolver.extract:Confidence of label 0 deemed too low for extraction\n"
     ]
    },
    {
     "name": "stdout",
     "output_type": "stream",
     "text": [
      "extract image:  ./elsevier_images/train/image/68_gr1.jpeg\n",
      "extract image:  ./elsevier_images/train/image/68_gr2.jpeg\n",
      "Runtime error, no smiles\n",
      "extract image:  ./elsevier_images/train/image/68_gr3.jpeg\n"
     ]
    },
    {
     "name": "stderr",
     "output_type": "stream",
     "text": [
      "WARNING:chemschematicresolver.extract:Confidence of label 0 deemed too low for extraction\n",
      "WARNING:chemschematicresolver.extract:Confidence of label 0 deemed too low for extraction\n"
     ]
    },
    {
     "name": "stdout",
     "output_type": "stream",
     "text": [
      "extract image:  ./elsevier_images/train/image/68_gr4.jpeg\n",
      "extract image:  ./elsevier_images/train/image/68_gr5.jpeg\n"
     ]
    },
    {
     "name": "stderr",
     "output_type": "stream",
     "text": [
      "WARNING:chemschematicresolver.extract:Confidence of label 0 deemed too low for extraction\n"
     ]
    },
    {
     "name": "stdout",
     "output_type": "stream",
     "text": [
      "extract image:  ./elsevier_images/train/image/68_gr6.jpeg\n"
     ]
    },
    {
     "name": "stderr",
     "output_type": "stream",
     "text": [
      "WARNING:chemschematicresolver.extract:Confidence of label 1 deemed too low for extraction\n",
      "WARNING:chemschematicresolver.extract:Confidence of label 2 deemed too low for extraction\n"
     ]
    },
    {
     "name": "stdout",
     "output_type": "stream",
     "text": [
      "extract image:  ./elsevier_images/train/image/68_gr7.jpeg\n"
     ]
    },
    {
     "name": "stderr",
     "output_type": "stream",
     "text": [
      "/home/hanghu/miniconda3/envs/csr/lib/python3.6/site-packages/chemschematicresolver/actions.py:119: ConvergenceWarning: Number of distinct clusters (1) found smaller than n_clusters (2). Possibly due to duplicate points in X.\n",
      "  clusters = km.fit(all_params)\n",
      "/home/hanghu/miniconda3/envs/csr/lib/python3.6/site-packages/chemschematicresolver/actions.py:129: RuntimeWarning: Mean of empty slice\n",
      "  if np.nanmean([panel.area for panel in group_1]) > np.nanmean([panel.area for panel in group_2]):\n",
      "WARNING:chemschematicresolver.extract:Confidence of label 0 deemed too low for extraction\n"
     ]
    },
    {
     "name": "stdout",
     "output_type": "stream",
     "text": [
      "extract image:  ./elsevier_images/train/image/68_sc1.jpeg\n"
     ]
    },
    {
     "name": "stderr",
     "output_type": "stream",
     "text": [
      "WARNING:chemschematicresolver.extract:Confidence of label 3 deemed too low for extraction\n",
      "WARNING:chemschematicresolver.extract:Confidence of label 7 deemed too low for extraction\n",
      "WARNING:chemschematicresolver.extract:Confidence of label 9 deemed too low for extraction\n",
      "WARNING:chemschematicresolver.actions:No SMILES string was extracted for diagram 10\n",
      "WARNING:chemschematicresolver.extract:Confidence of label 8 deemed too low for extraction\n",
      "WARNING:chemschematicresolver.actions:No SMILES string was extracted for diagram 14\n",
      "WARNING:chemschematicresolver.extract:Some SMILES strings were determined to be false positives and were removed from the output.\n"
     ]
    },
    {
     "name": "stdout",
     "output_type": "stream",
     "text": [
      "extract image:  ./elsevier_images/test/image/197_fx1.jpeg\n"
     ]
    },
    {
     "name": "stderr",
     "output_type": "stream",
     "text": [
      "WARNING:chemschematicresolver.extract:Text could not be resolved from label 10\n",
      "WARNING:chemschematicresolver.extract:Confidence of label 10 deemed too low for extraction\n",
      "WARNING:chemschematicresolver.extract:Text could not be resolved from label 9\n",
      "WARNING:chemschematicresolver.extract:Confidence of label 9 deemed too low for extraction\n",
      "WARNING:chemschematicresolver.extract:Confidence of label 1 deemed too low for extraction\n"
     ]
    },
    {
     "name": "stdout",
     "output_type": "stream",
     "text": [
      "extract image:  ./elsevier_images/test/image/197_gr1.jpeg\n",
      "extract image:  ./elsevier_images/test/image/197_gr2.jpeg\n"
     ]
    },
    {
     "name": "stderr",
     "output_type": "stream",
     "text": [
      "WARNING:chemschematicresolver.extract:Confidence of label 3 deemed too low for extraction\n",
      "WARNING:chemschematicresolver.extract:Confidence of label 2 deemed too low for extraction\n"
     ]
    },
    {
     "name": "stdout",
     "output_type": "stream",
     "text": [
      "extract image:  ./elsevier_images/test/image/197_gr3.jpeg\n"
     ]
    },
    {
     "name": "stderr",
     "output_type": "stream",
     "text": [
      "WARNING:chemschematicresolver.actions:No SMILES string was extracted for diagram 1\n",
      "WARNING:chemschematicresolver.extract:Some SMILES strings were determined to be false positives and were removed from the output.\n"
     ]
    },
    {
     "name": "stdout",
     "output_type": "stream",
     "text": [
      "extract image:  ./elsevier_images/test/image/197_gr4.jpeg\n"
     ]
    },
    {
     "name": "stderr",
     "output_type": "stream",
     "text": [
      "WARNING:chemschematicresolver.extract:Confidence of label 5 deemed too low for extraction\n",
      "WARNING:chemschematicresolver.extract:Confidence of label 3 deemed too low for extraction\n",
      "WARNING:chemschematicresolver.extract:Confidence of label 4 deemed too low for extraction\n",
      "WARNING:chemschematicresolver.actions:No SMILES string was extracted for diagram 16\n",
      "WARNING:chemschematicresolver.actions:No SMILES string was extracted for diagram 10\n",
      "WARNING:chemschematicresolver.extract:Text could not be resolved from label 1\n",
      "WARNING:chemschematicresolver.extract:Confidence of label 1 deemed too low for extraction\n",
      "WARNING:chemschematicresolver.extract:Some SMILES strings were determined to be false positives and were removed from the output.\n"
     ]
    },
    {
     "name": "stdout",
     "output_type": "stream",
     "text": [
      "extract image:  ./elsevier_images/test/image/197_gr5.jpeg\n"
     ]
    },
    {
     "name": "stderr",
     "output_type": "stream",
     "text": [
      "WARNING:chemschematicresolver.extract:Text could not be resolved from label 3\n",
      "WARNING:chemschematicresolver.extract:Confidence of label 3 deemed too low for extraction\n",
      "WARNING:chemschematicresolver.extract:Text could not be resolved from label 4\n",
      "WARNING:chemschematicresolver.extract:Confidence of label 4 deemed too low for extraction\n",
      "WARNING:chemschematicresolver.extract:Confidence of label 3 deemed too low for extraction\n"
     ]
    },
    {
     "name": "stdout",
     "output_type": "stream",
     "text": [
      "extract image:  ./elsevier_images/test/image/197_gr6.jpeg\n"
     ]
    },
    {
     "name": "stderr",
     "output_type": "stream",
     "text": [
      "WARNING:chemschematicresolver.extract:Confidence of label 0 deemed too low for extraction\n"
     ]
    },
    {
     "name": "stdout",
     "output_type": "stream",
     "text": [
      "extract image:  ./elsevier_images/test/image/197_gr7.jpeg\n"
     ]
    },
    {
     "name": "stderr",
     "output_type": "stream",
     "text": [
      "WARNING:chemschematicresolver.extract:Confidence of label 2 deemed too low for extraction\n",
      "WARNING:chemschematicresolver.extract:Confidence of label 3 deemed too low for extraction\n",
      "WARNING:chemschematicresolver.actions:No SMILES string was extracted for diagram 5\n",
      "WARNING:chemschematicresolver.extract:Confidence of label 0 deemed too low for extraction\n",
      "WARNING:chemschematicresolver.extract:Some SMILES strings were determined to be false positives and were removed from the output.\n"
     ]
    },
    {
     "name": "stdout",
     "output_type": "stream",
     "text": [
      "extract image:  ./elsevier_images/test/image/197_sc1.jpeg\n"
     ]
    },
    {
     "name": "stderr",
     "output_type": "stream",
     "text": [
      "WARNING:chemschematicresolver.extract:Confidence of label 0 deemed too low for extraction\n",
      "WARNING:chemschematicresolver.extract:Confidence of label 3 deemed too low for extraction\n",
      "WARNING:chemschematicresolver.extract:Confidence of label 2 deemed too low for extraction\n",
      "WARNING:chemschematicresolver.extract:Text could not be resolved from label 1\n",
      "WARNING:chemschematicresolver.extract:Confidence of label 1 deemed too low for extraction\n"
     ]
    },
    {
     "name": "stdout",
     "output_type": "stream",
     "text": [
      "extract image:  ./elsevier_images/test/image/227_fx1.jpeg\n"
     ]
    },
    {
     "name": "stderr",
     "output_type": "stream",
     "text": [
      "WARNING:chemschematicresolver.extract:Confidence of label 2 deemed too low for extraction\n",
      "WARNING:chemschematicresolver.extract:Confidence of label 1 deemed too low for extraction\n"
     ]
    },
    {
     "name": "stdout",
     "output_type": "stream",
     "text": [
      "extract image:  ./elsevier_images/test/image/227_gr1.jpeg\n"
     ]
    },
    {
     "name": "stderr",
     "output_type": "stream",
     "text": [
      "WARNING:chemschematicresolver.extract:Confidence of label 2 deemed too low for extraction\n",
      "WARNING:chemschematicresolver.extract:Confidence of label 1 deemed too low for extraction\n"
     ]
    },
    {
     "name": "stdout",
     "output_type": "stream",
     "text": [
      "extract image:  ./elsevier_images/test/image/227_gr2.jpeg\n"
     ]
    },
    {
     "name": "stderr",
     "output_type": "stream",
     "text": [
      "WARNING:chemschematicresolver.actions:No SMILES string was extracted for diagram 6\n",
      "WARNING:chemschematicresolver.actions:No SMILES string was extracted for diagram 7\n",
      "WARNING:chemschematicresolver.actions:No SMILES string was extracted for diagram 4\n",
      "WARNING:chemschematicresolver.actions:No SMILES string was extracted for diagram 5\n",
      "WARNING:chemschematicresolver.extract:Some SMILES strings were determined to be false positives and were removed from the output.\n"
     ]
    },
    {
     "name": "stdout",
     "output_type": "stream",
     "text": [
      "extract image:  ./elsevier_images/test/image/227_gr3.jpeg\n"
     ]
    },
    {
     "name": "stderr",
     "output_type": "stream",
     "text": [
      "WARNING:chemschematicresolver.extract:Confidence of label 2 deemed too low for extraction\n",
      "WARNING:chemschematicresolver.extract:Confidence of label 1 deemed too low for extraction\n",
      "WARNING:chemschematicresolver.extract:Confidence of label 1 deemed too low for extraction\n"
     ]
    },
    {
     "name": "stdout",
     "output_type": "stream",
     "text": [
      "extract image:  ./elsevier_images/test/image/227_gr4.jpeg\n"
     ]
    },
    {
     "name": "stderr",
     "output_type": "stream",
     "text": [
      "WARNING:chemschematicresolver.extract:Confidence of label 0 deemed too low for extraction\n"
     ]
    },
    {
     "name": "stdout",
     "output_type": "stream",
     "text": [
      "extract image:  ./elsevier_images/test/image/227_gr6.jpeg\n",
      "Runtime error, no smiles\n",
      "extract image:  ./elsevier_images/test/image/227_gr7.jpeg\n"
     ]
    },
    {
     "name": "stderr",
     "output_type": "stream",
     "text": [
      "WARNING:chemschematicresolver.extract:Confidence of label 7 deemed too low for extraction\n",
      "WARNING:chemschematicresolver.extract:Confidence of label 9 deemed too low for extraction\n",
      "WARNING:chemschematicresolver.extract:Confidence of label 2 deemed too low for extraction\n",
      "WARNING:chemschematicresolver.extract:Confidence of label 5 deemed too low for extraction\n",
      "WARNING:chemschematicresolver.extract:Confidence of label 3 deemed too low for extraction\n",
      "WARNING:chemschematicresolver.extract:Text could not be resolved from label 6\n",
      "WARNING:chemschematicresolver.extract:Confidence of label 6 deemed too low for extraction\n",
      "WARNING:chemschematicresolver.extract:Confidence of label 1 deemed too low for extraction\n"
     ]
    },
    {
     "name": "stdout",
     "output_type": "stream",
     "text": [
      "extract image:  ./elsevier_images/test/image/248_fx1.jpeg\n",
      "extract image:  ./elsevier_images/test/image/248_gr1.jpeg\n"
     ]
    },
    {
     "name": "stderr",
     "output_type": "stream",
     "text": [
      "WARNING:chemschematicresolver.extract:Confidence of label 1 deemed too low for extraction\n",
      "WARNING:chemschematicresolver.extract:Confidence of label 1 deemed too low for extraction\n"
     ]
    },
    {
     "name": "stdout",
     "output_type": "stream",
     "text": [
      "extract image:  ./elsevier_images/test/image/248_gr2.jpeg\n",
      "extract image:  ./elsevier_images/test/image/248_gr3.jpeg\n"
     ]
    },
    {
     "name": "stderr",
     "output_type": "stream",
     "text": [
      "WARNING:chemschematicresolver.extract:Confidence of label 2 deemed too low for extraction\n"
     ]
    },
    {
     "name": "stdout",
     "output_type": "stream",
     "text": [
      "extract image:  ./elsevier_images/test/image/248_gr4.jpeg\n"
     ]
    },
    {
     "name": "stderr",
     "output_type": "stream",
     "text": [
      "WARNING:chemschematicresolver.extract:Confidence of label 4 deemed too low for extraction\n",
      "WARNING:chemschematicresolver.extract:Confidence of label 2 deemed too low for extraction\n",
      "WARNING:chemschematicresolver.extract:Confidence of label 1 deemed too low for extraction\n"
     ]
    },
    {
     "name": "stdout",
     "output_type": "stream",
     "text": [
      "extract image:  ./elsevier_images/test/image/248_gr5.jpeg\n",
      "extract image:  ./elsevier_images/test/image/248_gr6.jpeg\n"
     ]
    },
    {
     "name": "stderr",
     "output_type": "stream",
     "text": [
      "WARNING:chemschematicresolver.actions:No SMILES string was extracted for diagram 7\n",
      "WARNING:chemschematicresolver.extract:Confidence of label 2 deemed too low for extraction\n",
      "WARNING:chemschematicresolver.actions:No SMILES string was extracted for diagram 6\n",
      "WARNING:chemschematicresolver.extract:Some SMILES strings were determined to be false positives and were removed from the output.\n"
     ]
    },
    {
     "name": "stdout",
     "output_type": "stream",
     "text": [
      "extract image:  ./elsevier_images/test/image/248_gr7.jpeg\n"
     ]
    },
    {
     "name": "stderr",
     "output_type": "stream",
     "text": [
      "WARNING:chemschematicresolver.extract:Text could not be resolved from label 0\n",
      "WARNING:chemschematicresolver.extract:Confidence of label 0 deemed too low for extraction\n",
      "WARNING:chemschematicresolver.extract:Confidence of label 1 deemed too low for extraction\n",
      "WARNING:chemschematicresolver.extract:Confidence of label 4 deemed too low for extraction\n",
      "WARNING:chemschematicresolver.extract:Confidence of label 5 deemed too low for extraction\n"
     ]
    },
    {
     "name": "stdout",
     "output_type": "stream",
     "text": [
      "extract image:  ./elsevier_images/test/image/248_gr8.jpeg\n"
     ]
    },
    {
     "name": "stderr",
     "output_type": "stream",
     "text": [
      "WARNING:chemschematicresolver.actions:No SMILES string was extracted for diagram 30\n",
      "WARNING:chemschematicresolver.extract:Confidence of label 15 deemed too low for extraction\n",
      "WARNING:chemschematicresolver.extract:Confidence of label 7 deemed too low for extraction\n",
      "WARNING:chemschematicresolver.extract:Confidence of label 9 deemed too low for extraction\n",
      "WARNING:chemschematicresolver.extract:Confidence of label 18 deemed too low for extraction\n",
      "WARNING:chemschematicresolver.extract:Confidence of label 0 deemed too low for extraction\n",
      "WARNING:chemschematicresolver.extract:Confidence of label 8 deemed too low for extraction\n",
      "WARNING:chemschematicresolver.extract:Confidence of label 11 deemed too low for extraction\n",
      "WARNING:chemschematicresolver.extract:Confidence of label 19 deemed too low for extraction\n",
      "WARNING:chemschematicresolver.extract:Confidence of label 10 deemed too low for extraction\n",
      "WARNING:chemschematicresolver.extract:Some SMILES strings were determined to be false positives and were removed from the output.\n"
     ]
    },
    {
     "name": "stdout",
     "output_type": "stream",
     "text": [
      "extract image:  ./elsevier_images/test/image/248_gr9.jpeg\n",
      "Runtime error, no smiles\n",
      "extract image:  ./elsevier_images/test/image/254_fx1.jpeg\n"
     ]
    },
    {
     "name": "stderr",
     "output_type": "stream",
     "text": [
      "WARNING:chemschematicresolver.extract:Confidence of label 6 deemed too low for extraction\n"
     ]
    },
    {
     "name": "stdout",
     "output_type": "stream",
     "text": [
      "extract image:  ./elsevier_images/test/image/281_fx1.jpeg\n"
     ]
    },
    {
     "name": "stderr",
     "output_type": "stream",
     "text": [
      "WARNING:chemschematicresolver.extract:Confidence of label 1 deemed too low for extraction\n"
     ]
    },
    {
     "name": "stdout",
     "output_type": "stream",
     "text": [
      "extract image:  ./elsevier_images/test/image/281_gr1.jpeg\n"
     ]
    },
    {
     "name": "stderr",
     "output_type": "stream",
     "text": [
      "WARNING:chemschematicresolver.extract:Confidence of label 0 deemed too low for extraction\n"
     ]
    },
    {
     "name": "stdout",
     "output_type": "stream",
     "text": [
      "extract image:  ./elsevier_images/test/image/281_gr2.jpeg\n"
     ]
    },
    {
     "name": "stderr",
     "output_type": "stream",
     "text": [
      "WARNING:chemschematicresolver.actions:No SMILES string was extracted for diagram 2\n",
      "WARNING:chemschematicresolver.extract:Some SMILES strings were determined to be false positives and were removed from the output.\n"
     ]
    },
    {
     "name": "stdout",
     "output_type": "stream",
     "text": [
      "extract image:  ./elsevier_images/test/image/281_gr3.jpeg\n"
     ]
    },
    {
     "name": "stderr",
     "output_type": "stream",
     "text": [
      "WARNING:chemschematicresolver.extract:Confidence of label 0 deemed too low for extraction\n"
     ]
    },
    {
     "name": "stdout",
     "output_type": "stream",
     "text": [
      "extract image:  ./elsevier_images/test/image/281_gr4.jpeg\n"
     ]
    },
    {
     "name": "stderr",
     "output_type": "stream",
     "text": [
      "WARNING:chemschematicresolver.actions:No SMILES string was extracted for diagram 9\n",
      "WARNING:chemschematicresolver.extract:Text could not be resolved from label 1\n",
      "WARNING:chemschematicresolver.extract:Confidence of label 1 deemed too low for extraction\n",
      "WARNING:chemschematicresolver.extract:Confidence of label 6 deemed too low for extraction\n",
      "WARNING:chemschematicresolver.actions:No SMILES string was extracted for diagram 8\n",
      "WARNING:chemschematicresolver.extract:Some SMILES strings were determined to be false positives and were removed from the output.\n"
     ]
    },
    {
     "name": "stdout",
     "output_type": "stream",
     "text": [
      "extract image:  ./elsevier_images/test/image/281_gr5.jpeg\n",
      "extract image:  ./elsevier_images/test/image/281_gr6.jpeg\n"
     ]
    },
    {
     "name": "stderr",
     "output_type": "stream",
     "text": [
      "WARNING:chemschematicresolver.extract:Confidence of label 1 deemed too low for extraction\n"
     ]
    },
    {
     "name": "stdout",
     "output_type": "stream",
     "text": [
      "extract image:  ./elsevier_images/test/image/281_gr7.jpeg\n"
     ]
    },
    {
     "name": "stderr",
     "output_type": "stream",
     "text": [
      "WARNING:chemschematicresolver.extract:Confidence of label 0 deemed too low for extraction\n"
     ]
    },
    {
     "name": "stdout",
     "output_type": "stream",
     "text": [
      "extract image:  ./elsevier_images/test/image/281_gr8.jpeg\n",
      "extract image:  ./elsevier_images/test/image/281_gr9.jpeg\n"
     ]
    },
    {
     "name": "stderr",
     "output_type": "stream",
     "text": [
      "WARNING:chemschematicresolver.extract:Confidence of label 1 deemed too low for extraction\n"
     ]
    },
    {
     "name": "stdout",
     "output_type": "stream",
     "text": [
      "extract image:  ./elsevier_images/test/image/281_sc1.jpeg\n",
      "extract image:  ./elsevier_images/test/image/299_fx1.jpeg\n"
     ]
    },
    {
     "name": "stderr",
     "output_type": "stream",
     "text": [
      "WARNING:chemschematicresolver.extract:Confidence of label 3 deemed too low for extraction\n",
      "WARNING:chemschematicresolver.extract:Confidence of label 0 deemed too low for extraction\n"
     ]
    },
    {
     "name": "stdout",
     "output_type": "stream",
     "text": [
      "extract image:  ./elsevier_images/test/image/299_gr1.jpeg\n",
      "extract image:  ./elsevier_images/test/image/299_gr2.jpeg\n"
     ]
    },
    {
     "name": "stderr",
     "output_type": "stream",
     "text": [
      "WARNING:chemschematicresolver.extract:Confidence of label 2 deemed too low for extraction\n",
      "WARNING:chemschematicresolver.extract:Confidence of label 1 deemed too low for extraction\n"
     ]
    },
    {
     "name": "stdout",
     "output_type": "stream",
     "text": [
      "extract image:  ./elsevier_images/test/image/299_gr3.jpeg\n"
     ]
    },
    {
     "name": "stderr",
     "output_type": "stream",
     "text": [
      "WARNING:chemschematicresolver.actions:No SMILES string was extracted for diagram 2\n",
      "WARNING:chemschematicresolver.extract:Some SMILES strings were determined to be false positives and were removed from the output.\n",
      "WARNING:chemschematicresolver.extract:Confidence of label 0 deemed too low for extraction\n"
     ]
    },
    {
     "name": "stdout",
     "output_type": "stream",
     "text": [
      "extract image:  ./elsevier_images/test/image/299_gr4.jpeg\n"
     ]
    },
    {
     "name": "stderr",
     "output_type": "stream",
     "text": [
      "WARNING:chemschematicresolver.actions:No SMILES string was extracted for diagram 3\n",
      "WARNING:chemschematicresolver.extract:Some SMILES strings were determined to be false positives and were removed from the output.\n"
     ]
    },
    {
     "name": "stdout",
     "output_type": "stream",
     "text": [
      "extract image:  ./elsevier_images/test/image/299_gr5.jpeg\n"
     ]
    },
    {
     "name": "stderr",
     "output_type": "stream",
     "text": [
      "WARNING:chemschematicresolver.extract:Confidence of label 0 deemed too low for extraction\n"
     ]
    },
    {
     "name": "stdout",
     "output_type": "stream",
     "text": [
      "extract image:  ./elsevier_images/test/image/299_gr6.jpeg\n"
     ]
    },
    {
     "name": "stderr",
     "output_type": "stream",
     "text": [
      "WARNING:chemschematicresolver.extract:Text could not be resolved from label 4\n",
      "WARNING:chemschematicresolver.extract:Confidence of label 4 deemed too low for extraction\n",
      "WARNING:chemschematicresolver.extract:Text could not be resolved from label 11\n",
      "WARNING:chemschematicresolver.extract:Confidence of label 11 deemed too low for extraction\n",
      "WARNING:chemschematicresolver.extract:Text could not be resolved from label 2\n",
      "WARNING:chemschematicresolver.extract:Confidence of label 2 deemed too low for extraction\n",
      "WARNING:chemschematicresolver.extract:Text could not be resolved from label 15\n",
      "WARNING:chemschematicresolver.extract:Confidence of label 15 deemed too low for extraction\n",
      "WARNING:chemschematicresolver.extract:Text could not be resolved from label 12\n",
      "WARNING:chemschematicresolver.extract:Confidence of label 12 deemed too low for extraction\n",
      "WARNING:chemschematicresolver.extract:Text could not be resolved from label 0\n",
      "WARNING:chemschematicresolver.extract:Confidence of label 0 deemed too low for extraction\n",
      "WARNING:chemschematicresolver.extract:Confidence of label 28 deemed too low for extraction\n",
      "WARNING:chemschematicresolver.extract:Confidence of label 26 deemed too low for extraction\n",
      "WARNING:chemschematicresolver.actions:No SMILES string was extracted for diagram 49\n",
      "WARNING:chemschematicresolver.extract:Confidence of label 21 deemed too low for extraction\n",
      "WARNING:chemschematicresolver.extract:Confidence of label 20 deemed too low for extraction\n",
      "WARNING:chemschematicresolver.extract:Text could not be resolved from label 14\n",
      "WARNING:chemschematicresolver.extract:Confidence of label 14 deemed too low for extraction\n",
      "WARNING:chemschematicresolver.extract:Text could not be resolved from label 19\n",
      "WARNING:chemschematicresolver.extract:Confidence of label 19 deemed too low for extraction\n",
      "WARNING:chemschematicresolver.extract:Text could not be resolved from label 8\n",
      "WARNING:chemschematicresolver.extract:Confidence of label 8 deemed too low for extraction\n",
      "WARNING:chemschematicresolver.extract:Confidence of label 22 deemed too low for extraction\n",
      "WARNING:chemschematicresolver.extract:Text could not be resolved from label 17\n",
      "WARNING:chemschematicresolver.extract:Confidence of label 17 deemed too low for extraction\n",
      "WARNING:chemschematicresolver.extract:Text could not be resolved from label 6\n",
      "WARNING:chemschematicresolver.extract:Confidence of label 6 deemed too low for extraction\n",
      "WARNING:chemschematicresolver.extract:Text could not be resolved from label 13\n",
      "WARNING:chemschematicresolver.extract:Confidence of label 13 deemed too low for extraction\n",
      "WARNING:chemschematicresolver.extract:Text could not be resolved from label 16\n",
      "WARNING:chemschematicresolver.extract:Confidence of label 16 deemed too low for extraction\n",
      "WARNING:chemschematicresolver.extract:Text could not be resolved from label 9\n",
      "WARNING:chemschematicresolver.extract:Confidence of label 9 deemed too low for extraction\n",
      "WARNING:chemschematicresolver.extract:Text could not be resolved from label 5\n",
      "WARNING:chemschematicresolver.extract:Confidence of label 5 deemed too low for extraction\n",
      "WARNING:chemschematicresolver.extract:Text could not be resolved from label 18\n",
      "WARNING:chemschematicresolver.extract:Confidence of label 18 deemed too low for extraction\n",
      "WARNING:chemschematicresolver.extract:Confidence of label 23 deemed too low for extraction\n",
      "WARNING:chemschematicresolver.extract:Text could not be resolved from label 10\n",
      "WARNING:chemschematicresolver.extract:Confidence of label 10 deemed too low for extraction\n",
      "WARNING:chemschematicresolver.extract:Confidence of label 24 deemed too low for extraction\n",
      "WARNING:chemschematicresolver.extract:Some SMILES strings were determined to be false positives and were removed from the output.\n"
     ]
    },
    {
     "name": "stdout",
     "output_type": "stream",
     "text": [
      "extract image:  ./elsevier_images/test/image/299_gr7.jpeg\n"
     ]
    },
    {
     "name": "stderr",
     "output_type": "stream",
     "text": [
      "WARNING:chemschematicresolver.extract:Confidence of label 11 deemed too low for extraction\n",
      "WARNING:chemschematicresolver.extract:Confidence of label 10 deemed too low for extraction\n",
      "WARNING:chemschematicresolver.extract:Confidence of label 9 deemed too low for extraction\n"
     ]
    },
    {
     "name": "stdout",
     "output_type": "stream",
     "text": [
      "extract image:  ./elsevier_images/test/image/299_gr8.jpeg\n",
      "extract image:  ./elsevier_images/test/image/299_gr9.jpeg\n"
     ]
    },
    {
     "name": "stderr",
     "output_type": "stream",
     "text": [
      "WARNING:chemschematicresolver.extract:Confidence of label 3 deemed too low for extraction\n",
      "WARNING:chemschematicresolver.extract:Confidence of label 14 deemed too low for extraction\n",
      "WARNING:chemschematicresolver.extract:Confidence of label 11 deemed too low for extraction\n",
      "WARNING:chemschematicresolver.actions:No SMILES string was extracted for diagram 24\n",
      "WARNING:chemschematicresolver.extract:Confidence of label 1 deemed too low for extraction\n",
      "WARNING:chemschematicresolver.extract:Confidence of label 12 deemed too low for extraction\n",
      "WARNING:chemschematicresolver.extract:Some SMILES strings were determined to be false positives and were removed from the output.\n"
     ]
    },
    {
     "name": "stdout",
     "output_type": "stream",
     "text": [
      "extract image:  ./elsevier_images/test/image/300_fx1.jpeg\n"
     ]
    },
    {
     "name": "stderr",
     "output_type": "stream",
     "text": [
      "WARNING:chemschematicresolver.extract:Text could not be resolved from label 2\n",
      "WARNING:chemschematicresolver.extract:Confidence of label 2 deemed too low for extraction\n",
      "WARNING:chemschematicresolver.extract:Text could not be resolved from label 0\n",
      "WARNING:chemschematicresolver.extract:Confidence of label 0 deemed too low for extraction\n",
      "WARNING:chemschematicresolver.extract:Text could not be resolved from label 4\n",
      "WARNING:chemschematicresolver.extract:Confidence of label 4 deemed too low for extraction\n",
      "WARNING:chemschematicresolver.extract:Text could not be resolved from label 1\n",
      "WARNING:chemschematicresolver.extract:Confidence of label 1 deemed too low for extraction\n",
      "WARNING:chemschematicresolver.extract:Text could not be resolved from label 3\n",
      "WARNING:chemschematicresolver.extract:Confidence of label 3 deemed too low for extraction\n"
     ]
    },
    {
     "name": "stdout",
     "output_type": "stream",
     "text": [
      "extract image:  ./elsevier_images/test/image/300_gr1.jpeg\n"
     ]
    },
    {
     "name": "stderr",
     "output_type": "stream",
     "text": [
      "WARNING:chemschematicresolver.extract:Confidence of label 0 deemed too low for extraction\n"
     ]
    },
    {
     "name": "stdout",
     "output_type": "stream",
     "text": [
      "extract image:  ./elsevier_images/test/image/300_gr2.jpeg\n"
     ]
    },
    {
     "name": "stderr",
     "output_type": "stream",
     "text": [
      "WARNING:chemschematicresolver.extract:Confidence of label 0 deemed too low for extraction\n"
     ]
    },
    {
     "name": "stdout",
     "output_type": "stream",
     "text": [
      "extract image:  ./elsevier_images/test/image/300_gr3.jpeg\n"
     ]
    },
    {
     "name": "stderr",
     "output_type": "stream",
     "text": [
      "WARNING:chemschematicresolver.actions:No SMILES string was extracted for diagram 2\n",
      "WARNING:chemschematicresolver.extract:Some SMILES strings were determined to be false positives and were removed from the output.\n"
     ]
    },
    {
     "name": "stdout",
     "output_type": "stream",
     "text": [
      "extract image:  ./elsevier_images/test/image/300_gr4.jpeg\n"
     ]
    },
    {
     "name": "stderr",
     "output_type": "stream",
     "text": [
      "WARNING:chemschematicresolver.extract:Confidence of label 0 deemed too low for extraction\n"
     ]
    },
    {
     "name": "stdout",
     "output_type": "stream",
     "text": [
      "extract image:  ./elsevier_images/test/image/300_gr5.jpeg\n"
     ]
    },
    {
     "name": "stderr",
     "output_type": "stream",
     "text": [
      "WARNING:chemschematicresolver.extract:Confidence of label 4 deemed too low for extraction\n"
     ]
    },
    {
     "name": "stdout",
     "output_type": "stream",
     "text": [
      "extract image:  ./elsevier_images/test/image/300_gr6.jpeg\n",
      "Runtime error, no smiles\n",
      "extract image:  ./elsevier_images/test/image/300_gr7.jpeg\n",
      "extract image:  ./elsevier_images/test/image/300_sc1.jpeg\n",
      "extract image:  ./elsevier_images/test/image/347_fx1.jpeg\n"
     ]
    },
    {
     "name": "stderr",
     "output_type": "stream",
     "text": [
      "WARNING:chemschematicresolver.extract:Confidence of label 1 deemed too low for extraction\n",
      "WARNING:chemschematicresolver.extract:Text could not be resolved from label 0\n",
      "WARNING:chemschematicresolver.extract:Confidence of label 0 deemed too low for extraction\n",
      "WARNING:chemschematicresolver.actions:No SMILES string was extracted for diagram 10\n"
     ]
    },
    {
     "name": "stdout",
     "output_type": "stream",
     "text": [
      "extract image:  ./elsevier_images/test/image/347_gr1.jpeg\n"
     ]
    },
    {
     "name": "stderr",
     "output_type": "stream",
     "text": [
      "WARNING:chemschematicresolver.extract:Confidence of label 0 deemed too low for extraction\n",
      "WARNING:chemschematicresolver.extract:Some SMILES strings were determined to be false positives and were removed from the output.\n"
     ]
    },
    {
     "name": "stdout",
     "output_type": "stream",
     "text": [
      "extract image:  ./elsevier_images/test/image/347_gr2.jpeg\n"
     ]
    },
    {
     "name": "stderr",
     "output_type": "stream",
     "text": [
      "WARNING:chemschematicresolver.extract:Confidence of label 5 deemed too low for extraction\n"
     ]
    },
    {
     "name": "stdout",
     "output_type": "stream",
     "text": [
      "extract image:  ./elsevier_images/test/image/347_gr3.jpeg\n"
     ]
    },
    {
     "name": "stderr",
     "output_type": "stream",
     "text": [
      "WARNING:chemschematicresolver.extract:Confidence of label 1 deemed too low for extraction\n"
     ]
    },
    {
     "name": "stdout",
     "output_type": "stream",
     "text": [
      "extract image:  ./elsevier_images/test/image/347_gr4.jpeg\n",
      "extract image:  ./elsevier_images/test/image/347_gr5.jpeg\n"
     ]
    },
    {
     "name": "stderr",
     "output_type": "stream",
     "text": [
      "WARNING:chemschematicresolver.extract:Confidence of label 13 deemed too low for extraction\n",
      "WARNING:chemschematicresolver.extract:Confidence of label 10 deemed too low for extraction\n",
      "WARNING:chemschematicresolver.extract:Confidence of label 4 deemed too low for extraction\n",
      "WARNING:chemschematicresolver.extract:Confidence of label 8 deemed too low for extraction\n",
      "WARNING:chemschematicresolver.extract:Confidence of label 11 deemed too low for extraction\n",
      "WARNING:chemschematicresolver.actions:No SMILES string was extracted for diagram 18\n",
      "WARNING:chemschematicresolver.extract:Some SMILES strings were determined to be false positives and were removed from the output.\n"
     ]
    },
    {
     "name": "stdout",
     "output_type": "stream",
     "text": [
      "extract image:  ./elsevier_images/test/image/347_gr6.jpeg\n"
     ]
    },
    {
     "name": "stderr",
     "output_type": "stream",
     "text": [
      "WARNING:chemschematicresolver.extract:Confidence of label 5 deemed too low for extraction\n",
      "WARNING:chemschematicresolver.extract:Confidence of label 4 deemed too low for extraction\n",
      "WARNING:chemschematicresolver.extract:Confidence of label 1 deemed too low for extraction\n"
     ]
    },
    {
     "name": "stdout",
     "output_type": "stream",
     "text": [
      "extract image:  ./elsevier_images/test/image/347_gr7.jpeg\n",
      "extract image:  ./elsevier_images/test/image/347_gr8.jpeg\n"
     ]
    },
    {
     "name": "stderr",
     "output_type": "stream",
     "text": [
      "WARNING:chemschematicresolver.extract:Confidence of label 0 deemed too low for extraction\n"
     ]
    },
    {
     "name": "stdout",
     "output_type": "stream",
     "text": [
      "extract image:  ./elsevier_images/test/image/347_sc1.jpeg\n"
     ]
    },
    {
     "name": "stderr",
     "output_type": "stream",
     "text": [
      "WARNING:chemschematicresolver.extract:Confidence of label 4 deemed too low for extraction\n",
      "WARNING:chemschematicresolver.extract:Confidence of label 19 deemed too low for extraction\n",
      "WARNING:chemschematicresolver.extract:Confidence of label 10 deemed too low for extraction\n",
      "WARNING:chemschematicresolver.extract:Confidence of label 2 deemed too low for extraction\n"
     ]
    },
    {
     "name": "stdout",
     "output_type": "stream",
     "text": [
      "extract image:  ./elsevier_images/test/image/377_gr1.jpeg\n"
     ]
    },
    {
     "name": "stderr",
     "output_type": "stream",
     "text": [
      "WARNING:chemschematicresolver.actions:No SMILES string was extracted for diagram 16\n",
      "WARNING:chemschematicresolver.extract:Text could not be resolved from label 1\n",
      "WARNING:chemschematicresolver.extract:Confidence of label 1 deemed too low for extraction\n",
      "WARNING:chemschematicresolver.extract:Confidence of label 11 deemed too low for extraction\n",
      "WARNING:chemschematicresolver.extract:Confidence of label 6 deemed too low for extraction\n",
      "WARNING:chemschematicresolver.extract:Some SMILES strings were determined to be false positives and were removed from the output.\n"
     ]
    },
    {
     "name": "stdout",
     "output_type": "stream",
     "text": [
      "extract image:  ./elsevier_images/test/image/377_gr2.jpeg\n"
     ]
    },
    {
     "name": "stderr",
     "output_type": "stream",
     "text": [
      "WARNING:chemschematicresolver.extract:Confidence of label 20 deemed too low for extraction\n",
      "WARNING:chemschematicresolver.extract:Confidence of label 22 deemed too low for extraction\n",
      "WARNING:chemschematicresolver.extract:Confidence of label 19 deemed too low for extraction\n",
      "WARNING:chemschematicresolver.extract:Confidence of label 2 deemed too low for extraction\n"
     ]
    },
    {
     "name": "stdout",
     "output_type": "stream",
     "text": [
      "extract image:  ./elsevier_images/test/image/377_gr3.jpeg\n",
      "extract image:  ./elsevier_images/test/image/377_gr4.jpeg\n"
     ]
    },
    {
     "name": "stderr",
     "output_type": "stream",
     "text": [
      "WARNING:chemschematicresolver.actions:No SMILES string was extracted for diagram 7\n",
      "WARNING:chemschematicresolver.actions:No SMILES string was extracted for diagram 5\n",
      "WARNING:chemschematicresolver.actions:No SMILES string was extracted for diagram 6\n",
      "WARNING:chemschematicresolver.extract:Some SMILES strings were determined to be false positives and were removed from the output.\n"
     ]
    },
    {
     "name": "stdout",
     "output_type": "stream",
     "text": [
      "extract image:  ./elsevier_images/test/image/377_gr5.jpeg\n",
      "Runtime error, no smiles\n",
      "extract image:  ./elsevier_images/test/image/377_sc1.jpeg\n"
     ]
    },
    {
     "name": "stderr",
     "output_type": "stream",
     "text": [
      "WARNING:chemschematicresolver.extract:Confidence of label 4 deemed too low for extraction\n",
      "WARNING:chemschematicresolver.extract:Text could not be resolved from label 0\n",
      "WARNING:chemschematicresolver.extract:Confidence of label 0 deemed too low for extraction\n"
     ]
    },
    {
     "name": "stdout",
     "output_type": "stream",
     "text": [
      "extract image:  ./elsevier_images/test/image/379_fx1.jpeg\n",
      "extract image:  ./elsevier_images/test/image/379_gr1.jpeg\n"
     ]
    },
    {
     "name": "stderr",
     "output_type": "stream",
     "text": [
      "WARNING:chemschematicresolver.extract:Confidence of label 2 deemed too low for extraction\n"
     ]
    },
    {
     "name": "stdout",
     "output_type": "stream",
     "text": [
      "extract image:  ./elsevier_images/test/image/379_gr2.jpeg\n"
     ]
    },
    {
     "name": "stderr",
     "output_type": "stream",
     "text": [
      "WARNING:chemschematicresolver.extract:Confidence of label 6 deemed too low for extraction\n",
      "WARNING:chemschematicresolver.extract:Confidence of label 7 deemed too low for extraction\n"
     ]
    },
    {
     "name": "stdout",
     "output_type": "stream",
     "text": [
      "extract image:  ./elsevier_images/test/image/379_gr3.jpeg\n"
     ]
    },
    {
     "name": "stderr",
     "output_type": "stream",
     "text": [
      "WARNING:chemschematicresolver.extract:Confidence of label 1 deemed too low for extraction\n",
      "WARNING:chemschematicresolver.extract:Confidence of label 2 deemed too low for extraction\n",
      "WARNING:chemschematicresolver.extract:Confidence of label 0 deemed too low for extraction\n"
     ]
    },
    {
     "name": "stdout",
     "output_type": "stream",
     "text": [
      "extract image:  ./elsevier_images/test/image/379_gr4.jpeg\n"
     ]
    },
    {
     "name": "stderr",
     "output_type": "stream",
     "text": [
      "WARNING:chemschematicresolver.extract:Confidence of label 0 deemed too low for extraction\n"
     ]
    },
    {
     "name": "stdout",
     "output_type": "stream",
     "text": [
      "extract image:  ./elsevier_images/test/image/379_gr5.jpeg\n",
      "Runtime error, no smiles\n",
      "extract image:  ./elsevier_images/test/image/379_sc1.jpeg\n"
     ]
    },
    {
     "name": "stderr",
     "output_type": "stream",
     "text": [
      "WARNING:chemschematicresolver.extract:Confidence of label 13 deemed too low for extraction\n",
      "WARNING:chemschematicresolver.extract:Confidence of label 1 deemed too low for extraction\n",
      "WARNING:chemschematicresolver.extract:Confidence of label 16 deemed too low for extraction\n",
      "WARNING:chemschematicresolver.extract:Confidence of label 11 deemed too low for extraction\n",
      "WARNING:chemschematicresolver.extract:Confidence of label 14 deemed too low for extraction\n",
      "WARNING:chemschematicresolver.actions:No SMILES string was extracted for diagram 22\n",
      "WARNING:chemschematicresolver.extract:Confidence of label 15 deemed too low for extraction\n",
      "WARNING:chemschematicresolver.extract:Text could not be resolved from label 7\n",
      "WARNING:chemschematicresolver.extract:Confidence of label 7 deemed too low for extraction\n",
      "WARNING:chemschematicresolver.extract:Confidence of label 0 deemed too low for extraction\n",
      "WARNING:chemschematicresolver.extract:Some SMILES strings were determined to be false positives and were removed from the output.\n"
     ]
    },
    {
     "name": "stdout",
     "output_type": "stream",
     "text": [
      "extract image:  ./elsevier_images/test/image/379_sc2.jpeg\n"
     ]
    },
    {
     "name": "stderr",
     "output_type": "stream",
     "text": [
      "WARNING:chemschematicresolver.extract:Confidence of label 2 deemed too low for extraction\n",
      "WARNING:chemschematicresolver.extract:Confidence of label 0 deemed too low for extraction\n",
      "WARNING:chemschematicresolver.r_group:No SMILES strings were extracted for diagram 14\n",
      "WARNING:chemschematicresolver.r_group:No SMILES strings were extracted for diagram 11\n"
     ]
    },
    {
     "name": "stdout",
     "output_type": "stream",
     "text": [
      "extract image:  ./elsevier_images/test/image/391_fx1.jpeg\n"
     ]
    },
    {
     "name": "stderr",
     "output_type": "stream",
     "text": [
      "WARNING:chemschematicresolver.extract:Text could not be resolved from label 3\n",
      "WARNING:chemschematicresolver.extract:Confidence of label 3 deemed too low for extraction\n",
      "WARNING:chemschematicresolver.extract:Confidence of label 4 deemed too low for extraction\n",
      "WARNING:chemschematicresolver.extract:Confidence of label 7 deemed too low for extraction\n"
     ]
    },
    {
     "name": "stdout",
     "output_type": "stream",
     "text": [
      "extract image:  ./elsevier_images/test/image/391_gr1.jpeg\n"
     ]
    },
    {
     "name": "stderr",
     "output_type": "stream",
     "text": [
      "WARNING:chemschematicresolver.extract:Confidence of label 1 deemed too low for extraction\n",
      "WARNING:chemschematicresolver.extract:Confidence of label 0 deemed too low for extraction\n",
      "WARNING:chemschematicresolver.extract:Confidence of label 1 deemed too low for extraction\n"
     ]
    },
    {
     "name": "stdout",
     "output_type": "stream",
     "text": [
      "extract image:  ./elsevier_images/test/image/391_gr2.jpeg\n",
      "extract image:  ./elsevier_images/test/image/391_gr3.jpeg\n"
     ]
    },
    {
     "name": "stderr",
     "output_type": "stream",
     "text": [
      "WARNING:chemschematicresolver.extract:Confidence of label 1 deemed too low for extraction\n",
      "WARNING:chemschematicresolver.actions:No SMILES string was extracted for diagram 4\n",
      "WARNING:chemschematicresolver.extract:Confidence of label 3 deemed too low for extraction\n",
      "WARNING:chemschematicresolver.extract:Confidence of label 2 deemed too low for extraction\n",
      "WARNING:chemschematicresolver.extract:Some SMILES strings were determined to be false positives and were removed from the output.\n"
     ]
    },
    {
     "name": "stdout",
     "output_type": "stream",
     "text": [
      "extract image:  ./elsevier_images/test/image/391_gr4.jpeg\n"
     ]
    },
    {
     "name": "stderr",
     "output_type": "stream",
     "text": [
      "WARNING:chemschematicresolver.extract:Confidence of label 0 deemed too low for extraction\n",
      "WARNING:chemschematicresolver.extract:Confidence of label 2 deemed too low for extraction\n"
     ]
    },
    {
     "name": "stdout",
     "output_type": "stream",
     "text": [
      "extract image:  ./elsevier_images/test/image/391_gr5.jpeg\n"
     ]
    },
    {
     "name": "stderr",
     "output_type": "stream",
     "text": [
      "WARNING:chemschematicresolver.extract:Confidence of label 3 deemed too low for extraction\n",
      "WARNING:chemschematicresolver.actions:No SMILES string was extracted for diagram 4\n",
      "WARNING:chemschematicresolver.extract:Some SMILES strings were determined to be false positives and were removed from the output.\n"
     ]
    },
    {
     "name": "stdout",
     "output_type": "stream",
     "text": [
      "extract image:  ./elsevier_images/test/image/391_gr6.jpeg\n"
     ]
    },
    {
     "name": "stderr",
     "output_type": "stream",
     "text": [
      "WARNING:chemschematicresolver.extract:Text could not be resolved from label 5\n",
      "WARNING:chemschematicresolver.extract:Confidence of label 5 deemed too low for extraction\n",
      "WARNING:chemschematicresolver.extract:Text could not be resolved from label 22\n",
      "WARNING:chemschematicresolver.extract:Confidence of label 22 deemed too low for extraction\n",
      "WARNING:chemschematicresolver.extract:Confidence of label 30 deemed too low for extraction\n",
      "WARNING:chemschematicresolver.extract:Text could not be resolved from label 20\n",
      "WARNING:chemschematicresolver.extract:Confidence of label 20 deemed too low for extraction\n",
      "WARNING:chemschematicresolver.extract:Text could not be resolved from label 6\n",
      "WARNING:chemschematicresolver.extract:Confidence of label 6 deemed too low for extraction\n",
      "WARNING:chemschematicresolver.extract:Confidence of label 32 deemed too low for extraction\n",
      "WARNING:chemschematicresolver.extract:Text could not be resolved from label 19\n",
      "WARNING:chemschematicresolver.extract:Confidence of label 19 deemed too low for extraction\n",
      "WARNING:chemschematicresolver.extract:Confidence of label 28 deemed too low for extraction\n",
      "WARNING:chemschematicresolver.actions:No SMILES string was extracted for diagram 40\n",
      "WARNING:chemschematicresolver.actions:No SMILES string was extracted for diagram 52\n",
      "WARNING:chemschematicresolver.extract:Confidence of label 9 deemed too low for extraction\n",
      "WARNING:chemschematicresolver.extract:Confidence of label 2 deemed too low for extraction\n",
      "WARNING:chemschematicresolver.extract:Confidence of label 0 deemed too low for extraction\n",
      "WARNING:chemschematicresolver.extract:Text could not be resolved from label 14\n",
      "WARNING:chemschematicresolver.extract:Confidence of label 14 deemed too low for extraction\n",
      "WARNING:chemschematicresolver.extract:Some SMILES strings were determined to be false positives and were removed from the output.\n"
     ]
    },
    {
     "name": "stdout",
     "output_type": "stream",
     "text": [
      "extract image:  ./elsevier_images/test/image/391_sc1.jpeg\n"
     ]
    },
    {
     "name": "stderr",
     "output_type": "stream",
     "text": [
      "WARNING:chemschematicresolver.extract:Confidence of label 23 deemed too low for extraction\n",
      "WARNING:chemschematicresolver.extract:Text could not be resolved from label 1\n",
      "WARNING:chemschematicresolver.extract:Confidence of label 1 deemed too low for extraction\n",
      "WARNING:chemschematicresolver.extract:Confidence of label 10 deemed too low for extraction\n",
      "WARNING:chemschematicresolver.extract:Confidence of label 6 deemed too low for extraction\n",
      "WARNING:chemschematicresolver.extract:Confidence of label 18 deemed too low for extraction\n",
      "WARNING:chemschematicresolver.extract:Confidence of label 22 deemed too low for extraction\n",
      "WARNING:chemschematicresolver.extract:Confidence of label 24 deemed too low for extraction\n",
      "WARNING:chemschematicresolver.extract:Text could not be resolved from label 0\n",
      "WARNING:chemschematicresolver.extract:Confidence of label 0 deemed too low for extraction\n",
      "WARNING:chemschematicresolver.extract:Confidence of label 20 deemed too low for extraction\n",
      "WARNING:chemschematicresolver.extract:Confidence of label 3 deemed too low for extraction\n",
      "WARNING:chemschematicresolver.extract:Confidence of label 4 deemed too low for extraction\n",
      "WARNING:chemschematicresolver.extract:Confidence of label 17 deemed too low for extraction\n",
      "WARNING:chemschematicresolver.extract:Confidence of label 21 deemed too low for extraction\n",
      "WARNING:chemschematicresolver.extract:Confidence of label 19 deemed too low for extraction\n"
     ]
    },
    {
     "name": "stdout",
     "output_type": "stream",
     "text": [
      "extract image:  ./elsevier_images/test/image/392_gr1.jpeg\n"
     ]
    },
    {
     "name": "stderr",
     "output_type": "stream",
     "text": [
      "WARNING:chemschematicresolver.extract:Confidence of label 1 deemed too low for extraction\n"
     ]
    },
    {
     "name": "stdout",
     "output_type": "stream",
     "text": [
      "extract image:  ./elsevier_images/test/image/392_gr2.jpeg\n",
      "extract image:  ./elsevier_images/test/image/392_gr3.jpeg\n"
     ]
    },
    {
     "name": "stderr",
     "output_type": "stream",
     "text": [
      "WARNING:chemschematicresolver.extract:Confidence of label 9 deemed too low for extraction\n"
     ]
    },
    {
     "name": "stdout",
     "output_type": "stream",
     "text": [
      "extract image:  ./elsevier_images/test/image/392_gr4.jpeg\n"
     ]
    },
    {
     "name": "stderr",
     "output_type": "stream",
     "text": [
      "WARNING:chemschematicresolver.extract:Confidence of label 1 deemed too low for extraction\n"
     ]
    },
    {
     "name": "stdout",
     "output_type": "stream",
     "text": [
      "extract image:  ./elsevier_images/test/image/392_gr5.jpeg\n"
     ]
    },
    {
     "name": "stderr",
     "output_type": "stream",
     "text": [
      "WARNING:chemschematicresolver.extract:Confidence of label 6 deemed too low for extraction\n"
     ]
    },
    {
     "name": "stdout",
     "output_type": "stream",
     "text": [
      "extract image:  ./elsevier_images/test/image/392_gr6.jpeg\n"
     ]
    },
    {
     "name": "stderr",
     "output_type": "stream",
     "text": [
      "WARNING:chemschematicresolver.extract:Confidence of label 0 deemed too low for extraction\n",
      "WARNING:chemschematicresolver.extract:Confidence of label 0 deemed too low for extraction\n"
     ]
    },
    {
     "name": "stdout",
     "output_type": "stream",
     "text": [
      "extract image:  ./elsevier_images/test/image/392_gr7.jpeg\n",
      "extract image:  ./elsevier_images/test/image/392_sc1.jpeg\n"
     ]
    },
    {
     "name": "stderr",
     "output_type": "stream",
     "text": [
      "WARNING:chemschematicresolver.extract:Confidence of label 6 deemed too low for extraction\n",
      "WARNING:chemschematicresolver.actions:No SMILES string was extracted for diagram 7\n",
      "WARNING:chemschematicresolver.extract:Some SMILES strings were determined to be false positives and were removed from the output.\n"
     ]
    },
    {
     "name": "stdout",
     "output_type": "stream",
     "text": [
      "extract image:  ./elsevier_images/test/image/392_sc2.jpeg\n"
     ]
    },
    {
     "name": "stderr",
     "output_type": "stream",
     "text": [
      "WARNING:chemschematicresolver.extract:Confidence of label 13 deemed too low for extraction\n",
      "WARNING:chemschematicresolver.extract:Text could not be resolved from label 3\n",
      "WARNING:chemschematicresolver.extract:Confidence of label 3 deemed too low for extraction\n",
      "WARNING:chemschematicresolver.extract:Text could not be resolved from label 9\n",
      "WARNING:chemschematicresolver.extract:Confidence of label 9 deemed too low for extraction\n",
      "WARNING:chemschematicresolver.extract:Text could not be resolved from label 10\n",
      "WARNING:chemschematicresolver.extract:Confidence of label 10 deemed too low for extraction\n",
      "WARNING:chemschematicresolver.extract:Text could not be resolved from label 6\n",
      "WARNING:chemschematicresolver.extract:Confidence of label 6 deemed too low for extraction\n"
     ]
    },
    {
     "name": "stdout",
     "output_type": "stream",
     "text": [
      "extract image:  ./elsevier_images/test/image/423_fx1.jpeg\n"
     ]
    },
    {
     "name": "stderr",
     "output_type": "stream",
     "text": [
      "WARNING:chemschematicresolver.extract:Confidence of label 1 deemed too low for extraction\n"
     ]
    },
    {
     "name": "stdout",
     "output_type": "stream",
     "text": [
      "extract image:  ./elsevier_images/test/image/423_gr1.jpeg\n"
     ]
    },
    {
     "name": "stderr",
     "output_type": "stream",
     "text": [
      "WARNING:chemschematicresolver.actions:No SMILES string was extracted for diagram 16\n",
      "WARNING:chemschematicresolver.actions:No SMILES string was extracted for diagram 19\n",
      "WARNING:chemschematicresolver.actions:No SMILES string was extracted for diagram 11\n",
      "WARNING:chemschematicresolver.actions:No SMILES string was extracted for diagram 18\n",
      "WARNING:chemschematicresolver.extract:Confidence of label 2 deemed too low for extraction\n",
      "WARNING:chemschematicresolver.extract:Confidence of label 0 deemed too low for extraction\n",
      "WARNING:chemschematicresolver.actions:No SMILES string was extracted for diagram 10\n",
      "WARNING:chemschematicresolver.actions:No SMILES string was extracted for diagram 17\n",
      "WARNING:chemschematicresolver.actions:No SMILES string was extracted for diagram 13\n",
      "WARNING:chemschematicresolver.extract:Some SMILES strings were determined to be false positives and were removed from the output.\n"
     ]
    },
    {
     "name": "stdout",
     "output_type": "stream",
     "text": [
      "extract image:  ./elsevier_images/test/image/423_gr2.jpeg\n"
     ]
    },
    {
     "name": "stderr",
     "output_type": "stream",
     "text": [
      "WARNING:chemschematicresolver.extract:Confidence of label 0 deemed too low for extraction\n",
      "WARNING:chemschematicresolver.actions:No SMILES string was extracted for diagram 6\n",
      "WARNING:chemschematicresolver.extract:Confidence of label 3 deemed too low for extraction\n",
      "WARNING:chemschematicresolver.extract:Confidence of label 4 deemed too low for extraction\n",
      "WARNING:chemschematicresolver.extract:Some SMILES strings were determined to be false positives and were removed from the output.\n"
     ]
    },
    {
     "name": "stdout",
     "output_type": "stream",
     "text": [
      "extract image:  ./elsevier_images/test/image/423_gr3.jpeg\n"
     ]
    },
    {
     "name": "stderr",
     "output_type": "stream",
     "text": [
      "WARNING:chemschematicresolver.extract:Confidence of label 0 deemed too low for extraction\n"
     ]
    },
    {
     "name": "stdout",
     "output_type": "stream",
     "text": [
      "extract image:  ./elsevier_images/test/image/423_gr4.jpeg\n"
     ]
    },
    {
     "name": "stderr",
     "output_type": "stream",
     "text": [
      "WARNING:chemschematicresolver.extract:Confidence of label 1 deemed too low for extraction\n"
     ]
    },
    {
     "name": "stdout",
     "output_type": "stream",
     "text": [
      "extract image:  ./elsevier_images/test/image/423_gr5.jpeg\n"
     ]
    },
    {
     "name": "stderr",
     "output_type": "stream",
     "text": [
      "WARNING:chemschematicresolver.extract:Confidence of label 1 deemed too low for extraction\n",
      "WARNING:chemschematicresolver.extract:Confidence of label 9 deemed too low for extraction\n",
      "WARNING:chemschematicresolver.extract:Confidence of label 4 deemed too low for extraction\n"
     ]
    },
    {
     "name": "stdout",
     "output_type": "stream",
     "text": [
      "extract image:  ./elsevier_images/test/image/458_Bing_Guo_wide_bandgap_2017_P01.jpeg\n",
      "extract image:  ./elsevier_images/test/image/458_Bing_Guo_wide_bandgap_2017_P02.jpeg\n",
      "extract image:  ./elsevier_images/test/image/458_Bing_Guo_wide_bandgap_2017_P03.jpeg\n",
      "extract image:  ./elsevier_images/test/image/458_Bing_Guo_wide_bandgap_2017_P04.jpeg\n",
      "extract image:  ./elsevier_images/test/image/458_Bing_Guo_wide_bandgap_2017_P05.jpeg\n",
      "extract image:  ./elsevier_images/test/image/458_Bing_Guo_wide_bandgap_2017_P06.jpeg\n",
      "extract image:  ./elsevier_images/test/image/458_Bing_Guo_wide_bandgap_2017_P07.jpeg\n",
      "extract image:  ./elsevier_images/test/image/458_Bing_Guo_wide_bandgap_2017_P08.jpeg\n",
      "extract image:  ./elsevier_images/test/image/458_Bing_Guo_wide_bandgap_2017_P09.jpeg\n",
      "extract image:  ./elsevier_images/test/image/458_Bing_Guo_wide_bandgap_2017_P10.jpeg\n",
      "extract image:  ./elsevier_images/test/image/458_Bing_Guo_wide_bandgap_2017_P11.jpeg\n",
      "extract image:  ./elsevier_images/test/image/458_Bing_Guo_wide_bandgap_2017_P12.jpeg\n",
      "extract image:  ./elsevier_images/test/image/458_Bing_Guo_wide_bandgap_2017_P13.jpeg\n",
      "extract image:  ./elsevier_images/test/image/458_Bing_Guo_wide_bandgap_2017_P14.jpeg\n",
      "extract image:  ./elsevier_images/test/image/458_Bing_Guo_wide_bandgap_2017_P15.jpeg\n",
      "extract image:  ./elsevier_images/test/image/458_Bing_Guo_wide_bandgap_2017_P16.jpeg\n",
      "extract image:  ./elsevier_images/test/image/458_Bing_Guo_wide_bandgap_2017_P17.jpeg\n",
      "extract image:  ./elsevier_images/test/image/458_Bing_Guo_wide_bandgap_2017_P18.jpeg\n",
      "extract image:  ./elsevier_images/test/image/458_Bing_Guo_wide_bandgap_2017_P19.jpeg\n",
      "extract image:  ./elsevier_images/test/image/458_fx1.jpeg\n"
     ]
    },
    {
     "name": "stderr",
     "output_type": "stream",
     "text": [
      "WARNING:chemschematicresolver.actions:No SMILES string was extracted for diagram 5\n",
      "WARNING:chemschematicresolver.actions:No SMILES string was extracted for diagram 4\n",
      "WARNING:chemschematicresolver.extract:Some SMILES strings were determined to be false positives and were removed from the output.\n"
     ]
    },
    {
     "name": "stdout",
     "output_type": "stream",
     "text": [
      "extract image:  ./elsevier_images/test/image/458_gr1.jpeg\n"
     ]
    },
    {
     "name": "stderr",
     "output_type": "stream",
     "text": [
      "WARNING:chemschematicresolver.extract:Confidence of label 6 deemed too low for extraction\n"
     ]
    },
    {
     "name": "stdout",
     "output_type": "stream",
     "text": [
      "extract image:  ./elsevier_images/test/image/458_gr2.jpeg\n",
      "extract image:  ./elsevier_images/test/image/458_gr3.jpeg\n"
     ]
    },
    {
     "name": "stderr",
     "output_type": "stream",
     "text": [
      "WARNING:chemschematicresolver.actions:No SMILES string was extracted for diagram 4\n",
      "WARNING:chemschematicresolver.actions:No SMILES string was extracted for diagram 3\n",
      "WARNING:chemschematicresolver.extract:Some SMILES strings were determined to be false positives and were removed from the output.\n"
     ]
    },
    {
     "name": "stdout",
     "output_type": "stream",
     "text": [
      "extract image:  ./elsevier_images/test/image/458_gr4.jpeg\n",
      "extract image:  ./elsevier_images/test/image/458_gr5.jpeg\n",
      "Runtime error, no smiles\n",
      "extract image:  ./elsevier_images/test/image/463_fx1.jpeg\n",
      "extract image:  ./elsevier_images/test/image/463_gr1.jpeg\n"
     ]
    },
    {
     "name": "stderr",
     "output_type": "stream",
     "text": [
      "WARNING:chemschematicresolver.actions:No SMILES string was extracted for diagram 3\n",
      "WARNING:chemschematicresolver.actions:No SMILES string was extracted for diagram 4\n",
      "WARNING:chemschematicresolver.extract:Some SMILES strings were determined to be false positives and were removed from the output.\n"
     ]
    },
    {
     "name": "stdout",
     "output_type": "stream",
     "text": [
      "extract image:  ./elsevier_images/test/image/463_gr2.jpeg\n"
     ]
    },
    {
     "name": "stderr",
     "output_type": "stream",
     "text": [
      "WARNING:chemschematicresolver.actions:No SMILES string was extracted for diagram 17\n",
      "WARNING:chemschematicresolver.extract:Confidence of label 7 deemed too low for extraction\n",
      "WARNING:chemschematicresolver.extract:Confidence of label 8 deemed too low for extraction\n",
      "WARNING:chemschematicresolver.extract:Some SMILES strings were determined to be false positives and were removed from the output.\n"
     ]
    },
    {
     "name": "stdout",
     "output_type": "stream",
     "text": [
      "extract image:  ./elsevier_images/test/image/463_gr3.jpeg\n",
      "extract image:  ./elsevier_images/test/image/463_gr4.jpeg\n"
     ]
    },
    {
     "name": "stderr",
     "output_type": "stream",
     "text": [
      "WARNING:chemschematicresolver.actions:No SMILES string was extracted for diagram 25\n",
      "WARNING:chemschematicresolver.actions:No SMILES string was extracted for diagram 22\n",
      "WARNING:chemschematicresolver.actions:No SMILES string was extracted for diagram 28\n",
      "WARNING:chemschematicresolver.actions:No SMILES string was extracted for diagram 27\n",
      "WARNING:chemschematicresolver.actions:No SMILES string was extracted for diagram 21\n",
      "WARNING:chemschematicresolver.extract:Some SMILES strings were determined to be false positives and were removed from the output.\n"
     ]
    },
    {
     "name": "stdout",
     "output_type": "stream",
     "text": [
      "extract image:  ./elsevier_images/test/image/463_gr5.jpeg\n",
      "extract image:  ./elsevier_images/test/image/463_gr6.jpeg\n",
      "extract image:  ./elsevier_images/test/image/463_gr7.jpeg\n",
      "extract image:  ./elsevier_images/test/image/463_sc1.jpeg\n",
      "extract image:  ./elsevier_images/test/image/464_fx1.jpeg\n"
     ]
    },
    {
     "name": "stderr",
     "output_type": "stream",
     "text": [
      "WARNING:chemschematicresolver.extract:Text could not be resolved from label 0\n",
      "WARNING:chemschematicresolver.extract:Confidence of label 0 deemed too low for extraction\n",
      "WARNING:chemschematicresolver.extract:Confidence of label 3 deemed too low for extraction\n",
      "WARNING:chemschematicresolver.extract:Confidence of label 1 deemed too low for extraction\n"
     ]
    },
    {
     "name": "stdout",
     "output_type": "stream",
     "text": [
      "extract image:  ./elsevier_images/test/image/464_gr1.jpeg\n"
     ]
    },
    {
     "name": "stderr",
     "output_type": "stream",
     "text": [
      "WARNING:chemschematicresolver.actions:No SMILES string was extracted for diagram 5\n",
      "WARNING:chemschematicresolver.actions:No SMILES string was extracted for diagram 4\n",
      "WARNING:chemschematicresolver.extract:Some SMILES strings were determined to be false positives and were removed from the output.\n"
     ]
    },
    {
     "name": "stdout",
     "output_type": "stream",
     "text": [
      "extract image:  ./elsevier_images/test/image/464_gr2.jpeg\n"
     ]
    },
    {
     "name": "stderr",
     "output_type": "stream",
     "text": [
      "WARNING:chemschematicresolver.actions:No SMILES string was extracted for diagram 7\n",
      "WARNING:chemschematicresolver.actions:No SMILES string was extracted for diagram 5\n",
      "WARNING:chemschematicresolver.extract:Confidence of label 0 deemed too low for extraction\n",
      "WARNING:chemschematicresolver.extract:Some SMILES strings were determined to be false positives and were removed from the output.\n"
     ]
    },
    {
     "name": "stdout",
     "output_type": "stream",
     "text": [
      "extract image:  ./elsevier_images/test/image/464_gr3.jpeg\n",
      "extract image:  ./elsevier_images/test/image/464_gr4.jpeg\n"
     ]
    },
    {
     "name": "stderr",
     "output_type": "stream",
     "text": [
      "WARNING:chemschematicresolver.extract:Confidence of label 5 deemed too low for extraction\n",
      "WARNING:chemschematicresolver.actions:No SMILES string was extracted for diagram 7\n",
      "WARNING:chemschematicresolver.extract:Confidence of label 0 deemed too low for extraction\n",
      "WARNING:chemschematicresolver.extract:Confidence of label 4 deemed too low for extraction\n",
      "WARNING:chemschematicresolver.extract:Some SMILES strings were determined to be false positives and were removed from the output.\n"
     ]
    },
    {
     "name": "stdout",
     "output_type": "stream",
     "text": [
      "extract image:  ./elsevier_images/test/image/464_gr5.jpeg\n",
      "extract image:  ./elsevier_images/test/image/464_gr6.jpeg\n"
     ]
    },
    {
     "name": "stderr",
     "output_type": "stream",
     "text": [
      "WARNING:chemschematicresolver.actions:No SMILES string was extracted for diagram 3\n",
      "WARNING:chemschematicresolver.actions:No SMILES string was extracted for diagram 4\n",
      "WARNING:chemschematicresolver.extract:Some SMILES strings were determined to be false positives and were removed from the output.\n"
     ]
    },
    {
     "name": "stdout",
     "output_type": "stream",
     "text": [
      "extract image:  ./elsevier_images/test/image/464_sc1.jpeg\n",
      "extract image:  ./elsevier_images/test/image/465_fx1.jpeg\n",
      "Runtime error, no smiles\n",
      "extract image:  ./elsevier_images/test/image/465_gr1.jpeg\n"
     ]
    },
    {
     "name": "stderr",
     "output_type": "stream",
     "text": [
      "WARNING:chemschematicresolver.actions:No SMILES string was extracted for diagram 4\n",
      "WARNING:chemschematicresolver.actions:No SMILES string was extracted for diagram 3\n",
      "WARNING:chemschematicresolver.extract:Some SMILES strings were determined to be false positives and were removed from the output.\n"
     ]
    },
    {
     "name": "stdout",
     "output_type": "stream",
     "text": [
      "extract image:  ./elsevier_images/test/image/465_gr2.jpeg\n",
      "Runtime error, no smiles\n",
      "extract image:  ./elsevier_images/test/image/465_gr3.jpeg\n",
      "Runtime error, no smiles\n",
      "extract image:  ./elsevier_images/test/image/465_gr4.jpeg\n"
     ]
    },
    {
     "name": "stderr",
     "output_type": "stream",
     "text": [
      "WARNING:chemschematicresolver.actions:No SMILES string was extracted for diagram 1\n",
      "WARNING:chemschematicresolver.extract:Some SMILES strings were determined to be false positives and were removed from the output.\n"
     ]
    },
    {
     "name": "stdout",
     "output_type": "stream",
     "text": [
      "extract image:  ./elsevier_images/test/image/465_gr5.jpeg\n"
     ]
    },
    {
     "name": "stderr",
     "output_type": "stream",
     "text": [
      "WARNING:chemschematicresolver.extract:Confidence of label 1 deemed too low for extraction\n"
     ]
    },
    {
     "name": "stdout",
     "output_type": "stream",
     "text": [
      "extract image:  ./elsevier_images/test/image/465_gr6.jpeg\n"
     ]
    },
    {
     "name": "stderr",
     "output_type": "stream",
     "text": [
      "WARNING:chemschematicresolver.actions:No SMILES string was extracted for diagram 4\n",
      "WARNING:chemschematicresolver.actions:No SMILES string was extracted for diagram 5\n",
      "WARNING:chemschematicresolver.extract:Some SMILES strings were determined to be false positives and were removed from the output.\n"
     ]
    },
    {
     "name": "stdout",
     "output_type": "stream",
     "text": [
      "extract image:  ./elsevier_images/test/image/465_gr7.jpeg\n",
      "Runtime error, no smiles\n",
      "extract image:  ./elsevier_images/test/image/465_sc1.jpeg\n",
      "extract image:  ./elsevier_images/test/image/466_fx1.jpeg\n"
     ]
    },
    {
     "name": "stderr",
     "output_type": "stream",
     "text": [
      "WARNING:chemschematicresolver.extract:Confidence of label 3 deemed too low for extraction\n"
     ]
    },
    {
     "name": "stdout",
     "output_type": "stream",
     "text": [
      "extract image:  ./elsevier_images/test/image/466_gr1.jpeg\n"
     ]
    },
    {
     "name": "stderr",
     "output_type": "stream",
     "text": [
      "WARNING:chemschematicresolver.actions:No SMILES string was extracted for diagram 3\n",
      "WARNING:chemschematicresolver.extract:Some SMILES strings were determined to be false positives and were removed from the output.\n"
     ]
    },
    {
     "name": "stdout",
     "output_type": "stream",
     "text": [
      "extract image:  ./elsevier_images/test/image/466_gr2.jpeg\n"
     ]
    },
    {
     "name": "stderr",
     "output_type": "stream",
     "text": [
      "WARNING:chemschematicresolver.extract:Confidence of label 1 deemed too low for extraction\n"
     ]
    },
    {
     "name": "stdout",
     "output_type": "stream",
     "text": [
      "extract image:  ./elsevier_images/test/image/466_gr3.jpeg\n"
     ]
    },
    {
     "name": "stderr",
     "output_type": "stream",
     "text": [
      "WARNING:chemschematicresolver.actions:No SMILES string was extracted for diagram 4\n",
      "WARNING:chemschematicresolver.extract:Confidence of label 2 deemed too low for extraction\n",
      "WARNING:chemschematicresolver.extract:Some SMILES strings were determined to be false positives and were removed from the output.\n"
     ]
    },
    {
     "name": "stdout",
     "output_type": "stream",
     "text": [
      "extract image:  ./elsevier_images/test/image/466_gr4.jpeg\n"
     ]
    },
    {
     "name": "stderr",
     "output_type": "stream",
     "text": [
      "WARNING:chemschematicresolver.actions:No SMILES string was extracted for diagram 2\n",
      "WARNING:chemschematicresolver.extract:Some SMILES strings were determined to be false positives and were removed from the output.\n"
     ]
    },
    {
     "name": "stdout",
     "output_type": "stream",
     "text": [
      "extract image:  ./elsevier_images/test/image/466_gr5.jpeg\n"
     ]
    },
    {
     "name": "stderr",
     "output_type": "stream",
     "text": [
      "WARNING:chemschematicresolver.actions:No SMILES string was extracted for diagram 2\n",
      "WARNING:chemschematicresolver.extract:Some SMILES strings were determined to be false positives and were removed from the output.\n"
     ]
    },
    {
     "name": "stdout",
     "output_type": "stream",
     "text": [
      "extract image:  ./elsevier_images/test/image/466_gr6.jpeg\n",
      "extract image:  ./elsevier_images/test/image/466_sc1.jpeg\n",
      "extract image:  ./elsevier_images/test/image/466_sc2.jpeg\n",
      "extract image:  ./elsevier_images/test/image/467_fx1.jpeg\n"
     ]
    },
    {
     "name": "stderr",
     "output_type": "stream",
     "text": [
      "WARNING:chemschematicresolver.extract:Confidence of label 1 deemed too low for extraction\n",
      "WARNING:chemschematicresolver.actions:No SMILES string was extracted for diagram 3\n",
      "WARNING:chemschematicresolver.extract:Some SMILES strings were determined to be false positives and were removed from the output.\n"
     ]
    },
    {
     "name": "stdout",
     "output_type": "stream",
     "text": [
      "extract image:  ./elsevier_images/test/image/467_gr1.jpeg\n"
     ]
    },
    {
     "name": "stderr",
     "output_type": "stream",
     "text": [
      "WARNING:chemschematicresolver.extract:Confidence of label 2 deemed too low for extraction\n",
      "WARNING:chemschematicresolver.actions:No SMILES string was extracted for diagram 3\n",
      "WARNING:chemschematicresolver.extract:Some SMILES strings were determined to be false positives and were removed from the output.\n"
     ]
    },
    {
     "name": "stdout",
     "output_type": "stream",
     "text": [
      "extract image:  ./elsevier_images/test/image/467_gr2.jpeg\n"
     ]
    },
    {
     "name": "stderr",
     "output_type": "stream",
     "text": [
      "WARNING:chemschematicresolver.extract:Confidence of label 3 deemed too low for extraction\n",
      "WARNING:chemschematicresolver.actions:No SMILES string was extracted for diagram 8\n",
      "WARNING:chemschematicresolver.extract:Confidence of label 4 deemed too low for extraction\n",
      "WARNING:chemschematicresolver.extract:Some SMILES strings were determined to be false positives and were removed from the output.\n"
     ]
    },
    {
     "name": "stdout",
     "output_type": "stream",
     "text": [
      "extract image:  ./elsevier_images/test/image/467_gr3.jpeg\n"
     ]
    },
    {
     "name": "stderr",
     "output_type": "stream",
     "text": [
      "WARNING:chemschematicresolver.actions:No SMILES string was extracted for diagram 2\n",
      "WARNING:chemschematicresolver.extract:Some SMILES strings were determined to be false positives and were removed from the output.\n"
     ]
    },
    {
     "name": "stdout",
     "output_type": "stream",
     "text": [
      "extract image:  ./elsevier_images/test/image/467_gr4.jpeg\n"
     ]
    },
    {
     "name": "stderr",
     "output_type": "stream",
     "text": [
      "WARNING:chemschematicresolver.extract:Confidence of label 1 deemed too low for extraction\n"
     ]
    },
    {
     "name": "stdout",
     "output_type": "stream",
     "text": [
      "extract image:  ./elsevier_images/test/image/467_gr5.jpeg\n"
     ]
    },
    {
     "name": "stderr",
     "output_type": "stream",
     "text": [
      "WARNING:chemschematicresolver.extract:Confidence of label 2 deemed too low for extraction\n"
     ]
    },
    {
     "name": "stdout",
     "output_type": "stream",
     "text": [
      "extract image:  ./elsevier_images/test/image/467_gr6.jpeg\n"
     ]
    },
    {
     "name": "stderr",
     "output_type": "stream",
     "text": [
      "WARNING:chemschematicresolver.actions:No SMILES string was extracted for diagram 4\n",
      "WARNING:chemschematicresolver.extract:Confidence of label 0 deemed too low for extraction\n",
      "WARNING:chemschematicresolver.extract:Some SMILES strings were determined to be false positives and were removed from the output.\n"
     ]
    },
    {
     "name": "stdout",
     "output_type": "stream",
     "text": [
      "extract image:  ./elsevier_images/test/image/467_gr7.jpeg\n",
      "extract image:  ./elsevier_images/test/image/467_sc1.jpeg\n"
     ]
    },
    {
     "name": "stderr",
     "output_type": "stream",
     "text": [
      "WARNING:chemschematicresolver.extract:Confidence of label 0 deemed too low for extraction\n"
     ]
    },
    {
     "name": "stdout",
     "output_type": "stream",
     "text": [
      "extract image:  ./elsevier_images/test/image/468_fx1.jpeg\n"
     ]
    },
    {
     "name": "stderr",
     "output_type": "stream",
     "text": [
      "WARNING:chemschematicresolver.actions:No SMILES string was extracted for diagram 2\n",
      "WARNING:chemschematicresolver.extract:Confidence of label 0 deemed too low for extraction\n",
      "WARNING:chemschematicresolver.extract:Some SMILES strings were determined to be false positives and were removed from the output.\n"
     ]
    },
    {
     "name": "stdout",
     "output_type": "stream",
     "text": [
      "extract image:  ./elsevier_images/test/image/468_gr1.jpeg\n"
     ]
    },
    {
     "name": "stderr",
     "output_type": "stream",
     "text": [
      "WARNING:chemschematicresolver.actions:No SMILES string was extracted for diagram 6\n",
      "WARNING:chemschematicresolver.actions:No SMILES string was extracted for diagram 7\n",
      "WARNING:chemschematicresolver.extract:Some SMILES strings were determined to be false positives and were removed from the output.\n"
     ]
    },
    {
     "name": "stdout",
     "output_type": "stream",
     "text": [
      "extract image:  ./elsevier_images/test/image/468_gr2.jpeg\n"
     ]
    },
    {
     "name": "stderr",
     "output_type": "stream",
     "text": [
      "WARNING:chemschematicresolver.extract:Confidence of label 12 deemed too low for extraction\n",
      "WARNING:chemschematicresolver.actions:No SMILES string was extracted for diagram 20\n",
      "WARNING:chemschematicresolver.actions:No SMILES string was extracted for diagram 22\n",
      "WARNING:chemschematicresolver.actions:No SMILES string was extracted for diagram 21\n",
      "WARNING:chemschematicresolver.actions:No SMILES string was extracted for diagram 34\n",
      "WARNING:chemschematicresolver.extract:Confidence of label 9 deemed too low for extraction\n",
      "WARNING:chemschematicresolver.actions:No SMILES string was extracted for diagram 35\n",
      "WARNING:chemschematicresolver.extract:Confidence of label 0 deemed too low for extraction\n",
      "WARNING:chemschematicresolver.extract:Some SMILES strings were determined to be false positives and were removed from the output.\n"
     ]
    },
    {
     "name": "stdout",
     "output_type": "stream",
     "text": [
      "extract image:  ./elsevier_images/test/image/468_gr3.jpeg\n",
      "extract image:  ./elsevier_images/test/image/468_gr4.jpeg\n",
      "extract image:  ./elsevier_images/test/image/468_gr5.jpeg\n"
     ]
    },
    {
     "name": "stderr",
     "output_type": "stream",
     "text": [
      "WARNING:chemschematicresolver.extract:Confidence of label 2 deemed too low for extraction\n",
      "WARNING:chemschematicresolver.actions:No SMILES string was extracted for diagram 8\n",
      "WARNING:chemschematicresolver.actions:No SMILES string was extracted for diagram 7\n",
      "WARNING:chemschematicresolver.extract:Some SMILES strings were determined to be false positives and were removed from the output.\n"
     ]
    },
    {
     "name": "stdout",
     "output_type": "stream",
     "text": [
      "extract image:  ./elsevier_images/test/image/469_fx1.jpeg\n"
     ]
    },
    {
     "name": "stderr",
     "output_type": "stream",
     "text": [
      "WARNING:chemschematicresolver.actions:No SMILES string was extracted for diagram 17\n",
      "WARNING:chemschematicresolver.actions:No SMILES string was extracted for diagram 13\n",
      "WARNING:chemschematicresolver.actions:No SMILES string was extracted for diagram 14\n",
      "WARNING:chemschematicresolver.extract:Some SMILES strings were determined to be false positives and were removed from the output.\n"
     ]
    },
    {
     "name": "stdout",
     "output_type": "stream",
     "text": [
      "extract image:  ./elsevier_images/test/image/469_gr1.jpeg\n",
      "extract image:  ./elsevier_images/test/image/469_gr2.jpeg\n",
      "extract image:  ./elsevier_images/test/image/469_gr3.jpeg\n",
      "extract image:  ./elsevier_images/test/image/469_gr4.jpeg\n",
      "extract image:  ./elsevier_images/test/image/469_gr5.jpeg\n",
      "extract image:  ./elsevier_images/test/image/470_fx1.jpeg\n"
     ]
    },
    {
     "name": "stderr",
     "output_type": "stream",
     "text": [
      "WARNING:chemschematicresolver.extract:Confidence of label 5 deemed too low for extraction\n",
      "WARNING:chemschematicresolver.extract:Confidence of label 1 deemed too low for extraction\n"
     ]
    },
    {
     "name": "stdout",
     "output_type": "stream",
     "text": [
      "extract image:  ./elsevier_images/test/image/470_gr1.jpeg\n",
      "extract image:  ./elsevier_images/test/image/470_gr10.jpeg\n",
      "extract image:  ./elsevier_images/test/image/470_gr2.jpeg\n"
     ]
    },
    {
     "name": "stderr",
     "output_type": "stream",
     "text": [
      "WARNING:chemschematicresolver.extract:Confidence of label 3 deemed too low for extraction\n",
      "WARNING:chemschematicresolver.extract:Confidence of label 2 deemed too low for extraction\n"
     ]
    },
    {
     "name": "stdout",
     "output_type": "stream",
     "text": [
      "extract image:  ./elsevier_images/test/image/470_gr3.jpeg\n"
     ]
    },
    {
     "name": "stderr",
     "output_type": "stream",
     "text": [
      "WARNING:chemschematicresolver.extract:Confidence of label 3 deemed too low for extraction\n",
      "WARNING:chemschematicresolver.extract:Confidence of label 1 deemed too low for extraction\n",
      "WARNING:chemschematicresolver.extract:Confidence of label 2 deemed too low for extraction\n",
      "WARNING:chemschematicresolver.extract:Confidence of label 0 deemed too low for extraction\n",
      "WARNING:chemschematicresolver.extract:Confidence of label 4 deemed too low for extraction\n"
     ]
    },
    {
     "name": "stdout",
     "output_type": "stream",
     "text": [
      "extract image:  ./elsevier_images/test/image/470_gr4.jpeg\n",
      "extract image:  ./elsevier_images/test/image/470_gr5.jpeg\n",
      "extract image:  ./elsevier_images/test/image/470_gr6.jpeg\n",
      "extract image:  ./elsevier_images/test/image/470_gr7.jpeg\n"
     ]
    },
    {
     "name": "stderr",
     "output_type": "stream",
     "text": [
      "WARNING:chemschematicresolver.actions:No SMILES string was extracted for diagram 1\n",
      "WARNING:chemschematicresolver.extract:Some SMILES strings were determined to be false positives and were removed from the output.\n"
     ]
    },
    {
     "name": "stdout",
     "output_type": "stream",
     "text": [
      "extract image:  ./elsevier_images/test/image/470_gr8.jpeg\n"
     ]
    },
    {
     "name": "stderr",
     "output_type": "stream",
     "text": [
      "WARNING:chemschematicresolver.extract:Confidence of label 1 deemed too low for extraction\n"
     ]
    },
    {
     "name": "stdout",
     "output_type": "stream",
     "text": [
      "extract image:  ./elsevier_images/test/image/470_gr9.jpeg\n",
      "extract image:  ./elsevier_images/test/image/470_sc1.jpeg\n",
      "extract image:  ./elsevier_images/test/image/470_sc2.jpeg\n",
      "extract image:  ./elsevier_images/test/image/470_sc3.jpeg\n",
      "extract image:  ./elsevier_images/test/image/470_sc4.jpeg\n"
     ]
    },
    {
     "name": "stderr",
     "output_type": "stream",
     "text": [
      "WARNING:chemschematicresolver.extract:Confidence of label 4 deemed too low for extraction\n"
     ]
    },
    {
     "name": "stdout",
     "output_type": "stream",
     "text": [
      "extract image:  ./elsevier_images/test/image/471_fx1.jpeg\n"
     ]
    },
    {
     "name": "stderr",
     "output_type": "stream",
     "text": [
      "WARNING:chemschematicresolver.actions:No SMILES string was extracted for diagram 14\n",
      "WARNING:chemschematicresolver.actions:No SMILES string was extracted for diagram 12\n",
      "WARNING:chemschematicresolver.actions:No SMILES string was extracted for diagram 10\n",
      "WARNING:chemschematicresolver.extract:Confidence of label 9 deemed too low for extraction\n",
      "WARNING:chemschematicresolver.actions:No SMILES string was extracted for diagram 11\n",
      "WARNING:chemschematicresolver.extract:Some SMILES strings were determined to be false positives and were removed from the output.\n"
     ]
    },
    {
     "name": "stdout",
     "output_type": "stream",
     "text": [
      "extract image:  ./elsevier_images/test/image/471_gr1.jpeg\n",
      "extract image:  ./elsevier_images/test/image/471_gr2.jpeg\n",
      "extract image:  ./elsevier_images/test/image/471_gr3.jpeg\n"
     ]
    },
    {
     "name": "stderr",
     "output_type": "stream",
     "text": [
      "WARNING:chemschematicresolver.actions:No SMILES string was extracted for diagram 5\n",
      "WARNING:chemschematicresolver.extract:Some SMILES strings were determined to be false positives and were removed from the output.\n"
     ]
    },
    {
     "name": "stdout",
     "output_type": "stream",
     "text": [
      "extract image:  ./elsevier_images/test/image/471_gr4.jpeg\n"
     ]
    },
    {
     "name": "stderr",
     "output_type": "stream",
     "text": [
      "WARNING:chemschematicresolver.actions:No SMILES string was extracted for diagram 3\n",
      "WARNING:chemschematicresolver.extract:Some SMILES strings were determined to be false positives and were removed from the output.\n"
     ]
    },
    {
     "name": "stdout",
     "output_type": "stream",
     "text": [
      "extract image:  ./elsevier_images/test/image/471_gr5.jpeg\n",
      "extract image:  ./elsevier_images/test/image/471_gr6.jpeg\n"
     ]
    },
    {
     "name": "stderr",
     "output_type": "stream",
     "text": [
      "WARNING:chemschematicresolver.extract:Confidence of label 10 deemed too low for extraction\n",
      "WARNING:chemschematicresolver.extract:Confidence of label 9 deemed too low for extraction\n",
      "WARNING:chemschematicresolver.extract:Confidence of label 4 deemed too low for extraction\n"
     ]
    },
    {
     "name": "stdout",
     "output_type": "stream",
     "text": [
      "extract image:  ./elsevier_images/test/image/471_gr7.jpeg\n"
     ]
    },
    {
     "name": "stderr",
     "output_type": "stream",
     "text": [
      "WARNING:chemschematicresolver.actions:No SMILES string was extracted for diagram 9\n",
      "WARNING:chemschematicresolver.actions:No SMILES string was extracted for diagram 10\n",
      "WARNING:chemschematicresolver.extract:Some SMILES strings were determined to be false positives and were removed from the output.\n"
     ]
    },
    {
     "name": "stdout",
     "output_type": "stream",
     "text": [
      "extract image:  ./elsevier_images/test/image/471_gr8.jpeg\n"
     ]
    },
    {
     "name": "stderr",
     "output_type": "stream",
     "text": [
      "WARNING:chemschematicresolver.actions:No SMILES string was extracted for diagram 3\n",
      "WARNING:chemschematicresolver.actions:No SMILES string was extracted for diagram 2\n",
      "WARNING:chemschematicresolver.extract:Some SMILES strings were determined to be false positives and were removed from the output.\n"
     ]
    },
    {
     "name": "stdout",
     "output_type": "stream",
     "text": [
      "extract image:  ./elsevier_images/test/image/471_sc1.jpeg\n",
      "extract image:  ./elsevier_images/test/image/472_fx1.jpeg\n",
      "Runtime error, no smiles\n",
      "extract image:  ./elsevier_images/test/image/472_gr1.jpeg\n",
      "extract image:  ./elsevier_images/test/image/472_gr2.jpeg\n"
     ]
    },
    {
     "name": "stderr",
     "output_type": "stream",
     "text": [
      "WARNING:chemschematicresolver.extract:Confidence of label 3 deemed too low for extraction\n",
      "WARNING:chemschematicresolver.extract:Confidence of label 2 deemed too low for extraction\n"
     ]
    },
    {
     "name": "stdout",
     "output_type": "stream",
     "text": [
      "extract image:  ./elsevier_images/test/image/472_gr3.jpeg\n"
     ]
    },
    {
     "name": "stderr",
     "output_type": "stream",
     "text": [
      "WARNING:chemschematicresolver.extract:Confidence of label 4 deemed too low for extraction\n"
     ]
    },
    {
     "name": "stdout",
     "output_type": "stream",
     "text": [
      "extract image:  ./elsevier_images/test/image/472_gr4.jpeg\n"
     ]
    },
    {
     "name": "stderr",
     "output_type": "stream",
     "text": [
      "WARNING:chemschematicresolver.extract:Confidence of label 1 deemed too low for extraction\n"
     ]
    },
    {
     "name": "stdout",
     "output_type": "stream",
     "text": [
      "extract image:  ./elsevier_images/test/image/472_gr5.jpeg\n",
      "extract image:  ./elsevier_images/test/image/472_gr6.jpeg\n"
     ]
    },
    {
     "name": "stderr",
     "output_type": "stream",
     "text": [
      "WARNING:chemschematicresolver.extract:Confidence of label 1 deemed too low for extraction\n",
      "WARNING:chemschematicresolver.actions:No SMILES string was extracted for diagram 6\n",
      "WARNING:chemschematicresolver.extract:Some SMILES strings were determined to be false positives and were removed from the output.\n"
     ]
    },
    {
     "name": "stdout",
     "output_type": "stream",
     "text": [
      "extract image:  ./elsevier_images/test/image/472_sc1.jpeg\n",
      "extract image:  ./elsevier_images/test/image/473_fx1.jpeg\n",
      "extract image:  ./elsevier_images/test/image/473_gr1.jpeg\n",
      "extract image:  ./elsevier_images/test/image/473_gr10.jpeg\n"
     ]
    },
    {
     "name": "stderr",
     "output_type": "stream",
     "text": [
      "WARNING:chemschematicresolver.extract:Confidence of label 3 deemed too low for extraction\n",
      "WARNING:chemschematicresolver.extract:Confidence of label 4 deemed too low for extraction\n",
      "WARNING:chemschematicresolver.actions:No SMILES string was extracted for diagram 7\n",
      "WARNING:chemschematicresolver.extract:Confidence of label 2 deemed too low for extraction\n",
      "WARNING:chemschematicresolver.extract:Some SMILES strings were determined to be false positives and were removed from the output.\n"
     ]
    },
    {
     "name": "stdout",
     "output_type": "stream",
     "text": [
      "extract image:  ./elsevier_images/test/image/473_gr11.jpeg\n",
      "extract image:  ./elsevier_images/test/image/473_gr12.jpeg\n"
     ]
    },
    {
     "name": "stderr",
     "output_type": "stream",
     "text": [
      "WARNING:chemschematicresolver.actions:No SMILES string was extracted for diagram 11\n",
      "WARNING:chemschematicresolver.actions:No SMILES string was extracted for diagram 12\n",
      "WARNING:chemschematicresolver.actions:No SMILES string was extracted for diagram 14\n",
      "WARNING:chemschematicresolver.actions:No SMILES string was extracted for diagram 13\n",
      "WARNING:chemschematicresolver.extract:Some SMILES strings were determined to be false positives and were removed from the output.\n"
     ]
    },
    {
     "name": "stdout",
     "output_type": "stream",
     "text": [
      "extract image:  ./elsevier_images/test/image/473_gr2.jpeg\n",
      "extract image:  ./elsevier_images/test/image/473_gr3.jpeg\n"
     ]
    },
    {
     "name": "stderr",
     "output_type": "stream",
     "text": [
      "WARNING:chemschematicresolver.extract:Confidence of label 0 deemed too low for extraction\n"
     ]
    },
    {
     "name": "stdout",
     "output_type": "stream",
     "text": [
      "extract image:  ./elsevier_images/test/image/473_gr4.jpeg\n"
     ]
    },
    {
     "name": "stderr",
     "output_type": "stream",
     "text": [
      "WARNING:chemschematicresolver.extract:Confidence of label 0 deemed too low for extraction\n"
     ]
    },
    {
     "name": "stdout",
     "output_type": "stream",
     "text": [
      "extract image:  ./elsevier_images/test/image/473_gr5.jpeg\n"
     ]
    },
    {
     "name": "stderr",
     "output_type": "stream",
     "text": [
      "WARNING:chemschematicresolver.actions:No SMILES string was extracted for diagram 2\n",
      "WARNING:chemschematicresolver.actions:No SMILES string was extracted for diagram 3\n",
      "WARNING:chemschematicresolver.extract:Some SMILES strings were determined to be false positives and were removed from the output.\n"
     ]
    },
    {
     "name": "stdout",
     "output_type": "stream",
     "text": [
      "extract image:  ./elsevier_images/test/image/473_gr6.jpeg\n"
     ]
    },
    {
     "name": "stderr",
     "output_type": "stream",
     "text": [
      "WARNING:chemschematicresolver.actions:No SMILES string was extracted for diagram 51\n",
      "WARNING:chemschematicresolver.actions:No SMILES string was extracted for diagram 54\n",
      "WARNING:chemschematicresolver.extract:Confidence of label 14 deemed too low for extraction\n",
      "WARNING:chemschematicresolver.extract:Confidence of label 25 deemed too low for extraction\n",
      "WARNING:chemschematicresolver.extract:Confidence of label 29 deemed too low for extraction\n",
      "WARNING:chemschematicresolver.actions:No SMILES string was extracted for diagram 31\n",
      "WARNING:chemschematicresolver.extract:Confidence of label 5 deemed too low for extraction\n",
      "WARNING:chemschematicresolver.actions:No SMILES string was extracted for diagram 55\n",
      "WARNING:chemschematicresolver.extract:Confidence of label 27 deemed too low for extraction\n",
      "WARNING:chemschematicresolver.actions:No SMILES string was extracted for diagram 41\n",
      "WARNING:chemschematicresolver.actions:No SMILES string was extracted for diagram 49\n",
      "WARNING:chemschematicresolver.extract:Confidence of label 16 deemed too low for extraction\n",
      "WARNING:chemschematicresolver.extract:Confidence of label 0 deemed too low for extraction\n",
      "WARNING:chemschematicresolver.extract:Some SMILES strings were determined to be false positives and were removed from the output.\n"
     ]
    },
    {
     "name": "stdout",
     "output_type": "stream",
     "text": [
      "extract image:  ./elsevier_images/test/image/473_gr7.jpeg\n"
     ]
    },
    {
     "name": "stderr",
     "output_type": "stream",
     "text": [
      "WARNING:chemschematicresolver.extract:Text could not be resolved from label 20\n",
      "WARNING:chemschematicresolver.extract:Confidence of label 20 deemed too low for extraction\n",
      "WARNING:chemschematicresolver.actions:No SMILES string was extracted for diagram 36\n",
      "WARNING:chemschematicresolver.extract:Text could not be resolved from label 3\n",
      "WARNING:chemschematicresolver.extract:Confidence of label 3 deemed too low for extraction\n",
      "WARNING:chemschematicresolver.extract:Text could not be resolved from label 13\n",
      "WARNING:chemschematicresolver.extract:Confidence of label 13 deemed too low for extraction\n",
      "WARNING:chemschematicresolver.extract:Confidence of label 19 deemed too low for extraction\n",
      "WARNING:chemschematicresolver.actions:No SMILES string was extracted for diagram 32\n",
      "WARNING:chemschematicresolver.extract:Confidence of label 21 deemed too low for extraction\n",
      "WARNING:chemschematicresolver.actions:No SMILES string was extracted for diagram 40\n",
      "WARNING:chemschematicresolver.actions:No SMILES string was extracted for diagram 42\n",
      "WARNING:chemschematicresolver.actions:No SMILES string was extracted for diagram 38\n",
      "WARNING:chemschematicresolver.actions:No SMILES string was extracted for diagram 29\n",
      "WARNING:chemschematicresolver.extract:Text could not be resolved from label 9\n",
      "WARNING:chemschematicresolver.extract:Confidence of label 9 deemed too low for extraction\n",
      "WARNING:chemschematicresolver.extract:Text could not be resolved from label 11\n",
      "WARNING:chemschematicresolver.extract:Confidence of label 11 deemed too low for extraction\n",
      "WARNING:chemschematicresolver.actions:No SMILES string was extracted for diagram 44\n",
      "WARNING:chemschematicresolver.extract:Some SMILES strings were determined to be false positives and were removed from the output.\n"
     ]
    },
    {
     "name": "stdout",
     "output_type": "stream",
     "text": [
      "extract image:  ./elsevier_images/test/image/473_gr8.jpeg\n"
     ]
    },
    {
     "name": "stderr",
     "output_type": "stream",
     "text": [
      "WARNING:chemschematicresolver.extract:Confidence of label 0 deemed too low for extraction\n",
      "WARNING:chemschematicresolver.actions:No SMILES string was extracted for diagram 2\n",
      "WARNING:chemschematicresolver.extract:Some SMILES strings were determined to be false positives and were removed from the output.\n"
     ]
    },
    {
     "name": "stdout",
     "output_type": "stream",
     "text": [
      "extract image:  ./elsevier_images/test/image/473_gr9.jpeg\n"
     ]
    },
    {
     "name": "stderr",
     "output_type": "stream",
     "text": [
      "WARNING:chemschematicresolver.extract:Confidence of label 0 deemed too low for extraction\n",
      "WARNING:chemschematicresolver.actions:No SMILES string was extracted for diagram 2\n",
      "WARNING:chemschematicresolver.extract:Some SMILES strings were determined to be false positives and were removed from the output.\n"
     ]
    },
    {
     "name": "stdout",
     "output_type": "stream",
     "text": [
      "extract image:  ./elsevier_images/test/image/473_sc1.jpeg\n",
      "extract image:  ./elsevier_images/test/image/474_fx1.jpeg\n",
      "extract image:  ./elsevier_images/test/image/474_gr1.jpeg\n",
      "extract image:  ./elsevier_images/test/image/474_gr2.jpeg\n"
     ]
    },
    {
     "name": "stderr",
     "output_type": "stream",
     "text": [
      "WARNING:chemschematicresolver.extract:Confidence of label 0 deemed too low for extraction\n"
     ]
    },
    {
     "name": "stdout",
     "output_type": "stream",
     "text": [
      "extract image:  ./elsevier_images/test/image/474_gr3.jpeg\n"
     ]
    },
    {
     "name": "stderr",
     "output_type": "stream",
     "text": [
      "WARNING:chemschematicresolver.actions:No SMILES string was extracted for diagram 2\n",
      "WARNING:chemschematicresolver.extract:Confidence of label 0 deemed too low for extraction\n",
      "WARNING:chemschematicresolver.extract:Some SMILES strings were determined to be false positives and were removed from the output.\n"
     ]
    },
    {
     "name": "stdout",
     "output_type": "stream",
     "text": [
      "extract image:  ./elsevier_images/test/image/474_gr4.jpeg\n",
      "Runtime error, no smiles\n",
      "extract image:  ./elsevier_images/test/image/474_gr5.jpeg\n",
      "extract image:  ./elsevier_images/test/image/474_sc1.jpeg\n",
      "extract image:  ./elsevier_images/test/image/474_Xue_Gong_Polymer_solar_cells_2017_P01.jpeg\n",
      "extract image:  ./elsevier_images/test/image/474_Xue_Gong_Polymer_solar_cells_2017_P02.jpeg\n",
      "extract image:  ./elsevier_images/test/image/474_Xue_Gong_Polymer_solar_cells_2017_P03.jpeg\n",
      "extract image:  ./elsevier_images/test/image/474_Xue_Gong_Polymer_solar_cells_2017_P04.jpeg\n",
      "extract image:  ./elsevier_images/test/image/474_Xue_Gong_Polymer_solar_cells_2017_P05.jpeg\n",
      "extract image:  ./elsevier_images/test/image/474_Xue_Gong_Polymer_solar_cells_2017_P06.jpeg\n",
      "extract image:  ./elsevier_images/test/image/474_Xue_Gong_Polymer_solar_cells_2017_P07.jpeg\n",
      "extract image:  ./elsevier_images/test/image/474_Xue_Gong_Polymer_solar_cells_2017_P08.jpeg\n",
      "extract image:  ./elsevier_images/test/image/474_Xue_Gong_Polymer_solar_cells_2017_P09.jpeg\n",
      "extract image:  ./elsevier_images/test/image/474_Xue_Gong_Polymer_solar_cells_2017_P10.jpeg\n",
      "extract image:  ./elsevier_images/test/image/474_Xue_Gong_Polymer_solar_cells_2017_P11.jpeg\n",
      "extract image:  ./elsevier_images/test/image/474_Xue_Gong_Polymer_solar_cells_2017_P12.jpeg\n",
      "extract image:  ./elsevier_images/test/image/474_Xue_Gong_Polymer_solar_cells_2017_P13.jpeg\n",
      "extract image:  ./elsevier_images/test/image/474_Xue_Gong_Polymer_solar_cells_2017_P14.jpeg\n",
      "extract image:  ./elsevier_images/test/image/474_Xue_Gong_Polymer_solar_cells_2017_P15.jpeg\n",
      "extract image:  ./elsevier_images/test/image/474_Xue_Gong_Polymer_solar_cells_2017_P16.jpeg\n",
      "extract image:  ./elsevier_images/test/image/474_Xue_Gong_Polymer_solar_cells_2017_P17.jpeg\n",
      "extract image:  ./elsevier_images/test/image/474_Xue_Gong_Polymer_solar_cells_2017_P18.jpeg\n",
      "extract image:  ./elsevier_images/test/image/475_fx1.jpeg\n"
     ]
    },
    {
     "name": "stderr",
     "output_type": "stream",
     "text": [
      "WARNING:chemschematicresolver.actions:No SMILES string was extracted for diagram 6\n",
      "WARNING:chemschematicresolver.extract:Some SMILES strings were determined to be false positives and were removed from the output.\n"
     ]
    },
    {
     "name": "stdout",
     "output_type": "stream",
     "text": [
      "extract image:  ./elsevier_images/test/image/475_gr1.jpeg\n"
     ]
    },
    {
     "name": "stderr",
     "output_type": "stream",
     "text": [
      "WARNING:chemschematicresolver.actions:No SMILES string was extracted for diagram 13\n",
      "WARNING:chemschematicresolver.actions:No SMILES string was extracted for diagram 15\n",
      "WARNING:chemschematicresolver.extract:Confidence of label 5 deemed too low for extraction\n",
      "WARNING:chemschematicresolver.extract:Some SMILES strings were determined to be false positives and were removed from the output.\n"
     ]
    },
    {
     "name": "stdout",
     "output_type": "stream",
     "text": [
      "extract image:  ./elsevier_images/test/image/475_gr10.jpeg\n",
      "extract image:  ./elsevier_images/test/image/475_gr11.jpeg\n"
     ]
    },
    {
     "name": "stderr",
     "output_type": "stream",
     "text": [
      "WARNING:chemschematicresolver.actions:No SMILES string was extracted for diagram 7\n",
      "WARNING:chemschematicresolver.actions:No SMILES string was extracted for diagram 9\n",
      "WARNING:chemschematicresolver.actions:No SMILES string was extracted for diagram 8\n",
      "WARNING:chemschematicresolver.extract:Some SMILES strings were determined to be false positives and were removed from the output.\n"
     ]
    },
    {
     "name": "stdout",
     "output_type": "stream",
     "text": [
      "extract image:  ./elsevier_images/test/image/475_gr2.jpeg\n"
     ]
    },
    {
     "name": "stderr",
     "output_type": "stream",
     "text": [
      "WARNING:chemschematicresolver.extract:Confidence of label 0 deemed too low for extraction\n"
     ]
    },
    {
     "name": "stdout",
     "output_type": "stream",
     "text": [
      "extract image:  ./elsevier_images/test/image/475_gr3.jpeg\n",
      "extract image:  ./elsevier_images/test/image/475_gr4.jpeg\n",
      "extract image:  ./elsevier_images/test/image/475_gr5.jpeg\n"
     ]
    },
    {
     "name": "stderr",
     "output_type": "stream",
     "text": [
      "WARNING:chemschematicresolver.actions:No SMILES string was extracted for diagram 11\n",
      "WARNING:chemschematicresolver.extract:Confidence of label 6 deemed too low for extraction\n",
      "WARNING:chemschematicresolver.actions:No SMILES string was extracted for diagram 13\n",
      "WARNING:chemschematicresolver.extract:Some SMILES strings were determined to be false positives and were removed from the output.\n"
     ]
    },
    {
     "name": "stdout",
     "output_type": "stream",
     "text": [
      "extract image:  ./elsevier_images/test/image/475_gr6.jpeg\n",
      "extract image:  ./elsevier_images/test/image/475_gr7.jpeg\n"
     ]
    },
    {
     "name": "stderr",
     "output_type": "stream",
     "text": [
      "WARNING:chemschematicresolver.extract:Confidence of label 0 deemed too low for extraction\n",
      "WARNING:chemschematicresolver.actions:No SMILES string was extracted for diagram 10\n",
      "WARNING:chemschematicresolver.actions:No SMILES string was extracted for diagram 9\n",
      "WARNING:chemschematicresolver.extract:Some SMILES strings were determined to be false positives and were removed from the output.\n"
     ]
    },
    {
     "name": "stdout",
     "output_type": "stream",
     "text": [
      "extract image:  ./elsevier_images/test/image/475_gr8.jpeg\n"
     ]
    },
    {
     "name": "stderr",
     "output_type": "stream",
     "text": [
      "WARNING:chemschematicresolver.actions:No SMILES string was extracted for diagram 11\n",
      "WARNING:chemschematicresolver.actions:No SMILES string was extracted for diagram 10\n",
      "WARNING:chemschematicresolver.extract:Some SMILES strings were determined to be false positives and were removed from the output.\n"
     ]
    },
    {
     "name": "stdout",
     "output_type": "stream",
     "text": [
      "extract image:  ./elsevier_images/test/image/475_gr9.jpeg\n"
     ]
    },
    {
     "name": "stderr",
     "output_type": "stream",
     "text": [
      "WARNING:chemschematicresolver.extract:Confidence of label 0 deemed too low for extraction\n",
      "WARNING:chemschematicresolver.actions:No SMILES string was extracted for diagram 9\n",
      "WARNING:chemschematicresolver.extract:Some SMILES strings were determined to be false positives and were removed from the output.\n"
     ]
    },
    {
     "name": "stdout",
     "output_type": "stream",
     "text": [
      "extract image:  ./elsevier_images/test/image/475_sc1.jpeg\n",
      "extract image:  ./elsevier_images/test/image/484_fx1.jpeg\n"
     ]
    },
    {
     "name": "stderr",
     "output_type": "stream",
     "text": [
      "WARNING:chemschematicresolver.extract:Confidence of label 1 deemed too low for extraction\n"
     ]
    },
    {
     "name": "stdout",
     "output_type": "stream",
     "text": [
      "extract image:  ./elsevier_images/test/image/484_gr1.jpeg\n",
      "extract image:  ./elsevier_images/test/image/484_gr2.jpeg\n"
     ]
    },
    {
     "name": "stderr",
     "output_type": "stream",
     "text": [
      "WARNING:chemschematicresolver.extract:Confidence of label 0 deemed too low for extraction\n"
     ]
    },
    {
     "name": "stdout",
     "output_type": "stream",
     "text": [
      "extract image:  ./elsevier_images/test/image/484_gr3.jpeg\n"
     ]
    },
    {
     "name": "stderr",
     "output_type": "stream",
     "text": [
      "WARNING:chemschematicresolver.extract:Confidence of label 0 deemed too low for extraction\n"
     ]
    },
    {
     "name": "stdout",
     "output_type": "stream",
     "text": [
      "extract image:  ./elsevier_images/test/image/484_gr4.jpeg\n"
     ]
    },
    {
     "name": "stderr",
     "output_type": "stream",
     "text": [
      "WARNING:chemschematicresolver.actions:No SMILES string was extracted for diagram 1\n",
      "WARNING:chemschematicresolver.extract:Some SMILES strings were determined to be false positives and were removed from the output.\n"
     ]
    },
    {
     "name": "stdout",
     "output_type": "stream",
     "text": [
      "extract image:  ./elsevier_images/test/image/484_gr5.jpeg\n"
     ]
    },
    {
     "name": "stderr",
     "output_type": "stream",
     "text": [
      "WARNING:chemschematicresolver.actions:No SMILES string was extracted for diagram 15\n",
      "WARNING:chemschematicresolver.actions:No SMILES string was extracted for diagram 10\n",
      "WARNING:chemschematicresolver.actions:No SMILES string was extracted for diagram 19\n",
      "WARNING:chemschematicresolver.actions:No SMILES string was extracted for diagram 11\n",
      "WARNING:chemschematicresolver.actions:No SMILES string was extracted for diagram 16\n",
      "WARNING:chemschematicresolver.extract:Some SMILES strings were determined to be false positives and were removed from the output.\n"
     ]
    },
    {
     "name": "stdout",
     "output_type": "stream",
     "text": [
      "extract image:  ./elsevier_images/test/image/484_gr6.jpeg\n",
      "extract image:  ./elsevier_images/test/image/484_gr7.jpeg\n"
     ]
    },
    {
     "name": "stderr",
     "output_type": "stream",
     "text": [
      "WARNING:chemschematicresolver.actions:No SMILES string was extracted for diagram 4\n",
      "WARNING:chemschematicresolver.extract:Confidence of label 2 deemed too low for extraction\n",
      "WARNING:chemschematicresolver.extract:Some SMILES strings were determined to be false positives and were removed from the output.\n"
     ]
    },
    {
     "name": "stdout",
     "output_type": "stream",
     "text": [
      "extract image:  ./elsevier_images/test/image/484_gr8.jpeg\n",
      "Runtime error, no smiles\n",
      "extract image:  ./elsevier_images/test/image/484_gr9.jpeg\n",
      "extract image:  ./elsevier_images/test/image/484_sc1.jpeg\n",
      "extract image:  ./elsevier_images/test/image/485_fx1.jpeg\n",
      "Runtime error, no smiles\n",
      "extract image:  ./elsevier_images/test/image/485_gr1.jpeg\n",
      "extract image:  ./elsevier_images/test/image/485_gr2.jpeg\n"
     ]
    },
    {
     "name": "stderr",
     "output_type": "stream",
     "text": [
      "WARNING:chemschematicresolver.actions:No SMILES string was extracted for diagram 5\n",
      "WARNING:chemschematicresolver.extract:Confidence of label 0 deemed too low for extraction\n",
      "WARNING:chemschematicresolver.extract:Some SMILES strings were determined to be false positives and were removed from the output.\n"
     ]
    },
    {
     "name": "stdout",
     "output_type": "stream",
     "text": [
      "extract image:  ./elsevier_images/test/image/485_gr3.jpeg\n"
     ]
    },
    {
     "name": "stderr",
     "output_type": "stream",
     "text": [
      "WARNING:chemschematicresolver.actions:No SMILES string was extracted for diagram 5\n",
      "WARNING:chemschematicresolver.extract:Confidence of label 1 deemed too low for extraction\n",
      "WARNING:chemschematicresolver.extract:Some SMILES strings were determined to be false positives and were removed from the output.\n"
     ]
    },
    {
     "name": "stdout",
     "output_type": "stream",
     "text": [
      "extract image:  ./elsevier_images/test/image/485_gr4.jpeg\n",
      "extract image:  ./elsevier_images/test/image/485_gr5.jpeg\n",
      "extract image:  ./elsevier_images/test/image/485_gr6.jpeg\n"
     ]
    },
    {
     "name": "stderr",
     "output_type": "stream",
     "text": [
      "WARNING:chemschematicresolver.actions:No SMILES string was extracted for diagram 11\n",
      "WARNING:chemschematicresolver.extract:Confidence of label 3 deemed too low for extraction\n",
      "WARNING:chemschematicresolver.extract:Confidence of label 0 deemed too low for extraction\n",
      "WARNING:chemschematicresolver.extract:Some SMILES strings were determined to be false positives and were removed from the output.\n"
     ]
    },
    {
     "name": "stdout",
     "output_type": "stream",
     "text": [
      "extract image:  ./elsevier_images/test/image/485_gr7.jpeg\n"
     ]
    },
    {
     "name": "stderr",
     "output_type": "stream",
     "text": [
      "WARNING:chemschematicresolver.actions:No SMILES string was extracted for diagram 6\n",
      "WARNING:chemschematicresolver.extract:Confidence of label 5 deemed too low for extraction\n",
      "WARNING:chemschematicresolver.actions:No SMILES string was extracted for diagram 8\n",
      "WARNING:chemschematicresolver.extract:Some SMILES strings were determined to be false positives and were removed from the output.\n"
     ]
    },
    {
     "name": "stdout",
     "output_type": "stream",
     "text": [
      "extract image:  ./elsevier_images/test/image/485_gr8.jpeg\n",
      "extract image:  ./elsevier_images/test/image/485_sc1.jpeg\n",
      "extract image:  ./elsevier_images/test/image/486_fx1.jpeg\n"
     ]
    },
    {
     "name": "stderr",
     "output_type": "stream",
     "text": [
      "WARNING:chemschematicresolver.actions:No SMILES string was extracted for diagram 7\n",
      "WARNING:chemschematicresolver.extract:Confidence of label 2 deemed too low for extraction\n",
      "WARNING:chemschematicresolver.extract:Confidence of label 0 deemed too low for extraction\n",
      "WARNING:chemschematicresolver.extract:Some SMILES strings were determined to be false positives and were removed from the output.\n"
     ]
    },
    {
     "name": "stdout",
     "output_type": "stream",
     "text": [
      "extract image:  ./elsevier_images/test/image/486_gr1.jpeg\n"
     ]
    },
    {
     "name": "stderr",
     "output_type": "stream",
     "text": [
      "WARNING:chemschematicresolver.actions:No SMILES string was extracted for diagram 6\n",
      "WARNING:chemschematicresolver.actions:No SMILES string was extracted for diagram 7\n",
      "WARNING:chemschematicresolver.extract:Some SMILES strings were determined to be false positives and were removed from the output.\n"
     ]
    },
    {
     "name": "stdout",
     "output_type": "stream",
     "text": [
      "extract image:  ./elsevier_images/test/image/486_gr2.jpeg\n",
      "Runtime error, no smiles\n",
      "extract image:  ./elsevier_images/test/image/486_gr3.jpeg\n",
      "extract image:  ./elsevier_images/test/image/486_gr4.jpeg\n",
      "extract image:  ./elsevier_images/test/image/486_gr5.jpeg\n",
      "extract image:  ./elsevier_images/test/image/486_gr6.jpeg\n"
     ]
    },
    {
     "name": "stderr",
     "output_type": "stream",
     "text": [
      "WARNING:chemschematicresolver.r_group:No SMILES strings were extracted for diagram 46\n",
      "WARNING:chemschematicresolver.r_group:No SMILES strings were extracted for diagram 49\n",
      "WARNING:chemschematicresolver.actions:No SMILES string was extracted for diagram 45\n",
      "WARNING:chemschematicresolver.actions:No SMILES string was extracted for diagram 48\n",
      "WARNING:chemschematicresolver.actions:No SMILES string was extracted for diagram 52\n",
      "WARNING:chemschematicresolver.actions:No SMILES string was extracted for diagram 47\n",
      "WARNING:chemschematicresolver.actions:No SMILES string was extracted for diagram 51\n",
      "WARNING:chemschematicresolver.extract:Text could not be resolved from label 18\n",
      "WARNING:chemschematicresolver.extract:Confidence of label 18 deemed too low for extraction\n",
      "WARNING:chemschematicresolver.actions:No SMILES string was extracted for diagram 44\n",
      "WARNING:chemschematicresolver.actions:No SMILES string was extracted for diagram 54\n",
      "WARNING:chemschematicresolver.actions:No SMILES string was extracted for diagram 43\n",
      "WARNING:chemschematicresolver.extract:Some SMILES strings were determined to be false positives and were removed from the output.\n"
     ]
    },
    {
     "name": "stdout",
     "output_type": "stream",
     "text": [
      "extract image:  ./elsevier_images/test/image/486_sc1.jpeg\n",
      "extract image:  ./elsevier_images/test/image/498_fx1.jpeg\n"
     ]
    },
    {
     "name": "stderr",
     "output_type": "stream",
     "text": [
      "WARNING:chemschematicresolver.extract:Confidence of label 0 deemed too low for extraction\n",
      "WARNING:chemschematicresolver.extract:Text could not be resolved from label 2\n",
      "WARNING:chemschematicresolver.extract:Confidence of label 2 deemed too low for extraction\n"
     ]
    },
    {
     "name": "stdout",
     "output_type": "stream",
     "text": [
      "extract image:  ./elsevier_images/test/image/498_gr1.jpeg\n"
     ]
    },
    {
     "name": "stderr",
     "output_type": "stream",
     "text": [
      "WARNING:chemschematicresolver.extract:Confidence of label 4 deemed too low for extraction\n",
      "WARNING:chemschematicresolver.extract:Confidence of label 3 deemed too low for extraction\n",
      "WARNING:chemschematicresolver.extract:Confidence of label 0 deemed too low for extraction\n"
     ]
    },
    {
     "name": "stdout",
     "output_type": "stream",
     "text": [
      "extract image:  ./elsevier_images/test/image/498_gr2.jpeg\n"
     ]
    },
    {
     "name": "stderr",
     "output_type": "stream",
     "text": [
      "WARNING:chemschematicresolver.extract:Confidence of label 0 deemed too low for extraction\n"
     ]
    },
    {
     "name": "stdout",
     "output_type": "stream",
     "text": [
      "extract image:  ./elsevier_images/test/image/498_gr3.jpeg\n"
     ]
    },
    {
     "name": "stderr",
     "output_type": "stream",
     "text": [
      "WARNING:chemschematicresolver.extract:Confidence of label 3 deemed too low for extraction\n",
      "WARNING:chemschematicresolver.extract:Text could not be resolved from label 1\n",
      "WARNING:chemschematicresolver.extract:Confidence of label 1 deemed too low for extraction\n",
      "WARNING:chemschematicresolver.extract:Confidence of label 4 deemed too low for extraction\n",
      "WARNING:chemschematicresolver.extract:Text could not be resolved from label 0\n",
      "WARNING:chemschematicresolver.extract:Confidence of label 0 deemed too low for extraction\n"
     ]
    },
    {
     "name": "stdout",
     "output_type": "stream",
     "text": [
      "extract image:  ./elsevier_images/test/image/498_gr4.jpeg\n"
     ]
    },
    {
     "name": "stderr",
     "output_type": "stream",
     "text": [
      "WARNING:chemschematicresolver.extract:Confidence of label 2 deemed too low for extraction\n",
      "WARNING:chemschematicresolver.extract:Confidence of label 3 deemed too low for extraction\n",
      "WARNING:chemschematicresolver.extract:Confidence of label 6 deemed too low for extraction\n",
      "WARNING:chemschematicresolver.actions:No SMILES string was extracted for diagram 25\n",
      "WARNING:chemschematicresolver.extract:Confidence of label 9 deemed too low for extraction\n",
      "WARNING:chemschematicresolver.extract:Confidence of label 0 deemed too low for extraction\n",
      "WARNING:chemschematicresolver.extract:Confidence of label 7 deemed too low for extraction\n",
      "WARNING:chemschematicresolver.actions:No SMILES string was extracted for diagram 15\n",
      "WARNING:chemschematicresolver.extract:Confidence of label 4 deemed too low for extraction\n",
      "WARNING:chemschematicresolver.extract:Confidence of label 5 deemed too low for extraction\n",
      "WARNING:chemschematicresolver.extract:Some SMILES strings were determined to be false positives and were removed from the output.\n"
     ]
    },
    {
     "name": "stdout",
     "output_type": "stream",
     "text": [
      "extract image:  ./elsevier_images/test/image/498_gr5.jpeg\n"
     ]
    },
    {
     "name": "stderr",
     "output_type": "stream",
     "text": [
      "WARNING:chemschematicresolver.actions:No SMILES string was extracted for diagram 1\n",
      "WARNING:chemschematicresolver.extract:Some SMILES strings were determined to be false positives and were removed from the output.\n",
      "WARNING:chemschematicresolver.extract:Confidence of label 0 deemed too low for extraction\n"
     ]
    },
    {
     "name": "stdout",
     "output_type": "stream",
     "text": [
      "extract image:  ./elsevier_images/test/image/498_gr6.jpeg\n",
      "extract image:  ./elsevier_images/test/image/498_gr7.jpeg\n"
     ]
    },
    {
     "name": "stderr",
     "output_type": "stream",
     "text": [
      "WARNING:chemschematicresolver.extract:Confidence of label 0 deemed too low for extraction\n"
     ]
    },
    {
     "name": "stdout",
     "output_type": "stream",
     "text": [
      "Runtime error, no smiles\n",
      "extract image:  ./elsevier_images/test/image/498_gr8.jpeg\n",
      "extract image:  ./elsevier_images/test/image/498_sc1.jpeg\n"
     ]
    },
    {
     "name": "stderr",
     "output_type": "stream",
     "text": [
      "WARNING:chemschematicresolver.extract:Confidence of label 16 deemed too low for extraction\n",
      "WARNING:chemschematicresolver.extract:Confidence of label 12 deemed too low for extraction\n",
      "WARNING:chemschematicresolver.extract:Confidence of label 17 deemed too low for extraction\n"
     ]
    },
    {
     "name": "stdout",
     "output_type": "stream",
     "text": [
      "extract image:  ./elsevier_images/test/image/499_fx1.jpeg\n"
     ]
    },
    {
     "name": "stderr",
     "output_type": "stream",
     "text": [
      "WARNING:chemschematicresolver.extract:Confidence of label 1 deemed too low for extraction\n",
      "WARNING:chemschematicresolver.extract:Confidence of label 0 deemed too low for extraction\n"
     ]
    },
    {
     "name": "stdout",
     "output_type": "stream",
     "text": [
      "extract image:  ./elsevier_images/test/image/499_gr1.jpeg\n"
     ]
    },
    {
     "name": "stderr",
     "output_type": "stream",
     "text": [
      "WARNING:chemschematicresolver.actions:No SMILES string was extracted for diagram 8\n",
      "WARNING:chemschematicresolver.extract:Confidence of label 2 deemed too low for extraction\n",
      "WARNING:chemschematicresolver.actions:No SMILES string was extracted for diagram 9\n",
      "WARNING:chemschematicresolver.extract:Some SMILES strings were determined to be false positives and were removed from the output.\n"
     ]
    },
    {
     "name": "stdout",
     "output_type": "stream",
     "text": [
      "extract image:  ./elsevier_images/test/image/499_gr2.jpeg\n"
     ]
    },
    {
     "name": "stderr",
     "output_type": "stream",
     "text": [
      "WARNING:chemschematicresolver.extract:Confidence of label 0 deemed too low for extraction\n",
      "WARNING:chemschematicresolver.actions:No SMILES string was extracted for diagram 9\n",
      "WARNING:chemschematicresolver.extract:Confidence of label 6 deemed too low for extraction\n",
      "WARNING:chemschematicresolver.extract:Some SMILES strings were determined to be false positives and were removed from the output.\n"
     ]
    },
    {
     "name": "stdout",
     "output_type": "stream",
     "text": [
      "extract image:  ./elsevier_images/test/image/499_gr3.jpeg\n"
     ]
    },
    {
     "name": "stderr",
     "output_type": "stream",
     "text": [
      "WARNING:chemschematicresolver.extract:Confidence of label 14 deemed too low for extraction\n",
      "WARNING:chemschematicresolver.extract:Confidence of label 11 deemed too low for extraction\n",
      "WARNING:chemschematicresolver.extract:Confidence of label 10 deemed too low for extraction\n",
      "WARNING:chemschematicresolver.extract:Confidence of label 6 deemed too low for extraction\n"
     ]
    },
    {
     "name": "stdout",
     "output_type": "stream",
     "text": [
      "extract image:  ./elsevier_images/test/image/499_gr4.jpeg\n"
     ]
    },
    {
     "name": "stderr",
     "output_type": "stream",
     "text": [
      "WARNING:chemschematicresolver.extract:Confidence of label 20 deemed too low for extraction\n",
      "WARNING:chemschematicresolver.extract:Confidence of label 13 deemed too low for extraction\n",
      "WARNING:chemschematicresolver.extract:Confidence of label 15 deemed too low for extraction\n",
      "WARNING:chemschematicresolver.actions:No SMILES string was extracted for diagram 22\n",
      "WARNING:chemschematicresolver.extract:Confidence of label 12 deemed too low for extraction\n",
      "WARNING:chemschematicresolver.actions:No SMILES string was extracted for diagram 25\n",
      "WARNING:chemschematicresolver.extract:Confidence of label 16 deemed too low for extraction\n",
      "WARNING:chemschematicresolver.extract:Some SMILES strings were determined to be false positives and were removed from the output.\n"
     ]
    },
    {
     "name": "stdout",
     "output_type": "stream",
     "text": [
      "extract image:  ./elsevier_images/test/image/499_gr5.jpeg\n",
      "Runtime error, no smiles\n",
      "extract image:  ./elsevier_images/test/image/499_gr6.jpeg\n"
     ]
    },
    {
     "name": "stderr",
     "output_type": "stream",
     "text": [
      "WARNING:chemschematicresolver.actions:No SMILES string was extracted for diagram 4\n",
      "WARNING:chemschematicresolver.extract:Confidence of label 2 deemed too low for extraction\n",
      "WARNING:chemschematicresolver.extract:Confidence of label 0 deemed too low for extraction\n",
      "WARNING:chemschematicresolver.extract:Some SMILES strings were determined to be false positives and were removed from the output.\n"
     ]
    },
    {
     "name": "stdout",
     "output_type": "stream",
     "text": [
      "extract image:  ./elsevier_images/test/image/499_gr7.jpeg\n"
     ]
    },
    {
     "name": "stderr",
     "output_type": "stream",
     "text": [
      "WARNING:chemschematicresolver.extract:Confidence of label 17 deemed too low for extraction\n",
      "WARNING:chemschematicresolver.extract:Confidence of label 22 deemed too low for extraction\n",
      "WARNING:chemschematicresolver.extract:Confidence of label 26 deemed too low for extraction\n",
      "WARNING:chemschematicresolver.extract:Confidence of label 23 deemed too low for extraction\n",
      "WARNING:chemschematicresolver.actions:No SMILES string was extracted for diagram 39\n",
      "WARNING:chemschematicresolver.extract:Confidence of label 20 deemed too low for extraction\n",
      "WARNING:chemschematicresolver.actions:No SMILES string was extracted for diagram 31\n",
      "WARNING:chemschematicresolver.extract:Text could not be resolved from label 3\n",
      "WARNING:chemschematicresolver.extract:Confidence of label 3 deemed too low for extraction\n",
      "WARNING:chemschematicresolver.actions:No SMILES string was extracted for diagram 35\n",
      "WARNING:chemschematicresolver.extract:Confidence of label 16 deemed too low for extraction\n",
      "WARNING:chemschematicresolver.extract:Confidence of label 14 deemed too low for extraction\n",
      "WARNING:chemschematicresolver.extract:Confidence of label 27 deemed too low for extraction\n",
      "WARNING:chemschematicresolver.extract:Confidence of label 8 deemed too low for extraction\n",
      "WARNING:chemschematicresolver.extract:Some SMILES strings were determined to be false positives and were removed from the output.\n"
     ]
    },
    {
     "name": "stdout",
     "output_type": "stream",
     "text": [
      "extract image:  ./elsevier_images/test/image/499_sc1.jpeg\n"
     ]
    },
    {
     "name": "stderr",
     "output_type": "stream",
     "text": [
      "WARNING:chemschematicresolver.extract:Some SMILES strings were determined to be false positives and were removed from the output.\n"
     ]
    },
    {
     "name": "stdout",
     "output_type": "stream",
     "text": [
      "extract image:  ./elsevier_images/test/image/500_gr1.jpeg\n"
     ]
    },
    {
     "name": "stderr",
     "output_type": "stream",
     "text": [
      "WARNING:chemschematicresolver.actions:No SMILES string was extracted for diagram 4\n",
      "WARNING:chemschematicresolver.actions:No SMILES string was extracted for diagram 5\n",
      "WARNING:chemschematicresolver.extract:Some SMILES strings were determined to be false positives and were removed from the output.\n"
     ]
    },
    {
     "name": "stdout",
     "output_type": "stream",
     "text": [
      "extract image:  ./elsevier_images/test/image/500_gr2.jpeg\n"
     ]
    },
    {
     "name": "stderr",
     "output_type": "stream",
     "text": [
      "WARNING:chemschematicresolver.extract:Confidence of label 2 deemed too low for extraction\n",
      "WARNING:chemschematicresolver.extract:Confidence of label 3 deemed too low for extraction\n"
     ]
    },
    {
     "name": "stdout",
     "output_type": "stream",
     "text": [
      "extract image:  ./elsevier_images/test/image/500_gr3.jpeg\n",
      "extract image:  ./elsevier_images/test/image/500_gr4.jpeg\n",
      "extract image:  ./elsevier_images/test/image/500_gr5.jpeg\n"
     ]
    },
    {
     "name": "stderr",
     "output_type": "stream",
     "text": [
      "WARNING:chemschematicresolver.actions:No SMILES string was extracted for diagram 8\n",
      "WARNING:chemschematicresolver.actions:No SMILES string was extracted for diagram 7\n",
      "WARNING:chemschematicresolver.extract:Confidence of label 1 deemed too low for extraction\n",
      "WARNING:chemschematicresolver.extract:Confidence of label 6 deemed too low for extraction\n",
      "WARNING:chemschematicresolver.extract:Some SMILES strings were determined to be false positives and were removed from the output.\n"
     ]
    },
    {
     "name": "stdout",
     "output_type": "stream",
     "text": [
      "extract image:  ./elsevier_images/test/image/500_gr6.jpeg\n"
     ]
    },
    {
     "name": "stderr",
     "output_type": "stream",
     "text": [
      "WARNING:chemschematicresolver.actions:No SMILES string was extracted for diagram 18\n",
      "WARNING:chemschematicresolver.extract:Confidence of label 6 deemed too low for extraction\n",
      "WARNING:chemschematicresolver.extract:Confidence of label 8 deemed too low for extraction\n",
      "WARNING:chemschematicresolver.extract:Confidence of label 10 deemed too low for extraction\n",
      "WARNING:chemschematicresolver.extract:Confidence of label 12 deemed too low for extraction\n",
      "WARNING:chemschematicresolver.extract:Confidence of label 9 deemed too low for extraction\n",
      "WARNING:chemschematicresolver.extract:Confidence of label 11 deemed too low for extraction\n",
      "WARNING:chemschematicresolver.extract:Some SMILES strings were determined to be false positives and were removed from the output.\n"
     ]
    },
    {
     "name": "stdout",
     "output_type": "stream",
     "text": [
      "extract image:  ./elsevier_images/test/image/500_gr7.jpeg\n"
     ]
    },
    {
     "name": "stderr",
     "output_type": "stream",
     "text": [
      "WARNING:chemschematicresolver.extract:Confidence of label 0 deemed too low for extraction\n",
      "WARNING:chemschematicresolver.extract:Confidence of label 5 deemed too low for extraction\n",
      "WARNING:chemschematicresolver.extract:Confidence of label 2 deemed too low for extraction\n",
      "WARNING:chemschematicresolver.actions:No SMILES string was extracted for diagram 8\n",
      "WARNING:chemschematicresolver.extract:Some SMILES strings were determined to be false positives and were removed from the output.\n"
     ]
    },
    {
     "name": "stdout",
     "output_type": "stream",
     "text": [
      "extract image:  ./elsevier_images/test/image/500_gr8.jpeg\n"
     ]
    },
    {
     "name": "stderr",
     "output_type": "stream",
     "text": [
      "WARNING:chemschematicresolver.extract:Confidence of label 11 deemed too low for extraction\n",
      "WARNING:chemschematicresolver.extract:Confidence of label 13 deemed too low for extraction\n",
      "WARNING:chemschematicresolver.extract:Confidence of label 14 deemed too low for extraction\n",
      "WARNING:chemschematicresolver.actions:No SMILES string was extracted for diagram 15\n",
      "WARNING:chemschematicresolver.extract:Confidence of label 0 deemed too low for extraction\n",
      "WARNING:chemschematicresolver.extract:Some SMILES strings were determined to be false positives and were removed from the output.\n"
     ]
    },
    {
     "name": "stdout",
     "output_type": "stream",
     "text": [
      "extract image:  ./elsevier_images/test/image/500_sc1.jpeg\n"
     ]
    },
    {
     "name": "stderr",
     "output_type": "stream",
     "text": [
      "WARNING:chemschematicresolver.extract:Confidence of label 2 deemed too low for extraction\n",
      "WARNING:chemschematicresolver.extract:Confidence of label 6 deemed too low for extraction\n",
      "WARNING:chemschematicresolver.extract:Text could not be resolved from label 8\n",
      "WARNING:chemschematicresolver.extract:Confidence of label 8 deemed too low for extraction\n",
      "WARNING:chemschematicresolver.extract:Confidence of label 9 deemed too low for extraction\n",
      "WARNING:chemschematicresolver.actions:No SMILES string was extracted for diagram 15\n",
      "WARNING:chemschematicresolver.extract:Some SMILES strings were determined to be false positives and were removed from the output.\n"
     ]
    },
    {
     "name": "stdout",
     "output_type": "stream",
     "text": [
      "extract image:  ./elsevier_images/test/image/500_sc2.jpeg\n"
     ]
    },
    {
     "name": "stderr",
     "output_type": "stream",
     "text": [
      "WARNING:chemschematicresolver.extract:Confidence of label 7 deemed too low for extraction\n",
      "WARNING:chemschematicresolver.extract:Confidence of label 6 deemed too low for extraction\n",
      "WARNING:chemschematicresolver.extract:Text could not be resolved from label 0\n",
      "WARNING:chemschematicresolver.extract:Confidence of label 0 deemed too low for extraction\n",
      "WARNING:chemschematicresolver.extract:Confidence of label 8 deemed too low for extraction\n"
     ]
    },
    {
     "name": "stdout",
     "output_type": "stream",
     "text": [
      "extract image:  ./elsevier_images/test/image/501_fx1.jpeg\n"
     ]
    },
    {
     "name": "stderr",
     "output_type": "stream",
     "text": [
      "WARNING:chemschematicresolver.actions:No SMILES string was extracted for diagram 2\n",
      "WARNING:chemschematicresolver.extract:Some SMILES strings were determined to be false positives and were removed from the output.\n"
     ]
    },
    {
     "name": "stdout",
     "output_type": "stream",
     "text": [
      "extract image:  ./elsevier_images/test/image/501_gr1.jpeg\n"
     ]
    },
    {
     "name": "stderr",
     "output_type": "stream",
     "text": [
      "WARNING:chemschematicresolver.actions:No SMILES string was extracted for diagram 4\n",
      "WARNING:chemschematicresolver.actions:No SMILES string was extracted for diagram 5\n",
      "WARNING:chemschematicresolver.extract:Some SMILES strings were determined to be false positives and were removed from the output.\n"
     ]
    },
    {
     "name": "stdout",
     "output_type": "stream",
     "text": [
      "extract image:  ./elsevier_images/test/image/501_gr2.jpeg\n"
     ]
    },
    {
     "name": "stderr",
     "output_type": "stream",
     "text": [
      "WARNING:chemschematicresolver.extract:Confidence of label 0 deemed too low for extraction\n",
      "WARNING:chemschematicresolver.actions:No SMILES string was extracted for diagram 3\n",
      "WARNING:chemschematicresolver.extract:Some SMILES strings were determined to be false positives and were removed from the output.\n"
     ]
    },
    {
     "name": "stdout",
     "output_type": "stream",
     "text": [
      "extract image:  ./elsevier_images/test/image/501_gr3.jpeg\n"
     ]
    },
    {
     "name": "stderr",
     "output_type": "stream",
     "text": [
      "WARNING:chemschematicresolver.actions:No SMILES string was extracted for diagram 4\n",
      "WARNING:chemschematicresolver.actions:No SMILES string was extracted for diagram 3\n",
      "WARNING:chemschematicresolver.extract:Some SMILES strings were determined to be false positives and were removed from the output.\n"
     ]
    },
    {
     "name": "stdout",
     "output_type": "stream",
     "text": [
      "extract image:  ./elsevier_images/test/image/501_gr4.jpeg\n"
     ]
    },
    {
     "name": "stderr",
     "output_type": "stream",
     "text": [
      "WARNING:chemschematicresolver.extract:Confidence of label 7 deemed too low for extraction\n",
      "WARNING:chemschematicresolver.extract:Confidence of label 6 deemed too low for extraction\n"
     ]
    },
    {
     "name": "stdout",
     "output_type": "stream",
     "text": [
      "extract image:  ./elsevier_images/test/image/501_gr5.jpeg\n"
     ]
    },
    {
     "name": "stderr",
     "output_type": "stream",
     "text": [
      "WARNING:chemschematicresolver.actions:No SMILES string was extracted for diagram 5\n",
      "WARNING:chemschematicresolver.extract:Confidence of label 4 deemed too low for extraction\n",
      "WARNING:chemschematicresolver.extract:Some SMILES strings were determined to be false positives and were removed from the output.\n"
     ]
    },
    {
     "name": "stdout",
     "output_type": "stream",
     "text": [
      "extract image:  ./elsevier_images/test/image/501_pl1.jpeg\n"
     ]
    },
    {
     "name": "stderr",
     "output_type": "stream",
     "text": [
      "WARNING:chemschematicresolver.extract:Some SMILES strings were determined to be false positives and were removed from the output.\n"
     ]
    },
    {
     "name": "stdout",
     "output_type": "stream",
     "text": [
      "extract image:  ./elsevier_images/test/image/501_sc1.jpeg\n"
     ]
    },
    {
     "name": "stderr",
     "output_type": "stream",
     "text": [
      "WARNING:chemschematicresolver.extract:Confidence of label 1 deemed too low for extraction\n",
      "WARNING:chemschematicresolver.actions:No SMILES string was extracted for diagram 8\n",
      "WARNING:chemschematicresolver.extract:Some SMILES strings were determined to be false positives and were removed from the output.\n"
     ]
    },
    {
     "name": "stdout",
     "output_type": "stream",
     "text": [
      "extract image:  ./elsevier_images/test/image/502_fx1.jpeg\n",
      "extract image:  ./elsevier_images/test/image/502_gr1.jpeg\n",
      "extract image:  ./elsevier_images/test/image/502_gr2.jpeg\n"
     ]
    },
    {
     "name": "stderr",
     "output_type": "stream",
     "text": [
      "WARNING:chemschematicresolver.extract:Confidence of label 0 deemed too low for extraction\n"
     ]
    },
    {
     "name": "stdout",
     "output_type": "stream",
     "text": [
      "extract image:  ./elsevier_images/test/image/502_gr3.jpeg\n"
     ]
    },
    {
     "name": "stderr",
     "output_type": "stream",
     "text": [
      "WARNING:chemschematicresolver.extract:Confidence of label 2 deemed too low for extraction\n"
     ]
    },
    {
     "name": "stdout",
     "output_type": "stream",
     "text": [
      "extract image:  ./elsevier_images/test/image/502_gr4.jpeg\n"
     ]
    },
    {
     "name": "stderr",
     "output_type": "stream",
     "text": [
      "WARNING:chemschematicresolver.extract:Confidence of label 0 deemed too low for extraction\n"
     ]
    },
    {
     "name": "stdout",
     "output_type": "stream",
     "text": [
      "extract image:  ./elsevier_images/test/image/502_gr5.jpeg\n"
     ]
    },
    {
     "name": "stderr",
     "output_type": "stream",
     "text": [
      "WARNING:chemschematicresolver.actions:No SMILES string was extracted for diagram 2\n",
      "WARNING:chemschematicresolver.extract:Some SMILES strings were determined to be false positives and were removed from the output.\n"
     ]
    },
    {
     "name": "stdout",
     "output_type": "stream",
     "text": [
      "extract image:  ./elsevier_images/test/image/502_gr6.jpeg\n"
     ]
    },
    {
     "name": "stderr",
     "output_type": "stream",
     "text": [
      "WARNING:chemschematicresolver.actions:No SMILES string was extracted for diagram 2\n",
      "WARNING:chemschematicresolver.extract:Some SMILES strings were determined to be false positives and were removed from the output.\n"
     ]
    },
    {
     "name": "stdout",
     "output_type": "stream",
     "text": [
      "extract image:  ./elsevier_images/test/image/502_gr7.jpeg\n",
      "extract image:  ./elsevier_images/test/image/502_gr8.jpeg\n",
      "Runtime error, no smiles\n",
      "extract image:  ./elsevier_images/test/image/502_sc1.jpeg\n",
      "extract image:  ./elsevier_images/test/image/503_gr1.jpeg\n"
     ]
    },
    {
     "name": "stderr",
     "output_type": "stream",
     "text": [
      "WARNING:chemschematicresolver.extract:Confidence of label 0 deemed too low for extraction\n",
      "WARNING:chemschematicresolver.actions:No SMILES string was extracted for diagram 5\n",
      "WARNING:chemschematicresolver.extract:Some SMILES strings were determined to be false positives and were removed from the output.\n"
     ]
    },
    {
     "name": "stdout",
     "output_type": "stream",
     "text": [
      "extract image:  ./elsevier_images/test/image/503_gr2.jpeg\n"
     ]
    },
    {
     "name": "stderr",
     "output_type": "stream",
     "text": [
      "WARNING:chemschematicresolver.extract:Confidence of label 0 deemed too low for extraction\n"
     ]
    },
    {
     "name": "stdout",
     "output_type": "stream",
     "text": [
      "extract image:  ./elsevier_images/test/image/503_gr3.jpeg\n",
      "extract image:  ./elsevier_images/test/image/503_gr4.jpeg\n"
     ]
    },
    {
     "name": "stderr",
     "output_type": "stream",
     "text": [
      "WARNING:chemschematicresolver.actions:No SMILES string was extracted for diagram 5\n",
      "WARNING:chemschematicresolver.actions:No SMILES string was extracted for diagram 4\n",
      "WARNING:chemschematicresolver.extract:Some SMILES strings were determined to be false positives and were removed from the output.\n"
     ]
    },
    {
     "name": "stdout",
     "output_type": "stream",
     "text": [
      "extract image:  ./elsevier_images/test/image/503_gr5.jpeg\n"
     ]
    },
    {
     "name": "stderr",
     "output_type": "stream",
     "text": [
      "WARNING:chemschematicresolver.extract:Confidence of label 0 deemed too low for extraction\n"
     ]
    },
    {
     "name": "stdout",
     "output_type": "stream",
     "text": [
      "extract image:  ./elsevier_images/test/image/503_gr6.jpeg\n"
     ]
    },
    {
     "name": "stderr",
     "output_type": "stream",
     "text": [
      "WARNING:chemschematicresolver.extract:Confidence of label 2 deemed too low for extraction\n",
      "WARNING:chemschematicresolver.actions:No SMILES string was extracted for diagram 4\n",
      "WARNING:chemschematicresolver.extract:Some SMILES strings were determined to be false positives and were removed from the output.\n"
     ]
    },
    {
     "name": "stdout",
     "output_type": "stream",
     "text": [
      "extract image:  ./elsevier_images/test/image/503_sc1.jpeg\n"
     ]
    }
   ],
   "source": [
    "# put it into CSR \n",
    "smile_results = {}\n",
    "\n",
    "for img in raw_images:\n",
    "    \n",
    "    print('extract image: ', img)\n",
    "    result = None\n",
    "    image = cv2.imread(img)\n",
    "    if image.shape[0] * image.shape[1] > 2000 * 2000: continue\n",
    "    \n",
    "    try:\n",
    "        \n",
    "        result = csr.extract_image(img, allow_wildcards=True)\n",
    "    except:\n",
    "        print('Runtime error, no smiles')\n",
    "    \n",
    "    if result is not None and len(result):\n",
    "        smile_results[img] = result.copy()"
   ]
  },
  {
   "cell_type": "code",
   "execution_count": 24,
   "metadata": {},
   "outputs": [
    {
     "data": {
      "text/plain": [
       "74"
      ]
     },
     "execution_count": 24,
     "metadata": {},
     "output_type": "execute_result"
    }
   ],
   "source": [
    "len(smile_results)"
   ]
  },
  {
   "cell_type": "code",
   "execution_count": 26,
   "metadata": {},
   "outputs": [
    {
     "name": "stdout",
     "output_type": "stream",
     "text": [
      "./elsevier_images/train/image/114_sc1.jpeg [(['2'], 'C1=C(C=CC(C1)N(c1ccc(C2=CC3=C(C=C(C4C3NSN4)C(C3=CCCCC3)C)C3NSNC23)cc1)c1ccc(C(c2ccccc2)C)cc1)CC')]\n",
      "./elsevier_images/train/image/127_gr3.jpeg [(['Wmelengih (nm)'], 'C1=C(C2[C@H](CC1C1[C@@H]3C=[C]1=*3)[C@H](C)CCC2)C')]\n",
      "./elsevier_images/train/image/135_gr10.jpeg [(['PTQD'], 'c12cc(B)sc1c1nc3c(nc1c1c2cc(s1)Br)C(=O)N(C3=O)CC(C(F)(F)F)C*'), (['P(PTQD-2Th)'], 'CC(/C(=C/C)/S[C](#C)c1sc(cc1)c1sc2c(c3cc(C(C)C)sc3c3nc4C(=O)N(C(=O)c4nc23)CC(C)C(CCCCCCC)N=C)c1)(C)C'), (['P(PTQD-Th)'], 'c1(N(C)C)sc(cc1)c1cc2c3cc(C(C)C)sc3c3nc4C(=O)N(C(=O)c4nc3c2s1)CC(*)C')]\n",
      "./elsevier_images/train/image/135_gr2.jpeg [(['P(PTQD-ZTh)'], 'C1CC(=CC1)[C@H]1[C@H](C1)CC')]\n",
      "./elsevier_images/train/image/141_gr6.jpeg [(['3'], 'C(S[C@@H]1C(=[I]1)N=O)CS'), (['TTz'], 'C1=C2SC(=NC2C*1)*=C'), (['1'], 'O(C)C(c1sccc1N)O')]\n",
      "./elsevier_images/train/image/146_sc1.jpeg [(['m'], '[C]1(#C)C(C2SC(C3C2C(NC3O)CO)C2=CCC(CCC)S2)CCC1BC')]\n",
      "./elsevier_images/train/image/151_gr1.jpeg [(['wn-'], 'C(*)*1=CC=C(C2C(CC(CC2)*C)C**)C(C1)C(C)C')]\n",
      "./elsevier_images/train/image/151_gr10.jpeg [(['7'], 'CC1=CC=C2C(C1)C1=C(*)*C(C1C1CC(=*CC21)C)C(=N)C')]\n",
      "./elsevier_images/train/image/151_gr9.jpeg [(['rm'], 'C(C)[I]C1=CCC(C2C(C3C=CC=CC3)C3=C4C(=CC(C3)C)C(C3=CCC(C=C3)C)C(C3CCC(=CC3)I)C3=CC(=CC2C43)C(C)(C)C)CC1')]\n",
      "./elsevier_images/train/image/155_gr1.jpeg [(['(a)'], 'c12c(c3c(c(c2C=C(C1)C)C)sc(c3)C1C2C(=O)N(C(=O)C2=*S1)CCCCCCCC)O')]\n",
      "./elsevier_images/train/image/174_gr8.jpeg [(['Wavelength (nm)'], '*1(CC(*C#*C)C*(C)(*)C1(C)C)C*')]\n",
      "./elsevier_images/train/image/174_gr9.jpeg [(['0'], 'C12C(C3CC13)CC1C2C1')]\n",
      "./elsevier_images/train/image/190_fx1.jpeg [(['Post-oxidation'], '*S(=O)(=O)c1ccc(c2c3sc(CC(CCCC*)CCCCCCCCCCCCCC#*)cc3c(c3sc(S(=O)(=O)C*)cc3)c3sc(c4sc(C5=C6SC(=CC6(C(c6sc(*(C)C)cc6)S5)C)C(=O)O*)cc4)cc23)s1')]\n",
      "./elsevier_images/train/image/190_sc1.jpeg [(['PBT-so2'], '*S(=O)(=O)C1CCC(c2c3sc([*H]C)cc3c(C3SC(S(=O)(=O)C*)CC3)c3sc(c4sc(C5C6SC(C(=O)O*)CC6C(C6SC(CC6)*(C)C)S5)cc4)cc23)S1'), (['M1'], 'C1C(C2C3SCC3C(=C3SC(CC23)[Sn](C)(C)C)C2SC(S[I]*)CC2)SC(C1)S')]\n",
      "./elsevier_images/train/image/385_gr2.jpeg [(['1nnnn'], 'N([C@@H](CCCC(C)C)C)C')]\n",
      "./elsevier_images/train/image/385_sc1.jpeg [(['2'], 'CCCCC(CN1C(=C2C(=C(C3CCC(CC3)Br)C(C2O)CC(CC)CCCC)C1O)c1sc(Br)cc1)CC'), (['2'], 'C(CCC)C(CN1C(=C2C(C3C1C3=O)C(C1=CC3C(S1)(C)C3)/C(=C\\\\CC(CC)CCCC)/C2=O)C1SC(=CC1)Br)CC')]\n",
      "./elsevier_images/train/image/68_gr1.jpeg [(['PBDTPO-FBT'], 'C(C(COc1ccc(c2c3sc(cc3c(c3ccc(OCC(CC)CCCC)cc3)c3sc(cc23)c2c([*+2])cc(s2)c2c(F)cc(c3nsnc23)c2sc(c(C)c2)*(C)C)*C)cc1)CC)CCC')]\n",
      "./elsevier_images/train/image/68_sc1.jpeg [(['2'], 'c1c(ccc(c1)CCC(CC)CCCC)Br'), (['Ml'], 'C(CCC(COc1ccc(C2=C3C(C(C4C2SC(C4)S(C)(C)C)C2=CC=C(CC2)CC(CCCC)CC)SC(=C3)C)cc1)CC)C')]\n",
      "./elsevier_images/test/image/227_gr7.jpeg [([\"Pnu'r Hum r\"], 'C1(CCC(C2C3*C(C(C)C)CC3C(C3CCCC3)C3*C(C4C(C)CC(C5C6[C@@H](O)N(C(C6C(C6C(C(*(C)C)C(*)C6)C)C5)O)*)*4)CC23)C1)*')]\n",
      "./elsevier_images/test/image/248_gr4.jpeg [(['Vollage (V)'], 'C12CCC3*C4C(C13*CCC)(C1[C@H]3CC4[C@](C/C=*/C)(C3C(C1)C2*)C)CC')]\n",
      "./elsevier_images/test/image/248_gr8.jpeg [(['DT(0x-2)Br1'], 'C(c1c(c(c2sc(Br)cc2)c2nc(C3=CC*C=C3)c(nc2c1c1ccc(Br)s1)c1ccc(C=O)cc1)O)C'), (['R'], 'C1=*SC(=C1)c1c2sc([Sn](C)(C)C)cc2c(C2=CC*S2)c2sc(C)cc12'), (['2'], 'C1(=C(Br)C(*)C(N)C(=C1*)Br)*')]\n",
      "./elsevier_images/test/image/299_fx1.jpeg [(['r'], 'C1(F)C(NC2N[C@@H](C(*C3=CCC(NC4C(CCCCC4)F)N3*)NC3C(=CC[C@@H](C3N)C(C)(C)C)C3=CC4=C(c5sc(CC=C)cc5)C5C(C(C4S3)C3CC=C(CC)S3)C=C(C(C)(C)N)S5)CC2)*CC1')]\n",
      "./elsevier_images/test/image/299_gr7.jpeg [(['5'], 'C1(CC2C(=CC1)C1C(C3*2C(=CC3)*C)NC2C(=CC=C(Br)C2N1)Br)*')]\n",
      "./elsevier_images/test/image/299_gr8.jpeg [(['w'], 'C1(CC(C2C3CCCC3C(C34CCC(C)C3C4)C3CCCC23)CC1)N'), (['DMZ'], 's1c(ccc1c1c2CC([Si](C)(C)C)Sc2c(C2CC=C(C)S2)c2cc(S(C)(C)C)sc12)C')]\n",
      "./elsevier_images/test/image/299_gr9.jpeg [(['POF1'], 'C1(C=CC=CC1NCC1=CC=C2C3NC4C(N=C3C3CCC(/C=N/C5=C(F)C=CCC5)*123)C(=CCC4C(C)(C)C)C1=CC2C(C3C(C(=C2S1)C1C2CN12)C=C(*C)*3)*)F'), (['PTF1'], 'c1(cccc(c1NC1=*C=C(N1)C1C(OC23NC(NC4C(C=CC=C4F)F)CC2C3)C1C1=C(N)C(=CCC1C1CC2C(C3C*(C)CC3)C3C(C(C2C2*1C2)C1CC*C1)CC(C(C)(C)C)C3)C(C)(C)C)F)F'), (['AM1'], 'C1C(=C(NC2*34C(C([I]C3CCC4CCC(C(F)C/C=C\\\\F)C)NC3=C(C(Br)CCC3Br)N)CC2)C(=CC1)F)F')]\n",
      "./elsevier_images/test/image/300_gr5.jpeg [(['b)'], 'C1C2CC3(C(C2)*(C1)CCC3)C')]\n",
      "./elsevier_images/test/image/300_gr7.jpeg [(['P2'], 'C(CCC(COc1c2cc(C(C)(C)C)sc2c(OCC(CC)CCCC)c2cc(c3sc(cc3)c3c(O)c(*)c(c4sc(C(C)(C)C)cc4)c4nc5c(c6cccc7cccc5c67)nc34)sc12)CC)C')]\n",
      "./elsevier_images/test/image/347_gr5.jpeg [(['n'], 'c1ccc2C(C*C)(c2c1)*')]\n",
      "./elsevier_images/test/image/347_sc1.jpeg [(['PC7DBSe'], 'n1(C(C)C)c2cc(c3sc(cc3)C3=CC=C(/C(=N/C)/C/3=N\\\\S)c3ccc([C](=C)(*)C)s3)ccc2c2c1cc(*(C)C)cc2'), (['3'], 'c1c(c(ccc1Br)c1ccc(Br)cc1)C=*'), (['6'], 'C(n1c2cc(BOC(C(C)([OH2+])C)(C)C)ccc2c2ccc([BH+][OH+]C(C(O)(C)C)(C)C)cc12)(C(=C)CCCCCCC)*'), (['12'], 'Brc1ccc(c2c3=*SN=c3c(c3sc(cc3)Br)cc2)s1'), (['5'], 'n1(C(CCCCCCCC)C)c2cc(Br)ccc2c2ccc(Br)cc12'), (['II'], 'BrC1=CC=C(/C(=N/S)/C1=N)Br')]\n",
      "./elsevier_images/test/image/379_sc1.jpeg [(['2'], '*c1cc2N(C3C(c2s1)*C(=C3)Br)C1=CCC(CC1)I'), (['z'], '*1CCC(CCC)C1C1CC1')]\n",
      "./elsevier_images/test/image/379_sc2.jpeg [(['PDTPTBTB'], 'CC(C(C)(C1=C*=C(C*1)C1C2NSNC2C(C2=C(C=C(C2)c2sc3c(c2)N(C2C3CC(=C2)C(C)(C2=CC=CCC2)C)C2=CCC(CC2)*)C)CC1)C)(C)C1=Cc2n(c(c(c2*1)C)CC(C1C2NC(CC2C(=CC1)[C]1(=CCCC=C1)(C)C)(C)C)C)c1ccc(C)cc1')]\n",
      "./elsevier_images/test/image/391_sc1.jpeg [(['1'], 'C1(/C(=N/S)/C(N)C(=C[I]1)SC(/[Li](=C/CBr)/C(N)[C@H](NS)C)[C@H]1[C@@H]2C(OC(CO1)(C=C)NC)C2)Br'), (['z'], '[C@@H]([C@H](C1C(C=CS1)C(C)[C](=C)(C)C)[C@@H](C(CC)CC)C)([Sg]I)CC'), (['5'], 'C1(*)C2OCC(I)(C3CN3)COC2=C(*)S1'), (['a'], 'Brc1c2C(O)N(C(=O)c2c(Br)s1)CC'), (['s'], 'N1SN[I]C=C(C1C)C1SC(C2C(C(N)CCC2)NS)C(OSCCC)[C@H](OCC)C1')]\n",
      "./elsevier_images/test/image/392_gr2.jpeg [(['mo'], 'C1CC([C@H]2CCCCC[C@](CCC=C)(C)CCCC2)[C@H](C(CC/C/1=C/C)*O)[*-](#C)[F]=C')]\n",
      "./elsevier_images/test/image/392_sc1.jpeg [(['b'], 'c1c(CC(CCCC)CC)cc(C=O)s1'), (['e'], 'c1(scc(CC(CCCC)CC)c1)C1NN=C(c2cc(CC(CC)CCCC)cs2)NN1'), (['d'], 'c1c(CC(CCCC)CC)cc(C=N)s1')]\n",
      "./elsevier_images/test/image/423_fx1.jpeg [(['VS'], 'c1c(c2c3sc(cc3c(c3sc(/C=C/c4sc(cc4)c4cc5c(cc4)NC(=O)/C/5=C/4\\\\c5c(NC4=O)cccc5)cc3)c3sc(cc23)C(C)(c2sccc2)C)c2cc3C(c4ccc(C)cc4)(c4ccc(C[C@@H](NC)C)cc4)c4cc5c6sc(C(C)(c7sccc7)C)cc6C(c6ccc(*)cc6)(c6ccc(C)cc6)c5cc4c3s2)sc(c1)C')]\n",
      "./elsevier_images/test/image/423_gr5.jpeg [([\"PID'I'BD'I'ID\"], 'c1c(sc(c1)Cl)c1c2c(c(C3=CC=C(/C=C/c4ccc(c5ccc6NC(=O)/C(=C(\\\\c7ccccc7[I]C)/*=O)/c6c5)s4)C3)c3cc(c4sc5c6c(C(c7ccc(cc7)C)(c7ccc([Li])cc7)c5c4)cc4c5sc(cc5C(c5ccc([F]Cl)cc5)(c5ccc(*=C)cc5)c4c6)C(C)(c4sccc4)C)sc13)sc(C(C)(c1sccc1)C)c2')]\n",
      "./elsevier_images/test/image/458_gr1.jpeg [(['Wavelength (nm)'], 'C1(*)[C@@]23*4=*[C]56(CCC(=C4C/C=C\\\\*[C@@H](*C[C](=*)(C*(C2*1)C(=C)*)C(CC)C(=C=CC6)C=C5)CCCC)*)C3'), (['(C)', 'mc'], 'c1c(C2(c3cc4c5sc6cc(/C=C\\\\7/C(=C(C#N)C#N)c8ccccc8C7=O)sc6c5C(C5=CC=*C=C5)(c5ccc(CCCCCC)cc5)c4cc3c3sc4c(sc(c4)/C=C\\\\4/C(=C(C#N)C#N)c5ccccc5C4O)c23)c2ccc(*)cc2)ccc(CCCCCC)c1'), (['PT26'], '*c1cc(c2c3sc(*(C)C)cc3c(c3cc(*)cc(*)c3)c3sc(C4=CC=C(*4)c4c(*)n(c(s4)c4nc(c(s4)C4=C=C=C(*(C)C)S4)*)C)cc23)cc(*)c1'), (['PC71BM'], 'c1c(C2(C34c5c6C=[C]23C=C2c3c4c4c5c5c(c6)cc6ccc7cc8cc9C#[C](=C2)c3c2c4c3c5c6c7c3c8c92)CCCC(=*)C(=C)C)cccc1')]\n",
      "./elsevier_images/test/image/463_fx1.jpeg [(['PDTfBO-T'], 'c1(c2cc(*)c(c3sc(cc3)c3c(*)cc(C)s3)s2)sc2c(c1)c1c(c3c2sc(c3)C)non1'), (['PDTjBO-TT'], 'c12sc(c3sc(cc3*)c3sc4c5sc(C)cc5c5nonc5c4c3)cc1sc(c2)c1c(*)cc(C)s1')]\n",
      "./elsevier_images/test/image/463_gr4.jpeg [(['0', '2'], '*1C2=*3C[C@H]4*1C1C([C](=C)(C(CC41)C*3C2)NC)*O'), (['2'], 'C[C@H]1C2*34C5(C(***C(C)*C(*C(*C(C)CC6CC(C(C(*3)*(**(**(C)C)C)(C)C)**([C]3([C@H](C)*[C@H](C)[C@H]24)([C@H](C)**[C@@H]3C)O*)(C*(**(=*=C)(C)C)CC6C)*)C)C)C)(C)*C1)[*@]1(=C*1=*=**N(=O)(*)*1=C[*H]1(*(=C)C)C)C5')]\n",
      "./elsevier_images/test/image/464_fx1.jpeg [(['Voltage (V)'], '[C@H](/C=*/[*+]1CC$1)(*1CC(CC1)C)C')]\n",
      "./elsevier_images/test/image/466_fx1.jpeg [(['P9'], 'CC(Cc1cc(C2=C(C(=C(C(=N)C32[I](*3)S)c2sc(c(c2)CCCCCCCCCC)C(C)(c2ccccc2)C)F)F)sc1c1ccc(C(C)(c2ccccc2)C)s1)CCCCCC'), (['P8'], 'CC(Cc1cc(C2=C(C(=C(C(=N)/C/2=[Li]\\\\[SH+])c2sc(c(c2)CC(*)CCCCCCCC)C(C)(c2ccccc2)C)F)F)sc1c1sc(C(C)(c2ccccc2)C)cc1)CCCCCC')]\n",
      "./elsevier_images/test/image/466_gr2.jpeg [(['m', 'UJ', '0', '5'], 'C1(*)C(*)C(*)C(*)C21[C@@H]1C(C(O)*)C(*)C(O)C(*)CCC*/C=C\\\\C3*C(C=*=*4C*C(=[C]5(C(OC6*(*CC7CC7CO*C7CC27)C6)[O]25(CC)C5/*(=C\\\\1/C)/*CC25)C1=CC1)CC4)CCC3'), (['04 06', 'Voltage (V)'], 'C12(*)CC3=S=C4C1=C=*=*(=[O]OOO/*=C\\\\1/[C@H]5CC(CC(C(=C)C6CC7(O)C3(C3C(C4(C(C4C(C4)C4C(C8C(C9C(C%10C(C%10)C%10CC%10C%10CC1C%10)C9)C8)C4)C)C67C5)C3)C)C)C2)=C')]\n",
      "./elsevier_images/test/image/466_sc2.jpeg [(['(a)'], 'C1C([C@@H]2CC[Cl]CC[C@H]2[C@H]([C@H](CCCCC(C*)C)CC*)C***1)C'), (['(b)'], 'C(C([C@@H]1C*[Cl]*C[C@H]1[C@H](C*)[C@@H]([C@@H](C)CI)C*)C)C')]\n",
      "./elsevier_images/test/image/467_sc1.jpeg [(['DPPBr'], 'C(CCC(CC)Cn1c(c2c(c(c3ccc(Br)s3)n(c2=O)CC(CC)CCCC)c1=O)c1ccc(Br)s1)C')]\n",
      "./elsevier_images/test/image/468_gr1.jpeg [(['(a)'], '*C(Cn1c(=O)c2c(c3ccc(s3)c3cc4sc(C(C)(C)C)cc4s3)n(c(=O)c2c1c1sc(*(C)C)cc1)CC(*)*)*')]\n",
      "./elsevier_images/test/image/469_fx1.jpeg [(['-10'], 'C12C*3P41CC**CC[C@@]15C6CC7C4([C@]5(C)C(C37)*)C6CC1C2')]\n",
      "./elsevier_images/test/image/470_fx1.jpeg [(['PHBCDPPDT'], 'c1c(cc(c(c1C)c1cc2c3cc(C(C)(c4ccccc4)C)cc4c5cc(c6c(C)cc(C)cc6C)cc6c7cc(c8c(C)cc(C)cc8C)cc8c9cc(c%10sc(cc%10)c%10ccc(c%11n(c(=O)c%12c%11c(=O)n(c%12c%11sc(cc%11)C%11=CCC(C(C)(c%12ccccc%12)C)S%11)CC(*)C)CC(C)C)s%10)cc%10c%11cc(c%12c(C)cc(C)cc%12C)cc%12c(c1)c2c1c(c%11%12)c(c9%10)c(c(c1c34)c56)c78)C)C'), (['PHBCDPPCS'], 'c1c(cc(c(c1C)c1cc2c3cc(C(C)(c4ccccc4)C)cc4c5c6c(cc(c7c(C)cc(C)cc7C)c5)c5cc(c7c(C)cc(C)cc7C)cc7c8cc(c9sc(c%10c%11c(=O)n(c(c%12ccc(C(C)(c%13ccccc%13)C)s%12)c%11c(=O)n%10CCC)CC(C)C)cc9)cc9c%10cc(c%11c(C)cc(C)cc%11C)cc%11c(c1)c2c1c(c%10%11)c(c89)c(c6c1c34)c57)C)C'), (['PHBCDPPCZO'], 'c1c(cc(c(c1C)c1cc2c3c4c(cc(C(C)(c5ccccc5)C)c3)c3c5c6c4c4c2c(c2cc(cc7c2c4c2c4c(c8cc(cc(c8c62)c5cc(c2c(C)cc(C)cc2C)c3)c2c(C)cc(C)cc2C)cc(c2sc(cc2)c2c3c(=O)n(c(c3c(=O)n2C*C)c2sc(cc2)C(C)(c2ccccc2)C)/C=[C](\\\\N)/*=C)cc74)c2c(C)cc(C)cc2C)c1)C)C'), (['PHBCDPPF'], 'c1c(cc(c(c1C)c1cc2c3cc(C(C)(C4=CC=CCC4C)C)cc4c5cc(c6c(C)cc(C)cc6C)cc6c7cc(c8c(C)cc(C)cc8C)cc8c9cc(c%10oc(c%11c%12c(=O)n(c(c%13ccc(C(C)(c%14ccccc%14)C)o%13)c%12c(=O)n%11CC(*=C)CCN=C)CC(C)C)cc%10)cc%10c%11cc(c%12c(C)cc(C)cc%12C)cc%12c(c1)c2c1c(c%11%12)c(c9%10)c(c(c1c34)c56)c78)C)C')]\n",
      "./elsevier_images/test/image/470_sc1.jpeg [(['E'], 'c1c(cc2c3C#[C](C=c4c5cc(cc6c7cc(cc8c9cc(cc%10c%11cc(cc%12c1c2c1c(c%11%12)c(c9%10)c(c(c1c34)c56)c78)I)C)*)B)C)*')]\n",
      "./elsevier_images/test/image/470_sc4.jpeg [(['94'], 'c1c(cc(c(c1C)c1cc2c3cc(c4c(C)cc(C)cc4C)cc4c5cccc6c7cc(c8c(C)cc(C)cc8C)cc8c9cc(c%10c(C)cc(C)cc%10C)cc%10c%11cc(C(C)(c%12sc%13c(c%12)C[C@@]%13(C)c%12ccc(C%13(C)C%14=[C]%15(C(=C([C]%16(=CC=C(S%16)[C@](C)(c%16cccs%16)CC)(C)C)N(C%15=O)C)C(=O)N%14C)C%13)s%12)C)cc%12c(c1)c2c1c(c34)c(c56)c(c(c1c%11%12)c9%10)c78)C)C')]\n",
      "./elsevier_images/test/image/472_gr1.jpeg [(['P(BDTT-TBDPPD)'], 'C(CC)(CC1=C*=C(C2C3SC(CC3C(C3SC(=CC3C)C**)c3sc(cc23)C2S[C@@H](c3n(c4C[S@]([O]=C5N(/C(=[O]/C)/c3c45)CCCCCCCC)C3=*([C@H]3*3(=[C]4(C5=C(N(C3)CCCCCCCC)C3(C[H]=C(C(C)(*)C)[S@@]3[O]=C5N(C4)CCCCCCCC)C)C)C)C=*)CCCCCCCC)CC2)C(*)(N)C)*1)*'), (['(b)'], 'N(CCCCCCCC)(C(=O)*)C1=[O][S@@]2C(=[H]C*C2C)C(=C1C)N(CC1=CC2*C(*1)CC1c3n(c4c(c3*(=[O][S@]21)N(*)CCCCCCCC)CO[S@@]1C4=CC=C1CC)CCCCCCCC)CCCCCCCC')]\n",
      "./elsevier_images/test/image/472_gr4.jpeg [(['(a)'], '*C12*3[C@]4(*[C](=*)(#N)#*)C(C(*)C[C@@H](C=C=*1)C(=*)C#[C]1CC1*2)C[C@H](C/C=C(/CC3C)\\\\*C4)C')]\n",
      "./elsevier_images/test/image/473_gr1.jpeg [(['absorption maxima, high bandgap, absorption maxima, low bandgap,', '\"Inward\" alkyl position of DTBT \"Outward\" alkyl position of DTBT', 'low carrier mobilities, low PCE high carrier mobilities, high PCE', 'Donor -Acceptor Polymers l Donor -Acceptor Polymers l', 'Severe backbone distortion, que-shifted Less backbone distortion, red-shifted'], 'c1(c2sccc2*)ccc(c2sccc2*)c2nsnc12')]\n",
      "./elsevier_images/test/image/474_fx1.jpeg [(['PFF'], 'c1c(cc(cc1c1c(c2cc(F)cc(O)c2)nc2c(n1)c(C1SC(=CC1)c1sc3c4cc5C(c6ccc(cc6)CCCCCC)(c6ccc(*)cc6)C6C(c5cc4C(c3c1)(c1ccccc1)c1ccc(*)cc1)SC(=C6)*(C)C)c(c(c2c1sc(cc1)C(C)C)I)*)O)F'), (['PHF'], 'c1c(cc(cc1c1c(c2cc(F)cc(O)c2)nc2c(n1)c(C1SC(=CC1)c1sc3c4cc5C(c6ccc(cc6)CCCCCC)(c6ccc(*)cc6)C6C(c5cc4C(c3c1)(c1ccccc1)c1ccc(*)cc1)SC(=C6)*(C)C)c(c(c2c1sc(cc1)C(C)C)I)*)O)F'), (['PFH'], 'c1ccc(cc1c1c(c2cccc(O)c2)nc2c(n1)c(C1SC(=CC1)c1sc3c4cc5C(c6ccc(cc6)CCCCCC)(c6ccc(*)cc6)C6C(c5cc4C(c3c1)(c1ccccc1)c1ccc(*)cc1)SC(=C6)*(C)C)c(c(c2c1sc(cc1)C(C)C)I)*)O')]\n",
      "./elsevier_images/test/image/474_gr5.jpeg [(['PFF'], 'c1c(cc(O*)cc1c1c(c2cc(O*)cc(F)c2)nc2c(n1)C(=C(*=C2c1sc(cc1)*(C)C)F)c1ccc(c2sc3c4c(C(c3c2)(C2=CC=*C=C2)c2ccc(*)cc2)cc2c(C(c3ccc(cc3)*)(c3ccc(*)cc3)c3c2sc(c3)C(C)(C)C)c4)s1)F'), (['PHF'], 'c1c(cc(O*)cc1c1c(c2cc(O*)cc(F)c2)nc2c(n1)C(=C*=C2c1sc(cc1)*(C)C)c1ccc(c2sc3c4c(C(c3c2)(C2=CC=*C=C2)c2ccc(*)cc2)cc2c(C(c3ccc(cc3)*)(c3ccc(*)cc3)c3c2sc(c3)C(C)(C)C)c4)s1)F'), (['PFH'], 'c1ccc(O*)cc1c1c(c2cc(O*)ccc2)nc2c(n1)C(=C(*=C2c1sc(cc1)*(C)C)F)c1ccc(c2sc3c4c(C(c3c2)(C2=CC=*C=C2)c2ccc(*)cc2)cc2c(C(c3ccc(cc3)*)(c3ccc(*)cc3)c3c2sc(c3)C(C)(C)C)c4)s1')]\n",
      "./elsevier_images/test/image/475_gr8.jpeg [([\"02 '-\", '0,1'], 'CCC1C(CCC1)C')]\n",
      "./elsevier_images/test/image/484_fx1.jpeg [(['P1'], 'C1[C@@H]2[C@H]3[C@H]2[C@H](C3[C@H]1C)C')]\n",
      "./elsevier_images/test/image/484_gr1.jpeg [(['P2'], 'c1c(sc(c1)c1c2sc(C(C)(N)C)cc2c(c2sccc2)c2sc(cc12)C1CC=C(C(=N)/C(=C(/C=O)\\\\C(=N)c2sc(cc2)*N)/C=O)S1)*'), (['P1'], 'c12sc(cc1c(O)c1sc(cc1c2OC)c1sc(cc1)c1c2C(=O)NC(=O)c2c(c2sc(cc2)*(C)C)nn1)*C'), (['PBDT-PhBT'], 'I*Oc1c2sc(cc2c(O)c2sc(C3CC=C(c4c(C(O)N)c(C=O)c(C5SC(=CC5)*C)cc4)S3)cc12)*N')]\n",
      "./elsevier_images/test/image/485_gr1.jpeg [(['PDPPSS'], '*CC(*)CN1C(=C2C(=C(c3sc(cc3)C(C)(C)C)N(C3C2O3)CC(C*)C*)C1=O)c1ccc(s1)c1sc(c2sc(cc2)C(C)(C)C)cc1')]\n",
      "./elsevier_images/test/image/498_gr1.jpeg [(['PBDTS-TFD'], '*=Cc1ccc(s1)C1=C2C(C(C3C1SC(=C3)C)C1=CCC(S1)S*)SC(=C2)c1c2C(=O)N(C(=O)c2c(C)s1)*')]\n",
      "./elsevier_images/test/image/498_sc1.jpeg [(['M4'], 'Brc1c2C(O)N(C(c2c(Br)s1)O)*'), (['M2'], 'BrC1=C(C(=C(/C(=N/S)/C1N)Br)F)F'), (['M2'], 'C12SC=CC1C(=O)c1sccc1C2=O'), (['M5'], 'C1(=C2C(C(=O)N1)C(c1sc(CC)cc1)N(C2=O)*)c1sc(Br)cc1'), (['M1'], 'C1(=[S]C(=C1)c1c2sccc2c(csccc1)C1SC=CC1)C')]\n",
      "./elsevier_images/test/image/499_gr1.jpeg [(['0,0'], '**(=N)(C)CCC')]\n",
      "./elsevier_images/test/image/499_sc1.jpeg [(['1'], 'c12CC3=C(c1sc(C1=C(*)C=C*1)c2)*CC(=C3)C1=C(C=CC1=C)C'), (['2'], 'c1c2c(sc1c1sc([Sn](C)(C)C)cc1C1C*1)c1sc(c3c(*)cc([N](C)(C)C)s3)cc1s2'), (['ethylhexyl'], 'Brc1sc(cc1)c1c2c(=O)n(c(C3=CC=C(Br)*3)c2c(=O)n1*)*'), (['3c'], 'Brc1sc(cc1)c1c2c(=O)n(c(C3=CC=C(Br)*3)c2c(=O)n1*)*'), (['EH', 'PDTTDPP'], 'C1=C(C2SC(=CC2C)*(C)C)*C2=C1SC1C2SC(=C1)C1=C(*)CC(C2SC(=CC2)c2c3c(=O)n(c(c3c(=O)n2*)C2=CCC(C(C)(C)C)S2)*)S1'), (['BO', 'PDTTDPP'], 'C1=C(C2SC(=CC2C)*(C)C)*C2=C1SC1C2SC(=C1)C1=C(*)CC(C2SC(=CC2)c2c3c(=O)n(c(c3c(=O)n2*)C2=CCC(C(C)(C)C)S2)*)S1'), (['DT', 'PDTTDPP'], 'C1=C(C2SC(=CC2C)*(C)C)*C2=C1SC1C2SC(=C1)C1=C(*)CC(C2SC(=CC2)c2c3c(=O)n(c(c3c(=O)n2*)C2=CCC(C(C)(C)C)S2)*)S1')]\n",
      "./elsevier_images/test/image/500_gr1.jpeg [(['Carbazole'], 'C1[C@H]2c3ccc(C)cc3N(C2CC[C@@H](C)C1)[C@@H](C)C(CCCCCCC)C=C')]\n",
      "./elsevier_images/test/image/500_gr3.jpeg [(['Wavelength (nm)'], '[C](=*)(CCNCI)([I]CC(C)C)I'), (['Wavelength (nm)'], 'C1CCC(C1)C(CCCCCC(C(CCCCC)CC(CCC)C)CC)CC')]\n",
      "./elsevier_images/test/image/500_gr4.jpeg [(['Voltage (V)'], '*1[C](/[C](=*(/CC2O*2)\\\\C)/C)*(=C)(CC*1)[I](=C)#*')]\n",
      "./elsevier_images/test/image/500_gr7.jpeg [(['Vonage (V)'], 'C1C2CC3CC(CCCC13)([C@H]2C)CC')]\n",
      "./elsevier_images/test/image/500_sc1.jpeg [(['2'], 'Brc1cc(c(I)cc1)CC'), (['e'], 'c1(ccc2c(c1)n(c1c2sc(c1)[Sn](C)(C)C)C(*)*)c1ccc([Sn](C)(C)C)s1'), (['5'], 'c1(ccc2c(c1)n(c1c2scc1)C(*)*)c1cccs1'), (['3'], 'C1=C(C(CC(=C1)C(CC)S)[N](=O)*)C1CCCS1')]\n",
      "./elsevier_images/test/image/501_fx1.jpeg [(['pDSBT-BHTBT'], 'c1(sc(c(C)c1)c1sc(cc1[S+](CCCC)CCCC)C(C)(C)C)c1sc(cc1*)c1c2nsnc2c(c2sc(c(c2)*)C(C)(C)C)cc1')]\n",
      "./elsevier_images/test/image/501_gr4.jpeg [(['100 pm/Z mm)'], 'C1CCC*21(=*C2C)C')]\n",
      "./elsevier_images/test/image/501_pl1.jpeg [(['pDSBT-BT'], 'C(*c1ccc(c2sc3c4sc(C(*)(C)CC)cc4[S+]([S](c3c2)CCCC)(CCCC)C)c2nsnc12)C')]\n",
      "./elsevier_images/test/image/501_sc1.jpeg [(['BHTBT'], 'c1(C)c(c2sc3c4sc(C(C)(C)C)cc4*(c3c2)(CCCC)(CCCC)CCCC)sc(c1)c1c2nsnc2c(c2sc(c(c2)*)C(C)(C)*)cc1')]\n",
      "./elsevier_images/test/image/502_fx1.jpeg [(['P2'], 'c1(c(c(c(c2c1nc(c1ccc(*C)cc1)c(n2)c1ccc(*)cc1)C1=CC=*S1)*)*)c1ccc(c2cc3n(c4c(c3cc2)ccc(c4)C)C)s1'), (['P1'], 'c1(c(c(c(c2c1nc(C1=CC=C=[C](=C1)*)c(n2)c1cccc(*)c1)C1=CCC(S1)(C)C)*)*)c1ccc(c2cc3n(c4c(c3cc2)ccc(c4)C)*)s1')]\n",
      "./elsevier_images/test/image/502_gr3.jpeg [(['Wavelength(nm)'], '*1CCCC1CCC')]\n",
      "./elsevier_images/test/image/503_gr2.jpeg [(['-3'], 'C1CC(*CC)*(CC)C*1')]\n"
     ]
    }
   ],
   "source": [
    "for k, v in smile_results.items():\n",
    "    print(k, v)"
   ]
  },
  {
   "cell_type": "code",
   "execution_count": 27,
   "metadata": {},
   "outputs": [],
   "source": [
    "with open(\"Seaki_Elsevier_raw_image_detections.json\", \"w\") as outfile:\n",
    "    json.dump(smile_results, outfile)"
   ]
  },
  {
   "cell_type": "markdown",
   "metadata": {},
   "source": [
    "## enhance resolutions and detect"
   ]
  },
  {
   "cell_type": "code",
   "execution_count": 2,
   "metadata": {},
   "outputs": [],
   "source": [
    "from cv2 import dnn_superres\n",
    "model_folder = '../../FSRCNN_Tensorflow/models/'\n",
    "model_path = model_folder + 'FSRCNN_x4.pb'\n",
    "# Set the desired model and scale to get correct pre- and post-processing\n",
    "sr = dnn_superres.DnnSuperResImpl_create()\n",
    "sr.readModel(model_path)\n",
    "sr.setModel(\"fsrcnn\", 4)"
   ]
  },
  {
   "cell_type": "code",
   "execution_count": 3,
   "metadata": {},
   "outputs": [
    {
     "name": "stdout",
     "output_type": "stream",
     "text": [
      "count  1 , scale  ./elsevier_images/train/image/114_fx1.jpeg\n",
      "count  2 , scale  ./elsevier_images/train/image/114_gr1.jpeg\n",
      "count  3 , scale  ./elsevier_images/train/image/114_gr2.jpeg\n",
      "count  4 , scale  ./elsevier_images/train/image/114_gr3.jpeg\n",
      "count  5 , scale  ./elsevier_images/train/image/114_gr4.jpeg\n",
      "count  6 , scale  ./elsevier_images/train/image/114_gr5.jpeg\n",
      "count  7 , scale  ./elsevier_images/train/image/114_gr6.jpeg\n",
      "count  8 , scale  ./elsevier_images/train/image/114_sc1.jpeg\n",
      "count  9 , scale  ./elsevier_images/train/image/127_fx1.jpeg\n",
      "count  10 , scale  ./elsevier_images/train/image/127_gr1.jpeg\n",
      "count  11 , scale  ./elsevier_images/train/image/127_gr2.jpeg\n",
      "count  12 , scale  ./elsevier_images/train/image/127_gr3.jpeg\n",
      "count  13 , scale  ./elsevier_images/train/image/127_gr4.jpeg\n",
      "count  14 , scale  ./elsevier_images/train/image/127_gr6.jpeg\n",
      "count  15 , scale  ./elsevier_images/train/image/127_gr7.jpeg\n",
      "count  16 , scale  ./elsevier_images/train/image/127_gr8.jpeg\n",
      "count  17 , scale  ./elsevier_images/train/image/135_fx1.jpeg\n",
      "count  17 , scale  ./elsevier_images/train/image/135_gr1.jpeg\n",
      "count  17 , scale  ./elsevier_images/train/image/135_gr10.jpeg\n",
      "count  17 , scale  ./elsevier_images/train/image/135_gr2.jpeg\n",
      "count  17 , scale  ./elsevier_images/train/image/135_gr3.jpeg\n",
      "count  17 , scale  ./elsevier_images/train/image/135_gr4.jpeg\n",
      "count  17 , scale  ./elsevier_images/train/image/135_gr5.jpeg\n",
      "count  17 , scale  ./elsevier_images/train/image/135_gr6.jpeg\n",
      "count  17 , scale  ./elsevier_images/train/image/135_gr7.jpeg\n",
      "count  17 , scale  ./elsevier_images/train/image/135_gr8.jpeg\n",
      "count  17 , scale  ./elsevier_images/train/image/135_gr9.jpeg\n",
      "count  17 , scale  ./elsevier_images/train/image/141_fx1.jpeg\n",
      "count  18 , scale  ./elsevier_images/train/image/141_gr1.jpeg\n",
      "count  19 , scale  ./elsevier_images/train/image/141_gr2.jpeg\n",
      "count  20 , scale  ./elsevier_images/train/image/141_gr3.jpeg\n",
      "count  21 , scale  ./elsevier_images/train/image/141_gr4.jpeg\n",
      "count  22 , scale  ./elsevier_images/train/image/141_gr5.jpeg\n",
      "count  23 , scale  ./elsevier_images/train/image/141_gr6.jpeg\n",
      "count  24 , scale  ./elsevier_images/train/image/141_gr7.jpeg\n",
      "count  25 , scale  ./elsevier_images/train/image/146_gr1.jpeg\n",
      "count  26 , scale  ./elsevier_images/train/image/146_gr2.jpeg\n",
      "count  27 , scale  ./elsevier_images/train/image/146_gr3.jpeg\n",
      "count  28 , scale  ./elsevier_images/train/image/146_gr4.jpeg\n",
      "count  29 , scale  ./elsevier_images/train/image/146_gr5.jpeg\n",
      "count  30 , scale  ./elsevier_images/train/image/146_sc1.jpeg\n",
      "count  30 , scale  ./elsevier_images/train/image/151_fx1.jpeg\n",
      "count  31 , scale  ./elsevier_images/train/image/151_gr1.jpeg\n",
      "count  32 , scale  ./elsevier_images/train/image/151_gr10.jpeg\n",
      "count  32 , scale  ./elsevier_images/train/image/151_gr2.jpeg\n",
      "count  33 , scale  ./elsevier_images/train/image/151_gr3.jpeg\n",
      "count  34 , scale  ./elsevier_images/train/image/151_gr4.jpeg\n",
      "count  35 , scale  ./elsevier_images/train/image/151_gr5.jpeg\n",
      "count  36 , scale  ./elsevier_images/train/image/151_gr6.jpeg\n",
      "count  37 , scale  ./elsevier_images/train/image/151_gr7.jpeg\n",
      "count  37 , scale  ./elsevier_images/train/image/151_gr8.jpeg\n",
      "count  38 , scale  ./elsevier_images/train/image/151_gr9.jpeg\n",
      "count  39 , scale  ./elsevier_images/train/image/155_fx1.jpeg\n",
      "count  40 , scale  ./elsevier_images/train/image/155_gr1.jpeg\n",
      "count  41 , scale  ./elsevier_images/train/image/155_gr2.jpeg\n",
      "count  41 , scale  ./elsevier_images/train/image/155_gr3.jpeg\n",
      "count  42 , scale  ./elsevier_images/train/image/174_fx1.jpeg\n",
      "count  42 , scale  ./elsevier_images/train/image/174_gr1.jpeg\n",
      "count  42 , scale  ./elsevier_images/train/image/174_gr2.jpeg\n",
      "count  42 , scale  ./elsevier_images/train/image/174_gr3.jpeg\n",
      "count  42 , scale  ./elsevier_images/train/image/174_gr6.jpeg\n",
      "count  42 , scale  ./elsevier_images/train/image/174_gr7.jpeg\n",
      "count  42 , scale  ./elsevier_images/train/image/174_gr8.jpeg\n",
      "count  42 , scale  ./elsevier_images/train/image/174_gr9.jpeg\n",
      "count  42 , scale  ./elsevier_images/train/image/190_fx1.jpeg\n",
      "count  42 , scale  ./elsevier_images/train/image/190_gr1.jpeg\n",
      "count  42 , scale  ./elsevier_images/train/image/190_gr2.jpeg\n",
      "count  42 , scale  ./elsevier_images/train/image/190_gr3.jpeg\n",
      "count  42 , scale  ./elsevier_images/train/image/190_gr4.jpeg\n",
      "count  42 , scale  ./elsevier_images/train/image/190_gr6.jpeg\n",
      "count  42 , scale  ./elsevier_images/train/image/190_sc1.jpeg\n",
      "count  42 , scale  ./elsevier_images/train/image/254_gr1.jpeg\n",
      "count  42 , scale  ./elsevier_images/train/image/254_gr2.jpeg\n",
      "count  42 , scale  ./elsevier_images/train/image/254_gr3.jpeg\n",
      "count  42 , scale  ./elsevier_images/train/image/254_gr4.jpeg\n",
      "count  42 , scale  ./elsevier_images/train/image/254_gr5.jpeg\n",
      "count  42 , scale  ./elsevier_images/train/image/254_gr6.jpeg\n",
      "count  42 , scale  ./elsevier_images/train/image/254_gr7.jpeg\n",
      "count  42 , scale  ./elsevier_images/train/image/385_gr1.jpeg\n",
      "count  43 , scale  ./elsevier_images/train/image/385_gr2.jpeg\n",
      "count  44 , scale  ./elsevier_images/train/image/385_gr3.jpeg\n",
      "count  45 , scale  ./elsevier_images/train/image/385_gr4.jpeg\n",
      "count  46 , scale  ./elsevier_images/train/image/385_gr5.jpeg\n",
      "count  47 , scale  ./elsevier_images/train/image/385_gr6.jpeg\n",
      "count  48 , scale  ./elsevier_images/train/image/385_gr7.jpeg\n",
      "count  49 , scale  ./elsevier_images/train/image/385_gr8.jpeg\n",
      "count  50 , scale  ./elsevier_images/train/image/385_sc1.jpeg\n",
      "count  51 , scale  ./elsevier_images/train/image/68_fx1.jpeg\n",
      "count  52 , scale  ./elsevier_images/train/image/68_gr1.jpeg\n",
      "count  53 , scale  ./elsevier_images/train/image/68_gr2.jpeg\n",
      "count  54 , scale  ./elsevier_images/train/image/68_gr3.jpeg\n",
      "count  55 , scale  ./elsevier_images/train/image/68_gr4.jpeg\n",
      "count  56 , scale  ./elsevier_images/train/image/68_gr5.jpeg\n",
      "count  57 , scale  ./elsevier_images/train/image/68_gr6.jpeg\n",
      "count  58 , scale  ./elsevier_images/train/image/68_gr7.jpeg\n",
      "count  58 , scale  ./elsevier_images/train/image/68_sc1.jpeg\n",
      "count  58 , scale  ./elsevier_images/test/image/197_fx1.jpeg\n",
      "count  58 , scale  ./elsevier_images/test/image/197_fx1.jpeg\n",
      "count  59 , scale  ./elsevier_images/test/image/197_gr1.jpeg\n",
      "count  59 , scale  ./elsevier_images/test/image/197_gr1.jpeg\n",
      "count  60 , scale  ./elsevier_images/test/image/197_gr2.jpeg\n",
      "count  60 , scale  ./elsevier_images/test/image/197_gr2.jpeg\n",
      "count  61 , scale  ./elsevier_images/test/image/197_gr3.jpeg\n",
      "count  61 , scale  ./elsevier_images/test/image/197_gr3.jpeg\n",
      "count  62 , scale  ./elsevier_images/test/image/197_gr4.jpeg\n",
      "count  62 , scale  ./elsevier_images/test/image/197_gr4.jpeg\n",
      "count  63 , scale  ./elsevier_images/test/image/197_gr5.jpeg\n",
      "count  63 , scale  ./elsevier_images/test/image/197_gr5.jpeg\n",
      "count  64 , scale  ./elsevier_images/test/image/197_gr6.jpeg\n",
      "count  64 , scale  ./elsevier_images/test/image/197_gr6.jpeg\n",
      "count  65 , scale  ./elsevier_images/test/image/197_gr7.jpeg\n",
      "count  65 , scale  ./elsevier_images/test/image/197_gr7.jpeg\n",
      "count  65 , scale  ./elsevier_images/test/image/197_sc1.jpeg\n",
      "count  65 , scale  ./elsevier_images/test/image/197_sc1.jpeg\n",
      "count  66 , scale  ./elsevier_images/test/image/227_fx1.jpeg\n",
      "count  66 , scale  ./elsevier_images/test/image/227_fx1.jpeg\n",
      "count  67 , scale  ./elsevier_images/test/image/227_gr1.jpeg\n",
      "count  67 , scale  ./elsevier_images/test/image/227_gr1.jpeg\n",
      "count  68 , scale  ./elsevier_images/test/image/227_gr2.jpeg\n",
      "count  68 , scale  ./elsevier_images/test/image/227_gr2.jpeg\n",
      "count  69 , scale  ./elsevier_images/test/image/227_gr3.jpeg\n",
      "count  69 , scale  ./elsevier_images/test/image/227_gr3.jpeg\n",
      "count  70 , scale  ./elsevier_images/test/image/227_gr4.jpeg\n",
      "count  70 , scale  ./elsevier_images/test/image/227_gr4.jpeg\n",
      "count  71 , scale  ./elsevier_images/test/image/227_gr6.jpeg\n",
      "count  71 , scale  ./elsevier_images/test/image/227_gr6.jpeg\n",
      "count  71 , scale  ./elsevier_images/test/image/227_gr7.jpeg\n",
      "count  71 , scale  ./elsevier_images/test/image/227_gr7.jpeg\n",
      "count  72 , scale  ./elsevier_images/test/image/248_fx1.jpeg\n",
      "count  72 , scale  ./elsevier_images/test/image/248_fx1.jpeg\n",
      "count  73 , scale  ./elsevier_images/test/image/248_gr1.jpeg\n",
      "count  73 , scale  ./elsevier_images/test/image/248_gr1.jpeg\n",
      "count  74 , scale  ./elsevier_images/test/image/248_gr2.jpeg\n",
      "count  74 , scale  ./elsevier_images/test/image/248_gr2.jpeg\n",
      "count  75 , scale  ./elsevier_images/test/image/248_gr3.jpeg\n",
      "count  75 , scale  ./elsevier_images/test/image/248_gr3.jpeg\n",
      "count  76 , scale  ./elsevier_images/test/image/248_gr4.jpeg\n",
      "count  76 , scale  ./elsevier_images/test/image/248_gr4.jpeg\n"
     ]
    },
    {
     "name": "stdout",
     "output_type": "stream",
     "text": [
      "count  77 , scale  ./elsevier_images/test/image/248_gr5.jpeg\n",
      "count  77 , scale  ./elsevier_images/test/image/248_gr5.jpeg\n",
      "count  78 , scale  ./elsevier_images/test/image/248_gr6.jpeg\n",
      "count  78 , scale  ./elsevier_images/test/image/248_gr6.jpeg\n",
      "count  79 , scale  ./elsevier_images/test/image/248_gr7.jpeg\n",
      "count  79 , scale  ./elsevier_images/test/image/248_gr7.jpeg\n",
      "count  80 , scale  ./elsevier_images/test/image/248_gr8.jpeg\n",
      "count  80 , scale  ./elsevier_images/test/image/248_gr8.jpeg\n",
      "count  80 , scale  ./elsevier_images/test/image/248_gr9.jpeg\n",
      "count  80 , scale  ./elsevier_images/test/image/248_gr9.jpeg\n",
      "count  81 , scale  ./elsevier_images/test/image/254_fx1.jpeg\n",
      "count  81 , scale  ./elsevier_images/test/image/254_fx1.jpeg\n",
      "count  81 , scale  ./elsevier_images/test/image/281_fx1.jpeg\n",
      "count  81 , scale  ./elsevier_images/test/image/281_fx1.jpeg\n",
      "count  81 , scale  ./elsevier_images/test/image/281_gr1.jpeg\n",
      "count  81 , scale  ./elsevier_images/test/image/281_gr1.jpeg\n",
      "count  81 , scale  ./elsevier_images/test/image/281_gr2.jpeg\n",
      "count  81 , scale  ./elsevier_images/test/image/281_gr2.jpeg\n",
      "count  81 , scale  ./elsevier_images/test/image/281_gr3.jpeg\n",
      "count  81 , scale  ./elsevier_images/test/image/281_gr3.jpeg\n",
      "count  81 , scale  ./elsevier_images/test/image/281_gr4.jpeg\n",
      "count  81 , scale  ./elsevier_images/test/image/281_gr4.jpeg\n",
      "count  81 , scale  ./elsevier_images/test/image/281_gr5.jpeg\n",
      "count  81 , scale  ./elsevier_images/test/image/281_gr6.jpeg\n",
      "count  81 , scale  ./elsevier_images/test/image/281_gr6.jpeg\n",
      "count  81 , scale  ./elsevier_images/test/image/281_gr7.jpeg\n",
      "count  81 , scale  ./elsevier_images/test/image/281_gr7.jpeg\n",
      "count  81 , scale  ./elsevier_images/test/image/281_gr8.jpeg\n",
      "count  81 , scale  ./elsevier_images/test/image/281_gr9.jpeg\n",
      "count  81 , scale  ./elsevier_images/test/image/281_gr9.jpeg\n",
      "count  81 , scale  ./elsevier_images/test/image/281_sc1.jpeg\n",
      "count  81 , scale  ./elsevier_images/test/image/299_fx1.jpeg\n",
      "count  81 , scale  ./elsevier_images/test/image/299_fx1.jpeg\n",
      "count  82 , scale  ./elsevier_images/test/image/299_gr1.jpeg\n",
      "count  82 , scale  ./elsevier_images/test/image/299_gr1.jpeg\n",
      "count  83 , scale  ./elsevier_images/test/image/299_gr2.jpeg\n",
      "count  83 , scale  ./elsevier_images/test/image/299_gr2.jpeg\n",
      "count  84 , scale  ./elsevier_images/test/image/299_gr3.jpeg\n",
      "count  84 , scale  ./elsevier_images/test/image/299_gr3.jpeg\n",
      "count  85 , scale  ./elsevier_images/test/image/299_gr4.jpeg\n",
      "count  85 , scale  ./elsevier_images/test/image/299_gr4.jpeg\n",
      "count  86 , scale  ./elsevier_images/test/image/299_gr5.jpeg\n",
      "count  86 , scale  ./elsevier_images/test/image/299_gr5.jpeg\n",
      "count  86 , scale  ./elsevier_images/test/image/299_gr6.jpeg\n",
      "count  86 , scale  ./elsevier_images/test/image/299_gr6.jpeg\n",
      "count  86 , scale  ./elsevier_images/test/image/299_gr7.jpeg\n",
      "count  86 , scale  ./elsevier_images/test/image/299_gr7.jpeg\n",
      "count  87 , scale  ./elsevier_images/test/image/299_gr8.jpeg\n",
      "count  87 , scale  ./elsevier_images/test/image/299_gr8.jpeg\n",
      "count  88 , scale  ./elsevier_images/test/image/299_gr9.jpeg\n",
      "count  88 , scale  ./elsevier_images/test/image/299_gr9.jpeg\n",
      "count  88 , scale  ./elsevier_images/test/image/300_fx1.jpeg\n",
      "count  88 , scale  ./elsevier_images/test/image/300_fx1.jpeg\n",
      "count  88 , scale  ./elsevier_images/test/image/300_gr1.jpeg\n",
      "count  88 , scale  ./elsevier_images/test/image/300_gr1.jpeg\n",
      "count  88 , scale  ./elsevier_images/test/image/300_gr2.jpeg\n",
      "count  88 , scale  ./elsevier_images/test/image/300_gr2.jpeg\n",
      "count  88 , scale  ./elsevier_images/test/image/300_gr3.jpeg\n",
      "count  88 , scale  ./elsevier_images/test/image/300_gr3.jpeg\n",
      "count  88 , scale  ./elsevier_images/test/image/300_gr4.jpeg\n",
      "count  88 , scale  ./elsevier_images/test/image/300_gr4.jpeg\n",
      "count  88 , scale  ./elsevier_images/test/image/300_gr5.jpeg\n",
      "count  88 , scale  ./elsevier_images/test/image/300_gr5.jpeg\n",
      "count  88 , scale  ./elsevier_images/test/image/300_gr6.jpeg\n",
      "count  88 , scale  ./elsevier_images/test/image/300_gr6.jpeg\n",
      "count  88 , scale  ./elsevier_images/test/image/300_gr7.jpeg\n",
      "count  88 , scale  ./elsevier_images/test/image/300_gr7.jpeg\n",
      "count  88 , scale  ./elsevier_images/test/image/300_sc1.jpeg\n",
      "count  88 , scale  ./elsevier_images/test/image/347_fx1.jpeg\n",
      "count  88 , scale  ./elsevier_images/test/image/347_fx1.jpeg\n",
      "count  89 , scale  ./elsevier_images/test/image/347_gr1.jpeg\n",
      "count  89 , scale  ./elsevier_images/test/image/347_gr1.jpeg\n",
      "count  90 , scale  ./elsevier_images/test/image/347_gr2.jpeg\n",
      "count  90 , scale  ./elsevier_images/test/image/347_gr2.jpeg\n",
      "count  91 , scale  ./elsevier_images/test/image/347_gr3.jpeg\n",
      "count  91 , scale  ./elsevier_images/test/image/347_gr3.jpeg\n",
      "count  92 , scale  ./elsevier_images/test/image/347_gr4.jpeg\n",
      "count  92 , scale  ./elsevier_images/test/image/347_gr4.jpeg\n",
      "count  93 , scale  ./elsevier_images/test/image/347_gr5.jpeg\n",
      "count  93 , scale  ./elsevier_images/test/image/347_gr5.jpeg\n",
      "count  93 , scale  ./elsevier_images/test/image/347_gr6.jpeg\n",
      "count  93 , scale  ./elsevier_images/test/image/347_gr6.jpeg\n",
      "count  94 , scale  ./elsevier_images/test/image/347_gr7.jpeg\n",
      "count  94 , scale  ./elsevier_images/test/image/347_gr7.jpeg\n",
      "count  95 , scale  ./elsevier_images/test/image/347_gr8.jpeg\n",
      "count  95 , scale  ./elsevier_images/test/image/347_gr8.jpeg\n",
      "count  96 , scale  ./elsevier_images/test/image/347_sc1.jpeg\n",
      "count  96 , scale  ./elsevier_images/test/image/347_sc1.jpeg\n",
      "count  96 , scale  ./elsevier_images/test/image/377_gr1.jpeg\n",
      "count  96 , scale  ./elsevier_images/test/image/377_gr1.jpeg\n",
      "count  97 , scale  ./elsevier_images/test/image/377_gr2.jpeg\n",
      "count  97 , scale  ./elsevier_images/test/image/377_gr2.jpeg\n",
      "count  98 , scale  ./elsevier_images/test/image/377_gr3.jpeg\n",
      "count  98 , scale  ./elsevier_images/test/image/377_gr3.jpeg\n",
      "count  99 , scale  ./elsevier_images/test/image/377_gr4.jpeg\n",
      "count  99 , scale  ./elsevier_images/test/image/377_gr4.jpeg\n",
      "count  100 , scale  ./elsevier_images/test/image/377_gr5.jpeg\n",
      "count  100 , scale  ./elsevier_images/test/image/377_gr5.jpeg\n",
      "count  101 , scale  ./elsevier_images/test/image/377_sc1.jpeg\n",
      "count  101 , scale  ./elsevier_images/test/image/377_sc1.jpeg\n",
      "count  102 , scale  ./elsevier_images/test/image/379_fx1.jpeg\n",
      "count  102 , scale  ./elsevier_images/test/image/379_fx1.jpeg\n",
      "count  103 , scale  ./elsevier_images/test/image/379_gr1.jpeg\n",
      "count  103 , scale  ./elsevier_images/test/image/379_gr1.jpeg\n",
      "count  104 , scale  ./elsevier_images/test/image/379_gr2.jpeg\n",
      "count  104 , scale  ./elsevier_images/test/image/379_gr2.jpeg\n",
      "count  105 , scale  ./elsevier_images/test/image/379_gr3.jpeg\n",
      "count  105 , scale  ./elsevier_images/test/image/379_gr3.jpeg\n",
      "count  105 , scale  ./elsevier_images/test/image/379_gr4.jpeg\n",
      "count  105 , scale  ./elsevier_images/test/image/379_gr4.jpeg\n",
      "count  105 , scale  ./elsevier_images/test/image/379_gr5.jpeg\n",
      "count  105 , scale  ./elsevier_images/test/image/379_gr5.jpeg\n",
      "count  106 , scale  ./elsevier_images/test/image/379_sc1.jpeg\n",
      "count  106 , scale  ./elsevier_images/test/image/379_sc1.jpeg\n",
      "count  106 , scale  ./elsevier_images/test/image/379_sc2.jpeg\n",
      "count  106 , scale  ./elsevier_images/test/image/379_sc2.jpeg\n",
      "count  106 , scale  ./elsevier_images/test/image/391_fx1.jpeg\n",
      "count  106 , scale  ./elsevier_images/test/image/391_fx1.jpeg\n",
      "count  107 , scale  ./elsevier_images/test/image/391_gr1.jpeg\n",
      "count  107 , scale  ./elsevier_images/test/image/391_gr1.jpeg\n",
      "count  108 , scale  ./elsevier_images/test/image/391_gr2.jpeg\n",
      "count  108 , scale  ./elsevier_images/test/image/391_gr2.jpeg\n",
      "count  109 , scale  ./elsevier_images/test/image/391_gr3.jpeg\n",
      "count  109 , scale  ./elsevier_images/test/image/391_gr3.jpeg\n",
      "count  110 , scale  ./elsevier_images/test/image/391_gr4.jpeg\n",
      "count  110 , scale  ./elsevier_images/test/image/391_gr4.jpeg\n",
      "count  111 , scale  ./elsevier_images/test/image/391_gr5.jpeg\n",
      "count  111 , scale  ./elsevier_images/test/image/391_gr5.jpeg\n",
      "count  112 , scale  ./elsevier_images/test/image/391_gr6.jpeg\n",
      "count  112 , scale  ./elsevier_images/test/image/391_gr6.jpeg\n",
      "count  112 , scale  ./elsevier_images/test/image/391_sc1.jpeg\n",
      "count  112 , scale  ./elsevier_images/test/image/391_sc1.jpeg\n",
      "count  112 , scale  ./elsevier_images/test/image/392_gr1.jpeg\n",
      "count  112 , scale  ./elsevier_images/test/image/392_gr1.jpeg\n",
      "count  113 , scale  ./elsevier_images/test/image/392_gr2.jpeg\n",
      "count  113 , scale  ./elsevier_images/test/image/392_gr2.jpeg\n"
     ]
    },
    {
     "name": "stdout",
     "output_type": "stream",
     "text": [
      "count  114 , scale  ./elsevier_images/test/image/392_gr3.jpeg\n",
      "count  114 , scale  ./elsevier_images/test/image/392_gr3.jpeg\n",
      "count  115 , scale  ./elsevier_images/test/image/392_gr4.jpeg\n",
      "count  115 , scale  ./elsevier_images/test/image/392_gr4.jpeg\n",
      "count  116 , scale  ./elsevier_images/test/image/392_gr5.jpeg\n",
      "count  116 , scale  ./elsevier_images/test/image/392_gr5.jpeg\n",
      "count  117 , scale  ./elsevier_images/test/image/392_gr6.jpeg\n",
      "count  117 , scale  ./elsevier_images/test/image/392_gr6.jpeg\n",
      "count  118 , scale  ./elsevier_images/test/image/392_gr7.jpeg\n",
      "count  118 , scale  ./elsevier_images/test/image/392_gr7.jpeg\n",
      "count  119 , scale  ./elsevier_images/test/image/392_sc1.jpeg\n",
      "count  119 , scale  ./elsevier_images/test/image/392_sc1.jpeg\n",
      "count  119 , scale  ./elsevier_images/test/image/392_sc2.jpeg\n",
      "count  119 , scale  ./elsevier_images/test/image/392_sc2.jpeg\n",
      "count  120 , scale  ./elsevier_images/test/image/423_fx1.jpeg\n",
      "count  120 , scale  ./elsevier_images/test/image/423_fx1.jpeg\n",
      "count  120 , scale  ./elsevier_images/test/image/423_gr1.jpeg\n",
      "count  120 , scale  ./elsevier_images/test/image/423_gr1.jpeg\n",
      "count  120 , scale  ./elsevier_images/test/image/423_gr2.jpeg\n",
      "count  120 , scale  ./elsevier_images/test/image/423_gr2.jpeg\n",
      "count  120 , scale  ./elsevier_images/test/image/423_gr3.jpeg\n",
      "count  120 , scale  ./elsevier_images/test/image/423_gr3.jpeg\n",
      "count  120 , scale  ./elsevier_images/test/image/423_gr4.jpeg\n",
      "count  120 , scale  ./elsevier_images/test/image/423_gr4.jpeg\n",
      "count  120 , scale  ./elsevier_images/test/image/423_gr5.jpeg\n",
      "count  120 , scale  ./elsevier_images/test/image/423_gr5.jpeg\n",
      "count  120 , scale  ./elsevier_images/test/image/458_Bing_Guo_wide_bandgap_2017_P01.jpeg\n",
      "count  120 , scale  ./elsevier_images/test/image/458_Bing_Guo_wide_bandgap_2017_P02.jpeg\n",
      "count  120 , scale  ./elsevier_images/test/image/458_Bing_Guo_wide_bandgap_2017_P03.jpeg\n",
      "count  120 , scale  ./elsevier_images/test/image/458_Bing_Guo_wide_bandgap_2017_P04.jpeg\n",
      "count  120 , scale  ./elsevier_images/test/image/458_Bing_Guo_wide_bandgap_2017_P05.jpeg\n",
      "count  120 , scale  ./elsevier_images/test/image/458_Bing_Guo_wide_bandgap_2017_P06.jpeg\n",
      "count  120 , scale  ./elsevier_images/test/image/458_Bing_Guo_wide_bandgap_2017_P07.jpeg\n",
      "count  120 , scale  ./elsevier_images/test/image/458_Bing_Guo_wide_bandgap_2017_P08.jpeg\n",
      "count  120 , scale  ./elsevier_images/test/image/458_Bing_Guo_wide_bandgap_2017_P09.jpeg\n",
      "count  120 , scale  ./elsevier_images/test/image/458_Bing_Guo_wide_bandgap_2017_P10.jpeg\n",
      "count  120 , scale  ./elsevier_images/test/image/458_Bing_Guo_wide_bandgap_2017_P11.jpeg\n",
      "count  120 , scale  ./elsevier_images/test/image/458_Bing_Guo_wide_bandgap_2017_P12.jpeg\n",
      "count  120 , scale  ./elsevier_images/test/image/458_Bing_Guo_wide_bandgap_2017_P13.jpeg\n",
      "count  120 , scale  ./elsevier_images/test/image/458_Bing_Guo_wide_bandgap_2017_P14.jpeg\n",
      "count  120 , scale  ./elsevier_images/test/image/458_Bing_Guo_wide_bandgap_2017_P15.jpeg\n",
      "count  120 , scale  ./elsevier_images/test/image/458_Bing_Guo_wide_bandgap_2017_P16.jpeg\n",
      "count  120 , scale  ./elsevier_images/test/image/458_Bing_Guo_wide_bandgap_2017_P17.jpeg\n",
      "count  120 , scale  ./elsevier_images/test/image/458_Bing_Guo_wide_bandgap_2017_P18.jpeg\n",
      "count  120 , scale  ./elsevier_images/test/image/458_Bing_Guo_wide_bandgap_2017_P19.jpeg\n",
      "count  120 , scale  ./elsevier_images/test/image/458_fx1.jpeg\n",
      "count  120 , scale  ./elsevier_images/test/image/458_fx1.jpeg\n",
      "count  120 , scale  ./elsevier_images/test/image/458_gr1.jpeg\n",
      "count  120 , scale  ./elsevier_images/test/image/458_gr1.jpeg\n",
      "count  120 , scale  ./elsevier_images/test/image/458_gr2.jpeg\n",
      "count  120 , scale  ./elsevier_images/test/image/458_gr3.jpeg\n",
      "count  120 , scale  ./elsevier_images/test/image/458_gr3.jpeg\n",
      "count  120 , scale  ./elsevier_images/test/image/458_gr4.jpeg\n",
      "count  120 , scale  ./elsevier_images/test/image/458_gr5.jpeg\n",
      "count  120 , scale  ./elsevier_images/test/image/458_gr5.jpeg\n",
      "count  120 , scale  ./elsevier_images/test/image/463_fx1.jpeg\n",
      "count  120 , scale  ./elsevier_images/test/image/463_fx1.jpeg\n",
      "count  120 , scale  ./elsevier_images/test/image/463_gr1.jpeg\n",
      "count  120 , scale  ./elsevier_images/test/image/463_gr1.jpeg\n",
      "count  120 , scale  ./elsevier_images/test/image/463_gr2.jpeg\n",
      "count  120 , scale  ./elsevier_images/test/image/463_gr2.jpeg\n",
      "count  120 , scale  ./elsevier_images/test/image/463_gr3.jpeg\n",
      "count  120 , scale  ./elsevier_images/test/image/463_gr4.jpeg\n",
      "count  120 , scale  ./elsevier_images/test/image/463_gr4.jpeg\n",
      "count  120 , scale  ./elsevier_images/test/image/463_gr5.jpeg\n",
      "count  120 , scale  ./elsevier_images/test/image/463_gr6.jpeg\n",
      "count  120 , scale  ./elsevier_images/test/image/463_gr7.jpeg\n",
      "count  120 , scale  ./elsevier_images/test/image/463_sc1.jpeg\n",
      "count  120 , scale  ./elsevier_images/test/image/464_fx1.jpeg\n",
      "count  120 , scale  ./elsevier_images/test/image/464_fx1.jpeg\n",
      "count  120 , scale  ./elsevier_images/test/image/464_gr1.jpeg\n",
      "count  120 , scale  ./elsevier_images/test/image/464_gr1.jpeg\n",
      "count  120 , scale  ./elsevier_images/test/image/464_gr2.jpeg\n",
      "count  120 , scale  ./elsevier_images/test/image/464_gr2.jpeg\n",
      "count  120 , scale  ./elsevier_images/test/image/464_gr3.jpeg\n",
      "count  120 , scale  ./elsevier_images/test/image/464_gr4.jpeg\n",
      "count  120 , scale  ./elsevier_images/test/image/464_gr4.jpeg\n",
      "count  120 , scale  ./elsevier_images/test/image/464_gr5.jpeg\n",
      "count  120 , scale  ./elsevier_images/test/image/464_gr6.jpeg\n",
      "count  120 , scale  ./elsevier_images/test/image/464_gr6.jpeg\n",
      "count  120 , scale  ./elsevier_images/test/image/464_sc1.jpeg\n",
      "count  120 , scale  ./elsevier_images/test/image/465_fx1.jpeg\n",
      "count  120 , scale  ./elsevier_images/test/image/465_fx1.jpeg\n",
      "count  120 , scale  ./elsevier_images/test/image/465_gr1.jpeg\n",
      "count  120 , scale  ./elsevier_images/test/image/465_gr1.jpeg\n",
      "count  120 , scale  ./elsevier_images/test/image/465_gr2.jpeg\n",
      "count  120 , scale  ./elsevier_images/test/image/465_gr2.jpeg\n",
      "count  120 , scale  ./elsevier_images/test/image/465_gr3.jpeg\n",
      "count  120 , scale  ./elsevier_images/test/image/465_gr3.jpeg\n",
      "count  120 , scale  ./elsevier_images/test/image/465_gr4.jpeg\n",
      "count  120 , scale  ./elsevier_images/test/image/465_gr4.jpeg\n",
      "count  120 , scale  ./elsevier_images/test/image/465_gr5.jpeg\n",
      "count  120 , scale  ./elsevier_images/test/image/465_gr5.jpeg\n",
      "count  120 , scale  ./elsevier_images/test/image/465_gr6.jpeg\n",
      "count  120 , scale  ./elsevier_images/test/image/465_gr6.jpeg\n",
      "count  120 , scale  ./elsevier_images/test/image/465_gr7.jpeg\n",
      "count  120 , scale  ./elsevier_images/test/image/465_gr7.jpeg\n",
      "count  120 , scale  ./elsevier_images/test/image/465_sc1.jpeg\n",
      "count  120 , scale  ./elsevier_images/test/image/466_fx1.jpeg\n",
      "count  120 , scale  ./elsevier_images/test/image/466_fx1.jpeg\n",
      "count  120 , scale  ./elsevier_images/test/image/466_gr1.jpeg\n",
      "count  120 , scale  ./elsevier_images/test/image/466_gr1.jpeg\n",
      "count  120 , scale  ./elsevier_images/test/image/466_gr2.jpeg\n",
      "count  120 , scale  ./elsevier_images/test/image/466_gr2.jpeg\n",
      "count  120 , scale  ./elsevier_images/test/image/466_gr3.jpeg\n",
      "count  120 , scale  ./elsevier_images/test/image/466_gr3.jpeg\n",
      "count  120 , scale  ./elsevier_images/test/image/466_gr4.jpeg\n",
      "count  120 , scale  ./elsevier_images/test/image/466_gr4.jpeg\n",
      "count  120 , scale  ./elsevier_images/test/image/466_gr5.jpeg\n",
      "count  120 , scale  ./elsevier_images/test/image/466_gr5.jpeg\n",
      "count  120 , scale  ./elsevier_images/test/image/466_gr6.jpeg\n",
      "count  120 , scale  ./elsevier_images/test/image/466_sc1.jpeg\n",
      "count  120 , scale  ./elsevier_images/test/image/466_sc2.jpeg\n",
      "count  120 , scale  ./elsevier_images/test/image/466_sc2.jpeg\n",
      "count  120 , scale  ./elsevier_images/test/image/467_fx1.jpeg\n",
      "count  120 , scale  ./elsevier_images/test/image/467_fx1.jpeg\n",
      "count  120 , scale  ./elsevier_images/test/image/467_gr1.jpeg\n",
      "count  120 , scale  ./elsevier_images/test/image/467_gr1.jpeg\n",
      "count  120 , scale  ./elsevier_images/test/image/467_gr2.jpeg\n",
      "count  120 , scale  ./elsevier_images/test/image/467_gr2.jpeg\n",
      "count  120 , scale  ./elsevier_images/test/image/467_gr3.jpeg\n",
      "count  120 , scale  ./elsevier_images/test/image/467_gr3.jpeg\n",
      "count  120 , scale  ./elsevier_images/test/image/467_gr4.jpeg\n",
      "count  120 , scale  ./elsevier_images/test/image/467_gr4.jpeg\n"
     ]
    },
    {
     "name": "stdout",
     "output_type": "stream",
     "text": [
      "count  120 , scale  ./elsevier_images/test/image/467_gr5.jpeg\n",
      "count  120 , scale  ./elsevier_images/test/image/467_gr5.jpeg\n",
      "count  120 , scale  ./elsevier_images/test/image/467_gr6.jpeg\n",
      "count  120 , scale  ./elsevier_images/test/image/467_gr6.jpeg\n",
      "count  120 , scale  ./elsevier_images/test/image/467_gr7.jpeg\n",
      "count  120 , scale  ./elsevier_images/test/image/467_sc1.jpeg\n",
      "count  120 , scale  ./elsevier_images/test/image/467_sc1.jpeg\n",
      "count  120 , scale  ./elsevier_images/test/image/468_fx1.jpeg\n",
      "count  120 , scale  ./elsevier_images/test/image/468_fx1.jpeg\n",
      "count  120 , scale  ./elsevier_images/test/image/468_gr1.jpeg\n",
      "count  120 , scale  ./elsevier_images/test/image/468_gr1.jpeg\n",
      "count  120 , scale  ./elsevier_images/test/image/468_gr2.jpeg\n",
      "count  120 , scale  ./elsevier_images/test/image/468_gr2.jpeg\n",
      "count  120 , scale  ./elsevier_images/test/image/468_gr3.jpeg\n",
      "count  120 , scale  ./elsevier_images/test/image/468_gr4.jpeg\n",
      "count  120 , scale  ./elsevier_images/test/image/468_gr5.jpeg\n",
      "count  120 , scale  ./elsevier_images/test/image/468_gr5.jpeg\n",
      "count  120 , scale  ./elsevier_images/test/image/469_fx1.jpeg\n",
      "count  120 , scale  ./elsevier_images/test/image/469_fx1.jpeg\n",
      "count  120 , scale  ./elsevier_images/test/image/469_gr1.jpeg\n",
      "count  120 , scale  ./elsevier_images/test/image/469_gr2.jpeg\n",
      "count  120 , scale  ./elsevier_images/test/image/469_gr3.jpeg\n",
      "count  120 , scale  ./elsevier_images/test/image/469_gr4.jpeg\n",
      "count  120 , scale  ./elsevier_images/test/image/469_gr5.jpeg\n",
      "count  120 , scale  ./elsevier_images/test/image/470_fx1.jpeg\n",
      "count  120 , scale  ./elsevier_images/test/image/470_fx1.jpeg\n",
      "count  120 , scale  ./elsevier_images/test/image/470_gr1.jpeg\n",
      "count  120 , scale  ./elsevier_images/test/image/470_gr10.jpeg\n",
      "count  120 , scale  ./elsevier_images/test/image/470_gr2.jpeg\n",
      "count  120 , scale  ./elsevier_images/test/image/470_gr2.jpeg\n",
      "count  120 , scale  ./elsevier_images/test/image/470_gr3.jpeg\n",
      "count  120 , scale  ./elsevier_images/test/image/470_gr3.jpeg\n",
      "count  120 , scale  ./elsevier_images/test/image/470_gr4.jpeg\n",
      "count  120 , scale  ./elsevier_images/test/image/470_gr5.jpeg\n",
      "count  120 , scale  ./elsevier_images/test/image/470_gr6.jpeg\n",
      "count  120 , scale  ./elsevier_images/test/image/470_gr7.jpeg\n",
      "count  120 , scale  ./elsevier_images/test/image/470_gr7.jpeg\n",
      "count  120 , scale  ./elsevier_images/test/image/470_gr8.jpeg\n",
      "count  120 , scale  ./elsevier_images/test/image/470_gr8.jpeg\n",
      "count  120 , scale  ./elsevier_images/test/image/470_gr9.jpeg\n",
      "count  120 , scale  ./elsevier_images/test/image/470_sc1.jpeg\n",
      "count  120 , scale  ./elsevier_images/test/image/470_sc1.jpeg\n",
      "count  120 , scale  ./elsevier_images/test/image/470_sc2.jpeg\n",
      "count  120 , scale  ./elsevier_images/test/image/470_sc3.jpeg\n",
      "count  120 , scale  ./elsevier_images/test/image/470_sc4.jpeg\n",
      "count  120 , scale  ./elsevier_images/test/image/470_sc4.jpeg\n",
      "count  120 , scale  ./elsevier_images/test/image/471_fx1.jpeg\n",
      "count  120 , scale  ./elsevier_images/test/image/471_fx1.jpeg\n",
      "count  120 , scale  ./elsevier_images/test/image/471_gr1.jpeg\n",
      "count  120 , scale  ./elsevier_images/test/image/471_gr2.jpeg\n",
      "count  120 , scale  ./elsevier_images/test/image/471_gr3.jpeg\n",
      "count  120 , scale  ./elsevier_images/test/image/471_gr3.jpeg\n",
      "count  120 , scale  ./elsevier_images/test/image/471_gr4.jpeg\n",
      "count  120 , scale  ./elsevier_images/test/image/471_gr4.jpeg\n",
      "count  120 , scale  ./elsevier_images/test/image/471_gr5.jpeg\n",
      "count  120 , scale  ./elsevier_images/test/image/471_gr6.jpeg\n",
      "count  120 , scale  ./elsevier_images/test/image/471_gr6.jpeg\n",
      "count  120 , scale  ./elsevier_images/test/image/471_gr7.jpeg\n",
      "count  120 , scale  ./elsevier_images/test/image/471_gr7.jpeg\n",
      "count  120 , scale  ./elsevier_images/test/image/471_gr8.jpeg\n",
      "count  120 , scale  ./elsevier_images/test/image/471_gr8.jpeg\n",
      "count  120 , scale  ./elsevier_images/test/image/471_sc1.jpeg\n",
      "count  120 , scale  ./elsevier_images/test/image/472_fx1.jpeg\n",
      "count  120 , scale  ./elsevier_images/test/image/472_fx1.jpeg\n",
      "count  120 , scale  ./elsevier_images/test/image/472_gr1.jpeg\n",
      "count  120 , scale  ./elsevier_images/test/image/472_gr1.jpeg\n",
      "count  120 , scale  ./elsevier_images/test/image/472_gr2.jpeg\n",
      "count  120 , scale  ./elsevier_images/test/image/472_gr2.jpeg\n",
      "count  120 , scale  ./elsevier_images/test/image/472_gr3.jpeg\n",
      "count  120 , scale  ./elsevier_images/test/image/472_gr3.jpeg\n",
      "count  120 , scale  ./elsevier_images/test/image/472_gr4.jpeg\n",
      "count  120 , scale  ./elsevier_images/test/image/472_gr4.jpeg\n",
      "count  120 , scale  ./elsevier_images/test/image/472_gr5.jpeg\n",
      "count  120 , scale  ./elsevier_images/test/image/472_gr6.jpeg\n",
      "count  120 , scale  ./elsevier_images/test/image/472_gr6.jpeg\n",
      "count  120 , scale  ./elsevier_images/test/image/472_sc1.jpeg\n",
      "count  120 , scale  ./elsevier_images/test/image/473_fx1.jpeg\n",
      "count  120 , scale  ./elsevier_images/test/image/473_fx1.jpeg\n",
      "count  120 , scale  ./elsevier_images/test/image/473_gr1.jpeg\n",
      "count  120 , scale  ./elsevier_images/test/image/473_gr1.jpeg\n",
      "count  120 , scale  ./elsevier_images/test/image/473_gr10.jpeg\n",
      "count  120 , scale  ./elsevier_images/test/image/473_gr10.jpeg\n",
      "count  120 , scale  ./elsevier_images/test/image/473_gr11.jpeg\n",
      "count  120 , scale  ./elsevier_images/test/image/473_gr12.jpeg\n",
      "count  120 , scale  ./elsevier_images/test/image/473_gr12.jpeg\n",
      "count  120 , scale  ./elsevier_images/test/image/473_gr2.jpeg\n",
      "count  120 , scale  ./elsevier_images/test/image/473_gr2.jpeg\n",
      "count  120 , scale  ./elsevier_images/test/image/473_gr3.jpeg\n",
      "count  120 , scale  ./elsevier_images/test/image/473_gr3.jpeg\n",
      "count  120 , scale  ./elsevier_images/test/image/473_gr4.jpeg\n",
      "count  120 , scale  ./elsevier_images/test/image/473_gr4.jpeg\n",
      "count  120 , scale  ./elsevier_images/test/image/473_gr5.jpeg\n",
      "count  120 , scale  ./elsevier_images/test/image/473_gr5.jpeg\n",
      "count  120 , scale  ./elsevier_images/test/image/473_gr6.jpeg\n",
      "count  120 , scale  ./elsevier_images/test/image/473_gr6.jpeg\n",
      "count  120 , scale  ./elsevier_images/test/image/473_gr7.jpeg\n",
      "count  120 , scale  ./elsevier_images/test/image/473_gr7.jpeg\n",
      "count  120 , scale  ./elsevier_images/test/image/473_gr8.jpeg\n",
      "count  120 , scale  ./elsevier_images/test/image/473_gr8.jpeg\n",
      "count  120 , scale  ./elsevier_images/test/image/473_gr9.jpeg\n",
      "count  120 , scale  ./elsevier_images/test/image/473_gr9.jpeg\n",
      "count  120 , scale  ./elsevier_images/test/image/473_sc1.jpeg\n",
      "count  120 , scale  ./elsevier_images/test/image/474_fx1.jpeg\n",
      "count  120 , scale  ./elsevier_images/test/image/474_fx1.jpeg\n",
      "count  120 , scale  ./elsevier_images/test/image/474_gr1.jpeg\n",
      "count  120 , scale  ./elsevier_images/test/image/474_gr2.jpeg\n",
      "count  120 , scale  ./elsevier_images/test/image/474_gr2.jpeg\n",
      "count  120 , scale  ./elsevier_images/test/image/474_gr3.jpeg\n",
      "count  120 , scale  ./elsevier_images/test/image/474_gr3.jpeg\n",
      "count  120 , scale  ./elsevier_images/test/image/474_gr4.jpeg\n",
      "count  120 , scale  ./elsevier_images/test/image/474_gr4.jpeg\n",
      "count  120 , scale  ./elsevier_images/test/image/474_gr5.jpeg\n",
      "count  120 , scale  ./elsevier_images/test/image/474_gr5.jpeg\n",
      "count  120 , scale  ./elsevier_images/test/image/474_sc1.jpeg\n",
      "count  120 , scale  ./elsevier_images/test/image/474_Xue_Gong_Polymer_solar_cells_2017_P01.jpeg\n",
      "count  120 , scale  ./elsevier_images/test/image/474_Xue_Gong_Polymer_solar_cells_2017_P02.jpeg\n",
      "count  120 , scale  ./elsevier_images/test/image/474_Xue_Gong_Polymer_solar_cells_2017_P03.jpeg\n",
      "count  120 , scale  ./elsevier_images/test/image/474_Xue_Gong_Polymer_solar_cells_2017_P04.jpeg\n",
      "count  120 , scale  ./elsevier_images/test/image/474_Xue_Gong_Polymer_solar_cells_2017_P05.jpeg\n",
      "count  120 , scale  ./elsevier_images/test/image/474_Xue_Gong_Polymer_solar_cells_2017_P06.jpeg\n",
      "count  120 , scale  ./elsevier_images/test/image/474_Xue_Gong_Polymer_solar_cells_2017_P07.jpeg\n",
      "count  120 , scale  ./elsevier_images/test/image/474_Xue_Gong_Polymer_solar_cells_2017_P08.jpeg\n",
      "count  120 , scale  ./elsevier_images/test/image/474_Xue_Gong_Polymer_solar_cells_2017_P09.jpeg\n",
      "count  120 , scale  ./elsevier_images/test/image/474_Xue_Gong_Polymer_solar_cells_2017_P10.jpeg\n",
      "count  120 , scale  ./elsevier_images/test/image/474_Xue_Gong_Polymer_solar_cells_2017_P11.jpeg\n",
      "count  120 , scale  ./elsevier_images/test/image/474_Xue_Gong_Polymer_solar_cells_2017_P12.jpeg\n",
      "count  120 , scale  ./elsevier_images/test/image/474_Xue_Gong_Polymer_solar_cells_2017_P13.jpeg\n",
      "count  120 , scale  ./elsevier_images/test/image/474_Xue_Gong_Polymer_solar_cells_2017_P14.jpeg\n"
     ]
    },
    {
     "name": "stdout",
     "output_type": "stream",
     "text": [
      "count  120 , scale  ./elsevier_images/test/image/474_Xue_Gong_Polymer_solar_cells_2017_P15.jpeg\n",
      "count  120 , scale  ./elsevier_images/test/image/474_Xue_Gong_Polymer_solar_cells_2017_P16.jpeg\n",
      "count  120 , scale  ./elsevier_images/test/image/474_Xue_Gong_Polymer_solar_cells_2017_P17.jpeg\n",
      "count  120 , scale  ./elsevier_images/test/image/474_Xue_Gong_Polymer_solar_cells_2017_P18.jpeg\n",
      "count  120 , scale  ./elsevier_images/test/image/475_fx1.jpeg\n",
      "count  120 , scale  ./elsevier_images/test/image/475_fx1.jpeg\n",
      "count  120 , scale  ./elsevier_images/test/image/475_gr1.jpeg\n",
      "count  120 , scale  ./elsevier_images/test/image/475_gr1.jpeg\n",
      "count  120 , scale  ./elsevier_images/test/image/475_gr10.jpeg\n",
      "count  120 , scale  ./elsevier_images/test/image/475_gr11.jpeg\n",
      "count  120 , scale  ./elsevier_images/test/image/475_gr11.jpeg\n",
      "count  120 , scale  ./elsevier_images/test/image/475_gr2.jpeg\n",
      "count  120 , scale  ./elsevier_images/test/image/475_gr2.jpeg\n",
      "count  120 , scale  ./elsevier_images/test/image/475_gr3.jpeg\n",
      "count  120 , scale  ./elsevier_images/test/image/475_gr4.jpeg\n",
      "count  120 , scale  ./elsevier_images/test/image/475_gr5.jpeg\n",
      "count  120 , scale  ./elsevier_images/test/image/475_gr5.jpeg\n",
      "count  120 , scale  ./elsevier_images/test/image/475_gr6.jpeg\n",
      "count  120 , scale  ./elsevier_images/test/image/475_gr7.jpeg\n",
      "count  120 , scale  ./elsevier_images/test/image/475_gr7.jpeg\n",
      "count  120 , scale  ./elsevier_images/test/image/475_gr8.jpeg\n",
      "count  120 , scale  ./elsevier_images/test/image/475_gr8.jpeg\n",
      "count  120 , scale  ./elsevier_images/test/image/475_gr9.jpeg\n",
      "count  120 , scale  ./elsevier_images/test/image/475_gr9.jpeg\n",
      "count  120 , scale  ./elsevier_images/test/image/475_sc1.jpeg\n",
      "count  120 , scale  ./elsevier_images/test/image/484_fx1.jpeg\n",
      "count  120 , scale  ./elsevier_images/test/image/484_fx1.jpeg\n",
      "count  120 , scale  ./elsevier_images/test/image/484_gr1.jpeg\n",
      "count  120 , scale  ./elsevier_images/test/image/484_gr1.jpeg\n",
      "count  120 , scale  ./elsevier_images/test/image/484_gr2.jpeg\n",
      "count  120 , scale  ./elsevier_images/test/image/484_gr2.jpeg\n",
      "count  120 , scale  ./elsevier_images/test/image/484_gr3.jpeg\n",
      "count  120 , scale  ./elsevier_images/test/image/484_gr3.jpeg\n",
      "count  120 , scale  ./elsevier_images/test/image/484_gr4.jpeg\n",
      "count  120 , scale  ./elsevier_images/test/image/484_gr4.jpeg\n",
      "count  120 , scale  ./elsevier_images/test/image/484_gr5.jpeg\n",
      "count  120 , scale  ./elsevier_images/test/image/484_gr5.jpeg\n",
      "count  120 , scale  ./elsevier_images/test/image/484_gr6.jpeg\n",
      "count  120 , scale  ./elsevier_images/test/image/484_gr7.jpeg\n",
      "count  120 , scale  ./elsevier_images/test/image/484_gr7.jpeg\n",
      "count  120 , scale  ./elsevier_images/test/image/484_gr8.jpeg\n",
      "count  120 , scale  ./elsevier_images/test/image/484_gr8.jpeg\n",
      "count  120 , scale  ./elsevier_images/test/image/484_gr9.jpeg\n",
      "count  120 , scale  ./elsevier_images/test/image/484_sc1.jpeg\n",
      "count  120 , scale  ./elsevier_images/test/image/485_fx1.jpeg\n",
      "count  120 , scale  ./elsevier_images/test/image/485_fx1.jpeg\n",
      "count  120 , scale  ./elsevier_images/test/image/485_gr1.jpeg\n",
      "count  120 , scale  ./elsevier_images/test/image/485_gr1.jpeg\n",
      "count  120 , scale  ./elsevier_images/test/image/485_gr2.jpeg\n",
      "count  120 , scale  ./elsevier_images/test/image/485_gr2.jpeg\n",
      "count  120 , scale  ./elsevier_images/test/image/485_gr3.jpeg\n",
      "count  120 , scale  ./elsevier_images/test/image/485_gr3.jpeg\n",
      "count  120 , scale  ./elsevier_images/test/image/485_gr4.jpeg\n",
      "count  120 , scale  ./elsevier_images/test/image/485_gr5.jpeg\n",
      "count  120 , scale  ./elsevier_images/test/image/485_gr6.jpeg\n",
      "count  120 , scale  ./elsevier_images/test/image/485_gr6.jpeg\n",
      "count  120 , scale  ./elsevier_images/test/image/485_gr7.jpeg\n",
      "count  120 , scale  ./elsevier_images/test/image/485_gr7.jpeg\n",
      "count  120 , scale  ./elsevier_images/test/image/485_gr8.jpeg\n",
      "count  120 , scale  ./elsevier_images/test/image/485_sc1.jpeg\n",
      "count  120 , scale  ./elsevier_images/test/image/486_fx1.jpeg\n",
      "count  120 , scale  ./elsevier_images/test/image/486_fx1.jpeg\n",
      "count  120 , scale  ./elsevier_images/test/image/486_gr1.jpeg\n",
      "count  120 , scale  ./elsevier_images/test/image/486_gr1.jpeg\n",
      "count  120 , scale  ./elsevier_images/test/image/486_gr2.jpeg\n",
      "count  120 , scale  ./elsevier_images/test/image/486_gr2.jpeg\n",
      "count  120 , scale  ./elsevier_images/test/image/486_gr3.jpeg\n",
      "count  120 , scale  ./elsevier_images/test/image/486_gr4.jpeg\n",
      "count  120 , scale  ./elsevier_images/test/image/486_gr5.jpeg\n",
      "count  120 , scale  ./elsevier_images/test/image/486_gr6.jpeg\n",
      "count  120 , scale  ./elsevier_images/test/image/486_gr6.jpeg\n",
      "count  120 , scale  ./elsevier_images/test/image/486_sc1.jpeg\n",
      "count  120 , scale  ./elsevier_images/test/image/498_fx1.jpeg\n",
      "count  120 , scale  ./elsevier_images/test/image/498_fx1.jpeg\n",
      "count  121 , scale  ./elsevier_images/test/image/498_gr1.jpeg\n",
      "count  121 , scale  ./elsevier_images/test/image/498_gr1.jpeg\n",
      "count  122 , scale  ./elsevier_images/test/image/498_gr2.jpeg\n",
      "count  122 , scale  ./elsevier_images/test/image/498_gr2.jpeg\n",
      "count  123 , scale  ./elsevier_images/test/image/498_gr3.jpeg\n",
      "count  123 , scale  ./elsevier_images/test/image/498_gr3.jpeg\n",
      "count  123 , scale  ./elsevier_images/test/image/498_gr4.jpeg\n",
      "count  123 , scale  ./elsevier_images/test/image/498_gr4.jpeg\n",
      "count  123 , scale  ./elsevier_images/test/image/498_gr5.jpeg\n",
      "count  123 , scale  ./elsevier_images/test/image/498_gr5.jpeg\n",
      "count  124 , scale  ./elsevier_images/test/image/498_gr6.jpeg\n",
      "count  124 , scale  ./elsevier_images/test/image/498_gr6.jpeg\n",
      "count  125 , scale  ./elsevier_images/test/image/498_gr7.jpeg\n",
      "count  125 , scale  ./elsevier_images/test/image/498_gr7.jpeg\n",
      "count  126 , scale  ./elsevier_images/test/image/498_gr8.jpeg\n",
      "count  126 , scale  ./elsevier_images/test/image/498_gr8.jpeg\n",
      "count  127 , scale  ./elsevier_images/test/image/498_sc1.jpeg\n",
      "count  127 , scale  ./elsevier_images/test/image/498_sc1.jpeg\n",
      "count  127 , scale  ./elsevier_images/test/image/499_fx1.jpeg\n",
      "count  127 , scale  ./elsevier_images/test/image/499_fx1.jpeg\n",
      "count  128 , scale  ./elsevier_images/test/image/499_gr1.jpeg\n",
      "count  128 , scale  ./elsevier_images/test/image/499_gr1.jpeg\n",
      "count  129 , scale  ./elsevier_images/test/image/499_gr2.jpeg\n",
      "count  129 , scale  ./elsevier_images/test/image/499_gr2.jpeg\n",
      "count  130 , scale  ./elsevier_images/test/image/499_gr3.jpeg\n",
      "count  130 , scale  ./elsevier_images/test/image/499_gr3.jpeg\n",
      "count  130 , scale  ./elsevier_images/test/image/499_gr4.jpeg\n",
      "count  130 , scale  ./elsevier_images/test/image/499_gr4.jpeg\n",
      "count  130 , scale  ./elsevier_images/test/image/499_gr5.jpeg\n",
      "count  130 , scale  ./elsevier_images/test/image/499_gr5.jpeg\n",
      "count  130 , scale  ./elsevier_images/test/image/499_gr6.jpeg\n",
      "count  130 , scale  ./elsevier_images/test/image/499_gr6.jpeg\n",
      "count  131 , scale  ./elsevier_images/test/image/499_gr7.jpeg\n",
      "count  131 , scale  ./elsevier_images/test/image/499_gr7.jpeg\n",
      "count  131 , scale  ./elsevier_images/test/image/499_sc1.jpeg\n",
      "count  131 , scale  ./elsevier_images/test/image/499_sc1.jpeg\n",
      "count  132 , scale  ./elsevier_images/test/image/500_gr1.jpeg\n",
      "count  132 , scale  ./elsevier_images/test/image/500_gr1.jpeg\n",
      "count  133 , scale  ./elsevier_images/test/image/500_gr2.jpeg\n",
      "count  133 , scale  ./elsevier_images/test/image/500_gr2.jpeg\n",
      "count  134 , scale  ./elsevier_images/test/image/500_gr3.jpeg\n",
      "count  134 , scale  ./elsevier_images/test/image/500_gr3.jpeg\n",
      "count  135 , scale  ./elsevier_images/test/image/500_gr4.jpeg\n",
      "count  135 , scale  ./elsevier_images/test/image/500_gr4.jpeg\n",
      "count  136 , scale  ./elsevier_images/test/image/500_gr5.jpeg\n",
      "count  136 , scale  ./elsevier_images/test/image/500_gr5.jpeg\n",
      "count  137 , scale  ./elsevier_images/test/image/500_gr6.jpeg\n",
      "count  137 , scale  ./elsevier_images/test/image/500_gr6.jpeg\n",
      "count  137 , scale  ./elsevier_images/test/image/500_gr7.jpeg\n",
      "count  137 , scale  ./elsevier_images/test/image/500_gr7.jpeg\n",
      "count  137 , scale  ./elsevier_images/test/image/500_gr8.jpeg\n",
      "count  137 , scale  ./elsevier_images/test/image/500_gr8.jpeg\n",
      "count  137 , scale  ./elsevier_images/test/image/500_sc1.jpeg\n",
      "count  137 , scale  ./elsevier_images/test/image/500_sc1.jpeg\n",
      "count  138 , scale  ./elsevier_images/test/image/500_sc2.jpeg\n",
      "count  138 , scale  ./elsevier_images/test/image/500_sc2.jpeg\n"
     ]
    },
    {
     "name": "stdout",
     "output_type": "stream",
     "text": [
      "count  139 , scale  ./elsevier_images/test/image/501_fx1.jpeg\n",
      "count  139 , scale  ./elsevier_images/test/image/501_fx1.jpeg\n",
      "count  139 , scale  ./elsevier_images/test/image/501_gr1.jpeg\n",
      "count  139 , scale  ./elsevier_images/test/image/501_gr1.jpeg\n",
      "count  139 , scale  ./elsevier_images/test/image/501_gr2.jpeg\n",
      "count  139 , scale  ./elsevier_images/test/image/501_gr2.jpeg\n",
      "count  139 , scale  ./elsevier_images/test/image/501_gr3.jpeg\n",
      "count  139 , scale  ./elsevier_images/test/image/501_gr3.jpeg\n",
      "count  139 , scale  ./elsevier_images/test/image/501_gr4.jpeg\n",
      "count  139 , scale  ./elsevier_images/test/image/501_gr4.jpeg\n",
      "count  139 , scale  ./elsevier_images/test/image/501_gr5.jpeg\n",
      "count  139 , scale  ./elsevier_images/test/image/501_gr5.jpeg\n",
      "count  139 , scale  ./elsevier_images/test/image/501_pl1.jpeg\n",
      "count  139 , scale  ./elsevier_images/test/image/501_pl1.jpeg\n",
      "count  139 , scale  ./elsevier_images/test/image/501_sc1.jpeg\n",
      "count  139 , scale  ./elsevier_images/test/image/501_sc1.jpeg\n",
      "count  139 , scale  ./elsevier_images/test/image/502_fx1.jpeg\n",
      "count  139 , scale  ./elsevier_images/test/image/502_fx1.jpeg\n",
      "count  139 , scale  ./elsevier_images/test/image/502_gr1.jpeg\n",
      "count  139 , scale  ./elsevier_images/test/image/502_gr2.jpeg\n",
      "count  139 , scale  ./elsevier_images/test/image/502_gr2.jpeg\n",
      "count  139 , scale  ./elsevier_images/test/image/502_gr3.jpeg\n",
      "count  139 , scale  ./elsevier_images/test/image/502_gr3.jpeg\n",
      "count  139 , scale  ./elsevier_images/test/image/502_gr4.jpeg\n",
      "count  139 , scale  ./elsevier_images/test/image/502_gr4.jpeg\n",
      "count  139 , scale  ./elsevier_images/test/image/502_gr5.jpeg\n",
      "count  139 , scale  ./elsevier_images/test/image/502_gr5.jpeg\n",
      "count  139 , scale  ./elsevier_images/test/image/502_gr6.jpeg\n",
      "count  139 , scale  ./elsevier_images/test/image/502_gr6.jpeg\n",
      "count  139 , scale  ./elsevier_images/test/image/502_gr7.jpeg\n",
      "count  139 , scale  ./elsevier_images/test/image/502_gr8.jpeg\n",
      "count  139 , scale  ./elsevier_images/test/image/502_gr8.jpeg\n",
      "count  139 , scale  ./elsevier_images/test/image/502_sc1.jpeg\n",
      "count  139 , scale  ./elsevier_images/test/image/503_gr1.jpeg\n",
      "count  139 , scale  ./elsevier_images/test/image/503_gr1.jpeg\n",
      "count  139 , scale  ./elsevier_images/test/image/503_gr2.jpeg\n",
      "count  139 , scale  ./elsevier_images/test/image/503_gr2.jpeg\n",
      "count  139 , scale  ./elsevier_images/test/image/503_gr3.jpeg\n",
      "count  139 , scale  ./elsevier_images/test/image/503_gr4.jpeg\n",
      "count  139 , scale  ./elsevier_images/test/image/503_gr4.jpeg\n",
      "count  139 , scale  ./elsevier_images/test/image/503_gr5.jpeg\n",
      "count  139 , scale  ./elsevier_images/test/image/503_gr5.jpeg\n",
      "count  139 , scale  ./elsevier_images/test/image/503_gr6.jpeg\n",
      "count  139 , scale  ./elsevier_images/test/image/503_gr6.jpeg\n",
      "count  139 , scale  ./elsevier_images/test/image/503_sc1.jpeg\n"
     ]
    }
   ],
   "source": [
    "molecules_dir_train = './elsevier_images/train/image'\n",
    "molecules_dir_train_enhanced = './elsevier_images/train/enhanced_image'\n",
    "\n",
    "enhanced_images = []\n",
    "\n",
    "if not os.path.exists(molecules_dir_train_enhanced):\n",
    "    os.mkdir(molecules_dir_train_enhanced)\n",
    "\n",
    "count = 1    \n",
    "for file in os.listdir(molecules_dir_train):\n",
    "    if file.endswith(\".jpeg\"):\n",
    "        raw_img = os.path.join(molecules_dir_train, file)\n",
    "        raw_image = cv2.imread(raw_img)\n",
    "        if raw_image.shape[0] * raw_image.shape[1] > 2000 * 2000:\n",
    "            enhanced_images.append(raw_img)\n",
    "            continue \n",
    "        print('count ', count, ', scale ', raw_img)\n",
    "        enhanced_img = os.path.join(molecules_dir_train_enhanced, file)\n",
    "        enhanced_image = sr.upsample(raw_image)\n",
    "        if enhanced_image.shape[0] * enhanced_image.shape[1] > 2000 * 2000:\n",
    "            enhanced_images.append(raw_img)\n",
    "            continue \n",
    "        cv2.imwrite(enhanced_img, enhanced_image)\n",
    "        enhanced_images.append(enhanced_img)\n",
    "        count += 1\n",
    "        \n",
    "molecules_dir_test = './elsevier_images/test/image'\n",
    "molecules_dir_test_enhanced = './elsevier_images/test/enhanced_image'\n",
    "\n",
    "if not os.path.exists(molecules_dir_test_enhanced):\n",
    "    os.mkdir(molecules_dir_test_enhanced)\n",
    "\n",
    "for file in os.listdir(molecules_dir_test):\n",
    "    if file.endswith(\".jpeg\"):\n",
    "        raw_img = os.path.join(molecules_dir_test, file)\n",
    "        print('count ', count, ', scale ', raw_img)\n",
    "        raw_image = cv2.imread(raw_img)\n",
    "        if raw_image.shape[0] * raw_image.shape[1] > 2000 * 2000:\n",
    "            enhanced_images.append(raw_img)\n",
    "            continue\n",
    "        print('count ', count, ', scale ', raw_img)\n",
    "        enhanced_img = os.path.join(molecules_dir_test_enhanced, file)\n",
    "        enhanced_image = sr.upsample(raw_image)\n",
    "        if enhanced_image.shape[0] * enhanced_image.shape[1] > 2000 * 2000:\n",
    "            enhanced_images.append(raw_img)\n",
    "            continue \n",
    "        cv2.imwrite(enhanced_img, enhanced_image)\n",
    "        enhanced_images.append(enhanced_img)\n",
    "        count += 1"
   ]
  },
  {
   "cell_type": "code",
   "execution_count": 4,
   "metadata": {},
   "outputs": [
    {
     "data": {
      "text/plain": [
       "454"
      ]
     },
     "execution_count": 4,
     "metadata": {},
     "output_type": "execute_result"
    }
   ],
   "source": [
    "len(enhanced_images)"
   ]
  },
  {
   "cell_type": "code",
   "execution_count": 5,
   "metadata": {},
   "outputs": [
    {
     "name": "stdout",
     "output_type": "stream",
     "text": [
      "extract image:  ./elsevier_images/train/enhanced_image/114_fx1.jpeg\n"
     ]
    },
    {
     "name": "stderr",
     "output_type": "stream",
     "text": [
      "WARNING:chemschematicresolver.extract:Confidence of label 1 deemed too low for extraction\n",
      "WARNING:chemschematicresolver.extract:Confidence of label 0 deemed too low for extraction\n",
      "WARNING:chemschematicresolver.extract:Confidence of label 2 deemed too low for extraction\n"
     ]
    },
    {
     "name": "stdout",
     "output_type": "stream",
     "text": [
      "extract image:  ./elsevier_images/train/enhanced_image/114_gr1.jpeg\n"
     ]
    },
    {
     "name": "stderr",
     "output_type": "stream",
     "text": [
      "WARNING:chemschematicresolver.extract:Confidence of label 0 deemed too low for extraction\n",
      "WARNING:chemschematicresolver.extract:Confidence of label 1 deemed too low for extraction\n"
     ]
    },
    {
     "name": "stdout",
     "output_type": "stream",
     "text": [
      "extract image:  ./elsevier_images/train/enhanced_image/114_gr2.jpeg\n"
     ]
    },
    {
     "name": "stderr",
     "output_type": "stream",
     "text": [
      "WARNING:chemschematicresolver.actions:No SMILES string was extracted for diagram 4\n",
      "WARNING:chemschematicresolver.actions:No SMILES string was extracted for diagram 5\n",
      "WARNING:chemschematicresolver.extract:Some SMILES strings were determined to be false positives and were removed from the output.\n"
     ]
    },
    {
     "name": "stdout",
     "output_type": "stream",
     "text": [
      "extract image:  ./elsevier_images/train/enhanced_image/114_gr3.jpeg\n"
     ]
    },
    {
     "name": "stderr",
     "output_type": "stream",
     "text": [
      "WARNING:chemschematicresolver.extract:Confidence of label 3 deemed too low for extraction\n",
      "WARNING:chemschematicresolver.actions:No SMILES string was extracted for diagram 6\n",
      "WARNING:chemschematicresolver.extract:Some SMILES strings were determined to be false positives and were removed from the output.\n"
     ]
    },
    {
     "name": "stdout",
     "output_type": "stream",
     "text": [
      "extract image:  ./elsevier_images/train/enhanced_image/114_gr4.jpeg\n"
     ]
    },
    {
     "name": "stderr",
     "output_type": "stream",
     "text": [
      "WARNING:chemschematicresolver.extract:Confidence of label 7 deemed too low for extraction\n",
      "WARNING:chemschematicresolver.actions:No SMILES string was extracted for diagram 10\n",
      "WARNING:chemschematicresolver.extract:Some SMILES strings were determined to be false positives and were removed from the output.\n"
     ]
    },
    {
     "name": "stdout",
     "output_type": "stream",
     "text": [
      "extract image:  ./elsevier_images/train/enhanced_image/114_gr5.jpeg\n"
     ]
    },
    {
     "name": "stderr",
     "output_type": "stream",
     "text": [
      "WARNING:chemschematicresolver.actions:No SMILES string was extracted for diagram 2\n",
      "WARNING:chemschematicresolver.extract:Some SMILES strings were determined to be false positives and were removed from the output.\n"
     ]
    },
    {
     "name": "stdout",
     "output_type": "stream",
     "text": [
      "extract image:  ./elsevier_images/train/enhanced_image/114_gr6.jpeg\n"
     ]
    },
    {
     "name": "stderr",
     "output_type": "stream",
     "text": [
      "WARNING:chemschematicresolver.extract:Confidence of label 0 deemed too low for extraction\n"
     ]
    },
    {
     "name": "stdout",
     "output_type": "stream",
     "text": [
      "extract image:  ./elsevier_images/train/enhanced_image/114_sc1.jpeg\n"
     ]
    },
    {
     "name": "stderr",
     "output_type": "stream",
     "text": [
      "WARNING:chemschematicresolver.extract:Confidence of label 2 deemed too low for extraction\n",
      "WARNING:chemschematicresolver.extract:Confidence of label 3 deemed too low for extraction\n"
     ]
    },
    {
     "name": "stdout",
     "output_type": "stream",
     "text": [
      "extract image:  ./elsevier_images/train/enhanced_image/127_fx1.jpeg\n"
     ]
    },
    {
     "name": "stderr",
     "output_type": "stream",
     "text": [
      "WARNING:chemschematicresolver.actions:No SMILES string was extracted for diagram 5\n",
      "WARNING:chemschematicresolver.extract:Confidence of label 3 deemed too low for extraction\n",
      "WARNING:chemschematicresolver.extract:Some SMILES strings were determined to be false positives and were removed from the output.\n"
     ]
    },
    {
     "name": "stdout",
     "output_type": "stream",
     "text": [
      "extract image:  ./elsevier_images/train/enhanced_image/127_gr1.jpeg\n"
     ]
    },
    {
     "name": "stderr",
     "output_type": "stream",
     "text": [
      "WARNING:chemschematicresolver.extract:Confidence of label 1 deemed too low for extraction\n"
     ]
    },
    {
     "name": "stdout",
     "output_type": "stream",
     "text": [
      "extract image:  ./elsevier_images/train/enhanced_image/127_gr2.jpeg\n"
     ]
    },
    {
     "name": "stderr",
     "output_type": "stream",
     "text": [
      "WARNING:chemschematicresolver.extract:Text could not be resolved from label 1\n",
      "WARNING:chemschematicresolver.extract:Confidence of label 1 deemed too low for extraction\n",
      "WARNING:chemschematicresolver.extract:Confidence of label 0 deemed too low for extraction\n"
     ]
    },
    {
     "name": "stdout",
     "output_type": "stream",
     "text": [
      "extract image:  ./elsevier_images/train/enhanced_image/127_gr3.jpeg\n",
      "extract image:  ./elsevier_images/train/enhanced_image/127_gr4.jpeg\n"
     ]
    },
    {
     "name": "stderr",
     "output_type": "stream",
     "text": [
      "WARNING:chemschematicresolver.extract:Confidence of label 1 deemed too low for extraction\n"
     ]
    },
    {
     "name": "stdout",
     "output_type": "stream",
     "text": [
      "extract image:  ./elsevier_images/train/enhanced_image/127_gr6.jpeg\n"
     ]
    },
    {
     "name": "stderr",
     "output_type": "stream",
     "text": [
      "WARNING:chemschematicresolver.extract:Confidence of label 1 deemed too low for extraction\n"
     ]
    },
    {
     "name": "stdout",
     "output_type": "stream",
     "text": [
      "extract image:  ./elsevier_images/train/enhanced_image/127_gr7.jpeg\n"
     ]
    },
    {
     "name": "stderr",
     "output_type": "stream",
     "text": [
      "WARNING:chemschematicresolver.actions:No SMILES string was extracted for diagram 2\n",
      "WARNING:chemschematicresolver.extract:Some SMILES strings were determined to be false positives and were removed from the output.\n"
     ]
    },
    {
     "name": "stdout",
     "output_type": "stream",
     "text": [
      "extract image:  ./elsevier_images/train/enhanced_image/127_gr8.jpeg\n"
     ]
    },
    {
     "name": "stderr",
     "output_type": "stream",
     "text": [
      "WARNING:chemschematicresolver.extract:Confidence of label 0 deemed too low for extraction\n",
      "WARNING:chemschematicresolver.actions:No SMILES string was extracted for diagram 6\n",
      "WARNING:chemschematicresolver.extract:Some SMILES strings were determined to be false positives and were removed from the output.\n"
     ]
    },
    {
     "name": "stdout",
     "output_type": "stream",
     "text": [
      "extract image:  ./elsevier_images/train/image/135_fx1.jpeg\n"
     ]
    },
    {
     "name": "stderr",
     "output_type": "stream",
     "text": [
      "WARNING:chemschematicresolver.r_group:No SMILES strings were extracted for diagram 2\n"
     ]
    },
    {
     "name": "stdout",
     "output_type": "stream",
     "text": [
      "extract image:  ./elsevier_images/train/image/135_gr1.jpeg\n"
     ]
    },
    {
     "name": "stderr",
     "output_type": "stream",
     "text": [
      "WARNING:chemschematicresolver.actions:No SMILES string was extracted for diagram 3\n",
      "WARNING:chemschematicresolver.extract:Confidence of label 2 deemed too low for extraction\n",
      "WARNING:chemschematicresolver.extract:Some SMILES strings were determined to be false positives and were removed from the output.\n"
     ]
    },
    {
     "name": "stdout",
     "output_type": "stream",
     "text": [
      "extract image:  ./elsevier_images/train/image/135_gr10.jpeg\n"
     ]
    },
    {
     "name": "stderr",
     "output_type": "stream",
     "text": [
      "WARNING:chemschematicresolver.extract:Confidence of label 0 deemed too low for extraction\n",
      "WARNING:chemschematicresolver.extract:Confidence of label 1 deemed too low for extraction\n",
      "WARNING:chemschematicresolver.extract:Confidence of label 2 deemed too low for extraction\n"
     ]
    },
    {
     "name": "stdout",
     "output_type": "stream",
     "text": [
      "extract image:  ./elsevier_images/train/image/135_gr2.jpeg\n"
     ]
    },
    {
     "name": "stderr",
     "output_type": "stream",
     "text": [
      "WARNING:chemschematicresolver.actions:No SMILES string was extracted for diagram 5\n",
      "WARNING:chemschematicresolver.extract:Some SMILES strings were determined to be false positives and were removed from the output.\n"
     ]
    },
    {
     "name": "stdout",
     "output_type": "stream",
     "text": [
      "extract image:  ./elsevier_images/train/image/135_gr3.jpeg\n"
     ]
    },
    {
     "name": "stderr",
     "output_type": "stream",
     "text": [
      "WARNING:chemschematicresolver.extract:Confidence of label 7 deemed too low for extraction\n",
      "WARNING:chemschematicresolver.actions:No SMILES string was extracted for diagram 10\n",
      "WARNING:chemschematicresolver.extract:Some SMILES strings were determined to be false positives and were removed from the output.\n"
     ]
    },
    {
     "name": "stdout",
     "output_type": "stream",
     "text": [
      "extract image:  ./elsevier_images/train/image/135_gr4.jpeg\n"
     ]
    },
    {
     "name": "stderr",
     "output_type": "stream",
     "text": [
      "WARNING:chemschematicresolver.actions:No SMILES string was extracted for diagram 4\n",
      "WARNING:chemschematicresolver.extract:Confidence of label 2 deemed too low for extraction\n",
      "WARNING:chemschematicresolver.extract:Some SMILES strings were determined to be false positives and were removed from the output.\n"
     ]
    },
    {
     "name": "stdout",
     "output_type": "stream",
     "text": [
      "extract image:  ./elsevier_images/train/image/135_gr5.jpeg\n"
     ]
    },
    {
     "name": "stderr",
     "output_type": "stream",
     "text": [
      "WARNING:chemschematicresolver.extract:Confidence of label 0 deemed too low for extraction\n",
      "WARNING:chemschematicresolver.extract:Confidence of label 3 deemed too low for extraction\n"
     ]
    },
    {
     "name": "stdout",
     "output_type": "stream",
     "text": [
      "extract image:  ./elsevier_images/train/image/135_gr6.jpeg\n"
     ]
    },
    {
     "name": "stderr",
     "output_type": "stream",
     "text": [
      "WARNING:chemschematicresolver.extract:Confidence of label 5 deemed too low for extraction\n",
      "WARNING:chemschematicresolver.extract:Confidence of label 4 deemed too low for extraction\n",
      "WARNING:chemschematicresolver.actions:No SMILES string was extracted for diagram 8\n",
      "WARNING:chemschematicresolver.extract:Some SMILES strings were determined to be false positives and were removed from the output.\n"
     ]
    },
    {
     "name": "stdout",
     "output_type": "stream",
     "text": [
      "extract image:  ./elsevier_images/train/image/135_gr7.jpeg\n"
     ]
    },
    {
     "name": "stderr",
     "output_type": "stream",
     "text": [
      "WARNING:chemschematicresolver.extract:Confidence of label 0 deemed too low for extraction\n"
     ]
    },
    {
     "name": "stdout",
     "output_type": "stream",
     "text": [
      "extract image:  ./elsevier_images/train/image/135_gr8.jpeg\n"
     ]
    },
    {
     "name": "stderr",
     "output_type": "stream",
     "text": [
      "WARNING:chemschematicresolver.extract:Confidence of label 1 deemed too low for extraction\n"
     ]
    },
    {
     "name": "stdout",
     "output_type": "stream",
     "text": [
      "extract image:  ./elsevier_images/train/image/135_gr9.jpeg\n"
     ]
    },
    {
     "name": "stderr",
     "output_type": "stream",
     "text": [
      "WARNING:chemschematicresolver.extract:Confidence of label 7 deemed too low for extraction\n",
      "WARNING:chemschematicresolver.extract:Confidence of label 6 deemed too low for extraction\n",
      "WARNING:chemschematicresolver.extract:Confidence of label 5 deemed too low for extraction\n"
     ]
    },
    {
     "name": "stdout",
     "output_type": "stream",
     "text": [
      "extract image:  ./elsevier_images/train/enhanced_image/141_fx1.jpeg\n"
     ]
    },
    {
     "name": "stderr",
     "output_type": "stream",
     "text": [
      "WARNING:chemschematicresolver.actions:No SMILES string was extracted for diagram 3\n",
      "WARNING:chemschematicresolver.extract:Some SMILES strings were determined to be false positives and were removed from the output.\n"
     ]
    },
    {
     "name": "stdout",
     "output_type": "stream",
     "text": [
      "extract image:  ./elsevier_images/train/enhanced_image/141_gr1.jpeg\n"
     ]
    },
    {
     "name": "stderr",
     "output_type": "stream",
     "text": [
      "WARNING:chemschematicresolver.actions:No SMILES string was extracted for diagram 6\n",
      "WARNING:chemschematicresolver.actions:No SMILES string was extracted for diagram 9\n",
      "WARNING:chemschematicresolver.actions:No SMILES string was extracted for diagram 13\n",
      "WARNING:chemschematicresolver.actions:No SMILES string was extracted for diagram 12\n",
      "WARNING:chemschematicresolver.actions:No SMILES string was extracted for diagram 10\n",
      "WARNING:chemschematicresolver.extract:Some SMILES strings were determined to be false positives and were removed from the output.\n"
     ]
    },
    {
     "name": "stdout",
     "output_type": "stream",
     "text": [
      "extract image:  ./elsevier_images/train/enhanced_image/141_gr2.jpeg\n",
      "extract image:  ./elsevier_images/train/enhanced_image/141_gr3.jpeg\n"
     ]
    },
    {
     "name": "stderr",
     "output_type": "stream",
     "text": [
      "WARNING:chemschematicresolver.actions:No SMILES string was extracted for diagram 6\n",
      "WARNING:chemschematicresolver.actions:No SMILES string was extracted for diagram 7\n",
      "WARNING:chemschematicresolver.extract:Some SMILES strings were determined to be false positives and were removed from the output.\n"
     ]
    },
    {
     "name": "stdout",
     "output_type": "stream",
     "text": [
      "extract image:  ./elsevier_images/train/enhanced_image/141_gr4.jpeg\n"
     ]
    },
    {
     "name": "stderr",
     "output_type": "stream",
     "text": [
      "WARNING:chemschematicresolver.actions:No SMILES string was extracted for diagram 13\n",
      "WARNING:chemschematicresolver.actions:No SMILES string was extracted for diagram 9\n",
      "WARNING:chemschematicresolver.actions:No SMILES string was extracted for diagram 10\n",
      "WARNING:chemschematicresolver.extract:Confidence of label 7 deemed too low for extraction\n",
      "WARNING:chemschematicresolver.extract:Some SMILES strings were determined to be false positives and were removed from the output.\n"
     ]
    },
    {
     "name": "stdout",
     "output_type": "stream",
     "text": [
      "extract image:  ./elsevier_images/train/enhanced_image/141_gr5.jpeg\n",
      "Runtime error, no smiles\n",
      "extract image:  ./elsevier_images/train/enhanced_image/141_gr6.jpeg\n",
      "extract image:  ./elsevier_images/train/enhanced_image/141_gr7.jpeg\n"
     ]
    },
    {
     "name": "stderr",
     "output_type": "stream",
     "text": [
      "WARNING:chemschematicresolver.extract:Text could not be resolved from label 1\n",
      "WARNING:chemschematicresolver.extract:Confidence of label 1 deemed too low for extraction\n"
     ]
    },
    {
     "name": "stdout",
     "output_type": "stream",
     "text": [
      "extract image:  ./elsevier_images/train/enhanced_image/146_gr1.jpeg\n"
     ]
    },
    {
     "name": "stderr",
     "output_type": "stream",
     "text": [
      "WARNING:chemschematicresolver.actions:No SMILES string was extracted for diagram 4\n",
      "WARNING:chemschematicresolver.extract:Some SMILES strings were determined to be false positives and were removed from the output.\n"
     ]
    },
    {
     "name": "stdout",
     "output_type": "stream",
     "text": [
      "extract image:  ./elsevier_images/train/enhanced_image/146_gr2.jpeg\n"
     ]
    },
    {
     "name": "stderr",
     "output_type": "stream",
     "text": [
      "WARNING:chemschematicresolver.actions:No SMILES string was extracted for diagram 16\n",
      "WARNING:chemschematicresolver.extract:Text could not be resolved from label 2\n",
      "WARNING:chemschematicresolver.extract:Confidence of label 2 deemed too low for extraction\n",
      "WARNING:chemschematicresolver.extract:Text could not be resolved from label 1\n",
      "WARNING:chemschematicresolver.extract:Confidence of label 1 deemed too low for extraction\n",
      "WARNING:chemschematicresolver.extract:Text could not be resolved from label 3\n",
      "WARNING:chemschematicresolver.extract:Confidence of label 3 deemed too low for extraction\n",
      "WARNING:chemschematicresolver.actions:No SMILES string was extracted for diagram 14\n",
      "WARNING:chemschematicresolver.actions:No SMILES string was extracted for diagram 9\n",
      "WARNING:chemschematicresolver.extract:Some SMILES strings were determined to be false positives and were removed from the output.\n"
     ]
    },
    {
     "name": "stdout",
     "output_type": "stream",
     "text": [
      "extract image:  ./elsevier_images/train/enhanced_image/146_gr3.jpeg\n"
     ]
    },
    {
     "name": "stderr",
     "output_type": "stream",
     "text": [
      "WARNING:chemschematicresolver.extract:Confidence of label 2 deemed too low for extraction\n",
      "WARNING:chemschematicresolver.actions:No SMILES string was extracted for diagram 7\n",
      "WARNING:chemschematicresolver.actions:No SMILES string was extracted for diagram 5\n",
      "WARNING:chemschematicresolver.extract:Some SMILES strings were determined to be false positives and were removed from the output.\n"
     ]
    },
    {
     "name": "stdout",
     "output_type": "stream",
     "text": [
      "extract image:  ./elsevier_images/train/enhanced_image/146_gr4.jpeg\n",
      "Runtime error, no smiles\n",
      "extract image:  ./elsevier_images/train/enhanced_image/146_gr5.jpeg\n"
     ]
    },
    {
     "name": "stderr",
     "output_type": "stream",
     "text": [
      "WARNING:chemschematicresolver.extract:Confidence of label 1 deemed too low for extraction\n",
      "WARNING:chemschematicresolver.extract:Confidence of label 0 deemed too low for extraction\n",
      "WARNING:chemschematicresolver.extract:Confidence of label 2 deemed too low for extraction\n"
     ]
    },
    {
     "name": "stdout",
     "output_type": "stream",
     "text": [
      "extract image:  ./elsevier_images/train/image/146_sc1.jpeg\n"
     ]
    },
    {
     "name": "stderr",
     "output_type": "stream",
     "text": [
      "WARNING:chemschematicresolver.extract:Confidence of label 25 deemed too low for extraction\n",
      "WARNING:chemschematicresolver.extract:Confidence of label 21 deemed too low for extraction\n",
      "WARNING:chemschematicresolver.extract:Confidence of label 23 deemed too low for extraction\n",
      "WARNING:chemschematicresolver.extract:Text could not be resolved from label 12\n",
      "WARNING:chemschematicresolver.extract:Confidence of label 12 deemed too low for extraction\n",
      "WARNING:chemschematicresolver.extract:Confidence of label 2 deemed too low for extraction\n",
      "WARNING:chemschematicresolver.actions:No SMILES string was extracted for diagram 40\n",
      "WARNING:chemschematicresolver.extract:Confidence of label 1 deemed too low for extraction\n",
      "WARNING:chemschematicresolver.extract:Confidence of label 16 deemed too low for extraction\n",
      "WARNING:chemschematicresolver.extract:Text could not be resolved from label 3\n",
      "WARNING:chemschematicresolver.extract:Confidence of label 3 deemed too low for extraction\n",
      "WARNING:chemschematicresolver.extract:Confidence of label 0 deemed too low for extraction\n",
      "WARNING:chemschematicresolver.extract:Confidence of label 18 deemed too low for extraction\n",
      "WARNING:chemschematicresolver.extract:Confidence of label 20 deemed too low for extraction\n",
      "WARNING:chemschematicresolver.extract:Some SMILES strings were determined to be false positives and were removed from the output.\n"
     ]
    },
    {
     "name": "stdout",
     "output_type": "stream",
     "text": [
      "extract image:  ./elsevier_images/train/enhanced_image/151_fx1.jpeg\n"
     ]
    },
    {
     "name": "stderr",
     "output_type": "stream",
     "text": [
      "WARNING:chemschematicresolver.extract:Confidence of label 13 deemed too low for extraction\n",
      "WARNING:chemschematicresolver.extract:Confidence of label 12 deemed too low for extraction\n",
      "WARNING:chemschematicresolver.extract:Text could not be resolved from label 3\n",
      "WARNING:chemschematicresolver.extract:Confidence of label 3 deemed too low for extraction\n",
      "WARNING:chemschematicresolver.extract:Text could not be resolved from label 11\n",
      "WARNING:chemschematicresolver.extract:Confidence of label 11 deemed too low for extraction\n",
      "WARNING:chemschematicresolver.extract:Confidence of label 9 deemed too low for extraction\n",
      "WARNING:chemschematicresolver.extract:Confidence of label 0 deemed too low for extraction\n",
      "WARNING:chemschematicresolver.extract:Confidence of label 5 deemed too low for extraction\n"
     ]
    },
    {
     "name": "stdout",
     "output_type": "stream",
     "text": [
      "extract image:  ./elsevier_images/train/enhanced_image/151_gr1.jpeg\n",
      "extract image:  ./elsevier_images/train/image/151_gr10.jpeg\n"
     ]
    },
    {
     "name": "stderr",
     "output_type": "stream",
     "text": [
      "WARNING:chemschematicresolver.extract:Text could not be resolved from label 4\n",
      "WARNING:chemschematicresolver.extract:Confidence of label 4 deemed too low for extraction\n",
      "WARNING:chemschematicresolver.extract:Text could not be resolved from label 5\n",
      "WARNING:chemschematicresolver.extract:Confidence of label 5 deemed too low for extraction\n",
      "WARNING:chemschematicresolver.extract:Confidence of label 19 deemed too low for extraction\n",
      "WARNING:chemschematicresolver.actions:No SMILES string was extracted for diagram 36\n",
      "WARNING:chemschematicresolver.extract:Text could not be resolved from label 8\n",
      "WARNING:chemschematicresolver.extract:Confidence of label 8 deemed too low for extraction\n",
      "WARNING:chemschematicresolver.extract:Confidence of label 10 deemed too low for extraction\n",
      "WARNING:chemschematicresolver.extract:Confidence of label 26 deemed too low for extraction\n",
      "WARNING:chemschematicresolver.actions:No SMILES string was extracted for diagram 35\n",
      "WARNING:chemschematicresolver.actions:No SMILES string was extracted for diagram 37\n",
      "WARNING:chemschematicresolver.extract:Text could not be resolved from label 16\n",
      "WARNING:chemschematicresolver.extract:Confidence of label 16 deemed too low for extraction\n",
      "WARNING:chemschematicresolver.extract:Confidence of label 18 deemed too low for extraction\n",
      "WARNING:chemschematicresolver.extract:Confidence of label 1 deemed too low for extraction\n",
      "WARNING:chemschematicresolver.extract:Confidence of label 25 deemed too low for extraction\n",
      "WARNING:chemschematicresolver.extract:Confidence of label 3 deemed too low for extraction\n",
      "WARNING:chemschematicresolver.extract:Confidence of label 17 deemed too low for extraction\n",
      "WARNING:chemschematicresolver.extract:Some SMILES strings were determined to be false positives and were removed from the output.\n"
     ]
    },
    {
     "name": "stdout",
     "output_type": "stream",
     "text": [
      "extract image:  ./elsevier_images/train/enhanced_image/151_gr2.jpeg\n"
     ]
    },
    {
     "name": "stderr",
     "output_type": "stream",
     "text": [
      "WARNING:chemschematicresolver.actions:No SMILES string was extracted for diagram 2\n",
      "WARNING:chemschematicresolver.extract:Some SMILES strings were determined to be false positives and were removed from the output.\n"
     ]
    },
    {
     "name": "stdout",
     "output_type": "stream",
     "text": [
      "extract image:  ./elsevier_images/train/enhanced_image/151_gr3.jpeg\n"
     ]
    },
    {
     "name": "stderr",
     "output_type": "stream",
     "text": [
      "WARNING:chemschematicresolver.extract:Confidence of label 2 deemed too low for extraction\n"
     ]
    },
    {
     "name": "stdout",
     "output_type": "stream",
     "text": [
      "extract image:  ./elsevier_images/train/enhanced_image/151_gr4.jpeg\n"
     ]
    },
    {
     "name": "stderr",
     "output_type": "stream",
     "text": [
      "WARNING:chemschematicresolver.actions:No SMILES string was extracted for diagram 2\n",
      "WARNING:chemschematicresolver.extract:Some SMILES strings were determined to be false positives and were removed from the output.\n"
     ]
    },
    {
     "name": "stdout",
     "output_type": "stream",
     "text": [
      "extract image:  ./elsevier_images/train/enhanced_image/151_gr5.jpeg\n"
     ]
    },
    {
     "name": "stderr",
     "output_type": "stream",
     "text": [
      "WARNING:chemschematicresolver.extract:Confidence of label 1 deemed too low for extraction\n"
     ]
    },
    {
     "name": "stdout",
     "output_type": "stream",
     "text": [
      "extract image:  ./elsevier_images/train/enhanced_image/151_gr6.jpeg\n"
     ]
    },
    {
     "name": "stderr",
     "output_type": "stream",
     "text": [
      "WARNING:chemschematicresolver.actions:No SMILES string was extracted for diagram 3\n",
      "WARNING:chemschematicresolver.extract:Some SMILES strings were determined to be false positives and were removed from the output.\n"
     ]
    },
    {
     "name": "stdout",
     "output_type": "stream",
     "text": [
      "extract image:  ./elsevier_images/train/image/151_gr7.jpeg\n"
     ]
    },
    {
     "name": "stderr",
     "output_type": "stream",
     "text": [
      "WARNING:chemschematicresolver.extract:Confidence of label 6 deemed too low for extraction\n",
      "WARNING:chemschematicresolver.extract:Confidence of label 7 deemed too low for extraction\n",
      "WARNING:chemschematicresolver.extract:Confidence of label 3 deemed too low for extraction\n"
     ]
    },
    {
     "name": "stdout",
     "output_type": "stream",
     "text": [
      "extract image:  ./elsevier_images/train/enhanced_image/151_gr8.jpeg\n"
     ]
    },
    {
     "name": "stderr",
     "output_type": "stream",
     "text": [
      "WARNING:chemschematicresolver.actions:No SMILES string was extracted for diagram 2\n",
      "WARNING:chemschematicresolver.extract:Some SMILES strings were determined to be false positives and were removed from the output.\n"
     ]
    },
    {
     "name": "stdout",
     "output_type": "stream",
     "text": [
      "extract image:  ./elsevier_images/train/enhanced_image/151_gr9.jpeg\n"
     ]
    },
    {
     "name": "stderr",
     "output_type": "stream",
     "text": [
      "WARNING:chemschematicresolver.extract:Text could not be resolved from label 0\n",
      "WARNING:chemschematicresolver.extract:Confidence of label 0 deemed too low for extraction\n"
     ]
    },
    {
     "name": "stdout",
     "output_type": "stream",
     "text": [
      "extract image:  ./elsevier_images/train/enhanced_image/155_fx1.jpeg\n"
     ]
    },
    {
     "name": "stderr",
     "output_type": "stream",
     "text": [
      "WARNING:chemschematicresolver.extract:Confidence of label 0 deemed too low for extraction\n"
     ]
    },
    {
     "name": "stdout",
     "output_type": "stream",
     "text": [
      "extract image:  ./elsevier_images/train/enhanced_image/155_gr1.jpeg\n"
     ]
    },
    {
     "name": "stderr",
     "output_type": "stream",
     "text": [
      "WARNING:chemschematicresolver.actions:No SMILES string was extracted for diagram 5\n",
      "WARNING:chemschematicresolver.actions:No SMILES string was extracted for diagram 6\n",
      "WARNING:chemschematicresolver.extract:Some SMILES strings were determined to be false positives and were removed from the output.\n"
     ]
    },
    {
     "name": "stdout",
     "output_type": "stream",
     "text": [
      "extract image:  ./elsevier_images/train/image/155_gr2.jpeg\n"
     ]
    },
    {
     "name": "stderr",
     "output_type": "stream",
     "text": [
      "WARNING:chemschematicresolver.actions:No SMILES string was extracted for diagram 13\n",
      "WARNING:chemschematicresolver.actions:No SMILES string was extracted for diagram 17\n",
      "WARNING:chemschematicresolver.extract:Confidence of label 8 deemed too low for extraction\n",
      "WARNING:chemschematicresolver.actions:No SMILES string was extracted for diagram 16\n",
      "WARNING:chemschematicresolver.actions:No SMILES string was extracted for diagram 12\n",
      "WARNING:chemschematicresolver.actions:No SMILES string was extracted for diagram 11\n",
      "WARNING:chemschematicresolver.extract:Some SMILES strings were determined to be false positives and were removed from the output.\n"
     ]
    },
    {
     "name": "stdout",
     "output_type": "stream",
     "text": [
      "extract image:  ./elsevier_images/train/enhanced_image/155_gr3.jpeg\n"
     ]
    },
    {
     "name": "stderr",
     "output_type": "stream",
     "text": [
      "WARNING:chemschematicresolver.extract:Confidence of label 3 deemed too low for extraction\n",
      "WARNING:chemschematicresolver.actions:No SMILES string was extracted for diagram 5\n",
      "WARNING:chemschematicresolver.extract:Some SMILES strings were determined to be false positives and were removed from the output.\n"
     ]
    },
    {
     "name": "stdout",
     "output_type": "stream",
     "text": [
      "extract image:  ./elsevier_images/train/image/174_fx1.jpeg\n",
      "Runtime error, no smiles\n",
      "extract image:  ./elsevier_images/train/image/174_gr1.jpeg\n"
     ]
    },
    {
     "name": "stderr",
     "output_type": "stream",
     "text": [
      "WARNING:chemschematicresolver.extract:Confidence of label 0 deemed too low for extraction\n"
     ]
    },
    {
     "name": "stdout",
     "output_type": "stream",
     "text": [
      "extract image:  ./elsevier_images/train/image/174_gr10.jpeg\n",
      "extract image:  ./elsevier_images/train/image/174_gr2.jpeg\n"
     ]
    },
    {
     "name": "stderr",
     "output_type": "stream",
     "text": [
      "WARNING:chemschematicresolver.extract:Confidence of label 0 deemed too low for extraction\n",
      "WARNING:chemschematicresolver.actions:No SMILES string was extracted for diagram 4\n",
      "WARNING:chemschematicresolver.extract:Some SMILES strings were determined to be false positives and were removed from the output.\n"
     ]
    },
    {
     "name": "stdout",
     "output_type": "stream",
     "text": [
      "extract image:  ./elsevier_images/train/image/174_gr3.jpeg\n"
     ]
    },
    {
     "name": "stderr",
     "output_type": "stream",
     "text": [
      "WARNING:chemschematicresolver.extract:Confidence of label 0 deemed too low for extraction\n"
     ]
    },
    {
     "name": "stdout",
     "output_type": "stream",
     "text": [
      "extract image:  ./elsevier_images/train/image/174_gr4.jpeg\n",
      "extract image:  ./elsevier_images/train/image/174_gr5.jpeg\n",
      "extract image:  ./elsevier_images/train/image/174_gr6.jpeg\n"
     ]
    },
    {
     "name": "stderr",
     "output_type": "stream",
     "text": [
      "WARNING:chemschematicresolver.extract:Text could not be resolved from label 0\n",
      "WARNING:chemschematicresolver.extract:Confidence of label 0 deemed too low for extraction\n",
      "WARNING:chemschematicresolver.extract:Text could not be resolved from label 2\n",
      "WARNING:chemschematicresolver.extract:Confidence of label 2 deemed too low for extraction\n",
      "WARNING:chemschematicresolver.extract:Text could not be resolved from label 1\n",
      "WARNING:chemschematicresolver.extract:Confidence of label 1 deemed too low for extraction\n",
      "WARNING:chemschematicresolver.extract:Confidence of label 4 deemed too low for extraction\n",
      "WARNING:chemschematicresolver.extract:Confidence of label 5 deemed too low for extraction\n"
     ]
    },
    {
     "name": "stdout",
     "output_type": "stream",
     "text": [
      "extract image:  ./elsevier_images/train/image/174_gr7.jpeg\n"
     ]
    },
    {
     "name": "stderr",
     "output_type": "stream",
     "text": [
      "WARNING:chemschematicresolver.actions:No SMILES string was extracted for diagram 2\n",
      "WARNING:chemschematicresolver.extract:Some SMILES strings were determined to be false positives and were removed from the output.\n"
     ]
    },
    {
     "name": "stdout",
     "output_type": "stream",
     "text": [
      "extract image:  ./elsevier_images/train/image/174_gr8.jpeg\n",
      "extract image:  ./elsevier_images/train/image/174_gr9.jpeg\n"
     ]
    },
    {
     "name": "stderr",
     "output_type": "stream",
     "text": [
      "WARNING:chemschematicresolver.actions:No SMILES string was extracted for diagram 10\n",
      "WARNING:chemschematicresolver.actions:No SMILES string was extracted for diagram 11\n",
      "WARNING:chemschematicresolver.actions:No SMILES string was extracted for diagram 8\n",
      "WARNING:chemschematicresolver.extract:Some SMILES strings were determined to be false positives and were removed from the output.\n"
     ]
    },
    {
     "name": "stdout",
     "output_type": "stream",
     "text": [
      "extract image:  ./elsevier_images/train/image/190_fx1.jpeg\n"
     ]
    },
    {
     "name": "stderr",
     "output_type": "stream",
     "text": [
      "WARNING:chemschematicresolver.actions:No SMILES string was extracted for diagram 7\n",
      "WARNING:chemschematicresolver.extract:Confidence of label 2 deemed too low for extraction\n",
      "WARNING:chemschematicresolver.extract:Confidence of label 0 deemed too low for extraction\n",
      "WARNING:chemschematicresolver.extract:Some SMILES strings were determined to be false positives and were removed from the output.\n"
     ]
    },
    {
     "name": "stdout",
     "output_type": "stream",
     "text": [
      "extract image:  ./elsevier_images/train/image/190_gr1.jpeg\n",
      "Runtime error, no smiles\n",
      "extract image:  ./elsevier_images/train/image/190_gr2.jpeg\n"
     ]
    },
    {
     "name": "stderr",
     "output_type": "stream",
     "text": [
      "WARNING:chemschematicresolver.extract:Confidence of label 0 deemed too low for extraction\n"
     ]
    },
    {
     "name": "stdout",
     "output_type": "stream",
     "text": [
      "extract image:  ./elsevier_images/train/image/190_gr3.jpeg\n"
     ]
    },
    {
     "name": "stderr",
     "output_type": "stream",
     "text": [
      "WARNING:chemschematicresolver.actions:No SMILES string was extracted for diagram 3\n",
      "WARNING:chemschematicresolver.actions:No SMILES string was extracted for diagram 4\n",
      "WARNING:chemschematicresolver.extract:Some SMILES strings were determined to be false positives and were removed from the output.\n"
     ]
    },
    {
     "name": "stdout",
     "output_type": "stream",
     "text": [
      "extract image:  ./elsevier_images/train/image/190_gr4.jpeg\n"
     ]
    },
    {
     "name": "stderr",
     "output_type": "stream",
     "text": [
      "WARNING:chemschematicresolver.extract:Confidence of label 0 deemed too low for extraction\n"
     ]
    },
    {
     "name": "stdout",
     "output_type": "stream",
     "text": [
      "extract image:  ./elsevier_images/train/image/190_gr5.jpeg\n",
      "extract image:  ./elsevier_images/train/image/190_gr6.jpeg\n"
     ]
    },
    {
     "name": "stderr",
     "output_type": "stream",
     "text": [
      "/home/hanghu/miniconda3/envs/csr/lib/python3.6/site-packages/chemschematicresolver/actions.py:119: ConvergenceWarning: Number of distinct clusters (1) found smaller than n_clusters (2). Possibly due to duplicate points in X.\n",
      "  clusters = km.fit(all_params)\n",
      "/home/hanghu/miniconda3/envs/csr/lib/python3.6/site-packages/chemschematicresolver/actions.py:129: RuntimeWarning: Mean of empty slice\n",
      "  if np.nanmean([panel.area for panel in group_1]) > np.nanmean([panel.area for panel in group_2]):\n",
      "WARNING:chemschematicresolver.extract:Confidence of label 0 deemed too low for extraction\n"
     ]
    },
    {
     "name": "stdout",
     "output_type": "stream",
     "text": [
      "extract image:  ./elsevier_images/train/image/190_sc1.jpeg\n"
     ]
    },
    {
     "name": "stderr",
     "output_type": "stream",
     "text": [
      "WARNING:chemschematicresolver.extract:Confidence of label 5 deemed too low for extraction\n",
      "WARNING:chemschematicresolver.extract:Some SMILES strings were determined to be false positives and were removed from the output.\n"
     ]
    },
    {
     "name": "stdout",
     "output_type": "stream",
     "text": [
      "extract image:  ./elsevier_images/train/image/254_gr1.jpeg\n"
     ]
    },
    {
     "name": "stderr",
     "output_type": "stream",
     "text": [
      "WARNING:chemschematicresolver.extract:Confidence of label 1 deemed too low for extraction\n"
     ]
    },
    {
     "name": "stdout",
     "output_type": "stream",
     "text": [
      "extract image:  ./elsevier_images/train/image/254_gr2.jpeg\n"
     ]
    },
    {
     "name": "stderr",
     "output_type": "stream",
     "text": [
      "WARNING:chemschematicresolver.actions:No SMILES string was extracted for diagram 4\n",
      "WARNING:chemschematicresolver.extract:Confidence of label 0 deemed too low for extraction\n",
      "WARNING:chemschematicresolver.extract:Some SMILES strings were determined to be false positives and were removed from the output.\n"
     ]
    },
    {
     "name": "stdout",
     "output_type": "stream",
     "text": [
      "extract image:  ./elsevier_images/train/image/254_gr3.jpeg\n"
     ]
    },
    {
     "name": "stderr",
     "output_type": "stream",
     "text": [
      "WARNING:chemschematicresolver.extract:Confidence of label 2 deemed too low for extraction\n",
      "WARNING:chemschematicresolver.actions:No SMILES string was extracted for diagram 5\n",
      "WARNING:chemschematicresolver.extract:Some SMILES strings were determined to be false positives and were removed from the output.\n"
     ]
    },
    {
     "name": "stdout",
     "output_type": "stream",
     "text": [
      "extract image:  ./elsevier_images/train/image/254_gr4.jpeg\n"
     ]
    },
    {
     "name": "stderr",
     "output_type": "stream",
     "text": [
      "WARNING:chemschematicresolver.actions:No SMILES string was extracted for diagram 4\n",
      "WARNING:chemschematicresolver.extract:Some SMILES strings were determined to be false positives and were removed from the output.\n"
     ]
    },
    {
     "name": "stdout",
     "output_type": "stream",
     "text": [
      "extract image:  ./elsevier_images/train/image/254_gr5.jpeg\n"
     ]
    },
    {
     "name": "stderr",
     "output_type": "stream",
     "text": [
      "WARNING:chemschematicresolver.extract:Confidence of label 5 deemed too low for extraction\n",
      "WARNING:chemschematicresolver.actions:No SMILES string was extracted for diagram 10\n",
      "WARNING:chemschematicresolver.extract:Confidence of label 4 deemed too low for extraction\n",
      "WARNING:chemschematicresolver.extract:Some SMILES strings were determined to be false positives and were removed from the output.\n"
     ]
    },
    {
     "name": "stdout",
     "output_type": "stream",
     "text": [
      "extract image:  ./elsevier_images/train/image/254_gr6.jpeg\n"
     ]
    },
    {
     "name": "stderr",
     "output_type": "stream",
     "text": [
      "WARNING:chemschematicresolver.extract:Confidence of label 0 deemed too low for extraction\n"
     ]
    },
    {
     "name": "stdout",
     "output_type": "stream",
     "text": [
      "extract image:  ./elsevier_images/train/image/254_gr7.jpeg\n"
     ]
    },
    {
     "name": "stderr",
     "output_type": "stream",
     "text": [
      "WARNING:chemschematicresolver.extract:Confidence of label 0 deemed too low for extraction\n"
     ]
    },
    {
     "name": "stdout",
     "output_type": "stream",
     "text": [
      "extract image:  ./elsevier_images/train/image/254_gr8.jpeg\n",
      "extract image:  ./elsevier_images/train/enhanced_image/385_gr1.jpeg\n"
     ]
    },
    {
     "name": "stderr",
     "output_type": "stream",
     "text": [
      "WARNING:chemschematicresolver.extract:Confidence of label 3 deemed too low for extraction\n",
      "WARNING:chemschematicresolver.actions:No SMILES string was extracted for diagram 15\n",
      "WARNING:chemschematicresolver.actions:No SMILES string was extracted for diagram 12\n",
      "WARNING:chemschematicresolver.actions:No SMILES string was extracted for diagram 14\n",
      "WARNING:chemschematicresolver.extract:Some SMILES strings were determined to be false positives and were removed from the output.\n"
     ]
    },
    {
     "name": "stdout",
     "output_type": "stream",
     "text": [
      "extract image:  ./elsevier_images/train/enhanced_image/385_gr2.jpeg\n"
     ]
    },
    {
     "name": "stderr",
     "output_type": "stream",
     "text": [
      "WARNING:chemschematicresolver.actions:No SMILES string was extracted for diagram 12\n",
      "WARNING:chemschematicresolver.extract:Some SMILES strings were determined to be false positives and were removed from the output.\n"
     ]
    },
    {
     "name": "stdout",
     "output_type": "stream",
     "text": [
      "extract image:  ./elsevier_images/train/enhanced_image/385_gr3.jpeg\n"
     ]
    },
    {
     "name": "stderr",
     "output_type": "stream",
     "text": [
      "WARNING:chemschematicresolver.extract:Confidence of label 6 deemed too low for extraction\n"
     ]
    },
    {
     "name": "stdout",
     "output_type": "stream",
     "text": [
      "extract image:  ./elsevier_images/train/enhanced_image/385_gr4.jpeg\n"
     ]
    },
    {
     "name": "stderr",
     "output_type": "stream",
     "text": [
      "WARNING:chemschematicresolver.actions:No SMILES string was extracted for diagram 9\n",
      "WARNING:chemschematicresolver.actions:No SMILES string was extracted for diagram 6\n",
      "WARNING:chemschematicresolver.actions:No SMILES string was extracted for diagram 4\n",
      "WARNING:chemschematicresolver.actions:No SMILES string was extracted for diagram 8\n",
      "WARNING:chemschematicresolver.extract:Some SMILES strings were determined to be false positives and were removed from the output.\n"
     ]
    },
    {
     "name": "stdout",
     "output_type": "stream",
     "text": [
      "extract image:  ./elsevier_images/train/enhanced_image/385_gr5.jpeg\n"
     ]
    },
    {
     "name": "stderr",
     "output_type": "stream",
     "text": [
      "WARNING:chemschematicresolver.extract:Confidence of label 0 deemed too low for extraction\n"
     ]
    },
    {
     "name": "stdout",
     "output_type": "stream",
     "text": [
      "extract image:  ./elsevier_images/train/enhanced_image/385_gr6.jpeg\n"
     ]
    },
    {
     "name": "stderr",
     "output_type": "stream",
     "text": [
      "WARNING:chemschematicresolver.extract:Confidence of label 9 deemed too low for extraction\n",
      "WARNING:chemschematicresolver.actions:No SMILES string was extracted for diagram 38\n",
      "WARNING:chemschematicresolver.extract:Text could not be resolved from label 3\n",
      "WARNING:chemschematicresolver.extract:Confidence of label 3 deemed too low for extraction\n",
      "WARNING:chemschematicresolver.extract:Text could not be resolved from label 1\n",
      "WARNING:chemschematicresolver.extract:Confidence of label 1 deemed too low for extraction\n",
      "WARNING:chemschematicresolver.extract:Confidence of label 8 deemed too low for extraction\n",
      "WARNING:chemschematicresolver.extract:Confidence of label 18 deemed too low for extraction\n",
      "WARNING:chemschematicresolver.extract:Text could not be resolved from label 16\n",
      "WARNING:chemschematicresolver.extract:Confidence of label 16 deemed too low for extraction\n",
      "WARNING:chemschematicresolver.extract:Confidence of label 17 deemed too low for extraction\n",
      "WARNING:chemschematicresolver.extract:Text could not be resolved from label 2\n",
      "WARNING:chemschematicresolver.extract:Confidence of label 2 deemed too low for extraction\n",
      "WARNING:chemschematicresolver.extract:Confidence of label 6 deemed too low for extraction\n",
      "WARNING:chemschematicresolver.extract:Confidence of label 7 deemed too low for extraction\n",
      "WARNING:chemschematicresolver.extract:Confidence of label 11 deemed too low for extraction\n",
      "WARNING:chemschematicresolver.extract:Text could not be resolved from label 4\n",
      "WARNING:chemschematicresolver.extract:Confidence of label 4 deemed too low for extraction\n",
      "WARNING:chemschematicresolver.extract:Some SMILES strings were determined to be false positives and were removed from the output.\n"
     ]
    },
    {
     "name": "stdout",
     "output_type": "stream",
     "text": [
      "extract image:  ./elsevier_images/train/enhanced_image/385_gr7.jpeg\n"
     ]
    },
    {
     "name": "stderr",
     "output_type": "stream",
     "text": [
      "WARNING:chemschematicresolver.extract:Confidence of label 13 deemed too low for extraction\n",
      "WARNING:chemschematicresolver.extract:Confidence of label 8 deemed too low for extraction\n",
      "WARNING:chemschematicresolver.actions:No SMILES string was extracted for diagram 20\n",
      "WARNING:chemschematicresolver.actions:No SMILES string was extracted for diagram 21\n",
      "WARNING:chemschematicresolver.extract:Confidence of label 9 deemed too low for extraction\n",
      "WARNING:chemschematicresolver.actions:No SMILES string was extracted for diagram 17\n",
      "WARNING:chemschematicresolver.actions:No SMILES string was extracted for diagram 18\n",
      "WARNING:chemschematicresolver.extract:Text could not be resolved from label 10\n",
      "WARNING:chemschematicresolver.extract:Confidence of label 10 deemed too low for extraction\n",
      "WARNING:chemschematicresolver.extract:Some SMILES strings were determined to be false positives and were removed from the output.\n"
     ]
    },
    {
     "name": "stdout",
     "output_type": "stream",
     "text": [
      "extract image:  ./elsevier_images/train/enhanced_image/385_gr8.jpeg\n"
     ]
    },
    {
     "name": "stderr",
     "output_type": "stream",
     "text": [
      "WARNING:chemschematicresolver.extract:Confidence of label 4 deemed too low for extraction\n"
     ]
    },
    {
     "name": "stdout",
     "output_type": "stream",
     "text": [
      "extract image:  ./elsevier_images/train/enhanced_image/385_sc1.jpeg\n"
     ]
    },
    {
     "name": "stderr",
     "output_type": "stream",
     "text": [
      "WARNING:chemschematicresolver.extract:Confidence of label 1 deemed too low for extraction\n",
      "WARNING:chemschematicresolver.extract:Confidence of label 2 deemed too low for extraction\n"
     ]
    },
    {
     "name": "stdout",
     "output_type": "stream",
     "text": [
      "extract image:  ./elsevier_images/train/enhanced_image/68_fx1.jpeg\n"
     ]
    },
    {
     "name": "stderr",
     "output_type": "stream",
     "text": [
      "WARNING:chemschematicresolver.actions:No SMILES string was extracted for diagram 2\n",
      "WARNING:chemschematicresolver.extract:Some SMILES strings were determined to be false positives and were removed from the output.\n"
     ]
    },
    {
     "name": "stdout",
     "output_type": "stream",
     "text": [
      "extract image:  ./elsevier_images/train/enhanced_image/68_gr1.jpeg\n",
      "extract image:  ./elsevier_images/train/enhanced_image/68_gr2.jpeg\n"
     ]
    },
    {
     "name": "stderr",
     "output_type": "stream",
     "text": [
      "WARNING:chemschematicresolver.extract:Confidence of label 0 deemed too low for extraction\n"
     ]
    },
    {
     "name": "stdout",
     "output_type": "stream",
     "text": [
      "extract image:  ./elsevier_images/train/enhanced_image/68_gr3.jpeg\n"
     ]
    },
    {
     "name": "stderr",
     "output_type": "stream",
     "text": [
      "WARNING:chemschematicresolver.actions:No SMILES string was extracted for diagram 2\n",
      "WARNING:chemschematicresolver.extract:Some SMILES strings were determined to be false positives and were removed from the output.\n"
     ]
    },
    {
     "name": "stdout",
     "output_type": "stream",
     "text": [
      "extract image:  ./elsevier_images/train/enhanced_image/68_gr4.jpeg\n"
     ]
    },
    {
     "name": "stderr",
     "output_type": "stream",
     "text": [
      "WARNING:chemschematicresolver.extract:Confidence of label 0 deemed too low for extraction\n"
     ]
    },
    {
     "name": "stdout",
     "output_type": "stream",
     "text": [
      "extract image:  ./elsevier_images/train/enhanced_image/68_gr5.jpeg\n"
     ]
    },
    {
     "name": "stderr",
     "output_type": "stream",
     "text": [
      "WARNING:chemschematicresolver.extract:Confidence of label 0 deemed too low for extraction\n"
     ]
    },
    {
     "name": "stdout",
     "output_type": "stream",
     "text": [
      "extract image:  ./elsevier_images/train/enhanced_image/68_gr6.jpeg\n"
     ]
    },
    {
     "name": "stderr",
     "output_type": "stream",
     "text": [
      "WARNING:chemschematicresolver.actions:No SMILES string was extracted for diagram 5\n",
      "WARNING:chemschematicresolver.actions:No SMILES string was extracted for diagram 15\n",
      "WARNING:chemschematicresolver.actions:No SMILES string was extracted for diagram 13\n",
      "WARNING:chemschematicresolver.actions:No SMILES string was extracted for diagram 14\n",
      "WARNING:chemschematicresolver.extract:Some SMILES strings were determined to be false positives and were removed from the output.\n"
     ]
    },
    {
     "name": "stdout",
     "output_type": "stream",
     "text": [
      "extract image:  ./elsevier_images/train/image/68_gr7.jpeg\n"
     ]
    },
    {
     "name": "stderr",
     "output_type": "stream",
     "text": [
      "/home/hanghu/miniconda3/envs/csr/lib/python3.6/site-packages/chemschematicresolver/actions.py:119: ConvergenceWarning: Number of distinct clusters (1) found smaller than n_clusters (2). Possibly due to duplicate points in X.\n",
      "  clusters = km.fit(all_params)\n",
      "/home/hanghu/miniconda3/envs/csr/lib/python3.6/site-packages/chemschematicresolver/actions.py:129: RuntimeWarning: Mean of empty slice\n",
      "  if np.nanmean([panel.area for panel in group_1]) > np.nanmean([panel.area for panel in group_2]):\n",
      "WARNING:chemschematicresolver.extract:Confidence of label 0 deemed too low for extraction\n"
     ]
    },
    {
     "name": "stdout",
     "output_type": "stream",
     "text": [
      "extract image:  ./elsevier_images/train/image/68_sc1.jpeg\n"
     ]
    },
    {
     "name": "stderr",
     "output_type": "stream",
     "text": [
      "WARNING:chemschematicresolver.extract:Confidence of label 3 deemed too low for extraction\n",
      "WARNING:chemschematicresolver.extract:Confidence of label 7 deemed too low for extraction\n",
      "WARNING:chemschematicresolver.extract:Confidence of label 9 deemed too low for extraction\n",
      "WARNING:chemschematicresolver.actions:No SMILES string was extracted for diagram 10\n",
      "WARNING:chemschematicresolver.extract:Confidence of label 8 deemed too low for extraction\n",
      "WARNING:chemschematicresolver.actions:No SMILES string was extracted for diagram 14\n",
      "WARNING:chemschematicresolver.extract:Some SMILES strings were determined to be false positives and were removed from the output.\n"
     ]
    },
    {
     "name": "stdout",
     "output_type": "stream",
     "text": [
      "extract image:  ./elsevier_images/test/enhanced_image/197_fx1.jpeg\n"
     ]
    },
    {
     "name": "stderr",
     "output_type": "stream",
     "text": [
      "WARNING:chemschematicresolver.extract:Confidence of label 5 deemed too low for extraction\n",
      "WARNING:chemschematicresolver.extract:Confidence of label 4 deemed too low for extraction\n",
      "WARNING:chemschematicresolver.extract:Confidence of label 0 deemed too low for extraction\n",
      "WARNING:chemschematicresolver.extract:Confidence of label 1 deemed too low for extraction\n"
     ]
    },
    {
     "name": "stdout",
     "output_type": "stream",
     "text": [
      "extract image:  ./elsevier_images/test/enhanced_image/197_gr1.jpeg\n"
     ]
    },
    {
     "name": "stderr",
     "output_type": "stream",
     "text": [
      "WARNING:chemschematicresolver.extract:Confidence of label 1 deemed too low for extraction\n"
     ]
    },
    {
     "name": "stdout",
     "output_type": "stream",
     "text": [
      "extract image:  ./elsevier_images/test/enhanced_image/197_gr2.jpeg\n"
     ]
    },
    {
     "name": "stderr",
     "output_type": "stream",
     "text": [
      "WARNING:chemschematicresolver.actions:No SMILES string was extracted for diagram 3\n",
      "WARNING:chemschematicresolver.actions:No SMILES string was extracted for diagram 4\n",
      "WARNING:chemschematicresolver.extract:Some SMILES strings were determined to be false positives and were removed from the output.\n"
     ]
    },
    {
     "name": "stdout",
     "output_type": "stream",
     "text": [
      "extract image:  ./elsevier_images/test/enhanced_image/197_gr3.jpeg\n"
     ]
    },
    {
     "name": "stderr",
     "output_type": "stream",
     "text": [
      "WARNING:chemschematicresolver.extract:Confidence of label 1 deemed too low for extraction\n"
     ]
    },
    {
     "name": "stdout",
     "output_type": "stream",
     "text": [
      "extract image:  ./elsevier_images/test/enhanced_image/197_gr4.jpeg\n"
     ]
    },
    {
     "name": "stderr",
     "output_type": "stream",
     "text": [
      "WARNING:chemschematicresolver.extract:Confidence of label 4 deemed too low for extraction\n",
      "WARNING:chemschematicresolver.extract:Confidence of label 2 deemed too low for extraction\n",
      "WARNING:chemschematicresolver.actions:No SMILES string was extracted for diagram 10\n",
      "WARNING:chemschematicresolver.actions:No SMILES string was extracted for diagram 9\n",
      "WARNING:chemschematicresolver.extract:Confidence of label 5 deemed too low for extraction\n",
      "WARNING:chemschematicresolver.extract:Some SMILES strings were determined to be false positives and were removed from the output.\n"
     ]
    },
    {
     "name": "stdout",
     "output_type": "stream",
     "text": [
      "extract image:  ./elsevier_images/test/enhanced_image/197_gr5.jpeg\n"
     ]
    },
    {
     "name": "stderr",
     "output_type": "stream",
     "text": [
      "WARNING:chemschematicresolver.extract:Confidence of label 7 deemed too low for extraction\n",
      "WARNING:chemschematicresolver.extract:Confidence of label 5 deemed too low for extraction\n"
     ]
    },
    {
     "name": "stdout",
     "output_type": "stream",
     "text": [
      "extract image:  ./elsevier_images/test/enhanced_image/197_gr6.jpeg\n"
     ]
    },
    {
     "name": "stderr",
     "output_type": "stream",
     "text": [
      "WARNING:chemschematicresolver.extract:Confidence of label 7 deemed too low for extraction\n",
      "WARNING:chemschematicresolver.extract:Confidence of label 2 deemed too low for extraction\n",
      "WARNING:chemschematicresolver.actions:No SMILES string was extracted for diagram 11\n",
      "WARNING:chemschematicresolver.extract:Confidence of label 1 deemed too low for extraction\n",
      "WARNING:chemschematicresolver.actions:No SMILES string was extracted for diagram 12\n",
      "WARNING:chemschematicresolver.extract:Confidence of label 4 deemed too low for extraction\n",
      "WARNING:chemschematicresolver.actions:No SMILES string was extracted for diagram 16\n",
      "WARNING:chemschematicresolver.extract:Some SMILES strings were determined to be false positives and were removed from the output.\n"
     ]
    },
    {
     "name": "stdout",
     "output_type": "stream",
     "text": [
      "extract image:  ./elsevier_images/test/image/197_gr7.jpeg\n"
     ]
    },
    {
     "name": "stderr",
     "output_type": "stream",
     "text": [
      "WARNING:chemschematicresolver.extract:Confidence of label 2 deemed too low for extraction\n",
      "WARNING:chemschematicresolver.extract:Confidence of label 3 deemed too low for extraction\n",
      "WARNING:chemschematicresolver.actions:No SMILES string was extracted for diagram 5\n",
      "WARNING:chemschematicresolver.extract:Confidence of label 0 deemed too low for extraction\n",
      "WARNING:chemschematicresolver.extract:Some SMILES strings were determined to be false positives and were removed from the output.\n"
     ]
    },
    {
     "name": "stdout",
     "output_type": "stream",
     "text": [
      "extract image:  ./elsevier_images/test/enhanced_image/197_sc1.jpeg\n"
     ]
    },
    {
     "name": "stderr",
     "output_type": "stream",
     "text": [
      "WARNING:chemschematicresolver.extract:Confidence of label 1 deemed too low for extraction\n",
      "WARNING:chemschematicresolver.extract:Confidence of label 0 deemed too low for extraction\n"
     ]
    },
    {
     "name": "stdout",
     "output_type": "stream",
     "text": [
      "extract image:  ./elsevier_images/test/enhanced_image/227_fx1.jpeg\n"
     ]
    },
    {
     "name": "stderr",
     "output_type": "stream",
     "text": [
      "WARNING:chemschematicresolver.extract:Confidence of label 1 deemed too low for extraction\n",
      "WARNING:chemschematicresolver.extract:Confidence of label 0 deemed too low for extraction\n"
     ]
    },
    {
     "name": "stdout",
     "output_type": "stream",
     "text": [
      "extract image:  ./elsevier_images/test/enhanced_image/227_gr1.jpeg\n"
     ]
    },
    {
     "name": "stderr",
     "output_type": "stream",
     "text": [
      "WARNING:chemschematicresolver.extract:Confidence of label 2 deemed too low for extraction\n",
      "WARNING:chemschematicresolver.actions:No SMILES string was extracted for diagram 4\n",
      "WARNING:chemschematicresolver.extract:Some SMILES strings were determined to be false positives and were removed from the output.\n"
     ]
    },
    {
     "name": "stdout",
     "output_type": "stream",
     "text": [
      "extract image:  ./elsevier_images/test/enhanced_image/227_gr2.jpeg\n"
     ]
    },
    {
     "name": "stderr",
     "output_type": "stream",
     "text": [
      "WARNING:chemschematicresolver.actions:No SMILES string was extracted for diagram 6\n",
      "WARNING:chemschematicresolver.actions:No SMILES string was extracted for diagram 7\n",
      "WARNING:chemschematicresolver.actions:No SMILES string was extracted for diagram 4\n",
      "WARNING:chemschematicresolver.actions:No SMILES string was extracted for diagram 5\n",
      "WARNING:chemschematicresolver.extract:Some SMILES strings were determined to be false positives and were removed from the output.\n"
     ]
    },
    {
     "name": "stdout",
     "output_type": "stream",
     "text": [
      "extract image:  ./elsevier_images/test/enhanced_image/227_gr3.jpeg\n"
     ]
    },
    {
     "name": "stderr",
     "output_type": "stream",
     "text": [
      "WARNING:chemschematicresolver.actions:No SMILES string was extracted for diagram 4\n",
      "WARNING:chemschematicresolver.actions:No SMILES string was extracted for diagram 3\n",
      "WARNING:chemschematicresolver.extract:Some SMILES strings were determined to be false positives and were removed from the output.\n"
     ]
    },
    {
     "name": "stdout",
     "output_type": "stream",
     "text": [
      "extract image:  ./elsevier_images/test/enhanced_image/227_gr4.jpeg\n"
     ]
    },
    {
     "name": "stderr",
     "output_type": "stream",
     "text": [
      "WARNING:chemschematicresolver.extract:Confidence of label 1 deemed too low for extraction\n",
      "WARNING:chemschematicresolver.actions:No SMILES string was extracted for diagram 5\n",
      "WARNING:chemschematicresolver.extract:Confidence of label 4 deemed too low for extraction\n",
      "WARNING:chemschematicresolver.extract:Some SMILES strings were determined to be false positives and were removed from the output.\n"
     ]
    },
    {
     "name": "stdout",
     "output_type": "stream",
     "text": [
      "extract image:  ./elsevier_images/test/image/227_gr6.jpeg\n",
      "Runtime error, no smiles\n",
      "extract image:  ./elsevier_images/test/enhanced_image/227_gr7.jpeg\n"
     ]
    },
    {
     "name": "stderr",
     "output_type": "stream",
     "text": [
      "WARNING:chemschematicresolver.extract:Text could not be resolved from label 2\n",
      "WARNING:chemschematicresolver.extract:Confidence of label 2 deemed too low for extraction\n",
      "WARNING:chemschematicresolver.extract:Confidence of label 8 deemed too low for extraction\n",
      "WARNING:chemschematicresolver.extract:Confidence of label 6 deemed too low for extraction\n",
      "WARNING:chemschematicresolver.extract:Confidence of label 10 deemed too low for extraction\n"
     ]
    },
    {
     "name": "stdout",
     "output_type": "stream",
     "text": [
      "extract image:  ./elsevier_images/test/enhanced_image/248_fx1.jpeg\n"
     ]
    },
    {
     "name": "stderr",
     "output_type": "stream",
     "text": [
      "WARNING:chemschematicresolver.actions:No SMILES string was extracted for diagram 2\n",
      "WARNING:chemschematicresolver.extract:Some SMILES strings were determined to be false positives and were removed from the output.\n"
     ]
    },
    {
     "name": "stdout",
     "output_type": "stream",
     "text": [
      "extract image:  ./elsevier_images/test/enhanced_image/248_gr1.jpeg\n"
     ]
    },
    {
     "name": "stderr",
     "output_type": "stream",
     "text": [
      "WARNING:chemschematicresolver.actions:No SMILES string was extracted for diagram 2\n",
      "WARNING:chemschematicresolver.extract:Some SMILES strings were determined to be false positives and were removed from the output.\n"
     ]
    },
    {
     "name": "stdout",
     "output_type": "stream",
     "text": [
      "extract image:  ./elsevier_images/test/enhanced_image/248_gr2.jpeg\n"
     ]
    },
    {
     "name": "stderr",
     "output_type": "stream",
     "text": [
      "WARNING:chemschematicresolver.extract:Confidence of label 0 deemed too low for extraction\n"
     ]
    },
    {
     "name": "stdout",
     "output_type": "stream",
     "text": [
      "extract image:  ./elsevier_images/test/enhanced_image/248_gr3.jpeg\n"
     ]
    },
    {
     "name": "stderr",
     "output_type": "stream",
     "text": [
      "WARNING:chemschematicresolver.extract:Confidence of label 0 deemed too low for extraction\n"
     ]
    },
    {
     "name": "stdout",
     "output_type": "stream",
     "text": [
      "extract image:  ./elsevier_images/test/enhanced_image/248_gr4.jpeg\n"
     ]
    },
    {
     "name": "stderr",
     "output_type": "stream",
     "text": [
      "WARNING:chemschematicresolver.extract:Confidence of label 1 deemed too low for extraction\n"
     ]
    },
    {
     "name": "stdout",
     "output_type": "stream",
     "text": [
      "extract image:  ./elsevier_images/test/enhanced_image/248_gr5.jpeg\n"
     ]
    },
    {
     "name": "stderr",
     "output_type": "stream",
     "text": [
      "WARNING:chemschematicresolver.actions:No SMILES string was extracted for diagram 2\n",
      "WARNING:chemschematicresolver.extract:Some SMILES strings were determined to be false positives and were removed from the output.\n"
     ]
    },
    {
     "name": "stdout",
     "output_type": "stream",
     "text": [
      "extract image:  ./elsevier_images/test/enhanced_image/248_gr6.jpeg\n"
     ]
    },
    {
     "name": "stderr",
     "output_type": "stream",
     "text": [
      "WARNING:chemschematicresolver.actions:No SMILES string was extracted for diagram 2\n",
      "WARNING:chemschematicresolver.extract:Some SMILES strings were determined to be false positives and were removed from the output.\n"
     ]
    },
    {
     "name": "stdout",
     "output_type": "stream",
     "text": [
      "extract image:  ./elsevier_images/test/enhanced_image/248_gr7.jpeg\n"
     ]
    },
    {
     "name": "stderr",
     "output_type": "stream",
     "text": [
      "WARNING:chemschematicresolver.extract:Confidence of label 1 deemed too low for extraction\n",
      "WARNING:chemschematicresolver.extract:Confidence of label 0 deemed too low for extraction\n",
      "WARNING:chemschematicresolver.extract:Confidence of label 2 deemed too low for extraction\n",
      "WARNING:chemschematicresolver.extract:Confidence of label 3 deemed too low for extraction\n"
     ]
    },
    {
     "name": "stdout",
     "output_type": "stream",
     "text": [
      "extract image:  ./elsevier_images/test/image/248_gr8.jpeg\n"
     ]
    },
    {
     "name": "stderr",
     "output_type": "stream",
     "text": [
      "WARNING:chemschematicresolver.actions:No SMILES string was extracted for diagram 30\n",
      "WARNING:chemschematicresolver.extract:Confidence of label 15 deemed too low for extraction\n",
      "WARNING:chemschematicresolver.extract:Confidence of label 7 deemed too low for extraction\n",
      "WARNING:chemschematicresolver.extract:Confidence of label 9 deemed too low for extraction\n",
      "WARNING:chemschematicresolver.extract:Confidence of label 18 deemed too low for extraction\n",
      "WARNING:chemschematicresolver.extract:Confidence of label 0 deemed too low for extraction\n",
      "WARNING:chemschematicresolver.extract:Confidence of label 8 deemed too low for extraction\n",
      "WARNING:chemschematicresolver.extract:Confidence of label 11 deemed too low for extraction\n",
      "WARNING:chemschematicresolver.extract:Confidence of label 19 deemed too low for extraction\n",
      "WARNING:chemschematicresolver.extract:Confidence of label 10 deemed too low for extraction\n",
      "WARNING:chemschematicresolver.extract:Some SMILES strings were determined to be false positives and were removed from the output.\n"
     ]
    },
    {
     "name": "stdout",
     "output_type": "stream",
     "text": [
      "extract image:  ./elsevier_images/test/enhanced_image/248_gr9.jpeg\n"
     ]
    },
    {
     "name": "stderr",
     "output_type": "stream",
     "text": [
      "WARNING:chemschematicresolver.extract:Confidence of label 4 deemed too low for extraction\n",
      "WARNING:chemschematicresolver.extract:Text could not be resolved from label 2\n",
      "WARNING:chemschematicresolver.extract:Confidence of label 2 deemed too low for extraction\n",
      "WARNING:chemschematicresolver.extract:Confidence of label 7 deemed too low for extraction\n"
     ]
    },
    {
     "name": "stdout",
     "output_type": "stream",
     "text": [
      "extract image:  ./elsevier_images/test/image/254_fx1.jpeg\n"
     ]
    },
    {
     "name": "stderr",
     "output_type": "stream",
     "text": [
      "WARNING:chemschematicresolver.extract:Confidence of label 6 deemed too low for extraction\n"
     ]
    },
    {
     "name": "stdout",
     "output_type": "stream",
     "text": [
      "extract image:  ./elsevier_images/test/image/281_fx1.jpeg\n"
     ]
    },
    {
     "name": "stderr",
     "output_type": "stream",
     "text": [
      "WARNING:chemschematicresolver.extract:Confidence of label 1 deemed too low for extraction\n"
     ]
    },
    {
     "name": "stdout",
     "output_type": "stream",
     "text": [
      "extract image:  ./elsevier_images/test/image/281_gr1.jpeg\n"
     ]
    },
    {
     "name": "stderr",
     "output_type": "stream",
     "text": [
      "WARNING:chemschematicresolver.extract:Confidence of label 0 deemed too low for extraction\n"
     ]
    },
    {
     "name": "stdout",
     "output_type": "stream",
     "text": [
      "extract image:  ./elsevier_images/test/image/281_gr2.jpeg\n"
     ]
    },
    {
     "name": "stderr",
     "output_type": "stream",
     "text": [
      "WARNING:chemschematicresolver.actions:No SMILES string was extracted for diagram 2\n",
      "WARNING:chemschematicresolver.extract:Some SMILES strings were determined to be false positives and were removed from the output.\n"
     ]
    },
    {
     "name": "stdout",
     "output_type": "stream",
     "text": [
      "extract image:  ./elsevier_images/test/image/281_gr3.jpeg\n"
     ]
    },
    {
     "name": "stderr",
     "output_type": "stream",
     "text": [
      "WARNING:chemschematicresolver.extract:Confidence of label 0 deemed too low for extraction\n"
     ]
    },
    {
     "name": "stdout",
     "output_type": "stream",
     "text": [
      "extract image:  ./elsevier_images/test/image/281_gr4.jpeg\n"
     ]
    },
    {
     "name": "stderr",
     "output_type": "stream",
     "text": [
      "WARNING:chemschematicresolver.actions:No SMILES string was extracted for diagram 9\n",
      "WARNING:chemschematicresolver.extract:Text could not be resolved from label 1\n",
      "WARNING:chemschematicresolver.extract:Confidence of label 1 deemed too low for extraction\n",
      "WARNING:chemschematicresolver.extract:Confidence of label 6 deemed too low for extraction\n",
      "WARNING:chemschematicresolver.actions:No SMILES string was extracted for diagram 8\n",
      "WARNING:chemschematicresolver.extract:Some SMILES strings were determined to be false positives and were removed from the output.\n"
     ]
    },
    {
     "name": "stdout",
     "output_type": "stream",
     "text": [
      "extract image:  ./elsevier_images/test/image/281_gr5.jpeg\n",
      "extract image:  ./elsevier_images/test/image/281_gr6.jpeg\n"
     ]
    },
    {
     "name": "stderr",
     "output_type": "stream",
     "text": [
      "WARNING:chemschematicresolver.extract:Confidence of label 1 deemed too low for extraction\n"
     ]
    },
    {
     "name": "stdout",
     "output_type": "stream",
     "text": [
      "extract image:  ./elsevier_images/test/image/281_gr7.jpeg\n"
     ]
    },
    {
     "name": "stderr",
     "output_type": "stream",
     "text": [
      "WARNING:chemschematicresolver.extract:Confidence of label 0 deemed too low for extraction\n"
     ]
    },
    {
     "name": "stdout",
     "output_type": "stream",
     "text": [
      "extract image:  ./elsevier_images/test/image/281_gr8.jpeg\n",
      "extract image:  ./elsevier_images/test/image/281_gr9.jpeg\n"
     ]
    },
    {
     "name": "stderr",
     "output_type": "stream",
     "text": [
      "WARNING:chemschematicresolver.extract:Confidence of label 1 deemed too low for extraction\n"
     ]
    },
    {
     "name": "stdout",
     "output_type": "stream",
     "text": [
      "extract image:  ./elsevier_images/test/image/281_sc1.jpeg\n",
      "extract image:  ./elsevier_images/test/enhanced_image/299_fx1.jpeg\n"
     ]
    },
    {
     "name": "stderr",
     "output_type": "stream",
     "text": [
      "WARNING:chemschematicresolver.extract:Confidence of label 2 deemed too low for extraction\n"
     ]
    },
    {
     "name": "stdout",
     "output_type": "stream",
     "text": [
      "extract image:  ./elsevier_images/test/enhanced_image/299_gr1.jpeg\n"
     ]
    },
    {
     "name": "stderr",
     "output_type": "stream",
     "text": [
      "WARNING:chemschematicresolver.extract:Confidence of label 0 deemed too low for extraction\n"
     ]
    },
    {
     "name": "stdout",
     "output_type": "stream",
     "text": [
      "extract image:  ./elsevier_images/test/enhanced_image/299_gr2.jpeg\n"
     ]
    },
    {
     "name": "stderr",
     "output_type": "stream",
     "text": [
      "WARNING:chemschematicresolver.actions:No SMILES string was extracted for diagram 4\n",
      "WARNING:chemschematicresolver.actions:No SMILES string was extracted for diagram 3\n",
      "WARNING:chemschematicresolver.extract:Some SMILES strings were determined to be false positives and were removed from the output.\n"
     ]
    },
    {
     "name": "stdout",
     "output_type": "stream",
     "text": [
      "extract image:  ./elsevier_images/test/enhanced_image/299_gr3.jpeg\n"
     ]
    },
    {
     "name": "stderr",
     "output_type": "stream",
     "text": [
      "WARNING:chemschematicresolver.actions:No SMILES string was extracted for diagram 2\n",
      "WARNING:chemschematicresolver.extract:Some SMILES strings were determined to be false positives and were removed from the output.\n"
     ]
    },
    {
     "name": "stdout",
     "output_type": "stream",
     "text": [
      "extract image:  ./elsevier_images/test/enhanced_image/299_gr4.jpeg\n"
     ]
    },
    {
     "name": "stderr",
     "output_type": "stream",
     "text": [
      "WARNING:chemschematicresolver.extract:Confidence of label 0 deemed too low for extraction\n",
      "WARNING:chemschematicresolver.actions:No SMILES string was extracted for diagram 3\n",
      "WARNING:chemschematicresolver.extract:Some SMILES strings were determined to be false positives and were removed from the output.\n"
     ]
    },
    {
     "name": "stdout",
     "output_type": "stream",
     "text": [
      "extract image:  ./elsevier_images/test/image/299_gr5.jpeg\n"
     ]
    },
    {
     "name": "stderr",
     "output_type": "stream",
     "text": [
      "WARNING:chemschematicresolver.extract:Confidence of label 0 deemed too low for extraction\n"
     ]
    },
    {
     "name": "stdout",
     "output_type": "stream",
     "text": [
      "extract image:  ./elsevier_images/test/image/299_gr6.jpeg\n"
     ]
    },
    {
     "name": "stderr",
     "output_type": "stream",
     "text": [
      "WARNING:chemschematicresolver.extract:Text could not be resolved from label 4\n",
      "WARNING:chemschematicresolver.extract:Confidence of label 4 deemed too low for extraction\n",
      "WARNING:chemschematicresolver.extract:Text could not be resolved from label 11\n",
      "WARNING:chemschematicresolver.extract:Confidence of label 11 deemed too low for extraction\n",
      "WARNING:chemschematicresolver.extract:Text could not be resolved from label 2\n",
      "WARNING:chemschematicresolver.extract:Confidence of label 2 deemed too low for extraction\n",
      "WARNING:chemschematicresolver.extract:Text could not be resolved from label 15\n",
      "WARNING:chemschematicresolver.extract:Confidence of label 15 deemed too low for extraction\n",
      "WARNING:chemschematicresolver.extract:Text could not be resolved from label 12\n",
      "WARNING:chemschematicresolver.extract:Confidence of label 12 deemed too low for extraction\n",
      "WARNING:chemschematicresolver.extract:Text could not be resolved from label 0\n",
      "WARNING:chemschematicresolver.extract:Confidence of label 0 deemed too low for extraction\n",
      "WARNING:chemschematicresolver.extract:Confidence of label 28 deemed too low for extraction\n",
      "WARNING:chemschematicresolver.extract:Confidence of label 26 deemed too low for extraction\n",
      "WARNING:chemschematicresolver.actions:No SMILES string was extracted for diagram 49\n",
      "WARNING:chemschematicresolver.extract:Confidence of label 21 deemed too low for extraction\n",
      "WARNING:chemschematicresolver.extract:Confidence of label 20 deemed too low for extraction\n",
      "WARNING:chemschematicresolver.extract:Text could not be resolved from label 14\n",
      "WARNING:chemschematicresolver.extract:Confidence of label 14 deemed too low for extraction\n",
      "WARNING:chemschematicresolver.extract:Text could not be resolved from label 19\n",
      "WARNING:chemschematicresolver.extract:Confidence of label 19 deemed too low for extraction\n",
      "WARNING:chemschematicresolver.extract:Text could not be resolved from label 8\n",
      "WARNING:chemschematicresolver.extract:Confidence of label 8 deemed too low for extraction\n",
      "WARNING:chemschematicresolver.extract:Confidence of label 22 deemed too low for extraction\n",
      "WARNING:chemschematicresolver.extract:Text could not be resolved from label 17\n",
      "WARNING:chemschematicresolver.extract:Confidence of label 17 deemed too low for extraction\n",
      "WARNING:chemschematicresolver.extract:Text could not be resolved from label 6\n",
      "WARNING:chemschematicresolver.extract:Confidence of label 6 deemed too low for extraction\n",
      "WARNING:chemschematicresolver.extract:Text could not be resolved from label 13\n",
      "WARNING:chemschematicresolver.extract:Confidence of label 13 deemed too low for extraction\n",
      "WARNING:chemschematicresolver.extract:Text could not be resolved from label 16\n",
      "WARNING:chemschematicresolver.extract:Confidence of label 16 deemed too low for extraction\n",
      "WARNING:chemschematicresolver.extract:Text could not be resolved from label 9\n",
      "WARNING:chemschematicresolver.extract:Confidence of label 9 deemed too low for extraction\n",
      "WARNING:chemschematicresolver.extract:Text could not be resolved from label 5\n",
      "WARNING:chemschematicresolver.extract:Confidence of label 5 deemed too low for extraction\n",
      "WARNING:chemschematicresolver.extract:Text could not be resolved from label 18\n",
      "WARNING:chemschematicresolver.extract:Confidence of label 18 deemed too low for extraction\n",
      "WARNING:chemschematicresolver.extract:Confidence of label 23 deemed too low for extraction\n",
      "WARNING:chemschematicresolver.extract:Text could not be resolved from label 10\n",
      "WARNING:chemschematicresolver.extract:Confidence of label 10 deemed too low for extraction\n",
      "WARNING:chemschematicresolver.extract:Confidence of label 24 deemed too low for extraction\n",
      "WARNING:chemschematicresolver.extract:Some SMILES strings were determined to be false positives and were removed from the output.\n"
     ]
    },
    {
     "name": "stdout",
     "output_type": "stream",
     "text": [
      "extract image:  ./elsevier_images/test/enhanced_image/299_gr7.jpeg\n"
     ]
    },
    {
     "name": "stderr",
     "output_type": "stream",
     "text": [
      "WARNING:chemschematicresolver.extract:Confidence of label 2 deemed too low for extraction\n"
     ]
    },
    {
     "name": "stdout",
     "output_type": "stream",
     "text": [
      "extract image:  ./elsevier_images/test/enhanced_image/299_gr8.jpeg\n"
     ]
    },
    {
     "name": "stderr",
     "output_type": "stream",
     "text": [
      "WARNING:chemschematicresolver.extract:Confidence of label 6 deemed too low for extraction\n",
      "WARNING:chemschematicresolver.actions:No SMILES string was extracted for diagram 12\n",
      "WARNING:chemschematicresolver.extract:Confidence of label 7 deemed too low for extraction\n",
      "WARNING:chemschematicresolver.extract:Text could not be resolved from label 0\n",
      "WARNING:chemschematicresolver.extract:Confidence of label 0 deemed too low for extraction\n",
      "WARNING:chemschematicresolver.extract:Some SMILES strings were determined to be false positives and were removed from the output.\n"
     ]
    },
    {
     "name": "stdout",
     "output_type": "stream",
     "text": [
      "extract image:  ./elsevier_images/test/image/299_gr9.jpeg\n"
     ]
    },
    {
     "name": "stderr",
     "output_type": "stream",
     "text": [
      "WARNING:chemschematicresolver.extract:Confidence of label 3 deemed too low for extraction\n",
      "WARNING:chemschematicresolver.extract:Confidence of label 14 deemed too low for extraction\n",
      "WARNING:chemschematicresolver.extract:Confidence of label 11 deemed too low for extraction\n",
      "WARNING:chemschematicresolver.actions:No SMILES string was extracted for diagram 24\n",
      "WARNING:chemschematicresolver.extract:Confidence of label 1 deemed too low for extraction\n",
      "WARNING:chemschematicresolver.extract:Confidence of label 12 deemed too low for extraction\n",
      "WARNING:chemschematicresolver.extract:Some SMILES strings were determined to be false positives and were removed from the output.\n"
     ]
    },
    {
     "name": "stdout",
     "output_type": "stream",
     "text": [
      "extract image:  ./elsevier_images/test/image/300_fx1.jpeg\n"
     ]
    },
    {
     "name": "stderr",
     "output_type": "stream",
     "text": [
      "WARNING:chemschematicresolver.extract:Text could not be resolved from label 2\n",
      "WARNING:chemschematicresolver.extract:Confidence of label 2 deemed too low for extraction\n",
      "WARNING:chemschematicresolver.extract:Text could not be resolved from label 0\n",
      "WARNING:chemschematicresolver.extract:Confidence of label 0 deemed too low for extraction\n",
      "WARNING:chemschematicresolver.extract:Text could not be resolved from label 4\n",
      "WARNING:chemschematicresolver.extract:Confidence of label 4 deemed too low for extraction\n",
      "WARNING:chemschematicresolver.extract:Text could not be resolved from label 1\n",
      "WARNING:chemschematicresolver.extract:Confidence of label 1 deemed too low for extraction\n",
      "WARNING:chemschematicresolver.extract:Text could not be resolved from label 3\n",
      "WARNING:chemschematicresolver.extract:Confidence of label 3 deemed too low for extraction\n"
     ]
    },
    {
     "name": "stdout",
     "output_type": "stream",
     "text": [
      "extract image:  ./elsevier_images/test/image/300_gr1.jpeg\n"
     ]
    },
    {
     "name": "stderr",
     "output_type": "stream",
     "text": [
      "WARNING:chemschematicresolver.extract:Confidence of label 0 deemed too low for extraction\n"
     ]
    },
    {
     "name": "stdout",
     "output_type": "stream",
     "text": [
      "extract image:  ./elsevier_images/test/image/300_gr2.jpeg\n"
     ]
    },
    {
     "name": "stderr",
     "output_type": "stream",
     "text": [
      "WARNING:chemschematicresolver.extract:Confidence of label 0 deemed too low for extraction\n"
     ]
    },
    {
     "name": "stdout",
     "output_type": "stream",
     "text": [
      "extract image:  ./elsevier_images/test/image/300_gr3.jpeg\n"
     ]
    },
    {
     "name": "stderr",
     "output_type": "stream",
     "text": [
      "WARNING:chemschematicresolver.actions:No SMILES string was extracted for diagram 2\n",
      "WARNING:chemschematicresolver.extract:Some SMILES strings were determined to be false positives and were removed from the output.\n"
     ]
    },
    {
     "name": "stdout",
     "output_type": "stream",
     "text": [
      "extract image:  ./elsevier_images/test/image/300_gr4.jpeg\n"
     ]
    },
    {
     "name": "stderr",
     "output_type": "stream",
     "text": [
      "WARNING:chemschematicresolver.extract:Confidence of label 0 deemed too low for extraction\n"
     ]
    },
    {
     "name": "stdout",
     "output_type": "stream",
     "text": [
      "extract image:  ./elsevier_images/test/image/300_gr5.jpeg\n"
     ]
    },
    {
     "name": "stderr",
     "output_type": "stream",
     "text": [
      "WARNING:chemschematicresolver.extract:Confidence of label 4 deemed too low for extraction\n"
     ]
    },
    {
     "name": "stdout",
     "output_type": "stream",
     "text": [
      "extract image:  ./elsevier_images/test/image/300_gr6.jpeg\n",
      "Runtime error, no smiles\n",
      "extract image:  ./elsevier_images/test/image/300_gr7.jpeg\n",
      "extract image:  ./elsevier_images/test/image/300_sc1.jpeg\n",
      "extract image:  ./elsevier_images/test/enhanced_image/347_fx1.jpeg\n"
     ]
    },
    {
     "name": "stderr",
     "output_type": "stream",
     "text": [
      "WARNING:chemschematicresolver.extract:Confidence of label 1 deemed too low for extraction\n"
     ]
    },
    {
     "name": "stdout",
     "output_type": "stream",
     "text": [
      "extract image:  ./elsevier_images/test/enhanced_image/347_gr1.jpeg\n"
     ]
    },
    {
     "name": "stderr",
     "output_type": "stream",
     "text": [
      "WARNING:chemschematicresolver.actions:No SMILES string was extracted for diagram 17\n",
      "WARNING:chemschematicresolver.actions:No SMILES string was extracted for diagram 18\n",
      "WARNING:chemschematicresolver.extract:Some SMILES strings were determined to be false positives and were removed from the output.\n"
     ]
    },
    {
     "name": "stdout",
     "output_type": "stream",
     "text": [
      "extract image:  ./elsevier_images/test/enhanced_image/347_gr2.jpeg\n"
     ]
    },
    {
     "name": "stderr",
     "output_type": "stream",
     "text": [
      "WARNING:chemschematicresolver.actions:No SMILES string was extracted for diagram 12\n",
      "WARNING:chemschematicresolver.actions:No SMILES string was extracted for diagram 15\n",
      "WARNING:chemschematicresolver.extract:Some SMILES strings were determined to be false positives and were removed from the output.\n"
     ]
    },
    {
     "name": "stdout",
     "output_type": "stream",
     "text": [
      "extract image:  ./elsevier_images/test/enhanced_image/347_gr3.jpeg\n"
     ]
    },
    {
     "name": "stderr",
     "output_type": "stream",
     "text": [
      "WARNING:chemschematicresolver.actions:No SMILES string was extracted for diagram 7\n",
      "WARNING:chemschematicresolver.actions:No SMILES string was extracted for diagram 9\n",
      "WARNING:chemschematicresolver.actions:No SMILES string was extracted for diagram 8\n",
      "WARNING:chemschematicresolver.extract:Some SMILES strings were determined to be false positives and were removed from the output.\n"
     ]
    },
    {
     "name": "stdout",
     "output_type": "stream",
     "text": [
      "extract image:  ./elsevier_images/test/enhanced_image/347_gr4.jpeg\n"
     ]
    },
    {
     "name": "stderr",
     "output_type": "stream",
     "text": [
      "WARNING:chemschematicresolver.actions:No SMILES string was extracted for diagram 14\n",
      "WARNING:chemschematicresolver.extract:Some SMILES strings were determined to be false positives and were removed from the output.\n"
     ]
    },
    {
     "name": "stdout",
     "output_type": "stream",
     "text": [
      "extract image:  ./elsevier_images/test/image/347_gr5.jpeg\n"
     ]
    },
    {
     "name": "stderr",
     "output_type": "stream",
     "text": [
      "WARNING:chemschematicresolver.extract:Confidence of label 13 deemed too low for extraction\n",
      "WARNING:chemschematicresolver.extract:Confidence of label 10 deemed too low for extraction\n",
      "WARNING:chemschematicresolver.extract:Confidence of label 4 deemed too low for extraction\n",
      "WARNING:chemschematicresolver.extract:Confidence of label 8 deemed too low for extraction\n",
      "WARNING:chemschematicresolver.extract:Confidence of label 11 deemed too low for extraction\n",
      "WARNING:chemschematicresolver.actions:No SMILES string was extracted for diagram 18\n",
      "WARNING:chemschematicresolver.extract:Some SMILES strings were determined to be false positives and were removed from the output.\n"
     ]
    },
    {
     "name": "stdout",
     "output_type": "stream",
     "text": [
      "extract image:  ./elsevier_images/test/enhanced_image/347_gr6.jpeg\n"
     ]
    },
    {
     "name": "stderr",
     "output_type": "stream",
     "text": [
      "WARNING:chemschematicresolver.actions:No SMILES string was extracted for diagram 11\n",
      "WARNING:chemschematicresolver.extract:Confidence of label 5 deemed too low for extraction\n",
      "WARNING:chemschematicresolver.actions:No SMILES string was extracted for diagram 14\n",
      "WARNING:chemschematicresolver.actions:No SMILES string was extracted for diagram 13\n",
      "WARNING:chemschematicresolver.extract:Some SMILES strings were determined to be false positives and were removed from the output.\n"
     ]
    },
    {
     "name": "stdout",
     "output_type": "stream",
     "text": [
      "extract image:  ./elsevier_images/test/enhanced_image/347_gr7.jpeg\n"
     ]
    },
    {
     "name": "stderr",
     "output_type": "stream",
     "text": [
      "WARNING:chemschematicresolver.extract:Confidence of label 3 deemed too low for extraction\n"
     ]
    },
    {
     "name": "stdout",
     "output_type": "stream",
     "text": [
      "extract image:  ./elsevier_images/test/enhanced_image/347_gr8.jpeg\n"
     ]
    },
    {
     "name": "stderr",
     "output_type": "stream",
     "text": [
      "WARNING:chemschematicresolver.actions:No SMILES string was extracted for diagram 11\n",
      "WARNING:chemschematicresolver.extract:Some SMILES strings were determined to be false positives and were removed from the output.\n"
     ]
    },
    {
     "name": "stdout",
     "output_type": "stream",
     "text": [
      "extract image:  ./elsevier_images/test/image/347_sc1.jpeg\n"
     ]
    },
    {
     "name": "stderr",
     "output_type": "stream",
     "text": [
      "WARNING:chemschematicresolver.extract:Confidence of label 4 deemed too low for extraction\n",
      "WARNING:chemschematicresolver.extract:Confidence of label 19 deemed too low for extraction\n",
      "WARNING:chemschematicresolver.extract:Confidence of label 10 deemed too low for extraction\n",
      "WARNING:chemschematicresolver.extract:Confidence of label 2 deemed too low for extraction\n"
     ]
    },
    {
     "name": "stdout",
     "output_type": "stream",
     "text": [
      "extract image:  ./elsevier_images/test/enhanced_image/377_gr1.jpeg\n"
     ]
    },
    {
     "name": "stderr",
     "output_type": "stream",
     "text": [
      "WARNING:chemschematicresolver.actions:No SMILES string was extracted for diagram 9\n",
      "WARNING:chemschematicresolver.actions:No SMILES string was extracted for diagram 7\n",
      "WARNING:chemschematicresolver.actions:No SMILES string was extracted for diagram 10\n",
      "WARNING:chemschematicresolver.extract:Some SMILES strings were determined to be false positives and were removed from the output.\n"
     ]
    },
    {
     "name": "stdout",
     "output_type": "stream",
     "text": [
      "extract image:  ./elsevier_images/test/enhanced_image/377_gr2.jpeg\n"
     ]
    },
    {
     "name": "stderr",
     "output_type": "stream",
     "text": [
      "WARNING:chemschematicresolver.actions:No SMILES string was extracted for diagram 8\n",
      "WARNING:chemschematicresolver.actions:No SMILES string was extracted for diagram 13\n",
      "WARNING:chemschematicresolver.actions:No SMILES string was extracted for diagram 15\n",
      "WARNING:chemschematicresolver.actions:No SMILES string was extracted for diagram 9\n",
      "WARNING:chemschematicresolver.extract:Confidence of label 2 deemed too low for extraction\n",
      "WARNING:chemschematicresolver.extract:Some SMILES strings were determined to be false positives and were removed from the output.\n"
     ]
    },
    {
     "name": "stdout",
     "output_type": "stream",
     "text": [
      "extract image:  ./elsevier_images/test/enhanced_image/377_gr3.jpeg\n"
     ]
    },
    {
     "name": "stderr",
     "output_type": "stream",
     "text": [
      "WARNING:chemschematicresolver.extract:Confidence of label 1 deemed too low for extraction\n"
     ]
    },
    {
     "name": "stdout",
     "output_type": "stream",
     "text": [
      "extract image:  ./elsevier_images/test/enhanced_image/377_gr4.jpeg\n"
     ]
    },
    {
     "name": "stderr",
     "output_type": "stream",
     "text": [
      "WARNING:chemschematicresolver.actions:No SMILES string was extracted for diagram 7\n",
      "WARNING:chemschematicresolver.actions:No SMILES string was extracted for diagram 5\n",
      "WARNING:chemschematicresolver.actions:No SMILES string was extracted for diagram 6\n",
      "WARNING:chemschematicresolver.extract:Some SMILES strings were determined to be false positives and were removed from the output.\n"
     ]
    },
    {
     "name": "stdout",
     "output_type": "stream",
     "text": [
      "extract image:  ./elsevier_images/test/enhanced_image/377_gr5.jpeg\n"
     ]
    },
    {
     "name": "stderr",
     "output_type": "stream",
     "text": [
      "WARNING:chemschematicresolver.extract:Confidence of label 0 deemed too low for extraction\n"
     ]
    },
    {
     "name": "stdout",
     "output_type": "stream",
     "text": [
      "extract image:  ./elsevier_images/test/enhanced_image/377_sc1.jpeg\n"
     ]
    },
    {
     "name": "stderr",
     "output_type": "stream",
     "text": [
      "WARNING:chemschematicresolver.r_group:No SMILES strings were extracted for diagram 14\n",
      "WARNING:chemschematicresolver.r_group:No SMILES strings were extracted for diagram 15\n",
      "WARNING:chemschematicresolver.extract:Confidence of label 4 deemed too low for extraction\n",
      "WARNING:chemschematicresolver.actions:No SMILES string was extracted for diagram 18\n",
      "WARNING:chemschematicresolver.extract:Some SMILES strings were determined to be false positives and were removed from the output.\n"
     ]
    },
    {
     "name": "stdout",
     "output_type": "stream",
     "text": [
      "extract image:  ./elsevier_images/test/enhanced_image/379_fx1.jpeg\n"
     ]
    },
    {
     "name": "stderr",
     "output_type": "stream",
     "text": [
      "WARNING:chemschematicresolver.extract:Confidence of label 0 deemed too low for extraction\n",
      "WARNING:chemschematicresolver.extract:Confidence of label 1 deemed too low for extraction\n"
     ]
    },
    {
     "name": "stdout",
     "output_type": "stream",
     "text": [
      "extract image:  ./elsevier_images/test/enhanced_image/379_gr1.jpeg\n"
     ]
    },
    {
     "name": "stderr",
     "output_type": "stream",
     "text": [
      "WARNING:chemschematicresolver.actions:No SMILES string was extracted for diagram 3\n",
      "WARNING:chemschematicresolver.extract:Some SMILES strings were determined to be false positives and were removed from the output.\n"
     ]
    },
    {
     "name": "stdout",
     "output_type": "stream",
     "text": [
      "extract image:  ./elsevier_images/test/enhanced_image/379_gr2.jpeg\n"
     ]
    },
    {
     "name": "stderr",
     "output_type": "stream",
     "text": [
      "WARNING:chemschematicresolver.actions:No SMILES string was extracted for diagram 6\n",
      "WARNING:chemschematicresolver.extract:Confidence of label 4 deemed too low for extraction\n",
      "WARNING:chemschematicresolver.extract:Some SMILES strings were determined to be false positives and were removed from the output.\n"
     ]
    },
    {
     "name": "stdout",
     "output_type": "stream",
     "text": [
      "extract image:  ./elsevier_images/test/image/379_gr3.jpeg\n"
     ]
    },
    {
     "name": "stderr",
     "output_type": "stream",
     "text": [
      "WARNING:chemschematicresolver.extract:Confidence of label 1 deemed too low for extraction\n",
      "WARNING:chemschematicresolver.extract:Confidence of label 2 deemed too low for extraction\n",
      "WARNING:chemschematicresolver.extract:Confidence of label 0 deemed too low for extraction\n"
     ]
    },
    {
     "name": "stdout",
     "output_type": "stream",
     "text": [
      "extract image:  ./elsevier_images/test/image/379_gr4.jpeg\n"
     ]
    },
    {
     "name": "stderr",
     "output_type": "stream",
     "text": [
      "WARNING:chemschematicresolver.extract:Confidence of label 0 deemed too low for extraction\n"
     ]
    },
    {
     "name": "stdout",
     "output_type": "stream",
     "text": [
      "extract image:  ./elsevier_images/test/enhanced_image/379_gr5.jpeg\n"
     ]
    },
    {
     "name": "stderr",
     "output_type": "stream",
     "text": [
      "WARNING:chemschematicresolver.extract:Confidence of label 0 deemed too low for extraction\n"
     ]
    },
    {
     "name": "stdout",
     "output_type": "stream",
     "text": [
      "extract image:  ./elsevier_images/test/image/379_sc1.jpeg\n"
     ]
    },
    {
     "name": "stderr",
     "output_type": "stream",
     "text": [
      "WARNING:chemschematicresolver.extract:Confidence of label 13 deemed too low for extraction\n",
      "WARNING:chemschematicresolver.extract:Confidence of label 1 deemed too low for extraction\n",
      "WARNING:chemschematicresolver.extract:Confidence of label 16 deemed too low for extraction\n",
      "WARNING:chemschematicresolver.extract:Confidence of label 11 deemed too low for extraction\n",
      "WARNING:chemschematicresolver.extract:Confidence of label 14 deemed too low for extraction\n",
      "WARNING:chemschematicresolver.actions:No SMILES string was extracted for diagram 22\n",
      "WARNING:chemschematicresolver.extract:Confidence of label 15 deemed too low for extraction\n",
      "WARNING:chemschematicresolver.extract:Text could not be resolved from label 7\n",
      "WARNING:chemschematicresolver.extract:Confidence of label 7 deemed too low for extraction\n",
      "WARNING:chemschematicresolver.extract:Confidence of label 0 deemed too low for extraction\n",
      "WARNING:chemschematicresolver.extract:Some SMILES strings were determined to be false positives and were removed from the output.\n"
     ]
    },
    {
     "name": "stdout",
     "output_type": "stream",
     "text": [
      "extract image:  ./elsevier_images/test/image/379_sc2.jpeg\n"
     ]
    },
    {
     "name": "stderr",
     "output_type": "stream",
     "text": [
      "WARNING:chemschematicresolver.extract:Confidence of label 2 deemed too low for extraction\n",
      "WARNING:chemschematicresolver.extract:Confidence of label 0 deemed too low for extraction\n",
      "WARNING:chemschematicresolver.r_group:No SMILES strings were extracted for diagram 14\n",
      "WARNING:chemschematicresolver.r_group:No SMILES strings were extracted for diagram 11\n"
     ]
    },
    {
     "name": "stdout",
     "output_type": "stream",
     "text": [
      "extract image:  ./elsevier_images/test/enhanced_image/391_fx1.jpeg\n"
     ]
    },
    {
     "name": "stderr",
     "output_type": "stream",
     "text": [
      "WARNING:chemschematicresolver.extract:Confidence of label 0 deemed too low for extraction\n",
      "WARNING:chemschematicresolver.extract:Confidence of label 1 deemed too low for extraction\n"
     ]
    },
    {
     "name": "stdout",
     "output_type": "stream",
     "text": [
      "extract image:  ./elsevier_images/test/enhanced_image/391_gr1.jpeg\n"
     ]
    },
    {
     "name": "stderr",
     "output_type": "stream",
     "text": [
      "WARNING:chemschematicresolver.actions:No SMILES string was extracted for diagram 3\n",
      "WARNING:chemschematicresolver.extract:Confidence of label 2 deemed too low for extraction\n",
      "WARNING:chemschematicresolver.extract:Some SMILES strings were determined to be false positives and were removed from the output.\n"
     ]
    },
    {
     "name": "stdout",
     "output_type": "stream",
     "text": [
      "extract image:  ./elsevier_images/test/enhanced_image/391_gr2.jpeg\n"
     ]
    },
    {
     "name": "stderr",
     "output_type": "stream",
     "text": [
      "WARNING:chemschematicresolver.extract:Confidence of label 1 deemed too low for extraction\n"
     ]
    },
    {
     "name": "stdout",
     "output_type": "stream",
     "text": [
      "extract image:  ./elsevier_images/test/enhanced_image/391_gr3.jpeg\n"
     ]
    },
    {
     "name": "stderr",
     "output_type": "stream",
     "text": [
      "WARNING:chemschematicresolver.extract:Confidence of label 3 deemed too low for extraction\n",
      "WARNING:chemschematicresolver.actions:No SMILES string was extracted for diagram 7\n",
      "WARNING:chemschematicresolver.actions:No SMILES string was extracted for diagram 5\n",
      "WARNING:chemschematicresolver.extract:Some SMILES strings were determined to be false positives and were removed from the output.\n"
     ]
    },
    {
     "name": "stdout",
     "output_type": "stream",
     "text": [
      "extract image:  ./elsevier_images/test/enhanced_image/391_gr4.jpeg\n"
     ]
    },
    {
     "name": "stderr",
     "output_type": "stream",
     "text": [
      "WARNING:chemschematicresolver.actions:No SMILES string was extracted for diagram 3\n",
      "WARNING:chemschematicresolver.actions:No SMILES string was extracted for diagram 4\n",
      "WARNING:chemschematicresolver.extract:Some SMILES strings were determined to be false positives and were removed from the output.\n"
     ]
    },
    {
     "name": "stdout",
     "output_type": "stream",
     "text": [
      "extract image:  ./elsevier_images/test/enhanced_image/391_gr5.jpeg\n"
     ]
    },
    {
     "name": "stderr",
     "output_type": "stream",
     "text": [
      "WARNING:chemschematicresolver.actions:No SMILES string was extracted for diagram 5\n",
      "WARNING:chemschematicresolver.actions:No SMILES string was extracted for diagram 4\n",
      "WARNING:chemschematicresolver.extract:Some SMILES strings were determined to be false positives and were removed from the output.\n"
     ]
    },
    {
     "name": "stdout",
     "output_type": "stream",
     "text": [
      "extract image:  ./elsevier_images/test/image/391_gr6.jpeg\n"
     ]
    },
    {
     "name": "stderr",
     "output_type": "stream",
     "text": [
      "WARNING:chemschematicresolver.extract:Text could not be resolved from label 5\n",
      "WARNING:chemschematicresolver.extract:Confidence of label 5 deemed too low for extraction\n",
      "WARNING:chemschematicresolver.extract:Text could not be resolved from label 22\n",
      "WARNING:chemschematicresolver.extract:Confidence of label 22 deemed too low for extraction\n",
      "WARNING:chemschematicresolver.extract:Confidence of label 30 deemed too low for extraction\n",
      "WARNING:chemschematicresolver.extract:Text could not be resolved from label 20\n",
      "WARNING:chemschematicresolver.extract:Confidence of label 20 deemed too low for extraction\n",
      "WARNING:chemschematicresolver.extract:Text could not be resolved from label 6\n",
      "WARNING:chemschematicresolver.extract:Confidence of label 6 deemed too low for extraction\n",
      "WARNING:chemschematicresolver.extract:Confidence of label 32 deemed too low for extraction\n",
      "WARNING:chemschematicresolver.extract:Text could not be resolved from label 19\n",
      "WARNING:chemschematicresolver.extract:Confidence of label 19 deemed too low for extraction\n",
      "WARNING:chemschematicresolver.extract:Confidence of label 28 deemed too low for extraction\n",
      "WARNING:chemschematicresolver.actions:No SMILES string was extracted for diagram 40\n",
      "WARNING:chemschematicresolver.actions:No SMILES string was extracted for diagram 52\n",
      "WARNING:chemschematicresolver.extract:Confidence of label 9 deemed too low for extraction\n",
      "WARNING:chemschematicresolver.extract:Confidence of label 2 deemed too low for extraction\n",
      "WARNING:chemschematicresolver.extract:Confidence of label 0 deemed too low for extraction\n",
      "WARNING:chemschematicresolver.extract:Text could not be resolved from label 14\n",
      "WARNING:chemschematicresolver.extract:Confidence of label 14 deemed too low for extraction\n",
      "WARNING:chemschematicresolver.extract:Some SMILES strings were determined to be false positives and were removed from the output.\n"
     ]
    },
    {
     "name": "stdout",
     "output_type": "stream",
     "text": [
      "extract image:  ./elsevier_images/test/image/391_sc1.jpeg\n"
     ]
    },
    {
     "name": "stderr",
     "output_type": "stream",
     "text": [
      "WARNING:chemschematicresolver.extract:Confidence of label 23 deemed too low for extraction\n",
      "WARNING:chemschematicresolver.extract:Text could not be resolved from label 1\n",
      "WARNING:chemschematicresolver.extract:Confidence of label 1 deemed too low for extraction\n",
      "WARNING:chemschematicresolver.extract:Confidence of label 10 deemed too low for extraction\n",
      "WARNING:chemschematicresolver.extract:Confidence of label 6 deemed too low for extraction\n",
      "WARNING:chemschematicresolver.extract:Confidence of label 18 deemed too low for extraction\n",
      "WARNING:chemschematicresolver.extract:Confidence of label 22 deemed too low for extraction\n",
      "WARNING:chemschematicresolver.extract:Confidence of label 24 deemed too low for extraction\n",
      "WARNING:chemschematicresolver.extract:Text could not be resolved from label 0\n",
      "WARNING:chemschematicresolver.extract:Confidence of label 0 deemed too low for extraction\n",
      "WARNING:chemschematicresolver.extract:Confidence of label 20 deemed too low for extraction\n",
      "WARNING:chemschematicresolver.extract:Confidence of label 3 deemed too low for extraction\n",
      "WARNING:chemschematicresolver.extract:Confidence of label 4 deemed too low for extraction\n",
      "WARNING:chemschematicresolver.extract:Confidence of label 17 deemed too low for extraction\n",
      "WARNING:chemschematicresolver.extract:Confidence of label 21 deemed too low for extraction\n",
      "WARNING:chemschematicresolver.extract:Confidence of label 19 deemed too low for extraction\n"
     ]
    },
    {
     "name": "stdout",
     "output_type": "stream",
     "text": [
      "extract image:  ./elsevier_images/test/enhanced_image/392_gr1.jpeg\n"
     ]
    },
    {
     "name": "stderr",
     "output_type": "stream",
     "text": [
      "WARNING:chemschematicresolver.extract:Confidence of label 0 deemed too low for extraction\n"
     ]
    },
    {
     "name": "stdout",
     "output_type": "stream",
     "text": [
      "extract image:  ./elsevier_images/test/enhanced_image/392_gr2.jpeg\n"
     ]
    },
    {
     "name": "stderr",
     "output_type": "stream",
     "text": [
      "WARNING:chemschematicresolver.actions:No SMILES string was extracted for diagram 2\n",
      "WARNING:chemschematicresolver.extract:Some SMILES strings were determined to be false positives and were removed from the output.\n"
     ]
    },
    {
     "name": "stdout",
     "output_type": "stream",
     "text": [
      "extract image:  ./elsevier_images/test/enhanced_image/392_gr3.jpeg\n"
     ]
    },
    {
     "name": "stderr",
     "output_type": "stream",
     "text": [
      "WARNING:chemschematicresolver.extract:Confidence of label 0 deemed too low for extraction\n"
     ]
    },
    {
     "name": "stdout",
     "output_type": "stream",
     "text": [
      "extract image:  ./elsevier_images/test/enhanced_image/392_gr4.jpeg\n"
     ]
    },
    {
     "name": "stderr",
     "output_type": "stream",
     "text": [
      "WARNING:chemschematicresolver.extract:Confidence of label 3 deemed too low for extraction\n"
     ]
    },
    {
     "name": "stdout",
     "output_type": "stream",
     "text": [
      "extract image:  ./elsevier_images/test/enhanced_image/392_gr5.jpeg\n"
     ]
    },
    {
     "name": "stderr",
     "output_type": "stream",
     "text": [
      "WARNING:chemschematicresolver.actions:No SMILES string was extracted for diagram 6\n",
      "WARNING:chemschematicresolver.extract:Some SMILES strings were determined to be false positives and were removed from the output.\n"
     ]
    },
    {
     "name": "stdout",
     "output_type": "stream",
     "text": [
      "extract image:  ./elsevier_images/test/enhanced_image/392_gr6.jpeg\n"
     ]
    },
    {
     "name": "stderr",
     "output_type": "stream",
     "text": [
      "WARNING:chemschematicresolver.actions:No SMILES string was extracted for diagram 4\n",
      "WARNING:chemschematicresolver.extract:Confidence of label 3 deemed too low for extraction\n",
      "WARNING:chemschematicresolver.extract:Some SMILES strings were determined to be false positives and were removed from the output.\n"
     ]
    },
    {
     "name": "stdout",
     "output_type": "stream",
     "text": [
      "extract image:  ./elsevier_images/test/enhanced_image/392_gr7.jpeg\n"
     ]
    },
    {
     "name": "stderr",
     "output_type": "stream",
     "text": [
      "WARNING:chemschematicresolver.actions:No SMILES string was extracted for diagram 3\n",
      "WARNING:chemschematicresolver.extract:Some SMILES strings were determined to be false positives and were removed from the output.\n"
     ]
    },
    {
     "name": "stdout",
     "output_type": "stream",
     "text": [
      "extract image:  ./elsevier_images/test/image/392_sc1.jpeg\n"
     ]
    },
    {
     "name": "stderr",
     "output_type": "stream",
     "text": [
      "WARNING:chemschematicresolver.extract:Confidence of label 6 deemed too low for extraction\n",
      "WARNING:chemschematicresolver.actions:No SMILES string was extracted for diagram 7\n",
      "WARNING:chemschematicresolver.extract:Some SMILES strings were determined to be false positives and were removed from the output.\n"
     ]
    },
    {
     "name": "stdout",
     "output_type": "stream",
     "text": [
      "extract image:  ./elsevier_images/test/enhanced_image/392_sc2.jpeg\n"
     ]
    },
    {
     "name": "stderr",
     "output_type": "stream",
     "text": [
      "WARNING:chemschematicresolver.extract:Confidence of label 0 deemed too low for extraction\n",
      "WARNING:chemschematicresolver.extract:Confidence of label 1 deemed too low for extraction\n"
     ]
    },
    {
     "name": "stdout",
     "output_type": "stream",
     "text": [
      "extract image:  ./elsevier_images/test/image/423_fx1.jpeg\n"
     ]
    },
    {
     "name": "stderr",
     "output_type": "stream",
     "text": [
      "WARNING:chemschematicresolver.extract:Confidence of label 1 deemed too low for extraction\n"
     ]
    },
    {
     "name": "stdout",
     "output_type": "stream",
     "text": [
      "extract image:  ./elsevier_images/test/image/423_gr1.jpeg\n"
     ]
    },
    {
     "name": "stderr",
     "output_type": "stream",
     "text": [
      "WARNING:chemschematicresolver.actions:No SMILES string was extracted for diagram 16\n",
      "WARNING:chemschematicresolver.actions:No SMILES string was extracted for diagram 19\n",
      "WARNING:chemschematicresolver.actions:No SMILES string was extracted for diagram 11\n",
      "WARNING:chemschematicresolver.actions:No SMILES string was extracted for diagram 18\n",
      "WARNING:chemschematicresolver.extract:Confidence of label 2 deemed too low for extraction\n",
      "WARNING:chemschematicresolver.extract:Confidence of label 0 deemed too low for extraction\n",
      "WARNING:chemschematicresolver.actions:No SMILES string was extracted for diagram 10\n",
      "WARNING:chemschematicresolver.actions:No SMILES string was extracted for diagram 17\n",
      "WARNING:chemschematicresolver.actions:No SMILES string was extracted for diagram 13\n",
      "WARNING:chemschematicresolver.extract:Some SMILES strings were determined to be false positives and were removed from the output.\n"
     ]
    },
    {
     "name": "stdout",
     "output_type": "stream",
     "text": [
      "extract image:  ./elsevier_images/test/image/423_gr2.jpeg\n"
     ]
    },
    {
     "name": "stderr",
     "output_type": "stream",
     "text": [
      "WARNING:chemschematicresolver.extract:Confidence of label 0 deemed too low for extraction\n",
      "WARNING:chemschematicresolver.actions:No SMILES string was extracted for diagram 6\n",
      "WARNING:chemschematicresolver.extract:Confidence of label 3 deemed too low for extraction\n",
      "WARNING:chemschematicresolver.extract:Confidence of label 4 deemed too low for extraction\n",
      "WARNING:chemschematicresolver.extract:Some SMILES strings were determined to be false positives and were removed from the output.\n"
     ]
    },
    {
     "name": "stdout",
     "output_type": "stream",
     "text": [
      "extract image:  ./elsevier_images/test/image/423_gr3.jpeg\n"
     ]
    },
    {
     "name": "stderr",
     "output_type": "stream",
     "text": [
      "WARNING:chemschematicresolver.extract:Confidence of label 0 deemed too low for extraction\n"
     ]
    },
    {
     "name": "stdout",
     "output_type": "stream",
     "text": [
      "extract image:  ./elsevier_images/test/image/423_gr4.jpeg\n"
     ]
    },
    {
     "name": "stderr",
     "output_type": "stream",
     "text": [
      "WARNING:chemschematicresolver.extract:Confidence of label 1 deemed too low for extraction\n"
     ]
    },
    {
     "name": "stdout",
     "output_type": "stream",
     "text": [
      "extract image:  ./elsevier_images/test/image/423_gr5.jpeg\n"
     ]
    },
    {
     "name": "stderr",
     "output_type": "stream",
     "text": [
      "WARNING:chemschematicresolver.extract:Confidence of label 1 deemed too low for extraction\n",
      "WARNING:chemschematicresolver.extract:Confidence of label 9 deemed too low for extraction\n",
      "WARNING:chemschematicresolver.extract:Confidence of label 4 deemed too low for extraction\n"
     ]
    },
    {
     "name": "stdout",
     "output_type": "stream",
     "text": [
      "extract image:  ./elsevier_images/test/image/458_Bing_Guo_wide_bandgap_2017_P01.jpeg\n",
      "extract image:  ./elsevier_images/test/image/458_Bing_Guo_wide_bandgap_2017_P02.jpeg\n",
      "extract image:  ./elsevier_images/test/image/458_Bing_Guo_wide_bandgap_2017_P03.jpeg\n",
      "extract image:  ./elsevier_images/test/image/458_Bing_Guo_wide_bandgap_2017_P04.jpeg\n",
      "extract image:  ./elsevier_images/test/image/458_Bing_Guo_wide_bandgap_2017_P05.jpeg\n",
      "extract image:  ./elsevier_images/test/image/458_Bing_Guo_wide_bandgap_2017_P06.jpeg\n",
      "extract image:  ./elsevier_images/test/image/458_Bing_Guo_wide_bandgap_2017_P07.jpeg\n",
      "extract image:  ./elsevier_images/test/image/458_Bing_Guo_wide_bandgap_2017_P08.jpeg\n",
      "extract image:  ./elsevier_images/test/image/458_Bing_Guo_wide_bandgap_2017_P09.jpeg\n",
      "extract image:  ./elsevier_images/test/image/458_Bing_Guo_wide_bandgap_2017_P10.jpeg\n",
      "extract image:  ./elsevier_images/test/image/458_Bing_Guo_wide_bandgap_2017_P11.jpeg\n",
      "extract image:  ./elsevier_images/test/image/458_Bing_Guo_wide_bandgap_2017_P12.jpeg\n",
      "extract image:  ./elsevier_images/test/image/458_Bing_Guo_wide_bandgap_2017_P13.jpeg\n",
      "extract image:  ./elsevier_images/test/image/458_Bing_Guo_wide_bandgap_2017_P14.jpeg\n",
      "extract image:  ./elsevier_images/test/image/458_Bing_Guo_wide_bandgap_2017_P15.jpeg\n",
      "extract image:  ./elsevier_images/test/image/458_Bing_Guo_wide_bandgap_2017_P16.jpeg\n",
      "extract image:  ./elsevier_images/test/image/458_Bing_Guo_wide_bandgap_2017_P17.jpeg\n",
      "extract image:  ./elsevier_images/test/image/458_Bing_Guo_wide_bandgap_2017_P18.jpeg\n",
      "extract image:  ./elsevier_images/test/image/458_Bing_Guo_wide_bandgap_2017_P19.jpeg\n",
      "extract image:  ./elsevier_images/test/image/458_fx1.jpeg\n"
     ]
    },
    {
     "name": "stderr",
     "output_type": "stream",
     "text": [
      "WARNING:chemschematicresolver.actions:No SMILES string was extracted for diagram 5\n",
      "WARNING:chemschematicresolver.actions:No SMILES string was extracted for diagram 4\n",
      "WARNING:chemschematicresolver.extract:Some SMILES strings were determined to be false positives and were removed from the output.\n"
     ]
    },
    {
     "name": "stdout",
     "output_type": "stream",
     "text": [
      "extract image:  ./elsevier_images/test/image/458_gr1.jpeg\n"
     ]
    },
    {
     "name": "stderr",
     "output_type": "stream",
     "text": [
      "WARNING:chemschematicresolver.extract:Confidence of label 6 deemed too low for extraction\n"
     ]
    },
    {
     "name": "stdout",
     "output_type": "stream",
     "text": [
      "extract image:  ./elsevier_images/test/image/458_gr2.jpeg\n",
      "extract image:  ./elsevier_images/test/image/458_gr3.jpeg\n"
     ]
    },
    {
     "name": "stderr",
     "output_type": "stream",
     "text": [
      "WARNING:chemschematicresolver.actions:No SMILES string was extracted for diagram 4\n",
      "WARNING:chemschematicresolver.actions:No SMILES string was extracted for diagram 3\n",
      "WARNING:chemschematicresolver.extract:Some SMILES strings were determined to be false positives and were removed from the output.\n"
     ]
    },
    {
     "name": "stdout",
     "output_type": "stream",
     "text": [
      "extract image:  ./elsevier_images/test/image/458_gr4.jpeg\n",
      "extract image:  ./elsevier_images/test/image/458_gr5.jpeg\n",
      "Runtime error, no smiles\n",
      "extract image:  ./elsevier_images/test/image/463_fx1.jpeg\n",
      "extract image:  ./elsevier_images/test/image/463_gr1.jpeg\n"
     ]
    },
    {
     "name": "stderr",
     "output_type": "stream",
     "text": [
      "WARNING:chemschematicresolver.actions:No SMILES string was extracted for diagram 3\n",
      "WARNING:chemschematicresolver.actions:No SMILES string was extracted for diagram 4\n",
      "WARNING:chemschematicresolver.extract:Some SMILES strings were determined to be false positives and were removed from the output.\n"
     ]
    },
    {
     "name": "stdout",
     "output_type": "stream",
     "text": [
      "extract image:  ./elsevier_images/test/image/463_gr2.jpeg\n"
     ]
    },
    {
     "name": "stderr",
     "output_type": "stream",
     "text": [
      "WARNING:chemschematicresolver.actions:No SMILES string was extracted for diagram 17\n",
      "WARNING:chemschematicresolver.extract:Confidence of label 7 deemed too low for extraction\n",
      "WARNING:chemschematicresolver.extract:Confidence of label 8 deemed too low for extraction\n",
      "WARNING:chemschematicresolver.extract:Some SMILES strings were determined to be false positives and were removed from the output.\n"
     ]
    },
    {
     "name": "stdout",
     "output_type": "stream",
     "text": [
      "extract image:  ./elsevier_images/test/image/463_gr3.jpeg\n",
      "extract image:  ./elsevier_images/test/image/463_gr4.jpeg\n"
     ]
    },
    {
     "name": "stderr",
     "output_type": "stream",
     "text": [
      "WARNING:chemschematicresolver.actions:No SMILES string was extracted for diagram 25\n",
      "WARNING:chemschematicresolver.actions:No SMILES string was extracted for diagram 22\n",
      "WARNING:chemschematicresolver.actions:No SMILES string was extracted for diagram 28\n",
      "WARNING:chemschematicresolver.actions:No SMILES string was extracted for diagram 27\n",
      "WARNING:chemschematicresolver.actions:No SMILES string was extracted for diagram 21\n",
      "WARNING:chemschematicresolver.extract:Some SMILES strings were determined to be false positives and were removed from the output.\n"
     ]
    },
    {
     "name": "stdout",
     "output_type": "stream",
     "text": [
      "extract image:  ./elsevier_images/test/image/463_gr5.jpeg\n",
      "extract image:  ./elsevier_images/test/image/463_gr6.jpeg\n",
      "extract image:  ./elsevier_images/test/image/463_gr7.jpeg\n",
      "extract image:  ./elsevier_images/test/image/463_sc1.jpeg\n",
      "extract image:  ./elsevier_images/test/image/464_fx1.jpeg\n"
     ]
    },
    {
     "name": "stderr",
     "output_type": "stream",
     "text": [
      "WARNING:chemschematicresolver.extract:Text could not be resolved from label 0\n",
      "WARNING:chemschematicresolver.extract:Confidence of label 0 deemed too low for extraction\n",
      "WARNING:chemschematicresolver.extract:Confidence of label 3 deemed too low for extraction\n",
      "WARNING:chemschematicresolver.extract:Confidence of label 1 deemed too low for extraction\n"
     ]
    },
    {
     "name": "stdout",
     "output_type": "stream",
     "text": [
      "extract image:  ./elsevier_images/test/image/464_gr1.jpeg\n"
     ]
    },
    {
     "name": "stderr",
     "output_type": "stream",
     "text": [
      "WARNING:chemschematicresolver.actions:No SMILES string was extracted for diagram 5\n",
      "WARNING:chemschematicresolver.actions:No SMILES string was extracted for diagram 4\n",
      "WARNING:chemschematicresolver.extract:Some SMILES strings were determined to be false positives and were removed from the output.\n"
     ]
    },
    {
     "name": "stdout",
     "output_type": "stream",
     "text": [
      "extract image:  ./elsevier_images/test/image/464_gr2.jpeg\n"
     ]
    },
    {
     "name": "stderr",
     "output_type": "stream",
     "text": [
      "WARNING:chemschematicresolver.actions:No SMILES string was extracted for diagram 7\n",
      "WARNING:chemschematicresolver.actions:No SMILES string was extracted for diagram 5\n",
      "WARNING:chemschematicresolver.extract:Confidence of label 0 deemed too low for extraction\n",
      "WARNING:chemschematicresolver.extract:Some SMILES strings were determined to be false positives and were removed from the output.\n"
     ]
    },
    {
     "name": "stdout",
     "output_type": "stream",
     "text": [
      "extract image:  ./elsevier_images/test/image/464_gr3.jpeg\n",
      "extract image:  ./elsevier_images/test/image/464_gr4.jpeg\n"
     ]
    },
    {
     "name": "stderr",
     "output_type": "stream",
     "text": [
      "WARNING:chemschematicresolver.extract:Confidence of label 5 deemed too low for extraction\n",
      "WARNING:chemschematicresolver.actions:No SMILES string was extracted for diagram 7\n",
      "WARNING:chemschematicresolver.extract:Confidence of label 0 deemed too low for extraction\n",
      "WARNING:chemschematicresolver.extract:Confidence of label 4 deemed too low for extraction\n",
      "WARNING:chemschematicresolver.extract:Some SMILES strings were determined to be false positives and were removed from the output.\n"
     ]
    },
    {
     "name": "stdout",
     "output_type": "stream",
     "text": [
      "extract image:  ./elsevier_images/test/image/464_gr5.jpeg\n",
      "extract image:  ./elsevier_images/test/image/464_gr6.jpeg\n"
     ]
    },
    {
     "name": "stderr",
     "output_type": "stream",
     "text": [
      "WARNING:chemschematicresolver.actions:No SMILES string was extracted for diagram 3\n",
      "WARNING:chemschematicresolver.actions:No SMILES string was extracted for diagram 4\n",
      "WARNING:chemschematicresolver.extract:Some SMILES strings were determined to be false positives and were removed from the output.\n"
     ]
    },
    {
     "name": "stdout",
     "output_type": "stream",
     "text": [
      "extract image:  ./elsevier_images/test/image/464_sc1.jpeg\n",
      "extract image:  ./elsevier_images/test/image/465_fx1.jpeg\n",
      "Runtime error, no smiles\n",
      "extract image:  ./elsevier_images/test/image/465_gr1.jpeg\n"
     ]
    },
    {
     "name": "stderr",
     "output_type": "stream",
     "text": [
      "WARNING:chemschematicresolver.actions:No SMILES string was extracted for diagram 4\n",
      "WARNING:chemschematicresolver.actions:No SMILES string was extracted for diagram 3\n",
      "WARNING:chemschematicresolver.extract:Some SMILES strings were determined to be false positives and were removed from the output.\n"
     ]
    },
    {
     "name": "stdout",
     "output_type": "stream",
     "text": [
      "extract image:  ./elsevier_images/test/image/465_gr2.jpeg\n",
      "Runtime error, no smiles\n",
      "extract image:  ./elsevier_images/test/image/465_gr3.jpeg\n",
      "Runtime error, no smiles\n",
      "extract image:  ./elsevier_images/test/image/465_gr4.jpeg\n"
     ]
    },
    {
     "name": "stderr",
     "output_type": "stream",
     "text": [
      "WARNING:chemschematicresolver.actions:No SMILES string was extracted for diagram 1\n",
      "WARNING:chemschematicresolver.extract:Some SMILES strings were determined to be false positives and were removed from the output.\n"
     ]
    },
    {
     "name": "stdout",
     "output_type": "stream",
     "text": [
      "extract image:  ./elsevier_images/test/image/465_gr5.jpeg\n"
     ]
    },
    {
     "name": "stderr",
     "output_type": "stream",
     "text": [
      "WARNING:chemschematicresolver.extract:Confidence of label 1 deemed too low for extraction\n"
     ]
    },
    {
     "name": "stdout",
     "output_type": "stream",
     "text": [
      "extract image:  ./elsevier_images/test/image/465_gr6.jpeg\n"
     ]
    },
    {
     "name": "stderr",
     "output_type": "stream",
     "text": [
      "WARNING:chemschematicresolver.actions:No SMILES string was extracted for diagram 4\n",
      "WARNING:chemschematicresolver.actions:No SMILES string was extracted for diagram 5\n",
      "WARNING:chemschematicresolver.extract:Some SMILES strings were determined to be false positives and were removed from the output.\n"
     ]
    },
    {
     "name": "stdout",
     "output_type": "stream",
     "text": [
      "extract image:  ./elsevier_images/test/image/465_gr7.jpeg\n",
      "Runtime error, no smiles\n",
      "extract image:  ./elsevier_images/test/image/465_sc1.jpeg\n",
      "extract image:  ./elsevier_images/test/image/466_fx1.jpeg\n"
     ]
    },
    {
     "name": "stderr",
     "output_type": "stream",
     "text": [
      "WARNING:chemschematicresolver.extract:Confidence of label 3 deemed too low for extraction\n"
     ]
    },
    {
     "name": "stdout",
     "output_type": "stream",
     "text": [
      "extract image:  ./elsevier_images/test/image/466_gr1.jpeg\n"
     ]
    },
    {
     "name": "stderr",
     "output_type": "stream",
     "text": [
      "WARNING:chemschematicresolver.actions:No SMILES string was extracted for diagram 3\n",
      "WARNING:chemschematicresolver.extract:Some SMILES strings were determined to be false positives and were removed from the output.\n"
     ]
    },
    {
     "name": "stdout",
     "output_type": "stream",
     "text": [
      "extract image:  ./elsevier_images/test/image/466_gr2.jpeg\n"
     ]
    },
    {
     "name": "stderr",
     "output_type": "stream",
     "text": [
      "WARNING:chemschematicresolver.extract:Confidence of label 1 deemed too low for extraction\n"
     ]
    },
    {
     "name": "stdout",
     "output_type": "stream",
     "text": [
      "extract image:  ./elsevier_images/test/image/466_gr3.jpeg\n"
     ]
    },
    {
     "name": "stderr",
     "output_type": "stream",
     "text": [
      "WARNING:chemschematicresolver.actions:No SMILES string was extracted for diagram 4\n",
      "WARNING:chemschematicresolver.extract:Confidence of label 2 deemed too low for extraction\n",
      "WARNING:chemschematicresolver.extract:Some SMILES strings were determined to be false positives and were removed from the output.\n"
     ]
    },
    {
     "name": "stdout",
     "output_type": "stream",
     "text": [
      "extract image:  ./elsevier_images/test/image/466_gr4.jpeg\n"
     ]
    },
    {
     "name": "stderr",
     "output_type": "stream",
     "text": [
      "WARNING:chemschematicresolver.actions:No SMILES string was extracted for diagram 2\n",
      "WARNING:chemschematicresolver.extract:Some SMILES strings were determined to be false positives and were removed from the output.\n"
     ]
    },
    {
     "name": "stdout",
     "output_type": "stream",
     "text": [
      "extract image:  ./elsevier_images/test/image/466_gr5.jpeg\n"
     ]
    },
    {
     "name": "stderr",
     "output_type": "stream",
     "text": [
      "WARNING:chemschematicresolver.actions:No SMILES string was extracted for diagram 2\n",
      "WARNING:chemschematicresolver.extract:Some SMILES strings were determined to be false positives and were removed from the output.\n"
     ]
    },
    {
     "name": "stdout",
     "output_type": "stream",
     "text": [
      "extract image:  ./elsevier_images/test/image/466_gr6.jpeg\n",
      "extract image:  ./elsevier_images/test/image/466_sc1.jpeg\n",
      "extract image:  ./elsevier_images/test/image/466_sc2.jpeg\n",
      "extract image:  ./elsevier_images/test/image/467_fx1.jpeg\n"
     ]
    },
    {
     "name": "stderr",
     "output_type": "stream",
     "text": [
      "WARNING:chemschematicresolver.extract:Confidence of label 1 deemed too low for extraction\n",
      "WARNING:chemschematicresolver.actions:No SMILES string was extracted for diagram 3\n",
      "WARNING:chemschematicresolver.extract:Some SMILES strings were determined to be false positives and were removed from the output.\n"
     ]
    },
    {
     "name": "stdout",
     "output_type": "stream",
     "text": [
      "extract image:  ./elsevier_images/test/image/467_gr1.jpeg\n"
     ]
    },
    {
     "name": "stderr",
     "output_type": "stream",
     "text": [
      "WARNING:chemschematicresolver.extract:Confidence of label 2 deemed too low for extraction\n",
      "WARNING:chemschematicresolver.actions:No SMILES string was extracted for diagram 4\n",
      "WARNING:chemschematicresolver.extract:Some SMILES strings were determined to be false positives and were removed from the output.\n"
     ]
    },
    {
     "name": "stdout",
     "output_type": "stream",
     "text": [
      "extract image:  ./elsevier_images/test/image/467_gr2.jpeg\n"
     ]
    },
    {
     "name": "stderr",
     "output_type": "stream",
     "text": [
      "WARNING:chemschematicresolver.extract:Confidence of label 3 deemed too low for extraction\n",
      "WARNING:chemschematicresolver.actions:No SMILES string was extracted for diagram 8\n",
      "WARNING:chemschematicresolver.extract:Confidence of label 4 deemed too low for extraction\n",
      "WARNING:chemschematicresolver.extract:Some SMILES strings were determined to be false positives and were removed from the output.\n"
     ]
    },
    {
     "name": "stdout",
     "output_type": "stream",
     "text": [
      "extract image:  ./elsevier_images/test/image/467_gr3.jpeg\n"
     ]
    },
    {
     "name": "stderr",
     "output_type": "stream",
     "text": [
      "WARNING:chemschematicresolver.actions:No SMILES string was extracted for diagram 2\n",
      "WARNING:chemschematicresolver.extract:Some SMILES strings were determined to be false positives and were removed from the output.\n"
     ]
    },
    {
     "name": "stdout",
     "output_type": "stream",
     "text": [
      "extract image:  ./elsevier_images/test/image/467_gr4.jpeg\n"
     ]
    },
    {
     "name": "stderr",
     "output_type": "stream",
     "text": [
      "WARNING:chemschematicresolver.extract:Confidence of label 1 deemed too low for extraction\n"
     ]
    },
    {
     "name": "stdout",
     "output_type": "stream",
     "text": [
      "extract image:  ./elsevier_images/test/image/467_gr5.jpeg\n"
     ]
    },
    {
     "name": "stderr",
     "output_type": "stream",
     "text": [
      "WARNING:chemschematicresolver.extract:Confidence of label 1 deemed too low for extraction\n",
      "WARNING:chemschematicresolver.actions:No SMILES string was extracted for diagram 2\n",
      "WARNING:chemschematicresolver.extract:Some SMILES strings were determined to be false positives and were removed from the output.\n"
     ]
    },
    {
     "name": "stdout",
     "output_type": "stream",
     "text": [
      "extract image:  ./elsevier_images/test/image/467_gr6.jpeg\n"
     ]
    },
    {
     "name": "stderr",
     "output_type": "stream",
     "text": [
      "WARNING:chemschematicresolver.actions:No SMILES string was extracted for diagram 4\n",
      "WARNING:chemschematicresolver.extract:Confidence of label 0 deemed too low for extraction\n",
      "WARNING:chemschematicresolver.extract:Some SMILES strings were determined to be false positives and were removed from the output.\n"
     ]
    },
    {
     "name": "stdout",
     "output_type": "stream",
     "text": [
      "extract image:  ./elsevier_images/test/image/467_gr7.jpeg\n",
      "extract image:  ./elsevier_images/test/image/467_sc1.jpeg\n"
     ]
    },
    {
     "name": "stderr",
     "output_type": "stream",
     "text": [
      "WARNING:chemschematicresolver.extract:Confidence of label 0 deemed too low for extraction\n"
     ]
    },
    {
     "name": "stdout",
     "output_type": "stream",
     "text": [
      "extract image:  ./elsevier_images/test/image/468_fx1.jpeg\n"
     ]
    },
    {
     "name": "stderr",
     "output_type": "stream",
     "text": [
      "WARNING:chemschematicresolver.actions:No SMILES string was extracted for diagram 2\n",
      "WARNING:chemschematicresolver.extract:Confidence of label 0 deemed too low for extraction\n",
      "WARNING:chemschematicresolver.extract:Some SMILES strings were determined to be false positives and were removed from the output.\n"
     ]
    },
    {
     "name": "stdout",
     "output_type": "stream",
     "text": [
      "extract image:  ./elsevier_images/test/image/468_gr1.jpeg\n"
     ]
    },
    {
     "name": "stderr",
     "output_type": "stream",
     "text": [
      "WARNING:chemschematicresolver.actions:No SMILES string was extracted for diagram 6\n",
      "WARNING:chemschematicresolver.actions:No SMILES string was extracted for diagram 7\n",
      "WARNING:chemschematicresolver.extract:Some SMILES strings were determined to be false positives and were removed from the output.\n"
     ]
    },
    {
     "name": "stdout",
     "output_type": "stream",
     "text": [
      "extract image:  ./elsevier_images/test/image/468_gr2.jpeg\n"
     ]
    },
    {
     "name": "stderr",
     "output_type": "stream",
     "text": [
      "WARNING:chemschematicresolver.extract:Confidence of label 12 deemed too low for extraction\n",
      "WARNING:chemschematicresolver.actions:No SMILES string was extracted for diagram 20\n",
      "WARNING:chemschematicresolver.actions:No SMILES string was extracted for diagram 22\n",
      "WARNING:chemschematicresolver.actions:No SMILES string was extracted for diagram 21\n",
      "WARNING:chemschematicresolver.actions:No SMILES string was extracted for diagram 34\n",
      "WARNING:chemschematicresolver.extract:Confidence of label 9 deemed too low for extraction\n",
      "WARNING:chemschematicresolver.actions:No SMILES string was extracted for diagram 35\n",
      "WARNING:chemschematicresolver.extract:Confidence of label 0 deemed too low for extraction\n",
      "WARNING:chemschematicresolver.extract:Some SMILES strings were determined to be false positives and were removed from the output.\n"
     ]
    },
    {
     "name": "stdout",
     "output_type": "stream",
     "text": [
      "extract image:  ./elsevier_images/test/image/468_gr3.jpeg\n",
      "extract image:  ./elsevier_images/test/image/468_gr4.jpeg\n",
      "extract image:  ./elsevier_images/test/image/468_gr5.jpeg\n"
     ]
    },
    {
     "name": "stderr",
     "output_type": "stream",
     "text": [
      "WARNING:chemschematicresolver.extract:Confidence of label 2 deemed too low for extraction\n",
      "WARNING:chemschematicresolver.actions:No SMILES string was extracted for diagram 8\n",
      "WARNING:chemschematicresolver.actions:No SMILES string was extracted for diagram 7\n",
      "WARNING:chemschematicresolver.extract:Some SMILES strings were determined to be false positives and were removed from the output.\n"
     ]
    },
    {
     "name": "stdout",
     "output_type": "stream",
     "text": [
      "extract image:  ./elsevier_images/test/image/469_fx1.jpeg\n"
     ]
    },
    {
     "name": "stderr",
     "output_type": "stream",
     "text": [
      "WARNING:chemschematicresolver.actions:No SMILES string was extracted for diagram 17\n",
      "WARNING:chemschematicresolver.actions:No SMILES string was extracted for diagram 13\n",
      "WARNING:chemschematicresolver.actions:No SMILES string was extracted for diagram 14\n",
      "WARNING:chemschematicresolver.extract:Some SMILES strings were determined to be false positives and were removed from the output.\n"
     ]
    },
    {
     "name": "stdout",
     "output_type": "stream",
     "text": [
      "extract image:  ./elsevier_images/test/image/469_gr1.jpeg\n",
      "extract image:  ./elsevier_images/test/image/469_gr2.jpeg\n",
      "extract image:  ./elsevier_images/test/image/469_gr3.jpeg\n",
      "extract image:  ./elsevier_images/test/image/469_gr4.jpeg\n",
      "extract image:  ./elsevier_images/test/image/469_gr5.jpeg\n",
      "extract image:  ./elsevier_images/test/image/470_fx1.jpeg\n"
     ]
    },
    {
     "name": "stderr",
     "output_type": "stream",
     "text": [
      "WARNING:chemschematicresolver.extract:Confidence of label 5 deemed too low for extraction\n",
      "WARNING:chemschematicresolver.extract:Confidence of label 1 deemed too low for extraction\n"
     ]
    },
    {
     "name": "stdout",
     "output_type": "stream",
     "text": [
      "extract image:  ./elsevier_images/test/image/470_gr1.jpeg\n",
      "extract image:  ./elsevier_images/test/image/470_gr10.jpeg\n",
      "extract image:  ./elsevier_images/test/image/470_gr2.jpeg\n"
     ]
    },
    {
     "name": "stderr",
     "output_type": "stream",
     "text": [
      "WARNING:chemschematicresolver.extract:Confidence of label 3 deemed too low for extraction\n",
      "WARNING:chemschematicresolver.extract:Confidence of label 2 deemed too low for extraction\n"
     ]
    },
    {
     "name": "stdout",
     "output_type": "stream",
     "text": [
      "extract image:  ./elsevier_images/test/image/470_gr3.jpeg\n"
     ]
    },
    {
     "name": "stderr",
     "output_type": "stream",
     "text": [
      "WARNING:chemschematicresolver.extract:Confidence of label 3 deemed too low for extraction\n",
      "WARNING:chemschematicresolver.extract:Confidence of label 1 deemed too low for extraction\n",
      "WARNING:chemschematicresolver.extract:Confidence of label 2 deemed too low for extraction\n",
      "WARNING:chemschematicresolver.extract:Confidence of label 0 deemed too low for extraction\n",
      "WARNING:chemschematicresolver.extract:Confidence of label 4 deemed too low for extraction\n"
     ]
    },
    {
     "name": "stdout",
     "output_type": "stream",
     "text": [
      "extract image:  ./elsevier_images/test/image/470_gr4.jpeg\n",
      "extract image:  ./elsevier_images/test/image/470_gr5.jpeg\n",
      "extract image:  ./elsevier_images/test/image/470_gr6.jpeg\n",
      "extract image:  ./elsevier_images/test/image/470_gr7.jpeg\n"
     ]
    },
    {
     "name": "stderr",
     "output_type": "stream",
     "text": [
      "WARNING:chemschematicresolver.actions:No SMILES string was extracted for diagram 1\n",
      "WARNING:chemschematicresolver.extract:Some SMILES strings were determined to be false positives and were removed from the output.\n"
     ]
    },
    {
     "name": "stdout",
     "output_type": "stream",
     "text": [
      "extract image:  ./elsevier_images/test/image/470_gr8.jpeg\n"
     ]
    },
    {
     "name": "stderr",
     "output_type": "stream",
     "text": [
      "WARNING:chemschematicresolver.extract:Confidence of label 1 deemed too low for extraction\n"
     ]
    },
    {
     "name": "stdout",
     "output_type": "stream",
     "text": [
      "extract image:  ./elsevier_images/test/image/470_gr9.jpeg\n",
      "extract image:  ./elsevier_images/test/image/470_sc1.jpeg\n",
      "extract image:  ./elsevier_images/test/image/470_sc2.jpeg\n",
      "extract image:  ./elsevier_images/test/image/470_sc3.jpeg\n",
      "extract image:  ./elsevier_images/test/image/470_sc4.jpeg\n"
     ]
    },
    {
     "name": "stderr",
     "output_type": "stream",
     "text": [
      "WARNING:chemschematicresolver.extract:Confidence of label 4 deemed too low for extraction\n"
     ]
    },
    {
     "name": "stdout",
     "output_type": "stream",
     "text": [
      "extract image:  ./elsevier_images/test/image/471_fx1.jpeg\n"
     ]
    },
    {
     "name": "stderr",
     "output_type": "stream",
     "text": [
      "WARNING:chemschematicresolver.extract:Confidence of label 5 deemed too low for extraction\n",
      "WARNING:chemschematicresolver.actions:No SMILES string was extracted for diagram 9\n",
      "WARNING:chemschematicresolver.actions:No SMILES string was extracted for diagram 7\n",
      "WARNING:chemschematicresolver.actions:No SMILES string was extracted for diagram 8\n",
      "WARNING:chemschematicresolver.actions:No SMILES string was extracted for diagram 10\n",
      "WARNING:chemschematicresolver.extract:Confidence of label 6 deemed too low for extraction\n",
      "WARNING:chemschematicresolver.extract:Some SMILES strings were determined to be false positives and were removed from the output.\n"
     ]
    },
    {
     "name": "stdout",
     "output_type": "stream",
     "text": [
      "extract image:  ./elsevier_images/test/image/471_gr1.jpeg\n",
      "extract image:  ./elsevier_images/test/image/471_gr2.jpeg\n",
      "extract image:  ./elsevier_images/test/image/471_gr3.jpeg\n"
     ]
    },
    {
     "name": "stderr",
     "output_type": "stream",
     "text": [
      "WARNING:chemschematicresolver.actions:No SMILES string was extracted for diagram 5\n",
      "WARNING:chemschematicresolver.extract:Some SMILES strings were determined to be false positives and were removed from the output.\n"
     ]
    },
    {
     "name": "stdout",
     "output_type": "stream",
     "text": [
      "extract image:  ./elsevier_images/test/image/471_gr4.jpeg\n"
     ]
    },
    {
     "name": "stderr",
     "output_type": "stream",
     "text": [
      "WARNING:chemschematicresolver.actions:No SMILES string was extracted for diagram 3\n",
      "WARNING:chemschematicresolver.extract:Some SMILES strings were determined to be false positives and were removed from the output.\n"
     ]
    },
    {
     "name": "stdout",
     "output_type": "stream",
     "text": [
      "extract image:  ./elsevier_images/test/image/471_gr5.jpeg\n",
      "extract image:  ./elsevier_images/test/image/471_gr6.jpeg\n"
     ]
    },
    {
     "name": "stderr",
     "output_type": "stream",
     "text": [
      "WARNING:chemschematicresolver.extract:Confidence of label 9 deemed too low for extraction\n",
      "WARNING:chemschematicresolver.extract:Confidence of label 8 deemed too low for extraction\n",
      "WARNING:chemschematicresolver.actions:No SMILES string was extracted for diagram 13\n",
      "WARNING:chemschematicresolver.actions:No SMILES string was extracted for diagram 12\n",
      "WARNING:chemschematicresolver.extract:Some SMILES strings were determined to be false positives and were removed from the output.\n"
     ]
    },
    {
     "name": "stdout",
     "output_type": "stream",
     "text": [
      "extract image:  ./elsevier_images/test/image/471_gr7.jpeg\n"
     ]
    },
    {
     "name": "stderr",
     "output_type": "stream",
     "text": [
      "WARNING:chemschematicresolver.actions:No SMILES string was extracted for diagram 9\n",
      "WARNING:chemschematicresolver.actions:No SMILES string was extracted for diagram 10\n",
      "WARNING:chemschematicresolver.extract:Some SMILES strings were determined to be false positives and were removed from the output.\n"
     ]
    },
    {
     "name": "stdout",
     "output_type": "stream",
     "text": [
      "extract image:  ./elsevier_images/test/image/471_gr8.jpeg\n"
     ]
    },
    {
     "name": "stderr",
     "output_type": "stream",
     "text": [
      "WARNING:chemschematicresolver.actions:No SMILES string was extracted for diagram 3\n",
      "WARNING:chemschematicresolver.actions:No SMILES string was extracted for diagram 2\n",
      "WARNING:chemschematicresolver.extract:Some SMILES strings were determined to be false positives and were removed from the output.\n"
     ]
    },
    {
     "name": "stdout",
     "output_type": "stream",
     "text": [
      "extract image:  ./elsevier_images/test/image/471_sc1.jpeg\n",
      "extract image:  ./elsevier_images/test/image/472_fx1.jpeg\n",
      "Runtime error, no smiles\n",
      "extract image:  ./elsevier_images/test/image/472_gr1.jpeg\n",
      "extract image:  ./elsevier_images/test/image/472_gr2.jpeg\n"
     ]
    },
    {
     "name": "stderr",
     "output_type": "stream",
     "text": [
      "WARNING:chemschematicresolver.extract:Confidence of label 3 deemed too low for extraction\n",
      "WARNING:chemschematicresolver.extract:Confidence of label 2 deemed too low for extraction\n"
     ]
    },
    {
     "name": "stdout",
     "output_type": "stream",
     "text": [
      "extract image:  ./elsevier_images/test/image/472_gr3.jpeg\n"
     ]
    },
    {
     "name": "stderr",
     "output_type": "stream",
     "text": [
      "WARNING:chemschematicresolver.extract:Confidence of label 4 deemed too low for extraction\n"
     ]
    },
    {
     "name": "stdout",
     "output_type": "stream",
     "text": [
      "extract image:  ./elsevier_images/test/image/472_gr4.jpeg\n"
     ]
    },
    {
     "name": "stderr",
     "output_type": "stream",
     "text": [
      "WARNING:chemschematicresolver.extract:Confidence of label 1 deemed too low for extraction\n"
     ]
    },
    {
     "name": "stdout",
     "output_type": "stream",
     "text": [
      "extract image:  ./elsevier_images/test/image/472_gr5.jpeg\n",
      "extract image:  ./elsevier_images/test/image/472_gr6.jpeg\n"
     ]
    },
    {
     "name": "stderr",
     "output_type": "stream",
     "text": [
      "WARNING:chemschematicresolver.extract:Confidence of label 1 deemed too low for extraction\n",
      "WARNING:chemschematicresolver.actions:No SMILES string was extracted for diagram 6\n",
      "WARNING:chemschematicresolver.extract:Some SMILES strings were determined to be false positives and were removed from the output.\n"
     ]
    },
    {
     "name": "stdout",
     "output_type": "stream",
     "text": [
      "extract image:  ./elsevier_images/test/image/472_sc1.jpeg\n",
      "extract image:  ./elsevier_images/test/image/473_fx1.jpeg\n",
      "extract image:  ./elsevier_images/test/image/473_gr1.jpeg\n",
      "extract image:  ./elsevier_images/test/image/473_gr10.jpeg\n"
     ]
    },
    {
     "name": "stderr",
     "output_type": "stream",
     "text": [
      "WARNING:chemschematicresolver.extract:Confidence of label 3 deemed too low for extraction\n",
      "WARNING:chemschematicresolver.extract:Confidence of label 4 deemed too low for extraction\n",
      "WARNING:chemschematicresolver.actions:No SMILES string was extracted for diagram 7\n",
      "WARNING:chemschematicresolver.extract:Confidence of label 2 deemed too low for extraction\n",
      "WARNING:chemschematicresolver.extract:Some SMILES strings were determined to be false positives and were removed from the output.\n"
     ]
    },
    {
     "name": "stdout",
     "output_type": "stream",
     "text": [
      "extract image:  ./elsevier_images/test/image/473_gr11.jpeg\n",
      "extract image:  ./elsevier_images/test/image/473_gr12.jpeg\n"
     ]
    },
    {
     "name": "stderr",
     "output_type": "stream",
     "text": [
      "WARNING:chemschematicresolver.actions:No SMILES string was extracted for diagram 11\n",
      "WARNING:chemschematicresolver.actions:No SMILES string was extracted for diagram 12\n",
      "WARNING:chemschematicresolver.actions:No SMILES string was extracted for diagram 14\n",
      "WARNING:chemschematicresolver.actions:No SMILES string was extracted for diagram 13\n",
      "WARNING:chemschematicresolver.extract:Some SMILES strings were determined to be false positives and were removed from the output.\n"
     ]
    },
    {
     "name": "stdout",
     "output_type": "stream",
     "text": [
      "extract image:  ./elsevier_images/test/image/473_gr2.jpeg\n",
      "extract image:  ./elsevier_images/test/image/473_gr3.jpeg\n"
     ]
    },
    {
     "name": "stderr",
     "output_type": "stream",
     "text": [
      "WARNING:chemschematicresolver.extract:Confidence of label 0 deemed too low for extraction\n"
     ]
    },
    {
     "name": "stdout",
     "output_type": "stream",
     "text": [
      "extract image:  ./elsevier_images/test/image/473_gr4.jpeg\n"
     ]
    },
    {
     "name": "stderr",
     "output_type": "stream",
     "text": [
      "WARNING:chemschematicresolver.extract:Confidence of label 0 deemed too low for extraction\n"
     ]
    },
    {
     "name": "stdout",
     "output_type": "stream",
     "text": [
      "extract image:  ./elsevier_images/test/image/473_gr5.jpeg\n"
     ]
    },
    {
     "name": "stderr",
     "output_type": "stream",
     "text": [
      "WARNING:chemschematicresolver.actions:No SMILES string was extracted for diagram 2\n",
      "WARNING:chemschematicresolver.actions:No SMILES string was extracted for diagram 3\n",
      "WARNING:chemschematicresolver.extract:Some SMILES strings were determined to be false positives and were removed from the output.\n"
     ]
    },
    {
     "name": "stdout",
     "output_type": "stream",
     "text": [
      "extract image:  ./elsevier_images/test/image/473_gr6.jpeg\n"
     ]
    },
    {
     "name": "stderr",
     "output_type": "stream",
     "text": [
      "WARNING:chemschematicresolver.actions:No SMILES string was extracted for diagram 51\n",
      "WARNING:chemschematicresolver.actions:No SMILES string was extracted for diagram 54\n",
      "WARNING:chemschematicresolver.extract:Confidence of label 14 deemed too low for extraction\n",
      "WARNING:chemschematicresolver.extract:Confidence of label 25 deemed too low for extraction\n",
      "WARNING:chemschematicresolver.extract:Confidence of label 29 deemed too low for extraction\n",
      "WARNING:chemschematicresolver.actions:No SMILES string was extracted for diagram 31\n",
      "WARNING:chemschematicresolver.extract:Confidence of label 5 deemed too low for extraction\n",
      "WARNING:chemschematicresolver.actions:No SMILES string was extracted for diagram 55\n",
      "WARNING:chemschematicresolver.extract:Confidence of label 27 deemed too low for extraction\n",
      "WARNING:chemschematicresolver.actions:No SMILES string was extracted for diagram 41\n",
      "WARNING:chemschematicresolver.actions:No SMILES string was extracted for diagram 49\n",
      "WARNING:chemschematicresolver.extract:Confidence of label 16 deemed too low for extraction\n",
      "WARNING:chemschematicresolver.extract:Confidence of label 0 deemed too low for extraction\n",
      "WARNING:chemschematicresolver.extract:Some SMILES strings were determined to be false positives and were removed from the output.\n"
     ]
    },
    {
     "name": "stdout",
     "output_type": "stream",
     "text": [
      "extract image:  ./elsevier_images/test/image/473_gr7.jpeg\n"
     ]
    },
    {
     "name": "stderr",
     "output_type": "stream",
     "text": [
      "WARNING:chemschematicresolver.extract:Text could not be resolved from label 20\n",
      "WARNING:chemschematicresolver.extract:Confidence of label 20 deemed too low for extraction\n",
      "WARNING:chemschematicresolver.actions:No SMILES string was extracted for diagram 36\n",
      "WARNING:chemschematicresolver.extract:Text could not be resolved from label 3\n",
      "WARNING:chemschematicresolver.extract:Confidence of label 3 deemed too low for extraction\n",
      "WARNING:chemschematicresolver.extract:Text could not be resolved from label 13\n",
      "WARNING:chemschematicresolver.extract:Confidence of label 13 deemed too low for extraction\n",
      "WARNING:chemschematicresolver.extract:Confidence of label 19 deemed too low for extraction\n",
      "WARNING:chemschematicresolver.actions:No SMILES string was extracted for diagram 32\n",
      "WARNING:chemschematicresolver.extract:Confidence of label 21 deemed too low for extraction\n",
      "WARNING:chemschematicresolver.actions:No SMILES string was extracted for diagram 40\n",
      "WARNING:chemschematicresolver.actions:No SMILES string was extracted for diagram 42\n",
      "WARNING:chemschematicresolver.actions:No SMILES string was extracted for diagram 38\n",
      "WARNING:chemschematicresolver.actions:No SMILES string was extracted for diagram 29\n",
      "WARNING:chemschematicresolver.extract:Text could not be resolved from label 9\n",
      "WARNING:chemschematicresolver.extract:Confidence of label 9 deemed too low for extraction\n",
      "WARNING:chemschematicresolver.extract:Text could not be resolved from label 11\n",
      "WARNING:chemschematicresolver.extract:Confidence of label 11 deemed too low for extraction\n",
      "WARNING:chemschematicresolver.actions:No SMILES string was extracted for diagram 44\n",
      "WARNING:chemschematicresolver.extract:Some SMILES strings were determined to be false positives and were removed from the output.\n"
     ]
    },
    {
     "name": "stdout",
     "output_type": "stream",
     "text": [
      "extract image:  ./elsevier_images/test/image/473_gr8.jpeg\n"
     ]
    },
    {
     "name": "stderr",
     "output_type": "stream",
     "text": [
      "WARNING:chemschematicresolver.extract:Confidence of label 0 deemed too low for extraction\n",
      "WARNING:chemschematicresolver.actions:No SMILES string was extracted for diagram 2\n",
      "WARNING:chemschematicresolver.extract:Some SMILES strings were determined to be false positives and were removed from the output.\n"
     ]
    },
    {
     "name": "stdout",
     "output_type": "stream",
     "text": [
      "extract image:  ./elsevier_images/test/image/473_gr9.jpeg\n"
     ]
    },
    {
     "name": "stderr",
     "output_type": "stream",
     "text": [
      "WARNING:chemschematicresolver.extract:Confidence of label 0 deemed too low for extraction\n",
      "WARNING:chemschematicresolver.actions:No SMILES string was extracted for diagram 2\n",
      "WARNING:chemschematicresolver.extract:Some SMILES strings were determined to be false positives and were removed from the output.\n"
     ]
    },
    {
     "name": "stdout",
     "output_type": "stream",
     "text": [
      "extract image:  ./elsevier_images/test/image/473_sc1.jpeg\n",
      "extract image:  ./elsevier_images/test/image/474_fx1.jpeg\n",
      "extract image:  ./elsevier_images/test/image/474_gr1.jpeg\n",
      "extract image:  ./elsevier_images/test/image/474_gr2.jpeg\n"
     ]
    },
    {
     "name": "stderr",
     "output_type": "stream",
     "text": [
      "WARNING:chemschematicresolver.extract:Confidence of label 0 deemed too low for extraction\n"
     ]
    },
    {
     "name": "stdout",
     "output_type": "stream",
     "text": [
      "extract image:  ./elsevier_images/test/image/474_gr3.jpeg\n"
     ]
    },
    {
     "name": "stderr",
     "output_type": "stream",
     "text": [
      "WARNING:chemschematicresolver.actions:No SMILES string was extracted for diagram 2\n",
      "WARNING:chemschematicresolver.extract:Confidence of label 0 deemed too low for extraction\n",
      "WARNING:chemschematicresolver.extract:Some SMILES strings were determined to be false positives and were removed from the output.\n"
     ]
    },
    {
     "name": "stdout",
     "output_type": "stream",
     "text": [
      "extract image:  ./elsevier_images/test/image/474_gr4.jpeg\n",
      "Runtime error, no smiles\n",
      "extract image:  ./elsevier_images/test/image/474_gr5.jpeg\n",
      "extract image:  ./elsevier_images/test/image/474_sc1.jpeg\n",
      "extract image:  ./elsevier_images/test/image/474_Xue_Gong_Polymer_solar_cells_2017_P01.jpeg\n",
      "extract image:  ./elsevier_images/test/image/474_Xue_Gong_Polymer_solar_cells_2017_P02.jpeg\n",
      "extract image:  ./elsevier_images/test/image/474_Xue_Gong_Polymer_solar_cells_2017_P03.jpeg\n",
      "extract image:  ./elsevier_images/test/image/474_Xue_Gong_Polymer_solar_cells_2017_P04.jpeg\n",
      "extract image:  ./elsevier_images/test/image/474_Xue_Gong_Polymer_solar_cells_2017_P05.jpeg\n",
      "extract image:  ./elsevier_images/test/image/474_Xue_Gong_Polymer_solar_cells_2017_P06.jpeg\n",
      "extract image:  ./elsevier_images/test/image/474_Xue_Gong_Polymer_solar_cells_2017_P07.jpeg\n",
      "extract image:  ./elsevier_images/test/image/474_Xue_Gong_Polymer_solar_cells_2017_P08.jpeg\n",
      "extract image:  ./elsevier_images/test/image/474_Xue_Gong_Polymer_solar_cells_2017_P09.jpeg\n",
      "extract image:  ./elsevier_images/test/image/474_Xue_Gong_Polymer_solar_cells_2017_P10.jpeg\n",
      "extract image:  ./elsevier_images/test/image/474_Xue_Gong_Polymer_solar_cells_2017_P11.jpeg\n",
      "extract image:  ./elsevier_images/test/image/474_Xue_Gong_Polymer_solar_cells_2017_P12.jpeg\n",
      "extract image:  ./elsevier_images/test/image/474_Xue_Gong_Polymer_solar_cells_2017_P13.jpeg\n",
      "extract image:  ./elsevier_images/test/image/474_Xue_Gong_Polymer_solar_cells_2017_P14.jpeg\n",
      "extract image:  ./elsevier_images/test/image/474_Xue_Gong_Polymer_solar_cells_2017_P15.jpeg\n",
      "extract image:  ./elsevier_images/test/image/474_Xue_Gong_Polymer_solar_cells_2017_P16.jpeg\n",
      "extract image:  ./elsevier_images/test/image/474_Xue_Gong_Polymer_solar_cells_2017_P17.jpeg\n",
      "extract image:  ./elsevier_images/test/image/474_Xue_Gong_Polymer_solar_cells_2017_P18.jpeg\n",
      "extract image:  ./elsevier_images/test/image/475_fx1.jpeg\n"
     ]
    },
    {
     "name": "stderr",
     "output_type": "stream",
     "text": [
      "WARNING:chemschematicresolver.actions:No SMILES string was extracted for diagram 6\n",
      "WARNING:chemschematicresolver.extract:Some SMILES strings were determined to be false positives and were removed from the output.\n"
     ]
    },
    {
     "name": "stdout",
     "output_type": "stream",
     "text": [
      "extract image:  ./elsevier_images/test/image/475_gr1.jpeg\n"
     ]
    },
    {
     "name": "stderr",
     "output_type": "stream",
     "text": [
      "WARNING:chemschematicresolver.actions:No SMILES string was extracted for diagram 13\n",
      "WARNING:chemschematicresolver.actions:No SMILES string was extracted for diagram 15\n",
      "WARNING:chemschematicresolver.extract:Confidence of label 5 deemed too low for extraction\n",
      "WARNING:chemschematicresolver.extract:Some SMILES strings were determined to be false positives and were removed from the output.\n"
     ]
    },
    {
     "name": "stdout",
     "output_type": "stream",
     "text": [
      "extract image:  ./elsevier_images/test/image/475_gr10.jpeg\n",
      "extract image:  ./elsevier_images/test/image/475_gr11.jpeg\n"
     ]
    },
    {
     "name": "stderr",
     "output_type": "stream",
     "text": [
      "WARNING:chemschematicresolver.actions:No SMILES string was extracted for diagram 7\n",
      "WARNING:chemschematicresolver.actions:No SMILES string was extracted for diagram 9\n",
      "WARNING:chemschematicresolver.actions:No SMILES string was extracted for diagram 8\n",
      "WARNING:chemschematicresolver.extract:Some SMILES strings were determined to be false positives and were removed from the output.\n"
     ]
    },
    {
     "name": "stdout",
     "output_type": "stream",
     "text": [
      "extract image:  ./elsevier_images/test/image/475_gr2.jpeg\n"
     ]
    },
    {
     "name": "stderr",
     "output_type": "stream",
     "text": [
      "WARNING:chemschematicresolver.extract:Confidence of label 0 deemed too low for extraction\n"
     ]
    },
    {
     "name": "stdout",
     "output_type": "stream",
     "text": [
      "extract image:  ./elsevier_images/test/image/475_gr3.jpeg\n",
      "extract image:  ./elsevier_images/test/image/475_gr4.jpeg\n",
      "extract image:  ./elsevier_images/test/image/475_gr5.jpeg\n"
     ]
    },
    {
     "name": "stderr",
     "output_type": "stream",
     "text": [
      "WARNING:chemschematicresolver.actions:No SMILES string was extracted for diagram 11\n",
      "WARNING:chemschematicresolver.extract:Confidence of label 6 deemed too low for extraction\n",
      "WARNING:chemschematicresolver.actions:No SMILES string was extracted for diagram 13\n",
      "WARNING:chemschematicresolver.extract:Some SMILES strings were determined to be false positives and were removed from the output.\n"
     ]
    },
    {
     "name": "stdout",
     "output_type": "stream",
     "text": [
      "extract image:  ./elsevier_images/test/image/475_gr6.jpeg\n",
      "extract image:  ./elsevier_images/test/image/475_gr7.jpeg\n"
     ]
    },
    {
     "name": "stderr",
     "output_type": "stream",
     "text": [
      "WARNING:chemschematicresolver.extract:Confidence of label 0 deemed too low for extraction\n",
      "WARNING:chemschematicresolver.actions:No SMILES string was extracted for diagram 10\n",
      "WARNING:chemschematicresolver.actions:No SMILES string was extracted for diagram 9\n",
      "WARNING:chemschematicresolver.extract:Some SMILES strings were determined to be false positives and were removed from the output.\n"
     ]
    },
    {
     "name": "stdout",
     "output_type": "stream",
     "text": [
      "extract image:  ./elsevier_images/test/image/475_gr8.jpeg\n"
     ]
    },
    {
     "name": "stderr",
     "output_type": "stream",
     "text": [
      "WARNING:chemschematicresolver.actions:No SMILES string was extracted for diagram 11\n",
      "WARNING:chemschematicresolver.actions:No SMILES string was extracted for diagram 10\n",
      "WARNING:chemschematicresolver.extract:Some SMILES strings were determined to be false positives and were removed from the output.\n"
     ]
    },
    {
     "name": "stdout",
     "output_type": "stream",
     "text": [
      "extract image:  ./elsevier_images/test/image/475_gr9.jpeg\n"
     ]
    },
    {
     "name": "stderr",
     "output_type": "stream",
     "text": [
      "WARNING:chemschematicresolver.extract:Confidence of label 0 deemed too low for extraction\n",
      "WARNING:chemschematicresolver.actions:No SMILES string was extracted for diagram 9\n",
      "WARNING:chemschematicresolver.extract:Some SMILES strings were determined to be false positives and were removed from the output.\n"
     ]
    },
    {
     "name": "stdout",
     "output_type": "stream",
     "text": [
      "extract image:  ./elsevier_images/test/image/475_sc1.jpeg\n",
      "extract image:  ./elsevier_images/test/image/484_fx1.jpeg\n"
     ]
    },
    {
     "name": "stderr",
     "output_type": "stream",
     "text": [
      "WARNING:chemschematicresolver.extract:Confidence of label 1 deemed too low for extraction\n"
     ]
    },
    {
     "name": "stdout",
     "output_type": "stream",
     "text": [
      "extract image:  ./elsevier_images/test/image/484_gr1.jpeg\n",
      "extract image:  ./elsevier_images/test/image/484_gr2.jpeg\n"
     ]
    },
    {
     "name": "stderr",
     "output_type": "stream",
     "text": [
      "WARNING:chemschematicresolver.extract:Confidence of label 0 deemed too low for extraction\n"
     ]
    },
    {
     "name": "stdout",
     "output_type": "stream",
     "text": [
      "extract image:  ./elsevier_images/test/image/484_gr3.jpeg\n"
     ]
    },
    {
     "name": "stderr",
     "output_type": "stream",
     "text": [
      "WARNING:chemschematicresolver.extract:Confidence of label 0 deemed too low for extraction\n"
     ]
    },
    {
     "name": "stdout",
     "output_type": "stream",
     "text": [
      "extract image:  ./elsevier_images/test/image/484_gr4.jpeg\n"
     ]
    },
    {
     "name": "stderr",
     "output_type": "stream",
     "text": [
      "WARNING:chemschematicresolver.actions:No SMILES string was extracted for diagram 1\n",
      "WARNING:chemschematicresolver.extract:Some SMILES strings were determined to be false positives and were removed from the output.\n"
     ]
    },
    {
     "name": "stdout",
     "output_type": "stream",
     "text": [
      "extract image:  ./elsevier_images/test/image/484_gr5.jpeg\n"
     ]
    },
    {
     "name": "stderr",
     "output_type": "stream",
     "text": [
      "WARNING:chemschematicresolver.actions:No SMILES string was extracted for diagram 15\n",
      "WARNING:chemschematicresolver.actions:No SMILES string was extracted for diagram 10\n",
      "WARNING:chemschematicresolver.actions:No SMILES string was extracted for diagram 19\n",
      "WARNING:chemschematicresolver.actions:No SMILES string was extracted for diagram 11\n",
      "WARNING:chemschematicresolver.actions:No SMILES string was extracted for diagram 16\n",
      "WARNING:chemschematicresolver.extract:Some SMILES strings were determined to be false positives and were removed from the output.\n"
     ]
    },
    {
     "name": "stdout",
     "output_type": "stream",
     "text": [
      "extract image:  ./elsevier_images/test/image/484_gr6.jpeg\n",
      "extract image:  ./elsevier_images/test/image/484_gr7.jpeg\n"
     ]
    },
    {
     "name": "stderr",
     "output_type": "stream",
     "text": [
      "WARNING:chemschematicresolver.actions:No SMILES string was extracted for diagram 4\n",
      "WARNING:chemschematicresolver.extract:Confidence of label 2 deemed too low for extraction\n",
      "WARNING:chemschematicresolver.extract:Some SMILES strings were determined to be false positives and were removed from the output.\n"
     ]
    },
    {
     "name": "stdout",
     "output_type": "stream",
     "text": [
      "extract image:  ./elsevier_images/test/image/484_gr8.jpeg\n",
      "Runtime error, no smiles\n",
      "extract image:  ./elsevier_images/test/image/484_gr9.jpeg\n",
      "extract image:  ./elsevier_images/test/image/484_sc1.jpeg\n",
      "extract image:  ./elsevier_images/test/image/485_fx1.jpeg\n",
      "Runtime error, no smiles\n",
      "extract image:  ./elsevier_images/test/image/485_gr1.jpeg\n",
      "extract image:  ./elsevier_images/test/image/485_gr2.jpeg\n"
     ]
    },
    {
     "name": "stderr",
     "output_type": "stream",
     "text": [
      "WARNING:chemschematicresolver.actions:No SMILES string was extracted for diagram 5\n",
      "WARNING:chemschematicresolver.extract:Confidence of label 0 deemed too low for extraction\n",
      "WARNING:chemschematicresolver.extract:Some SMILES strings were determined to be false positives and were removed from the output.\n"
     ]
    },
    {
     "name": "stdout",
     "output_type": "stream",
     "text": [
      "extract image:  ./elsevier_images/test/image/485_gr3.jpeg\n"
     ]
    },
    {
     "name": "stderr",
     "output_type": "stream",
     "text": [
      "WARNING:chemschematicresolver.actions:No SMILES string was extracted for diagram 5\n",
      "WARNING:chemschematicresolver.extract:Confidence of label 1 deemed too low for extraction\n",
      "WARNING:chemschematicresolver.extract:Some SMILES strings were determined to be false positives and were removed from the output.\n"
     ]
    },
    {
     "name": "stdout",
     "output_type": "stream",
     "text": [
      "extract image:  ./elsevier_images/test/image/485_gr4.jpeg\n",
      "extract image:  ./elsevier_images/test/image/485_gr5.jpeg\n",
      "extract image:  ./elsevier_images/test/image/485_gr6.jpeg\n"
     ]
    },
    {
     "name": "stderr",
     "output_type": "stream",
     "text": [
      "WARNING:chemschematicresolver.actions:No SMILES string was extracted for diagram 11\n",
      "WARNING:chemschematicresolver.extract:Confidence of label 3 deemed too low for extraction\n",
      "WARNING:chemschematicresolver.extract:Confidence of label 0 deemed too low for extraction\n",
      "WARNING:chemschematicresolver.extract:Some SMILES strings were determined to be false positives and were removed from the output.\n"
     ]
    },
    {
     "name": "stdout",
     "output_type": "stream",
     "text": [
      "extract image:  ./elsevier_images/test/image/485_gr7.jpeg\n"
     ]
    },
    {
     "name": "stderr",
     "output_type": "stream",
     "text": [
      "WARNING:chemschematicresolver.actions:No SMILES string was extracted for diagram 6\n",
      "WARNING:chemschematicresolver.extract:Confidence of label 5 deemed too low for extraction\n",
      "WARNING:chemschematicresolver.actions:No SMILES string was extracted for diagram 8\n",
      "WARNING:chemschematicresolver.extract:Some SMILES strings were determined to be false positives and were removed from the output.\n"
     ]
    },
    {
     "name": "stdout",
     "output_type": "stream",
     "text": [
      "extract image:  ./elsevier_images/test/image/485_gr8.jpeg\n",
      "extract image:  ./elsevier_images/test/image/485_sc1.jpeg\n",
      "extract image:  ./elsevier_images/test/image/486_fx1.jpeg\n"
     ]
    },
    {
     "name": "stderr",
     "output_type": "stream",
     "text": [
      "WARNING:chemschematicresolver.actions:No SMILES string was extracted for diagram 7\n",
      "WARNING:chemschematicresolver.extract:Confidence of label 2 deemed too low for extraction\n",
      "WARNING:chemschematicresolver.extract:Confidence of label 0 deemed too low for extraction\n",
      "WARNING:chemschematicresolver.extract:Some SMILES strings were determined to be false positives and were removed from the output.\n"
     ]
    },
    {
     "name": "stdout",
     "output_type": "stream",
     "text": [
      "extract image:  ./elsevier_images/test/image/486_gr1.jpeg\n"
     ]
    },
    {
     "name": "stderr",
     "output_type": "stream",
     "text": [
      "WARNING:chemschematicresolver.actions:No SMILES string was extracted for diagram 6\n",
      "WARNING:chemschematicresolver.actions:No SMILES string was extracted for diagram 7\n",
      "WARNING:chemschematicresolver.extract:Some SMILES strings were determined to be false positives and were removed from the output.\n"
     ]
    },
    {
     "name": "stdout",
     "output_type": "stream",
     "text": [
      "extract image:  ./elsevier_images/test/image/486_gr2.jpeg\n",
      "Runtime error, no smiles\n",
      "extract image:  ./elsevier_images/test/image/486_gr3.jpeg\n",
      "extract image:  ./elsevier_images/test/image/486_gr4.jpeg\n",
      "extract image:  ./elsevier_images/test/image/486_gr5.jpeg\n",
      "extract image:  ./elsevier_images/test/image/486_gr6.jpeg\n"
     ]
    },
    {
     "name": "stderr",
     "output_type": "stream",
     "text": [
      "WARNING:chemschematicresolver.r_group:No SMILES strings were extracted for diagram 46\n",
      "WARNING:chemschematicresolver.r_group:No SMILES strings were extracted for diagram 49\n",
      "WARNING:chemschematicresolver.actions:No SMILES string was extracted for diagram 45\n",
      "WARNING:chemschematicresolver.actions:No SMILES string was extracted for diagram 48\n",
      "WARNING:chemschematicresolver.actions:No SMILES string was extracted for diagram 52\n",
      "WARNING:chemschematicresolver.actions:No SMILES string was extracted for diagram 47\n",
      "WARNING:chemschematicresolver.actions:No SMILES string was extracted for diagram 51\n",
      "WARNING:chemschematicresolver.extract:Text could not be resolved from label 18\n",
      "WARNING:chemschematicresolver.extract:Confidence of label 18 deemed too low for extraction\n",
      "WARNING:chemschematicresolver.actions:No SMILES string was extracted for diagram 44\n",
      "WARNING:chemschematicresolver.actions:No SMILES string was extracted for diagram 54\n",
      "WARNING:chemschematicresolver.actions:No SMILES string was extracted for diagram 43\n",
      "WARNING:chemschematicresolver.extract:Some SMILES strings were determined to be false positives and were removed from the output.\n"
     ]
    },
    {
     "name": "stdout",
     "output_type": "stream",
     "text": [
      "extract image:  ./elsevier_images/test/image/486_sc1.jpeg\n",
      "extract image:  ./elsevier_images/test/enhanced_image/498_fx1.jpeg\n"
     ]
    },
    {
     "name": "stderr",
     "output_type": "stream",
     "text": [
      "WARNING:chemschematicresolver.extract:Text could not be resolved from label 2\n",
      "WARNING:chemschematicresolver.extract:Confidence of label 2 deemed too low for extraction\n",
      "WARNING:chemschematicresolver.extract:Text could not be resolved from label 0\n",
      "WARNING:chemschematicresolver.extract:Confidence of label 0 deemed too low for extraction\n"
     ]
    },
    {
     "name": "stdout",
     "output_type": "stream",
     "text": [
      "extract image:  ./elsevier_images/test/enhanced_image/498_gr1.jpeg\n"
     ]
    },
    {
     "name": "stderr",
     "output_type": "stream",
     "text": [
      "WARNING:chemschematicresolver.extract:Some SMILES strings were determined to be false positives and were removed from the output.\n"
     ]
    },
    {
     "name": "stdout",
     "output_type": "stream",
     "text": [
      "extract image:  ./elsevier_images/test/enhanced_image/498_gr2.jpeg\n"
     ]
    },
    {
     "name": "stderr",
     "output_type": "stream",
     "text": [
      "WARNING:chemschematicresolver.extract:Confidence of label 0 deemed too low for extraction\n"
     ]
    },
    {
     "name": "stdout",
     "output_type": "stream",
     "text": [
      "extract image:  ./elsevier_images/test/image/498_gr3.jpeg\n"
     ]
    },
    {
     "name": "stderr",
     "output_type": "stream",
     "text": [
      "WARNING:chemschematicresolver.extract:Confidence of label 3 deemed too low for extraction\n",
      "WARNING:chemschematicresolver.extract:Text could not be resolved from label 1\n",
      "WARNING:chemschematicresolver.extract:Confidence of label 1 deemed too low for extraction\n",
      "WARNING:chemschematicresolver.extract:Confidence of label 4 deemed too low for extraction\n",
      "WARNING:chemschematicresolver.extract:Text could not be resolved from label 0\n",
      "WARNING:chemschematicresolver.extract:Confidence of label 0 deemed too low for extraction\n"
     ]
    },
    {
     "name": "stdout",
     "output_type": "stream",
     "text": [
      "extract image:  ./elsevier_images/test/image/498_gr4.jpeg\n"
     ]
    },
    {
     "name": "stderr",
     "output_type": "stream",
     "text": [
      "WARNING:chemschematicresolver.extract:Confidence of label 2 deemed too low for extraction\n",
      "WARNING:chemschematicresolver.extract:Confidence of label 3 deemed too low for extraction\n",
      "WARNING:chemschematicresolver.extract:Confidence of label 6 deemed too low for extraction\n",
      "WARNING:chemschematicresolver.actions:No SMILES string was extracted for diagram 25\n",
      "WARNING:chemschematicresolver.extract:Confidence of label 9 deemed too low for extraction\n",
      "WARNING:chemschematicresolver.extract:Confidence of label 0 deemed too low for extraction\n",
      "WARNING:chemschematicresolver.extract:Confidence of label 7 deemed too low for extraction\n",
      "WARNING:chemschematicresolver.actions:No SMILES string was extracted for diagram 15\n",
      "WARNING:chemschematicresolver.extract:Confidence of label 4 deemed too low for extraction\n",
      "WARNING:chemschematicresolver.extract:Confidence of label 5 deemed too low for extraction\n",
      "WARNING:chemschematicresolver.extract:Some SMILES strings were determined to be false positives and were removed from the output.\n"
     ]
    },
    {
     "name": "stdout",
     "output_type": "stream",
     "text": [
      "extract image:  ./elsevier_images/test/enhanced_image/498_gr5.jpeg\n",
      "Runtime error, no smiles\n",
      "extract image:  ./elsevier_images/test/enhanced_image/498_gr6.jpeg\n"
     ]
    },
    {
     "name": "stderr",
     "output_type": "stream",
     "text": [
      "WARNING:chemschematicresolver.extract:Confidence of label 0 deemed too low for extraction\n"
     ]
    },
    {
     "name": "stdout",
     "output_type": "stream",
     "text": [
      "extract image:  ./elsevier_images/test/enhanced_image/498_gr7.jpeg\n"
     ]
    },
    {
     "name": "stderr",
     "output_type": "stream",
     "text": [
      "WARNING:chemschematicresolver.extract:Confidence of label 0 deemed too low for extraction\n"
     ]
    },
    {
     "name": "stdout",
     "output_type": "stream",
     "text": [
      "extract image:  ./elsevier_images/test/enhanced_image/498_gr8.jpeg\n"
     ]
    },
    {
     "name": "stderr",
     "output_type": "stream",
     "text": [
      "WARNING:chemschematicresolver.extract:Confidence of label 0 deemed too low for extraction\n"
     ]
    },
    {
     "name": "stdout",
     "output_type": "stream",
     "text": [
      "extract image:  ./elsevier_images/test/image/498_sc1.jpeg\n"
     ]
    },
    {
     "name": "stderr",
     "output_type": "stream",
     "text": [
      "WARNING:chemschematicresolver.extract:Confidence of label 16 deemed too low for extraction\n",
      "WARNING:chemschematicresolver.extract:Confidence of label 12 deemed too low for extraction\n",
      "WARNING:chemschematicresolver.extract:Confidence of label 17 deemed too low for extraction\n"
     ]
    },
    {
     "name": "stdout",
     "output_type": "stream",
     "text": [
      "extract image:  ./elsevier_images/test/enhanced_image/499_fx1.jpeg\n"
     ]
    },
    {
     "name": "stderr",
     "output_type": "stream",
     "text": [
      "WARNING:chemschematicresolver.extract:Confidence of label 0 deemed too low for extraction\n"
     ]
    },
    {
     "name": "stdout",
     "output_type": "stream",
     "text": [
      "extract image:  ./elsevier_images/test/enhanced_image/499_gr1.jpeg\n"
     ]
    },
    {
     "name": "stderr",
     "output_type": "stream",
     "text": [
      "WARNING:chemschematicresolver.actions:No SMILES string was extracted for diagram 6\n",
      "WARNING:chemschematicresolver.actions:No SMILES string was extracted for diagram 8\n",
      "WARNING:chemschematicresolver.actions:No SMILES string was extracted for diagram 7\n",
      "WARNING:chemschematicresolver.actions:No SMILES string was extracted for diagram 9\n",
      "WARNING:chemschematicresolver.extract:Some SMILES strings were determined to be false positives and were removed from the output.\n"
     ]
    },
    {
     "name": "stdout",
     "output_type": "stream",
     "text": [
      "extract image:  ./elsevier_images/test/enhanced_image/499_gr2.jpeg\n"
     ]
    },
    {
     "name": "stderr",
     "output_type": "stream",
     "text": [
      "WARNING:chemschematicresolver.extract:Confidence of label 0 deemed too low for extraction\n",
      "WARNING:chemschematicresolver.actions:No SMILES string was extracted for diagram 9\n",
      "WARNING:chemschematicresolver.extract:Confidence of label 6 deemed too low for extraction\n",
      "WARNING:chemschematicresolver.extract:Some SMILES strings were determined to be false positives and were removed from the output.\n"
     ]
    },
    {
     "name": "stdout",
     "output_type": "stream",
     "text": [
      "extract image:  ./elsevier_images/test/image/499_gr3.jpeg\n"
     ]
    },
    {
     "name": "stderr",
     "output_type": "stream",
     "text": [
      "WARNING:chemschematicresolver.extract:Confidence of label 14 deemed too low for extraction\n",
      "WARNING:chemschematicresolver.extract:Confidence of label 11 deemed too low for extraction\n",
      "WARNING:chemschematicresolver.extract:Confidence of label 10 deemed too low for extraction\n",
      "WARNING:chemschematicresolver.extract:Confidence of label 6 deemed too low for extraction\n"
     ]
    },
    {
     "name": "stdout",
     "output_type": "stream",
     "text": [
      "extract image:  ./elsevier_images/test/image/499_gr4.jpeg\n"
     ]
    },
    {
     "name": "stderr",
     "output_type": "stream",
     "text": [
      "WARNING:chemschematicresolver.extract:Confidence of label 20 deemed too low for extraction\n",
      "WARNING:chemschematicresolver.extract:Confidence of label 13 deemed too low for extraction\n",
      "WARNING:chemschematicresolver.extract:Confidence of label 15 deemed too low for extraction\n",
      "WARNING:chemschematicresolver.actions:No SMILES string was extracted for diagram 22\n",
      "WARNING:chemschematicresolver.extract:Confidence of label 12 deemed too low for extraction\n",
      "WARNING:chemschematicresolver.actions:No SMILES string was extracted for diagram 25\n",
      "WARNING:chemschematicresolver.extract:Confidence of label 16 deemed too low for extraction\n",
      "WARNING:chemschematicresolver.extract:Some SMILES strings were determined to be false positives and were removed from the output.\n"
     ]
    },
    {
     "name": "stdout",
     "output_type": "stream",
     "text": [
      "extract image:  ./elsevier_images/test/image/499_gr5.jpeg\n",
      "Runtime error, no smiles\n",
      "extract image:  ./elsevier_images/test/enhanced_image/499_gr6.jpeg\n"
     ]
    },
    {
     "name": "stderr",
     "output_type": "stream",
     "text": [
      "WARNING:chemschematicresolver.extract:Confidence of label 0 deemed too low for extraction\n",
      "WARNING:chemschematicresolver.actions:No SMILES string was extracted for diagram 21\n",
      "WARNING:chemschematicresolver.actions:No SMILES string was extracted for diagram 14\n",
      "WARNING:chemschematicresolver.actions:No SMILES string was extracted for diagram 18\n",
      "WARNING:chemschematicresolver.extract:Confidence of label 5 deemed too low for extraction\n",
      "WARNING:chemschematicresolver.extract:Confidence of label 6 deemed too low for extraction\n",
      "WARNING:chemschematicresolver.actions:No SMILES string was extracted for diagram 11\n",
      "WARNING:chemschematicresolver.extract:Confidence of label 3 deemed too low for extraction\n",
      "WARNING:chemschematicresolver.extract:Some SMILES strings were determined to be false positives and were removed from the output.\n"
     ]
    },
    {
     "name": "stdout",
     "output_type": "stream",
     "text": [
      "extract image:  ./elsevier_images/test/image/499_gr7.jpeg\n"
     ]
    },
    {
     "name": "stderr",
     "output_type": "stream",
     "text": [
      "WARNING:chemschematicresolver.extract:Confidence of label 17 deemed too low for extraction\n",
      "WARNING:chemschematicresolver.extract:Confidence of label 22 deemed too low for extraction\n",
      "WARNING:chemschematicresolver.extract:Confidence of label 26 deemed too low for extraction\n",
      "WARNING:chemschematicresolver.extract:Confidence of label 23 deemed too low for extraction\n",
      "WARNING:chemschematicresolver.actions:No SMILES string was extracted for diagram 39\n",
      "WARNING:chemschematicresolver.extract:Confidence of label 20 deemed too low for extraction\n",
      "WARNING:chemschematicresolver.actions:No SMILES string was extracted for diagram 31\n",
      "WARNING:chemschematicresolver.extract:Text could not be resolved from label 3\n",
      "WARNING:chemschematicresolver.extract:Confidence of label 3 deemed too low for extraction\n",
      "WARNING:chemschematicresolver.actions:No SMILES string was extracted for diagram 35\n",
      "WARNING:chemschematicresolver.extract:Confidence of label 16 deemed too low for extraction\n",
      "WARNING:chemschematicresolver.extract:Confidence of label 14 deemed too low for extraction\n",
      "WARNING:chemschematicresolver.extract:Confidence of label 27 deemed too low for extraction\n",
      "WARNING:chemschematicresolver.extract:Confidence of label 8 deemed too low for extraction\n",
      "WARNING:chemschematicresolver.extract:Some SMILES strings were determined to be false positives and were removed from the output.\n"
     ]
    },
    {
     "name": "stdout",
     "output_type": "stream",
     "text": [
      "extract image:  ./elsevier_images/test/enhanced_image/499_sc1.jpeg\n",
      "extract image:  ./elsevier_images/test/enhanced_image/500_gr1.jpeg\n"
     ]
    },
    {
     "name": "stderr",
     "output_type": "stream",
     "text": [
      "WARNING:chemschematicresolver.actions:No SMILES string was extracted for diagram 3\n",
      "WARNING:chemschematicresolver.actions:No SMILES string was extracted for diagram 5\n",
      "WARNING:chemschematicresolver.extract:Some SMILES strings were determined to be false positives and were removed from the output.\n"
     ]
    },
    {
     "name": "stdout",
     "output_type": "stream",
     "text": [
      "extract image:  ./elsevier_images/test/enhanced_image/500_gr2.jpeg\n"
     ]
    },
    {
     "name": "stderr",
     "output_type": "stream",
     "text": [
      "WARNING:chemschematicresolver.actions:No SMILES string was extracted for diagram 5\n",
      "WARNING:chemschematicresolver.actions:No SMILES string was extracted for diagram 6\n",
      "WARNING:chemschematicresolver.actions:No SMILES string was extracted for diagram 7\n",
      "WARNING:chemschematicresolver.extract:Some SMILES strings were determined to be false positives and were removed from the output.\n"
     ]
    },
    {
     "name": "stdout",
     "output_type": "stream",
     "text": [
      "extract image:  ./elsevier_images/test/enhanced_image/500_gr3.jpeg\n"
     ]
    },
    {
     "name": "stderr",
     "output_type": "stream",
     "text": [
      "WARNING:chemschematicresolver.actions:No SMILES string was extracted for diagram 7\n",
      "WARNING:chemschematicresolver.actions:No SMILES string was extracted for diagram 6\n",
      "WARNING:chemschematicresolver.extract:Some SMILES strings were determined to be false positives and were removed from the output.\n"
     ]
    },
    {
     "name": "stdout",
     "output_type": "stream",
     "text": [
      "extract image:  ./elsevier_images/test/enhanced_image/500_gr4.jpeg\n"
     ]
    },
    {
     "name": "stderr",
     "output_type": "stream",
     "text": [
      "WARNING:chemschematicresolver.actions:No SMILES string was extracted for diagram 2\n",
      "WARNING:chemschematicresolver.extract:Some SMILES strings were determined to be false positives and were removed from the output.\n"
     ]
    },
    {
     "name": "stdout",
     "output_type": "stream",
     "text": [
      "extract image:  ./elsevier_images/test/enhanced_image/500_gr5.jpeg\n"
     ]
    },
    {
     "name": "stderr",
     "output_type": "stream",
     "text": [
      "WARNING:chemschematicresolver.actions:No SMILES string was extracted for diagram 7\n",
      "WARNING:chemschematicresolver.actions:No SMILES string was extracted for diagram 6\n",
      "WARNING:chemschematicresolver.extract:Confidence of label 4 deemed too low for extraction\n",
      "WARNING:chemschematicresolver.extract:Confidence of label 0 deemed too low for extraction\n",
      "WARNING:chemschematicresolver.actions:No SMILES string was extracted for diagram 8\n",
      "WARNING:chemschematicresolver.extract:Some SMILES strings were determined to be false positives and were removed from the output.\n"
     ]
    },
    {
     "name": "stdout",
     "output_type": "stream",
     "text": [
      "extract image:  ./elsevier_images/test/image/500_gr6.jpeg\n"
     ]
    },
    {
     "name": "stderr",
     "output_type": "stream",
     "text": [
      "WARNING:chemschematicresolver.actions:No SMILES string was extracted for diagram 18\n",
      "WARNING:chemschematicresolver.extract:Confidence of label 6 deemed too low for extraction\n",
      "WARNING:chemschematicresolver.extract:Confidence of label 8 deemed too low for extraction\n",
      "WARNING:chemschematicresolver.extract:Confidence of label 10 deemed too low for extraction\n",
      "WARNING:chemschematicresolver.extract:Confidence of label 12 deemed too low for extraction\n",
      "WARNING:chemschematicresolver.extract:Confidence of label 9 deemed too low for extraction\n",
      "WARNING:chemschematicresolver.extract:Confidence of label 11 deemed too low for extraction\n",
      "WARNING:chemschematicresolver.extract:Some SMILES strings were determined to be false positives and were removed from the output.\n"
     ]
    },
    {
     "name": "stdout",
     "output_type": "stream",
     "text": [
      "extract image:  ./elsevier_images/test/image/500_gr7.jpeg\n"
     ]
    },
    {
     "name": "stderr",
     "output_type": "stream",
     "text": [
      "WARNING:chemschematicresolver.extract:Confidence of label 0 deemed too low for extraction\n",
      "WARNING:chemschematicresolver.extract:Confidence of label 5 deemed too low for extraction\n",
      "WARNING:chemschematicresolver.extract:Confidence of label 2 deemed too low for extraction\n",
      "WARNING:chemschematicresolver.actions:No SMILES string was extracted for diagram 8\n",
      "WARNING:chemschematicresolver.extract:Some SMILES strings were determined to be false positives and were removed from the output.\n"
     ]
    },
    {
     "name": "stdout",
     "output_type": "stream",
     "text": [
      "extract image:  ./elsevier_images/test/image/500_gr8.jpeg\n"
     ]
    },
    {
     "name": "stderr",
     "output_type": "stream",
     "text": [
      "WARNING:chemschematicresolver.extract:Confidence of label 11 deemed too low for extraction\n",
      "WARNING:chemschematicresolver.extract:Confidence of label 13 deemed too low for extraction\n",
      "WARNING:chemschematicresolver.extract:Confidence of label 14 deemed too low for extraction\n",
      "WARNING:chemschematicresolver.actions:No SMILES string was extracted for diagram 15\n",
      "WARNING:chemschematicresolver.extract:Confidence of label 0 deemed too low for extraction\n",
      "WARNING:chemschematicresolver.extract:Some SMILES strings were determined to be false positives and were removed from the output.\n"
     ]
    },
    {
     "name": "stdout",
     "output_type": "stream",
     "text": [
      "extract image:  ./elsevier_images/test/enhanced_image/500_sc1.jpeg\n"
     ]
    },
    {
     "name": "stderr",
     "output_type": "stream",
     "text": [
      "WARNING:chemschematicresolver.extract:Confidence of label 6 deemed too low for extraction\n",
      "WARNING:chemschematicresolver.extract:Confidence of label 8 deemed too low for extraction\n",
      "WARNING:chemschematicresolver.actions:No SMILES string was extracted for diagram 16\n",
      "WARNING:chemschematicresolver.actions:No SMILES string was extracted for diagram 15\n",
      "WARNING:chemschematicresolver.extract:Some SMILES strings were determined to be false positives and were removed from the output.\n"
     ]
    },
    {
     "name": "stdout",
     "output_type": "stream",
     "text": [
      "extract image:  ./elsevier_images/test/enhanced_image/500_sc2.jpeg\n"
     ]
    },
    {
     "name": "stderr",
     "output_type": "stream",
     "text": [
      "WARNING:chemschematicresolver.extract:Confidence of label 0 deemed too low for extraction\n",
      "WARNING:chemschematicresolver.extract:Confidence of label 3 deemed too low for extraction\n",
      "WARNING:chemschematicresolver.extract:Confidence of label 1 deemed too low for extraction\n"
     ]
    },
    {
     "name": "stdout",
     "output_type": "stream",
     "text": [
      "extract image:  ./elsevier_images/test/image/501_fx1.jpeg\n"
     ]
    },
    {
     "name": "stderr",
     "output_type": "stream",
     "text": [
      "WARNING:chemschematicresolver.actions:No SMILES string was extracted for diagram 2\n",
      "WARNING:chemschematicresolver.extract:Some SMILES strings were determined to be false positives and were removed from the output.\n"
     ]
    },
    {
     "name": "stdout",
     "output_type": "stream",
     "text": [
      "extract image:  ./elsevier_images/test/image/501_gr1.jpeg\n"
     ]
    },
    {
     "name": "stderr",
     "output_type": "stream",
     "text": [
      "WARNING:chemschematicresolver.actions:No SMILES string was extracted for diagram 4\n",
      "WARNING:chemschematicresolver.actions:No SMILES string was extracted for diagram 5\n",
      "WARNING:chemschematicresolver.extract:Some SMILES strings were determined to be false positives and were removed from the output.\n"
     ]
    },
    {
     "name": "stdout",
     "output_type": "stream",
     "text": [
      "extract image:  ./elsevier_images/test/image/501_gr2.jpeg\n"
     ]
    },
    {
     "name": "stderr",
     "output_type": "stream",
     "text": [
      "WARNING:chemschematicresolver.extract:Confidence of label 0 deemed too low for extraction\n",
      "WARNING:chemschematicresolver.actions:No SMILES string was extracted for diagram 3\n",
      "WARNING:chemschematicresolver.extract:Some SMILES strings were determined to be false positives and were removed from the output.\n"
     ]
    },
    {
     "name": "stdout",
     "output_type": "stream",
     "text": [
      "extract image:  ./elsevier_images/test/image/501_gr3.jpeg\n"
     ]
    },
    {
     "name": "stderr",
     "output_type": "stream",
     "text": [
      "WARNING:chemschematicresolver.actions:No SMILES string was extracted for diagram 4\n",
      "WARNING:chemschematicresolver.actions:No SMILES string was extracted for diagram 3\n",
      "WARNING:chemschematicresolver.extract:Some SMILES strings were determined to be false positives and were removed from the output.\n"
     ]
    },
    {
     "name": "stdout",
     "output_type": "stream",
     "text": [
      "extract image:  ./elsevier_images/test/image/501_gr4.jpeg\n"
     ]
    },
    {
     "name": "stderr",
     "output_type": "stream",
     "text": [
      "WARNING:chemschematicresolver.extract:Confidence of label 7 deemed too low for extraction\n",
      "WARNING:chemschematicresolver.extract:Confidence of label 6 deemed too low for extraction\n"
     ]
    },
    {
     "name": "stdout",
     "output_type": "stream",
     "text": [
      "extract image:  ./elsevier_images/test/image/501_gr5.jpeg\n"
     ]
    },
    {
     "name": "stderr",
     "output_type": "stream",
     "text": [
      "WARNING:chemschematicresolver.actions:No SMILES string was extracted for diagram 5\n",
      "WARNING:chemschematicresolver.extract:Confidence of label 4 deemed too low for extraction\n",
      "WARNING:chemschematicresolver.extract:Some SMILES strings were determined to be false positives and were removed from the output.\n"
     ]
    },
    {
     "name": "stdout",
     "output_type": "stream",
     "text": [
      "extract image:  ./elsevier_images/test/image/501_pl1.jpeg\n"
     ]
    },
    {
     "name": "stderr",
     "output_type": "stream",
     "text": [
      "WARNING:chemschematicresolver.extract:Some SMILES strings were determined to be false positives and were removed from the output.\n"
     ]
    },
    {
     "name": "stdout",
     "output_type": "stream",
     "text": [
      "extract image:  ./elsevier_images/test/image/501_sc1.jpeg\n"
     ]
    },
    {
     "name": "stderr",
     "output_type": "stream",
     "text": [
      "WARNING:chemschematicresolver.extract:Confidence of label 1 deemed too low for extraction\n",
      "WARNING:chemschematicresolver.actions:No SMILES string was extracted for diagram 8\n",
      "WARNING:chemschematicresolver.extract:Some SMILES strings were determined to be false positives and were removed from the output.\n"
     ]
    },
    {
     "name": "stdout",
     "output_type": "stream",
     "text": [
      "extract image:  ./elsevier_images/test/image/502_fx1.jpeg\n",
      "extract image:  ./elsevier_images/test/image/502_gr1.jpeg\n",
      "extract image:  ./elsevier_images/test/image/502_gr2.jpeg\n"
     ]
    },
    {
     "name": "stderr",
     "output_type": "stream",
     "text": [
      "WARNING:chemschematicresolver.extract:Confidence of label 0 deemed too low for extraction\n"
     ]
    },
    {
     "name": "stdout",
     "output_type": "stream",
     "text": [
      "extract image:  ./elsevier_images/test/image/502_gr3.jpeg\n"
     ]
    },
    {
     "name": "stderr",
     "output_type": "stream",
     "text": [
      "WARNING:chemschematicresolver.extract:Confidence of label 2 deemed too low for extraction\n"
     ]
    },
    {
     "name": "stdout",
     "output_type": "stream",
     "text": [
      "extract image:  ./elsevier_images/test/image/502_gr4.jpeg\n"
     ]
    },
    {
     "name": "stderr",
     "output_type": "stream",
     "text": [
      "WARNING:chemschematicresolver.extract:Confidence of label 0 deemed too low for extraction\n"
     ]
    },
    {
     "name": "stdout",
     "output_type": "stream",
     "text": [
      "extract image:  ./elsevier_images/test/image/502_gr5.jpeg\n"
     ]
    },
    {
     "name": "stderr",
     "output_type": "stream",
     "text": [
      "WARNING:chemschematicresolver.actions:No SMILES string was extracted for diagram 2\n",
      "WARNING:chemschematicresolver.extract:Some SMILES strings were determined to be false positives and were removed from the output.\n"
     ]
    },
    {
     "name": "stdout",
     "output_type": "stream",
     "text": [
      "extract image:  ./elsevier_images/test/image/502_gr6.jpeg\n"
     ]
    },
    {
     "name": "stderr",
     "output_type": "stream",
     "text": [
      "WARNING:chemschematicresolver.actions:No SMILES string was extracted for diagram 2\n",
      "WARNING:chemschematicresolver.extract:Some SMILES strings were determined to be false positives and were removed from the output.\n"
     ]
    },
    {
     "name": "stdout",
     "output_type": "stream",
     "text": [
      "extract image:  ./elsevier_images/test/image/502_gr7.jpeg\n",
      "extract image:  ./elsevier_images/test/image/502_gr8.jpeg\n",
      "Runtime error, no smiles\n",
      "extract image:  ./elsevier_images/test/image/502_sc1.jpeg\n",
      "extract image:  ./elsevier_images/test/image/503_gr1.jpeg\n"
     ]
    },
    {
     "name": "stderr",
     "output_type": "stream",
     "text": [
      "WARNING:chemschematicresolver.extract:Confidence of label 0 deemed too low for extraction\n",
      "WARNING:chemschematicresolver.actions:No SMILES string was extracted for diagram 5\n",
      "WARNING:chemschematicresolver.extract:Some SMILES strings were determined to be false positives and were removed from the output.\n"
     ]
    },
    {
     "name": "stdout",
     "output_type": "stream",
     "text": [
      "extract image:  ./elsevier_images/test/image/503_gr2.jpeg\n"
     ]
    },
    {
     "name": "stderr",
     "output_type": "stream",
     "text": [
      "WARNING:chemschematicresolver.extract:Confidence of label 0 deemed too low for extraction\n"
     ]
    },
    {
     "name": "stdout",
     "output_type": "stream",
     "text": [
      "extract image:  ./elsevier_images/test/image/503_gr3.jpeg\n",
      "extract image:  ./elsevier_images/test/image/503_gr4.jpeg\n"
     ]
    },
    {
     "name": "stderr",
     "output_type": "stream",
     "text": [
      "WARNING:chemschematicresolver.actions:No SMILES string was extracted for diagram 5\n",
      "WARNING:chemschematicresolver.actions:No SMILES string was extracted for diagram 4\n",
      "WARNING:chemschematicresolver.extract:Some SMILES strings were determined to be false positives and were removed from the output.\n"
     ]
    },
    {
     "name": "stdout",
     "output_type": "stream",
     "text": [
      "extract image:  ./elsevier_images/test/image/503_gr5.jpeg\n"
     ]
    },
    {
     "name": "stderr",
     "output_type": "stream",
     "text": [
      "WARNING:chemschematicresolver.extract:Confidence of label 0 deemed too low for extraction\n"
     ]
    },
    {
     "name": "stdout",
     "output_type": "stream",
     "text": [
      "extract image:  ./elsevier_images/test/image/503_gr6.jpeg\n"
     ]
    },
    {
     "name": "stderr",
     "output_type": "stream",
     "text": [
      "WARNING:chemschematicresolver.extract:Confidence of label 2 deemed too low for extraction\n",
      "WARNING:chemschematicresolver.actions:No SMILES string was extracted for diagram 4\n",
      "WARNING:chemschematicresolver.extract:Some SMILES strings were determined to be false positives and were removed from the output.\n"
     ]
    },
    {
     "name": "stdout",
     "output_type": "stream",
     "text": [
      "extract image:  ./elsevier_images/test/image/503_sc1.jpeg\n"
     ]
    }
   ],
   "source": [
    "# put it into CSR \n",
    "smile_results = {}\n",
    "\n",
    "for img in enhanced_images:\n",
    "    \n",
    "    print('extract image: ', img)\n",
    "    result = None\n",
    "    image = cv2.imread(img)\n",
    "    if image.shape[0] * image.shape[1] > 2000 * 2000: continue\n",
    "    \n",
    "    try:\n",
    "        \n",
    "        result = csr.extract_image(img, allow_wildcards=True)\n",
    "    except:\n",
    "        print('Runtime error, no smiles')\n",
    "    \n",
    "    if result is not None and len(result):\n",
    "        smile_results[img] = result.copy()"
   ]
  },
  {
   "cell_type": "code",
   "execution_count": 6,
   "metadata": {},
   "outputs": [
    {
     "data": {
      "text/plain": [
       "79"
      ]
     },
     "execution_count": 6,
     "metadata": {},
     "output_type": "execute_result"
    }
   ],
   "source": [
    "len(smile_results)"
   ]
  },
  {
   "cell_type": "code",
   "execution_count": 7,
   "metadata": {},
   "outputs": [],
   "source": [
    "with open(\"Seaki_Elsevier_enhanced_raw_image_detections.json\", \"w\") as outfile:\n",
    "    json.dump(smile_results, outfile)"
   ]
  },
  {
   "cell_type": "code",
   "execution_count": 9,
   "metadata": {},
   "outputs": [
    {
     "data": {
      "text/plain": [
       "158"
      ]
     },
     "execution_count": 9,
     "metadata": {},
     "output_type": "execute_result"
    }
   ],
   "source": [
    "count = 0\n",
    "\n",
    "for _, v in smile_results.items():\n",
    "    count += len(v)\n",
    "\n",
    "count"
   ]
  },
  {
   "cell_type": "code",
   "execution_count": null,
   "metadata": {},
   "outputs": [],
   "source": []
  }
 ],
 "metadata": {
  "kernelspec": {
   "display_name": "Python 3",
   "language": "python",
   "name": "python3"
  },
  "language_info": {
   "codemirror_mode": {
    "name": "ipython",
    "version": 3
   },
   "file_extension": ".py",
   "mimetype": "text/x-python",
   "name": "python",
   "nbconvert_exporter": "python",
   "pygments_lexer": "ipython3",
   "version": "3.6.7"
  }
 },
 "nbformat": 4,
 "nbformat_minor": 5
}
