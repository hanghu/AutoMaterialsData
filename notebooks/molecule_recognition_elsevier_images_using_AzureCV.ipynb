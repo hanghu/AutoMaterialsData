{
 "cells": [
  {
   "cell_type": "code",
   "execution_count": 1,
   "id": "c0e3b910",
   "metadata": {},
   "outputs": [],
   "source": [
    "import sys\n",
    "import os\n",
    "sys.path.append(os.path.abspath('../automaterialsdata/'))\n",
    "\n",
    "from image_util import labeledImage\n",
    "from azureapi import AzureCVObjectDetectionAPI\n",
    "from sklearn.model_selection import train_test_split"
   ]
  },
  {
   "cell_type": "code",
   "execution_count": 9,
   "id": "1f0bed6a",
   "metadata": {},
   "outputs": [],
   "source": [
    "molecules_dir = './elsevier_images/train/image/'\n",
    "labels = ['molecule', 'microscopic_image', 'diagram']\n",
    "labels_dir = ['./elsevier_images/train/' + l + '_labels' for l in labels]\n",
    "\n",
    "labeled_images = []\n",
    "\n",
    "for file in os.listdir(molecules_dir):\n",
    "    if file.endswith(\".jpeg\"):\n",
    "        image_path = os.path.join(molecules_dir, file)\n",
    "        labeled_images.append(labeledImage(image_path))\n",
    "        \n",
    "        for i in range(len(labels)):\n",
    "            label_path = os.path.join(labels_dir[i], file.split('.')[0] + '.txt')\n",
    "            if os.path.exists(label_path):\n",
    "                #print(label_path)\n",
    "                labeled_images[-1].add_labels_from_file(labels[i], label_path)"
   ]
  },
  {
   "cell_type": "code",
   "execution_count": 3,
   "id": "4af1df47",
   "metadata": {},
   "outputs": [],
   "source": [
    "Endpoint    = 'https://westus2.api.cognitive.microsoft.com/'\n",
    "Key         = '795f6b9dd33e4549a3d03734872db8d3'\n",
    "Resource_Id = '/subscriptions/cfa7347c-f784-4a8a-b07f-e7f4b066c74c/resourceGroups/rg-amlclass-hanghu/providers/Microsoft.CognitiveServices/accounts/cv_hanghu'\n",
    "Project_Id  = '72335a00-a46a-4427-a252-1efd52da35ef'\n",
    "\n",
    "ACVObjectDetector = AzureCVObjectDetectionAPI(Endpoint, Key, Resource_Id, Project_Id)"
   ]
  },
  {
   "cell_type": "code",
   "execution_count": 4,
   "id": "4385068e",
   "metadata": {},
   "outputs": [
    {
     "name": "stdout",
     "output_type": "stream",
     "text": [
      "Creating project...\n"
     ]
    }
   ],
   "source": [
    "project_name = 'molecule_recognition_Saeki_one_labels'\n",
    "ACVObjectDetector.create_project(project_name)"
   ]
  },
  {
   "cell_type": "code",
   "execution_count": 5,
   "id": "ff1c21fb",
   "metadata": {},
   "outputs": [
    {
     "name": "stdout",
     "output_type": "stream",
     "text": [
      "Adding images...\n",
      "Adding images: batch  1\n",
      "Adding images: batch  2\n"
     ]
    }
   ],
   "source": [
    "ACVObjectDetector.upload_training_images(labeled_images)"
   ]
  },
  {
   "cell_type": "code",
   "execution_count": 4,
   "id": "f3749cb6",
   "metadata": {},
   "outputs": [],
   "source": [
    "test_molecules_dir = './elsevier_images/test/image/'\n",
    "test_labels_dir = './elsevier_images/train/label/'\n",
    "\n",
    "test_images = []\n",
    "\n",
    "for file in os.listdir(test_molecules_dir):\n",
    "    if file.endswith(\".jpeg\"):\n",
    "        image_path = os.path.join(test_molecules_dir, file)\n",
    "        test_images.append(labeledImage(image_path))"
   ]
  },
  {
   "cell_type": "code",
   "execution_count": 5,
   "id": "55569d92",
   "metadata": {},
   "outputs": [
    {
     "data": {
      "text/plain": [
       "353"
      ]
     },
     "execution_count": 5,
     "metadata": {},
     "output_type": "execute_result"
    }
   ],
   "source": [
    "len(test_images)"
   ]
  },
  {
   "cell_type": "code",
   "execution_count": 6,
   "id": "589c89d5",
   "metadata": {},
   "outputs": [],
   "source": [
    "ACVObjectDetector.publish_iteration_name = 'Iteration1'"
   ]
  },
  {
   "cell_type": "code",
   "execution_count": 7,
   "id": "89883a21",
   "metadata": {},
   "outputs": [],
   "source": [
    "ACVObjectDetector.predict_testing_images(test_images,probality_threshold=0.5)"
   ]
  },
  {
   "cell_type": "code",
   "execution_count": 10,
   "id": "16989ff9",
   "metadata": {},
   "outputs": [],
   "source": [
    "# save labels\n",
    "test_labels_dir_prefix = './elsevier_images/test/'\n",
    "test_labels_dir_affix  = '_labels'\n",
    "\n",
    "for tag in labels:\n",
    "    test_labels_dir = test_labels_dir_prefix + tag + test_labels_dir_affix\n",
    "    if not os.path.exists(test_labels_dir):\n",
    "        os.mkdir(test_labels_dir)\n",
    "\n",
    "for img in test_images:\n",
    "    for tag in img.labels.keys():\n",
    "        test_labels_dir = test_labels_dir_prefix + tag + test_labels_dir_affix\n",
    "        label_path = os.path.join(test_labels_dir, '_'.join(img.name.split('.')[:-1]) + '.txt')\n",
    "        #print(label_path)\n",
    "        img.write_labels_to_file(tag, label_path)"
   ]
  },
  {
   "cell_type": "code",
   "execution_count": 4,
   "id": "91249598",
   "metadata": {},
   "outputs": [],
   "source": [
    "# read saved_labels in\n",
    "test_dir = './elsevier_images/test/image'\n",
    "test_labels_dir = ['./elsevier_images/test/' + l + '_labels' for l in labels]\n",
    "\n",
    "test_images = []\n",
    "\n",
    "for file in os.listdir(test_dir):\n",
    "    if file.endswith(\".jpeg\"):\n",
    "        image_path = os.path.join(test_dir, file)\n",
    "        test_images.append(labeledImage(image_path))\n",
    "        \n",
    "        for i in range(len(labels)):\n",
    "            label_path = os.path.join(test_labels_dir[i], file.split('.')[0] + '.txt')\n",
    "            if os.path.exists(label_path):\n",
    "                #print(label_path)\n",
    "                test_images[-1].add_labels_from_file(labels[i], label_path)"
   ]
  },
  {
   "cell_type": "code",
   "execution_count": 8,
   "id": "7cc91a20",
   "metadata": {},
   "outputs": [
    {
     "data": {
      "text/plain": [
       "{'molecule': [[249, 112, 126, 84],\n",
       "  [244, 34, 121, 73],\n",
       "  [138, 37, 94, 51],\n",
       "  [131, 96, 133, 100],\n",
       "  [0, 11, 124, 188]]}"
      ]
     },
     "execution_count": 8,
     "metadata": {},
     "output_type": "execute_result"
    }
   ],
   "source": [
    "test_images[0].labels"
   ]
  },
  {
   "cell_type": "code",
   "execution_count": 11,
   "id": "36c52fdc",
   "metadata": {},
   "outputs": [],
   "source": [
    "# save train cropped files\n",
    "croped_dir = './elsevier_images/cropped_molecules/train'\n",
    "if not os.path.exists(croped_dir):\n",
    "    os.mkdir(croped_dir)\n",
    "\n",
    "for img in labeled_images:\n",
    "    img.save_cropped_images_based_on_labels(croped_dir, saved_tags=['molecule'])"
   ]
  },
  {
   "cell_type": "code",
   "execution_count": 12,
   "id": "9a21bb7f",
   "metadata": {},
   "outputs": [],
   "source": [
    "# save test cropped files\n",
    "croped_dir = './elsevier_images/cropped_molecules/test'\n",
    "if not os.path.exists(croped_dir):\n",
    "    os.mkdir(croped_dir)\n",
    "\n",
    "test_image_scale = 1.2\n",
    "for img in test_images:\n",
    "    img.save_cropped_images_based_on_labels(croped_dir,  scale_bbox=test_image_scale, saved_tags=['molecule'])"
   ]
  },
  {
   "cell_type": "code",
   "execution_count": null,
   "id": "af1ed4b1",
   "metadata": {},
   "outputs": [],
   "source": []
  }
 ],
 "metadata": {
  "kernelspec": {
   "display_name": "Python 3",
   "language": "python",
   "name": "python3"
  },
  "language_info": {
   "codemirror_mode": {
    "name": "ipython",
    "version": 3
   },
   "file_extension": ".py",
   "mimetype": "text/x-python",
   "name": "python",
   "nbconvert_exporter": "python",
   "pygments_lexer": "ipython3",
   "version": "3.6.11"
  }
 },
 "nbformat": 4,
 "nbformat_minor": 5
}
